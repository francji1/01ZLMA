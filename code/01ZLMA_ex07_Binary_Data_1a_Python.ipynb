{
  "nbformat": 4,
  "nbformat_minor": 0,
  "metadata": {
    "colab": {
      "private_outputs": true,
      "provenance": [],
      "include_colab_link": true
    },
    "kernelspec": {
      "name": "python3",
      "display_name": "Python 3"
    },
    "language_info": {
      "name": "python"
    }
  },
  "cells": [
    {
      "cell_type": "markdown",
      "metadata": {
        "id": "view-in-github",
        "colab_type": "text"
      },
      "source": [
        "<a href=\"https://colab.research.google.com/github/francji1/01ZLMA/blob/main/code/01ZLMA_ex07_Binary_Data_1a_Python.ipynb\" target=\"_parent\"><img src=\"https://colab.research.google.com/assets/colab-badge.svg\" alt=\"Open In Colab\"/></a>"
      ]
    },
    {
      "cell_type": "markdown",
      "metadata": {
        "id": "oD47O_0VwUBm"
      },
      "source": [
        "Exercise 07 of the course 01ZLMA.\n",
        "\n",
        "# GLM for Discrete response - Binary Data Analysis\n",
        "\n",
        "Alternative and Binomial responses"
      ]
    },
    {
      "cell_type": "markdown",
      "metadata": {
        "lines_to_next_cell": 0,
        "id": "l2EHCMAWUHT6"
      },
      "source": [
        "**Bernoulli (Alternative) Model**\n",
        "\n",
        "$$Y_{i,j} \\sim Be(\\pi_i) \\ i = 1,\\ldots,K \\ \\text{and} \\ j = 1,\\ldots, n_i.$$\n",
        "$K$ is number of groups, $n_i$ is number of observations in group $i$ and $\\sum_{i=1}^{K} n_i = N$\n",
        "$$ E[Y_{i,j}] = \\pi_i \\ \\text{and} \\ g(\\pi_i) = \\eta_i =x_i^T \\beta $$\n",
        "\n",
        "\n",
        "**Binomial Model**\n",
        "$$Y_i = \\sum_{j=1}^{n_i} Y_{i,j} \\sim Bi(n_i, \\pi_i)$$"
      ]
    },
    {
      "cell_type": "markdown",
      "metadata": {
        "id": "urFC1XzcWd1t"
      },
      "source": [
        "**Without continuos covariate (only factor variables)**\n",
        "\n",
        "$K$ is constant and $n_i \\rightarrow \\infty $\n",
        "\n",
        "**With at least one continuos covariate**\n",
        "\n",
        "$n_i \\approx 1$ ( $n_i$ is small enough) and $K \\rightarrow \\infty$\n",
        "\n"
      ]
    },
    {
      "cell_type": "markdown",
      "metadata": {
        "id": "lSgD34dQW1cE"
      },
      "source": [
        "## Link functions for binary data\n",
        "\n",
        "**Logistic function:**\n",
        "\n",
        "* The logistic function is the canonical link function for binary responses, and it is CDF of the standard logistic distribution.\n",
        "\n",
        "$$g(\\pi_i)=log(\\frac{\\pi_i}{1-\\pi_i}) $$\n",
        "\n",
        "$$\\pi_i = \\frac{1}{1+e^{-x_i^T \\beta}} = \\frac{e^{x_i^T \\beta}}{1+e^{x_i^T \\beta}} $$\n",
        "\n",
        "* **Logistic regression** is a GLM with binomial family and logit link\n",
        "\n",
        "\n",
        "**Probit function:**\n",
        "\n",
        "* The CDF of the normal distribution.\n",
        "$$\\pi_i = \\Phi({x_i^T \\beta}) $$\n",
        "\n",
        "\n",
        "**Cauchit function:**\n",
        "\n",
        "* The CDF of the Cauchy distribution\n",
        "\n",
        "$$\\pi_i = \\frac{1}{\\pi}\\text{arctan}(x_i^T \\beta) + \\frac{1}{2} $$\n",
        "\n",
        "\n",
        "**Complementary log-log (cloglog) function:**\n",
        "\n",
        "* The inverse of the conditional log-log function (CDF of the Gumbel distribution)\n",
        "\n",
        "$$\\pi_i = 1 − e^{-e^{x_i^T \\beta}}$$\n",
        "\n",
        "* The counter part of the cloglog function is log-log link function."
      ]
    },
    {
      "cell_type": "markdown",
      "source": [
        "Likelihood:\n",
        "$$L_n (\\beta, Y) = \\prod_{i=1}^{K} \\prod_{j=1}^{n_i} \\pi_i^{Y_{ij}} (1-\\pi_i)^{1-Y_{ij}}$$"
      ],
      "metadata": {
        "id": "tJarUkz7SGX2"
      }
    },
    {
      "cell_type": "code",
      "source": [],
      "metadata": {
        "id": "45QrA_BOSFdz"
      },
      "execution_count": null,
      "outputs": []
    },
    {
      "cell_type": "code",
      "source": [
        "import seaborn as sns\n",
        "import numpy as np\n",
        "import pandas as pd\n",
        "import matplotlib.pyplot as plt\n",
        "from statsmodels.genmod.families.links import Logit, Probit, Cauchy, CLogLog, LogLog\n",
        "import statsmodels.api as sm\n",
        "import statsmodels.formula.api as smf\n",
        "\n",
        "import numpy as np\n",
        "import pandas as pd\n",
        "from scipy.stats import norm\n",
        "\n",
        "import numpy as np\n",
        "import pandas as pd\n",
        "import statsmodels.formula.api as smf\n",
        "from scipy.stats import norm\n"
      ],
      "metadata": {
        "id": "sWMh4BwE7aRg"
      },
      "execution_count": null,
      "outputs": []
    },
    {
      "cell_type": "code",
      "source": [
        "# Set the display width to avoid automatic wrapping of the display\n",
        "pd.set_option('display.width', 200)\n",
        "\n",
        "# Increase maximum column width to see more data within each cell\n",
        "pd.set_option('display.max_colwidth', 50)"
      ],
      "metadata": {
        "id": "MlnLR56wCT1l"
      },
      "execution_count": null,
      "outputs": []
    },
    {
      "cell_type": "code",
      "source": [
        "# Define the link functions and names\n",
        "links = [Logit(), Probit(), Cauchy(), CLogLog(), LogLog()]\n",
        "link_names = ['logit', 'probit', 'cauchit', 'cloglog', 'loglog']\n",
        "\n",
        "# Create a sequence of x values and DataFrame\n",
        "x = np.linspace(-5, 5, 101)\n",
        "df = pd.DataFrame()\n",
        "\n",
        "for link, name in zip(links, link_names):\n",
        "    y = link.inverse(x)\n",
        "    temp_df = pd.DataFrame({'x': x, 'y': y, 'link_name': name})\n",
        "    df = pd.concat([df, temp_df])\n",
        "\n",
        "# Plotting\n",
        "plt.figure(figsize=(10, 6))\n",
        "for name in link_names:\n",
        "    subset = df[df['link_name'] == name]\n",
        "    plt.plot(subset['x'], subset['y'], label=name)\n",
        "\n",
        "plt.title('Link Functions')\n",
        "plt.xlabel('x')\n",
        "plt.ylabel('y')\n",
        "plt.legend(title='Link Function')\n",
        "\n",
        "plt.axvline(0, color='gray', linestyle='--', linewidth=1)\n",
        "plt.axhline(0, color='gray', linestyle='--', linewidth=1)\n",
        "plt.axhline(0.5, color='gray', linestyle='--', linewidth=1)\n",
        "plt.axhline(1, color='gray', linestyle='--', linewidth=1)\n",
        "plt.show()\n"
      ],
      "metadata": {
        "id": "yWi9Y2rL2P5e"
      },
      "execution_count": null,
      "outputs": []
    },
    {
      "cell_type": "markdown",
      "metadata": {
        "id": "dnlQ4vEGYGOH"
      },
      "source": [
        "## Logistic regression with Titanic dataset\n",
        "\n",
        "https://www.kaggle.com/c/titanic/data\n",
        "\n",
        "| Variable |                 Definition                 |                       Key                      |\n",
        "|:--------:|:------------------------------------------:|:----------------------------------------------:|\n",
        "| survival | Survival                                   | 0 = No, 1 = Yes                                |\n",
        "| pclass   | Ticket class                               | 1 = 1st, 2 = 2nd, 3 = 3rd                      |\n",
        "| sex      | Sex                                        |                                                |\n",
        "| Age      | Age in years                               |                                                |\n",
        "| sibsp    | # of siblings / spouses aboard the Titanic |                                                |\n",
        "| parch    | # of parents / children aboard the Titanic |                                                |\n",
        "| ticket   | Ticket number                              |                                                |\n",
        "| fare     | Passenger fare                             |                                                |\n",
        "| cabin    | Cabin number                               |                                                |\n",
        "| embarked | Port of Embarkation                        | C = Cherbourg, Q = Queenstown, S = Southampton |"
      ]
    },
    {
      "cell_type": "code",
      "metadata": {
        "id": "VxBIs-aDYMxd"
      },
      "source": [
        "# Load the Titanic dataset from seaborn package\n",
        "titanic = sns.load_dataset('titanic')\n",
        "\n",
        "# Display the first few rows of the dataset\n",
        "print(titanic.head())"
      ],
      "execution_count": null,
      "outputs": []
    },
    {
      "cell_type": "code",
      "source": [
        "# Load the R magic extension\n",
        "%load_ext rpy2.ipython"
      ],
      "metadata": {
        "id": "-q0D1FPD8NJD"
      },
      "execution_count": null,
      "outputs": []
    },
    {
      "cell_type": "code",
      "source": [
        "%%R\n",
        "install.packages(\"titanic\")\n",
        "library(titanic)"
      ],
      "metadata": {
        "id": "_3C80mr2AVGl"
      },
      "execution_count": null,
      "outputs": []
    },
    {
      "cell_type": "code",
      "source": [
        "%%R -o titanic_train -o titanic_test"
      ],
      "metadata": {
        "id": "UQxp5OkVAeoJ"
      },
      "execution_count": null,
      "outputs": []
    },
    {
      "cell_type": "code",
      "source": [
        "titanic_train"
      ],
      "metadata": {
        "id": "5mVOoGXDBHLH"
      },
      "execution_count": null,
      "outputs": []
    },
    {
      "cell_type": "code",
      "source": [
        "titanic_test"
      ],
      "metadata": {
        "id": "UNmc_AGaA9S7"
      },
      "execution_count": null,
      "outputs": []
    },
    {
      "cell_type": "code",
      "source": [
        "# Summarize the datasets\n",
        "print(\"Summary of Train Dataset (Numeric):\")\n",
        "print(titanic_train.describe())\n",
        "print(\"\\nSummary of Train Dataset (Categorical):\")\n",
        "print(titanic_train.describe(include=['O']))\n",
        "\n",
        "#print(\"\\nSummary of Test Dataset (Numeric):\")\n",
        "#print(titanic_test.describe())\n",
        "#print(\"\\nSummary of Test Dataset (Categorical):\")\n",
        "#print(titanic_test.describe(include=['O']))\n",
        "\n",
        "# Count missing values\n",
        "print(\"\\nNumber of NAs in Train Dataset:\")\n",
        "print(titanic_train.isna().sum())\n",
        "#print(\"\\nNumber of NAs in Test Dataset:\")\n",
        "#print(titanic_test.isna().sum())"
      ],
      "metadata": {
        "id": "JiFWTlDG0cQP"
      },
      "execution_count": null,
      "outputs": []
    },
    {
      "cell_type": "code",
      "metadata": {
        "id": "AfwAohjgfMvg"
      },
      "source": [],
      "execution_count": null,
      "outputs": []
    },
    {
      "cell_type": "markdown",
      "metadata": {
        "id": "TV0KbD9KZ_bz"
      },
      "source": [
        "We will modify dataset_train for our academic purpose :-)"
      ]
    },
    {
      "cell_type": "markdown",
      "metadata": {
        "id": "su9BUYSwb_HX"
      },
      "source": [
        "### Model where all covariates are discrete (Use DF called `data_dis`)"
      ]
    },
    {
      "cell_type": "code",
      "source": [
        "# Load data and select columns\n",
        "data_dis = titanic_train[['Survived', 'Pclass', 'Sex', 'Embarked']]\n",
        "\n",
        "# Convert string columns to categorical\n",
        "data_dis = data_dis.apply(lambda col: col.astype('category') if col.dtype == 'object' else col)\n",
        "print(\"Summary after conversion to categorical:\")\n",
        "print(data_dis.describe(include='all'))\n",
        "\n",
        "# Filter and transmute\n",
        "data_dis = data_dis[data_dis['Embarked'].isin(['C', 'Q', 'S'])]\n",
        "data_dis = data_dis.assign(\n",
        "    survived=data_dis['Survived'].astype('category'),\n",
        "    classes=data_dis['Pclass'].astype('category'),\n",
        "    sex=data_dis['Sex'].astype('category'),\n",
        "    embarked=data_dis['Embarked'].astype('category')\n",
        ")\n",
        "data_dis = data_dis[['survived', 'classes', 'sex', 'embarked']]\n",
        "\n"
      ],
      "metadata": {
        "id": "sLln0jLTChk1"
      },
      "execution_count": null,
      "outputs": []
    },
    {
      "cell_type": "code",
      "source": [
        "sns.countplot(x='sex', hue='survived', data=data_dis)\n",
        "\n",
        "# Output the summary and structure\n",
        "print(\"\\nSummary of final data:\")\n",
        "print(data_dis.describe(include='all'))\n",
        "print(\"\\nStructure of final data:\")\n",
        "print(data_dis.info())\n"
      ],
      "metadata": {
        "id": "weHkpUlGl3u-"
      },
      "execution_count": null,
      "outputs": []
    },
    {
      "cell_type": "code",
      "source": [
        "# Creating a contingency table and heatmap for each pair of categorical variables\n",
        "for col1 in data_dis.columns:\n",
        "    for col2 in data_dis.columns:\n",
        "        if col1 > col2:\n",
        "            contingency_table = pd.crosstab(data_dis[col1], data_dis[col2])\n",
        "            print(contingency_table)\n",
        "            print(\"-------------------\")\n",
        "            #sns.heatmap(contingency_table, annot=True, fmt=\"d\", cmap=\"YlGnBu\")\n",
        "            #plt.title(f'Contingency Table between {col1} and {col2}')\n",
        "            #plt.show()\n"
      ],
      "metadata": {
        "id": "iBboH4ZuG2ib"
      },
      "execution_count": null,
      "outputs": []
    },
    {
      "cell_type": "code",
      "source": [
        "#Print all heat maps\n",
        "fig, axes = plt.subplots(nrows=len(data_dis.columns)*(len(data_dis.columns)-1)//2, ncols=3, figsize=(18, 6*len(data_dis.columns)))\n",
        "\n",
        "row_index = 0  # Initialize row index for subplots\n",
        "for col1 in data_dis.columns:\n",
        "    for col2 in data_dis.columns:\n",
        "        if col1 > col2:  # To avoid repeated pairings and self-pairings\n",
        "            # Compute the contingency table\n",
        "            contingency_table = pd.crosstab(data_dis[col1], data_dis[col2])\n",
        "\n",
        "            # Compute row proportions (margin=1 in R's prop.table)\n",
        "            row_proportions = pd.crosstab(data_dis[col1], data_dis[col2], normalize='index') * 100\n",
        "\n",
        "            # Compute column proportions (margin=2 in R's prop.table)\n",
        "            column_proportions = pd.crosstab(data_dis[col1], data_dis[col2], normalize='columns') * 100\n",
        "\n",
        "            # Plotting the raw count contingency table\n",
        "            ax = axes[row_index, 0]\n",
        "            sns.heatmap(contingency_table, annot=True, fmt=\"d\", cmap=\"YlGnBu\", ax=ax)\n",
        "            ax.set_title(f'Counts: {col1} vs {col2}')\n",
        "            ax.set_ylabel(col1)\n",
        "            ax.set_xlabel(col2)\n",
        "\n",
        "            # Plotting row proportions\n",
        "            ax = axes[row_index, 1]\n",
        "            sns.heatmap(row_proportions, annot=True, fmt=\".2f\", cmap=\"YlGnBu\", ax=ax)\n",
        "            ax.set_title(f'Row Proportions: {col1} vs {col2}')\n",
        "            ax.set_ylabel(col1)\n",
        "            ax.set_xlabel(col2)\n",
        "\n",
        "            # Plotting column proportions\n",
        "            ax = axes[row_index, 2]\n",
        "            sns.heatmap(column_proportions, annot=True, fmt=\".2f\", cmap=\"YlGnBu\", ax=ax)\n",
        "            ax.set_title(f'Column Proportions: {col1} vs {col2}')\n",
        "            ax.set_ylabel(col1)\n",
        "            ax.set_xlabel(col2)\n",
        "\n",
        "            row_index += 1  # Increment row index for the next set of plots\n",
        "\n",
        "plt.tight_layout()\n",
        "plt.show()\n"
      ],
      "metadata": {
        "id": "bN8qFtb1HU76"
      },
      "execution_count": null,
      "outputs": []
    },
    {
      "cell_type": "markdown",
      "source": [
        "### Odds Ratio from a 2×2 Contingency Table\n",
        "\n",
        "|              | Exposure = 0 (Female) | Exposure = 1 (Male) |\n",
        "|--------------|-----------------------|----------------------|\n",
        "| Outcome = 0  |           c           |          d           |\n",
        "| Outcome = 1  |           a           |          b           |\n",
        "\n",
        "$$\n",
        "\\text{OR} = \\frac{b \\cdot c}{a \\cdot d}\n",
        "$$\n",
        "The odds of survival for males compared to females."
      ],
      "metadata": {
        "id": "8Ak7JyZV0quO"
      }
    },
    {
      "cell_type": "code",
      "source": [
        "# Manual computaion of OR\n",
        "def odds_ratio(table2x2):\n",
        "    \"\"\"Calculate the odds ratio for a 2x2 contingency table.\"\"\"\n",
        "    # Extract values from the table\n",
        "    c = table2x2.iloc[0, 0]\n",
        "    d = table2x2.iloc[0, 1]\n",
        "    a = table2x2.iloc[1, 0]\n",
        "    b = table2x2.iloc[1, 1]\n",
        "\n",
        "    # Calculate the odds ratio\n",
        "    return (b * c)/(a * d)\n"
      ],
      "metadata": {
        "id": "e67-k83dGNto"
      },
      "execution_count": null,
      "outputs": []
    },
    {
      "cell_type": "code",
      "source": [
        "# 2x2 Contingency table\n",
        "table_sex = pd.crosstab(data_dis['survived'], data_dis['sex'])\n",
        "\n",
        "# Display the contingency table\n",
        "print(\"Contingency Table for Survival vs Sex:\")\n",
        "print(table_sex)\n",
        "\n",
        "# Calculate and print the odds ratio\n",
        "or_value = odds_ratio(table_sex)\n",
        "print(f\"Odds Ratio: {or_value:.4f}\")"
      ],
      "metadata": {
        "id": "q1wcgb1rJLRw"
      },
      "execution_count": null,
      "outputs": []
    },
    {
      "cell_type": "code",
      "source": [
        "from statsmodels.stats.contingency_tables import Table2x2\n",
        "\n",
        "# Convert the crosstab to a Table2x2 object\n",
        "table_data = table_sex.values  # Extract the values from the crosstab\n",
        "table = Table2x2(table_data)\n",
        "\n",
        "# Calculate odds ratio and confidence interval\n",
        "odds_ratio = table.oddsratio\n",
        "confidence_interval = table.oddsratio_confint()\n",
        "\n",
        "print(f\"Odds Ratio: {odds_ratio}\")\n",
        "print(f\"Confidence Interval: {confidence_interval}\")"
      ],
      "metadata": {
        "id": "JICXGgTG01FP"
      },
      "execution_count": null,
      "outputs": []
    },
    {
      "cell_type": "markdown",
      "source": [
        "That means males had about 12× higher odds of dying than females.\n"
      ],
      "metadata": {
        "id": "ItYweBctyZj3"
      }
    },
    {
      "cell_type": "code",
      "source": [],
      "metadata": {
        "id": "Fpfiwytaztrh"
      },
      "execution_count": null,
      "outputs": []
    },
    {
      "cell_type": "markdown",
      "source": [
        "### Task\n",
        "Delta Method (https://en.wikipedia.org/wiki/Delta_method): Roughly, if there is a sequence of random variables \\( X_n \\) satisfying\n",
        "\n",
        "$$\n",
        "\\sqrt{n}(X_n - \\theta) \\xrightarrow{D} \\mathcal{N}(0, \\sigma^2),\n",
        "$$\n",
        "\n",
        "where $ \\theta $ and $ \\sigma^2 $ are finite-valued constants and $ \\xrightarrow{D} $ denotes **convergence in distribution**, then for any differentiable function $ g $ such that the first derivative $ g'(\\theta) $ exists and is non-zero:\n",
        "\n",
        "$$\n",
        "\\sqrt{n}(g(X_n) - g(\\theta)) \\xrightarrow{D} \\mathcal{N}\\left(0, \\sigma^2 \\cdot [g'(\\theta)]^2\\right).\n",
        "$$\n",
        "\n",
        "This result is useful for approximating the distribution of smooth (nonlinear) transformations of asymptotically normal estimators.\n",
        "\n",
        "* Assume that each cell is independent and modeled as Poisson distribution, derivate the code `se_log_or = np.sqrt(1/a + 1/b + 1/c + 1/d)` by the use of delta method.\n",
        "\n",
        "* Assume logistic regression and let\n",
        "\n",
        "  - $Y_i \\in \\{0, 1\\}$ be the binary outcome\n",
        "  - $X_i \\in \\{0, 1\\}$ be a binary predictor\n",
        "  - $\\text{logit}(p_i) = \\beta_0 + \\beta_1 X_i$\n",
        "\n",
        "  So:\n",
        "\n",
        "  - $p_i = \\mathbb{P}(Y_i = 1 | X_i)$\n",
        "\n",
        "  We organize the data into a 2×2 contingency table:\n",
        "\n",
        "| Group ($X$) | Successes ($Y=1$) | Failures ($Y=0$) | Total |\n",
        "|-------------|-------------------|------------------|--------|\n",
        "| $X=0$       | a               | b              | a+b  |\n",
        "| $X=1$       | c               | d              | c+d  |\n",
        "\n",
        "  and define:\n",
        "\n",
        "  - $\\pi_0 = \\frac{e^{\\beta_0}}{1 + e^{\\beta_0}}$\n",
        "  - $\\pi_1 = \\frac{e^{\\beta_0 + \\beta_1}}{1 + e^{\\beta_0 + \\beta_1}}$\n",
        "\n",
        "  Then the log-likelihood is:\n",
        "\n",
        "  $$\n",
        "  \\ell(\\beta_0, \\beta_1) =\n",
        "  a \\log(\\pi_0) + b \\log(1 - \\pi_0) +\n",
        "  c \\log(\\pi_1) + d \\log(1 - \\pi_1)\n",
        "  $$\n",
        "\n",
        "  Derive the Fisher Information matrix for a simple logistic regression with a **single binary predictor**, and show that the variance of the coefficient corresponds to:\n",
        "\n",
        "$$\n",
        "\\text{SE}^2(\\hat{\\beta}_1) = \\frac{1}{a} + \\frac{1}{b} + \\frac{1}{c} + \\frac{1}{d}\n",
        "$$\n",
        "\n",
        "---\n"
      ],
      "metadata": {
        "id": "ZVn8Pa2gC8Hn"
      }
    },
    {
      "cell_type": "markdown",
      "source": [],
      "metadata": {
        "id": "VfLttnDdqBj2"
      }
    },
    {
      "cell_type": "markdown",
      "source": [],
      "metadata": {
        "id": "hqsuuasXqBpo"
      }
    },
    {
      "cell_type": "code",
      "source": [
        "def combined_or_ci(data, formula='survived ~ sex'):\n",
        "    \"\"\"\n",
        "    Computes odds ratio and 95% confidence intervals using:\n",
        "    - Contingency table approximation\n",
        "    - Empirical delta method (cell-based)\n",
        "    - GLM model coefficient (Fisher Information)\n",
        "    - Exact Delta method matching Fisher Information\n",
        "    \"\"\"\n",
        "\n",
        "    # Fit logistic regression\n",
        "    model = smf.glm(formula=formula, data=data, family=sm.families.Binomial()).fit()\n",
        "\n",
        "    # Extract predictor term name (assumes 1 binary predictor)\n",
        "    term = [t for t in model.params.index if t != 'Intercept'][0]\n",
        "    beta = model.params[term]\n",
        "    se_beta = model.bse[term]\n",
        "    z = norm.ppf(0.975)\n",
        "\n",
        "    # OR and CI from regression coefficient (Fisher Information)\n",
        "    or_model = np.exp(beta)\n",
        "    ci_model = np.exp([beta - z * se_beta, beta + z * se_beta])\n",
        "\n",
        "    # Build contingency table from data\n",
        "    target, predictor = formula.split('~')\n",
        "    target = target.strip()\n",
        "    predictor = predictor.strip()\n",
        "    table = pd.crosstab(data[target], data[predictor])\n",
        "\n",
        "    # Assume format: rows=[0 (failure), 1 (success)], columns=[baseline, group]\n",
        "    a = table.iloc[1, 0]  # successes baseline\n",
        "    b = table.iloc[0, 0]  # failures baseline\n",
        "    c = table.iloc[1, 1]  # successes group\n",
        "    d = table.iloc[0, 1]  # failures group\n",
        "\n",
        "    # OR from table\n",
        "    or_tab = (a * d) / (b * c)\n",
        "    log_or_tab = np.log(or_tab)\n",
        "\n",
        "    # --- Approximate SE from table\n",
        "    se_table_approx = np.sqrt(1/a + 1/b + 1/c + 1/d)\n",
        "    ci_table_approx = np.exp([log_or_tab - z * se_table_approx, log_or_tab + z * se_table_approx])\n",
        "\n",
        "    # --- Empirical delta method (cell-based)\n",
        "    def binomial_var_log(n, x):\n",
        "        if x == 0 or n == 0:\n",
        "            return np.nan\n",
        "        p = x / n\n",
        "        return (1 - p) / (n * p)\n",
        "\n",
        "    row0 = a + b\n",
        "    row1 = c + d\n",
        "\n",
        "    var_log_a = binomial_var_log(row0, a)\n",
        "    var_log_b = binomial_var_log(row0, b)\n",
        "    var_log_c = binomial_var_log(row1, c)\n",
        "    var_log_d = binomial_var_log(row1, d)\n",
        "\n",
        "    se_empirical_delta = np.sqrt(var_log_a + var_log_b + var_log_c + var_log_d)\n",
        "    ci_empirical_delta = np.exp([log_or_tab - z * se_empirical_delta, log_or_tab + z * se_empirical_delta])\n",
        "\n",
        "    # --- Exact Delta method matching Fisher Information\n",
        "    # Group-level predictions (MLE probabilities)\n",
        "    p0_hat = a / (a + b)\n",
        "    p1_hat = c / (c + d)\n",
        "\n",
        "    var_exact_delta = (1 / ((a + b) * p0_hat * (1 - p0_hat)) +\n",
        "                       1 / ((c + d) * p1_hat * (1 - p1_hat)))\n",
        "\n",
        "    se_exact_delta = np.sqrt(var_exact_delta)\n",
        "    ci_exact_delta = np.exp([log_or_tab - z * se_exact_delta, log_or_tab + z * se_exact_delta])\n",
        "\n",
        "    return {\n",
        "        'odds_ratio_model': or_model,\n",
        "        'ci_model_fisher': ci_model,\n",
        "        'ci_table_approx': ci_table_approx,\n",
        "        'ci_empirical_delta': ci_empirical_delta,\n",
        "        'ci_exact_delta_fisher': ci_exact_delta,\n",
        "        'se_model_fisher': se_beta,\n",
        "        'se_table_approx': se_table_approx,\n",
        "        'se_empirical_delta': se_empirical_delta,\n",
        "        'se_exact_delta_fisher': se_exact_delta\n",
        "    }\n"
      ],
      "metadata": {
        "id": "m7JnJfL6tvXV"
      },
      "execution_count": null,
      "outputs": []
    },
    {
      "cell_type": "code",
      "source": [
        "res = combined_or_ci(data_dis)\n",
        "\n",
        "print(f\"Odds Ratio (model) = {res['odds_ratio_model']:.4f}\")\n",
        "print(f\"95% CI from GLM Fisher SE = [{res['ci_model_fisher'][0]:.4f}, {res['ci_model_fisher'][1]:.4f}]\")\n",
        "print(f\"95% CI Table Approx = [{res['ci_table_approx'][0]:.4f}, {res['ci_table_approx'][1]:.4f}]\")\n",
        "print(f\"95% CI Empirical Delta = [{res['ci_empirical_delta'][0]:.4f}, {res['ci_empirical_delta'][1]:.4f}]\")\n",
        "print(f\"95% CI Exact Delta (matches Fisher) = [{res['ci_exact_delta_fisher'][0]:.4f}, {res['ci_exact_delta_fisher'][1]:.4f}]\")\n"
      ],
      "metadata": {
        "id": "T8XrdpzYvTRP"
      },
      "execution_count": null,
      "outputs": []
    },
    {
      "cell_type": "markdown",
      "source": [
        "chi-squared test\n",
        "* Null hypothesis (H₀): The variables sex and survived are independent (i.e., survival does not depend on gender).\n",
        "* Alternative hypothesis (H₁): The variables are dependent (i.e., survival does depend on gender)."
      ],
      "metadata": {
        "id": "VzHY1sO00VKu"
      }
    },
    {
      "cell_type": "code",
      "source": [
        "table_sex"
      ],
      "metadata": {
        "id": "LKFHcZRPBCJr"
      },
      "execution_count": null,
      "outputs": []
    },
    {
      "cell_type": "code",
      "metadata": {
        "id": "ndIG03AM3Z-T"
      },
      "source": [
        "from scipy.stats import chi2_contingency\n",
        "\n",
        "# Perform the chi-squared test\n",
        "chi2, p_value, dof, expected = chi2_contingency(table_sex)\n",
        "\n",
        "print(f\"Chi-squared Test Statistic: {chi2:.4f}\")\n",
        "print(f\"P-value: {p_value:.4f}\")\n",
        "print(f\"Degrees of Freedom: {dof}\")\n",
        "print(\"Expected Frequencies:\")\n",
        "print(expected)\n"
      ],
      "execution_count": null,
      "outputs": []
    },
    {
      "cell_type": "code",
      "metadata": {
        "id": "-KgtZYVo3aD-"
      },
      "source": [],
      "execution_count": null,
      "outputs": []
    },
    {
      "cell_type": "markdown",
      "metadata": {
        "id": "flohDO_SBgVe"
      },
      "source": [
        "### Null model\n",
        "\n",
        "* Compute the null model (assume that the probability of survival was the same for all passangers)\n",
        "\n",
        "* How do we interpret estimated parameter?"
      ]
    },
    {
      "cell_type": "code",
      "source": [
        "# Convert 'survived' to integer for statsmodels compatibility\n",
        "#data_dis['survived'] = data_dis['survived'].astype(int)\n",
        "\n",
        "# Adding a constant term for the intercept\n",
        "#data_dis['intercept'] = 1\n",
        "\n",
        "# Define the model\n",
        "#model = sm.GLM(data_dis['survived'], data_dis[['intercept']], family=sm.families.Binomial(link=sm.genmod.families.links.logit()))\n",
        "\n",
        "data_dis['survived'] = data_dis['survived'].astype(int)\n",
        "# Define the model\n",
        "model = smf.glm(formula='survived ~ 1', family=sm.families.Binomial(link=sm.genmod.families.links.Logit()), data = data_dis)\n",
        "\n",
        "# Fit the model\n",
        "mod0 = model.fit()\n",
        "\n",
        "# Print the summary of the model\n",
        "print(mod0.summary())"
      ],
      "metadata": {
        "id": "yck3LGOClXGO"
      },
      "execution_count": null,
      "outputs": []
    },
    {
      "cell_type": "code",
      "source": [
        "# The chances of survival according to training data.\n",
        "\n",
        "odds_ratio = np.exp(mod0.params)\n",
        "print(\"Odds Ratios:\")\n",
        "print(odds_ratio)"
      ],
      "metadata": {
        "id": "G4wcTpNwlXOF"
      },
      "execution_count": null,
      "outputs": []
    },
    {
      "cell_type": "code",
      "source": [
        "# The probability of survival.\n",
        "probabilities = odds_ratio / (1 + odds_ratio)\n",
        "print(\"Probabilities:\")\n",
        "print(probabilities)"
      ],
      "metadata": {
        "id": "IygEWMlvlXQy"
      },
      "execution_count": null,
      "outputs": []
    },
    {
      "cell_type": "code",
      "source": [
        "data_dis.dtypes"
      ],
      "metadata": {
        "id": "odFICiqPiube"
      },
      "execution_count": null,
      "outputs": []
    },
    {
      "cell_type": "code",
      "source": [
        "data_dis['survived'].value_counts(normalize=True)\n"
      ],
      "metadata": {
        "id": "E6wv1ytn2Gnj"
      },
      "execution_count": null,
      "outputs": []
    },
    {
      "cell_type": "code",
      "source": [
        "np.mean(data_dis['survived'].astype(int))"
      ],
      "metadata": {
        "id": "udxXLB6UlXTe"
      },
      "execution_count": null,
      "outputs": []
    },
    {
      "cell_type": "code",
      "metadata": {
        "id": "cMdgRk3JBigz"
      },
      "source": [],
      "execution_count": null,
      "outputs": []
    },
    {
      "cell_type": "markdown",
      "metadata": {
        "id": "UPWeZk4NEviZ"
      },
      "source": [
        "### Model with varaible: sex\n",
        "\n",
        "* Compute the model with one covariate sex.\n",
        "\n",
        "* How can we interpret estimated coefficients?\n",
        "\n",
        "* Did survival depend on gender (`sex`) ?\n",
        "\n",
        "* Perform an appropriate tests.\n",
        "\n",
        "* Did women have a better chance of survival?\n"
      ]
    },
    {
      "cell_type": "code",
      "source": [
        "import statsmodels.api as sm\n",
        "import statsmodels.formula.api as smf\n",
        "\n",
        "# Fit the logistic regression model where 'survived' is the response and 'sex' is the predictor\n",
        "data_dis['survived'] = data_dis['survived'].astype(int)\n",
        "data_dis['sex'] = data_dis['sex'].astype('category')\n",
        "\n",
        "mod_sex = smf.glm(formula='survived ~ sex', data=data_dis, family=sm.families.Binomial()).fit()\n",
        "\n",
        "# Display the summary of the model\n",
        "print(mod_sex.summary())\n"
      ],
      "metadata": {
        "id": "8msxeXlptlnB"
      },
      "execution_count": null,
      "outputs": []
    },
    {
      "cell_type": "code",
      "source": [
        "# Calculate the odds ratios for the coefficients\n",
        "odds_ratios = np.exp(mod_sex.params)\n",
        "print(\"Odds Ratios:\")\n",
        "print(odds_ratios)"
      ],
      "metadata": {
        "id": "fWJ5-2p1tlu6"
      },
      "execution_count": null,
      "outputs": []
    },
    {
      "cell_type": "code",
      "source": [
        "# Extract coefficient and standard error for 'sex'\n",
        "beta = mod_sex.params['sex[T.male]']\n",
        "se = mod_sex.bse['sex[T.male]']\n",
        "\n",
        "# Compute 95% CI on log-odds scale\n",
        "z = norm.ppf(0.975)  # z-score for 95% CI\n",
        "ci_lower_logit = beta - z * se\n",
        "ci_upper_logit = beta + z * se\n",
        "\n",
        "# Convert to OR scale\n",
        "or_estimate = np.exp(beta)\n",
        "ci_lower_or = np.exp(ci_lower_logit)\n",
        "ci_upper_or = np.exp(ci_upper_logit)\n",
        "\n",
        "# Display results\n",
        "print(f\"Odds Ratio (sex = male vs female): {or_estimate:.4f}\")\n",
        "print(f\"95% CI for OR: [{ci_lower_or:.4f}, {ci_upper_or:.4f}]\")"
      ],
      "metadata": {
        "id": "sAIHXpENBLJS"
      },
      "execution_count": null,
      "outputs": []
    },
    {
      "cell_type": "code",
      "source": [
        "# Please note that this cell works may not work in other env-s that Google Colab\n",
        "!pip install wget\n",
        "import wget\n",
        "url = \"https://github.com/francji1/01ZLMA/raw/main/code/helpers.py\"\n",
        "wget.download(url, '../content/helpers.py')  # path where Colab can find libraries"
      ],
      "metadata": {
        "id": "jnYxeVQKvlio"
      },
      "execution_count": null,
      "outputs": []
    },
    {
      "cell_type": "code",
      "source": [
        "from helpers import Anova\n",
        "\n",
        "anova = Anova()\n",
        "\n",
        "anova(mod0, mod_sex, test='chisq')"
      ],
      "metadata": {
        "id": "paquQ215vlrJ"
      },
      "execution_count": null,
      "outputs": []
    },
    {
      "cell_type": "code",
      "source": [
        "anova(mod_sex, test=\"Chisq\")"
      ],
      "metadata": {
        "id": "m7NAkcGmwT44"
      },
      "execution_count": null,
      "outputs": []
    },
    {
      "cell_type": "code",
      "source": [
        "import scipy.stats as stats\n",
        "\n",
        "# Compute the likelihood ratio test statistic\n",
        "lr_stat = 2 * (mod_sex.llf - mod0.llf)  # Twice the difference in log-likelihoods\n",
        "lr_df = mod_sex.df_model - mod0.df_model  # Difference in degrees of freedom\n",
        "\n",
        "lr_p_value = stats.chi2.sf(lr_stat, lr_df)\n",
        "\n",
        "print(f\"Likelihood Ratio Statistic: {lr_stat:.4f}\")\n",
        "print(f\"Degrees of Freedom: {lr_df}\")\n",
        "print(f\"P-value: {lr_p_value:.4f}\")"
      ],
      "metadata": {
        "id": "918XzsoCvHgA"
      },
      "execution_count": null,
      "outputs": []
    },
    {
      "cell_type": "code",
      "source": [
        "from scipy.stats import norm\n",
        "\n",
        "def OR_coef(variable, model, CI):\n",
        "    \"\"\"\n",
        "    Estimate Odds Ratio with lower and upper limit of 95% CI for a variable.\n",
        "    \"\"\"\n",
        "    # Extract parameter estimate and standard error\n",
        "    beta = model.params[variable]\n",
        "    se = model.bse[variable]\n",
        "\n",
        "    # Compute the odds ratio\n",
        "    or_value = np.exp(beta)\n",
        "\n",
        "    # Compute the confidence interval\n",
        "    ci_bounds = norm.ppf(0.5 + CI/2) * se\n",
        "    ci_lower = np.exp(beta - ci_bounds)\n",
        "    ci_upper = np.exp(beta + ci_bounds)\n",
        "\n",
        "    return pd.DataFrame({\n",
        "        'OR': [or_value],\n",
        "        'LCL': [ci_lower],\n",
        "        'UCL': [ci_upper]\n",
        "    }, index=[variable])\n",
        "\n",
        "or_estimate = OR_coef('sex[T.male]', mod_sex, 0.95)\n",
        "print(or_estimate)\n"
      ],
      "metadata": {
        "id": "-HVuFqnItl0f"
      },
      "execution_count": null,
      "outputs": []
    },
    {
      "cell_type": "markdown",
      "source": [
        "Compare with `table2x2.oddsratio_confint()`"
      ],
      "metadata": {
        "id": "nXLFZN6qyjDW"
      }
    },
    {
      "cell_type": "code",
      "metadata": {
        "id": "Aw3--fpl9fSs"
      },
      "source": [],
      "execution_count": null,
      "outputs": []
    },
    {
      "cell_type": "markdown",
      "metadata": {
        "id": "-kIqGZEQFp-D"
      },
      "source": [
        "### Your turn:\n",
        "\n",
        "Estimate model with one covariate `class` and compute:\n",
        "\n",
        "1. Did survival depend on (`class`) ?\n",
        "\n",
        "2. Perform an appropriate tests.\n",
        "\n",
        "3. Compute odds ratios between classes.\n",
        "\n",
        "4. Did passangers in second class have a better chance of survival than in third?\n"
      ]
    },
    {
      "cell_type": "code",
      "source": [],
      "metadata": {
        "id": "pvrngyoEwbw8"
      },
      "execution_count": null,
      "outputs": []
    },
    {
      "cell_type": "code",
      "source": [],
      "metadata": {
        "id": "1W_3D-dZwbzl"
      },
      "execution_count": null,
      "outputs": []
    },
    {
      "cell_type": "code",
      "source": [],
      "metadata": {
        "id": "pmbkOcHFwb2P"
      },
      "execution_count": null,
      "outputs": []
    },
    {
      "cell_type": "code",
      "source": [],
      "metadata": {
        "id": "VA4tOytmwb4z"
      },
      "execution_count": null,
      "outputs": []
    },
    {
      "cell_type": "code",
      "source": [],
      "metadata": {
        "id": "wocKJfpswb7d"
      },
      "execution_count": null,
      "outputs": []
    },
    {
      "cell_type": "code",
      "source": [],
      "metadata": {
        "id": "cEZ2i33-wb-P"
      },
      "execution_count": null,
      "outputs": []
    },
    {
      "cell_type": "code",
      "source": [],
      "metadata": {
        "id": "55HiLNDKwcAk"
      },
      "execution_count": null,
      "outputs": []
    },
    {
      "cell_type": "markdown",
      "metadata": {
        "id": "42sCjLq-FkV5"
      },
      "source": [
        "### Model with all discrete covariates without interactions"
      ]
    },
    {
      "cell_type": "code",
      "source": [
        "# Simple Logistic Regression model with all discrete covariates without interactions\n",
        "\n",
        "# Fit the logistic regression model\n",
        "#predictors = data_dis.columns.drop(['survived', 'intercept'])  # Exclude the response variable\n",
        "predictors = data_dis.columns.drop(['survived'])  # Exclude the response variable\n",
        "\n",
        "data_dis['survived'] = data_dis['survived'].astype(int)\n",
        "mod1 = smf.glm(formula='survived ~ ' + ' + '.join(predictors), data=data_dis, family=sm.families.Binomial()).fit()\n",
        "\n",
        "# Print the summary of the model\n",
        "print(mod1.summary())\n"
      ],
      "metadata": {
        "id": "J-OCIsXJ46Yw"
      },
      "execution_count": null,
      "outputs": []
    },
    {
      "cell_type": "markdown",
      "metadata": {
        "id": "qkXZwWVG3rED"
      },
      "source": [
        "Deviance tests to add/drop independent variables. (Functions from R not in Python)\n",
        "\n",
        "`drop1(model,test=\"Chisq\")`\n",
        "\n",
        "`add1(model,terms.to.add,test=\"Chisq\")`\n",
        "\n",
        "`drop1(mod1,test=\"Chisq\")`\n",
        "\n",
        "`add1(mod0,survived~sex+class+embarked, test=\"Chisq\")`"
      ]
    },
    {
      "cell_type": "code",
      "metadata": {
        "id": "Mu3VGgYDjJGt"
      },
      "source": [
        "# Reset categories to only those that are present after filtering\n",
        "data_dis['embarked'] = data_dis['embarked'].cat.set_categories(['C', 'Q', 'S'])\n",
        "\n",
        "# Optionally, you can remove unused categories directly\n",
        "data_dis['embarked'] = data_dis['embarked'].cat.remove_unused_categories()\n",
        "\n",
        "# Check the categories after resetting\n",
        "print(\"Categories after filtering and resetting:\", data_dis['embarked'].cat.categories)\n",
        "\n"
      ],
      "execution_count": null,
      "outputs": []
    },
    {
      "cell_type": "code",
      "metadata": {
        "id": "-wTFLd1T4GAY"
      },
      "source": [
        "data_dis2 = data_dis.copy()\n",
        "data_dis2['embarked'] = data_dis2['embarked'].replace('C', 'Q')\n",
        "print(data_dis['embarked'].value_counts())\n",
        "print(data_dis.info())"
      ],
      "execution_count": null,
      "outputs": []
    },
    {
      "cell_type": "code",
      "metadata": {
        "id": "bVIXmCWb5AZO"
      },
      "source": [
        "predictors = '+'.join(data_dis2.drop('survived', axis=1).columns)\n",
        "formula = f'survived ~ {predictors}'\n",
        "mod1b = smf.glm(formula=formula, data=data_dis2, family=sm.families.Binomial()).fit()\n",
        "print(mod1b.summary())\n"
      ],
      "execution_count": null,
      "outputs": []
    },
    {
      "cell_type": "code",
      "metadata": {
        "id": "F2xccox0vK_e"
      },
      "source": [],
      "execution_count": null,
      "outputs": []
    },
    {
      "cell_type": "code",
      "metadata": {
        "id": "dkfQCaGSvLCi"
      },
      "source": [
        "or_estimate_sex_1 = OR_coef('sex[T.male]', mod1b, 0.95)\n",
        "print(or_estimate_sex_1)"
      ],
      "execution_count": null,
      "outputs": []
    },
    {
      "cell_type": "markdown",
      "metadata": {
        "id": "5jkf4N0EHHb0"
      },
      "source": [
        "Interpret previous result:\n",
        "\n",
        "* By how many percentage is the chance of survival lower for  men?\n",
        "\n",
        "* Interpret confidence intrval and its significance.\n"
      ]
    },
    {
      "cell_type": "markdown",
      "metadata": {
        "id": "VirGNE8J9kWA"
      },
      "source": [
        "Lets try model with second order interactions.\n"
      ]
    },
    {
      "cell_type": "code",
      "metadata": {
        "id": "uT7yNEgH8ruU"
      },
      "source": [
        "def create_interaction_formula(data, response_var):\n",
        "    predictors = data.columns.drop(response_var)\n",
        "    formula = f\"{response_var} ~ \" + \" + \".join(predictors)\n",
        "    interactions = \" + \"\n",
        "    interaction_terms = []\n",
        "\n",
        "    # Generate all pairwise interaction terms\n",
        "    for i in range(len(predictors)):\n",
        "        for j in range(i + 1, len(predictors)):\n",
        "            interaction_terms.append(f\"{predictors[i]}:{predictors[j]}\")\n",
        "\n",
        "    # Add interaction terms to the formula\n",
        "    formula += \" + \" + \" + \".join(interaction_terms)\n",
        "    return formula\n"
      ],
      "execution_count": null,
      "outputs": []
    },
    {
      "cell_type": "code",
      "source": [
        "\n",
        "# Assuming 'survived' is the response variable and data_dis is preprocessed\n",
        "formula_2nd = create_interaction_formula(data_dis, 'survived')\n",
        "print(\"Generated Formula:\", formula_2nd)"
      ],
      "metadata": {
        "id": "Dl-fXUU45Bit"
      },
      "execution_count": null,
      "outputs": []
    },
    {
      "cell_type": "code",
      "metadata": {
        "id": "CmX8KMnk9G6y"
      },
      "source": [
        "# Fit the logistic regression model with all pairwise interactions\n",
        "mod2_all = smf.glm(formula=formula_2nd, data=data_dis, family=sm.families.Binomial()).fit()\n",
        "\n",
        "# Print the summary of the model\n",
        "print(mod2_all.summary())\n"
      ],
      "execution_count": null,
      "outputs": []
    },
    {
      "cell_type": "code",
      "metadata": {
        "id": "1bKbLLgZ-xN-"
      },
      "source": [
        "mod2 = smf.glm(formula='survived ~ classes + sex + embarked + classes:sex + sex:embarked', data=data_dis, family=sm.families.Binomial()).fit()\n",
        "print(mod2.summary())\n"
      ],
      "execution_count": null,
      "outputs": []
    },
    {
      "cell_type": "code",
      "metadata": {
        "id": "_rdGvZUe9G-x"
      },
      "source": [
        "anova(mod2_all, mod2, test='chisq')"
      ],
      "execution_count": null,
      "outputs": []
    },
    {
      "cell_type": "code",
      "metadata": {
        "id": "7gSz2aqQFVBG"
      },
      "source": [],
      "execution_count": null,
      "outputs": []
    },
    {
      "cell_type": "markdown",
      "metadata": {
        "id": "iVLJsFVyGN-N"
      },
      "source": [
        "Interpretation by OR in models with interactions is more complitacated, see Lecture notes."
      ]
    },
    {
      "cell_type": "markdown",
      "metadata": {
        "id": "dgUfzZq4Gks5"
      },
      "source": [
        "#Task:\n",
        "Lets try model with merged factor levels.\n",
        "\n",
        "\n"
      ]
    },
    {
      "cell_type": "code",
      "metadata": {
        "id": "Ci6TaxOW_w2y"
      },
      "source": [],
      "execution_count": null,
      "outputs": []
    },
    {
      "cell_type": "markdown",
      "metadata": {
        "id": "PJSz8gifGy1p"
      },
      "source": [
        "## Model with continuous independent variable.\n"
      ]
    },
    {
      "cell_type": "markdown",
      "source": [
        "Discuss difference from models without continuous variable (again)!!!"
      ],
      "metadata": {
        "id": "gga0Fav7Q2W8"
      }
    },
    {
      "cell_type": "code",
      "source": [
        "# Selecting specific columns\n",
        "data_con = titanic_train[['Survived', 'Pclass', 'Sex', 'Embarked', 'Age', 'Fare']].copy()\n",
        "\n",
        "# Drop rows with any missing values\n",
        "data_con.dropna(inplace=True)\n",
        "\n",
        "# Filter rows where 'Embarked' is one of 'C', 'Q', 'S'\n",
        "data_con = data_con[data_con['Embarked'].isin(['C', 'Q', 'S'])]\n",
        "\n",
        "# Transform and create new columns as needed\n",
        "data_con['survived'] = data_con['Survived'].astype('category')\n",
        "data_con['class'] = data_con['Pclass'].astype('category')\n",
        "data_con['sex'] = data_con['Sex'].astype('category')  # already categorical, reaffirming\n",
        "data_con['embarked'] = data_con['Embarked'].astype('category')  # already categorical, reaffirming\n",
        "data_con['age'] = data_con['Age']  # Rename Age to age\n",
        "data_con['fare'] = data_con['Fare']  # Rename Fare to fare\n",
        "\n",
        "# Drop original columns if not needed, ensure only transformed/new columns are retained\n",
        "data_con = data_con[['survived', 'class', 'sex', 'embarked', 'age', 'fare']]"
      ],
      "metadata": {
        "id": "oAd74njCDpAI"
      },
      "execution_count": null,
      "outputs": []
    },
    {
      "cell_type": "code",
      "source": [
        "# Print basic statistics and info about the DataFrame\n",
        "print(data_con.describe(include='all'))  # Basic stats for numeric and categorical data\n",
        "print(data_con.info())  # Info on DataFrame structure, similar to str() in R\n"
      ],
      "metadata": {
        "id": "-qhG8x4jDpDH"
      },
      "execution_count": null,
      "outputs": []
    },
    {
      "cell_type": "code",
      "source": [
        "# Drop rows with any missing values\n",
        "data_con.dropna(inplace=True)\n",
        "\n",
        "# Print basic statistics and info about the DataFrame\n",
        "print(data_con.describe(include='all'))  # Basic stats for numeric and categorical data\n",
        "print(data_con.info())  # Info on DataFrame structure, similar to str() in R\n"
      ],
      "metadata": {
        "id": "buHQkxIgEoYG"
      },
      "execution_count": null,
      "outputs": []
    },
    {
      "cell_type": "code",
      "source": [
        "import statsmodels.api as sm\n",
        "\n",
        "# Using DescrStatsW for 'fare'\n",
        "desc_stats = sm.stats.DescrStatsW(data_con['fare'])\n",
        "\n",
        "# You can access various summary statistics directly:\n",
        "print(\"Mean:\", desc_stats.mean)\n",
        "print(\"Variance:\", desc_stats.var)\n",
        "print(\"Standard Deviation:\", desc_stats.std)\n",
        "print(\"Confidence Interval of Mean:\", desc_stats.tconfint_mean())\n"
      ],
      "metadata": {
        "id": "jVCe3nfRDpGT"
      },
      "execution_count": null,
      "outputs": []
    },
    {
      "cell_type": "code",
      "source": [
        "data_pair_plot = data_con[['survived', 'age', 'fare', 'class']]\n",
        "\n",
        "# Create a pair plot\n",
        "sns.pairplot(data_pair_plot, hue='survived', diag_kind='kde', kind='scatter', palette='viridis')\n",
        "plt.suptitle('Pair Plot of Variables', y=1.02)  # Adjust title and its position\n",
        "plt.show()"
      ],
      "metadata": {
        "id": "FPyfcHgTDpJv"
      },
      "execution_count": null,
      "outputs": []
    },
    {
      "cell_type": "code",
      "source": [
        "plt.figure(figsize=(10, 6))\n",
        "ax = sns.boxplot(x='sex', y='age', hue='survived', data=data_con, palette='coolwarm')\n",
        "sns.pointplot(x='sex', y='age', hue='survived', data=data_con, dodge=True, join=False, markers='D', capsize=0.1, estimator=np.mean)\n",
        "\n",
        "# Add enhancements\n",
        "plt.title('Gender Boxplot by Age')\n",
        "plt.xlabel('Gender')\n",
        "plt.ylabel('Age')\n",
        "plt.legend(title='Survived')\n",
        "plt.grid(True)\n",
        "plt.show()"
      ],
      "metadata": {
        "id": "g6H3cdeiFy8R"
      },
      "execution_count": null,
      "outputs": []
    },
    {
      "cell_type": "code",
      "source": [
        "# Create a box plot with mean points\n",
        "plt.figure(figsize=(10, 6))\n",
        "ax = sns.boxplot(x='class', y='fare', hue='survived', data=data_con, palette='Set2')\n",
        "sns.pointplot(x='class', y='fare', hue='survived', data=data_con, dodge=True, join=False,  markers='o', capsize=0.1, estimator=np.mean)\n",
        "\n",
        "# Add enhancements\n",
        "plt.title('Class vs Fare Boxplot')\n",
        "plt.xlabel('Class')\n",
        "plt.ylabel('Fare')\n",
        "plt.legend(title='Survived')\n",
        "plt.grid(True)\n",
        "plt.show()\n"
      ],
      "metadata": {
        "id": "eMgmtH0oFy_A"
      },
      "execution_count": null,
      "outputs": []
    },
    {
      "cell_type": "code",
      "source": [],
      "metadata": {
        "id": "5CK6-SuMFzD7"
      },
      "execution_count": null,
      "outputs": []
    },
    {
      "cell_type": "markdown",
      "metadata": {
        "id": "gN0UJs4PSjcY"
      },
      "source": [
        "Continuous variable as factor"
      ]
    },
    {
      "cell_type": "code",
      "source": [
        "data_con_fac = data_con.copy()\n",
        "\n",
        "# Categorize 'age' using pandas.cut\n",
        "data_con_fac['age'] = pd.cut(data_con['age'],\n",
        "                             bins=[-float('inf'), 15, 50, float('inf')],\n",
        "                             labels=['child', 'adult', 'senior'])\n",
        "data_con_fac['survived'] = data_con_fac['survived'].astype(int)\n"
      ],
      "metadata": {
        "id": "TlNVKnkDHe1N"
      },
      "execution_count": null,
      "outputs": []
    },
    {
      "cell_type": "code",
      "source": [
        "mod_0 = smf.glm(formula='survived ~ 1', data=data_con_fac,\n",
        "                family=sm.families.Binomial()).fit()\n",
        "print(\"Baseline Model Summary:\")\n",
        "print(mod_0.summary())"
      ],
      "metadata": {
        "id": "vIh-aC3pHe4E"
      },
      "execution_count": null,
      "outputs": []
    },
    {
      "cell_type": "code",
      "source": [
        "mod_age_fac = smf.glm(formula='survived ~ age', data=data_con_fac,\n",
        "                      family=sm.families.Binomial()).fit()\n",
        "print(\"Model with Age Factor Summary:\")\n",
        "print(mod_age_fac.summary())"
      ],
      "metadata": {
        "id": "tHcBdb6dHe7U"
      },
      "execution_count": null,
      "outputs": []
    },
    {
      "cell_type": "code",
      "metadata": {
        "id": "hyHUUA3iIzqy"
      },
      "source": [
        "# Calculate the exponentiated coefficients for odds ratios\n",
        "odds_ratios = np.exp(mod_age_fac.params)\n",
        "print(\"Odds Ratios:\")\n",
        "print(odds_ratios)"
      ],
      "execution_count": null,
      "outputs": []
    },
    {
      "cell_type": "markdown",
      "metadata": {
        "id": "mD47uutFW7fq"
      },
      "source": [
        "Is the chance decreasing with increasing age?"
      ]
    },
    {
      "cell_type": "code",
      "metadata": {
        "id": "glFlpkE7WY5E"
      },
      "source": [
        "anova(mod_age_fac,mod_0,test=\"Chisq\")"
      ],
      "execution_count": null,
      "outputs": []
    },
    {
      "cell_type": "markdown",
      "source": [
        "Age as continuous variable"
      ],
      "metadata": {
        "id": "nL0nkMpXI0PP"
      }
    },
    {
      "cell_type": "code",
      "source": [
        "data_con_fac['survived'] = data_con_fac['survived'].astype(int)\n",
        "\n",
        "mod_age = smf.glm(formula='survived ~ I(age / 10)', data=data_con,\n",
        "                  family=sm.families.Binomial()).fit()\n",
        "print(\"Model Summary with Age Scaled by Decades:\")\n",
        "print(mod_age.summary())\n",
        "\n",
        "odds_ratios = np.exp(mod_age.params)\n",
        "print(\"Odds Ratios for Age Increase by Decade:\")\n",
        "print(odds_ratios)"
      ],
      "metadata": {
        "id": "KVKGvQeUIxUE"
      },
      "execution_count": null,
      "outputs": []
    },
    {
      "cell_type": "markdown",
      "metadata": {
        "id": "fL0gYJp4YNbG"
      },
      "source": [
        "Question:\n",
        "\n",
        "* With increasing age by 10 years, chance to survive decreased by 11 %.\n",
        "\n",
        "* What do you think about causality in this result?"
      ]
    },
    {
      "cell_type": "code",
      "metadata": {
        "id": "I-xGC5yNIzwd"
      },
      "source": [
        "anova(mod_age,mod_0,test=\"Chisq\")"
      ],
      "execution_count": null,
      "outputs": []
    },
    {
      "cell_type": "markdown",
      "metadata": {
        "id": "yGWlCERLZoxl"
      },
      "source": [
        "Question:\n",
        "\n",
        "* Can we compare by deviance test models `mod_age` and `mod_age_fac`?\n",
        "* Which model do you prefere and why?\n",
        "* For which approach (factorized or continuous) saturated model is useful and why?\n"
      ]
    },
    {
      "cell_type": "code",
      "metadata": {
        "id": "eM2WYaTyIzzD"
      },
      "source": [
        "#mod_sat_fac <- glm(survived ~ sex*age*embarked*class, family = binomial,data = (data_con %>% mutate(age= as.factor(age), fare = as.factor(fare)) ))\n",
        "#summary(mod_sat_fac)"
      ],
      "execution_count": null,
      "outputs": []
    },
    {
      "cell_type": "code",
      "metadata": {
        "id": "sNhOXHGsIz1w"
      },
      "source": [],
      "execution_count": null,
      "outputs": []
    },
    {
      "cell_type": "code",
      "source": [],
      "metadata": {
        "id": "s_-Tpsq-Ij8E"
      },
      "execution_count": null,
      "outputs": []
    },
    {
      "cell_type": "code",
      "metadata": {
        "id": "BjhoEQb7Iz4i"
      },
      "source": [
        "# je uzitecny pro faktorizovany, ale ve spojitem muzeme pak odpovedet na otazky, ktere nam faktorizovany neda (napr. rozdil mezi 25 a 35 letym)"
      ],
      "execution_count": null,
      "outputs": []
    },
    {
      "cell_type": "markdown",
      "metadata": {
        "id": "aHoKBY8sbD2i"
      },
      "source": [
        "Your turn:\n",
        "\n",
        "Consider a model with continuos variables `age`, `fare`, and any factor variable.\n",
        "\n",
        "* Create factor `child`, which takes values 1 (child) and 0 (adult).\n",
        "* Create factor from varaible `fare`, where each level break is by 10-20 pounds, 140 max.\n",
        "* Estimate a model, where the chance of survival depends on factorized `fare` and `sex` and `child`.\n",
        "* What percentage is the chance of survival lower for adult compare to child?\n",
        "* Depends the probability of survival on fare? Test it.\n",
        "* Assume that the chance of survival increases with exponential increasig fare. How the chance of survival increased if the person spent an extra 10 pound for a ticket?\n",
        "* Build a model where the probabilty of survival depends on both `age` and `fare`. Are both covariates significant?\n",
        "*"
      ]
    },
    {
      "cell_type": "markdown",
      "source": [
        "*   Využijeme *data_con*, kde proměnné *fare* a *age* jsou spojité a *sex* faktorová.\n",
        "\n"
      ],
      "metadata": {
        "id": "Mws4JWqRQQKo"
      }
    },
    {
      "cell_type": "code",
      "source": [],
      "metadata": {
        "id": "23NFGKe5wvGu"
      },
      "execution_count": null,
      "outputs": []
    },
    {
      "cell_type": "code",
      "source": [],
      "metadata": {
        "id": "HvrDrY89wvOV"
      },
      "execution_count": null,
      "outputs": []
    },
    {
      "cell_type": "code",
      "source": [],
      "metadata": {
        "id": "KtI3U8dHwvRB"
      },
      "execution_count": null,
      "outputs": []
    },
    {
      "cell_type": "code",
      "source": [],
      "metadata": {
        "id": "sGbO8q6MwvTq"
      },
      "execution_count": null,
      "outputs": []
    },
    {
      "cell_type": "code",
      "source": [],
      "metadata": {
        "id": "syO3VhI-wvWd"
      },
      "execution_count": null,
      "outputs": []
    },
    {
      "cell_type": "code",
      "source": [],
      "metadata": {
        "id": "n_1MWqNIwvZH"
      },
      "execution_count": null,
      "outputs": []
    },
    {
      "cell_type": "code",
      "source": [],
      "metadata": {
        "id": "JSjgqdVwwvbo"
      },
      "execution_count": null,
      "outputs": []
    },
    {
      "cell_type": "code",
      "source": [],
      "metadata": {
        "id": "kmAo72z6wvee"
      },
      "execution_count": null,
      "outputs": []
    },
    {
      "cell_type": "code",
      "source": [],
      "metadata": {
        "id": "u9DAF-5gwvhW"
      },
      "execution_count": null,
      "outputs": []
    }
  ]
}