{
  "nbformat": 4,
  "nbformat_minor": 0,
  "metadata": {
    "colab": {
      "provenance": [],
      "include_colab_link": true
    },
    "kernelspec": {
      "name": "python3",
      "display_name": "Python 3"
    },
    "language_info": {
      "name": "python"
    }
  },
  "cells": [
    {
      "cell_type": "markdown",
      "metadata": {
        "id": "view-in-github",
        "colab_type": "text"
      },
      "source": [
        "<a href=\"https://colab.research.google.com/github/francji1/01ZLMA/blob/main/code/01ZLMA_ex07_prusek_nesnerova_adamek.ipynb\" target=\"_parent\"><img src=\"https://colab.research.google.com/assets/colab-badge.svg\" alt=\"Open In Colab\"/></a>"
      ]
    },
    {
      "cell_type": "markdown",
      "metadata": {
        "id": "oD47O_0VwUBm"
      },
      "source": [
        "Exercise 07 of the course 01ZLMA.\n",
        "\n",
        "# GLM for Discrete response - Binary Data Analysis\n",
        "\n",
        "Alternative and Binomial responses"
      ]
    },
    {
      "cell_type": "markdown",
      "metadata": {
        "lines_to_next_cell": 0,
        "id": "l2EHCMAWUHT6"
      },
      "source": [
        "**Bernoulli (Alternative) Model**\n",
        "\n",
        "$$Y_{i,j} \\sim Be(\\pi_i) \\ i = 1,\\ldots,K \\ \\text{and} \\ j = 1,\\ldots, n_i.$$\n",
        "$K$ is number of groups, $n_i$ is number of observations in group $i$ and $\\sum_{i=1}^{K} n_i = N$\n",
        "$$ E[Y_{i,j}] = \\pi_i \\ \\text{and} \\ g(\\pi_i) = \\eta_i =x_i^T \\beta $$\n",
        "\n",
        "\n",
        "**Binomial Model**\n",
        "$$Y_i = \\sum_{j=1}^{n_i} Y_{i,j} \\sim Bi(n_i, \\pi_i)$$"
      ]
    },
    {
      "cell_type": "markdown",
      "metadata": {
        "id": "urFC1XzcWd1t"
      },
      "source": [
        "**Without continuos covariate (only factor variables)**\n",
        "\n",
        "$K$ is constant and $n_i \\rightarrow \\infty $\n",
        "\n",
        "**With at least one continuos covariate**\n",
        "\n",
        "$n_i \\approx 1$ ( $n_i$ is small enough) and $K \\rightarrow \\infty$\n",
        "\n"
      ]
    },
    {
      "cell_type": "markdown",
      "metadata": {
        "id": "lSgD34dQW1cE"
      },
      "source": [
        "## Link functions for binary data\n",
        "\n",
        "**Logistic function:**\n",
        "\n",
        "* The logistic function is the canonical link function for binary responses, and it is CDF of the standard logistic distribution.\n",
        "\n",
        "$$g(\\pi_i)=log(\\frac{\\pi_i}{1-\\pi_i}) $$\n",
        "\n",
        "$$\\pi_i = \\frac{1}{1+e^{-x_i^T \\beta}} = \\frac{e^{x_i^T \\beta}}{1+e^{x_i^T \\beta}} $$\n",
        "\n",
        "* **Logistic regression** is a GLM with binomial family and logit link\n",
        "\n",
        "\n",
        "**Probit function:**\n",
        "\n",
        "* The CDF of the normal distribution.\n",
        "$$\\pi_i = \\Phi({x_i^T \\beta}) $$\n",
        "\n",
        "\n",
        "**Cauchit function:**\n",
        "\n",
        "* The CDF of the Cauchy distribution\n",
        "\n",
        "$$\\pi_i = \\frac{1}{\\pi}\\text{arctan}(x_i^T \\beta) + \\frac{1}{2} $$\n",
        "\n",
        "\n",
        "**Complementary log-log (cloglog) function:**\n",
        "\n",
        "* The inverse of the conditional log-log function (CDF of the Gumbel distribution)\n",
        "\n",
        "$$\\pi_i = 1 − e^{-e^{x_i^T \\beta}}$$\n",
        "\n",
        "* The counter part of the cloglog function is log-log link function."
      ]
    },
    {
      "cell_type": "markdown",
      "source": [
        "Likelihood:\n",
        "$$L_n (\\beta, Y) = \\prod_{i=1}^{K} \\prod_{j=1}^{n_i} \\pi_i^{Y_{ij}} (1-\\pi_i)^{1-Y_{ij}}$$"
      ],
      "metadata": {
        "id": "tJarUkz7SGX2"
      }
    },
    {
      "cell_type": "code",
      "source": [],
      "metadata": {
        "id": "45QrA_BOSFdz"
      },
      "execution_count": null,
      "outputs": []
    },
    {
      "cell_type": "code",
      "source": [
        "import seaborn as sns\n",
        "import numpy as np\n",
        "import pandas as pd\n",
        "import matplotlib.pyplot as plt\n",
        "from statsmodels.genmod.families.links import Logit, Probit, Cauchy, CLogLog, LogLog\n",
        "import statsmodels.api as sm\n",
        "import statsmodels.formula.api as smf\n",
        "\n",
        "import numpy as np\n",
        "import pandas as pd\n",
        "from scipy.stats import norm\n",
        "\n",
        "import numpy as np\n",
        "import pandas as pd\n",
        "import statsmodels.formula.api as smf\n",
        "from scipy.stats import norm\n"
      ],
      "metadata": {
        "id": "sWMh4BwE7aRg"
      },
      "execution_count": null,
      "outputs": []
    },
    {
      "cell_type": "code",
      "source": [
        "# Set the display width to avoid automatic wrapping of the display\n",
        "pd.set_option('display.width', 200)\n",
        "\n",
        "# Increase maximum column width to see more data within each cell\n",
        "pd.set_option('display.max_colwidth', 50)"
      ],
      "metadata": {
        "id": "MlnLR56wCT1l"
      },
      "execution_count": null,
      "outputs": []
    },
    {
      "cell_type": "code",
      "source": [
        "# Define the link functions and names\n",
        "links = [Logit(), Probit(), Cauchy(), CLogLog(), LogLog()]\n",
        "link_names = ['logit', 'probit', 'cauchit', 'cloglog', 'loglog']\n",
        "\n",
        "# Create a sequence of x values and DataFrame\n",
        "x = np.linspace(-5, 5, 101)\n",
        "df = pd.DataFrame()\n",
        "\n",
        "for link, name in zip(links, link_names):\n",
        "    y = link.inverse(x)\n",
        "    temp_df = pd.DataFrame({'x': x, 'y': y, 'link_name': name})\n",
        "    df = pd.concat([df, temp_df])\n",
        "\n",
        "# Plotting\n",
        "plt.figure(figsize=(10, 6))\n",
        "for name in link_names:\n",
        "    subset = df[df['link_name'] == name]\n",
        "    plt.plot(subset['x'], subset['y'], label=name)\n",
        "\n",
        "plt.title('Link Functions')\n",
        "plt.xlabel('x')\n",
        "plt.ylabel('y')\n",
        "plt.legend(title='Link Function')\n",
        "\n",
        "plt.axvline(0, color='gray', linestyle='--', linewidth=1)\n",
        "plt.axhline(0, color='gray', linestyle='--', linewidth=1)\n",
        "plt.axhline(0.5, color='gray', linestyle='--', linewidth=1)\n",
        "plt.axhline(1, color='gray', linestyle='--', linewidth=1)\n",
        "plt.show()\n"
      ],
      "metadata": {
        "id": "yWi9Y2rL2P5e",
        "colab": {
          "base_uri": "https://localhost:8080/",
          "height": 564
        },
        "outputId": "d9b1bf1e-41d8-4294-eb78-aab9943a57be"
      },
      "execution_count": null,
      "outputs": [
        {
          "output_type": "display_data",
          "data": {
            "text/plain": [
              "<Figure size 1000x600 with 1 Axes>"
            ],
            "image/png": "[encoded data removed]"
          },
          "metadata": {}
        }
      ]
    },
    {
      "cell_type": "markdown",
      "metadata": {
        "id": "dnlQ4vEGYGOH"
      },
      "source": [
        "## Logistic regression with Titanic dataset\n",
        "\n",
        "https://www.kaggle.com/c/titanic/data\n",
        "\n",
        "| Variable |                 Definition                 |                       Key                      |\n",
        "|:--------:|:------------------------------------------:|:----------------------------------------------:|\n",
        "| survival | Survival                                   | 0 = No, 1 = Yes                                |\n",
        "| pclass   | Ticket class                               | 1 = 1st, 2 = 2nd, 3 = 3rd                      |\n",
        "| sex      | Sex                                        |                                                |\n",
        "| Age      | Age in years                               |                                                |\n",
        "| sibsp    | # of siblings / spouses aboard the Titanic |                                                |\n",
        "| parch    | # of parents / children aboard the Titanic |                                                |\n",
        "| ticket   | Ticket number                              |                                                |\n",
        "| fare     | Passenger fare                             |                                                |\n",
        "| cabin    | Cabin number                               |                                                |\n",
        "| embarked | Port of Embarkation                        | C = Cherbourg, Q = Queenstown, S = Southampton |"
      ]
    },
    {
      "cell_type": "code",
      "metadata": {
        "id": "VxBIs-aDYMxd",
        "colab": {
          "base_uri": "https://localhost:8080/"
        },
        "outputId": "8b963480-2b33-4c3a-a5e4-5434c1bb7d5d"
      },
      "source": [
        "# Load the Titanic dataset from seaborn package\n",
        "titanic = sns.load_dataset('titanic')\n",
        "\n",
        "# Display the first few rows of the dataset\n",
        "print(titanic.head())"
      ],
      "execution_count": null,
      "outputs": [
        {
          "output_type": "stream",
          "name": "stdout",
          "text": [
            "   survived  pclass     sex   age  sibsp  parch     fare embarked  class    who  adult_male deck  embark_town alive  alone\n",
            "0         0       3    male  22.0      1      0   7.2500        S  Third    man        True  NaN  Southampton    no  False\n",
            "1         1       1  female  38.0      1      0  71.2833        C  First  woman       False    C    Cherbourg   yes  False\n",
            "2         1       3  female  26.0      0      0   7.9250        S  Third  woman       False  NaN  Southampton   yes   True\n",
            "3         1       1  female  35.0      1      0  53.1000        S  First  woman       False    C  Southampton   yes  False\n",
            "4         0       3    male  35.0      0      0   8.0500        S  Third    man        True  NaN  Southampton    no   True\n"
          ]
        }
      ]
    },
    {
      "cell_type": "code",
      "source": [
        "# Load the R magic extension\n",
        "%load_ext rpy2.ipython"
      ],
      "metadata": {
        "id": "-q0D1FPD8NJD"
      },
      "execution_count": null,
      "outputs": []
    },
    {
      "cell_type": "code",
      "source": [
        "%%R\n",
        "install.packages(\"titanic\")\n",
        "library(titanic)"
      ],
      "metadata": {
        "id": "_3C80mr2AVGl",
        "colab": {
          "base_uri": "https://localhost:8080/",
          "height": 191
        },
        "outputId": "aaa2ba3b-1dd2-4c1b-9da8-9268a301a4fa"
      },
      "execution_count": null,
      "outputs": [
        {
          "output_type": "display_data",
          "data": {
            "text/plain": [
              "Installing package into ‘/usr/local/lib/R/site-library’\n",
              "(as ‘lib’ is unspecified)\n",
              "trying URL 'https://cran.rstudio.com/src/contrib/titanic_0.1.0.tar.gz'\n",
              "Content type 'application/x-gzip' length 71672 bytes (69 KB)\n",
              "==================================================\n",
              "downloaded 69 KB\n",
              "\n",
              "\n",
              "The downloaded source packages are in\n",
              "\t‘/tmp/RtmpTa6PVp/downloaded_packages’\n"
            ]
          },
          "metadata": {}
        }
      ]
    },
    {
      "cell_type": "code",
      "source": [
        "%%R -o titanic_train -o titanic_test"
      ],
      "metadata": {
        "id": "UQxp5OkVAeoJ",
        "colab": {
          "base_uri": "https://localhost:8080/"
        },
        "outputId": "67777304-4437-418e-d4ab-2bd4dc398193"
      },
      "execution_count": null,
      "outputs": [
        {
          "output_type": "stream",
          "name": "stdout",
          "text": [
            "NULL\n"
          ]
        }
      ]
    },
    {
      "cell_type": "code",
      "source": [
        "titanic_train"
      ],
      "metadata": {
        "id": "5mVOoGXDBHLH",
        "colab": {
          "base_uri": "https://localhost:8080/",
          "height": 423
        },
        "outputId": "25858b39-c377-4475-f919-5f6aa7fa2684"
      },
      "execution_count": null,
      "outputs": [
        {
          "output_type": "execute_result",
          "data": {
            "text/plain": [
              "     PassengerId  Survived  Pclass                                               Name     Sex   Age  SibSp  Parch            Ticket     Fare Cabin Embarked\n",
              "1              1         0       3                            Braund, Mr. Owen Harris    male  22.0      1      0         A/5 21171   7.2500              S\n",
              "2              2         1       1  Cumings, Mrs. John Bradley (Florence Briggs Th...  female  38.0      1      0          PC 17599  71.2833   C85        C\n",
              "3              3         1       3                             Heikkinen, Miss. Laina  female  26.0      0      0  STON/O2. 3101282   7.9250              S\n",
              "4              4         1       1       Futrelle, Mrs. Jacques Heath (Lily May Peel)  female  35.0      1      0            113803  53.1000  C123        S\n",
              "5              5         0       3                           Allen, Mr. William Henry    male  35.0      0      0            373450   8.0500              S\n",
              "..           ...       ...     ...                                                ...     ...   ...    ...    ...               ...      ...   ...      ...\n",
              "887          887         0       2                              Montvila, Rev. Juozas    male  27.0      0      0            211536  13.0000              S\n",
              "888          888         1       1                       Graham, Miss. Margaret Edith  female  19.0      0      0            112053  30.0000   B42        S\n",
              "889          889         0       3           Johnston, Miss. Catherine Helen \"Carrie\"  female   NaN      1      2        W./C. 6607  23.4500              S\n",
              "890          890         1       1                              Behr, Mr. Karl Howell    male  26.0      0      0            111369  30.0000  C148        C\n",
              "891          891         0       3                                Dooley, Mr. Patrick    male  32.0      0      0            370376   7.7500              Q\n",
              "\n",
              "[891 rows x 12 columns]"
            ],
            "text/html": [
              "\n",
              "  <div id=\"df-621099b7-cc3d-4458-9061-6ef6d573fed6\" class=\"colab-df-container\">\n",
              "    <div>\n",
              "<style scoped>\n",
              "    .dataframe tbody tr th:only-of-type {\n",
              "        vertical-align: middle;\n",
              "    }\n",
              "\n",
              "    .dataframe tbody tr th {\n",
              "        vertical-align: top;\n",
              "    }\n",
              "\n",
              "    .dataframe thead th {\n",
              "        text-align: right;\n",
              "    }\n",
              "</style>\n",
              "<table border=\"1\" class=\"dataframe\">\n",
              "  <thead>\n",
              "    <tr style=\"text-align: right;\">\n",
              "      <th></th>\n",
              "      <th>PassengerId</th>\n",
              "      <th>Survived</th>\n",
              "      <th>Pclass</th>\n",
              "      <th>Name</th>\n",
              "      <th>Sex</th>\n",
              "      <th>Age</th>\n",
              "      <th>SibSp</th>\n",
              "      <th>Parch</th>\n",
              "      <th>Ticket</th>\n",
              "      <th>Fare</th>\n",
              "      <th>Cabin</th>\n",
              "      <th>Embarked</th>\n",
              "    </tr>\n",
              "  </thead>\n",
              "  <tbody>\n",
              "    <tr>\n",
              "      <th>1</th>\n",
              "      <td>1</td>\n",
              "      <td>0</td>\n",
              "      <td>3</td>\n",
              "      <td>Braund, Mr. Owen Harris</td>\n",
              "      <td>male</td>\n",
              "      <td>22.0</td>\n",
              "      <td>1</td>\n",
              "      <td>0</td>\n",
              "      <td>A/5 21171</td>\n",
              "      <td>7.2500</td>\n",
              "      <td></td>\n",
              "      <td>S</td>\n",
              "    </tr>\n",
              "    <tr>\n",
              "      <th>2</th>\n",
              "      <td>2</td>\n",
              "      <td>1</td>\n",
              "      <td>1</td>\n",
              "      <td>Cumings, Mrs. John Bradley (Florence Briggs Th...</td>\n",
              "      <td>female</td>\n",
              "      <td>38.0</td>\n",
              "      <td>1</td>\n",
              "      <td>0</td>\n",
              "      <td>PC 17599</td>\n",
              "      <td>71.2833</td>\n",
              "      <td>C85</td>\n",
              "      <td>C</td>\n",
              "    </tr>\n",
              "    <tr>\n",
              "      <th>3</th>\n",
              "      <td>3</td>\n",
              "      <td>1</td>\n",
              "      <td>3</td>\n",
              "      <td>Heikkinen, Miss. Laina</td>\n",
              "      <td>female</td>\n",
              "      <td>26.0</td>\n",
              "      <td>0</td>\n",
              "      <td>0</td>\n",
              "      <td>STON/O2. 3101282</td>\n",
              "      <td>7.9250</td>\n",
              "      <td></td>\n",
              "      <td>S</td>\n",
              "    </tr>\n",
              "    <tr>\n",
              "      <th>4</th>\n",
              "      <td>4</td>\n",
              "      <td>1</td>\n",
              "      <td>1</td>\n",
              "      <td>Futrelle, Mrs. Jacques Heath (Lily May Peel)</td>\n",
              "      <td>female</td>\n",
              "      <td>35.0</td>\n",
              "      <td>1</td>\n",
              "      <td>0</td>\n",
              "      <td>113803</td>\n",
              "      <td>53.1000</td>\n",
              "      <td>C123</td>\n",
              "      <td>S</td>\n",
              "    </tr>\n",
              "    <tr>\n",
              "      <th>5</th>\n",
              "      <td>5</td>\n",
              "      <td>0</td>\n",
              "      <td>3</td>\n",
              "      <td>Allen, Mr. William Henry</td>\n",
              "      <td>male</td>\n",
              "      <td>35.0</td>\n",
              "      <td>0</td>\n",
              "      <td>0</td>\n",
              "      <td>373450</td>\n",
              "      <td>8.0500</td>\n",
              "      <td></td>\n",
              "      <td>S</td>\n",
              "    </tr>\n",
              "    <tr>\n",
              "      <th>...</th>\n",
              "      <td>...</td>\n",
              "      <td>...</td>\n",
              "      <td>...</td>\n",
              "      <td>...</td>\n",
              "      <td>...</td>\n",
              "      <td>...</td>\n",
              "      <td>...</td>\n",
              "      <td>...</td>\n",
              "      <td>...</td>\n",
              "      <td>...</td>\n",
              "      <td>...</td>\n",
              "      <td>...</td>\n",
              "    </tr>\n",
              "    <tr>\n",
              "      <th>887</th>\n",
              "      <td>887</td>\n",
              "      <td>0</td>\n",
              "      <td>2</td>\n",
              "      <td>Montvila, Rev. Juozas</td>\n",
              "      <td>male</td>\n",
              "      <td>27.0</td>\n",
              "      <td>0</td>\n",
              "      <td>0</td>\n",
              "      <td>211536</td>\n",
              "      <td>13.0000</td>\n",
              "      <td></td>\n",
              "      <td>S</td>\n",
              "    </tr>\n",
              "    <tr>\n",
              "      <th>888</th>\n",
              "      <td>888</td>\n",
              "      <td>1</td>\n",
              "      <td>1</td>\n",
              "      <td>Graham, Miss. Margaret Edith</td>\n",
              "      <td>female</td>\n",
              "      <td>19.0</td>\n",
              "      <td>0</td>\n",
              "      <td>0</td>\n",
              "      <td>112053</td>\n",
              "      <td>30.0000</td>\n",
              "      <td>B42</td>\n",
              "      <td>S</td>\n",
              "    </tr>\n",
              "    <tr>\n",
              "      <th>889</th>\n",
              "      <td>889</td>\n",
              "      <td>0</td>\n",
              "      <td>3</td>\n",
              "      <td>Johnston, Miss. Catherine Helen \"Carrie\"</td>\n",
              "      <td>female</td>\n",
              "      <td>NaN</td>\n",
              "      <td>1</td>\n",
              "      <td>2</td>\n",
              "      <td>W./C. 6607</td>\n",
              "      <td>23.4500</td>\n",
              "      <td></td>\n",
              "      <td>S</td>\n",
              "    </tr>\n",
              "    <tr>\n",
              "      <th>890</th>\n",
              "      <td>890</td>\n",
              "      <td>1</td>\n",
              "      <td>1</td>\n",
              "      <td>Behr, Mr. Karl Howell</td>\n",
              "      <td>male</td>\n",
              "      <td>26.0</td>\n",
              "      <td>0</td>\n",
              "      <td>0</td>\n",
              "      <td>111369</td>\n",
              "      <td>30.0000</td>\n",
              "      <td>C148</td>\n",
              "      <td>C</td>\n",
              "    </tr>\n",
              "    <tr>\n",
              "      <th>891</th>\n",
              "      <td>891</td>\n",
              "      <td>0</td>\n",
              "      <td>3</td>\n",
              "      <td>Dooley, Mr. Patrick</td>\n",
              "      <td>male</td>\n",
              "      <td>32.0</td>\n",
              "      <td>0</td>\n",
              "      <td>0</td>\n",
              "      <td>370376</td>\n",
              "      <td>7.7500</td>\n",
              "      <td></td>\n",
              "      <td>Q</td>\n",
              "    </tr>\n",
              "  </tbody>\n",
              "</table>\n",
              "<p>891 rows × 12 columns</p>\n",
              "</div>\n",
              "    <div class=\"colab-df-buttons\">\n",
              "\n",
              "  <div class=\"colab-df-container\">\n",
              "    <button class=\"colab-df-convert\" onclick=\"convertToInteractive('df-621099b7-cc3d-4458-9061-6ef6d573fed6')\"\n",
              "            title=\"Convert this dataframe to an interactive table.\"\n",
              "            style=\"display:none;\">\n",
              "\n",
              "  <svg xmlns=\"http://www.w3.org/2000/svg\" height=\"24px\" viewBox=\"0 -960 960 960\">\n",
              "    <path d=\"M120-120v-720h720v720H120Zm60-500h600v-160H180v160Zm220 220h160v-160H400v160Zm0 220h160v-160H400v160ZM180-400h160v-160H180v160Zm440 0h160v-160H620v160ZM180-180h160v-160H180v160Zm440 0h160v-160H620v160Z\"/>\n",
              "  </svg>\n",
              "    </button>\n",
              "\n",
              "  <style>\n",
              "    .colab-df-container {\n",
              "      display:flex;\n",
              "      gap: 12px;\n",
              "    }\n",
              "\n",
              "    .colab-df-convert {\n",
              "      background-color: #E8F0FE;\n",
              "      border: none;\n",
              "      border-radius: 50%;\n",
              "      cursor: pointer;\n",
              "      display: none;\n",
              "      fill: #1967D2;\n",
              "      height: 32px;\n",
              "      padding: 0 0 0 0;\n",
              "      width: 32px;\n",
              "    }\n",
              "\n",
              "    .colab-df-convert:hover {\n",
              "      background-color: #E2EBFA;\n",
              "      box-shadow: 0px 1px 2px rgba(60, 64, 67, 0.3), 0px 1px 3px 1px rgba(60, 64, 67, 0.15);\n",
              "      fill: #174EA6;\n",
              "    }\n",
              "\n",
              "    .colab-df-buttons div {\n",
              "      margin-bottom: 4px;\n",
              "    }\n",
              "\n",
              "    [theme=dark] .colab-df-convert {\n",
              "      background-color: #3B4455;\n",
              "      fill: #D2E3FC;\n",
              "    }\n",
              "\n",
              "    [theme=dark] .colab-df-convert:hover {\n",
              "      background-color: #434B5C;\n",
              "      box-shadow: 0px 1px 3px 1px rgba(0, 0, 0, 0.15);\n",
              "      filter: drop-shadow(0px 1px 2px rgba(0, 0, 0, 0.3));\n",
              "      fill: #FFFFFF;\n",
              "    }\n",
              "  </style>\n",
              "\n",
              "    <script>\n",
              "      const buttonEl =\n",
              "        document.querySelector('#df-621099b7-cc3d-4458-9061-6ef6d573fed6 button.colab-df-convert');\n",
              "      buttonEl.style.display =\n",
              "        google.colab.kernel.accessAllowed ? 'block' : 'none';\n",
              "\n",
              "      async function convertToInteractive(key) {\n",
              "        const element = document.querySelector('#df-621099b7-cc3d-4458-9061-6ef6d573fed6');\n",
              "        const dataTable =\n",
              "          await google.colab.kernel.invokeFunction('convertToInteractive',\n",
              "                                                    [key], {});\n",
              "        if (!dataTable) return;\n",
              "\n",
              "        const docLinkHtml = 'Like what you see? Visit the ' +\n",
              "          '<a target=\"_blank\" href=https://colab.research.google.com/notebooks/data_table.ipynb>data table notebook</a>'\n",
              "          + ' to learn more about interactive tables.';\n",
              "        element.innerHTML = '';\n",
              "        dataTable['output_type'] = 'display_data';\n",
              "        await google.colab.output.renderOutput(dataTable, element);\n",
              "        const docLink = document.createElement('div');\n",
              "        docLink.innerHTML = docLinkHtml;\n",
              "        element.appendChild(docLink);\n",
              "      }\n",
              "    </script>\n",
              "  </div>\n",
              "\n",
              "\n",
              "<div id=\"df-761eb32b-5a35-49d6-ba38-c7206d4dbd1d\">\n",
              "  <button class=\"colab-df-quickchart\" onclick=\"quickchart('df-761eb32b-5a35-49d6-ba38-c7206d4dbd1d')\"\n",
              "            title=\"Suggest charts\"\n",
              "            style=\"display:none;\">\n",
              "\n",
              "<svg xmlns=\"http://www.w3.org/2000/svg\" height=\"24px\"viewBox=\"0 0 24 24\"\n",
              "     width=\"24px\">\n",
              "    <g>\n",
              "        <path d=\"M19 3H5c-1.1 0-2 .9-2 2v14c0 1.1.9 2 2 2h14c1.1 0 2-.9 2-2V5c0-1.1-.9-2-2-2zM9 17H7v-7h2v7zm4 0h-2V7h2v10zm4 0h-2v-4h2v4z\"/>\n",
              "    </g>\n",
              "</svg>\n",
              "  </button>\n",
              "\n",
              "<style>\n",
              "  .colab-df-quickchart {\n",
              "      --bg-color: #E8F0FE;\n",
              "      --fill-color: #1967D2;\n",
              "      --hover-bg-color: #E2EBFA;\n",
              "      --hover-fill-color: #174EA6;\n",
              "      --disabled-fill-color: #AAA;\n",
              "      --disabled-bg-color: #DDD;\n",
              "  }\n",
              "\n",
              "  [theme=dark] .colab-df-quickchart {\n",
              "      --bg-color: #3B4455;\n",
              "      --fill-color: #D2E3FC;\n",
              "      --hover-bg-color: #434B5C;\n",
              "      --hover-fill-color: #FFFFFF;\n",
              "      --disabled-bg-color: #3B4455;\n",
              "      --disabled-fill-color: #666;\n",
              "  }\n",
              "\n",
              "  .colab-df-quickchart {\n",
              "    background-color: var(--bg-color);\n",
              "    border: none;\n",
              "    border-radius: 50%;\n",
              "    cursor: pointer;\n",
              "    display: none;\n",
              "    fill: var(--fill-color);\n",
              "    height: 32px;\n",
              "    padding: 0;\n",
              "    width: 32px;\n",
              "  }\n",
              "\n",
              "  .colab-df-quickchart:hover {\n",
              "    background-color: var(--hover-bg-color);\n",
              "    box-shadow: 0 1px 2px rgba(60, 64, 67, 0.3), 0 1px 3px 1px rgba(60, 64, 67, 0.15);\n",
              "    fill: var(--button-hover-fill-color);\n",
              "  }\n",
              "\n",
              "  .colab-df-quickchart-complete:disabled,\n",
              "  .colab-df-quickchart-complete:disabled:hover {\n",
              "    background-color: var(--disabled-bg-color);\n",
              "    fill: var(--disabled-fill-color);\n",
              "    box-shadow: none;\n",
              "  }\n",
              "\n",
              "  .colab-df-spinner {\n",
              "    border: 2px solid var(--fill-color);\n",
              "    border-color: transparent;\n",
              "    border-bottom-color: var(--fill-color);\n",
              "    animation:\n",
              "      spin 1s steps(1) infinite;\n",
              "  }\n",
              "\n",
              "  @keyframes spin {\n",
              "    0% {\n",
              "      border-color: transparent;\n",
              "      border-bottom-color: var(--fill-color);\n",
              "      border-left-color: var(--fill-color);\n",
              "    }\n",
              "    20% {\n",
              "      border-color: transparent;\n",
              "      border-left-color: var(--fill-color);\n",
              "      border-top-color: var(--fill-color);\n",
              "    }\n",
              "    30% {\n",
              "      border-color: transparent;\n",
              "      border-left-color: var(--fill-color);\n",
              "      border-top-color: var(--fill-color);\n",
              "      border-right-color: var(--fill-color);\n",
              "    }\n",
              "    40% {\n",
              "      border-color: transparent;\n",
              "      border-right-color: var(--fill-color);\n",
              "      border-top-color: var(--fill-color);\n",
              "    }\n",
              "    60% {\n",
              "      border-color: transparent;\n",
              "      border-right-color: var(--fill-color);\n",
              "    }\n",
              "    80% {\n",
              "      border-color: transparent;\n",
              "      border-right-color: var(--fill-color);\n",
              "      border-bottom-color: var(--fill-color);\n",
              "    }\n",
              "    90% {\n",
              "      border-color: transparent;\n",
              "      border-bottom-color: var(--fill-color);\n",
              "    }\n",
              "  }\n",
              "</style>\n",
              "\n",
              "  <script>\n",
              "    async function quickchart(key) {\n",
              "      const quickchartButtonEl =\n",
              "        document.querySelector('#' + key + ' button');\n",
              "      quickchartButtonEl.disabled = true;  // To prevent multiple clicks.\n",
              "      quickchartButtonEl.classList.add('colab-df-spinner');\n",
              "      try {\n",
              "        const charts = await google.colab.kernel.invokeFunction(\n",
              "            'suggestCharts', [key], {});\n",
              "      } catch (error) {\n",
              "        console.error('Error during call to suggestCharts:', error);\n",
              "      }\n",
              "      quickchartButtonEl.classList.remove('colab-df-spinner');\n",
              "      quickchartButtonEl.classList.add('colab-df-quickchart-complete');\n",
              "    }\n",
              "    (() => {\n",
              "      let quickchartButtonEl =\n",
              "        document.querySelector('#df-761eb32b-5a35-49d6-ba38-c7206d4dbd1d button');\n",
              "      quickchartButtonEl.style.display =\n",
              "        google.colab.kernel.accessAllowed ? 'block' : 'none';\n",
              "    })();\n",
              "  </script>\n",
              "</div>\n",
              "\n",
              "  <div id=\"id_223cd736-459f-4915-96d2-e3fa94913b0e\">\n",
              "    <style>\n",
              "      .colab-df-generate {\n",
              "        background-color: #E8F0FE;\n",
              "        border: none;\n",
              "        border-radius: 50%;\n",
              "        cursor: pointer;\n",
              "        display: none;\n",
              "        fill: #1967D2;\n",
              "        height: 32px;\n",
              "        padding: 0 0 0 0;\n",
              "        width: 32px;\n",
              "      }\n",
              "\n",
              "      .colab-df-generate:hover {\n",
              "        background-color: #E2EBFA;\n",
              "        box-shadow: 0px 1px 2px rgba(60, 64, 67, 0.3), 0px 1px 3px 1px rgba(60, 64, 67, 0.15);\n",
              "        fill: #174EA6;\n",
              "      }\n",
              "\n",
              "      [theme=dark] .colab-df-generate {\n",
              "        background-color: #3B4455;\n",
              "        fill: #D2E3FC;\n",
              "      }\n",
              "\n",
              "      [theme=dark] .colab-df-generate:hover {\n",
              "        background-color: #434B5C;\n",
              "        box-shadow: 0px 1px 3px 1px rgba(0, 0, 0, 0.15);\n",
              "        filter: drop-shadow(0px 1px 2px rgba(0, 0, 0, 0.3));\n",
              "        fill: #FFFFFF;\n",
              "      }\n",
              "    </style>\n",
              "    <button class=\"colab-df-generate\" onclick=\"generateWithVariable('titanic_train')\"\n",
              "            title=\"Generate code using this dataframe.\"\n",
              "            style=\"display:none;\">\n",
              "\n",
              "  <svg xmlns=\"http://www.w3.org/2000/svg\" height=\"24px\"viewBox=\"0 0 24 24\"\n",
              "       width=\"24px\">\n",
              "    <path d=\"M7,19H8.4L18.45,9,17,7.55,7,17.6ZM5,21V16.75L18.45,3.32a2,2,0,0,1,2.83,0l1.4,1.43a1.91,1.91,0,0,1,.58,1.4,1.91,1.91,0,0,1-.58,1.4L9.25,21ZM18.45,9,17,7.55Zm-12,3A5.31,5.31,0,0,0,4.9,8.1,5.31,5.31,0,0,0,1,6.5,5.31,5.31,0,0,0,4.9,4.9,5.31,5.31,0,0,0,6.5,1,5.31,5.31,0,0,0,8.1,4.9,5.31,5.31,0,0,0,12,6.5,5.46,5.46,0,0,0,6.5,12Z\"/>\n",
              "  </svg>\n",
              "    </button>\n",
              "    <script>\n",
              "      (() => {\n",
              "      const buttonEl =\n",
              "        document.querySelector('#id_223cd736-459f-4915-96d2-e3fa94913b0e button.colab-df-generate');\n",
              "      buttonEl.style.display =\n",
              "        google.colab.kernel.accessAllowed ? 'block' : 'none';\n",
              "\n",
              "      buttonEl.onclick = () => {\n",
              "        google.colab.notebook.generateWithVariable('titanic_train');\n",
              "      }\n",
              "      })();\n",
              "    </script>\n",
              "  </div>\n",
              "\n",
              "    </div>\n",
              "  </div>\n"
            ],
            "application/vnd.google.colaboratory.intrinsic+json": {
              "type": "dataframe",
              "variable_name": "titanic_train",
              "summary": "{\n  \"name\": \"titanic_train\",\n  \"rows\": 891,\n  \"fields\": [\n    {\n      \"column\": \"PassengerId\",\n      \"properties\": {\n        \"dtype\": \"int32\",\n        \"num_unique_values\": 891,\n        \"samples\": [\n          710,\n          440,\n          841\n        ],\n        \"semantic_type\": \"\",\n        \"description\": \"\"\n      }\n    },\n    {\n      \"column\": \"Survived\",\n      \"properties\": {\n        \"dtype\": \"int32\",\n        \"num_unique_values\": 2,\n        \"samples\": [\n          1,\n          0\n        ],\n        \"semantic_type\": \"\",\n        \"description\": \"\"\n      }\n    },\n    {\n      \"column\": \"Pclass\",\n      \"properties\": {\n        \"dtype\": \"int32\",\n        \"num_unique_values\": 3,\n        \"samples\": [\n          3,\n          1\n        ],\n        \"semantic_type\": \"\",\n        \"description\": \"\"\n      }\n    },\n    {\n      \"column\": \"Name\",\n      \"properties\": {\n        \"dtype\": \"string\",\n        \"num_unique_values\": 891,\n        \"samples\": [\n          \"Moubarek, Master. Halim Gonios (\\\"William George\\\")\",\n          \"Kvillner, Mr. Johan Henrik Johannesson\"\n        ],\n        \"semantic_type\": \"\",\n        \"description\": \"\"\n      }\n    },\n    {\n      \"column\": \"Sex\",\n      \"properties\": {\n        \"dtype\": \"category\",\n        \"num_unique_values\": 2,\n        \"samples\": [\n          \"female\",\n          \"male\"\n        ],\n        \"semantic_type\": \"\",\n        \"description\": \"\"\n      }\n    },\n    {\n      \"column\": \"Age\",\n      \"properties\": {\n        \"dtype\": \"number\",\n        \"std\": 14.526497332334044,\n        \"min\": 0.42,\n        \"max\": 80.0,\n        \"num_unique_values\": 88,\n        \"samples\": [\n          0.75,\n          22.0\n        ],\n        \"semantic_type\": \"\",\n        \"description\": \"\"\n      }\n    },\n    {\n      \"column\": \"SibSp\",\n      \"properties\": {\n        \"dtype\": \"int32\",\n        \"num_unique_values\": 7,\n        \"samples\": [\n          1,\n          0\n        ],\n        \"semantic_type\": \"\",\n        \"description\": \"\"\n      }\n    },\n    {\n      \"column\": \"Parch\",\n      \"properties\": {\n        \"dtype\": \"int32\",\n        \"num_unique_values\": 7,\n        \"samples\": [\n          0,\n          1\n        ],\n        \"semantic_type\": \"\",\n        \"description\": \"\"\n      }\n    },\n    {\n      \"column\": \"Ticket\",\n      \"properties\": {\n        \"dtype\": \"string\",\n        \"num_unique_values\": 681,\n        \"samples\": [\n          \"11774\",\n          \"248740\"\n        ],\n        \"semantic_type\": \"\",\n        \"description\": \"\"\n      }\n    },\n    {\n      \"column\": \"Fare\",\n      \"properties\": {\n        \"dtype\": \"number\",\n        \"std\": 49.693428597180905,\n        \"min\": 0.0,\n        \"max\": 512.3292,\n        \"num_unique_values\": 248,\n        \"samples\": [\n          11.2417,\n          51.8625\n        ],\n        \"semantic_type\": \"\",\n        \"description\": \"\"\n      }\n    },\n    {\n      \"column\": \"Cabin\",\n      \"properties\": {\n        \"dtype\": \"category\",\n        \"num_unique_values\": 148,\n        \"samples\": [\n          \"B101\",\n          \"A19\"\n        ],\n        \"semantic_type\": \"\",\n        \"description\": \"\"\n      }\n    },\n    {\n      \"column\": \"Embarked\",\n      \"properties\": {\n        \"dtype\": \"category\",\n        \"num_unique_values\": 4,\n        \"samples\": [\n          \"C\",\n          \"\"\n        ],\n        \"semantic_type\": \"\",\n        \"description\": \"\"\n      }\n    }\n  ]\n}"
            }
          },
          "metadata": {},
          "execution_count": 10
        }
      ]
    },
    {
      "cell_type": "code",
      "source": [
        "titanic_test"
      ],
      "metadata": {
        "id": "UNmc_AGaA9S7",
        "colab": {
          "base_uri": "https://localhost:8080/",
          "height": 423
        },
        "outputId": "68dbb314-35ea-4956-e35e-161604607c6e"
      },
      "execution_count": null,
      "outputs": [
        {
          "output_type": "execute_result",
          "data": {
            "text/plain": [
              "     PassengerId  Pclass                                          Name     Sex   Age  SibSp  Parch              Ticket      Fare Cabin Embarked\n",
              "1            892       3                              Kelly, Mr. James    male  34.5      0      0              330911    7.8292              Q\n",
              "2            893       3              Wilkes, Mrs. James (Ellen Needs)  female  47.0      1      0              363272    7.0000              S\n",
              "3            894       2                     Myles, Mr. Thomas Francis    male  62.0      0      0              240276    9.6875              Q\n",
              "4            895       3                              Wirz, Mr. Albert    male  27.0      0      0              315154    8.6625              S\n",
              "5            896       3  Hirvonen, Mrs. Alexander (Helga E Lindqvist)  female  22.0      1      1             3101298   12.2875              S\n",
              "..           ...     ...                                           ...     ...   ...    ...    ...                 ...       ...   ...      ...\n",
              "414         1305       3                            Spector, Mr. Woolf    male   NaN      0      0           A.5. 3236    8.0500              S\n",
              "415         1306       1                  Oliva y Ocana, Dona. Fermina  female  39.0      0      0            PC 17758  108.9000  C105        C\n",
              "416         1307       3                  Saether, Mr. Simon Sivertsen    male  38.5      0      0  SOTON/O.Q. 3101262    7.2500              S\n",
              "417         1308       3                           Ware, Mr. Frederick    male   NaN      0      0              359309    8.0500              S\n",
              "418         1309       3                      Peter, Master. Michael J    male   NaN      1      1                2668   22.3583              C\n",
              "\n",
              "[418 rows x 11 columns]"
            ],
            "text/html": [
              "\n",
              "  <div id=\"df-b5bb0777-11cc-4aa9-8d96-7a3a9b876b9c\" class=\"colab-df-container\">\n",
              "    <div>\n",
              "<style scoped>\n",
              "    .dataframe tbody tr th:only-of-type {\n",
              "        vertical-align: middle;\n",
              "    }\n",
              "\n",
              "    .dataframe tbody tr th {\n",
              "        vertical-align: top;\n",
              "    }\n",
              "\n",
              "    .dataframe thead th {\n",
              "        text-align: right;\n",
              "    }\n",
              "</style>\n",
              "<table border=\"1\" class=\"dataframe\">\n",
              "  <thead>\n",
              "    <tr style=\"text-align: right;\">\n",
              "      <th></th>\n",
              "      <th>PassengerId</th>\n",
              "      <th>Pclass</th>\n",
              "      <th>Name</th>\n",
              "      <th>Sex</th>\n",
              "      <th>Age</th>\n",
              "      <th>SibSp</th>\n",
              "      <th>Parch</th>\n",
              "      <th>Ticket</th>\n",
              "      <th>Fare</th>\n",
              "      <th>Cabin</th>\n",
              "      <th>Embarked</th>\n",
              "    </tr>\n",
              "  </thead>\n",
              "  <tbody>\n",
              "    <tr>\n",
              "      <th>1</th>\n",
              "      <td>892</td>\n",
              "      <td>3</td>\n",
              "      <td>Kelly, Mr. James</td>\n",
              "      <td>male</td>\n",
              "      <td>34.5</td>\n",
              "      <td>0</td>\n",
              "      <td>0</td>\n",
              "      <td>330911</td>\n",
              "      <td>7.8292</td>\n",
              "      <td></td>\n",
              "      <td>Q</td>\n",
              "    </tr>\n",
              "    <tr>\n",
              "      <th>2</th>\n",
              "      <td>893</td>\n",
              "      <td>3</td>\n",
              "      <td>Wilkes, Mrs. James (Ellen Needs)</td>\n",
              "      <td>female</td>\n",
              "      <td>47.0</td>\n",
              "      <td>1</td>\n",
              "      <td>0</td>\n",
              "      <td>363272</td>\n",
              "      <td>7.0000</td>\n",
              "      <td></td>\n",
              "      <td>S</td>\n",
              "    </tr>\n",
              "    <tr>\n",
              "      <th>3</th>\n",
              "      <td>894</td>\n",
              "      <td>2</td>\n",
              "      <td>Myles, Mr. Thomas Francis</td>\n",
              "      <td>male</td>\n",
              "      <td>62.0</td>\n",
              "      <td>0</td>\n",
              "      <td>0</td>\n",
              "      <td>240276</td>\n",
              "      <td>9.6875</td>\n",
              "      <td></td>\n",
              "      <td>Q</td>\n",
              "    </tr>\n",
              "    <tr>\n",
              "      <th>4</th>\n",
              "      <td>895</td>\n",
              "      <td>3</td>\n",
              "      <td>Wirz, Mr. Albert</td>\n",
              "      <td>male</td>\n",
              "      <td>27.0</td>\n",
              "      <td>0</td>\n",
              "      <td>0</td>\n",
              "      <td>315154</td>\n",
              "      <td>8.6625</td>\n",
              "      <td></td>\n",
              "      <td>S</td>\n",
              "    </tr>\n",
              "    <tr>\n",
              "      <th>5</th>\n",
              "      <td>896</td>\n",
              "      <td>3</td>\n",
              "      <td>Hirvonen, Mrs. Alexander (Helga E Lindqvist)</td>\n",
              "      <td>female</td>\n",
              "      <td>22.0</td>\n",
              "      <td>1</td>\n",
              "      <td>1</td>\n",
              "      <td>3101298</td>\n",
              "      <td>12.2875</td>\n",
              "      <td></td>\n",
              "      <td>S</td>\n",
              "    </tr>\n",
              "    <tr>\n",
              "      <th>...</th>\n",
              "      <td>...</td>\n",
              "      <td>...</td>\n",
              "      <td>...</td>\n",
              "      <td>...</td>\n",
              "      <td>...</td>\n",
              "      <td>...</td>\n",
              "      <td>...</td>\n",
              "      <td>...</td>\n",
              "      <td>...</td>\n",
              "      <td>...</td>\n",
              "      <td>...</td>\n",
              "    </tr>\n",
              "    <tr>\n",
              "      <th>414</th>\n",
              "      <td>1305</td>\n",
              "      <td>3</td>\n",
              "      <td>Spector, Mr. Woolf</td>\n",
              "      <td>male</td>\n",
              "      <td>NaN</td>\n",
              "      <td>0</td>\n",
              "      <td>0</td>\n",
              "      <td>A.5. 3236</td>\n",
              "      <td>8.0500</td>\n",
              "      <td></td>\n",
              "      <td>S</td>\n",
              "    </tr>\n",
              "    <tr>\n",
              "      <th>415</th>\n",
              "      <td>1306</td>\n",
              "      <td>1</td>\n",
              "      <td>Oliva y Ocana, Dona. Fermina</td>\n",
              "      <td>female</td>\n",
              "      <td>39.0</td>\n",
              "      <td>0</td>\n",
              "      <td>0</td>\n",
              "      <td>PC 17758</td>\n",
              "      <td>108.9000</td>\n",
              "      <td>C105</td>\n",
              "      <td>C</td>\n",
              "    </tr>\n",
              "    <tr>\n",
              "      <th>416</th>\n",
              "      <td>1307</td>\n",
              "      <td>3</td>\n",
              "      <td>Saether, Mr. Simon Sivertsen</td>\n",
              "      <td>male</td>\n",
              "      <td>38.5</td>\n",
              "      <td>0</td>\n",
              "      <td>0</td>\n",
              "      <td>SOTON/O.Q. 3101262</td>\n",
              "      <td>7.2500</td>\n",
              "      <td></td>\n",
              "      <td>S</td>\n",
              "    </tr>\n",
              "    <tr>\n",
              "      <th>417</th>\n",
              "      <td>1308</td>\n",
              "      <td>3</td>\n",
              "      <td>Ware, Mr. Frederick</td>\n",
              "      <td>male</td>\n",
              "      <td>NaN</td>\n",
              "      <td>0</td>\n",
              "      <td>0</td>\n",
              "      <td>359309</td>\n",
              "      <td>8.0500</td>\n",
              "      <td></td>\n",
              "      <td>S</td>\n",
              "    </tr>\n",
              "    <tr>\n",
              "      <th>418</th>\n",
              "      <td>1309</td>\n",
              "      <td>3</td>\n",
              "      <td>Peter, Master. Michael J</td>\n",
              "      <td>male</td>\n",
              "      <td>NaN</td>\n",
              "      <td>1</td>\n",
              "      <td>1</td>\n",
              "      <td>2668</td>\n",
              "      <td>22.3583</td>\n",
              "      <td></td>\n",
              "      <td>C</td>\n",
              "    </tr>\n",
              "  </tbody>\n",
              "</table>\n",
              "<p>418 rows × 11 columns</p>\n",
              "</div>\n",
              "    <div class=\"colab-df-buttons\">\n",
              "\n",
              "  <div class=\"colab-df-container\">\n",
              "    <button class=\"colab-df-convert\" onclick=\"convertToInteractive('df-b5bb0777-11cc-4aa9-8d96-7a3a9b876b9c')\"\n",
              "            title=\"Convert this dataframe to an interactive table.\"\n",
              "            style=\"display:none;\">\n",
              "\n",
              "  <svg xmlns=\"http://www.w3.org/2000/svg\" height=\"24px\" viewBox=\"0 -960 960 960\">\n",
              "    <path d=\"M120-120v-720h720v720H120Zm60-500h600v-160H180v160Zm220 220h160v-160H400v160Zm0 220h160v-160H400v160ZM180-400h160v-160H180v160Zm440 0h160v-160H620v160ZM180-180h160v-160H180v160Zm440 0h160v-160H620v160Z\"/>\n",
              "  </svg>\n",
              "    </button>\n",
              "\n",
              "  <style>\n",
              "    .colab-df-container {\n",
              "      display:flex;\n",
              "      gap: 12px;\n",
              "    }\n",
              "\n",
              "    .colab-df-convert {\n",
              "      background-color: #E8F0FE;\n",
              "      border: none;\n",
              "      border-radius: 50%;\n",
              "      cursor: pointer;\n",
              "      display: none;\n",
              "      fill: #1967D2;\n",
              "      height: 32px;\n",
              "      padding: 0 0 0 0;\n",
              "      width: 32px;\n",
              "    }\n",
              "\n",
              "    .colab-df-convert:hover {\n",
              "      background-color: #E2EBFA;\n",
              "      box-shadow: 0px 1px 2px rgba(60, 64, 67, 0.3), 0px 1px 3px 1px rgba(60, 64, 67, 0.15);\n",
              "      fill: #174EA6;\n",
              "    }\n",
              "\n",
              "    .colab-df-buttons div {\n",
              "      margin-bottom: 4px;\n",
              "    }\n",
              "\n",
              "    [theme=dark] .colab-df-convert {\n",
              "      background-color: #3B4455;\n",
              "      fill: #D2E3FC;\n",
              "    }\n",
              "\n",
              "    [theme=dark] .colab-df-convert:hover {\n",
              "      background-color: #434B5C;\n",
              "      box-shadow: 0px 1px 3px 1px rgba(0, 0, 0, 0.15);\n",
              "      filter: drop-shadow(0px 1px 2px rgba(0, 0, 0, 0.3));\n",
              "      fill: #FFFFFF;\n",
              "    }\n",
              "  </style>\n",
              "\n",
              "    <script>\n",
              "      const buttonEl =\n",
              "        document.querySelector('#df-b5bb0777-11cc-4aa9-8d96-7a3a9b876b9c button.colab-df-convert');\n",
              "      buttonEl.style.display =\n",
              "        google.colab.kernel.accessAllowed ? 'block' : 'none';\n",
              "\n",
              "      async function convertToInteractive(key) {\n",
              "        const element = document.querySelector('#df-b5bb0777-11cc-4aa9-8d96-7a3a9b876b9c');\n",
              "        const dataTable =\n",
              "          await google.colab.kernel.invokeFunction('convertToInteractive',\n",
              "                                                    [key], {});\n",
              "        if (!dataTable) return;\n",
              "\n",
              "        const docLinkHtml = 'Like what you see? Visit the ' +\n",
              "          '<a target=\"_blank\" href=https://colab.research.google.com/notebooks/data_table.ipynb>data table notebook</a>'\n",
              "          + ' to learn more about interactive tables.';\n",
              "        element.innerHTML = '';\n",
              "        dataTable['output_type'] = 'display_data';\n",
              "        await google.colab.output.renderOutput(dataTable, element);\n",
              "        const docLink = document.createElement('div');\n",
              "        docLink.innerHTML = docLinkHtml;\n",
              "        element.appendChild(docLink);\n",
              "      }\n",
              "    </script>\n",
              "  </div>\n",
              "\n",
              "\n",
              "<div id=\"df-1da4c7e1-43e7-4456-a061-c9fc627241e4\">\n",
              "  <button class=\"colab-df-quickchart\" onclick=\"quickchart('df-1da4c7e1-43e7-4456-a061-c9fc627241e4')\"\n",
              "            title=\"Suggest charts\"\n",
              "            style=\"display:none;\">\n",
              "\n",
              "<svg xmlns=\"http://www.w3.org/2000/svg\" height=\"24px\"viewBox=\"0 0 24 24\"\n",
              "     width=\"24px\">\n",
              "    <g>\n",
              "        <path d=\"M19 3H5c-1.1 0-2 .9-2 2v14c0 1.1.9 2 2 2h14c1.1 0 2-.9 2-2V5c0-1.1-.9-2-2-2zM9 17H7v-7h2v7zm4 0h-2V7h2v10zm4 0h-2v-4h2v4z\"/>\n",
              "    </g>\n",
              "</svg>\n",
              "  </button>\n",
              "\n",
              "<style>\n",
              "  .colab-df-quickchart {\n",
              "      --bg-color: #E8F0FE;\n",
              "      --fill-color: #1967D2;\n",
              "      --hover-bg-color: #E2EBFA;\n",
              "      --hover-fill-color: #174EA6;\n",
              "      --disabled-fill-color: #AAA;\n",
              "      --disabled-bg-color: #DDD;\n",
              "  }\n",
              "\n",
              "  [theme=dark] .colab-df-quickchart {\n",
              "      --bg-color: #3B4455;\n",
              "      --fill-color: #D2E3FC;\n",
              "      --hover-bg-color: #434B5C;\n",
              "      --hover-fill-color: #FFFFFF;\n",
              "      --disabled-bg-color: #3B4455;\n",
              "      --disabled-fill-color: #666;\n",
              "  }\n",
              "\n",
              "  .colab-df-quickchart {\n",
              "    background-color: var(--bg-color);\n",
              "    border: none;\n",
              "    border-radius: 50%;\n",
              "    cursor: pointer;\n",
              "    display: none;\n",
              "    fill: var(--fill-color);\n",
              "    height: 32px;\n",
              "    padding: 0;\n",
              "    width: 32px;\n",
              "  }\n",
              "\n",
              "  .colab-df-quickchart:hover {\n",
              "    background-color: var(--hover-bg-color);\n",
              "    box-shadow: 0 1px 2px rgba(60, 64, 67, 0.3), 0 1px 3px 1px rgba(60, 64, 67, 0.15);\n",
              "    fill: var(--button-hover-fill-color);\n",
              "  }\n",
              "\n",
              "  .colab-df-quickchart-complete:disabled,\n",
              "  .colab-df-quickchart-complete:disabled:hover {\n",
              "    background-color: var(--disabled-bg-color);\n",
              "    fill: var(--disabled-fill-color);\n",
              "    box-shadow: none;\n",
              "  }\n",
              "\n",
              "  .colab-df-spinner {\n",
              "    border: 2px solid var(--fill-color);\n",
              "    border-color: transparent;\n",
              "    border-bottom-color: var(--fill-color);\n",
              "    animation:\n",
              "      spin 1s steps(1) infinite;\n",
              "  }\n",
              "\n",
              "  @keyframes spin {\n",
              "    0% {\n",
              "      border-color: transparent;\n",
              "      border-bottom-color: var(--fill-color);\n",
              "      border-left-color: var(--fill-color);\n",
              "    }\n",
              "    20% {\n",
              "      border-color: transparent;\n",
              "      border-left-color: var(--fill-color);\n",
              "      border-top-color: var(--fill-color);\n",
              "    }\n",
              "    30% {\n",
              "      border-color: transparent;\n",
              "      border-left-color: var(--fill-color);\n",
              "      border-top-color: var(--fill-color);\n",
              "      border-right-color: var(--fill-color);\n",
              "    }\n",
              "    40% {\n",
              "      border-color: transparent;\n",
              "      border-right-color: var(--fill-color);\n",
              "      border-top-color: var(--fill-color);\n",
              "    }\n",
              "    60% {\n",
              "      border-color: transparent;\n",
              "      border-right-color: var(--fill-color);\n",
              "    }\n",
              "    80% {\n",
              "      border-color: transparent;\n",
              "      border-right-color: var(--fill-color);\n",
              "      border-bottom-color: var(--fill-color);\n",
              "    }\n",
              "    90% {\n",
              "      border-color: transparent;\n",
              "      border-bottom-color: var(--fill-color);\n",
              "    }\n",
              "  }\n",
              "</style>\n",
              "\n",
              "  <script>\n",
              "    async function quickchart(key) {\n",
              "      const quickchartButtonEl =\n",
              "        document.querySelector('#' + key + ' button');\n",
              "      quickchartButtonEl.disabled = true;  // To prevent multiple clicks.\n",
              "      quickchartButtonEl.classList.add('colab-df-spinner');\n",
              "      try {\n",
              "        const charts = await google.colab.kernel.invokeFunction(\n",
              "            'suggestCharts', [key], {});\n",
              "      } catch (error) {\n",
              "        console.error('Error during call to suggestCharts:', error);\n",
              "      }\n",
              "      quickchartButtonEl.classList.remove('colab-df-spinner');\n",
              "      quickchartButtonEl.classList.add('colab-df-quickchart-complete');\n",
              "    }\n",
              "    (() => {\n",
              "      let quickchartButtonEl =\n",
              "        document.querySelector('#df-1da4c7e1-43e7-4456-a061-c9fc627241e4 button');\n",
              "      quickchartButtonEl.style.display =\n",
              "        google.colab.kernel.accessAllowed ? 'block' : 'none';\n",
              "    })();\n",
              "  </script>\n",
              "</div>\n",
              "\n",
              "  <div id=\"id_3d967b6b-30db-4408-bb84-aaa55b03f86e\">\n",
              "    <style>\n",
              "      .colab-df-generate {\n",
              "        background-color: #E8F0FE;\n",
              "        border: none;\n",
              "        border-radius: 50%;\n",
              "        cursor: pointer;\n",
              "        display: none;\n",
              "        fill: #1967D2;\n",
              "        height: 32px;\n",
              "        padding: 0 0 0 0;\n",
              "        width: 32px;\n",
              "      }\n",
              "\n",
              "      .colab-df-generate:hover {\n",
              "        background-color: #E2EBFA;\n",
              "        box-shadow: 0px 1px 2px rgba(60, 64, 67, 0.3), 0px 1px 3px 1px rgba(60, 64, 67, 0.15);\n",
              "        fill: #174EA6;\n",
              "      }\n",
              "\n",
              "      [theme=dark] .colab-df-generate {\n",
              "        background-color: #3B4455;\n",
              "        fill: #D2E3FC;\n",
              "      }\n",
              "\n",
              "      [theme=dark] .colab-df-generate:hover {\n",
              "        background-color: #434B5C;\n",
              "        box-shadow: 0px 1px 3px 1px rgba(0, 0, 0, 0.15);\n",
              "        filter: drop-shadow(0px 1px 2px rgba(0, 0, 0, 0.3));\n",
              "        fill: #FFFFFF;\n",
              "      }\n",
              "    </style>\n",
              "    <button class=\"colab-df-generate\" onclick=\"generateWithVariable('titanic_test')\"\n",
              "            title=\"Generate code using this dataframe.\"\n",
              "            style=\"display:none;\">\n",
              "\n",
              "  <svg xmlns=\"http://www.w3.org/2000/svg\" height=\"24px\"viewBox=\"0 0 24 24\"\n",
              "       width=\"24px\">\n",
              "    <path d=\"M7,19H8.4L18.45,9,17,7.55,7,17.6ZM5,21V16.75L18.45,3.32a2,2,0,0,1,2.83,0l1.4,1.43a1.91,1.91,0,0,1,.58,1.4,1.91,1.91,0,0,1-.58,1.4L9.25,21ZM18.45,9,17,7.55Zm-12,3A5.31,5.31,0,0,0,4.9,8.1,5.31,5.31,0,0,0,1,6.5,5.31,5.31,0,0,0,4.9,4.9,5.31,5.31,0,0,0,6.5,1,5.31,5.31,0,0,0,8.1,4.9,5.31,5.31,0,0,0,12,6.5,5.46,5.46,0,0,0,6.5,12Z\"/>\n",
              "  </svg>\n",
              "    </button>\n",
              "    <script>\n",
              "      (() => {\n",
              "      const buttonEl =\n",
              "        document.querySelector('#id_3d967b6b-30db-4408-bb84-aaa55b03f86e button.colab-df-generate');\n",
              "      buttonEl.style.display =\n",
              "        google.colab.kernel.accessAllowed ? 'block' : 'none';\n",
              "\n",
              "      buttonEl.onclick = () => {\n",
              "        google.colab.notebook.generateWithVariable('titanic_test');\n",
              "      }\n",
              "      })();\n",
              "    </script>\n",
              "  </div>\n",
              "\n",
              "    </div>\n",
              "  </div>\n"
            ],
            "application/vnd.google.colaboratory.intrinsic+json": {
              "type": "dataframe",
              "variable_name": "titanic_test",
              "summary": "{\n  \"name\": \"titanic_test\",\n  \"rows\": 418,\n  \"fields\": [\n    {\n      \"column\": \"PassengerId\",\n      \"properties\": {\n        \"dtype\": \"int32\",\n        \"num_unique_values\": 418,\n        \"samples\": [\n          1213,\n          1216,\n          1280\n        ],\n        \"semantic_type\": \"\",\n        \"description\": \"\"\n      }\n    },\n    {\n      \"column\": \"Pclass\",\n      \"properties\": {\n        \"dtype\": \"int32\",\n        \"num_unique_values\": 3,\n        \"samples\": [\n          3,\n          2,\n          1\n        ],\n        \"semantic_type\": \"\",\n        \"description\": \"\"\n      }\n    },\n    {\n      \"column\": \"Name\",\n      \"properties\": {\n        \"dtype\": \"string\",\n        \"num_unique_values\": 418,\n        \"samples\": [\n          \"Krekorian, Mr. Neshan\",\n          \"Kreuchen, Miss. Emilie\",\n          \"Canavan, Mr. Patrick\"\n        ],\n        \"semantic_type\": \"\",\n        \"description\": \"\"\n      }\n    },\n    {\n      \"column\": \"Sex\",\n      \"properties\": {\n        \"dtype\": \"category\",\n        \"num_unique_values\": 2,\n        \"samples\": [\n          \"female\",\n          \"male\"\n        ],\n        \"semantic_type\": \"\",\n        \"description\": \"\"\n      }\n    },\n    {\n      \"column\": \"Age\",\n      \"properties\": {\n        \"dtype\": \"number\",\n        \"std\": 14.18120923562442,\n        \"min\": 0.17,\n        \"max\": 76.0,\n        \"num_unique_values\": 79,\n        \"samples\": [\n          10.0,\n          34.5\n        ],\n        \"semantic_type\": \"\",\n        \"description\": \"\"\n      }\n    },\n    {\n      \"column\": \"SibSp\",\n      \"properties\": {\n        \"dtype\": \"int32\",\n        \"num_unique_values\": 7,\n        \"samples\": [\n          0,\n          1\n        ],\n        \"semantic_type\": \"\",\n        \"description\": \"\"\n      }\n    },\n    {\n      \"column\": \"Parch\",\n      \"properties\": {\n        \"dtype\": \"int32\",\n        \"num_unique_values\": 8,\n        \"samples\": [\n          1,\n          6\n        ],\n        \"semantic_type\": \"\",\n        \"description\": \"\"\n      }\n    },\n    {\n      \"column\": \"Ticket\",\n      \"properties\": {\n        \"dtype\": \"string\",\n        \"num_unique_values\": 363,\n        \"samples\": [\n          \"2673\",\n          \"W./C. 6607\"\n        ],\n        \"semantic_type\": \"\",\n        \"description\": \"\"\n      }\n    },\n    {\n      \"column\": \"Fare\",\n      \"properties\": {\n        \"dtype\": \"number\",\n        \"std\": 55.90757617997383,\n        \"min\": 0.0,\n        \"max\": 512.3292,\n        \"num_unique_values\": 169,\n        \"samples\": [\n          41.5792,\n          57.75\n        ],\n        \"semantic_type\": \"\",\n        \"description\": \"\"\n      }\n    },\n    {\n      \"column\": \"Cabin\",\n      \"properties\": {\n        \"dtype\": \"category\",\n        \"num_unique_values\": 77,\n        \"samples\": [\n          \"B36\",\n          \"F4\"\n        ],\n        \"semantic_type\": \"\",\n        \"description\": \"\"\n      }\n    },\n    {\n      \"column\": \"Embarked\",\n      \"properties\": {\n        \"dtype\": \"category\",\n        \"num_unique_values\": 3,\n        \"samples\": [\n          \"Q\",\n          \"S\"\n        ],\n        \"semantic_type\": \"\",\n        \"description\": \"\"\n      }\n    }\n  ]\n}"
            }
          },
          "metadata": {},
          "execution_count": 11
        }
      ]
    },
    {
      "cell_type": "code",
      "source": [
        "# Summarize the datasets\n",
        "print(\"Summary of Train Dataset (Numeric):\")\n",
        "print(titanic_train.describe())\n",
        "print(\"\\nSummary of Train Dataset (Categorical):\")\n",
        "print(titanic_train.describe(include=['O']))\n",
        "\n",
        "#print(\"\\nSummary of Test Dataset (Numeric):\")\n",
        "#print(titanic_test.describe())\n",
        "#print(\"\\nSummary of Test Dataset (Categorical):\")\n",
        "#print(titanic_test.describe(include=['O']))\n",
        "\n",
        "# Count missing values\n",
        "print(\"\\nNumber of NAs in Train Dataset:\")\n",
        "print(titanic_train.isna().sum())\n",
        "#print(\"\\nNumber of NAs in Test Dataset:\")\n",
        "#print(titanic_test.isna().sum())"
      ],
      "metadata": {
        "id": "JiFWTlDG0cQP",
        "colab": {
          "base_uri": "https://localhost:8080/"
        },
        "outputId": "c78ad7b9-398a-4457-b68a-72cdf2c2d5b5"
      },
      "execution_count": null,
      "outputs": [
        {
          "output_type": "stream",
          "name": "stdout",
          "text": [
            "Summary of Train Dataset (Numeric):\n",
            "       PassengerId    Survived      Pclass         Age       SibSp       Parch        Fare\n",
            "count   891.000000  891.000000  891.000000  714.000000  891.000000  891.000000  891.000000\n",
            "mean    446.000000    0.383838    2.308642   29.699118    0.523008    0.381594   32.204208\n",
            "std     257.353842    0.486592    0.836071   14.526497    1.102743    0.806057   49.693429\n",
            "min       1.000000    0.000000    1.000000    0.420000    0.000000    0.000000    0.000000\n",
            "25%     223.500000    0.000000    2.000000   20.125000    0.000000    0.000000    7.910400\n",
            "50%     446.000000    0.000000    3.000000   28.000000    0.000000    0.000000   14.454200\n",
            "75%     668.500000    1.000000    3.000000   38.000000    1.000000    0.000000   31.000000\n",
            "max     891.000000    1.000000    3.000000   80.000000    8.000000    6.000000  512.329200\n",
            "\n",
            "Summary of Train Dataset (Categorical):\n",
            "                       Name   Sex  Ticket Cabin Embarked\n",
            "count                   891   891     891   891      891\n",
            "unique                  891     2     681   148        4\n",
            "top     Dooley, Mr. Patrick  male  347082              S\n",
            "freq                      1   577       7   687      644\n",
            "\n",
            "Number of NAs in Train Dataset:\n",
            "PassengerId      0\n",
            "Survived         0\n",
            "Pclass           0\n",
            "Name             0\n",
            "Sex              0\n",
            "Age            177\n",
            "SibSp            0\n",
            "Parch            0\n",
            "Ticket           0\n",
            "Fare             0\n",
            "Cabin            0\n",
            "Embarked         0\n",
            "dtype: int64\n"
          ]
        }
      ]
    },
    {
      "cell_type": "code",
      "metadata": {
        "id": "AfwAohjgfMvg"
      },
      "source": [],
      "execution_count": null,
      "outputs": []
    },
    {
      "cell_type": "markdown",
      "metadata": {
        "id": "TV0KbD9KZ_bz"
      },
      "source": [
        "We will modify dataset_train for our academic purpose :-)"
      ]
    },
    {
      "cell_type": "markdown",
      "metadata": {
        "id": "su9BUYSwb_HX"
      },
      "source": [
        "### Model where all covariates are discrete (Use DF called `data_dis`)"
      ]
    },
    {
      "cell_type": "code",
      "source": [
        "# Load data and select columns\n",
        "data_dis = titanic_train[['Survived', 'Pclass', 'Sex', 'Embarked']]\n",
        "\n",
        "# Convert string columns to categorical\n",
        "data_dis = data_dis.apply(lambda col: col.astype('category') if col.dtype == 'object' else col)\n",
        "print(\"Summary after conversion to categorical:\")\n",
        "print(data_dis.describe(include='all'))\n",
        "\n",
        "# Filter and transmute\n",
        "data_dis = data_dis[data_dis['Embarked'].isin(['C', 'Q', 'S'])]\n",
        "data_dis = data_dis.assign(\n",
        "    survived=data_dis['Survived'].astype('category'),\n",
        "    classes=data_dis['Pclass'].astype('category'),\n",
        "    sex=data_dis['Sex'].astype('category'),\n",
        "    embarked=data_dis['Embarked'].astype('category')\n",
        ")\n",
        "data_dis = data_dis[['survived', 'classes', 'sex', 'embarked']]\n",
        "\n"
      ],
      "metadata": {
        "id": "sLln0jLTChk1",
        "colab": {
          "base_uri": "https://localhost:8080/"
        },
        "outputId": "d3b946bc-35ce-4448-a708-482f7386d551"
      },
      "execution_count": null,
      "outputs": [
        {
          "output_type": "stream",
          "name": "stdout",
          "text": [
            "Summary after conversion to categorical:\n",
            "          Survived      Pclass   Sex Embarked\n",
            "count   891.000000  891.000000   891      891\n",
            "unique         NaN         NaN     2        4\n",
            "top            NaN         NaN  male        S\n",
            "freq           NaN         NaN   577      644\n",
            "mean      0.383838    2.308642   NaN      NaN\n",
            "std       0.486592    0.836071   NaN      NaN\n",
            "min       0.000000    1.000000   NaN      NaN\n",
            "25%       0.000000    2.000000   NaN      NaN\n",
            "50%       0.000000    3.000000   NaN      NaN\n",
            "75%       1.000000    3.000000   NaN      NaN\n",
            "max       1.000000    3.000000   NaN      NaN\n"
          ]
        }
      ]
    },
    {
      "cell_type": "code",
      "source": [
        "sns.countplot(x='sex', hue='survived', data=data_dis)\n",
        "\n",
        "# Output the summary and structure\n",
        "print(\"\\nSummary of final data:\")\n",
        "print(data_dis.describe(include='all'))\n",
        "print(\"\\nStructure of final data:\")\n",
        "print(data_dis.info())\n"
      ],
      "metadata": {
        "id": "weHkpUlGl3u-",
        "colab": {
          "base_uri": "https://localhost:8080/",
          "height": 814
        },
        "outputId": "78783801-41c3-4c30-c0a3-b113501c3218"
      },
      "execution_count": null,
      "outputs": [
        {
          "output_type": "stream",
          "name": "stdout",
          "text": [
            "\n",
            "Summary of final data:\n",
            "        survived  classes   sex embarked\n",
            "count        889      889   889      889\n",
            "unique         2        3     2        3\n",
            "top            0        3  male        S\n",
            "freq         549      491   577      644\n",
            "\n",
            "Structure of final data:\n",
            "<class 'pandas.core.frame.DataFrame'>\n",
            "Index: 889 entries, 1 to 891\n",
            "Data columns (total 4 columns):\n",
            " #   Column    Non-Null Count  Dtype   \n",
            "---  ------    --------------  -----   \n",
            " 0   survived  889 non-null    category\n",
            " 1   classes   889 non-null    category\n",
            " 2   sex       889 non-null    category\n",
            " 3   embarked  889 non-null    category\n",
            "dtypes: category(4)\n",
            "memory usage: 43.2+ KB\n",
            "None\n"
          ]
        },
        {
          "output_type": "display_data",
          "data": {
            "text/plain": [
              "<Figure size 640x480 with 1 Axes>"
            ],
            "image/png": "[encoded data removed]"
          },
          "metadata": {}
        }
      ]
    },
    {
      "cell_type": "code",
      "source": [
        "# Creating a contingency table and heatmap for each pair of categorical variables\n",
        "for col1 in data_dis.columns:\n",
        "    for col2 in data_dis.columns:\n",
        "        if col1 > col2:\n",
        "            contingency_table = pd.crosstab(data_dis[col1], data_dis[col2])\n",
        "            print(contingency_table)\n",
        "            print(\"-------------------\")\n",
        "            #sns.heatmap(contingency_table, annot=True, fmt=\"d\", cmap=\"YlGnBu\")\n",
        "            #plt.title(f'Contingency Table between {col1} and {col2}')\n",
        "            #plt.show()\n"
      ],
      "metadata": {
        "id": "iBboH4ZuG2ib",
        "colab": {
          "base_uri": "https://localhost:8080/"
        },
        "outputId": "5bb527d1-7daa-47d5-fb1c-9298285cffb6"
      },
      "execution_count": null,
      "outputs": [
        {
          "output_type": "stream",
          "name": "stdout",
          "text": [
            "classes     1   2    3\n",
            "survived              \n",
            "0          80  97  372\n",
            "1         134  87  119\n",
            "-------------------\n",
            "sex       female  male\n",
            "survived              \n",
            "0             81   468\n",
            "1            231   109\n",
            "-------------------\n",
            "embarked   C   Q    S\n",
            "survived             \n",
            "0         75  47  427\n",
            "1         93  30  217\n",
            "-------------------\n",
            "classes    1    2    3\n",
            "sex                   \n",
            "female    92   76  144\n",
            "male     122  108  347\n",
            "-------------------\n",
            "embarked   C   Q    S\n",
            "sex                  \n",
            "female    73  36  203\n",
            "male      95  41  441\n",
            "-------------------\n",
            "classes     1    2    3\n",
            "embarked               \n",
            "C          85   17   66\n",
            "Q           2    3   72\n",
            "S         127  164  353\n",
            "-------------------\n"
          ]
        }
      ]
    },
    {
      "cell_type": "code",
      "source": [
        "#Print all heat maps\n",
        "fig, axes = plt.subplots(nrows=len(data_dis.columns)*(len(data_dis.columns)-1)//2, ncols=3, figsize=(18, 6*len(data_dis.columns)))\n",
        "\n",
        "row_index = 0  # Initialize row index for subplots\n",
        "for col1 in data_dis.columns:\n",
        "    for col2 in data_dis.columns:\n",
        "        if col1 > col2:  # To avoid repeated pairings and self-pairings\n",
        "            # Compute the contingency table\n",
        "            contingency_table = pd.crosstab(data_dis[col1], data_dis[col2])\n",
        "\n",
        "            # Compute row proportions (margin=1 in R's prop.table)\n",
        "            row_proportions = pd.crosstab(data_dis[col1], data_dis[col2], normalize='index') * 100\n",
        "\n",
        "            # Compute column proportions (margin=2 in R's prop.table)\n",
        "            column_proportions = pd.crosstab(data_dis[col1], data_dis[col2], normalize='columns') * 100\n",
        "\n",
        "            # Plotting the raw count contingency table\n",
        "            ax = axes[row_index, 0]\n",
        "            sns.heatmap(contingency_table, annot=True, fmt=\"d\", cmap=\"YlGnBu\", ax=ax)\n",
        "            ax.set_title(f'Counts: {col1} vs {col2}')\n",
        "            ax.set_ylabel(col1)\n",
        "            ax.set_xlabel(col2)\n",
        "\n",
        "            # Plotting row proportions\n",
        "            ax = axes[row_index, 1]\n",
        "            sns.heatmap(row_proportions, annot=True, fmt=\".2f\", cmap=\"YlGnBu\", ax=ax)\n",
        "            ax.set_title(f'Row Proportions: {col1} vs {col2}')\n",
        "            ax.set_ylabel(col1)\n",
        "            ax.set_xlabel(col2)\n",
        "\n",
        "            # Plotting column proportions\n",
        "            ax = axes[row_index, 2]\n",
        "            sns.heatmap(column_proportions, annot=True, fmt=\".2f\", cmap=\"YlGnBu\", ax=ax)\n",
        "            ax.set_title(f'Column Proportions: {col1} vs {col2}')\n",
        "            ax.set_ylabel(col1)\n",
        "            ax.set_xlabel(col2)\n",
        "\n",
        "            row_index += 1  # Increment row index for the next set of plots\n",
        "\n",
        "plt.tight_layout()\n",
        "plt.show()\n"
      ],
      "metadata": {
        "id": "bN8qFtb1HU76",
        "colab": {
          "base_uri": "https://localhost:8080/",
          "height": 1000
        },
        "outputId": "ef6e4d93-c743-4d2e-da6a-5ad08eb9b1fe"
      },
      "execution_count": null,
      "outputs": [
        {
          "output_type": "display_data",
          "data": {
            "text/plain": [
              "<Figure size 1800x2400 with 36 Axes>"
            ],
            "image/png": "[encoded data removed]"
          },
          "metadata": {}
        }
      ]
    },
    {
      "cell_type": "markdown",
      "source": [
        "### Odds Ratio from a 2×2 Contingency Table\n",
        "\n",
        "|              | Exposure = 0 (Female) | Exposure = 1 (Male) |\n",
        "|--------------|-----------------------|----------------------|\n",
        "| Outcome = 0  |           c           |          d           |\n",
        "| Outcome = 1  |           a           |          b           |\n",
        "\n",
        "$$\n",
        "\\text{OR} = \\frac{b \\cdot c}{a \\cdot d}\n",
        "$$\n",
        "The odds of survival for males compared to females."
      ],
      "metadata": {
        "id": "8Ak7JyZV0quO"
      }
    },
    {
      "cell_type": "code",
      "source": [
        "# Manual computaion of OR\n",
        "def odds_ratio(table2x2):\n",
        "    \"\"\"Calculate the odds ratio for a 2x2 contingency table.\"\"\"\n",
        "    # Extract values from the table\n",
        "    c = table2x2.iloc[0, 0]\n",
        "    d = table2x2.iloc[0, 1]\n",
        "    a = table2x2.iloc[1, 0]\n",
        "    b = table2x2.iloc[1, 1]\n",
        "\n",
        "    # Calculate the odds ratio\n",
        "    return (b * c)/(a * d)\n"
      ],
      "metadata": {
        "id": "e67-k83dGNto"
      },
      "execution_count": null,
      "outputs": []
    },
    {
      "cell_type": "code",
      "source": [
        "# 2x2 Contingency table\n",
        "table_sex = pd.crosstab(data_dis['survived'], data_dis['sex'])\n",
        "\n",
        "# Display the contingency table\n",
        "print(\"Contingency Table for Survival vs Sex:\")\n",
        "print(table_sex)\n",
        "\n",
        "# Calculate and print the odds ratio\n",
        "or_value = odds_ratio(table_sex)\n",
        "print(f\"Odds Ratio: {or_value:.4f}\")"
      ],
      "metadata": {
        "id": "q1wcgb1rJLRw",
        "colab": {
          "base_uri": "https://localhost:8080/"
        },
        "outputId": "76930dcd-9449-45ad-8fd0-65d8673de317"
      },
      "execution_count": null,
      "outputs": [
        {
          "output_type": "stream",
          "name": "stdout",
          "text": [
            "Contingency Table for Survival vs Sex:\n",
            "sex       female  male\n",
            "survived              \n",
            "0             81   468\n",
            "1            231   109\n",
            "Odds Ratio: 0.0817\n"
          ]
        }
      ]
    },
    {
      "cell_type": "code",
      "source": [
        "from statsmodels.stats.contingency_tables import Table2x2\n",
        "\n",
        "# Convert the crosstab to a Table2x2 object\n",
        "table_data = table_sex.values  # Extract the values from the crosstab\n",
        "table = Table2x2(table_data)\n",
        "\n",
        "# Calculate odds ratio and confidence interval\n",
        "odds_ratio = table.oddsratio\n",
        "confidence_interval = table.oddsratio_confint()\n",
        "\n",
        "print(f\"Odds Ratio: {odds_ratio}\")\n",
        "print(f\"Confidence Interval: {confidence_interval}\")"
      ],
      "metadata": {
        "id": "JICXGgTG01FP",
        "colab": {
          "base_uri": "https://localhost:8080/"
        },
        "outputId": "1a1911c8-0504-4d1f-eb01-eaa5c60b40a8"
      },
      "execution_count": null,
      "outputs": [
        {
          "output_type": "stream",
          "name": "stdout",
          "text": [
            "Odds Ratio: 0.08166833166833166\n",
            "Confidence Interval: (np.float64(0.058837834196950954), np.float64(0.11335761230032254))\n"
          ]
        }
      ]
    },
    {
      "cell_type": "markdown",
      "source": [
        "That means males had about 12× higher odds of dying than females.\n"
      ],
      "metadata": {
        "id": "ItYweBctyZj3"
      }
    },
    {
      "cell_type": "code",
      "source": [],
      "metadata": {
        "id": "Fpfiwytaztrh"
      },
      "execution_count": null,
      "outputs": []
    },
    {
      "cell_type": "markdown",
      "source": [
        "### Task\n",
        "Delta Method (https://en.wikipedia.org/wiki/Delta_method): Roughly, if there is a sequence of random variables \\( X_n \\) satisfying\n",
        "\n",
        "$$\n",
        "\\sqrt{n}(X_n - \\theta) \\xrightarrow{D} \\mathcal{N}(0, \\sigma^2),\n",
        "$$\n",
        "\n",
        "where $ \\theta $ and $ \\sigma^2 $ are finite-valued constants and $ \\xrightarrow{D} $ denotes **convergence in distribution**, then for any differentiable function $ g $ such that the first derivative $ g'(\\theta) $ exists and is non-zero:\n",
        "\n",
        "$$\n",
        "\\sqrt{n}(g(X_n) - g(\\theta)) \\xrightarrow{D} \\mathcal{N}\\left(0, \\sigma^2 \\cdot [g'(\\theta)]^2\\right).\n",
        "$$\n",
        "\n",
        "This result is useful for approximating the distribution of smooth (nonlinear) transformations of asymptotically normal estimators.\n",
        "\n",
        "* Assume that each cell is independent and modeled as Poisson distribution, derivate the code `se_log_or = np.sqrt(1/a + 1/b + 1/c + 1/d)` by the use of delta method.\n",
        "\n",
        "* Assume logistic regression and let\n",
        "\n",
        "  - $Y_i \\in \\{0, 1\\}$ be the binary outcome\n",
        "  - $X_i \\in \\{0, 1\\}$ be a binary predictor\n",
        "  - $\\text{logit}(p_i) = \\beta_0 + \\beta_1 X_i$\n",
        "\n",
        "  So:\n",
        "\n",
        "  - $p_i = \\mathbb{P}(Y_i = 1 | X_i)$\n",
        "\n",
        "  We organize the data into a 2×2 contingency table:\n",
        "\n",
        "| Group ($X$) | Successes ($Y=1$) | Failures ($Y=0$) | Total |\n",
        "|-------------|-------------------|------------------|--------|\n",
        "| $X=0$       | a               | b              | a+b  |\n",
        "| $X=1$       | c               | d              | c+d  |\n",
        "\n",
        "  and define:\n",
        "\n",
        "  - $\\pi_0 = \\frac{e^{\\beta_0}}{1 + e^{\\beta_0}}$\n",
        "  - $\\pi_1 = \\frac{e^{\\beta_0 + \\beta_1}}{1 + e^{\\beta_0 + \\beta_1}}$\n",
        "\n",
        "  Then the log-likelihood is:\n",
        "\n",
        "  $$\n",
        "  \\ell(\\beta_0, \\beta_1) =\n",
        "  a \\log(\\pi_0) + b \\log(1 - \\pi_0) +\n",
        "  c \\log(\\pi_1) + d \\log(1 - \\pi_1)\n",
        "  $$\n",
        "\n",
        "  Derive the Fisher Information matrix for a simple logistic regression with a **single binary predictor**, and show that the variance of the coefficient corresponds to:\n",
        "\n",
        "$$\n",
        "\\text{SE}^2(\\hat{\\beta}_1) = \\frac{1}{a} + \\frac{1}{b} + \\frac{1}{c} + \\frac{1}{d}\n",
        "$$\n",
        "\n",
        "---\n"
      ],
      "metadata": {
        "id": "ZVn8Pa2gC8Hn"
      }
    },
    {
      "cell_type": "markdown",
      "source": [],
      "metadata": {
        "id": "VfLttnDdqBj2"
      }
    },
    {
      "cell_type": "markdown",
      "source": [],
      "metadata": {
        "id": "hqsuuasXqBpo"
      }
    },
    {
      "cell_type": "code",
      "source": [
        "def combined_or_ci(data, formula='survived ~ sex'):\n",
        "    \"\"\"\n",
        "    Computes odds ratio and 95% confidence intervals using:\n",
        "    - Contingency table approximation\n",
        "    - Empirical delta method (cell-based)\n",
        "    - GLM model coefficient (Fisher Information)\n",
        "    - Exact Delta method matching Fisher Information\n",
        "    \"\"\"\n",
        "\n",
        "    # Fit logistic regression\n",
        "    model = smf.glm(formula=formula, data=data, family=sm.families.Binomial()).fit()\n",
        "\n",
        "    # Extract predictor term name (assumes 1 binary predictor)\n",
        "    term = [t for t in model.params.index if t != 'Intercept'][0]\n",
        "    beta = model.params[term]\n",
        "    se_beta = model.bse[term]\n",
        "    z = norm.ppf(0.975)\n",
        "\n",
        "    # OR and CI from regression coefficient (Fisher Information)\n",
        "    or_model = np.exp(beta)\n",
        "    ci_model = np.exp([beta - z * se_beta, beta + z * se_beta])\n",
        "\n",
        "    # Build contingency table from data\n",
        "    target, predictor = formula.split('~')\n",
        "    target = target.strip()\n",
        "    predictor = predictor.strip()\n",
        "    table = pd.crosstab(data[target], data[predictor])\n",
        "\n",
        "    # Assume format: rows=[0 (failure), 1 (success)], columns=[baseline, group]\n",
        "    a = table.iloc[1, 0]  # successes baseline\n",
        "    b = table.iloc[0, 0]  # failures baseline\n",
        "    c = table.iloc[1, 1]  # successes group\n",
        "    d = table.iloc[0, 1]  # failures group\n",
        "\n",
        "    # OR from table\n",
        "    or_tab = (a * d) / (b * c)\n",
        "    log_or_tab = np.log(or_tab)\n",
        "\n",
        "    # --- Approximate SE from table\n",
        "    se_table_approx = np.sqrt(1/a + 1/b + 1/c + 1/d)\n",
        "    ci_table_approx = np.exp([log_or_tab - z * se_table_approx, log_or_tab + z * se_table_approx])\n",
        "\n",
        "    # --- Empirical delta method (cell-based)\n",
        "    def binomial_var_log(n, x):\n",
        "        if x == 0 or n == 0:\n",
        "            return np.nan\n",
        "        p = x / n\n",
        "        return (1 - p) / (n * p)\n",
        "\n",
        "    row0 = a + b\n",
        "    row1 = c + d\n",
        "\n",
        "    var_log_a = binomial_var_log(row0, a)\n",
        "    var_log_b = binomial_var_log(row0, b)\n",
        "    var_log_c = binomial_var_log(row1, c)\n",
        "    var_log_d = binomial_var_log(row1, d)\n",
        "\n",
        "    se_empirical_delta = np.sqrt(var_log_a + var_log_b + var_log_c + var_log_d)\n",
        "    ci_empirical_delta = np.exp([log_or_tab - z * se_empirical_delta, log_or_tab + z * se_empirical_delta])\n",
        "\n",
        "    # --- Exact Delta method matching Fisher Information\n",
        "    # Group-level predictions (MLE probabilities)\n",
        "    p0_hat = a / (a + b)\n",
        "    p1_hat = c / (c + d)\n",
        "\n",
        "    var_exact_delta = (1 / ((a + b) * p0_hat * (1 - p0_hat)) +\n",
        "                       1 / ((c + d) * p1_hat * (1 - p1_hat)))\n",
        "\n",
        "    se_exact_delta = np.sqrt(var_exact_delta)\n",
        "    ci_exact_delta = np.exp([log_or_tab - z * se_exact_delta, log_or_tab + z * se_exact_delta])\n",
        "\n",
        "    return {\n",
        "        'odds_ratio_model': or_model,\n",
        "        'ci_model_fisher': ci_model,\n",
        "        'ci_table_approx': ci_table_approx,\n",
        "        'ci_empirical_delta': ci_empirical_delta,\n",
        "        'ci_exact_delta_fisher': ci_exact_delta,\n",
        "        'se_model_fisher': se_beta,\n",
        "        'se_table_approx': se_table_approx,\n",
        "        'se_empirical_delta': se_empirical_delta,\n",
        "        'se_exact_delta_fisher': se_exact_delta\n",
        "    }\n"
      ],
      "metadata": {
        "id": "m7JnJfL6tvXV"
      },
      "execution_count": null,
      "outputs": []
    },
    {
      "cell_type": "code",
      "source": [
        "res = combined_or_ci(data_dis)\n",
        "\n",
        "print(f\"Odds Ratio (model) = {res['odds_ratio_model']:.4f}\")\n",
        "print(f\"95% CI from GLM Fisher SE = [{res['ci_model_fisher'][0]:.4f}, {res['ci_model_fisher'][1]:.4f}]\")\n",
        "print(f\"95% CI Table Approx = [{res['ci_table_approx'][0]:.4f}, {res['ci_table_approx'][1]:.4f}]\")\n",
        "print(f\"95% CI Empirical Delta = [{res['ci_empirical_delta'][0]:.4f}, {res['ci_empirical_delta'][1]:.4f}]\")\n",
        "print(f\"95% CI Exact Delta (matches Fisher) = [{res['ci_exact_delta_fisher'][0]:.4f}, {res['ci_exact_delta_fisher'][1]:.4f}]\")\n"
      ],
      "metadata": {
        "id": "T8XrdpzYvTRP",
        "colab": {
          "base_uri": "https://localhost:8080/"
        },
        "outputId": "526c0502-2d1f-496f-d587-1dd1301259b7"
      },
      "execution_count": null,
      "outputs": [
        {
          "output_type": "stream",
          "name": "stdout",
          "text": [
            "Odds Ratio (model) = 12.2446\n",
            "95% CI from GLM Fisher SE = [8.8216, 16.9959]\n",
            "95% CI Table Approx = [8.8216, 16.9959]\n",
            "95% CI Empirical Delta = [9.4059, 15.9402]\n",
            "95% CI Exact Delta (matches Fisher) = [8.8216, 16.9959]\n"
          ]
        }
      ]
    },
    {
      "cell_type": "markdown",
      "source": [
        "chi-squared test\n",
        "* Null hypothesis (H₀): The variables sex and survived are independent (i.e., survival does not depend on gender).\n",
        "* Alternative hypothesis (H₁): The variables are dependent (i.e., survival does depend on gender)."
      ],
      "metadata": {
        "id": "VzHY1sO00VKu"
      }
    },
    {
      "cell_type": "code",
      "source": [
        "table_sex"
      ],
      "metadata": {
        "id": "LKFHcZRPBCJr",
        "colab": {
          "base_uri": "https://localhost:8080/",
          "height": 143
        },
        "outputId": "3edccebc-f09e-4d18-fe4f-f1a46f0cb51d"
      },
      "execution_count": null,
      "outputs": [
        {
          "output_type": "execute_result",
          "data": {
            "text/plain": [
              "sex       female  male\n",
              "survived              \n",
              "0             81   468\n",
              "1            231   109"
            ],
            "text/html": [
              "\n",
              "  <div id=\"df-14bcaa99-4a00-4661-92d7-4140f60e7e13\" class=\"colab-df-container\">\n",
              "    <div>\n",
              "<style scoped>\n",
              "    .dataframe tbody tr th:only-of-type {\n",
              "        vertical-align: middle;\n",
              "    }\n",
              "\n",
              "    .dataframe tbody tr th {\n",
              "        vertical-align: top;\n",
              "    }\n",
              "\n",
              "    .dataframe thead th {\n",
              "        text-align: right;\n",
              "    }\n",
              "</style>\n",
              "<table border=\"1\" class=\"dataframe\">\n",
              "  <thead>\n",
              "    <tr style=\"text-align: right;\">\n",
              "      <th>sex</th>\n",
              "      <th>female</th>\n",
              "      <th>male</th>\n",
              "    </tr>\n",
              "    <tr>\n",
              "      <th>survived</th>\n",
              "      <th></th>\n",
              "      <th></th>\n",
              "    </tr>\n",
              "  </thead>\n",
              "  <tbody>\n",
              "    <tr>\n",
              "      <th>0</th>\n",
              "      <td>81</td>\n",
              "      <td>468</td>\n",
              "    </tr>\n",
              "    <tr>\n",
              "      <th>1</th>\n",
              "      <td>231</td>\n",
              "      <td>109</td>\n",
              "    </tr>\n",
              "  </tbody>\n",
              "</table>\n",
              "</div>\n",
              "    <div class=\"colab-df-buttons\">\n",
              "\n",
              "  <div class=\"colab-df-container\">\n",
              "    <button class=\"colab-df-convert\" onclick=\"convertToInteractive('df-14bcaa99-4a00-4661-92d7-4140f60e7e13')\"\n",
              "            title=\"Convert this dataframe to an interactive table.\"\n",
              "            style=\"display:none;\">\n",
              "\n",
              "  <svg xmlns=\"http://www.w3.org/2000/svg\" height=\"24px\" viewBox=\"0 -960 960 960\">\n",
              "    <path d=\"M120-120v-720h720v720H120Zm60-500h600v-160H180v160Zm220 220h160v-160H400v160Zm0 220h160v-160H400v160ZM180-400h160v-160H180v160Zm440 0h160v-160H620v160ZM180-180h160v-160H180v160Zm440 0h160v-160H620v160Z\"/>\n",
              "  </svg>\n",
              "    </button>\n",
              "\n",
              "  <style>\n",
              "    .colab-df-container {\n",
              "      display:flex;\n",
              "      gap: 12px;\n",
              "    }\n",
              "\n",
              "    .colab-df-convert {\n",
              "      background-color: #E8F0FE;\n",
              "      border: none;\n",
              "      border-radius: 50%;\n",
              "      cursor: pointer;\n",
              "      display: none;\n",
              "      fill: #1967D2;\n",
              "      height: 32px;\n",
              "      padding: 0 0 0 0;\n",
              "      width: 32px;\n",
              "    }\n",
              "\n",
              "    .colab-df-convert:hover {\n",
              "      background-color: #E2EBFA;\n",
              "      box-shadow: 0px 1px 2px rgba(60, 64, 67, 0.3), 0px 1px 3px 1px rgba(60, 64, 67, 0.15);\n",
              "      fill: #174EA6;\n",
              "    }\n",
              "\n",
              "    .colab-df-buttons div {\n",
              "      margin-bottom: 4px;\n",
              "    }\n",
              "\n",
              "    [theme=dark] .colab-df-convert {\n",
              "      background-color: #3B4455;\n",
              "      fill: #D2E3FC;\n",
              "    }\n",
              "\n",
              "    [theme=dark] .colab-df-convert:hover {\n",
              "      background-color: #434B5C;\n",
              "      box-shadow: 0px 1px 3px 1px rgba(0, 0, 0, 0.15);\n",
              "      filter: drop-shadow(0px 1px 2px rgba(0, 0, 0, 0.3));\n",
              "      fill: #FFFFFF;\n",
              "    }\n",
              "  </style>\n",
              "\n",
              "    <script>\n",
              "      const buttonEl =\n",
              "        document.querySelector('#df-14bcaa99-4a00-4661-92d7-4140f60e7e13 button.colab-df-convert');\n",
              "      buttonEl.style.display =\n",
              "        google.colab.kernel.accessAllowed ? 'block' : 'none';\n",
              "\n",
              "      async function convertToInteractive(key) {\n",
              "        const element = document.querySelector('#df-14bcaa99-4a00-4661-92d7-4140f60e7e13');\n",
              "        const dataTable =\n",
              "          await google.colab.kernel.invokeFunction('convertToInteractive',\n",
              "                                                    [key], {});\n",
              "        if (!dataTable) return;\n",
              "\n",
              "        const docLinkHtml = 'Like what you see? Visit the ' +\n",
              "          '<a target=\"_blank\" href=https://colab.research.google.com/notebooks/data_table.ipynb>data table notebook</a>'\n",
              "          + ' to learn more about interactive tables.';\n",
              "        element.innerHTML = '';\n",
              "        dataTable['output_type'] = 'display_data';\n",
              "        await google.colab.output.renderOutput(dataTable, element);\n",
              "        const docLink = document.createElement('div');\n",
              "        docLink.innerHTML = docLinkHtml;\n",
              "        element.appendChild(docLink);\n",
              "      }\n",
              "    </script>\n",
              "  </div>\n",
              "\n",
              "\n",
              "<div id=\"df-bdb5ec6b-2453-41e8-bae1-7f7fea0fe3a4\">\n",
              "  <button class=\"colab-df-quickchart\" onclick=\"quickchart('df-bdb5ec6b-2453-41e8-bae1-7f7fea0fe3a4')\"\n",
              "            title=\"Suggest charts\"\n",
              "            style=\"display:none;\">\n",
              "\n",
              "<svg xmlns=\"http://www.w3.org/2000/svg\" height=\"24px\"viewBox=\"0 0 24 24\"\n",
              "     width=\"24px\">\n",
              "    <g>\n",
              "        <path d=\"M19 3H5c-1.1 0-2 .9-2 2v14c0 1.1.9 2 2 2h14c1.1 0 2-.9 2-2V5c0-1.1-.9-2-2-2zM9 17H7v-7h2v7zm4 0h-2V7h2v10zm4 0h-2v-4h2v4z\"/>\n",
              "    </g>\n",
              "</svg>\n",
              "  </button>\n",
              "\n",
              "<style>\n",
              "  .colab-df-quickchart {\n",
              "      --bg-color: #E8F0FE;\n",
              "      --fill-color: #1967D2;\n",
              "      --hover-bg-color: #E2EBFA;\n",
              "      --hover-fill-color: #174EA6;\n",
              "      --disabled-fill-color: #AAA;\n",
              "      --disabled-bg-color: #DDD;\n",
              "  }\n",
              "\n",
              "  [theme=dark] .colab-df-quickchart {\n",
              "      --bg-color: #3B4455;\n",
              "      --fill-color: #D2E3FC;\n",
              "      --hover-bg-color: #434B5C;\n",
              "      --hover-fill-color: #FFFFFF;\n",
              "      --disabled-bg-color: #3B4455;\n",
              "      --disabled-fill-color: #666;\n",
              "  }\n",
              "\n",
              "  .colab-df-quickchart {\n",
              "    background-color: var(--bg-color);\n",
              "    border: none;\n",
              "    border-radius: 50%;\n",
              "    cursor: pointer;\n",
              "    display: none;\n",
              "    fill: var(--fill-color);\n",
              "    height: 32px;\n",
              "    padding: 0;\n",
              "    width: 32px;\n",
              "  }\n",
              "\n",
              "  .colab-df-quickchart:hover {\n",
              "    background-color: var(--hover-bg-color);\n",
              "    box-shadow: 0 1px 2px rgba(60, 64, 67, 0.3), 0 1px 3px 1px rgba(60, 64, 67, 0.15);\n",
              "    fill: var(--button-hover-fill-color);\n",
              "  }\n",
              "\n",
              "  .colab-df-quickchart-complete:disabled,\n",
              "  .colab-df-quickchart-complete:disabled:hover {\n",
              "    background-color: var(--disabled-bg-color);\n",
              "    fill: var(--disabled-fill-color);\n",
              "    box-shadow: none;\n",
              "  }\n",
              "\n",
              "  .colab-df-spinner {\n",
              "    border: 2px solid var(--fill-color);\n",
              "    border-color: transparent;\n",
              "    border-bottom-color: var(--fill-color);\n",
              "    animation:\n",
              "      spin 1s steps(1) infinite;\n",
              "  }\n",
              "\n",
              "  @keyframes spin {\n",
              "    0% {\n",
              "      border-color: transparent;\n",
              "      border-bottom-color: var(--fill-color);\n",
              "      border-left-color: var(--fill-color);\n",
              "    }\n",
              "    20% {\n",
              "      border-color: transparent;\n",
              "      border-left-color: var(--fill-color);\n",
              "      border-top-color: var(--fill-color);\n",
              "    }\n",
              "    30% {\n",
              "      border-color: transparent;\n",
              "      border-left-color: var(--fill-color);\n",
              "      border-top-color: var(--fill-color);\n",
              "      border-right-color: var(--fill-color);\n",
              "    }\n",
              "    40% {\n",
              "      border-color: transparent;\n",
              "      border-right-color: var(--fill-color);\n",
              "      border-top-color: var(--fill-color);\n",
              "    }\n",
              "    60% {\n",
              "      border-color: transparent;\n",
              "      border-right-color: var(--fill-color);\n",
              "    }\n",
              "    80% {\n",
              "      border-color: transparent;\n",
              "      border-right-color: var(--fill-color);\n",
              "      border-bottom-color: var(--fill-color);\n",
              "    }\n",
              "    90% {\n",
              "      border-color: transparent;\n",
              "      border-bottom-color: var(--fill-color);\n",
              "    }\n",
              "  }\n",
              "</style>\n",
              "\n",
              "  <script>\n",
              "    async function quickchart(key) {\n",
              "      const quickchartButtonEl =\n",
              "        document.querySelector('#' + key + ' button');\n",
              "      quickchartButtonEl.disabled = true;  // To prevent multiple clicks.\n",
              "      quickchartButtonEl.classList.add('colab-df-spinner');\n",
              "      try {\n",
              "        const charts = await google.colab.kernel.invokeFunction(\n",
              "            'suggestCharts', [key], {});\n",
              "      } catch (error) {\n",
              "        console.error('Error during call to suggestCharts:', error);\n",
              "      }\n",
              "      quickchartButtonEl.classList.remove('colab-df-spinner');\n",
              "      quickchartButtonEl.classList.add('colab-df-quickchart-complete');\n",
              "    }\n",
              "    (() => {\n",
              "      let quickchartButtonEl =\n",
              "        document.querySelector('#df-bdb5ec6b-2453-41e8-bae1-7f7fea0fe3a4 button');\n",
              "      quickchartButtonEl.style.display =\n",
              "        google.colab.kernel.accessAllowed ? 'block' : 'none';\n",
              "    })();\n",
              "  </script>\n",
              "</div>\n",
              "\n",
              "  <div id=\"id_9fa0979e-b612-4b52-b57d-03638ef57fc1\">\n",
              "    <style>\n",
              "      .colab-df-generate {\n",
              "        background-color: #E8F0FE;\n",
              "        border: none;\n",
              "        border-radius: 50%;\n",
              "        cursor: pointer;\n",
              "        display: none;\n",
              "        fill: #1967D2;\n",
              "        height: 32px;\n",
              "        padding: 0 0 0 0;\n",
              "        width: 32px;\n",
              "      }\n",
              "\n",
              "      .colab-df-generate:hover {\n",
              "        background-color: #E2EBFA;\n",
              "        box-shadow: 0px 1px 2px rgba(60, 64, 67, 0.3), 0px 1px 3px 1px rgba(60, 64, 67, 0.15);\n",
              "        fill: #174EA6;\n",
              "      }\n",
              "\n",
              "      [theme=dark] .colab-df-generate {\n",
              "        background-color: #3B4455;\n",
              "        fill: #D2E3FC;\n",
              "      }\n",
              "\n",
              "      [theme=dark] .colab-df-generate:hover {\n",
              "        background-color: #434B5C;\n",
              "        box-shadow: 0px 1px 3px 1px rgba(0, 0, 0, 0.15);\n",
              "        filter: drop-shadow(0px 1px 2px rgba(0, 0, 0, 0.3));\n",
              "        fill: #FFFFFF;\n",
              "      }\n",
              "    </style>\n",
              "    <button class=\"colab-df-generate\" onclick=\"generateWithVariable('table_sex')\"\n",
              "            title=\"Generate code using this dataframe.\"\n",
              "            style=\"display:none;\">\n",
              "\n",
              "  <svg xmlns=\"http://www.w3.org/2000/svg\" height=\"24px\"viewBox=\"0 0 24 24\"\n",
              "       width=\"24px\">\n",
              "    <path d=\"M7,19H8.4L18.45,9,17,7.55,7,17.6ZM5,21V16.75L18.45,3.32a2,2,0,0,1,2.83,0l1.4,1.43a1.91,1.91,0,0,1,.58,1.4,1.91,1.91,0,0,1-.58,1.4L9.25,21ZM18.45,9,17,7.55Zm-12,3A5.31,5.31,0,0,0,4.9,8.1,5.31,5.31,0,0,0,1,6.5,5.31,5.31,0,0,0,4.9,4.9,5.31,5.31,0,0,0,6.5,1,5.31,5.31,0,0,0,8.1,4.9,5.31,5.31,0,0,0,12,6.5,5.46,5.46,0,0,0,6.5,12Z\"/>\n",
              "  </svg>\n",
              "    </button>\n",
              "    <script>\n",
              "      (() => {\n",
              "      const buttonEl =\n",
              "        document.querySelector('#id_9fa0979e-b612-4b52-b57d-03638ef57fc1 button.colab-df-generate');\n",
              "      buttonEl.style.display =\n",
              "        google.colab.kernel.accessAllowed ? 'block' : 'none';\n",
              "\n",
              "      buttonEl.onclick = () => {\n",
              "        google.colab.notebook.generateWithVariable('table_sex');\n",
              "      }\n",
              "      })();\n",
              "    </script>\n",
              "  </div>\n",
              "\n",
              "    </div>\n",
              "  </div>\n"
            ],
            "application/vnd.google.colaboratory.intrinsic+json": {
              "type": "dataframe",
              "variable_name": "table_sex",
              "summary": "{\n  \"name\": \"table_sex\",\n  \"rows\": 2,\n  \"fields\": [\n    {\n      \"column\": \"survived\",\n      \"properties\": {\n        \"dtype\": \"category\",\n        \"num_unique_values\": 2,\n        \"samples\": [\n          1,\n          0\n        ],\n        \"semantic_type\": \"\",\n        \"description\": \"\"\n      }\n    },\n    {\n      \"column\": \"female\",\n      \"properties\": {\n        \"dtype\": \"number\",\n        \"std\": 106,\n        \"min\": 81,\n        \"max\": 231,\n        \"num_unique_values\": 2,\n        \"samples\": [\n          231,\n          81\n        ],\n        \"semantic_type\": \"\",\n        \"description\": \"\"\n      }\n    },\n    {\n      \"column\": \"male\",\n      \"properties\": {\n        \"dtype\": \"number\",\n        \"std\": 253,\n        \"min\": 109,\n        \"max\": 468,\n        \"num_unique_values\": 2,\n        \"samples\": [\n          109,\n          468\n        ],\n        \"semantic_type\": \"\",\n        \"description\": \"\"\n      }\n    }\n  ]\n}"
            }
          },
          "metadata": {},
          "execution_count": 22
        }
      ]
    },
    {
      "cell_type": "code",
      "metadata": {
        "id": "ndIG03AM3Z-T",
        "colab": {
          "base_uri": "https://localhost:8080/"
        },
        "outputId": "4600bd32-21a1-4bce-b284-b0fe45559d9f"
      },
      "source": [
        "from scipy.stats import chi2_contingency\n",
        "\n",
        "# Perform the chi-squared test\n",
        "chi2, p_value, dof, expected = chi2_contingency(table_sex)\n",
        "\n",
        "print(f\"Chi-squared Test Statistic: {chi2:.4f}\")\n",
        "print(f\"P-value: {p_value:.4f}\")\n",
        "print(f\"Degrees of Freedom: {dof}\")\n",
        "print(\"Expected Frequencies:\")\n",
        "print(expected)\n"
      ],
      "execution_count": null,
      "outputs": [
        {
          "output_type": "stream",
          "name": "stdout",
          "text": [
            "Chi-squared Test Statistic: 258.4266\n",
            "P-value: 0.0000\n",
            "Degrees of Freedom: 1\n",
            "Expected Frequencies:\n",
            "[[192.67491564 356.32508436]\n",
            " [119.32508436 220.67491564]]\n"
          ]
        }
      ]
    },
    {
      "cell_type": "code",
      "metadata": {
        "id": "-KgtZYVo3aD-"
      },
      "source": [],
      "execution_count": null,
      "outputs": []
    },
    {
      "cell_type": "markdown",
      "metadata": {
        "id": "flohDO_SBgVe"
      },
      "source": [
        "### Null model\n",
        "\n",
        "* Compute the null model (assume that the probability of survival was the same for all passangers)\n",
        "\n",
        "* How do we interpret estimated parameter?"
      ]
    },
    {
      "cell_type": "code",
      "source": [
        "# Convert 'survived' to integer for statsmodels compatibility\n",
        "#data_dis['survived'] = data_dis['survived'].astype(int)\n",
        "\n",
        "# Adding a constant term for the intercept\n",
        "#data_dis['intercept'] = 1\n",
        "\n",
        "# Define the model\n",
        "#model = sm.GLM(data_dis['survived'], data_dis[['intercept']], family=sm.families.Binomial(link=sm.genmod.families.links.logit()))\n",
        "\n",
        "data_dis['survived'] = data_dis['survived'].astype(int)\n",
        "# Define the model\n",
        "model = smf.glm(formula='survived ~ 1', family=sm.families.Binomial(link=sm.genmod.families.links.Logit()), data = data_dis)\n",
        "\n",
        "# Fit the model\n",
        "mod0 = model.fit()\n",
        "\n",
        "# Print the summary of the model\n",
        "print(mod0.summary())"
      ],
      "metadata": {
        "id": "yck3LGOClXGO",
        "colab": {
          "base_uri": "https://localhost:8080/"
        },
        "outputId": "984240aa-ba54-4bce-8c75-1b158867838d"
      },
      "execution_count": null,
      "outputs": [
        {
          "output_type": "stream",
          "name": "stdout",
          "text": [
            "                 Generalized Linear Model Regression Results                  \n",
            "==============================================================================\n",
            "Dep. Variable:               survived   No. Observations:                  889\n",
            "Model:                            GLM   Df Residuals:                      888\n",
            "Model Family:                Binomial   Df Model:                            0\n",
            "Link Function:                  Logit   Scale:                          1.0000\n",
            "Method:                          IRLS   Log-Likelihood:                -591.41\n",
            "Date:                Tue, 22 Apr 2025   Deviance:                       1182.8\n",
            "Time:                        17:23:12   Pearson chi2:                     889.\n",
            "No. Iterations:                     4   Pseudo R-squ. (CS):          2.220e-16\n",
            "Covariance Type:            nonrobust                                         \n",
            "==============================================================================\n",
            "                 coef    std err          z      P>|z|      [0.025      0.975]\n",
            "------------------------------------------------------------------------------\n",
            "Intercept     -0.4792      0.069     -6.943      0.000      -0.614      -0.344\n",
            "==============================================================================\n"
          ]
        }
      ]
    },
    {
      "cell_type": "code",
      "source": [
        "# The chances of survival according to training data.\n",
        "\n",
        "odds_ratio = np.exp(mod0.params)\n",
        "print(\"Odds Ratios:\")\n",
        "print(odds_ratio)"
      ],
      "metadata": {
        "id": "G4wcTpNwlXOF",
        "colab": {
          "base_uri": "https://localhost:8080/"
        },
        "outputId": "d4fe7386-6bcb-4164-e922-0c772495798a"
      },
      "execution_count": null,
      "outputs": [
        {
          "output_type": "stream",
          "name": "stdout",
          "text": [
            "Odds Ratios:\n",
            "Intercept    0.619308\n",
            "dtype: float64\n"
          ]
        }
      ]
    },
    {
      "cell_type": "code",
      "source": [
        "# The probability of survival.\n",
        "probabilities = odds_ratio / (1 + odds_ratio)\n",
        "print(\"Probabilities:\")\n",
        "print(probabilities)"
      ],
      "metadata": {
        "id": "IygEWMlvlXQy",
        "colab": {
          "base_uri": "https://localhost:8080/"
        },
        "outputId": "6a85144f-192b-449c-8c50-5ee081d3d39f"
      },
      "execution_count": null,
      "outputs": [
        {
          "output_type": "stream",
          "name": "stdout",
          "text": [
            "Probabilities:\n",
            "Intercept    0.382452\n",
            "dtype: float64\n"
          ]
        }
      ]
    },
    {
      "cell_type": "code",
      "source": [
        "data_dis.dtypes"
      ],
      "metadata": {
        "id": "odFICiqPiube",
        "colab": {
          "base_uri": "https://localhost:8080/",
          "height": 209
        },
        "outputId": "8547b351-31fc-41ed-eba7-8efc8453117b"
      },
      "execution_count": null,
      "outputs": [
        {
          "output_type": "execute_result",
          "data": {
            "text/plain": [
              "survived       int64\n",
              "classes     category\n",
              "sex         category\n",
              "embarked    category\n",
              "dtype: object"
            ],
            "text/html": [
              "<div>\n",
              "<style scoped>\n",
              "    .dataframe tbody tr th:only-of-type {\n",
              "        vertical-align: middle;\n",
              "    }\n",
              "\n",
              "    .dataframe tbody tr th {\n",
              "        vertical-align: top;\n",
              "    }\n",
              "\n",
              "    .dataframe thead th {\n",
              "        text-align: right;\n",
              "    }\n",
              "</style>\n",
              "<table border=\"1\" class=\"dataframe\">\n",
              "  <thead>\n",
              "    <tr style=\"text-align: right;\">\n",
              "      <th></th>\n",
              "      <th>0</th>\n",
              "    </tr>\n",
              "  </thead>\n",
              "  <tbody>\n",
              "    <tr>\n",
              "      <th>survived</th>\n",
              "      <td>int64</td>\n",
              "    </tr>\n",
              "    <tr>\n",
              "      <th>classes</th>\n",
              "      <td>category</td>\n",
              "    </tr>\n",
              "    <tr>\n",
              "      <th>sex</th>\n",
              "      <td>category</td>\n",
              "    </tr>\n",
              "    <tr>\n",
              "      <th>embarked</th>\n",
              "      <td>category</td>\n",
              "    </tr>\n",
              "  </tbody>\n",
              "</table>\n",
              "</div><br><label><b>dtype:</b> object</label>"
            ]
          },
          "metadata": {},
          "execution_count": 27
        }
      ]
    },
    {
      "cell_type": "code",
      "source": [
        "data_dis['survived'].value_counts(normalize=True)\n"
      ],
      "metadata": {
        "id": "E6wv1ytn2Gnj",
        "colab": {
          "base_uri": "https://localhost:8080/",
          "height": 178
        },
        "outputId": "cad187a2-f1d6-4cf2-d451-c5f2f5232028"
      },
      "execution_count": null,
      "outputs": [
        {
          "output_type": "execute_result",
          "data": {
            "text/plain": [
              "survived\n",
              "0    0.617548\n",
              "1    0.382452\n",
              "Name: proportion, dtype: float64"
            ],
            "text/html": [
              "<div>\n",
              "<style scoped>\n",
              "    .dataframe tbody tr th:only-of-type {\n",
              "        vertical-align: middle;\n",
              "    }\n",
              "\n",
              "    .dataframe tbody tr th {\n",
              "        vertical-align: top;\n",
              "    }\n",
              "\n",
              "    .dataframe thead th {\n",
              "        text-align: right;\n",
              "    }\n",
              "</style>\n",
              "<table border=\"1\" class=\"dataframe\">\n",
              "  <thead>\n",
              "    <tr style=\"text-align: right;\">\n",
              "      <th></th>\n",
              "      <th>proportion</th>\n",
              "    </tr>\n",
              "    <tr>\n",
              "      <th>survived</th>\n",
              "      <th></th>\n",
              "    </tr>\n",
              "  </thead>\n",
              "  <tbody>\n",
              "    <tr>\n",
              "      <th>0</th>\n",
              "      <td>0.617548</td>\n",
              "    </tr>\n",
              "    <tr>\n",
              "      <th>1</th>\n",
              "      <td>0.382452</td>\n",
              "    </tr>\n",
              "  </tbody>\n",
              "</table>\n",
              "</div><br><label><b>dtype:</b> float64</label>"
            ]
          },
          "metadata": {},
          "execution_count": 28
        }
      ]
    },
    {
      "cell_type": "code",
      "source": [
        "np.mean(data_dis['survived'].astype(int))"
      ],
      "metadata": {
        "id": "udxXLB6UlXTe",
        "colab": {
          "base_uri": "https://localhost:8080/"
        },
        "outputId": "4c1ee014-444e-4fee-8a52-bbdd09a39e23"
      },
      "execution_count": null,
      "outputs": [
        {
          "output_type": "execute_result",
          "data": {
            "text/plain": [
              "np.float64(0.38245219347581555)"
            ]
          },
          "metadata": {},
          "execution_count": 29
        }
      ]
    },
    {
      "cell_type": "code",
      "metadata": {
        "id": "cMdgRk3JBigz"
      },
      "source": [],
      "execution_count": null,
      "outputs": []
    },
    {
      "cell_type": "markdown",
      "metadata": {
        "id": "UPWeZk4NEviZ"
      },
      "source": [
        "### Model with varaible: sex\n",
        "\n",
        "* Compute the model with one covariate sex.\n",
        "\n",
        "* How can we interpret estimated coefficients?\n",
        "\n",
        "* Did survival depend on gender (`sex`) ?\n",
        "\n",
        "* Perform an appropriate tests.\n",
        "\n",
        "* Did women have a better chance of survival?\n"
      ]
    },
    {
      "cell_type": "code",
      "source": [
        "import statsmodels.api as sm\n",
        "import statsmodels.formula.api as smf\n",
        "\n",
        "# Fit the logistic regression model where 'survived' is the response and 'sex' is the predictor\n",
        "data_dis['survived'] = data_dis['survived'].astype(int)\n",
        "data_dis['sex'] = data_dis['sex'].astype('category')\n",
        "\n",
        "mod_sex = smf.glm(formula='survived ~ sex', data=data_dis, family=sm.families.Binomial()).fit()\n",
        "\n",
        "# Display the summary of the model\n",
        "print(mod_sex.summary())\n"
      ],
      "metadata": {
        "id": "8msxeXlptlnB",
        "colab": {
          "base_uri": "https://localhost:8080/"
        },
        "outputId": "1cba314b-8781-46a6-b19a-f7bcaf8e94bc"
      },
      "execution_count": null,
      "outputs": [
        {
          "output_type": "stream",
          "name": "stdout",
          "text": [
            "                 Generalized Linear Model Regression Results                  \n",
            "==============================================================================\n",
            "Dep. Variable:               survived   No. Observations:                  889\n",
            "Model:                            GLM   Df Residuals:                      887\n",
            "Model Family:                Binomial   Df Model:                            1\n",
            "Link Function:                  Logit   Scale:                          1.0000\n",
            "Method:                          IRLS   Log-Likelihood:                -458.30\n",
            "Date:                Tue, 22 Apr 2025   Deviance:                       916.61\n",
            "Time:                        17:23:12   Pearson chi2:                     889.\n",
            "No. Iterations:                     4   Pseudo R-squ. (CS):             0.2588\n",
            "Covariance Type:            nonrobust                                         \n",
            "===============================================================================\n",
            "                  coef    std err          z      P>|z|      [0.025      0.975]\n",
            "-------------------------------------------------------------------------------\n",
            "Intercept       1.0480      0.129      8.116      0.000       0.795       1.301\n",
            "sex[T.male]    -2.5051      0.167    -14.975      0.000      -2.833      -2.177\n",
            "===============================================================================\n"
          ]
        }
      ]
    },
    {
      "cell_type": "code",
      "source": [
        "# Calculate the odds ratios for the coefficients\n",
        "odds_ratios = np.exp(mod_sex.params)\n",
        "print(\"Odds Ratios:\")\n",
        "print(odds_ratios)"
      ],
      "metadata": {
        "id": "fWJ5-2p1tlu6",
        "colab": {
          "base_uri": "https://localhost:8080/"
        },
        "outputId": "ed601562-e607-4890-e72d-7f427c23af5b"
      },
      "execution_count": null,
      "outputs": [
        {
          "output_type": "stream",
          "name": "stdout",
          "text": [
            "Odds Ratios:\n",
            "Intercept      2.851852\n",
            "sex[T.male]    0.081668\n",
            "dtype: float64\n"
          ]
        }
      ]
    },
    {
      "cell_type": "code",
      "source": [
        "# Extract coefficient and standard error for 'sex'\n",
        "beta = mod_sex.params['sex[T.male]']\n",
        "se = mod_sex.bse['sex[T.male]']\n",
        "\n",
        "# Compute 95% CI on log-odds scale\n",
        "z = norm.ppf(0.975)  # z-score for 95% CI\n",
        "ci_lower_logit = beta - z * se\n",
        "ci_upper_logit = beta + z * se\n",
        "\n",
        "# Convert to OR scale\n",
        "or_estimate = np.exp(beta)\n",
        "ci_lower_or = np.exp(ci_lower_logit)\n",
        "ci_upper_or = np.exp(ci_upper_logit)\n",
        "\n",
        "# Display results\n",
        "print(f\"Odds Ratio (sex = male vs female): {or_estimate:.4f}\")\n",
        "print(f\"95% CI for OR: [{ci_lower_or:.4f}, {ci_upper_or:.4f}]\")"
      ],
      "metadata": {
        "id": "sAIHXpENBLJS",
        "colab": {
          "base_uri": "https://localhost:8080/"
        },
        "outputId": "1ce188c6-87d4-4750-e89d-967505ad9361"
      },
      "execution_count": null,
      "outputs": [
        {
          "output_type": "stream",
          "name": "stdout",
          "text": [
            "Odds Ratio (sex = male vs female): 0.0817\n",
            "95% CI for OR: [0.0588, 0.1134]\n"
          ]
        }
      ]
    },
    {
      "cell_type": "code",
      "source": [
        "# Please note that this cell works may not work in other env-s that Google Colab\n",
        "!pip install wget\n",
        "import wget\n",
        "url = \"https://github.com/francji1/01ZLMA/raw/main/code/helpers.py\"\n",
        "wget.download(url, '../content/helpers.py')  # path where Colab can find libraries"
      ],
      "metadata": {
        "id": "jnYxeVQKvlio",
        "colab": {
          "base_uri": "https://localhost:8080/",
          "height": 209
        },
        "outputId": "f8f922cc-d056-43d9-ddc4-7c70dec94df4"
      },
      "execution_count": null,
      "outputs": [
        {
          "output_type": "stream",
          "name": "stdout",
          "text": [
            "Collecting wget\n",
            "  Downloading wget-3.2.zip (10 kB)\n",
            "  Preparing metadata (setup.py) ... \u001b[?25l\u001b[?25hdone\n",
            "Building wheels for collected packages: wget\n",
            "  Building wheel for wget (setup.py) ... \u001b[?25l\u001b[?25hdone\n",
            "  Created wheel for wget: filename=wget-3.2-py3-none-any.whl size=9655 sha256=d2bf77331197c768f964070244f6bac2dbc8decb1cb715f47f6e4c962c8836ce\n",
            "  Stored in directory: /root/.cache/pip/wheels/40/b3/0f/a40dbd1c6861731779f62cc4babcb234387e11d697df70ee97\n",
            "Successfully built wget\n",
            "Installing collected packages: wget\n",
            "Successfully installed wget-3.2\n"
          ]
        },
        {
          "output_type": "execute_result",
          "data": {
            "text/plain": [
              "'../content/helpers.py'"
            ],
            "application/vnd.google.colaboratory.intrinsic+json": {
              "type": "string"
            }
          },
          "metadata": {},
          "execution_count": 33
        }
      ]
    },
    {
      "cell_type": "code",
      "source": [
        "from helpers import Anova\n",
        "\n",
        "anova = Anova()\n",
        "\n",
        "anova(mod0, mod_sex, test='chisq')"
      ],
      "metadata": {
        "id": "paquQ215vlrJ",
        "colab": {
          "base_uri": "https://localhost:8080/",
          "height": 112
        },
        "outputId": "c3cc1b46-fcbf-4d86-bc3b-3f24dce1a92c"
      },
      "execution_count": null,
      "outputs": [
        {
          "output_type": "execute_result",
          "data": {
            "text/plain": [
              "   resid_df  resid_deviance   df   deviance       chi2         p_val\n",
              "0       888     1182.817776  NaN        NaN        NaN           NaN\n",
              "1       887      916.606056  1.0  266.21172  266.21172  7.595732e-60"
            ],
            "text/html": [
              "\n",
              "  <div id=\"df-0f405ec1-b5ef-4687-aac6-6ee9ed578461\" class=\"colab-df-container\">\n",
              "    <div>\n",
              "<style scoped>\n",
              "    .dataframe tbody tr th:only-of-type {\n",
              "        vertical-align: middle;\n",
              "    }\n",
              "\n",
              "    .dataframe tbody tr th {\n",
              "        vertical-align: top;\n",
              "    }\n",
              "\n",
              "    .dataframe thead th {\n",
              "        text-align: right;\n",
              "    }\n",
              "</style>\n",
              "<table border=\"1\" class=\"dataframe\">\n",
              "  <thead>\n",
              "    <tr style=\"text-align: right;\">\n",
              "      <th></th>\n",
              "      <th>resid_df</th>\n",
              "      <th>resid_deviance</th>\n",
              "      <th>df</th>\n",
              "      <th>deviance</th>\n",
              "      <th>chi2</th>\n",
              "      <th>p_val</th>\n",
              "    </tr>\n",
              "  </thead>\n",
              "  <tbody>\n",
              "    <tr>\n",
              "      <th>0</th>\n",
              "      <td>888</td>\n",
              "      <td>1182.817776</td>\n",
              "      <td>NaN</td>\n",
              "      <td>NaN</td>\n",
              "      <td>NaN</td>\n",
              "      <td>NaN</td>\n",
              "    </tr>\n",
              "    <tr>\n",
              "      <th>1</th>\n",
              "      <td>887</td>\n",
              "      <td>916.606056</td>\n",
              "      <td>1.0</td>\n",
              "      <td>266.21172</td>\n",
              "      <td>266.21172</td>\n",
              "      <td>7.595732e-60</td>\n",
              "    </tr>\n",
              "  </tbody>\n",
              "</table>\n",
              "</div>\n",
              "    <div class=\"colab-df-buttons\">\n",
              "\n",
              "  <div class=\"colab-df-container\">\n",
              "    <button class=\"colab-df-convert\" onclick=\"convertToInteractive('df-0f405ec1-b5ef-4687-aac6-6ee9ed578461')\"\n",
              "            title=\"Convert this dataframe to an interactive table.\"\n",
              "            style=\"display:none;\">\n",
              "\n",
              "  <svg xmlns=\"http://www.w3.org/2000/svg\" height=\"24px\" viewBox=\"0 -960 960 960\">\n",
              "    <path d=\"M120-120v-720h720v720H120Zm60-500h600v-160H180v160Zm220 220h160v-160H400v160Zm0 220h160v-160H400v160ZM180-400h160v-160H180v160Zm440 0h160v-160H620v160ZM180-180h160v-160H180v160Zm440 0h160v-160H620v160Z\"/>\n",
              "  </svg>\n",
              "    </button>\n",
              "\n",
              "  <style>\n",
              "    .colab-df-container {\n",
              "      display:flex;\n",
              "      gap: 12px;\n",
              "    }\n",
              "\n",
              "    .colab-df-convert {\n",
              "      background-color: #E8F0FE;\n",
              "      border: none;\n",
              "      border-radius: 50%;\n",
              "      cursor: pointer;\n",
              "      display: none;\n",
              "      fill: #1967D2;\n",
              "      height: 32px;\n",
              "      padding: 0 0 0 0;\n",
              "      width: 32px;\n",
              "    }\n",
              "\n",
              "    .colab-df-convert:hover {\n",
              "      background-color: #E2EBFA;\n",
              "      box-shadow: 0px 1px 2px rgba(60, 64, 67, 0.3), 0px 1px 3px 1px rgba(60, 64, 67, 0.15);\n",
              "      fill: #174EA6;\n",
              "    }\n",
              "\n",
              "    .colab-df-buttons div {\n",
              "      margin-bottom: 4px;\n",
              "    }\n",
              "\n",
              "    [theme=dark] .colab-df-convert {\n",
              "      background-color: #3B4455;\n",
              "      fill: #D2E3FC;\n",
              "    }\n",
              "\n",
              "    [theme=dark] .colab-df-convert:hover {\n",
              "      background-color: #434B5C;\n",
              "      box-shadow: 0px 1px 3px 1px rgba(0, 0, 0, 0.15);\n",
              "      filter: drop-shadow(0px 1px 2px rgba(0, 0, 0, 0.3));\n",
              "      fill: #FFFFFF;\n",
              "    }\n",
              "  </style>\n",
              "\n",
              "    <script>\n",
              "      const buttonEl =\n",
              "        document.querySelector('#df-0f405ec1-b5ef-4687-aac6-6ee9ed578461 button.colab-df-convert');\n",
              "      buttonEl.style.display =\n",
              "        google.colab.kernel.accessAllowed ? 'block' : 'none';\n",
              "\n",
              "      async function convertToInteractive(key) {\n",
              "        const element = document.querySelector('#df-0f405ec1-b5ef-4687-aac6-6ee9ed578461');\n",
              "        const dataTable =\n",
              "          await google.colab.kernel.invokeFunction('convertToInteractive',\n",
              "                                                    [key], {});\n",
              "        if (!dataTable) return;\n",
              "\n",
              "        const docLinkHtml = 'Like what you see? Visit the ' +\n",
              "          '<a target=\"_blank\" href=https://colab.research.google.com/notebooks/data_table.ipynb>data table notebook</a>'\n",
              "          + ' to learn more about interactive tables.';\n",
              "        element.innerHTML = '';\n",
              "        dataTable['output_type'] = 'display_data';\n",
              "        await google.colab.output.renderOutput(dataTable, element);\n",
              "        const docLink = document.createElement('div');\n",
              "        docLink.innerHTML = docLinkHtml;\n",
              "        element.appendChild(docLink);\n",
              "      }\n",
              "    </script>\n",
              "  </div>\n",
              "\n",
              "\n",
              "<div id=\"df-cd84d981-9bab-4187-b823-e240cb17b903\">\n",
              "  <button class=\"colab-df-quickchart\" onclick=\"quickchart('df-cd84d981-9bab-4187-b823-e240cb17b903')\"\n",
              "            title=\"Suggest charts\"\n",
              "            style=\"display:none;\">\n",
              "\n",
              "<svg xmlns=\"http://www.w3.org/2000/svg\" height=\"24px\"viewBox=\"0 0 24 24\"\n",
              "     width=\"24px\">\n",
              "    <g>\n",
              "        <path d=\"M19 3H5c-1.1 0-2 .9-2 2v14c0 1.1.9 2 2 2h14c1.1 0 2-.9 2-2V5c0-1.1-.9-2-2-2zM9 17H7v-7h2v7zm4 0h-2V7h2v10zm4 0h-2v-4h2v4z\"/>\n",
              "    </g>\n",
              "</svg>\n",
              "  </button>\n",
              "\n",
              "<style>\n",
              "  .colab-df-quickchart {\n",
              "      --bg-color: #E8F0FE;\n",
              "      --fill-color: #1967D2;\n",
              "      --hover-bg-color: #E2EBFA;\n",
              "      --hover-fill-color: #174EA6;\n",
              "      --disabled-fill-color: #AAA;\n",
              "      --disabled-bg-color: #DDD;\n",
              "  }\n",
              "\n",
              "  [theme=dark] .colab-df-quickchart {\n",
              "      --bg-color: #3B4455;\n",
              "      --fill-color: #D2E3FC;\n",
              "      --hover-bg-color: #434B5C;\n",
              "      --hover-fill-color: #FFFFFF;\n",
              "      --disabled-bg-color: #3B4455;\n",
              "      --disabled-fill-color: #666;\n",
              "  }\n",
              "\n",
              "  .colab-df-quickchart {\n",
              "    background-color: var(--bg-color);\n",
              "    border: none;\n",
              "    border-radius: 50%;\n",
              "    cursor: pointer;\n",
              "    display: none;\n",
              "    fill: var(--fill-color);\n",
              "    height: 32px;\n",
              "    padding: 0;\n",
              "    width: 32px;\n",
              "  }\n",
              "\n",
              "  .colab-df-quickchart:hover {\n",
              "    background-color: var(--hover-bg-color);\n",
              "    box-shadow: 0 1px 2px rgba(60, 64, 67, 0.3), 0 1px 3px 1px rgba(60, 64, 67, 0.15);\n",
              "    fill: var(--button-hover-fill-color);\n",
              "  }\n",
              "\n",
              "  .colab-df-quickchart-complete:disabled,\n",
              "  .colab-df-quickchart-complete:disabled:hover {\n",
              "    background-color: var(--disabled-bg-color);\n",
              "    fill: var(--disabled-fill-color);\n",
              "    box-shadow: none;\n",
              "  }\n",
              "\n",
              "  .colab-df-spinner {\n",
              "    border: 2px solid var(--fill-color);\n",
              "    border-color: transparent;\n",
              "    border-bottom-color: var(--fill-color);\n",
              "    animation:\n",
              "      spin 1s steps(1) infinite;\n",
              "  }\n",
              "\n",
              "  @keyframes spin {\n",
              "    0% {\n",
              "      border-color: transparent;\n",
              "      border-bottom-color: var(--fill-color);\n",
              "      border-left-color: var(--fill-color);\n",
              "    }\n",
              "    20% {\n",
              "      border-color: transparent;\n",
              "      border-left-color: var(--fill-color);\n",
              "      border-top-color: var(--fill-color);\n",
              "    }\n",
              "    30% {\n",
              "      border-color: transparent;\n",
              "      border-left-color: var(--fill-color);\n",
              "      border-top-color: var(--fill-color);\n",
              "      border-right-color: var(--fill-color);\n",
              "    }\n",
              "    40% {\n",
              "      border-color: transparent;\n",
              "      border-right-color: var(--fill-color);\n",
              "      border-top-color: var(--fill-color);\n",
              "    }\n",
              "    60% {\n",
              "      border-color: transparent;\n",
              "      border-right-color: var(--fill-color);\n",
              "    }\n",
              "    80% {\n",
              "      border-color: transparent;\n",
              "      border-right-color: var(--fill-color);\n",
              "      border-bottom-color: var(--fill-color);\n",
              "    }\n",
              "    90% {\n",
              "      border-color: transparent;\n",
              "      border-bottom-color: var(--fill-color);\n",
              "    }\n",
              "  }\n",
              "</style>\n",
              "\n",
              "  <script>\n",
              "    async function quickchart(key) {\n",
              "      const quickchartButtonEl =\n",
              "        document.querySelector('#' + key + ' button');\n",
              "      quickchartButtonEl.disabled = true;  // To prevent multiple clicks.\n",
              "      quickchartButtonEl.classList.add('colab-df-spinner');\n",
              "      try {\n",
              "        const charts = await google.colab.kernel.invokeFunction(\n",
              "            'suggestCharts', [key], {});\n",
              "      } catch (error) {\n",
              "        console.error('Error during call to suggestCharts:', error);\n",
              "      }\n",
              "      quickchartButtonEl.classList.remove('colab-df-spinner');\n",
              "      quickchartButtonEl.classList.add('colab-df-quickchart-complete');\n",
              "    }\n",
              "    (() => {\n",
              "      let quickchartButtonEl =\n",
              "        document.querySelector('#df-cd84d981-9bab-4187-b823-e240cb17b903 button');\n",
              "      quickchartButtonEl.style.display =\n",
              "        google.colab.kernel.accessAllowed ? 'block' : 'none';\n",
              "    })();\n",
              "  </script>\n",
              "</div>\n",
              "\n",
              "    </div>\n",
              "  </div>\n"
            ],
            "application/vnd.google.colaboratory.intrinsic+json": {
              "type": "dataframe",
              "summary": "{\n  \"name\": \"anova(mod0, mod_sex, test='chisq')\",\n  \"rows\": 2,\n  \"fields\": [\n    {\n      \"column\": \"resid_df\",\n      \"properties\": {\n        \"dtype\": \"number\",\n        \"std\": 0,\n        \"min\": 887,\n        \"max\": 888,\n        \"num_unique_values\": 2,\n        \"samples\": [\n          887,\n          888\n        ],\n        \"semantic_type\": \"\",\n        \"description\": \"\"\n      }\n    },\n    {\n      \"column\": \"resid_deviance\",\n      \"properties\": {\n        \"dtype\": \"number\",\n        \"std\": 188.24011235192492,\n        \"min\": 916.6060561205893,\n        \"max\": 1182.8177759913167,\n        \"num_unique_values\": 2,\n        \"samples\": [\n          916.6060561205893,\n          1182.8177759913167\n        ],\n        \"semantic_type\": \"\",\n        \"description\": \"\"\n      }\n    },\n    {\n      \"column\": \"df\",\n      \"properties\": {\n        \"dtype\": \"number\",\n        \"std\": null,\n        \"min\": 1.0,\n        \"max\": 1.0,\n        \"num_unique_values\": 1,\n        \"samples\": [\n          1.0\n        ],\n        \"semantic_type\": \"\",\n        \"description\": \"\"\n      }\n    },\n    {\n      \"column\": \"deviance\",\n      \"properties\": {\n        \"dtype\": \"number\",\n        \"std\": null,\n        \"min\": 266.2117198707274,\n        \"max\": 266.2117198707274,\n        \"num_unique_values\": 1,\n        \"samples\": [\n          266.2117198707274\n        ],\n        \"semantic_type\": \"\",\n        \"description\": \"\"\n      }\n    },\n    {\n      \"column\": \"chi2\",\n      \"properties\": {\n        \"dtype\": \"number\",\n        \"std\": null,\n        \"min\": 266.2117198707274,\n        \"max\": 266.2117198707274,\n        \"num_unique_values\": 1,\n        \"samples\": [\n          266.2117198707274\n        ],\n        \"semantic_type\": \"\",\n        \"description\": \"\"\n      }\n    },\n    {\n      \"column\": \"p_val\",\n      \"properties\": {\n        \"dtype\": \"number\",\n        \"std\": null,\n        \"min\": 7.59573235246829e-60,\n        \"max\": 7.59573235246829e-60,\n        \"num_unique_values\": 1,\n        \"samples\": [\n          7.59573235246829e-60\n        ],\n        \"semantic_type\": \"\",\n        \"description\": \"\"\n      }\n    }\n  ]\n}"
            }
          },
          "metadata": {},
          "execution_count": 34
        }
      ]
    },
    {
      "cell_type": "code",
      "source": [
        "anova(mod_sex, test=\"Chisq\")"
      ],
      "metadata": {
        "id": "m7NAkcGmwT44",
        "colab": {
          "base_uri": "https://localhost:8080/",
          "height": 112
        },
        "outputId": "8fb17eb5-9e78-45d9-fd2f-8ca881b2819d"
      },
      "execution_count": null,
      "outputs": [
        {
          "output_type": "execute_result",
          "data": {
            "text/plain": [
              "             resid_df  resid_deviance   df   deviance       chi2         p_val\n",
              "Intercept         888     1182.817776  NaN        NaN        NaN           NaN\n",
              "sex[T.male]       887      916.606056  1.0  266.21172  266.21172  7.595732e-60"
            ],
            "text/html": [
              "\n",
              "  <div id=\"df-c80b4413-0545-4b68-bb1b-f44b7c6f2a84\" class=\"colab-df-container\">\n",
              "    <div>\n",
              "<style scoped>\n",
              "    .dataframe tbody tr th:only-of-type {\n",
              "        vertical-align: middle;\n",
              "    }\n",
              "\n",
              "    .dataframe tbody tr th {\n",
              "        vertical-align: top;\n",
              "    }\n",
              "\n",
              "    .dataframe thead th {\n",
              "        text-align: right;\n",
              "    }\n",
              "</style>\n",
              "<table border=\"1\" class=\"dataframe\">\n",
              "  <thead>\n",
              "    <tr style=\"text-align: right;\">\n",
              "      <th></th>\n",
              "      <th>resid_df</th>\n",
              "      <th>resid_deviance</th>\n",
              "      <th>df</th>\n",
              "      <th>deviance</th>\n",
              "      <th>chi2</th>\n",
              "      <th>p_val</th>\n",
              "    </tr>\n",
              "  </thead>\n",
              "  <tbody>\n",
              "    <tr>\n",
              "      <th>Intercept</th>\n",
              "      <td>888</td>\n",
              "      <td>1182.817776</td>\n",
              "      <td>NaN</td>\n",
              "      <td>NaN</td>\n",
              "      <td>NaN</td>\n",
              "      <td>NaN</td>\n",
              "    </tr>\n",
              "    <tr>\n",
              "      <th>sex[T.male]</th>\n",
              "      <td>887</td>\n",
              "      <td>916.606056</td>\n",
              "      <td>1.0</td>\n",
              "      <td>266.21172</td>\n",
              "      <td>266.21172</td>\n",
              "      <td>7.595732e-60</td>\n",
              "    </tr>\n",
              "  </tbody>\n",
              "</table>\n",
              "</div>\n",
              "    <div class=\"colab-df-buttons\">\n",
              "\n",
              "  <div class=\"colab-df-container\">\n",
              "    <button class=\"colab-df-convert\" onclick=\"convertToInteractive('df-c80b4413-0545-4b68-bb1b-f44b7c6f2a84')\"\n",
              "            title=\"Convert this dataframe to an interactive table.\"\n",
              "            style=\"display:none;\">\n",
              "\n",
              "  <svg xmlns=\"http://www.w3.org/2000/svg\" height=\"24px\" viewBox=\"0 -960 960 960\">\n",
              "    <path d=\"M120-120v-720h720v720H120Zm60-500h600v-160H180v160Zm220 220h160v-160H400v160Zm0 220h160v-160H400v160ZM180-400h160v-160H180v160Zm440 0h160v-160H620v160ZM180-180h160v-160H180v160Zm440 0h160v-160H620v160Z\"/>\n",
              "  </svg>\n",
              "    </button>\n",
              "\n",
              "  <style>\n",
              "    .colab-df-container {\n",
              "      display:flex;\n",
              "      gap: 12px;\n",
              "    }\n",
              "\n",
              "    .colab-df-convert {\n",
              "      background-color: #E8F0FE;\n",
              "      border: none;\n",
              "      border-radius: 50%;\n",
              "      cursor: pointer;\n",
              "      display: none;\n",
              "      fill: #1967D2;\n",
              "      height: 32px;\n",
              "      padding: 0 0 0 0;\n",
              "      width: 32px;\n",
              "    }\n",
              "\n",
              "    .colab-df-convert:hover {\n",
              "      background-color: #E2EBFA;\n",
              "      box-shadow: 0px 1px 2px rgba(60, 64, 67, 0.3), 0px 1px 3px 1px rgba(60, 64, 67, 0.15);\n",
              "      fill: #174EA6;\n",
              "    }\n",
              "\n",
              "    .colab-df-buttons div {\n",
              "      margin-bottom: 4px;\n",
              "    }\n",
              "\n",
              "    [theme=dark] .colab-df-convert {\n",
              "      background-color: #3B4455;\n",
              "      fill: #D2E3FC;\n",
              "    }\n",
              "\n",
              "    [theme=dark] .colab-df-convert:hover {\n",
              "      background-color: #434B5C;\n",
              "      box-shadow: 0px 1px 3px 1px rgba(0, 0, 0, 0.15);\n",
              "      filter: drop-shadow(0px 1px 2px rgba(0, 0, 0, 0.3));\n",
              "      fill: #FFFFFF;\n",
              "    }\n",
              "  </style>\n",
              "\n",
              "    <script>\n",
              "      const buttonEl =\n",
              "        document.querySelector('#df-c80b4413-0545-4b68-bb1b-f44b7c6f2a84 button.colab-df-convert');\n",
              "      buttonEl.style.display =\n",
              "        google.colab.kernel.accessAllowed ? 'block' : 'none';\n",
              "\n",
              "      async function convertToInteractive(key) {\n",
              "        const element = document.querySelector('#df-c80b4413-0545-4b68-bb1b-f44b7c6f2a84');\n",
              "        const dataTable =\n",
              "          await google.colab.kernel.invokeFunction('convertToInteractive',\n",
              "                                                    [key], {});\n",
              "        if (!dataTable) return;\n",
              "\n",
              "        const docLinkHtml = 'Like what you see? Visit the ' +\n",
              "          '<a target=\"_blank\" href=https://colab.research.google.com/notebooks/data_table.ipynb>data table notebook</a>'\n",
              "          + ' to learn more about interactive tables.';\n",
              "        element.innerHTML = '';\n",
              "        dataTable['output_type'] = 'display_data';\n",
              "        await google.colab.output.renderOutput(dataTable, element);\n",
              "        const docLink = document.createElement('div');\n",
              "        docLink.innerHTML = docLinkHtml;\n",
              "        element.appendChild(docLink);\n",
              "      }\n",
              "    </script>\n",
              "  </div>\n",
              "\n",
              "\n",
              "<div id=\"df-a723a6fb-63d6-43e8-bc2b-5141baf906fa\">\n",
              "  <button class=\"colab-df-quickchart\" onclick=\"quickchart('df-a723a6fb-63d6-43e8-bc2b-5141baf906fa')\"\n",
              "            title=\"Suggest charts\"\n",
              "            style=\"display:none;\">\n",
              "\n",
              "<svg xmlns=\"http://www.w3.org/2000/svg\" height=\"24px\"viewBox=\"0 0 24 24\"\n",
              "     width=\"24px\">\n",
              "    <g>\n",
              "        <path d=\"M19 3H5c-1.1 0-2 .9-2 2v14c0 1.1.9 2 2 2h14c1.1 0 2-.9 2-2V5c0-1.1-.9-2-2-2zM9 17H7v-7h2v7zm4 0h-2V7h2v10zm4 0h-2v-4h2v4z\"/>\n",
              "    </g>\n",
              "</svg>\n",
              "  </button>\n",
              "\n",
              "<style>\n",
              "  .colab-df-quickchart {\n",
              "      --bg-color: #E8F0FE;\n",
              "      --fill-color: #1967D2;\n",
              "      --hover-bg-color: #E2EBFA;\n",
              "      --hover-fill-color: #174EA6;\n",
              "      --disabled-fill-color: #AAA;\n",
              "      --disabled-bg-color: #DDD;\n",
              "  }\n",
              "\n",
              "  [theme=dark] .colab-df-quickchart {\n",
              "      --bg-color: #3B4455;\n",
              "      --fill-color: #D2E3FC;\n",
              "      --hover-bg-color: #434B5C;\n",
              "      --hover-fill-color: #FFFFFF;\n",
              "      --disabled-bg-color: #3B4455;\n",
              "      --disabled-fill-color: #666;\n",
              "  }\n",
              "\n",
              "  .colab-df-quickchart {\n",
              "    background-color: var(--bg-color);\n",
              "    border: none;\n",
              "    border-radius: 50%;\n",
              "    cursor: pointer;\n",
              "    display: none;\n",
              "    fill: var(--fill-color);\n",
              "    height: 32px;\n",
              "    padding: 0;\n",
              "    width: 32px;\n",
              "  }\n",
              "\n",
              "  .colab-df-quickchart:hover {\n",
              "    background-color: var(--hover-bg-color);\n",
              "    box-shadow: 0 1px 2px rgba(60, 64, 67, 0.3), 0 1px 3px 1px rgba(60, 64, 67, 0.15);\n",
              "    fill: var(--button-hover-fill-color);\n",
              "  }\n",
              "\n",
              "  .colab-df-quickchart-complete:disabled,\n",
              "  .colab-df-quickchart-complete:disabled:hover {\n",
              "    background-color: var(--disabled-bg-color);\n",
              "    fill: var(--disabled-fill-color);\n",
              "    box-shadow: none;\n",
              "  }\n",
              "\n",
              "  .colab-df-spinner {\n",
              "    border: 2px solid var(--fill-color);\n",
              "    border-color: transparent;\n",
              "    border-bottom-color: var(--fill-color);\n",
              "    animation:\n",
              "      spin 1s steps(1) infinite;\n",
              "  }\n",
              "\n",
              "  @keyframes spin {\n",
              "    0% {\n",
              "      border-color: transparent;\n",
              "      border-bottom-color: var(--fill-color);\n",
              "      border-left-color: var(--fill-color);\n",
              "    }\n",
              "    20% {\n",
              "      border-color: transparent;\n",
              "      border-left-color: var(--fill-color);\n",
              "      border-top-color: var(--fill-color);\n",
              "    }\n",
              "    30% {\n",
              "      border-color: transparent;\n",
              "      border-left-color: var(--fill-color);\n",
              "      border-top-color: var(--fill-color);\n",
              "      border-right-color: var(--fill-color);\n",
              "    }\n",
              "    40% {\n",
              "      border-color: transparent;\n",
              "      border-right-color: var(--fill-color);\n",
              "      border-top-color: var(--fill-color);\n",
              "    }\n",
              "    60% {\n",
              "      border-color: transparent;\n",
              "      border-right-color: var(--fill-color);\n",
              "    }\n",
              "    80% {\n",
              "      border-color: transparent;\n",
              "      border-right-color: var(--fill-color);\n",
              "      border-bottom-color: var(--fill-color);\n",
              "    }\n",
              "    90% {\n",
              "      border-color: transparent;\n",
              "      border-bottom-color: var(--fill-color);\n",
              "    }\n",
              "  }\n",
              "</style>\n",
              "\n",
              "  <script>\n",
              "    async function quickchart(key) {\n",
              "      const quickchartButtonEl =\n",
              "        document.querySelector('#' + key + ' button');\n",
              "      quickchartButtonEl.disabled = true;  // To prevent multiple clicks.\n",
              "      quickchartButtonEl.classList.add('colab-df-spinner');\n",
              "      try {\n",
              "        const charts = await google.colab.kernel.invokeFunction(\n",
              "            'suggestCharts', [key], {});\n",
              "      } catch (error) {\n",
              "        console.error('Error during call to suggestCharts:', error);\n",
              "      }\n",
              "      quickchartButtonEl.classList.remove('colab-df-spinner');\n",
              "      quickchartButtonEl.classList.add('colab-df-quickchart-complete');\n",
              "    }\n",
              "    (() => {\n",
              "      let quickchartButtonEl =\n",
              "        document.querySelector('#df-a723a6fb-63d6-43e8-bc2b-5141baf906fa button');\n",
              "      quickchartButtonEl.style.display =\n",
              "        google.colab.kernel.accessAllowed ? 'block' : 'none';\n",
              "    })();\n",
              "  </script>\n",
              "</div>\n",
              "\n",
              "    </div>\n",
              "  </div>\n"
            ],
            "application/vnd.google.colaboratory.intrinsic+json": {
              "type": "dataframe",
              "summary": "{\n  \"name\": \"anova(mod_sex, test=\\\"Chisq\\\")\",\n  \"rows\": 2,\n  \"fields\": [\n    {\n      \"column\": \"resid_df\",\n      \"properties\": {\n        \"dtype\": \"number\",\n        \"std\": 0,\n        \"min\": 887,\n        \"max\": 888,\n        \"num_unique_values\": 2,\n        \"samples\": [\n          887,\n          888\n        ],\n        \"semantic_type\": \"\",\n        \"description\": \"\"\n      }\n    },\n    {\n      \"column\": \"resid_deviance\",\n      \"properties\": {\n        \"dtype\": \"number\",\n        \"std\": 188.24011235192492,\n        \"min\": 916.6060561205893,\n        \"max\": 1182.8177759913167,\n        \"num_unique_values\": 2,\n        \"samples\": [\n          916.6060561205893,\n          1182.8177759913167\n        ],\n        \"semantic_type\": \"\",\n        \"description\": \"\"\n      }\n    },\n    {\n      \"column\": \"df\",\n      \"properties\": {\n        \"dtype\": \"number\",\n        \"std\": null,\n        \"min\": 1.0,\n        \"max\": 1.0,\n        \"num_unique_values\": 1,\n        \"samples\": [\n          1.0\n        ],\n        \"semantic_type\": \"\",\n        \"description\": \"\"\n      }\n    },\n    {\n      \"column\": \"deviance\",\n      \"properties\": {\n        \"dtype\": \"number\",\n        \"std\": null,\n        \"min\": 266.2117198707274,\n        \"max\": 266.2117198707274,\n        \"num_unique_values\": 1,\n        \"samples\": [\n          266.2117198707274\n        ],\n        \"semantic_type\": \"\",\n        \"description\": \"\"\n      }\n    },\n    {\n      \"column\": \"chi2\",\n      \"properties\": {\n        \"dtype\": \"number\",\n        \"std\": null,\n        \"min\": 266.2117198707274,\n        \"max\": 266.2117198707274,\n        \"num_unique_values\": 1,\n        \"samples\": [\n          266.2117198707274\n        ],\n        \"semantic_type\": \"\",\n        \"description\": \"\"\n      }\n    },\n    {\n      \"column\": \"p_val\",\n      \"properties\": {\n        \"dtype\": \"number\",\n        \"std\": null,\n        \"min\": 7.59573235246829e-60,\n        \"max\": 7.59573235246829e-60,\n        \"num_unique_values\": 1,\n        \"samples\": [\n          7.59573235246829e-60\n        ],\n        \"semantic_type\": \"\",\n        \"description\": \"\"\n      }\n    }\n  ]\n}"
            }
          },
          "metadata": {},
          "execution_count": 35
        }
      ]
    },
    {
      "cell_type": "code",
      "source": [
        "import scipy.stats as stats\n",
        "\n",
        "# Compute the likelihood ratio test statistic\n",
        "lr_stat = 2 * (mod_sex.llf - mod0.llf)  # Twice the difference in log-likelihoods\n",
        "lr_df = mod_sex.df_model - mod0.df_model  # Difference in degrees of freedom\n",
        "\n",
        "lr_p_value = stats.chi2.sf(lr_stat, lr_df)\n",
        "\n",
        "print(f\"Likelihood Ratio Statistic: {lr_stat:.4f}\")\n",
        "print(f\"Degrees of Freedom: {lr_df}\")\n",
        "print(f\"P-value: {lr_p_value:.4f}\")"
      ],
      "metadata": {
        "id": "918XzsoCvHgA",
        "colab": {
          "base_uri": "https://localhost:8080/"
        },
        "outputId": "408a1103-d339-4b9f-b302-f141038059e7"
      },
      "execution_count": null,
      "outputs": [
        {
          "output_type": "stream",
          "name": "stdout",
          "text": [
            "Likelihood Ratio Statistic: 266.2117\n",
            "Degrees of Freedom: 1\n",
            "P-value: 0.0000\n"
          ]
        }
      ]
    },
    {
      "cell_type": "code",
      "source": [
        "from scipy.stats import norm\n",
        "\n",
        "def OR_coef(variable, model, CI):\n",
        "    \"\"\"\n",
        "    Estimate Odds Ratio with lower and upper limit of 95% CI for a variable.\n",
        "    \"\"\"\n",
        "    # Extract parameter estimate and standard error\n",
        "    beta = model.params[variable]\n",
        "    se = model.bse[variable]\n",
        "\n",
        "    # Compute the odds ratio\n",
        "    or_value = np.exp(beta)\n",
        "\n",
        "    # Compute the confidence interval\n",
        "    ci_bounds = norm.ppf(0.5 + CI/2) * se\n",
        "    ci_lower = np.exp(beta - ci_bounds)\n",
        "    ci_upper = np.exp(beta + ci_bounds)\n",
        "\n",
        "    return pd.DataFrame({\n",
        "        'OR': [or_value],\n",
        "        'LCL': [ci_lower],\n",
        "        'UCL': [ci_upper]\n",
        "    }, index=[variable])\n",
        "\n",
        "or_estimate = OR_coef('sex[T.male]', mod_sex, 0.95)\n",
        "print(or_estimate)\n"
      ],
      "metadata": {
        "id": "-HVuFqnItl0f",
        "colab": {
          "base_uri": "https://localhost:8080/"
        },
        "outputId": "1066e974-3414-4888-905b-d23471f50d8e"
      },
      "execution_count": null,
      "outputs": [
        {
          "output_type": "stream",
          "name": "stdout",
          "text": [
            "                   OR       LCL       UCL\n",
            "sex[T.male]  0.081668  0.058838  0.113358\n"
          ]
        }
      ]
    },
    {
      "cell_type": "markdown",
      "source": [
        "Compare with `table2x2.oddsratio_confint()`"
      ],
      "metadata": {
        "id": "nXLFZN6qyjDW"
      }
    },
    {
      "cell_type": "code",
      "metadata": {
        "id": "Aw3--fpl9fSs"
      },
      "source": [],
      "execution_count": null,
      "outputs": []
    },
    {
      "cell_type": "markdown",
      "metadata": {
        "id": "-kIqGZEQFp-D"
      },
      "source": [
        "### Your turn:\n",
        "\n",
        "Estimate model with one covariate `class` and compute:\n",
        "\n",
        "1. Did survival depend on (`class`) ?\n",
        "\n",
        "2. Perform an appropriate tests.\n",
        "\n",
        "3. Compute odds ratios between classes.\n",
        "\n",
        "4. Did passangers in second class have a better chance of survival than in third?\n"
      ]
    },
    {
      "cell_type": "code",
      "source": [],
      "metadata": {
        "id": "pvrngyoEwbw8"
      },
      "execution_count": null,
      "outputs": []
    },
    {
      "cell_type": "code",
      "source": [],
      "metadata": {
        "id": "1W_3D-dZwbzl"
      },
      "execution_count": null,
      "outputs": []
    },
    {
      "cell_type": "code",
      "source": [],
      "metadata": {
        "id": "pmbkOcHFwb2P"
      },
      "execution_count": null,
      "outputs": []
    },
    {
      "cell_type": "code",
      "source": [],
      "metadata": {
        "id": "VA4tOytmwb4z"
      },
      "execution_count": null,
      "outputs": []
    },
    {
      "cell_type": "code",
      "source": [],
      "metadata": {
        "id": "wocKJfpswb7d"
      },
      "execution_count": null,
      "outputs": []
    },
    {
      "cell_type": "code",
      "source": [],
      "metadata": {
        "id": "cEZ2i33-wb-P"
      },
      "execution_count": null,
      "outputs": []
    },
    {
      "cell_type": "code",
      "source": [],
      "metadata": {
        "id": "55HiLNDKwcAk"
      },
      "execution_count": null,
      "outputs": []
    },
    {
      "cell_type": "markdown",
      "metadata": {
        "id": "42sCjLq-FkV5"
      },
      "source": [
        "### Model with all discrete covariates without interactions"
      ]
    },
    {
      "cell_type": "code",
      "source": [
        "# Simple Logistic Regression model with all discrete covariates without interactions\n",
        "\n",
        "# Fit the logistic regression model\n",
        "#predictors = data_dis.columns.drop(['survived', 'intercept'])  # Exclude the response variable\n",
        "predictors = data_dis.columns.drop(['survived'])  # Exclude the response variable\n",
        "\n",
        "data_dis['survived'] = data_dis['survived'].astype(int)\n",
        "mod1 = smf.glm(formula='survived ~ ' + ' + '.join(predictors), data=data_dis, family=sm.families.Binomial()).fit()\n",
        "\n",
        "# Print the summary of the model\n",
        "print(mod1.summary())\n"
      ],
      "metadata": {
        "id": "J-OCIsXJ46Yw",
        "colab": {
          "base_uri": "https://localhost:8080/"
        },
        "outputId": "cd08591f-838d-444a-ce9f-8f3eea0d7943"
      },
      "execution_count": null,
      "outputs": [
        {
          "output_type": "stream",
          "name": "stdout",
          "text": [
            "                 Generalized Linear Model Regression Results                  \n",
            "==============================================================================\n",
            "Dep. Variable:               survived   No. Observations:                  889\n",
            "Model:                            GLM   Df Residuals:                      883\n",
            "Model Family:                Binomial   Df Model:                            5\n",
            "Link Function:                  Logit   Scale:                          1.0000\n",
            "Method:                          IRLS   Log-Likelihood:                -409.27\n",
            "Date:                Tue, 22 Apr 2025   Deviance:                       818.54\n",
            "Time:                        17:23:19   Pearson chi2:                     922.\n",
            "No. Iterations:                   100   Pseudo R-squ. (CS):             0.3362\n",
            "Covariance Type:            nonrobust                                         \n",
            "=================================================================================\n",
            "                    coef    std err          z      P>|z|      [0.025      0.975]\n",
            "---------------------------------------------------------------------------------\n",
            "Intercept         1.7937      0.180      9.942      0.000       1.440       2.147\n",
            "classes[T.2]     -0.6689      0.252     -2.651      0.008      -1.163      -0.174\n",
            "classes[T.3]     -1.8380      0.225     -8.180      0.000      -2.278      -1.398\n",
            "sex[T.male]      -2.6067      0.185    -14.059      0.000      -2.970      -2.243\n",
            "embarked[T.C]     0.8446      0.171      4.944      0.000       0.510       1.179\n",
            "embarked[T.Q]     0.6998      0.241      2.901      0.004       0.227       1.173\n",
            "embarked[T.S]     0.2493      0.131      1.899      0.058      -0.008       0.507\n",
            "=================================================================================\n"
          ]
        }
      ]
    },
    {
      "cell_type": "markdown",
      "metadata": {
        "id": "qkXZwWVG3rED"
      },
      "source": [
        "Deviance tests to add/drop independent variables. (Functions from R not in Python)\n",
        "\n",
        "`drop1(model,test=\"Chisq\")`\n",
        "\n",
        "`add1(model,terms.to.add,test=\"Chisq\")`\n",
        "\n",
        "`drop1(mod1,test=\"Chisq\")`\n",
        "\n",
        "`add1(mod0,survived~sex+class+embarked, test=\"Chisq\")`"
      ]
    },
    {
      "cell_type": "code",
      "metadata": {
        "id": "Mu3VGgYDjJGt",
        "colab": {
          "base_uri": "https://localhost:8080/"
        },
        "outputId": "6c60b0a0-80bc-43da-be6c-03b0d5a61a10"
      },
      "source": [
        "# Reset categories to only those that are present after filtering\n",
        "data_dis['embarked'] = data_dis['embarked'].cat.set_categories(['C', 'Q', 'S'])\n",
        "\n",
        "# Optionally, you can remove unused categories directly\n",
        "data_dis['embarked'] = data_dis['embarked'].cat.remove_unused_categories()\n",
        "\n",
        "# Check the categories after resetting\n",
        "print(\"Categories after filtering and resetting:\", data_dis['embarked'].cat.categories)\n",
        "\n"
      ],
      "execution_count": null,
      "outputs": [
        {
          "output_type": "stream",
          "name": "stdout",
          "text": [
            "Categories after filtering and resetting: Index(['C', 'Q', 'S'], dtype='object')\n"
          ]
        }
      ]
    },
    {
      "cell_type": "code",
      "metadata": {
        "id": "-wTFLd1T4GAY",
        "colab": {
          "base_uri": "https://localhost:8080/"
        },
        "outputId": "0c15ca72-071b-481d-90ff-af875ef1937a"
      },
      "source": [
        "data_dis2 = data_dis.copy()\n",
        "data_dis2['embarked'] = data_dis2['embarked'].replace('C', 'Q')\n",
        "print(data_dis['embarked'].value_counts())\n",
        "print(data_dis.info())"
      ],
      "execution_count": null,
      "outputs": [
        {
          "output_type": "stream",
          "name": "stdout",
          "text": [
            "embarked\n",
            "S    644\n",
            "C    168\n",
            "Q     77\n",
            "Name: count, dtype: int64\n",
            "<class 'pandas.core.frame.DataFrame'>\n",
            "Index: 889 entries, 1 to 891\n",
            "Data columns (total 4 columns):\n",
            " #   Column    Non-Null Count  Dtype   \n",
            "---  ------    --------------  -----   \n",
            " 0   survived  889 non-null    int64   \n",
            " 1   classes   889 non-null    category\n",
            " 2   sex       889 non-null    category\n",
            " 3   embarked  889 non-null    category\n",
            "dtypes: category(3), int64(1)\n",
            "memory usage: 49.1+ KB\n",
            "None\n"
          ]
        },
        {
          "output_type": "stream",
          "name": "stderr",
          "text": [
            "<ipython-input-40-e201599e9bd9>:2: FutureWarning: The behavior of Series.replace (and DataFrame.replace) with CategoricalDtype is deprecated. In a future version, replace will only be used for cases that preserve the categories. To change the categories, use ser.cat.rename_categories instead.\n",
            "  data_dis2['embarked'] = data_dis2['embarked'].replace('C', 'Q')\n"
          ]
        }
      ]
    },
    {
      "cell_type": "code",
      "metadata": {
        "id": "bVIXmCWb5AZO",
        "colab": {
          "base_uri": "https://localhost:8080/"
        },
        "outputId": "ae4d0003-5b47-463b-9029-a61670389a10"
      },
      "source": [
        "predictors = '+'.join(data_dis2.drop('survived', axis=1).columns)\n",
        "formula = f'survived ~ {predictors}'\n",
        "mod1b = smf.glm(formula=formula, data=data_dis2, family=sm.families.Binomial()).fit()\n",
        "print(mod1b.summary())\n"
      ],
      "execution_count": null,
      "outputs": [
        {
          "output_type": "stream",
          "name": "stdout",
          "text": [
            "                 Generalized Linear Model Regression Results                  \n",
            "==============================================================================\n",
            "Dep. Variable:               survived   No. Observations:                  889\n",
            "Model:                            GLM   Df Residuals:                      884\n",
            "Model Family:                Binomial   Df Model:                            4\n",
            "Link Function:                  Logit   Scale:                          1.0000\n",
            "Method:                          IRLS   Log-Likelihood:                -409.35\n",
            "Date:                Tue, 22 Apr 2025   Deviance:                       818.70\n",
            "Time:                        17:23:19   Pearson chi2:                     925.\n",
            "No. Iterations:                     5   Pseudo R-squ. (CS):             0.3361\n",
            "Covariance Type:            nonrobust                                         \n",
            "=================================================================================\n",
            "                    coef    std err          z      P>|z|      [0.025      0.975]\n",
            "---------------------------------------------------------------------------------\n",
            "Intercept         2.6048      0.252     10.326      0.000       2.110       3.099\n",
            "classes[T.2]     -0.6811      0.251     -2.717      0.007      -1.172      -0.190\n",
            "classes[T.3]     -1.8635      0.216     -8.630      0.000      -2.287      -1.440\n",
            "sex[T.male]      -2.6030      0.185    -14.071      0.000      -2.966      -2.240\n",
            "embarked[T.S]    -0.5489      0.196     -2.796      0.005      -0.934      -0.164\n",
            "=================================================================================\n"
          ]
        }
      ]
    },
    {
      "cell_type": "code",
      "metadata": {
        "id": "F2xccox0vK_e"
      },
      "source": [],
      "execution_count": null,
      "outputs": []
    },
    {
      "cell_type": "code",
      "metadata": {
        "id": "dkfQCaGSvLCi",
        "colab": {
          "base_uri": "https://localhost:8080/"
        },
        "outputId": "66bdb899-af5b-45b4-98ab-ea135c1ae21b"
      },
      "source": [
        "or_estimate_sex_1 = OR_coef('sex[T.male]', mod1b, 0.95)\n",
        "print(or_estimate_sex_1)"
      ],
      "execution_count": null,
      "outputs": [
        {
          "output_type": "stream",
          "name": "stdout",
          "text": [
            "                  OR      LCL       UCL\n",
            "sex[T.male]  0.07405  0.05153  0.106413\n"
          ]
        }
      ]
    },
    {
      "cell_type": "markdown",
      "metadata": {
        "id": "5jkf4N0EHHb0"
      },
      "source": [
        "Interpret previous result:\n",
        "\n",
        "* By how many percentage is the chance of survival lower for  men?\n",
        "\n",
        "* Interpret confidence intrval and its significance.\n"
      ]
    },
    {
      "cell_type": "markdown",
      "metadata": {
        "id": "VirGNE8J9kWA"
      },
      "source": [
        "Lets try model with second order interactions.\n"
      ]
    },
    {
      "cell_type": "code",
      "metadata": {
        "id": "uT7yNEgH8ruU"
      },
      "source": [
        "def create_interaction_formula(data, response_var):\n",
        "    predictors = data.columns.drop(response_var)\n",
        "    formula = f\"{response_var} ~ \" + \" + \".join(predictors)\n",
        "    interactions = \" + \"\n",
        "    interaction_terms = []\n",
        "\n",
        "    # Generate all pairwise interaction terms\n",
        "    for i in range(len(predictors)):\n",
        "        for j in range(i + 1, len(predictors)):\n",
        "            interaction_terms.append(f\"{predictors[i]}:{predictors[j]}\")\n",
        "\n",
        "    # Add interaction terms to the formula\n",
        "    formula += \" + \" + \" + \".join(interaction_terms)\n",
        "    return formula\n"
      ],
      "execution_count": null,
      "outputs": []
    },
    {
      "cell_type": "code",
      "source": [
        "\n",
        "# Assuming 'survived' is the response variable and data_dis is preprocessed\n",
        "formula_2nd = create_interaction_formula(data_dis, 'survived')\n",
        "print(\"Generated Formula:\", formula_2nd)"
      ],
      "metadata": {
        "id": "Dl-fXUU45Bit",
        "colab": {
          "base_uri": "https://localhost:8080/"
        },
        "outputId": "ee009f17-acda-49b9-b634-aee7eaaf4bf4"
      },
      "execution_count": null,
      "outputs": [
        {
          "output_type": "stream",
          "name": "stdout",
          "text": [
            "Generated Formula: survived ~ classes + sex + embarked + classes:sex + classes:embarked + sex:embarked\n"
          ]
        }
      ]
    },
    {
      "cell_type": "code",
      "metadata": {
        "id": "CmX8KMnk9G6y",
        "colab": {
          "base_uri": "https://localhost:8080/"
        },
        "outputId": "8b26ff06-5829-4428-e05c-f33add94b9e0"
      },
      "source": [
        "# Fit the logistic regression model with all pairwise interactions\n",
        "mod2_all = smf.glm(formula=formula_2nd, data=data_dis, family=sm.families.Binomial()).fit()\n",
        "\n",
        "# Print the summary of the model\n",
        "print(mod2_all.summary())\n"
      ],
      "execution_count": null,
      "outputs": [
        {
          "output_type": "stream",
          "name": "stdout",
          "text": [
            "                 Generalized Linear Model Regression Results                  \n",
            "==============================================================================\n",
            "Dep. Variable:               survived   No. Observations:                  889\n",
            "Model:                            GLM   Df Residuals:                      875\n",
            "Model Family:                Binomial   Df Model:                           13\n",
            "Link Function:                  Logit   Scale:                          1.0000\n",
            "Method:                          IRLS   Log-Likelihood:                -388.11\n",
            "Date:                Tue, 22 Apr 2025   Deviance:                       776.21\n",
            "Time:                        17:23:19   Pearson chi2:                     885.\n",
            "No. Iterations:                     6   Pseudo R-squ. (CS):             0.3671\n",
            "Covariance Type:            nonrobust                                         \n",
            "==============================================================================================\n",
            "                                 coef    std err          z      P>|z|      [0.025      0.975]\n",
            "----------------------------------------------------------------------------------------------\n",
            "Intercept                      3.8191      0.732      5.219      0.000       2.385       5.253\n",
            "classes[T.2]                  -0.4733      1.066     -0.444      0.657      -2.562       1.616\n",
            "classes[T.3]                  -3.1593      0.723     -4.373      0.000      -4.575      -1.743\n",
            "sex[T.male]                   -4.2123      0.726     -5.798      0.000      -5.636      -2.788\n",
            "embarked[T.Q]                 -0.8888      3.293     -0.270      0.787      -7.343       5.565\n",
            "embarked[T.S]                 -0.6970      0.633     -1.101      0.271      -1.937       0.544\n",
            "classes[T.2]:sex[T.male]      -0.3770      0.813     -0.463      0.643      -1.971       1.217\n",
            "classes[T.3]:sex[T.male]       2.3374      0.673      3.475      0.001       1.019       3.656\n",
            "classes[T.2]:embarked[T.Q]     1.0240      4.457      0.230      0.818      -7.712       9.760\n",
            "classes[T.3]:embarked[T.Q]     1.2268      3.283      0.374      0.709      -5.207       7.661\n",
            "classes[T.2]:embarked[T.S]    -0.2739      0.845     -0.324      0.746      -1.930       1.383\n",
            "classes[T.3]:embarked[T.S]    -0.4868      0.520     -0.936      0.350      -1.507       0.533\n",
            "sex[T.male]:embarked[T.Q]     -1.6483      0.880     -1.873      0.061      -3.373       0.076\n",
            "sex[T.male]:embarked[T.S]      0.4920      0.558      0.882      0.378      -0.602       1.586\n",
            "==============================================================================================\n"
          ]
        }
      ]
    },
    {
      "cell_type": "code",
      "metadata": {
        "id": "1bKbLLgZ-xN-",
        "colab": {
          "base_uri": "https://localhost:8080/"
        },
        "outputId": "d19f5310-81a7-43d2-ff8d-803f10a68624"
      },
      "source": [
        "mod2 = smf.glm(formula='survived ~ classes + sex + embarked + classes:sex + sex:embarked', data=data_dis, family=sm.families.Binomial()).fit()\n",
        "print(mod2.summary())\n"
      ],
      "execution_count": null,
      "outputs": [
        {
          "output_type": "stream",
          "name": "stdout",
          "text": [
            "                 Generalized Linear Model Regression Results                  \n",
            "==============================================================================\n",
            "Dep. Variable:               survived   No. Observations:                  889\n",
            "Model:                            GLM   Df Residuals:                      879\n",
            "Model Family:                Binomial   Df Model:                            9\n",
            "Link Function:                  Logit   Scale:                          1.0000\n",
            "Method:                          IRLS   Log-Likelihood:                -388.68\n",
            "Date:                Tue, 22 Apr 2025   Deviance:                       777.35\n",
            "Time:                        17:23:19   Pearson chi2:                     894.\n",
            "No. Iterations:                     6   Pseudo R-squ. (CS):             0.3662\n",
            "Covariance Type:            nonrobust                                         \n",
            "=============================================================================================\n",
            "                                coef    std err          z      P>|z|      [0.025      0.975]\n",
            "---------------------------------------------------------------------------------------------\n",
            "Intercept                     4.1101      0.683      6.022      0.000       2.772       5.448\n",
            "classes[T.2]                 -0.6259      0.733     -0.854      0.393      -2.063       0.811\n",
            "classes[T.3]                 -3.5002      0.621     -5.635      0.000      -4.718      -2.283\n",
            "sex[T.male]                  -4.3584      0.729     -5.982      0.000      -5.786      -2.930\n",
            "embarked[T.Q]                 0.3789      0.566      0.669      0.503      -0.730       1.488\n",
            "embarked[T.S]                -1.1186      0.452     -2.476      0.013      -2.004      -0.233\n",
            "classes[T.2]:sex[T.male]     -0.4039      0.805     -0.502      0.616      -1.981       1.173\n",
            "classes[T.3]:sex[T.male]      2.3349      0.671      3.480      0.001       1.020       3.650\n",
            "sex[T.male]:embarked[T.Q]    -1.5534      0.868     -1.791      0.073      -3.254       0.147\n",
            "sex[T.male]:embarked[T.S]     0.6774      0.527      1.285      0.199      -0.356       1.710\n",
            "=============================================================================================\n"
          ]
        }
      ]
    },
    {
      "cell_type": "code",
      "metadata": {
        "id": "_rdGvZUe9G-x",
        "colab": {
          "base_uri": "https://localhost:8080/",
          "height": 112
        },
        "outputId": "2dc3f8bd-99bd-4615-887c-0cdb87e4d614"
      },
      "source": [
        "anova(mod2_all, mod2, test='chisq')"
      ],
      "execution_count": null,
      "outputs": [
        {
          "output_type": "execute_result",
          "data": {
            "text/plain": [
              "   resid_df  resid_deviance   df  deviance      chi2     p_val\n",
              "0       875      776.213584  NaN       NaN       NaN       NaN\n",
              "1       879      777.351633 -4.0 -1.138049  1.138049  0.888189"
            ],
            "text/html": [
              "\n",
              "  <div id=\"df-e7cf302f-e5b8-4b9b-b425-8915e16b3c87\" class=\"colab-df-container\">\n",
              "    <div>\n",
              "<style scoped>\n",
              "    .dataframe tbody tr th:only-of-type {\n",
              "        vertical-align: middle;\n",
              "    }\n",
              "\n",
              "    .dataframe tbody tr th {\n",
              "        vertical-align: top;\n",
              "    }\n",
              "\n",
              "    .dataframe thead th {\n",
              "        text-align: right;\n",
              "    }\n",
              "</style>\n",
              "<table border=\"1\" class=\"dataframe\">\n",
              "  <thead>\n",
              "    <tr style=\"text-align: right;\">\n",
              "      <th></th>\n",
              "      <th>resid_df</th>\n",
              "      <th>resid_deviance</th>\n",
              "      <th>df</th>\n",
              "      <th>deviance</th>\n",
              "      <th>chi2</th>\n",
              "      <th>p_val</th>\n",
              "    </tr>\n",
              "  </thead>\n",
              "  <tbody>\n",
              "    <tr>\n",
              "      <th>0</th>\n",
              "      <td>875</td>\n",
              "      <td>776.213584</td>\n",
              "      <td>NaN</td>\n",
              "      <td>NaN</td>\n",
              "      <td>NaN</td>\n",
              "      <td>NaN</td>\n",
              "    </tr>\n",
              "    <tr>\n",
              "      <th>1</th>\n",
              "      <td>879</td>\n",
              "      <td>777.351633</td>\n",
              "      <td>-4.0</td>\n",
              "      <td>-1.138049</td>\n",
              "      <td>1.138049</td>\n",
              "      <td>0.888189</td>\n",
              "    </tr>\n",
              "  </tbody>\n",
              "</table>\n",
              "</div>\n",
              "    <div class=\"colab-df-buttons\">\n",
              "\n",
              "  <div class=\"colab-df-container\">\n",
              "    <button class=\"colab-df-convert\" onclick=\"convertToInteractive('df-e7cf302f-e5b8-4b9b-b425-8915e16b3c87')\"\n",
              "            title=\"Convert this dataframe to an interactive table.\"\n",
              "            style=\"display:none;\">\n",
              "\n",
              "  <svg xmlns=\"http://www.w3.org/2000/svg\" height=\"24px\" viewBox=\"0 -960 960 960\">\n",
              "    <path d=\"M120-120v-720h720v720H120Zm60-500h600v-160H180v160Zm220 220h160v-160H400v160Zm0 220h160v-160H400v160ZM180-400h160v-160H180v160Zm440 0h160v-160H620v160ZM180-180h160v-160H180v160Zm440 0h160v-160H620v160Z\"/>\n",
              "  </svg>\n",
              "    </button>\n",
              "\n",
              "  <style>\n",
              "    .colab-df-container {\n",
              "      display:flex;\n",
              "      gap: 12px;\n",
              "    }\n",
              "\n",
              "    .colab-df-convert {\n",
              "      background-color: #E8F0FE;\n",
              "      border: none;\n",
              "      border-radius: 50%;\n",
              "      cursor: pointer;\n",
              "      display: none;\n",
              "      fill: #1967D2;\n",
              "      height: 32px;\n",
              "      padding: 0 0 0 0;\n",
              "      width: 32px;\n",
              "    }\n",
              "\n",
              "    .colab-df-convert:hover {\n",
              "      background-color: #E2EBFA;\n",
              "      box-shadow: 0px 1px 2px rgba(60, 64, 67, 0.3), 0px 1px 3px 1px rgba(60, 64, 67, 0.15);\n",
              "      fill: #174EA6;\n",
              "    }\n",
              "\n",
              "    .colab-df-buttons div {\n",
              "      margin-bottom: 4px;\n",
              "    }\n",
              "\n",
              "    [theme=dark] .colab-df-convert {\n",
              "      background-color: #3B4455;\n",
              "      fill: #D2E3FC;\n",
              "    }\n",
              "\n",
              "    [theme=dark] .colab-df-convert:hover {\n",
              "      background-color: #434B5C;\n",
              "      box-shadow: 0px 1px 3px 1px rgba(0, 0, 0, 0.15);\n",
              "      filter: drop-shadow(0px 1px 2px rgba(0, 0, 0, 0.3));\n",
              "      fill: #FFFFFF;\n",
              "    }\n",
              "  </style>\n",
              "\n",
              "    <script>\n",
              "      const buttonEl =\n",
              "        document.querySelector('#df-e7cf302f-e5b8-4b9b-b425-8915e16b3c87 button.colab-df-convert');\n",
              "      buttonEl.style.display =\n",
              "        google.colab.kernel.accessAllowed ? 'block' : 'none';\n",
              "\n",
              "      async function convertToInteractive(key) {\n",
              "        const element = document.querySelector('#df-e7cf302f-e5b8-4b9b-b425-8915e16b3c87');\n",
              "        const dataTable =\n",
              "          await google.colab.kernel.invokeFunction('convertToInteractive',\n",
              "                                                    [key], {});\n",
              "        if (!dataTable) return;\n",
              "\n",
              "        const docLinkHtml = 'Like what you see? Visit the ' +\n",
              "          '<a target=\"_blank\" href=https://colab.research.google.com/notebooks/data_table.ipynb>data table notebook</a>'\n",
              "          + ' to learn more about interactive tables.';\n",
              "        element.innerHTML = '';\n",
              "        dataTable['output_type'] = 'display_data';\n",
              "        await google.colab.output.renderOutput(dataTable, element);\n",
              "        const docLink = document.createElement('div');\n",
              "        docLink.innerHTML = docLinkHtml;\n",
              "        element.appendChild(docLink);\n",
              "      }\n",
              "    </script>\n",
              "  </div>\n",
              "\n",
              "\n",
              "<div id=\"df-aa5440a4-57de-47e0-b8d4-60d5d10d73f4\">\n",
              "  <button class=\"colab-df-quickchart\" onclick=\"quickchart('df-aa5440a4-57de-47e0-b8d4-60d5d10d73f4')\"\n",
              "            title=\"Suggest charts\"\n",
              "            style=\"display:none;\">\n",
              "\n",
              "<svg xmlns=\"http://www.w3.org/2000/svg\" height=\"24px\"viewBox=\"0 0 24 24\"\n",
              "     width=\"24px\">\n",
              "    <g>\n",
              "        <path d=\"M19 3H5c-1.1 0-2 .9-2 2v14c0 1.1.9 2 2 2h14c1.1 0 2-.9 2-2V5c0-1.1-.9-2-2-2zM9 17H7v-7h2v7zm4 0h-2V7h2v10zm4 0h-2v-4h2v4z\"/>\n",
              "    </g>\n",
              "</svg>\n",
              "  </button>\n",
              "\n",
              "<style>\n",
              "  .colab-df-quickchart {\n",
              "      --bg-color: #E8F0FE;\n",
              "      --fill-color: #1967D2;\n",
              "      --hover-bg-color: #E2EBFA;\n",
              "      --hover-fill-color: #174EA6;\n",
              "      --disabled-fill-color: #AAA;\n",
              "      --disabled-bg-color: #DDD;\n",
              "  }\n",
              "\n",
              "  [theme=dark] .colab-df-quickchart {\n",
              "      --bg-color: #3B4455;\n",
              "      --fill-color: #D2E3FC;\n",
              "      --hover-bg-color: #434B5C;\n",
              "      --hover-fill-color: #FFFFFF;\n",
              "      --disabled-bg-color: #3B4455;\n",
              "      --disabled-fill-color: #666;\n",
              "  }\n",
              "\n",
              "  .colab-df-quickchart {\n",
              "    background-color: var(--bg-color);\n",
              "    border: none;\n",
              "    border-radius: 50%;\n",
              "    cursor: pointer;\n",
              "    display: none;\n",
              "    fill: var(--fill-color);\n",
              "    height: 32px;\n",
              "    padding: 0;\n",
              "    width: 32px;\n",
              "  }\n",
              "\n",
              "  .colab-df-quickchart:hover {\n",
              "    background-color: var(--hover-bg-color);\n",
              "    box-shadow: 0 1px 2px rgba(60, 64, 67, 0.3), 0 1px 3px 1px rgba(60, 64, 67, 0.15);\n",
              "    fill: var(--button-hover-fill-color);\n",
              "  }\n",
              "\n",
              "  .colab-df-quickchart-complete:disabled,\n",
              "  .colab-df-quickchart-complete:disabled:hover {\n",
              "    background-color: var(--disabled-bg-color);\n",
              "    fill: var(--disabled-fill-color);\n",
              "    box-shadow: none;\n",
              "  }\n",
              "\n",
              "  .colab-df-spinner {\n",
              "    border: 2px solid var(--fill-color);\n",
              "    border-color: transparent;\n",
              "    border-bottom-color: var(--fill-color);\n",
              "    animation:\n",
              "      spin 1s steps(1) infinite;\n",
              "  }\n",
              "\n",
              "  @keyframes spin {\n",
              "    0% {\n",
              "      border-color: transparent;\n",
              "      border-bottom-color: var(--fill-color);\n",
              "      border-left-color: var(--fill-color);\n",
              "    }\n",
              "    20% {\n",
              "      border-color: transparent;\n",
              "      border-left-color: var(--fill-color);\n",
              "      border-top-color: var(--fill-color);\n",
              "    }\n",
              "    30% {\n",
              "      border-color: transparent;\n",
              "      border-left-color: var(--fill-color);\n",
              "      border-top-color: var(--fill-color);\n",
              "      border-right-color: var(--fill-color);\n",
              "    }\n",
              "    40% {\n",
              "      border-color: transparent;\n",
              "      border-right-color: var(--fill-color);\n",
              "      border-top-color: var(--fill-color);\n",
              "    }\n",
              "    60% {\n",
              "      border-color: transparent;\n",
              "      border-right-color: var(--fill-color);\n",
              "    }\n",
              "    80% {\n",
              "      border-color: transparent;\n",
              "      border-right-color: var(--fill-color);\n",
              "      border-bottom-color: var(--fill-color);\n",
              "    }\n",
              "    90% {\n",
              "      border-color: transparent;\n",
              "      border-bottom-color: var(--fill-color);\n",
              "    }\n",
              "  }\n",
              "</style>\n",
              "\n",
              "  <script>\n",
              "    async function quickchart(key) {\n",
              "      const quickchartButtonEl =\n",
              "        document.querySelector('#' + key + ' button');\n",
              "      quickchartButtonEl.disabled = true;  // To prevent multiple clicks.\n",
              "      quickchartButtonEl.classList.add('colab-df-spinner');\n",
              "      try {\n",
              "        const charts = await google.colab.kernel.invokeFunction(\n",
              "            'suggestCharts', [key], {});\n",
              "      } catch (error) {\n",
              "        console.error('Error during call to suggestCharts:', error);\n",
              "      }\n",
              "      quickchartButtonEl.classList.remove('colab-df-spinner');\n",
              "      quickchartButtonEl.classList.add('colab-df-quickchart-complete');\n",
              "    }\n",
              "    (() => {\n",
              "      let quickchartButtonEl =\n",
              "        document.querySelector('#df-aa5440a4-57de-47e0-b8d4-60d5d10d73f4 button');\n",
              "      quickchartButtonEl.style.display =\n",
              "        google.colab.kernel.accessAllowed ? 'block' : 'none';\n",
              "    })();\n",
              "  </script>\n",
              "</div>\n",
              "\n",
              "    </div>\n",
              "  </div>\n"
            ],
            "application/vnd.google.colaboratory.intrinsic+json": {
              "type": "dataframe",
              "summary": "{\n  \"name\": \"anova(mod2_all, mod2, test='chisq')\",\n  \"rows\": 2,\n  \"fields\": [\n    {\n      \"column\": \"resid_df\",\n      \"properties\": {\n        \"dtype\": \"number\",\n        \"std\": 2,\n        \"min\": 875,\n        \"max\": 879,\n        \"num_unique_values\": 2,\n        \"samples\": [\n          879,\n          875\n        ],\n        \"semantic_type\": \"\",\n        \"description\": \"\"\n      }\n    },\n    {\n      \"column\": \"resid_deviance\",\n      \"properties\": {\n        \"dtype\": \"number\",\n        \"std\": 0.8047218333171989,\n        \"min\": 776.2135843161291,\n        \"max\": 777.351632846744,\n        \"num_unique_values\": 2,\n        \"samples\": [\n          777.351632846744,\n          776.2135843161291\n        ],\n        \"semantic_type\": \"\",\n        \"description\": \"\"\n      }\n    },\n    {\n      \"column\": \"df\",\n      \"properties\": {\n        \"dtype\": \"number\",\n        \"std\": null,\n        \"min\": -4.0,\n        \"max\": -4.0,\n        \"num_unique_values\": 1,\n        \"samples\": [\n          -4.0\n        ],\n        \"semantic_type\": \"\",\n        \"description\": \"\"\n      }\n    },\n    {\n      \"column\": \"deviance\",\n      \"properties\": {\n        \"dtype\": \"number\",\n        \"std\": null,\n        \"min\": -1.138048530614924,\n        \"max\": -1.138048530614924,\n        \"num_unique_values\": 1,\n        \"samples\": [\n          -1.138048530614924\n        ],\n        \"semantic_type\": \"\",\n        \"description\": \"\"\n      }\n    },\n    {\n      \"column\": \"chi2\",\n      \"properties\": {\n        \"dtype\": \"number\",\n        \"std\": null,\n        \"min\": 1.138048530614924,\n        \"max\": 1.138048530614924,\n        \"num_unique_values\": 1,\n        \"samples\": [\n          1.138048530614924\n        ],\n        \"semantic_type\": \"\",\n        \"description\": \"\"\n      }\n    },\n    {\n      \"column\": \"p_val\",\n      \"properties\": {\n        \"dtype\": \"number\",\n        \"std\": null,\n        \"min\": 0.8881893504645209,\n        \"max\": 0.8881893504645209,\n        \"num_unique_values\": 1,\n        \"samples\": [\n          0.8881893504645209\n        ],\n        \"semantic_type\": \"\",\n        \"description\": \"\"\n      }\n    }\n  ]\n}"
            }
          },
          "metadata": {},
          "execution_count": 47
        }
      ]
    },
    {
      "cell_type": "code",
      "metadata": {
        "id": "7gSz2aqQFVBG"
      },
      "source": [],
      "execution_count": null,
      "outputs": []
    },
    {
      "cell_type": "markdown",
      "metadata": {
        "id": "iVLJsFVyGN-N"
      },
      "source": [
        "Interpretation by OR in models with interactions is more complitacated, see Lecture notes."
      ]
    },
    {
      "cell_type": "markdown",
      "metadata": {
        "id": "dgUfzZq4Gks5"
      },
      "source": [
        "#Task:\n",
        "Lets try model with merged factor levels.\n",
        "\n",
        "\n"
      ]
    },
    {
      "cell_type": "code",
      "metadata": {
        "id": "Ci6TaxOW_w2y"
      },
      "source": [],
      "execution_count": null,
      "outputs": []
    },
    {
      "cell_type": "markdown",
      "metadata": {
        "id": "PJSz8gifGy1p"
      },
      "source": [
        "## Model with continuous independent variable.\n"
      ]
    },
    {
      "cell_type": "markdown",
      "source": [
        "Discuss difference from models without continuous variable (again)!!!"
      ],
      "metadata": {
        "id": "gga0Fav7Q2W8"
      }
    },
    {
      "cell_type": "code",
      "source": [
        "# Selecting specific columns\n",
        "data_con = titanic_train[['Survived', 'Pclass', 'Sex', 'Embarked', 'Age', 'Fare']].copy()\n",
        "\n",
        "# Drop rows with any missing values\n",
        "data_con.dropna(inplace=True)\n",
        "\n",
        "# Filter rows where 'Embarked' is one of 'C', 'Q', 'S'\n",
        "data_con = data_con[data_con['Embarked'].isin(['C', 'Q', 'S'])]\n",
        "\n",
        "# Transform and create new columns as needed\n",
        "data_con['survived'] = data_con['Survived'].astype('category')\n",
        "data_con['class'] = data_con['Pclass'].astype('category')\n",
        "data_con['sex'] = data_con['Sex'].astype('category')  # already categorical, reaffirming\n",
        "data_con['embarked'] = data_con['Embarked'].astype('category')  # already categorical, reaffirming\n",
        "data_con['age'] = data_con['Age']  # Rename Age to age\n",
        "data_con['fare'] = data_con['Fare']  # Rename Fare to fare\n",
        "\n",
        "# Drop original columns if not needed, ensure only transformed/new columns are retained\n",
        "data_con = data_con[['survived', 'class', 'sex', 'embarked', 'age', 'fare']]"
      ],
      "metadata": {
        "id": "oAd74njCDpAI"
      },
      "execution_count": null,
      "outputs": []
    },
    {
      "cell_type": "code",
      "source": [
        "# Print basic statistics and info about the DataFrame\n",
        "print(data_con.describe(include='all'))  # Basic stats for numeric and categorical data\n",
        "print(data_con.info())  # Info on DataFrame structure, similar to str() in R\n"
      ],
      "metadata": {
        "id": "-qhG8x4jDpDH",
        "colab": {
          "base_uri": "https://localhost:8080/"
        },
        "outputId": "cdc6154e-0fe8-4826-ca14-2159312166ec"
      },
      "execution_count": null,
      "outputs": [
        {
          "output_type": "stream",
          "name": "stdout",
          "text": [
            "        survived  class   sex embarked         age        fare\n",
            "count      712.0  712.0   712      712  712.000000  712.000000\n",
            "unique       2.0    3.0     2        3         NaN         NaN\n",
            "top          0.0    3.0  male        S         NaN         NaN\n",
            "freq       424.0  355.0   453      554         NaN         NaN\n",
            "mean         NaN    NaN   NaN      NaN   29.642093   34.567251\n",
            "std          NaN    NaN   NaN      NaN   14.492933   52.938648\n",
            "min          NaN    NaN   NaN      NaN    0.420000    0.000000\n",
            "25%          NaN    NaN   NaN      NaN   20.000000    8.050000\n",
            "50%          NaN    NaN   NaN      NaN   28.000000   15.645850\n",
            "75%          NaN    NaN   NaN      NaN   38.000000   33.000000\n",
            "max          NaN    NaN   NaN      NaN   80.000000  512.329200\n",
            "<class 'pandas.core.frame.DataFrame'>\n",
            "Index: 712 entries, 1 to 891\n",
            "Data columns (total 6 columns):\n",
            " #   Column    Non-Null Count  Dtype   \n",
            "---  ------    --------------  -----   \n",
            " 0   survived  712 non-null    category\n",
            " 1   class     712 non-null    category\n",
            " 2   sex       712 non-null    category\n",
            " 3   embarked  712 non-null    category\n",
            " 4   age       712 non-null    float64 \n",
            " 5   fare      712 non-null    float64 \n",
            "dtypes: category(4), float64(2)\n",
            "memory usage: 19.9+ KB\n",
            "None\n"
          ]
        }
      ]
    },
    {
      "cell_type": "code",
      "source": [
        "# Drop rows with any missing values\n",
        "data_con.dropna(inplace=True)\n",
        "\n",
        "# Print basic statistics and info about the DataFrame\n",
        "print(data_con.describe(include='all'))  # Basic stats for numeric and categorical data\n",
        "print(data_con.info())  # Info on DataFrame structure, similar to str() in R\n"
      ],
      "metadata": {
        "id": "buHQkxIgEoYG",
        "colab": {
          "base_uri": "https://localhost:8080/"
        },
        "outputId": "ea65d83e-b412-4c72-942d-6fe680232de1"
      },
      "execution_count": null,
      "outputs": [
        {
          "output_type": "stream",
          "name": "stdout",
          "text": [
            "        survived  class   sex embarked         age        fare\n",
            "count      712.0  712.0   712      712  712.000000  712.000000\n",
            "unique       2.0    3.0     2        3         NaN         NaN\n",
            "top          0.0    3.0  male        S         NaN         NaN\n",
            "freq       424.0  355.0   453      554         NaN         NaN\n",
            "mean         NaN    NaN   NaN      NaN   29.642093   34.567251\n",
            "std          NaN    NaN   NaN      NaN   14.492933   52.938648\n",
            "min          NaN    NaN   NaN      NaN    0.420000    0.000000\n",
            "25%          NaN    NaN   NaN      NaN   20.000000    8.050000\n",
            "50%          NaN    NaN   NaN      NaN   28.000000   15.645850\n",
            "75%          NaN    NaN   NaN      NaN   38.000000   33.000000\n",
            "max          NaN    NaN   NaN      NaN   80.000000  512.329200\n",
            "<class 'pandas.core.frame.DataFrame'>\n",
            "Index: 712 entries, 1 to 891\n",
            "Data columns (total 6 columns):\n",
            " #   Column    Non-Null Count  Dtype   \n",
            "---  ------    --------------  -----   \n",
            " 0   survived  712 non-null    category\n",
            " 1   class     712 non-null    category\n",
            " 2   sex       712 non-null    category\n",
            " 3   embarked  712 non-null    category\n",
            " 4   age       712 non-null    float64 \n",
            " 5   fare      712 non-null    float64 \n",
            "dtypes: category(4), float64(2)\n",
            "memory usage: 19.9+ KB\n",
            "None\n"
          ]
        }
      ]
    },
    {
      "cell_type": "code",
      "source": [
        "import statsmodels.api as sm\n",
        "\n",
        "# Using DescrStatsW for 'fare'\n",
        "desc_stats = sm.stats.DescrStatsW(data_con['fare'])\n",
        "\n",
        "# You can access various summary statistics directly:\n",
        "print(\"Mean:\", desc_stats.mean)\n",
        "print(\"Variance:\", desc_stats.var)\n",
        "print(\"Standard Deviation:\", desc_stats.std)\n",
        "print(\"Confidence Interval of Mean:\", desc_stats.tconfint_mean())\n"
      ],
      "metadata": {
        "id": "jVCe3nfRDpGT",
        "colab": {
          "base_uri": "https://localhost:8080/"
        },
        "outputId": "5ae6a3e1-97e2-4a23-8445-e999ed117256"
      },
      "execution_count": null,
      "outputs": [
        {
          "output_type": "stream",
          "name": "stdout",
          "text": [
            "Mean: 34.56725140449438\n",
            "Variance: 2798.564374399297\n",
            "Standard Deviation: 52.90145909518278\n",
            "Confidence Interval of Mean: (np.float64(30.672131180609455), np.float64(38.4623716283793))\n"
          ]
        }
      ]
    },
    {
      "cell_type": "code",
      "source": [
        "data_pair_plot = data_con[['survived', 'age', 'fare', 'class']]\n",
        "\n",
        "# Create a pair plot\n",
        "sns.pairplot(data_pair_plot, hue='survived', diag_kind='kde', kind='scatter', palette='viridis')\n",
        "plt.suptitle('Pair Plot of Variables', y=1.02)  # Adjust title and its position\n",
        "plt.show()"
      ],
      "metadata": {
        "id": "FPyfcHgTDpJv",
        "colab": {
          "base_uri": "https://localhost:8080/",
          "height": 535
        },
        "outputId": "3975b1c4-65b1-4187-a19f-9126b67e714a"
      },
      "execution_count": null,
      "outputs": [
        {
          "output_type": "display_data",
          "data": {
            "text/plain": [
              "<Figure size 570.486x500 with 6 Axes>"
            ],
            "image/png": "[encoded data removed]"
          },
          "metadata": {}
        }
      ]
    },
    {
      "cell_type": "code",
      "source": [
        "plt.figure(figsize=(10, 6))\n",
        "ax = sns.boxplot(x='sex', y='age', hue='survived', data=data_con, palette='coolwarm')\n",
        "sns.pointplot(x='sex', y='age', hue='survived', data=data_con, dodge=True, join=False, markers='D', capsize=0.1, estimator=np.mean)\n",
        "\n",
        "# Add enhancements\n",
        "plt.title('Gender Boxplot by Age')\n",
        "plt.xlabel('Gender')\n",
        "plt.ylabel('Age')\n",
        "plt.legend(title='Survived')\n",
        "plt.grid(True)\n",
        "plt.show()"
      ],
      "metadata": {
        "id": "g6H3cdeiFy8R",
        "colab": {
          "base_uri": "https://localhost:8080/",
          "height": 651
        },
        "outputId": "c3bf5d1b-3e41-4d88-f498-a72c7cc1b8ef"
      },
      "execution_count": null,
      "outputs": [
        {
          "output_type": "stream",
          "name": "stderr",
          "text": [
            "<ipython-input-53-522c7bb1c45a>:3: UserWarning: \n",
            "\n",
            "The `join` parameter is deprecated and will be removed in v0.15.0. You can remove the line between points with `linestyle='none'`.\n",
            "\n",
            "  sns.pointplot(x='sex', y='age', hue='survived', data=data_con, dodge=True, join=False, markers='D', capsize=0.1, estimator=np.mean)\n"
          ]
        },
        {
          "output_type": "display_data",
          "data": {
            "text/plain": [
              "<Figure size 1000x600 with 1 Axes>"
            ],
            "image/png": "[encoded data removed]"
          },
          "metadata": {}
        }
      ]
    },
    {
      "cell_type": "code",
      "source": [
        "# Create a box plot with mean points\n",
        "plt.figure(figsize=(10, 6))\n",
        "ax = sns.boxplot(x='class', y='fare', hue='survived', data=data_con, palette='Set2')\n",
        "sns.pointplot(x='class', y='fare', hue='survived', data=data_con, dodge=True, join=False,  markers='o', capsize=0.1, estimator=np.mean)\n",
        "\n",
        "# Add enhancements\n",
        "plt.title('Class vs Fare Boxplot')\n",
        "plt.xlabel('Class')\n",
        "plt.ylabel('Fare')\n",
        "plt.legend(title='Survived')\n",
        "plt.grid(True)\n",
        "plt.show()\n"
      ],
      "metadata": {
        "id": "eMgmtH0oFy_A",
        "colab": {
          "base_uri": "https://localhost:8080/",
          "height": 651
        },
        "outputId": "06393197-261e-419b-a0e1-8c6a34648937"
      },
      "execution_count": null,
      "outputs": [
        {
          "output_type": "stream",
          "name": "stderr",
          "text": [
            "<ipython-input-54-9dd3236fb4f7>:4: UserWarning: \n",
            "\n",
            "The `join` parameter is deprecated and will be removed in v0.15.0. You can remove the line between points with `linestyle='none'`.\n",
            "\n",
            "  sns.pointplot(x='class', y='fare', hue='survived', data=data_con, dodge=True, join=False,  markers='o', capsize=0.1, estimator=np.mean)\n"
          ]
        },
        {
          "output_type": "display_data",
          "data": {
            "text/plain": [
              "<Figure size 1000x600 with 1 Axes>"
            ],
            "image/png": "[encoded data removed]"
          },
          "metadata": {}
        }
      ]
    },
    {
      "cell_type": "code",
      "source": [],
      "metadata": {
        "id": "5CK6-SuMFzD7"
      },
      "execution_count": null,
      "outputs": []
    },
    {
      "cell_type": "markdown",
      "metadata": {
        "id": "gN0UJs4PSjcY"
      },
      "source": [
        "Continuous variable as factor"
      ]
    },
    {
      "cell_type": "code",
      "source": [
        "data_con_fac = data_con.copy()\n",
        "\n",
        "# Categorize 'age' using pandas.cut\n",
        "data_con_fac['age'] = pd.cut(data_con['age'],\n",
        "                             bins=[-float('inf'), 15, 50, float('inf')],\n",
        "                             labels=['child', 'adult', 'senior'])\n",
        "data_con_fac['survived'] = data_con_fac['survived'].astype(int)\n"
      ],
      "metadata": {
        "id": "TlNVKnkDHe1N"
      },
      "execution_count": null,
      "outputs": []
    },
    {
      "cell_type": "code",
      "source": [
        "mod_0 = smf.glm(formula='survived ~ 1', data=data_con_fac,\n",
        "                family=sm.families.Binomial()).fit()\n",
        "print(\"Baseline Model Summary:\")\n",
        "print(mod_0.summary())"
      ],
      "metadata": {
        "id": "vIh-aC3pHe4E",
        "colab": {
          "base_uri": "https://localhost:8080/"
        },
        "outputId": "4c7f9393-81d5-407f-8c59-6bb274e52d65"
      },
      "execution_count": null,
      "outputs": [
        {
          "output_type": "stream",
          "name": "stdout",
          "text": [
            "Baseline Model Summary:\n",
            "                 Generalized Linear Model Regression Results                  \n",
            "==============================================================================\n",
            "Dep. Variable:               survived   No. Observations:                  712\n",
            "Model:                            GLM   Df Residuals:                      711\n",
            "Model Family:                Binomial   Df Model:                            0\n",
            "Link Function:                  Logit   Scale:                          1.0000\n",
            "Method:                          IRLS   Log-Likelihood:                -480.45\n",
            "Date:                Tue, 22 Apr 2025   Deviance:                       960.90\n",
            "Time:                        17:23:23   Pearson chi2:                     712.\n",
            "No. Iterations:                     4   Pseudo R-squ. (CS):         -2.220e-16\n",
            "Covariance Type:            nonrobust                                         \n",
            "==============================================================================\n",
            "                 coef    std err          z      P>|z|      [0.025      0.975]\n",
            "------------------------------------------------------------------------------\n",
            "Intercept     -0.3868      0.076     -5.065      0.000      -0.536      -0.237\n",
            "==============================================================================\n"
          ]
        }
      ]
    },
    {
      "cell_type": "code",
      "source": [
        "mod_age_fac = smf.glm(formula='survived ~ age', data=data_con_fac,\n",
        "                      family=sm.families.Binomial()).fit()\n",
        "print(\"Model with Age Factor Summary:\")\n",
        "print(mod_age_fac.summary())"
      ],
      "metadata": {
        "id": "tHcBdb6dHe7U",
        "colab": {
          "base_uri": "https://localhost:8080/"
        },
        "outputId": "90be19b9-eb33-4fbc-bebe-4098d2a05321"
      },
      "execution_count": null,
      "outputs": [
        {
          "output_type": "stream",
          "name": "stdout",
          "text": [
            "Model with Age Factor Summary:\n",
            "                 Generalized Linear Model Regression Results                  \n",
            "==============================================================================\n",
            "Dep. Variable:               survived   No. Observations:                  712\n",
            "Model:                            GLM   Df Residuals:                      709\n",
            "Model Family:                Binomial   Df Model:                            2\n",
            "Link Function:                  Logit   Scale:                          1.0000\n",
            "Method:                          IRLS   Log-Likelihood:                -473.53\n",
            "Date:                Tue, 22 Apr 2025   Deviance:                       947.05\n",
            "Time:                        17:23:23   Pearson chi2:                     712.\n",
            "No. Iterations:                     4   Pseudo R-squ. (CS):            0.01927\n",
            "Covariance Type:            nonrobust                                         \n",
            "=================================================================================\n",
            "                    coef    std err          z      P>|z|      [0.025      0.975]\n",
            "---------------------------------------------------------------------------------\n",
            "Intercept         0.3655      0.223      1.637      0.102      -0.072       0.803\n",
            "age[T.adult]     -0.8332      0.239     -3.481      0.000      -1.302      -0.364\n",
            "age[T.senior]    -1.0586      0.348     -3.040      0.002      -1.741      -0.376\n",
            "=================================================================================\n"
          ]
        }
      ]
    },
    {
      "cell_type": "code",
      "metadata": {
        "id": "hyHUUA3iIzqy",
        "colab": {
          "base_uri": "https://localhost:8080/"
        },
        "outputId": "16ac1075-8715-4a64-f809-12f24a57f2bf"
      },
      "source": [
        "# Calculate the exponentiated coefficients for odds ratios\n",
        "odds_ratios = np.exp(mod_age_fac.params)\n",
        "print(\"Odds Ratios:\")\n",
        "print(odds_ratios)"
      ],
      "execution_count": null,
      "outputs": [
        {
          "output_type": "stream",
          "name": "stdout",
          "text": [
            "Odds Ratios:\n",
            "Intercept        1.441176\n",
            "age[T.adult]     0.434670\n",
            "age[T.senior]    0.346939\n",
            "dtype: float64\n"
          ]
        }
      ]
    },
    {
      "cell_type": "markdown",
      "metadata": {
        "id": "mD47uutFW7fq"
      },
      "source": [
        "Is the chance decreasing with increasing age?"
      ]
    },
    {
      "cell_type": "code",
      "metadata": {
        "id": "glFlpkE7WY5E",
        "colab": {
          "base_uri": "https://localhost:8080/",
          "height": 112
        },
        "outputId": "34a04c26-8cdf-4a11-a28f-265f40f2fcf1"
      },
      "source": [
        "anova(mod_age_fac,mod_0,test=\"Chisq\")"
      ],
      "execution_count": null,
      "outputs": [
        {
          "output_type": "execute_result",
          "data": {
            "text/plain": [
              "   resid_df  resid_deviance   df   deviance       chi2     p_val\n",
              "0       709      947.053144  NaN        NaN        NaN       NaN\n",
              "1       711      960.903739 -2.0 -13.850595  13.850595  0.000983"
            ],
            "text/html": [
              "\n",
              "  <div id=\"df-0b8ee369-e83a-414f-b5b3-aeee597e01bf\" class=\"colab-df-container\">\n",
              "    <div>\n",
              "<style scoped>\n",
              "    .dataframe tbody tr th:only-of-type {\n",
              "        vertical-align: middle;\n",
              "    }\n",
              "\n",
              "    .dataframe tbody tr th {\n",
              "        vertical-align: top;\n",
              "    }\n",
              "\n",
              "    .dataframe thead th {\n",
              "        text-align: right;\n",
              "    }\n",
              "</style>\n",
              "<table border=\"1\" class=\"dataframe\">\n",
              "  <thead>\n",
              "    <tr style=\"text-align: right;\">\n",
              "      <th></th>\n",
              "      <th>resid_df</th>\n",
              "      <th>resid_deviance</th>\n",
              "      <th>df</th>\n",
              "      <th>deviance</th>\n",
              "      <th>chi2</th>\n",
              "      <th>p_val</th>\n",
              "    </tr>\n",
              "  </thead>\n",
              "  <tbody>\n",
              "    <tr>\n",
              "      <th>0</th>\n",
              "      <td>709</td>\n",
              "      <td>947.053144</td>\n",
              "      <td>NaN</td>\n",
              "      <td>NaN</td>\n",
              "      <td>NaN</td>\n",
              "      <td>NaN</td>\n",
              "    </tr>\n",
              "    <tr>\n",
              "      <th>1</th>\n",
              "      <td>711</td>\n",
              "      <td>960.903739</td>\n",
              "      <td>-2.0</td>\n",
              "      <td>-13.850595</td>\n",
              "      <td>13.850595</td>\n",
              "      <td>0.000983</td>\n",
              "    </tr>\n",
              "  </tbody>\n",
              "</table>\n",
              "</div>\n",
              "    <div class=\"colab-df-buttons\">\n",
              "\n",
              "  <div class=\"colab-df-container\">\n",
              "    <button class=\"colab-df-convert\" onclick=\"convertToInteractive('df-0b8ee369-e83a-414f-b5b3-aeee597e01bf')\"\n",
              "            title=\"Convert this dataframe to an interactive table.\"\n",
              "            style=\"display:none;\">\n",
              "\n",
              "  <svg xmlns=\"http://www.w3.org/2000/svg\" height=\"24px\" viewBox=\"0 -960 960 960\">\n",
              "    <path d=\"M120-120v-720h720v720H120Zm60-500h600v-160H180v160Zm220 220h160v-160H400v160Zm0 220h160v-160H400v160ZM180-400h160v-160H180v160Zm440 0h160v-160H620v160ZM180-180h160v-160H180v160Zm440 0h160v-160H620v160Z\"/>\n",
              "  </svg>\n",
              "    </button>\n",
              "\n",
              "  <style>\n",
              "    .colab-df-container {\n",
              "      display:flex;\n",
              "      gap: 12px;\n",
              "    }\n",
              "\n",
              "    .colab-df-convert {\n",
              "      background-color: #E8F0FE;\n",
              "      border: none;\n",
              "      border-radius: 50%;\n",
              "      cursor: pointer;\n",
              "      display: none;\n",
              "      fill: #1967D2;\n",
              "      height: 32px;\n",
              "      padding: 0 0 0 0;\n",
              "      width: 32px;\n",
              "    }\n",
              "\n",
              "    .colab-df-convert:hover {\n",
              "      background-color: #E2EBFA;\n",
              "      box-shadow: 0px 1px 2px rgba(60, 64, 67, 0.3), 0px 1px 3px 1px rgba(60, 64, 67, 0.15);\n",
              "      fill: #174EA6;\n",
              "    }\n",
              "\n",
              "    .colab-df-buttons div {\n",
              "      margin-bottom: 4px;\n",
              "    }\n",
              "\n",
              "    [theme=dark] .colab-df-convert {\n",
              "      background-color: #3B4455;\n",
              "      fill: #D2E3FC;\n",
              "    }\n",
              "\n",
              "    [theme=dark] .colab-df-convert:hover {\n",
              "      background-color: #434B5C;\n",
              "      box-shadow: 0px 1px 3px 1px rgba(0, 0, 0, 0.15);\n",
              "      filter: drop-shadow(0px 1px 2px rgba(0, 0, 0, 0.3));\n",
              "      fill: #FFFFFF;\n",
              "    }\n",
              "  </style>\n",
              "\n",
              "    <script>\n",
              "      const buttonEl =\n",
              "        document.querySelector('#df-0b8ee369-e83a-414f-b5b3-aeee597e01bf button.colab-df-convert');\n",
              "      buttonEl.style.display =\n",
              "        google.colab.kernel.accessAllowed ? 'block' : 'none';\n",
              "\n",
              "      async function convertToInteractive(key) {\n",
              "        const element = document.querySelector('#df-0b8ee369-e83a-414f-b5b3-aeee597e01bf');\n",
              "        const dataTable =\n",
              "          await google.colab.kernel.invokeFunction('convertToInteractive',\n",
              "                                                    [key], {});\n",
              "        if (!dataTable) return;\n",
              "\n",
              "        const docLinkHtml = 'Like what you see? Visit the ' +\n",
              "          '<a target=\"_blank\" href=https://colab.research.google.com/notebooks/data_table.ipynb>data table notebook</a>'\n",
              "          + ' to learn more about interactive tables.';\n",
              "        element.innerHTML = '';\n",
              "        dataTable['output_type'] = 'display_data';\n",
              "        await google.colab.output.renderOutput(dataTable, element);\n",
              "        const docLink = document.createElement('div');\n",
              "        docLink.innerHTML = docLinkHtml;\n",
              "        element.appendChild(docLink);\n",
              "      }\n",
              "    </script>\n",
              "  </div>\n",
              "\n",
              "\n",
              "<div id=\"df-5b157fe9-f9d6-4ac4-93e8-fe4104e5f782\">\n",
              "  <button class=\"colab-df-quickchart\" onclick=\"quickchart('df-5b157fe9-f9d6-4ac4-93e8-fe4104e5f782')\"\n",
              "            title=\"Suggest charts\"\n",
              "            style=\"display:none;\">\n",
              "\n",
              "<svg xmlns=\"http://www.w3.org/2000/svg\" height=\"24px\"viewBox=\"0 0 24 24\"\n",
              "     width=\"24px\">\n",
              "    <g>\n",
              "        <path d=\"M19 3H5c-1.1 0-2 .9-2 2v14c0 1.1.9 2 2 2h14c1.1 0 2-.9 2-2V5c0-1.1-.9-2-2-2zM9 17H7v-7h2v7zm4 0h-2V7h2v10zm4 0h-2v-4h2v4z\"/>\n",
              "    </g>\n",
              "</svg>\n",
              "  </button>\n",
              "\n",
              "<style>\n",
              "  .colab-df-quickchart {\n",
              "      --bg-color: #E8F0FE;\n",
              "      --fill-color: #1967D2;\n",
              "      --hover-bg-color: #E2EBFA;\n",
              "      --hover-fill-color: #174EA6;\n",
              "      --disabled-fill-color: #AAA;\n",
              "      --disabled-bg-color: #DDD;\n",
              "  }\n",
              "\n",
              "  [theme=dark] .colab-df-quickchart {\n",
              "      --bg-color: #3B4455;\n",
              "      --fill-color: #D2E3FC;\n",
              "      --hover-bg-color: #434B5C;\n",
              "      --hover-fill-color: #FFFFFF;\n",
              "      --disabled-bg-color: #3B4455;\n",
              "      --disabled-fill-color: #666;\n",
              "  }\n",
              "\n",
              "  .colab-df-quickchart {\n",
              "    background-color: var(--bg-color);\n",
              "    border: none;\n",
              "    border-radius: 50%;\n",
              "    cursor: pointer;\n",
              "    display: none;\n",
              "    fill: var(--fill-color);\n",
              "    height: 32px;\n",
              "    padding: 0;\n",
              "    width: 32px;\n",
              "  }\n",
              "\n",
              "  .colab-df-quickchart:hover {\n",
              "    background-color: var(--hover-bg-color);\n",
              "    box-shadow: 0 1px 2px rgba(60, 64, 67, 0.3), 0 1px 3px 1px rgba(60, 64, 67, 0.15);\n",
              "    fill: var(--button-hover-fill-color);\n",
              "  }\n",
              "\n",
              "  .colab-df-quickchart-complete:disabled,\n",
              "  .colab-df-quickchart-complete:disabled:hover {\n",
              "    background-color: var(--disabled-bg-color);\n",
              "    fill: var(--disabled-fill-color);\n",
              "    box-shadow: none;\n",
              "  }\n",
              "\n",
              "  .colab-df-spinner {\n",
              "    border: 2px solid var(--fill-color);\n",
              "    border-color: transparent;\n",
              "    border-bottom-color: var(--fill-color);\n",
              "    animation:\n",
              "      spin 1s steps(1) infinite;\n",
              "  }\n",
              "\n",
              "  @keyframes spin {\n",
              "    0% {\n",
              "      border-color: transparent;\n",
              "      border-bottom-color: var(--fill-color);\n",
              "      border-left-color: var(--fill-color);\n",
              "    }\n",
              "    20% {\n",
              "      border-color: transparent;\n",
              "      border-left-color: var(--fill-color);\n",
              "      border-top-color: var(--fill-color);\n",
              "    }\n",
              "    30% {\n",
              "      border-color: transparent;\n",
              "      border-left-color: var(--fill-color);\n",
              "      border-top-color: var(--fill-color);\n",
              "      border-right-color: var(--fill-color);\n",
              "    }\n",
              "    40% {\n",
              "      border-color: transparent;\n",
              "      border-right-color: var(--fill-color);\n",
              "      border-top-color: var(--fill-color);\n",
              "    }\n",
              "    60% {\n",
              "      border-color: transparent;\n",
              "      border-right-color: var(--fill-color);\n",
              "    }\n",
              "    80% {\n",
              "      border-color: transparent;\n",
              "      border-right-color: var(--fill-color);\n",
              "      border-bottom-color: var(--fill-color);\n",
              "    }\n",
              "    90% {\n",
              "      border-color: transparent;\n",
              "      border-bottom-color: var(--fill-color);\n",
              "    }\n",
              "  }\n",
              "</style>\n",
              "\n",
              "  <script>\n",
              "    async function quickchart(key) {\n",
              "      const quickchartButtonEl =\n",
              "        document.querySelector('#' + key + ' button');\n",
              "      quickchartButtonEl.disabled = true;  // To prevent multiple clicks.\n",
              "      quickchartButtonEl.classList.add('colab-df-spinner');\n",
              "      try {\n",
              "        const charts = await google.colab.kernel.invokeFunction(\n",
              "            'suggestCharts', [key], {});\n",
              "      } catch (error) {\n",
              "        console.error('Error during call to suggestCharts:', error);\n",
              "      }\n",
              "      quickchartButtonEl.classList.remove('colab-df-spinner');\n",
              "      quickchartButtonEl.classList.add('colab-df-quickchart-complete');\n",
              "    }\n",
              "    (() => {\n",
              "      let quickchartButtonEl =\n",
              "        document.querySelector('#df-5b157fe9-f9d6-4ac4-93e8-fe4104e5f782 button');\n",
              "      quickchartButtonEl.style.display =\n",
              "        google.colab.kernel.accessAllowed ? 'block' : 'none';\n",
              "    })();\n",
              "  </script>\n",
              "</div>\n",
              "\n",
              "    </div>\n",
              "  </div>\n"
            ],
            "application/vnd.google.colaboratory.intrinsic+json": {
              "type": "dataframe",
              "summary": "{\n  \"name\": \"anova(mod_age_fac,mod_0,test=\\\"Chisq\\\")\",\n  \"rows\": 2,\n  \"fields\": [\n    {\n      \"column\": \"resid_df\",\n      \"properties\": {\n        \"dtype\": \"number\",\n        \"std\": 1,\n        \"min\": 709,\n        \"max\": 711,\n        \"num_unique_values\": 2,\n        \"samples\": [\n          711,\n          709\n        ],\n        \"semantic_type\": \"\",\n        \"description\": \"\"\n      }\n    },\n    {\n      \"column\": \"resid_deviance\",\n      \"properties\": {\n        \"dtype\": \"number\",\n        \"std\": 9.793849519332285,\n        \"min\": 947.0531444375677,\n        \"max\": 960.9037392556486,\n        \"num_unique_values\": 2,\n        \"samples\": [\n          960.9037392556486,\n          947.0531444375677\n        ],\n        \"semantic_type\": \"\",\n        \"description\": \"\"\n      }\n    },\n    {\n      \"column\": \"df\",\n      \"properties\": {\n        \"dtype\": \"number\",\n        \"std\": null,\n        \"min\": -2.0,\n        \"max\": -2.0,\n        \"num_unique_values\": 1,\n        \"samples\": [\n          -2.0\n        ],\n        \"semantic_type\": \"\",\n        \"description\": \"\"\n      }\n    },\n    {\n      \"column\": \"deviance\",\n      \"properties\": {\n        \"dtype\": \"number\",\n        \"std\": null,\n        \"min\": -13.850594818080936,\n        \"max\": -13.850594818080936,\n        \"num_unique_values\": 1,\n        \"samples\": [\n          -13.850594818080936\n        ],\n        \"semantic_type\": \"\",\n        \"description\": \"\"\n      }\n    },\n    {\n      \"column\": \"chi2\",\n      \"properties\": {\n        \"dtype\": \"number\",\n        \"std\": null,\n        \"min\": 13.850594818080936,\n        \"max\": 13.850594818080936,\n        \"num_unique_values\": 1,\n        \"samples\": [\n          13.850594818080936\n        ],\n        \"semantic_type\": \"\",\n        \"description\": \"\"\n      }\n    },\n    {\n      \"column\": \"p_val\",\n      \"properties\": {\n        \"dtype\": \"number\",\n        \"std\": null,\n        \"min\": 0.000982610837341129,\n        \"max\": 0.000982610837341129,\n        \"num_unique_values\": 1,\n        \"samples\": [\n          0.000982610837341129\n        ],\n        \"semantic_type\": \"\",\n        \"description\": \"\"\n      }\n    }\n  ]\n}"
            }
          },
          "metadata": {},
          "execution_count": 59
        }
      ]
    },
    {
      "cell_type": "markdown",
      "source": [
        "Age as continuous variable"
      ],
      "metadata": {
        "id": "nL0nkMpXI0PP"
      }
    },
    {
      "cell_type": "code",
      "source": [
        "data_con_fac['survived'] = data_con_fac['survived'].astype(int)\n",
        "\n",
        "mod_age = smf.glm(formula='survived ~ I(age / 10)', data=data_con,\n",
        "                  family=sm.families.Binomial()).fit()\n",
        "print(\"Model Summary with Age Scaled by Decades:\")\n",
        "print(mod_age.summary())\n",
        "\n",
        "odds_ratios = np.exp(mod_age.params)\n",
        "print(\"Odds Ratios for Age Increase by Decade:\")\n",
        "print(odds_ratios)"
      ],
      "metadata": {
        "id": "KVKGvQeUIxUE",
        "colab": {
          "base_uri": "https://localhost:8080/"
        },
        "outputId": "b2c1ff1b-a3b5-46df-da74-bdbd162f971a"
      },
      "execution_count": null,
      "outputs": [
        {
          "output_type": "stream",
          "name": "stdout",
          "text": [
            "Model Summary with Age Scaled by Decades:\n",
            "                       Generalized Linear Model Regression Results                        \n",
            "==========================================================================================\n",
            "Dep. Variable:     ['survived[0]', 'survived[1]']   No. Observations:                  712\n",
            "Model:                                        GLM   Df Residuals:                      710\n",
            "Model Family:                            Binomial   Df Model:                            1\n",
            "Link Function:                              Logit   Scale:                          1.0000\n",
            "Method:                                      IRLS   Log-Likelihood:                -478.01\n",
            "Date:                            Tue, 22 Apr 2025   Deviance:                       956.03\n",
            "Time:                                    17:23:23   Pearson chi2:                     712.\n",
            "No. Iterations:                                 4   Pseudo R-squ. (CS):           0.006827\n",
            "Covariance Type:                        nonrobust                                         \n",
            "===============================================================================\n",
            "                  coef    std err          z      P>|z|      [0.025      0.975]\n",
            "-------------------------------------------------------------------------------\n",
            "Intercept       0.0412      0.174      0.237      0.813      -0.300       0.382\n",
            "I(age / 10)     0.1176      0.054      2.192      0.028       0.012       0.223\n",
            "===============================================================================\n",
            "Odds Ratios for Age Increase by Decade:\n",
            "Intercept      1.042028\n",
            "I(age / 10)    1.124756\n",
            "dtype: float64\n"
          ]
        }
      ]
    },
    {
      "cell_type": "markdown",
      "metadata": {
        "id": "fL0gYJp4YNbG"
      },
      "source": [
        "Question:\n",
        "\n",
        "* With increasing age by 10 years, chance to survive decreased by 11 %.\n",
        "\n",
        "* What do you think about causality in this result?"
      ]
    },
    {
      "cell_type": "code",
      "metadata": {
        "id": "I-xGC5yNIzwd",
        "colab": {
          "base_uri": "https://localhost:8080/",
          "height": 112
        },
        "outputId": "996fc648-a768-43e8-eb6e-090aac6a2a23"
      },
      "source": [
        "anova(mod_age,mod_0,test=\"Chisq\")"
      ],
      "execution_count": null,
      "outputs": [
        {
          "output_type": "execute_result",
          "data": {
            "text/plain": [
              "   resid_df  resid_deviance   df  deviance      chi2     p_val\n",
              "0       710      956.026205  NaN       NaN       NaN       NaN\n",
              "1       711      960.903739 -1.0 -4.877534  4.877534  0.027208"
            ],
            "text/html": [
              "\n",
              "  <div id=\"df-88a150a7-b991-4719-ad34-73f0f1533555\" class=\"colab-df-container\">\n",
              "    <div>\n",
              "<style scoped>\n",
              "    .dataframe tbody tr th:only-of-type {\n",
              "        vertical-align: middle;\n",
              "    }\n",
              "\n",
              "    .dataframe tbody tr th {\n",
              "        vertical-align: top;\n",
              "    }\n",
              "\n",
              "    .dataframe thead th {\n",
              "        text-align: right;\n",
              "    }\n",
              "</style>\n",
              "<table border=\"1\" class=\"dataframe\">\n",
              "  <thead>\n",
              "    <tr style=\"text-align: right;\">\n",
              "      <th></th>\n",
              "      <th>resid_df</th>\n",
              "      <th>resid_deviance</th>\n",
              "      <th>df</th>\n",
              "      <th>deviance</th>\n",
              "      <th>chi2</th>\n",
              "      <th>p_val</th>\n",
              "    </tr>\n",
              "  </thead>\n",
              "  <tbody>\n",
              "    <tr>\n",
              "      <th>0</th>\n",
              "      <td>710</td>\n",
              "      <td>956.026205</td>\n",
              "      <td>NaN</td>\n",
              "      <td>NaN</td>\n",
              "      <td>NaN</td>\n",
              "      <td>NaN</td>\n",
              "    </tr>\n",
              "    <tr>\n",
              "      <th>1</th>\n",
              "      <td>711</td>\n",
              "      <td>960.903739</td>\n",
              "      <td>-1.0</td>\n",
              "      <td>-4.877534</td>\n",
              "      <td>4.877534</td>\n",
              "      <td>0.027208</td>\n",
              "    </tr>\n",
              "  </tbody>\n",
              "</table>\n",
              "</div>\n",
              "    <div class=\"colab-df-buttons\">\n",
              "\n",
              "  <div class=\"colab-df-container\">\n",
              "    <button class=\"colab-df-convert\" onclick=\"convertToInteractive('df-88a150a7-b991-4719-ad34-73f0f1533555')\"\n",
              "            title=\"Convert this dataframe to an interactive table.\"\n",
              "            style=\"display:none;\">\n",
              "\n",
              "  <svg xmlns=\"http://www.w3.org/2000/svg\" height=\"24px\" viewBox=\"0 -960 960 960\">\n",
              "    <path d=\"M120-120v-720h720v720H120Zm60-500h600v-160H180v160Zm220 220h160v-160H400v160Zm0 220h160v-160H400v160ZM180-400h160v-160H180v160Zm440 0h160v-160H620v160ZM180-180h160v-160H180v160Zm440 0h160v-160H620v160Z\"/>\n",
              "  </svg>\n",
              "    </button>\n",
              "\n",
              "  <style>\n",
              "    .colab-df-container {\n",
              "      display:flex;\n",
              "      gap: 12px;\n",
              "    }\n",
              "\n",
              "    .colab-df-convert {\n",
              "      background-color: #E8F0FE;\n",
              "      border: none;\n",
              "      border-radius: 50%;\n",
              "      cursor: pointer;\n",
              "      display: none;\n",
              "      fill: #1967D2;\n",
              "      height: 32px;\n",
              "      padding: 0 0 0 0;\n",
              "      width: 32px;\n",
              "    }\n",
              "\n",
              "    .colab-df-convert:hover {\n",
              "      background-color: #E2EBFA;\n",
              "      box-shadow: 0px 1px 2px rgba(60, 64, 67, 0.3), 0px 1px 3px 1px rgba(60, 64, 67, 0.15);\n",
              "      fill: #174EA6;\n",
              "    }\n",
              "\n",
              "    .colab-df-buttons div {\n",
              "      margin-bottom: 4px;\n",
              "    }\n",
              "\n",
              "    [theme=dark] .colab-df-convert {\n",
              "      background-color: #3B4455;\n",
              "      fill: #D2E3FC;\n",
              "    }\n",
              "\n",
              "    [theme=dark] .colab-df-convert:hover {\n",
              "      background-color: #434B5C;\n",
              "      box-shadow: 0px 1px 3px 1px rgba(0, 0, 0, 0.15);\n",
              "      filter: drop-shadow(0px 1px 2px rgba(0, 0, 0, 0.3));\n",
              "      fill: #FFFFFF;\n",
              "    }\n",
              "  </style>\n",
              "\n",
              "    <script>\n",
              "      const buttonEl =\n",
              "        document.querySelector('#df-88a150a7-b991-4719-ad34-73f0f1533555 button.colab-df-convert');\n",
              "      buttonEl.style.display =\n",
              "        google.colab.kernel.accessAllowed ? 'block' : 'none';\n",
              "\n",
              "      async function convertToInteractive(key) {\n",
              "        const element = document.querySelector('#df-88a150a7-b991-4719-ad34-73f0f1533555');\n",
              "        const dataTable =\n",
              "          await google.colab.kernel.invokeFunction('convertToInteractive',\n",
              "                                                    [key], {});\n",
              "        if (!dataTable) return;\n",
              "\n",
              "        const docLinkHtml = 'Like what you see? Visit the ' +\n",
              "          '<a target=\"_blank\" href=https://colab.research.google.com/notebooks/data_table.ipynb>data table notebook</a>'\n",
              "          + ' to learn more about interactive tables.';\n",
              "        element.innerHTML = '';\n",
              "        dataTable['output_type'] = 'display_data';\n",
              "        await google.colab.output.renderOutput(dataTable, element);\n",
              "        const docLink = document.createElement('div');\n",
              "        docLink.innerHTML = docLinkHtml;\n",
              "        element.appendChild(docLink);\n",
              "      }\n",
              "    </script>\n",
              "  </div>\n",
              "\n",
              "\n",
              "<div id=\"df-b5541569-1d52-4fa7-9ae5-35e7d6523dbd\">\n",
              "  <button class=\"colab-df-quickchart\" onclick=\"quickchart('df-b5541569-1d52-4fa7-9ae5-35e7d6523dbd')\"\n",
              "            title=\"Suggest charts\"\n",
              "            style=\"display:none;\">\n",
              "\n",
              "<svg xmlns=\"http://www.w3.org/2000/svg\" height=\"24px\"viewBox=\"0 0 24 24\"\n",
              "     width=\"24px\">\n",
              "    <g>\n",
              "        <path d=\"M19 3H5c-1.1 0-2 .9-2 2v14c0 1.1.9 2 2 2h14c1.1 0 2-.9 2-2V5c0-1.1-.9-2-2-2zM9 17H7v-7h2v7zm4 0h-2V7h2v10zm4 0h-2v-4h2v4z\"/>\n",
              "    </g>\n",
              "</svg>\n",
              "  </button>\n",
              "\n",
              "<style>\n",
              "  .colab-df-quickchart {\n",
              "      --bg-color: #E8F0FE;\n",
              "      --fill-color: #1967D2;\n",
              "      --hover-bg-color: #E2EBFA;\n",
              "      --hover-fill-color: #174EA6;\n",
              "      --disabled-fill-color: #AAA;\n",
              "      --disabled-bg-color: #DDD;\n",
              "  }\n",
              "\n",
              "  [theme=dark] .colab-df-quickchart {\n",
              "      --bg-color: #3B4455;\n",
              "      --fill-color: #D2E3FC;\n",
              "      --hover-bg-color: #434B5C;\n",
              "      --hover-fill-color: #FFFFFF;\n",
              "      --disabled-bg-color: #3B4455;\n",
              "      --disabled-fill-color: #666;\n",
              "  }\n",
              "\n",
              "  .colab-df-quickchart {\n",
              "    background-color: var(--bg-color);\n",
              "    border: none;\n",
              "    border-radius: 50%;\n",
              "    cursor: pointer;\n",
              "    display: none;\n",
              "    fill: var(--fill-color);\n",
              "    height: 32px;\n",
              "    padding: 0;\n",
              "    width: 32px;\n",
              "  }\n",
              "\n",
              "  .colab-df-quickchart:hover {\n",
              "    background-color: var(--hover-bg-color);\n",
              "    box-shadow: 0 1px 2px rgba(60, 64, 67, 0.3), 0 1px 3px 1px rgba(60, 64, 67, 0.15);\n",
              "    fill: var(--button-hover-fill-color);\n",
              "  }\n",
              "\n",
              "  .colab-df-quickchart-complete:disabled,\n",
              "  .colab-df-quickchart-complete:disabled:hover {\n",
              "    background-color: var(--disabled-bg-color);\n",
              "    fill: var(--disabled-fill-color);\n",
              "    box-shadow: none;\n",
              "  }\n",
              "\n",
              "  .colab-df-spinner {\n",
              "    border: 2px solid var(--fill-color);\n",
              "    border-color: transparent;\n",
              "    border-bottom-color: var(--fill-color);\n",
              "    animation:\n",
              "      spin 1s steps(1) infinite;\n",
              "  }\n",
              "\n",
              "  @keyframes spin {\n",
              "    0% {\n",
              "      border-color: transparent;\n",
              "      border-bottom-color: var(--fill-color);\n",
              "      border-left-color: var(--fill-color);\n",
              "    }\n",
              "    20% {\n",
              "      border-color: transparent;\n",
              "      border-left-color: var(--fill-color);\n",
              "      border-top-color: var(--fill-color);\n",
              "    }\n",
              "    30% {\n",
              "      border-color: transparent;\n",
              "      border-left-color: var(--fill-color);\n",
              "      border-top-color: var(--fill-color);\n",
              "      border-right-color: var(--fill-color);\n",
              "    }\n",
              "    40% {\n",
              "      border-color: transparent;\n",
              "      border-right-color: var(--fill-color);\n",
              "      border-top-color: var(--fill-color);\n",
              "    }\n",
              "    60% {\n",
              "      border-color: transparent;\n",
              "      border-right-color: var(--fill-color);\n",
              "    }\n",
              "    80% {\n",
              "      border-color: transparent;\n",
              "      border-right-color: var(--fill-color);\n",
              "      border-bottom-color: var(--fill-color);\n",
              "    }\n",
              "    90% {\n",
              "      border-color: transparent;\n",
              "      border-bottom-color: var(--fill-color);\n",
              "    }\n",
              "  }\n",
              "</style>\n",
              "\n",
              "  <script>\n",
              "    async function quickchart(key) {\n",
              "      const quickchartButtonEl =\n",
              "        document.querySelector('#' + key + ' button');\n",
              "      quickchartButtonEl.disabled = true;  // To prevent multiple clicks.\n",
              "      quickchartButtonEl.classList.add('colab-df-spinner');\n",
              "      try {\n",
              "        const charts = await google.colab.kernel.invokeFunction(\n",
              "            'suggestCharts', [key], {});\n",
              "      } catch (error) {\n",
              "        console.error('Error during call to suggestCharts:', error);\n",
              "      }\n",
              "      quickchartButtonEl.classList.remove('colab-df-spinner');\n",
              "      quickchartButtonEl.classList.add('colab-df-quickchart-complete');\n",
              "    }\n",
              "    (() => {\n",
              "      let quickchartButtonEl =\n",
              "        document.querySelector('#df-b5541569-1d52-4fa7-9ae5-35e7d6523dbd button');\n",
              "      quickchartButtonEl.style.display =\n",
              "        google.colab.kernel.accessAllowed ? 'block' : 'none';\n",
              "    })();\n",
              "  </script>\n",
              "</div>\n",
              "\n",
              "    </div>\n",
              "  </div>\n"
            ],
            "application/vnd.google.colaboratory.intrinsic+json": {
              "type": "dataframe",
              "summary": "{\n  \"name\": \"anova(mod_age,mod_0,test=\\\"Chisq\\\")\",\n  \"rows\": 2,\n  \"fields\": [\n    {\n      \"column\": \"resid_df\",\n      \"properties\": {\n        \"dtype\": \"number\",\n        \"std\": 0,\n        \"min\": 710,\n        \"max\": 711,\n        \"num_unique_values\": 2,\n        \"samples\": [\n          711,\n          710\n        ],\n        \"semantic_type\": \"\",\n        \"description\": \"\"\n      }\n    },\n    {\n      \"column\": \"resid_deviance\",\n      \"properties\": {\n        \"dtype\": \"number\",\n        \"std\": 3.4489374675495075,\n        \"min\": 956.0262051132634,\n        \"max\": 960.9037392556486,\n        \"num_unique_values\": 2,\n        \"samples\": [\n          960.9037392556486,\n          956.0262051132634\n        ],\n        \"semantic_type\": \"\",\n        \"description\": \"\"\n      }\n    },\n    {\n      \"column\": \"df\",\n      \"properties\": {\n        \"dtype\": \"number\",\n        \"std\": null,\n        \"min\": -1.0,\n        \"max\": -1.0,\n        \"num_unique_values\": 1,\n        \"samples\": [\n          -1.0\n        ],\n        \"semantic_type\": \"\",\n        \"description\": \"\"\n      }\n    },\n    {\n      \"column\": \"deviance\",\n      \"properties\": {\n        \"dtype\": \"number\",\n        \"std\": null,\n        \"min\": -4.87753414238523,\n        \"max\": -4.87753414238523,\n        \"num_unique_values\": 1,\n        \"samples\": [\n          -4.87753414238523\n        ],\n        \"semantic_type\": \"\",\n        \"description\": \"\"\n      }\n    },\n    {\n      \"column\": \"chi2\",\n      \"properties\": {\n        \"dtype\": \"number\",\n        \"std\": null,\n        \"min\": 4.87753414238523,\n        \"max\": 4.87753414238523,\n        \"num_unique_values\": 1,\n        \"samples\": [\n          4.87753414238523\n        ],\n        \"semantic_type\": \"\",\n        \"description\": \"\"\n      }\n    },\n    {\n      \"column\": \"p_val\",\n      \"properties\": {\n        \"dtype\": \"number\",\n        \"std\": null,\n        \"min\": 0.02720846212116234,\n        \"max\": 0.02720846212116234,\n        \"num_unique_values\": 1,\n        \"samples\": [\n          0.02720846212116234\n        ],\n        \"semantic_type\": \"\",\n        \"description\": \"\"\n      }\n    }\n  ]\n}"
            }
          },
          "metadata": {},
          "execution_count": 61
        }
      ]
    },
    {
      "cell_type": "markdown",
      "metadata": {
        "id": "yGWlCERLZoxl"
      },
      "source": [
        "Question:\n",
        "\n",
        "* Can we compare by deviance test models `mod_age` and `mod_age_fac`?\n",
        "* Which model do you prefere and why?\n",
        "* For which approach (factorized or continuous) saturated model is useful and why?\n"
      ]
    },
    {
      "cell_type": "code",
      "metadata": {
        "id": "eM2WYaTyIzzD"
      },
      "source": [
        "# nemůžeme je porovnat, protože nejsou modely vnořené."
      ],
      "execution_count": null,
      "outputs": []
    },
    {
      "cell_type": "code",
      "source": [
        "\"\"\"\n",
        "Preference pro mod_age (spojitý):\n",
        "\n",
        "Jednoduchost (Parsimony): Má méně parametrů (jen jeden pro věk). Jednodušší modely jsou často preferovány (Occamova břitva), pokud dobře popisují data.\n",
        "Interpretovatelnost: Koeficient má přímou interpretaci jako změna log-šance přežití na každých 10 let věku.\n",
        "Generalizace: Může lépe generalizovat na nová data, pokud je skutečný vztah přibližně lineární, a zabraňuje přeučení (overfitting) na šum v jednotlivých věkových skupinách.\n",
        "\n",
        "\n",
        "\n",
        "Preference pro mod_age_fac (kategorický):\n",
        "\n",
        "Flexibilita: Dokáže zachytit jakýkoli, i složitý nelineární vztah mezi věkem a pravděpodobností přežití bez předpokladu konkrétního tvaru.\n",
        "Potenciálně lepší fit: nižší deviance při skutečném nelineárním tvaru závislosti\n",
        "\"\"\""
      ],
      "metadata": {
        "id": "R5kDlX_Zj6hN"
      },
      "execution_count": null,
      "outputs": []
    },
    {
      "cell_type": "code",
      "metadata": {
        "id": "BjhoEQb7Iz4i"
      },
      "source": [
        "# je uzitecny pro faktorizovany, ale ve spojitem muzeme pak odpovedet na otazky, ktere nam faktorizovany neda (napr. rozdil mezi 25 a 35 letym)"
      ],
      "execution_count": null,
      "outputs": []
    },
    {
      "cell_type": "markdown",
      "metadata": {
        "id": "aHoKBY8sbD2i"
      },
      "source": [
        "Your turn:\n",
        "\n",
        "Consider a model with continuos variables `age`, `fare`, and any factor variable.\n",
        "\n",
        "* Create factor `child`, which takes values 1 (child) and 0 (adult).\n",
        "* Create factor from varaible `fare`, where each level break is by 10-20 pounds, 140 max.\n",
        "* Estimate a model, where the chance of survival depends on factorized `fare` and `sex` and `child`.\n",
        "* What percentage is the chance of survival lower for adult compare to child?\n",
        "* Depends the probability of survival on fare? Test it.\n",
        "* Assume that the chance of survival increases with exponential increasig fare. How the chance of survival increased if the person spent an extra 10 pound for a ticket?\n",
        "* Build a model where the probabilty of survival depends on both `age` and `fare`. Are both covariates significant?"
      ]
    },
    {
      "cell_type": "code",
      "source": [
        "import seaborn as sns\n",
        "import pandas as pd\n",
        "import numpy as np\n",
        "import statsmodels.formula.api as smf\n",
        "import statsmodels.api as sm\n",
        "from scipy.stats import chi2, chi2_contingency\n",
        "import matplotlib.pyplot as plt\n",
        "\n"
      ],
      "metadata": {
        "id": "HvrDrY89wvOV"
      },
      "execution_count": null,
      "outputs": []
    },
    {
      "cell_type": "code",
      "source": [
        "titanic = sns.load_dataset('titanic')\n",
        "print(titanic.head())"
      ],
      "metadata": {
        "id": "2vbg3dZFSW8C",
        "colab": {
          "base_uri": "https://localhost:8080/"
        },
        "outputId": "49e25c59-518a-48a9-d917-a52c9ca30d0c"
      },
      "execution_count": null,
      "outputs": [
        {
          "output_type": "stream",
          "name": "stdout",
          "text": [
            "   survived  pclass     sex   age  sibsp  parch     fare embarked  class    who  adult_male deck  embark_town alive  alone\n",
            "0         0       3    male  22.0      1      0   7.2500        S  Third    man        True  NaN  Southampton    no  False\n",
            "1         1       1  female  38.0      1      0  71.2833        C  First  woman       False    C    Cherbourg   yes  False\n",
            "2         1       3  female  26.0      0      0   7.9250        S  Third  woman       False  NaN  Southampton   yes   True\n",
            "3         1       1  female  35.0      1      0  53.1000        S  First  woman       False    C  Southampton   yes  False\n",
            "4         0       3    male  35.0      0      0   8.0500        S  Third    man        True  NaN  Southampton    no   True\n"
          ]
        }
      ]
    },
    {
      "cell_type": "code",
      "source": [
        "# ------------------------------------------------------------------------------\n",
        "# 1) LOAD & CLEAN THE DATA\n",
        "# ------------------------------------------------------------------------------\n",
        "\n",
        "# Binary flag: 1 = child (<18 yr), 0 = adult\n",
        "titanic[\"child\"] = (titanic[\"age\"] < 18).astype(float)\n",
        "\n",
        "# Discrete fare bands – left‑closed, right‑open: 0‑10, 10‑20, …, 130‑140, 140+\n",
        "fare_bins   = list(range(0, 141, 10)) + [np.inf]\n",
        "fare_labels = [f\"{lo}-{lo+10}\" for lo in range(0, 140, 10)] + [\"140+\"]\n",
        "titanic[\"fare_cat\"] = pd.cut(titanic[\"fare\"],\n",
        "                             bins=fare_bins,\n",
        "                             labels=fare_labels,\n",
        "                             right=False)\n",
        "\n",
        "# Keep only rows with complete data for the variables we need\n",
        "data = titanic.dropna(subset=[\"survived\", \"sex\", \"child\",\n",
        "                              \"fare_cat\", \"fare\", \"age\"])"
      ],
      "metadata": {
        "id": "KtI3U8dHwvRB"
      },
      "execution_count": null,
      "outputs": []
    },
    {
      "cell_type": "code",
      "source": [
        "counts = (data[\"fare_cat\"]\n",
        "          .value_counts(sort=False)           # keep the logical bin order\n",
        "          .reindex(fare_labels))              # ensure missing bands show as zero\n",
        "\n",
        "print(counts)\n",
        "\n",
        "fig, ax = plt.subplots()\n",
        "ax.bar(counts.index.astype(str), counts.values)\n",
        "ax.set_xlabel(\"Fare band (£)\")\n",
        "ax.set_ylabel(\"Number of passengers\")\n",
        "ax.set_title(\"Passenger count per fare band\")\n",
        "plt.xticks(rotation=45, ha=\"right\")\n",
        "plt.tight_layout()\n",
        "plt.show()"
      ],
      "metadata": {
        "id": "dz3XIpniUUMt",
        "colab": {
          "base_uri": "https://localhost:8080/",
          "height": 782
        },
        "outputId": "5e4fbcaa-cf8c-4719-9564-a373e37a674e"
      },
      "execution_count": null,
      "outputs": [
        {
          "output_type": "stream",
          "name": "stdout",
          "text": [
            "fare_cat\n",
            "0-10       236\n",
            "10-20      155\n",
            "20-30      115\n",
            "30-40       56\n",
            "40-50       14\n",
            "50-60       31\n",
            "60-70       10\n",
            "70-80       28\n",
            "80-90       13\n",
            "90-100       8\n",
            "100-110      4\n",
            "110-120      6\n",
            "120-130      4\n",
            "130-140      6\n",
            "140+        28\n",
            "Name: count, dtype: int64\n"
          ]
        },
        {
          "output_type": "display_data",
          "data": {
            "text/plain": [
              "<Figure size 640x480 with 1 Axes>"
            ],
            "image/png": "[encoded data removed]"
          },
          "metadata": {}
        }
      ]
    },
    {
      "cell_type": "markdown",
      "source": [
        "Toto může být průšvih, protože nízké počty v binech mohou způsobit velké rozptyly regresních parametrů a tím i zvláštní p-values.\n",
        "Věrohodnostní testy na otázky \"Má vyšší cena jízdenky vliv na přežití?\" mají větší sílu, když jsou hodnoty v binech rovnoměrně rozložené."
      ],
      "metadata": {
        "id": "1amq_bbBVs8t"
      }
    },
    {
      "cell_type": "code",
      "source": [
        "# ------------------------------------------------------------------------------\n",
        "# 2) MODEL 1 – survival ~ fare_cat + sex + child\n",
        "#    (Logistic regression; ‘survived’ is already 0/1)\n",
        "# ------------------------------------------------------------------------------\n",
        "model1 = smf.logit(\"survived ~ C(fare_cat) + C(sex) + child\",\n",
        "                   data=data).fit()\n",
        "print(model1.summary())"
      ],
      "metadata": {
        "id": "sGbO8q6MwvTq",
        "colab": {
          "base_uri": "https://localhost:8080/"
        },
        "outputId": "e303a419-6bc3-41e7-ddc5-52a50759e3c8"
      },
      "execution_count": null,
      "outputs": [
        {
          "output_type": "stream",
          "name": "stdout",
          "text": [
            "Warning: Maximum number of iterations has been exceeded.\n",
            "         Current function value: 0.478488\n",
            "         Iterations: 35\n",
            "                           Logit Regression Results                           \n",
            "==============================================================================\n",
            "Dep. Variable:               survived   No. Observations:                  714\n",
            "Model:                          Logit   Df Residuals:                      697\n",
            "Method:                           MLE   Df Model:                           16\n",
            "Date:                Tue, 22 Apr 2025   Pseudo R-squ.:                  0.2916\n",
            "Time:                        17:27:38   Log-Likelihood:                -341.64\n",
            "converged:                      False   LL-Null:                       -482.26\n",
            "Covariance Type:            nonrobust   LLR p-value:                 1.934e-50\n",
            "==========================================================================================\n",
            "                             coef    std err          z      P>|z|      [0.025      0.975]\n",
            "------------------------------------------------------------------------------------------\n",
            "Intercept                  0.2798      0.229      1.224      0.221      -0.168       0.728\n",
            "C(fare_cat)[T.10-20]       0.5318      0.269      1.975      0.048       0.004       1.060\n",
            "C(fare_cat)[T.20-30]       0.6712      0.290      2.318      0.020       0.104       1.239\n",
            "C(fare_cat)[T.30-40]       0.6342      0.376      1.686      0.092      -0.103       1.371\n",
            "C(fare_cat)[T.40-50]      -0.3734      0.702     -0.531      0.595      -1.750       1.003\n",
            "C(fare_cat)[T.50-60]       2.3396      0.471      4.967      0.000       1.416       3.263\n",
            "C(fare_cat)[T.60-70]       1.4545      0.773      1.881      0.060      -0.061       2.970\n",
            "C(fare_cat)[T.70-80]       1.3953      0.481      2.901      0.004       0.452       2.338\n",
            "C(fare_cat)[T.80-90]       2.4665      0.863      2.859      0.004       0.776       4.157\n",
            "C(fare_cat)[T.90-100]      3.0415      1.157      2.628      0.009       0.773       5.310\n",
            "C(fare_cat)[T.100-110]     0.7637      1.241      0.616      0.538      -1.668       3.195\n",
            "C(fare_cat)[T.110-120]     1.6971      0.993      1.709      0.087      -0.249       3.644\n",
            "C(fare_cat)[T.120-130]    22.2291   1.82e+04      0.001      0.999   -3.57e+04    3.57e+04\n",
            "C(fare_cat)[T.130-140]     2.5340      1.220      2.077      0.038       0.143       4.925\n",
            "C(fare_cat)[T.140+]        1.6805      0.533      3.153      0.002       0.636       2.725\n",
            "C(sex)[T.male]            -2.3531      0.199    -11.839      0.000      -2.743      -1.964\n",
            "child                      0.5806      0.263      2.212      0.027       0.066       1.095\n",
            "==========================================================================================\n"
          ]
        },
        {
          "output_type": "stream",
          "name": "stderr",
          "text": [
            "/usr/local/lib/python3.11/dist-packages/statsmodels/base/model.py:607: ConvergenceWarning: Maximum Likelihood optimization failed to converge. Check mle_retvals\n",
            "  warnings.warn(\"Maximum Likelihood optimization failed to \"\n"
          ]
        }
      ]
    },
    {
      "cell_type": "markdown",
      "source": [
        "Máme warning ohledně konvergence - to je pravděpodobně způsobené nítkým počtem pozorování v binech. I koeficient 22.22 u 120-130 je šíleně velký.\n",
        "\n",
        "Máme v zásadě dvě možnosti:\n",
        "* sloučit biny\n",
        "* ridge regresi - fit_regularized(alpha=λ)"
      ],
      "metadata": {
        "id": "53_O1etIXYYu"
      }
    },
    {
      "cell_type": "markdown",
      "source": [
        "SLOUČÍME BINY"
      ],
      "metadata": {
        "id": "vZPToMnrZWN0"
      }
    },
    {
      "cell_type": "code",
      "source": [
        "data = data.copy()\n",
        "\n",
        "bins   = [0, 10, 20, 30, 40, 60, 70, 80, 90, 100, 140, np.inf]\n",
        "labels = [\"0-10\", \"10-20\", \"20-30\", \"30-40\",\n",
        "          \"40-60\", \"60-70\", \"70-80\", \"80-90\", \"90-100\", \"100-140\", \"140+\"]\n",
        "\n",
        "data.pop(\"fare_cat\")                     # drop starý\n",
        "data[\"fare_cat\"] = pd.cut(data[\"fare\"],\n",
        "                        bins=bins,\n",
        "                        labels=labels,\n",
        "                        right=False).astype(\"category\")\n",
        "\n",
        "\n",
        "print(data[\"fare_cat\"].value_counts(sort=False))"
      ],
      "metadata": {
        "id": "Bi3v820fX0WJ",
        "colab": {
          "base_uri": "https://localhost:8080/"
        },
        "outputId": "404c440a-7d1f-44cb-d65d-8431631bc8b6"
      },
      "execution_count": null,
      "outputs": [
        {
          "output_type": "stream",
          "name": "stdout",
          "text": [
            "fare_cat\n",
            "0-10       236\n",
            "10-20      155\n",
            "20-30      115\n",
            "30-40       56\n",
            "40-60       45\n",
            "60-70       10\n",
            "70-80       28\n",
            "80-90       13\n",
            "90-100       8\n",
            "100-140     20\n",
            "140+        28\n",
            "Name: count, dtype: int64\n"
          ]
        }
      ]
    },
    {
      "cell_type": "code",
      "source": [
        "# ------------------------------------------------------------------------------\n",
        "# 2) OPRAVENÝ MODEL 1 – survival ~ fare_cat + sex + child\n",
        "#    (Logistic regression; ‘survived’ is already 0/1)\n",
        "# ------------------------------------------------------------------------------\n",
        "model1 = smf.logit(\"survived ~ C(fare_cat) + C(sex) + child\",\n",
        "                   data=data).fit()\n",
        "print(model1.summary())"
      ],
      "metadata": {
        "id": "sR0DNLUSZkms",
        "colab": {
          "base_uri": "https://localhost:8080/"
        },
        "outputId": "0c3a5da6-d77a-46be-e6d2-226ee4f4805e"
      },
      "execution_count": null,
      "outputs": [
        {
          "output_type": "stream",
          "name": "stdout",
          "text": [
            "Optimization terminated successfully.\n",
            "         Current function value: 0.489872\n",
            "         Iterations 6\n",
            "                           Logit Regression Results                           \n",
            "==============================================================================\n",
            "Dep. Variable:               survived   No. Observations:                  714\n",
            "Model:                          Logit   Df Residuals:                      701\n",
            "Method:                           MLE   Df Model:                           12\n",
            "Date:                Tue, 22 Apr 2025   Pseudo R-squ.:                  0.2747\n",
            "Time:                        17:27:43   Log-Likelihood:                -349.77\n",
            "converged:                       True   LL-Null:                       -482.26\n",
            "Covariance Type:            nonrobust   LLR p-value:                 1.021e-49\n",
            "==========================================================================================\n",
            "                             coef    std err          z      P>|z|      [0.025      0.975]\n",
            "------------------------------------------------------------------------------------------\n",
            "Intercept                  0.2567      0.226      1.134      0.257      -0.187       0.701\n",
            "C(fare_cat)[T.10-20]       0.5507      0.267      2.062      0.039       0.027       1.074\n",
            "C(fare_cat)[T.20-30]       0.6907      0.287      2.404      0.016       0.128       1.254\n",
            "C(fare_cat)[T.30-40]       0.6713      0.372      1.802      0.071      -0.059       1.401\n",
            "C(fare_cat)[T.40-60]       1.5089      0.390      3.874      0.000       0.745       2.272\n",
            "C(fare_cat)[T.60-70]       1.4431      0.768      1.878      0.060      -0.063       2.949\n",
            "C(fare_cat)[T.70-80]       1.3829      0.478      2.893      0.004       0.446       2.320\n",
            "C(fare_cat)[T.80-90]       2.4740      0.859      2.880      0.004       0.790       4.158\n",
            "C(fare_cat)[T.90-100]      3.0226      1.154      2.618      0.009       0.760       5.285\n",
            "C(fare_cat)[T.100-140]     2.1117      0.604      3.499      0.000       0.929       3.295\n",
            "C(fare_cat)[T.140+]        1.6889      0.530      3.189      0.001       0.651       2.727\n",
            "C(sex)[T.male]            -2.2992      0.195    -11.770      0.000      -2.682      -1.916\n",
            "child                      0.4640      0.255      1.820      0.069      -0.036       0.964\n",
            "==========================================================================================\n"
          ]
        }
      ]
    },
    {
      "cell_type": "markdown",
      "source": [
        "Už je to lepší..."
      ],
      "metadata": {
        "id": "OdxHWKUoawxO"
      }
    },
    {
      "cell_type": "code",
      "source": [
        "# ---------------------------------------------------------------\n",
        "# 3) ADULT vs CHILD – % POKLES V SURVIVAL RATE & POMĚR ŠANCÍ (OR)\n",
        "# ---------------------------------------------------------------\n",
        "\n",
        "# --- Výpočet rozdílu v průměrných pravděpodobnostech (již existující kód) ---\n",
        "print(\"--- Porovnání průměrných pravděpodobností ---\")\n",
        "# Predikujeme průměrnou pravděpodobnost, pokud by všichni byli děti (při zachování jejich ostatních charakteristik)\n",
        "p_child = model1.predict(data.assign(child=1)).mean()\n",
        "# Predikujeme průměrnou pravděpodobnost, pokud by všichni byli dospělí (při zachování jejich ostatních charakteristik)\n",
        "p_adult = model1.predict(data.assign(child=0)).mean()\n",
        "# Rozdíl v procentních bodech\n",
        "pct_diff = p_child - p_adult # Změnil jsem znaménko, aby odpovídalo OR (pozitivní efekt dítěte)\n",
        "\n",
        "print(f\"Průměrná P(survival | model) pro dítě:    {p_child:.3f}\")\n",
        "print(f\"Průměrná P(survival | model) pro dospělého: {p_adult:.3f}\")\n",
        "# Upravený výpis pro lepší srovnání s OR\n",
        "if pct_diff > 0:\n",
        "    print(f\"→ Pravděpodobnost přežití dítěte je v průměru o {pct_diff*100:.1f} procentních bodů VYŠŠÍ než u dospělého.\")\n",
        "else:\n",
        "    print(f\"→ Pravděpodobnost přežití dítěte je v průměru o {-pct_diff*100:.1f} procentních bodů NIŽŠÍ než u dospělého.\")\n",
        "\n",
        "print(\"\\n--- Porovnání šancí (Odds Ratio - OR) ---\")\n",
        "# Získáme koeficient pro proměnnou 'child' z modelu\n",
        "# Koeficient představuje změnu v log(šance) při změně z adult (0) na child (1)\n",
        "coef_child = model1.params['child']\n",
        "\n",
        "# Poměr šancí (Odds Ratio) je exponenciála koeficientu\n",
        "# OR = exp(koeficient)\n",
        "# OR = odds(survival | child=1) / odds(survival | child=0)  (při konstantních ostatních proměnných)\n",
        "odds_ratio_child = np.exp(coef_child)\n",
        "\n",
        "print(f\"Koeficient pro 'child': {coef_child:.3f}\")\n",
        "print(f\"Poměr šancí (OR) pro dítě vs. dospělého: {odds_ratio_child:.3f}\")\n",
        "\n",
        "# Interpretace OR\n",
        "if odds_ratio_child > 1:\n",
        "    print(f\"→ Šance (odds) na přežití jsou {odds_ratio_child:.2f}krát VYŠŠÍ pro dítě než pro dospělého,\")\n",
        "    print(\"  za předpokladu stejného pohlaví a kategorie ceny jízdenky.\")\n",
        "elif odds_ratio_child < 1:\n",
        "    # Můžeme také říct (1/OR)krát nižší\n",
        "    print(f\"→ Šance (odds) na přežití jsou {odds_ratio_child:.2f}krát nižší (tj. {1/odds_ratio_child:.2f}krát NIŽŠÍ) pro dítě než pro dospělého,\")\n",
        "    print(\"  za předpokladu stejného pohlaví a kategorie ceny jízdenky.\")\n",
        "else:\n",
        "    print(\"→ Šance (odds) na přežití se pro dítě a dospělého neliší,\")\n",
        "    print(\"  za předpokladu stejného pohlaví a kategorie ceny jízdenky.\")"
      ],
      "metadata": {
        "id": "syO3VhI-wvWd",
        "colab": {
          "base_uri": "https://localhost:8080/"
        },
        "outputId": "57d34769-6c83-4d3e-f264-477750b1dfb4"
      },
      "execution_count": null,
      "outputs": [
        {
          "output_type": "stream",
          "name": "stdout",
          "text": [
            "--- Porovnání průměrných pravděpodobností ---\n",
            "Průměrná P(survival | model) pro dítě:    0.469\n",
            "Průměrná P(survival | model) pro dospělého: 0.393\n",
            "→ Pravděpodobnost přežití dítěte je v průměru o 7.6 procentních bodů VYŠŠÍ než u dospělého.\n",
            "\n",
            "--- Porovnání šancí (Odds Ratio - OR) ---\n",
            "Koeficient pro 'child': 0.464\n",
            "Poměr šancí (OR) pro dítě vs. dospělého: 1.590\n",
            "→ Šance (odds) na přežití jsou 1.59krát VYŠŠÍ pro dítě než pro dospělého,\n",
            "  za předpokladu stejného pohlaví a kategorie ceny jízdenky.\n"
          ]
        }
      ]
    },
    {
      "cell_type": "code",
      "source": [
        "# ---------------------------------------------------------------\n",
        "# 4) ZÁVISÍ SURVIVAL RATE NA FARE (kategorizovaném)?\n",
        "#    (Likelihood‑ratio test - KONTROLUJE VLIV SEX a CHILD)\n",
        "# ---------------------------------------------------------------\n",
        "# TENTO PŘÍSTUP JE VHODNĚJŠÍ, protože testuje přínos 'fare_cat'\n",
        "# POTÉ, co už jsme vzali v úvahu vliv 'sex' a 'child'.\n",
        "# Odpovídá na otázku: \"Má cena jízdenky vliv na přežití i nad rámec\n",
        "# vlivu pohlaví a toho, zda jde o dítě?\"\n",
        "\n",
        "print(\"--- Likelihood-Ratio Test (Preferovaná metoda) ---\")\n",
        "# Model 0: Bez 'fare_cat' (Nulová hypotéza: fare_cat nemá dodatečný vliv)\n",
        "model0 = smf.logit(\"survived ~ C(sex) + child\", data=data).fit(disp=0) # disp=0 potlačí výpis z fitování\n",
        "\n",
        "# Model 1: S 'fare_cat' (Alternativní hypotéza: fare_cat má dodatečný vliv)\n",
        "# Ujistěte se, že 'fare_cat' je brána jako kategoriální proměnná pomocí C()\n",
        "model1 = smf.logit(\"survived ~ C(sex) + child + C(fare_cat)\", data=data).fit(disp=0)\n",
        "\n",
        "# Výpočet Likelihood Ratio statistiky\n",
        "# Porovnává, o kolik lépe model1 vysvětluje data než model0\n",
        "LR = 2 * (model1.llf - model0.llf)\n",
        "\n",
        "# Rozdíl ve stupních volnosti modelů\n",
        "# Odpovídá počtu parametrů přidaných do model1 (tj. kategorií fare_cat - 1)\n",
        "df_diff = model1.df_model - model0.df_model\n",
        "\n",
        "# Výpočet p-hodnoty pomocí chi-kvadrát rozdělení\n",
        "# Testuje, zda je zlepšení modelu (LR) statisticky významné\n",
        "pval = chi2.sf(LR, df_diff)\n",
        "\n",
        "print(f\"LR χ² = {LR:.2f} s {df_diff:.0f} stupni volnosti   →   p-hodnota = {pval:.4g}\")\n",
        "if pval < 0.05:\n",
        "    print(\"Závěr: Zamítáme nulovou hypotézu. Přidání 'fare_cat' statisticky významně zlepšuje model (p < 0.05).\")\n",
        "    print(\"       Zdá se, že cena jízdenky má vliv na přežití i po zohlednění pohlaví a věku (dítě/dospělý).\")\n",
        "else:\n",
        "    print(\"Závěr: Nezamítáme nulovou hypotézu (p >= 0.05).\")\n",
        "    print(\"       Přidání 'fare_cat' nepřináší statisticky významné zlepšení modelu, když už kontrolujeme pohlaví a věk.\")\n",
        "    print(\"       Nemáme dostatek důkazů tvrdit, že cena jízdenky má nezávislý vliv na přežití v tomto modelu.\")\n",
        "\n",
        "print(\"\\n\" + \"=\"*60 + \"\\n\") # Oddělovač\n",
        "\n",
        "# ---------------------------------------------------------------\n",
        "# Chi-kvadrát test nezávislosti (MÉNĚ VHODNÝ V TOMTO KONTEXTU)\n",
        "# ---------------------------------------------------------------\n",
        "# TENTO PŘÍSTUP JE MÉNĚ VHODNÝ pro zodpovězení původní otázky v kontextu\n",
        "# ostatních proměnných, protože testuje pouze PŘÍMOU (marginální) asociaci\n",
        "# mezi 'survived' a 'fare_cat', aniž by kontroloval vliv 'sex' nebo 'child'.\n",
        "# Výsledek může být ovlivněn tím, že např. ženy (které měly vyšší šanci na přežití)\n",
        "# mohly mít zároveň dražší lístky. Test nekontroluje tyto \"zavádějící\" (confounding) faktory.\n",
        "#\n",
        "# print(\"--- Chi-kvadrát test nezávislosti (Méně vhodná metoda) ---\")\n",
        "# # 1. Vytvoření kontingenční tabulky\n",
        "# contingency_table = pd.crosstab(data['survived'], data['fare_cat'])\n",
        "# print(\"Kontingenční tabulka:\")\n",
        "# print(contingency_table)\n",
        "# print(\"-\" * 30)\n",
        "#\n",
        "# # 2. Provedení Chi-kvadrát testu\n",
        "# chi2_stat, p_value, dof, expected = chi2_contingency(contingency_table)\n",
        "#\n",
        "# # 3. Výpis výsledků\n",
        "# print(f\"Chi-squared Test Statistic: {chi2_stat:.2f}\")\n",
        "# print(f\"Degrees of Freedom: {dof}\")\n",
        "# print(f\"P-value: {p_value:.4g}\")\n",
        "# if p_value < 0.05:\n",
        "#     print(\"Závěr: Existuje statisticky významná asociace mezi 'fare_cat' a 'survived' (p < 0.05),\")\n",
        "#     print(\"       ale tento test neříká, zda je tento vztah nezávislý na jiných faktorech (sex, child).\")\n",
        "# else:\n",
        "#     print(\"Závěr: Nebyla nalezena statisticky významná asociace mezi 'fare_cat' a 'survived' (p >= 0.05).\")"
      ],
      "metadata": {
        "id": "VgZtcusxgMF9",
        "colab": {
          "base_uri": "https://localhost:8080/"
        },
        "outputId": "aaeb0ef2-95dd-4046-fb63-57b1d9632e6c"
      },
      "execution_count": null,
      "outputs": [
        {
          "output_type": "stream",
          "name": "stdout",
          "text": [
            "--- Likelihood-Ratio Test (Preferovaná metoda) ---\n",
            "LR χ² = 47.67 s 10 stupni volnosti   →   p-hodnota = 7.139e-07\n",
            "Závěr: Zamítáme nulovou hypotézu. Přidání 'fare_cat' statisticky významně zlepšuje model (p < 0.05).\n",
            "       Zdá se, že cena jízdenky má vliv na přežití i po zohlednění pohlaví a věku (dítě/dospělý).\n",
            "\n",
            "============================================================\n",
            "\n"
          ]
        }
      ]
    },
    {
      "cell_type": "markdown",
      "source": [
        "Nulová hypotéza je, že všechny fare bands mají nulový koeficient. Test výše tuto nulovou hypotézu zamítá => všechny fare bands mají nějaký vliv => SURVIVAL RATE ZÁVISÍ NA FARE"
      ],
      "metadata": {
        "id": "1qgPM4V9hFcr"
      }
    },
    {
      "cell_type": "code",
      "source": [
        "# ---------------------------------------------------------------\n",
        "# 5) SPOJITÁ-FARE MODEL   survived ~ fare\n",
        "#    (log‑odds linear ⇒ odds grow exponentially)\n",
        "# ---------------------------------------------------------------\n",
        "m2   = smf.logit(\"survived ~ fare\", data=data).fit()\n",
        "beta = m2.params[\"fare\"]\n",
        "OR10 = np.exp(beta * 10)\n",
        "print(m2.summary())\n",
        "print(f\"\\nKaždých £10 navíc zvýší poměr šancí na přežití o {OR10:.2f}.\")"
      ],
      "metadata": {
        "id": "n_1MWqNIwvZH",
        "colab": {
          "base_uri": "https://localhost:8080/"
        },
        "outputId": "e24e5144-9fca-4733-c23a-13a282fceb8e"
      },
      "execution_count": null,
      "outputs": [
        {
          "output_type": "stream",
          "name": "stdout",
          "text": [
            "Optimization terminated successfully.\n",
            "         Current function value: 0.631130\n",
            "         Iterations 6\n",
            "                           Logit Regression Results                           \n",
            "==============================================================================\n",
            "Dep. Variable:               survived   No. Observations:                  714\n",
            "Model:                          Logit   Df Residuals:                      712\n",
            "Method:                           MLE   Df Model:                            1\n",
            "Date:                Tue, 22 Apr 2025   Pseudo R-squ.:                 0.06559\n",
            "Time:                        17:27:53   Log-Likelihood:                -450.63\n",
            "converged:                       True   LL-Null:                       -482.26\n",
            "Covariance Type:            nonrobust   LLR p-value:                 1.809e-15\n",
            "==============================================================================\n",
            "                 coef    std err          z      P>|z|      [0.025      0.975]\n",
            "------------------------------------------------------------------------------\n",
            "Intercept     -0.8968      0.108     -8.334      0.000      -1.108      -0.686\n",
            "fare           0.0160      0.003      6.394      0.000       0.011       0.021\n",
            "==============================================================================\n",
            "\n",
            "Každých £10 navíc zvýší poměr šancí na přežití o 1.17.\n"
          ]
        }
      ]
    },
    {
      "cell_type": "code",
      "source": [
        "# ---------------------------------------------------------------\n",
        "# 6) AGE + FARE MODEL   survived ~ age + fare\n",
        "# ---------------------------------------------------------------\n",
        "m3 = smf.logit(\"survived ~ age + fare\", data=data).fit()\n",
        "print(m3.summary())"
      ],
      "metadata": {
        "id": "JSjgqdVwwvbo",
        "colab": {
          "base_uri": "https://localhost:8080/"
        },
        "outputId": "71e62363-5930-4bff-9ab0-e85aaa98bcb4"
      },
      "execution_count": null,
      "outputs": [
        {
          "output_type": "stream",
          "name": "stdout",
          "text": [
            "Optimization terminated successfully.\n",
            "         Current function value: 0.624185\n",
            "         Iterations 6\n",
            "                           Logit Regression Results                           \n",
            "==============================================================================\n",
            "Dep. Variable:               survived   No. Observations:                  714\n",
            "Model:                          Logit   Df Residuals:                      711\n",
            "Method:                           MLE   Df Model:                            2\n",
            "Date:                Tue, 22 Apr 2025   Pseudo R-squ.:                 0.07587\n",
            "Time:                        17:27:55   Log-Likelihood:                -445.67\n",
            "converged:                       True   LL-Null:                       -482.26\n",
            "Covariance Type:            nonrobust   LLR p-value:                 1.286e-16\n",
            "==============================================================================\n",
            "                 coef    std err          z      P>|z|      [0.025      0.975]\n",
            "------------------------------------------------------------------------------\n",
            "Intercept     -0.4171      0.186     -2.243      0.025      -0.782      -0.053\n",
            "age           -0.0176      0.006     -3.103      0.002      -0.029      -0.006\n",
            "fare           0.0173      0.003      6.596      0.000       0.012       0.022\n",
            "==============================================================================\n"
          ]
        }
      ]
    },
    {
      "cell_type": "markdown",
      "source": [
        "Obě proměnné jsou signifikantní + interpretabilita."
      ],
      "metadata": {
        "id": "SxAjrFPUjc-m"
      }
    },
    {
      "cell_type": "code",
      "source": [
        "m4 = smf.logit(\"survived ~ age + C(fare_cat)\", data=data).fit()\n",
        "print(m4.summary())"
      ],
      "metadata": {
        "id": "kmAo72z6wvee",
        "colab": {
          "base_uri": "https://localhost:8080/"
        },
        "outputId": "0e751f69-18fb-40d2-ae71-e3fbf74c7286"
      },
      "execution_count": null,
      "outputs": [
        {
          "output_type": "stream",
          "name": "stdout",
          "text": [
            "Optimization terminated successfully.\n",
            "         Current function value: 0.597600\n",
            "         Iterations 6\n",
            "                           Logit Regression Results                           \n",
            "==============================================================================\n",
            "Dep. Variable:               survived   No. Observations:                  714\n",
            "Model:                          Logit   Df Residuals:                      702\n",
            "Method:                           MLE   Df Model:                           11\n",
            "Date:                Tue, 22 Apr 2025   Pseudo R-squ.:                  0.1152\n",
            "Time:                        17:37:54   Log-Likelihood:                -426.69\n",
            "converged:                       True   LL-Null:                       -482.26\n",
            "Covariance Type:            nonrobust   LLR p-value:                 1.083e-18\n",
            "==========================================================================================\n",
            "                             coef    std err          z      P>|z|      [0.025      0.975]\n",
            "------------------------------------------------------------------------------------------\n",
            "Intercept                 -0.8417      0.226     -3.727      0.000      -1.284      -0.399\n",
            "C(fare_cat)[T.10-20]       1.0928      0.232      4.719      0.000       0.639       1.547\n",
            "C(fare_cat)[T.20-30]       1.2229      0.252      4.861      0.000       0.730       1.716\n",
            "C(fare_cat)[T.30-40]       1.1010      0.320      3.439      0.001       0.473       1.729\n",
            "C(fare_cat)[T.40-60]       1.8012      0.348      5.183      0.000       1.120       2.482\n",
            "C(fare_cat)[T.60-70]       1.9671      0.675      2.915      0.004       0.644       3.290\n",
            "C(fare_cat)[T.70-80]       1.9170      0.426      4.499      0.000       1.082       2.752\n",
            "C(fare_cat)[T.80-90]       3.2848      0.793      4.141      0.000       1.730       4.839\n",
            "C(fare_cat)[T.90-100]      3.4926      1.085      3.219      0.001       1.366       5.619\n",
            "C(fare_cat)[T.100-140]     2.6111      0.547      4.777      0.000       1.540       3.682\n",
            "C(fare_cat)[T.140+]        2.5929      0.471      5.501      0.000       1.669       3.517\n",
            "age                       -0.0200      0.006     -3.444      0.001      -0.031      -0.009\n",
            "==========================================================================================\n"
          ]
        }
      ]
    },
    {
      "cell_type": "markdown",
      "source": [
        "Lepší fit"
      ],
      "metadata": {
        "id": "IH_611_IlLWs"
      }
    }
  ]
}