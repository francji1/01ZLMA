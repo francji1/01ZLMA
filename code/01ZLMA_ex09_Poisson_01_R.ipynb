{
  "nbformat": 4,
  "nbformat_minor": 0,
  "metadata": {
    "colab": {
      "private_outputs": true,
      "provenance": [],
      "include_colab_link": true
    },
    "kernelspec": {
      "name": "ir",
      "display_name": "R"
    }
  },
  "cells": [
    {
      "cell_type": "markdown",
      "metadata": {
        "id": "view-in-github",
        "colab_type": "text"
      },
      "source": [
        "<a href=\"https://colab.research.google.com/github/francji1/01ZLMA/blob/main/code/01ZLMA_ex09_Poisson_01_R.ipynb\" target=\"_parent\"><img src=\"https://colab.research.google.com/assets/colab-badge.svg\" alt=\"Open In Colab\"/></a>"
      ]
    },
    {
      "cell_type": "markdown",
      "metadata": {
        "id": "x-i6MbNFm4Zt"
      },
      "source": [
        "# 01ZLMA - Exercise 09\n",
        "Exercise 09 of the course 01ZLMA.\n",
        "\n",
        "## Contents\n",
        "\n",
        "* Log-linear models with Poisson distributed data\n",
        "* Example from the Lecture 10 (Section 7.7. from lecture notes)\n",
        "\n"
      ]
    },
    {
      "cell_type": "markdown",
      "source": [
        "## Poission regression\n",
        "\n",
        "Poission regression is good for modeling random variables expressing the number of occurs of independent events in given time period.  \n",
        "It also proves to be more suitable for binomial data if the number of repetitions is large and the probability of success low.\n",
        "\n",
        "\n",
        "*   $Y_1, \\ldots, Y_n$ $iid$ $Y_i \\sim Po(\\mu_i)$, where $\\mu_i = s_i λ_i$ and $s_i$ is known sample size.\n",
        "*   Canonical link function $g(x) = ln(x)$: $\\eta_i = g(\\mu_i) = ln(\\mu_i) = ln(s_i) + ln(\\lambda_i) = ln(s_i) + x_i^T \\beta$, where $i= 1,\\ldots, n$ and $\\mu_i = E[Y_i] = s_i\\lambda_i = s_i e^{x_i^T \\beta}$.\n",
        "\n",
        "\n"
      ],
      "metadata": {
        "id": "96rTf2Uoozk6"
      }
    },
    {
      "cell_type": "markdown",
      "metadata": {
        "lines_to_next_cell": 0,
        "id": "12CqLkzKFWmY"
      },
      "source": [
        "Let us assume exercise 7.7 from lecture notes (Dobson 9.2.1) - British doctors' smoking and coronary death. (https://reneues.files.wordpress.com/2010/01/an-introduction-to-generalized-linear-models-second-edition-dobson.pdf)\n",
        "\n",
        "Data from the famous doctors study of smoking conducted by Sir Richard Doll and colleagues.\n",
        "\n",
        "---\n",
        "\n"
      ]
    },
    {
      "cell_type": "code",
      "metadata": {
        "id": "77dd7PFpFWmZ"
      },
      "source": [
        "data_poiss <- \"https://raw.githubusercontent.com/francji1/01ZLMA/main/data/smoke.csv\"\n",
        "data_poiss  <- read.table(data_poiss, header = T, sep = \";\")\n",
        "data_poiss"
      ],
      "execution_count": null,
      "outputs": []
    },
    {
      "cell_type": "code",
      "metadata": {
        "id": "Mw0CCzYjIrGO"
      },
      "source": [
        "library(tidyverse)\n",
        "library(MASS)\n",
        "install.packages(\"dobson\")\n",
        "library(dobson)\n",
        "data(doctors)\n",
        "? doctors"
      ],
      "execution_count": null,
      "outputs": []
    },
    {
      "cell_type": "code",
      "source": [
        "data_poiss"
      ],
      "metadata": {
        "id": "oxB8M1XH86u6"
      },
      "execution_count": null,
      "outputs": []
    },
    {
      "cell_type": "code",
      "metadata": {
        "tags": [
          "remove_input"
        ],
        "id": "V66n_cKpFWmZ"
      },
      "source": [
        "\n",
        "df <- data_poiss %>%\n",
        " add_column(age_avg = c(40,50,60,70,80,40,50,60,70,80),\n",
        "            age_min = c(35,45,55,65,75,35,45,55,65,75)) %>%\n",
        " mutate(n_min = ceiling(person_years/(age_min-10)),\n",
        "        n_avg = ceiling(person_years/(age_avg-10)),\n",
        "        living = n_min - deaths,\n",
        "        death_rate= deaths/(person_years/10000))\n",
        " str(df)\n",
        " df"
      ],
      "execution_count": null,
      "outputs": []
    },
    {
      "cell_type": "markdown",
      "source": [
        "Add a death rate: the number of deaths per 10,000 person years:\n",
        "$$ \\text{death_rate} = \\frac{deaths}{\\frac{\\text{person_years}}{10000}}$$\n"
      ],
      "metadata": {
        "id": "f-byDboqBiNG"
      }
    },
    {
      "cell_type": "code",
      "metadata": {
        "id": "OdBKTW_vO59G"
      },
      "source": [
        "attach(df)"
      ],
      "execution_count": null,
      "outputs": []
    },
    {
      "cell_type": "code",
      "metadata": {
        "id": "1kIInRIJFWma"
      },
      "source": [
        "is.factor(smoke)\n",
        "smoke <- as.factor(smoke)\n",
        "smoke"
      ],
      "execution_count": null,
      "outputs": []
    },
    {
      "cell_type": "code",
      "source": [
        "agecat <- as.numeric(as.factor(age_group))\n",
        "agecat"
      ],
      "metadata": {
        "id": "aTOjBclJlOMs"
      },
      "execution_count": null,
      "outputs": []
    },
    {
      "cell_type": "markdown",
      "metadata": {
        "lines_to_next_cell": 0,
        "id": "bdRKoj31FWma"
      },
      "source": [
        "## The simplest additive model\n",
        "We start with the simplest model with the variables `smoke` and `agecat`"
      ]
    },
    {
      "cell_type": "code",
      "metadata": {
        "lines_to_next_cell": 0,
        "id": "lSFqOAEsFWma"
      },
      "source": [
        "mdl <- glm(deaths ~ offset(log(person_years)) + smoke + agecat, family=poisson(link=\"log\"))\n",
        "summary(mdl)"
      ],
      "execution_count": null,
      "outputs": []
    },
    {
      "cell_type": "markdown",
      "metadata": {
        "lines_to_next_cell": 0,
        "id": "FjOKcZPLFWmc"
      },
      "source": [
        "Deviation statistics have huge value and the model doesn't fit the data that well.\n",
        "We show the dependence of the logarithm of the scaled Y values on the variable agecat"
      ]
    },
    {
      "cell_type": "code",
      "metadata": {
        "fig.align": "center",
        "fig.height": 3.5,
        "fig.width": 4,
        "lines_to_next_cell": 0,
        "results": "asis",
        "id": "PlMOSAD4FWmd"
      },
      "source": [
        "y_scaled <- deaths/person_years*100000\n",
        "plot(agecat, log(y_scaled), pch = c(15:16)[smoke], col = c(\"red\",\"blue\")[smoke],\n",
        "     cex=1.2, xlab = \"agecat\", ylab = \"počty úmrtí\")"
      ],
      "execution_count": null,
      "outputs": []
    },
    {
      "cell_type": "markdown",
      "metadata": {
        "id": "S9k9Z3xrFWmd"
      },
      "source": [
        "[link text](https://)Je jasně vidět, že vztah není lineární, přidáme do modelu proměnnou `agecat^2`\n",
        "\n",
        "## Model s kvadratickou závislostí na věku - Model 0  "
      ]
    },
    {
      "cell_type": "code",
      "metadata": {
        "lines_to_next_cell": 0,
        "id": "HcSbcg7-FWmd"
      },
      "source": [
        "mdl_0 <- glm(deaths ~ offset(log(person_years)) + smoke + agecat + I(agecat^2),\n",
        "              family=poisson(link=\"log\"))\n",
        "summary(mdl_0)"
      ],
      "execution_count": null,
      "outputs": []
    },
    {
      "cell_type": "markdown",
      "metadata": {
        "lines_to_next_cell": 0,
        "id": "RyouT3OkFWmd"
      },
      "source": [
        "Všechny regresory jsou v modelu významné a hodnota deviační statistiky klesla na 12.176, porovnejme ji s kritickou hodnotou LRT testu"
      ]
    },
    {
      "cell_type": "code",
      "metadata": {
        "lines_to_next_cell": 0,
        "id": "DylN8vYhFWme"
      },
      "source": [
        "Xm <- model.matrix(mdl_0)\n",
        "n  <- nrow(Xm)\n",
        "p  <- ncol(Xm)\n",
        "Xm;n; p\n",
        "# kritická hodnota\n",
        "c_val <- qchisq(0.05, n-p, ncp=0, lower.tail = FALSE);\n",
        "c_val\n",
        "# p-hodnota testu\n",
        "p_val <- pchisq(deviance(mdl_0), n-p, ncp=0, lower.tail = FALSE);\n",
        "p_val"
      ],
      "execution_count": null,
      "outputs": []
    },
    {
      "cell_type": "markdown",
      "metadata": {
        "lines_to_next_cell": 0,
        "id": "o6OtS0EpFWme"
      },
      "source": [
        "**Hypotézu**, že model dobře popisuje data jsme na hladině významnosti 5% těsně nezamítli. Zkusíme ještě přidat do modelu interakci (na obrázku z přednášky byla vidět možná změna závislosti na kouření s rostoucím věkem)\n",
        "\n",
        "## Model s kvadratickou závislostí na věku a interakcí - Model 1"
      ]
    },
    {
      "cell_type": "code",
      "metadata": {
        "lines_to_next_cell": 0,
        "id": "uETtfbJpFWme"
      },
      "source": [
        "mdl_1 <- glm(deaths ~ offset(log(person_years)) + smoke + agecat + I(agecat^2) + smoke:agecat,\n",
        "              family=poisson(link=\"log\"))\n",
        "summary(mdl_1)"
      ],
      "execution_count": null,
      "outputs": []
    },
    {
      "cell_type": "markdown",
      "metadata": {
        "lines_to_next_cell": 0,
        "id": "9iAuydtWFWmf"
      },
      "source": [
        "Všechny proměnné jsou v modelu významné a hodnota deviační statsitiky klesla na hodnotu 1.6354.\n",
        "Pro kritickou hodnotu LRT testu dostaneme"
      ]
    },
    {
      "cell_type": "code",
      "metadata": {
        "lines_to_next_cell": 0,
        "id": "tno0O6LVFWmf"
      },
      "source": [
        "Xm <- model.matrix(mdl_1)\n",
        "n  <- nrow(Xm);\n",
        "p  <- ncol(Xm);\n",
        "n; p\n",
        "# kritická hodnota\n",
        "c_val <- qchisq(0.05, n-p, ncp=0, lower.tail = FALSE);\n",
        "c_val\n",
        "# p-hodnota testu\n",
        "p_val <- pchisq(deviance(mdl_1), n-p, ncp=0, lower.tail = FALSE);\n",
        "p_val"
      ],
      "execution_count": null,
      "outputs": []
    },
    {
      "cell_type": "markdown",
      "metadata": {
        "id": "_sQT7iswFWmf"
      },
      "source": [
        "a hypotézu vhodnosti modelu tedy nezamítáme s p-hodnotou 0.897. To indikuje, že model dobře popisuje data."
      ]
    },
    {
      "cell_type": "markdown",
      "metadata": {
        "id": "5RCy7GquFWmf"
      },
      "source": [
        "Pro ilustraci ještě spočtěme hodnotu deviační statistiky pomocí vzorce z přednášky"
      ]
    },
    {
      "cell_type": "markdown",
      "source": [
        "LRT Test for Poiison regression by Deviance sttistics:\n",
        "$$S = 2\\sum_{i=1}^n \\left[ y_i (ln(\\frac{y_i}{s_i}) - x_i^T \\hat{\\beta}) - s_i (\\frac{y_i}{s_i} - e^{x_i^T \\hat{\\beta}}) )\\right] = 2\\sum_{i=1}^n \\left[ y_i ln(\\frac{y_i}{\\hat{\\mu_i}}) - (y_i - \\hat{\\mu_i})\\right]\n",
        "$$"
      ],
      "metadata": {
        "id": "wjGN5lKhngFb"
      }
    },
    {
      "cell_type": "code",
      "metadata": {
        "lines_to_next_cell": 0,
        "id": "zGFPUzZwFWmg"
      },
      "source": [
        "y <- deaths\n",
        "mu_hat <- fitted(mdl_1)               # predikované hodnoty modelem 1\n",
        "dev <- y*log(y/mu_hat) - (y - mu_hat)\n",
        "dev_stat <- 2*sum(dev);\n",
        "dev_stat"
      ],
      "execution_count": null,
      "outputs": []
    },
    {
      "cell_type": "markdown",
      "metadata": {
        "lines_to_next_cell": 0,
        "id": "HXmL-BePFWmg"
      },
      "source": [
        "Dostáváme stejnou hodnotu jako pomocí funkce `glm()`.\n",
        "\n",
        "Ještě otestujeme významnost interakce pomocí vzorce odvozeného na přednášce"
      ]
    },
    {
      "cell_type": "code",
      "metadata": {
        "lines_to_next_cell": 0,
        "id": "mDte433GFWmg"
      },
      "source": [
        "mu_tilde <- fitted(mdl_0)            # predikované hodnoty modelem 0\n",
        "dev <- y * log(mu_hat/mu_tilde) - (mu_hat - mu_tilde)\n",
        "dev_stat <- 2*sum(dev);\n",
        "dev_stat     # deviační statistika\n",
        "deviance(mdl_0) - deviance(mdl_1)    # pro kontrolu pomocí naladěných modelů"
      ],
      "execution_count": null,
      "outputs": []
    },
    {
      "cell_type": "markdown",
      "metadata": {
        "lines_to_next_cell": 0,
        "id": "7xDSYHJ8FWmg"
      },
      "source": [
        "pro kritickou hodnotu testu platí"
      ]
    },
    {
      "cell_type": "code",
      "metadata": {
        "lines_to_next_cell": 0,
        "id": "Up3dS3TwFWmh"
      },
      "source": [
        "# kritická hodnota\n",
        "c_val <- qchisq(0.05, 1, ncp=0, lower.tail = FALSE)\n",
        "c_val\n",
        "# p-hodnota testu\n",
        "p_val<-pchisq(dev_stat, 1, ncp=0, lower.tail = FALSE)\n",
        "p_val"
      ],
      "execution_count": null,
      "outputs": []
    },
    {
      "cell_type": "markdown",
      "metadata": {
        "lines_to_next_cell": 0,
        "id": "zaLDxEtdFWmh"
      },
      "source": [
        "interakce je tedy v modelu významná. Případně můžeme použít přímo funkci `anova()`"
      ]
    },
    {
      "cell_type": "code",
      "metadata": {
        "lines_to_next_cell": 0,
        "id": "xYwrxNPHFWmi"
      },
      "source": [
        "anova(mdl_0,mdl_1, test=\"Chisq\")"
      ],
      "execution_count": null,
      "outputs": []
    },
    {
      "cell_type": "markdown",
      "metadata": {
        "id": "x7W3n6OJFWmi"
      },
      "source": [
        "která vrací stejný výsledek.\n"
      ]
    },
    {
      "cell_type": "markdown",
      "metadata": {
        "lines_to_next_cell": 0,
        "id": "GV3LayURFWmi"
      },
      "source": [
        "## Analýza Modelu 1\n",
        "\n",
        "Scatterplot pro pozorované a predikované hodnoty vysvětlované proměnné"
      ]
    },
    {
      "cell_type": "code",
      "metadata": {
        "fig.align": "center",
        "fig.height": 3.5,
        "fig.width": 4,
        "results": "asis",
        "id": "52xTrPFzFWmi"
      },
      "source": [
        "plot(y,mu_hat,col=2, cex=1.0, lwd=2)\n",
        "abline(1,1,col=4,lwd=2)"
      ],
      "execution_count": null,
      "outputs": []
    },
    {
      "cell_type": "markdown",
      "metadata": {
        "lines_to_next_cell": 0,
        "id": "xCO2un9cFWmi"
      },
      "source": [
        "Pozorované a predikované hodnoty velmi dobře odpovídají.\n",
        "\n",
        "**Obrázky reziduí**"
      ]
    },
    {
      "cell_type": "code",
      "metadata": {
        "fig.align": "center",
        "fig.height": 7,
        "fig.width": 7,
        "lines_to_next_cell": 0,
        "results": "asis",
        "id": "7aTV02XcFWmi"
      },
      "source": [
        "par(mfrow=c(2,2))\n",
        "\n",
        "r_ps <- rstandard(mdl_1, type=\"pearson\") # standardizovaná Pearsonova rezidua\n",
        "\n",
        "# rezidua vs. fitted values\n",
        "plot(mu_hat,r_ps,col=\"red\", cex=1.3, lwd=2)\n",
        "abline(0,0)\n",
        "# rezizua vs. agecat\n",
        "plot(agecat,r_ps,col=\"red\", cex=1.3, lwd=2)\n",
        "abline(0,0)\n",
        "# rezizua vs. smoke\n",
        "plot(smoke,r_ps,col=\"red\", cex=1.3, xlab=\"Smoke\", lwd=2)\n",
        "abline(0,0)\n",
        "\n",
        "qqnorm(r_ps)   # QQ - plot reziduí\n",
        "qqline(r_ps)"
      ],
      "execution_count": null,
      "outputs": []
    },
    {
      "cell_type": "markdown",
      "metadata": {
        "lines_to_next_cell": 0,
        "id": "xvi33uPBFWmj"
      },
      "source": [
        "vzhledem k mlému počtu pozorování zde není vidět žádný zásadní problé. Otestujme ještě formálně normalitu rezidí"
      ]
    },
    {
      "cell_type": "code",
      "metadata": {
        "lines_to_next_cell": 0,
        "id": "ANyeD2uVFWmj"
      },
      "source": [
        "shapiro.test(r_ps)  # Test normality"
      ],
      "execution_count": null,
      "outputs": []
    },
    {
      "cell_type": "markdown",
      "metadata": {
        "lines_to_next_cell": 0,
        "id": "uGlzAQs3FWmj"
      },
      "source": [
        "Hypotéza normality není zamítnuta.\n",
        "\n",
        "**Influenční pozorování a pákové body**"
      ]
    },
    {
      "cell_type": "code",
      "metadata": {
        "fig.align": "center",
        "fig.height": 3.5,
        "fig.width": 7,
        "lines_to_next_cell": 0,
        "results": "asis",
        "id": "_43FtejGFWmj"
      },
      "source": [
        "par(mfrow=c(1,2))\n",
        "c_d <- cooks.distance(mdl_1)  # Cookova vzdálenost\n",
        "lev <- hatvalues(mdl_1)       # diag. prvky projekční matice\n",
        "\n",
        "plot(c_d,col=\"red\", cex=1.3, lwd=2, ylim = c(0,2.1))\n",
        "# abline(8/(n-2*p),0)         # v našem případě máme malý počet pozorování a n-2p = 0\n",
        "                              # kritická hodnota by tedy byla velká\n",
        "\n",
        "plot(lev,col=\"red\", cex=1.3, lwd=2, ylim = c(0,1.2))\n",
        "abline(2*p/n,0)"
      ],
      "execution_count": null,
      "outputs": []
    },
    {
      "cell_type": "markdown",
      "metadata": {
        "lines_to_next_cell": 0,
        "id": "Nnum6w3gFWmk"
      },
      "source": [
        "Ani v jednom případě nevidíme podezřele velké hodnoty\n",
        "\n",
        "## Interpretace parametrů\n",
        "\n",
        "Spočteme relativní rizika v Modelu 1"
      ]
    },
    {
      "cell_type": "code",
      "metadata": {
        "lines_to_next_cell": 0,
        "id": "woiv5o3wFWmk"
      },
      "source": [
        "par_est_1 <- coef(mdl_1);\n",
        "par_est_1\n",
        "RR_1 <- exp(par_est_1)\n",
        "RR_1"
      ],
      "execution_count": null,
      "outputs": []
    },
    {
      "cell_type": "markdown",
      "metadata": {
        "lines_to_next_cell": 0,
        "id": "EOHiE05dFWmk"
      },
      "source": [
        "Diskuze obdržených hodnot a výpočet relativních rizik pro jednotlivé kategorie věku jsou v Sekci 7.7 materiálů k přednášce.\n",
        "\n",
        "Pro Model 0 bez interakcí je situace jednodušší a lze snado získat odhady RR a příslušné intervaly spolehlivosti"
      ]
    },
    {
      "cell_type": "code",
      "metadata": {
        "lines_to_next_cell": 0,
        "id": "qoWRVSQUFWmk"
      },
      "source": [
        "exp(cbind(coef(mdl_0), confint(mdl_0)))"
      ],
      "execution_count": null,
      "outputs": []
    },
    {
      "cell_type": "markdown",
      "metadata": {
        "id": "JK-miqw-FWmk"
      },
      "source": [
        "**Na závěr ještě vykresleme obrázky Modelů 0 a 1**"
      ]
    },
    {
      "cell_type": "code",
      "metadata": {
        "fig.align": "center",
        "fig.height": 7.5,
        "fig.width": 4.5,
        "results": "asis",
        "tags": [
          "remove_input"
        ],
        "id": "0KaVtJr0FWml"
      },
      "source": [
        "par(mfrow=c(2,1))\n",
        "\n",
        "x_pop<-age_group[1:5]\n",
        "s <- person_years\n",
        "y_scaled <- y/s*100000\n",
        "smoke <- ordered(smoke, levels = c(\"1\",\"0\"))   # udáme pořadí úrovní faktoru Smoke, `R` je jinak prohodí, což může způsobit špatnou legendu v grafech\n"
      ],
      "execution_count": null,
      "outputs": []
    },
    {
      "cell_type": "code",
      "source": [
        "### Obrázek model 0\n",
        "mu_tilde_scaled <- mu_tilde/s*100000\n",
        "\n",
        "plot(agecat, y_scaled, pch = c(15:16)[smoke],  xaxt = \"n\", main = \"Model 0 bez interakce\", col = c(\"red\",\"blue\")[smoke], cex=1.0, xlab = \"Age group\", ylab = \"Počty úmrtí\")\n",
        "axis(1, at=agecat[1:5], labels=x_pop)\n",
        "legend(\"topleft\", inset = .05, bty=\"n\", legend = c(\"Smokers\", \"Non-smokers\"), pch = c(15:16), cex=1.0, pt.cex = 1.0, col = c(\"red\",\"blue\"))\n",
        "lines(agecat[1:5], mu_tilde_scaled[1:5], col=\"red\", lwd=2 )\n",
        "lines(agecat[6:10], mu_tilde_scaled[6:10], col = \"blue\", lwd=2 )\n"
      ],
      "metadata": {
        "id": "4L20OmUF36gd"
      },
      "execution_count": null,
      "outputs": []
    },
    {
      "cell_type": "code",
      "source": [
        "### Obrázek model 1\n",
        "mu_hat_scaled <- mu_hat/s*100000\n",
        "\n",
        "plot(agecat, y_scaled, pch = c(15:16)[smoke],  xaxt = \"n\", main = \"Model 1 s interakcí\", col = c(\"red\",\"blue\")[smoke], cex=1.0, xlab = \"Age group\", ylab = \"Počty úmrtí\")\n",
        "axis(1, at=agecat[1:5], labels=x_pop)\n",
        "legend(\"topleft\", inset = .05, bty=\"n\", legend = c(\"Smokers\", \"Non-smokers\"), pch = c(15:16), cex=1.0, pt.cex = 1.0, col = c(\"red\",\"blue\"))\n",
        "lines(agecat[1:5], mu_hat_scaled[1:5], col=\"red\", lwd=2 )\n",
        "lines(agecat[6:10], mu_hat_scaled[6:10], col = \"blue\", lwd=2 )\n"
      ],
      "metadata": {
        "id": "k2JDFUp037OQ"
      },
      "execution_count": null,
      "outputs": []
    },
    {
      "cell_type": "code",
      "source": [],
      "metadata": {
        "id": "nMUL-GfsETBZ"
      },
      "execution_count": null,
      "outputs": []
    },
    {
      "cell_type": "markdown",
      "source": [
        "### Task:\n",
        "* Try to model with and without offset. Compare results, why to use/ not use offset?\n",
        "* Try Poisson distribution with factor variables (contingency tables approach).\n",
        "\n"
      ],
      "metadata": {
        "id": "zN4qebVOGqQ1"
      }
    },
    {
      "cell_type": "markdown",
      "source": [
        "## Your turn: HW\n",
        "\n",
        "Exercise 9.2 from\n",
        "(https://reneues.files.wordpress.com/2010/01/an-introduction-to-generalized-linear-models-second-edition-dobson.pdf)\n",
        "\n",
        "In the dataframe data(insurance) you have numbers of insurance policies, `n`, and numbers of\n",
        "claims, `y`, for cars in various insurance categories, `car`, tabulated by age of policy holder, `age`, and district where the policy holder lived `district` (district = 1,for London and other major cities and district = 0, otherwise). The dataset is derived from the CLAIMS data set in Aitkin et al. (1989) obtained from a paper by Baxter, Coutts and Ross (1980).\n",
        "\n",
        "* Calculate the rate ofclaims y/n for each category and plot the rates by\n",
        "AGE, CAR and DIST to get an idea ofthe main effects ofthese factors.\n",
        "* Use Poisson regression to estimate the main effects (each treated as categorical and modelled using indicator variables) and interaction terms.\n",
        "* Based on the modelling in (b), Aitkin et al. (1989) determined that all the interactions were unimportant and decided that AGE and CAR could be\n",
        "treated as though they were continuous variables. Fit a model incorporating\n",
        "these features and compare it with the best model obtained in (b). What\n",
        "conclusions do you reach?"
      ],
      "metadata": {
        "id": "rE5CCaqsCrlz"
      }
    },
    {
      "cell_type": "code",
      "source": [],
      "metadata": {
        "id": "OupXMdo5vQZm"
      },
      "execution_count": null,
      "outputs": []
    },
    {
      "cell_type": "code",
      "source": [
        "data(insurance)"
      ],
      "metadata": {
        "id": "PPyixxRNCuvv"
      },
      "execution_count": null,
      "outputs": []
    },
    {
      "cell_type": "code",
      "source": [
        "? insurance\n",
        "insurance"
      ],
      "metadata": {
        "id": "Yw_MD2EiDAb_"
      },
      "execution_count": null,
      "outputs": []
    },
    {
      "cell_type": "code",
      "source": [],
      "metadata": {
        "id": "8FvMwnL_DOLG"
      },
      "execution_count": null,
      "outputs": []
    }
  ]
}