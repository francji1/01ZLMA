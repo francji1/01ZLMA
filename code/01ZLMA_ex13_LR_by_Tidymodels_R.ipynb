{
  "nbformat": 4,
  "nbformat_minor": 0,
  "metadata": {
    "colab": {
      "private_outputs": true,
      "provenance": [],
      "include_colab_link": true
    },
    "kernelspec": {
      "name": "ir",
      "display_name": "R"
    },
    "language_info": {
      "name": "R"
    }
  },
  "cells": [
    {
      "cell_type": "markdown",
      "metadata": {
        "id": "view-in-github",
        "colab_type": "text"
      },
      "source": [
        "<a href=\"https://colab.research.google.com/github/francji1/01ZLMA/blob/main/code/01ZLMA_ex13_LR_by_Tidymodels_R.ipynb\" target=\"_parent\"><img src=\"https://colab.research.google.com/assets/colab-badge.svg\" alt=\"Open In Colab\"/></a>"
      ]
    },
    {
      "cell_type": "markdown",
      "metadata": {
        "id": "iNr4YK9LQTPT"
      },
      "source": [
        "01ZLMA - Exercise 13\n",
        "\n",
        "Exercise 13 of the course 01ZLMA.\n",
        "\n",
        "# GLM for Discrete response - Logistic regression by Tidymodels"
      ]
    },
    {
      "cell_type": "markdown",
      "metadata": {
        "id": "qt-Sj0KJbzRx"
      },
      "source": [
        "### Machine Learning approach vs.  Statistical approach\n",
        "\n",
        "* In Python:  scikit-learn vs. statsmodels\n",
        "\n",
        "* In R: tidymodels (caret) vs.  classic R\n"
      ]
    },
    {
      "cell_type": "markdown",
      "metadata": {
        "id": "5rAQ5JHYd0ws"
      },
      "source": [
        "https://colab.research.google.com/github/francji1/01ZLMA/blob/main/R/01ZLMA_ex09_LR_by_Tidymodels.ipynb"
      ]
    },
    {
      "cell_type": "markdown",
      "metadata": {
        "id": "omIXBCxATwIC"
      },
      "source": [
        "\n",
        "\n",
        "Load necessary packages:"
      ]
    },
    {
      "cell_type": "code",
      "metadata": {
        "id": "iejVKcFcTwIE"
      },
      "source": [
        "install.packages(\"tidymodels\")\n",
        "install.packages(\"vip\")\n",
        "install.packages(\"broom\")\n",
        "install.packages(\"skimr\")\n",
        "install.packages(\"glmnet\")\n",
        "\n",
        "library(tidyverse)\n",
        "library(knitr)\n",
        "library(tidymodels)\n",
        "library(vip)\n",
        "library(broom)\n",
        "library(skimr)\n",
        "library(glmnet)"
      ],
      "execution_count": null,
      "outputs": []
    },
    {
      "cell_type": "code",
      "metadata": {
        "id": "VxBIs-aDYMxd"
      },
      "source": [
        "install.packages(\"titanic\")\n",
        "library(titanic)\n",
        "knitr::kable(head(titanic_train))"
      ],
      "execution_count": null,
      "outputs": []
    },
    {
      "cell_type": "markdown",
      "metadata": {
        "id": "OLW3sGXWvqYw"
      },
      "source": [
        "##Let's refresh the titanic dataset (But it never hurts to see this again).\n",
        "\n",
        "---\n",
        "\n"
      ]
    },
    {
      "cell_type": "code",
      "metadata": {
        "id": "0-jGCOkptI6E"
      },
      "source": [
        "#titanic_train %>% mutate_if(is.character,as.factor) %>% summary()\n",
        "#titanic_test %>% mutate_if(is.character,as.factor) %>% summary()"
      ],
      "execution_count": null,
      "outputs": []
    },
    {
      "cell_type": "code",
      "metadata": {
        "id": "VaNSb1brlI_W"
      },
      "source": [
        "skim(titanic_train)\n",
        "skim(titanic_test)"
      ],
      "execution_count": null,
      "outputs": []
    },
    {
      "cell_type": "markdown",
      "metadata": {
        "id": "NEMMLsZzwEhR"
      },
      "source": [
        "### Data preprocessing, same as at the end of the last lecture"
      ]
    },
    {
      "cell_type": "code",
      "metadata": {
        "id": "Rv7fovKb0EpB"
      },
      "source": [
        "data_train <- titanic_train %>%\n",
        " na_if(\"\") %>%   # Take missing values as NA\n",
        " mutate_if(is.character,factor)%>%\n",
        " mutate(Relatives =  SibSp + Parch,\n",
        "        Pclass = factor(Pclass),\n",
        "        Survived = factor(Survived))  %>%\n",
        "  dplyr::select(-Name,-Cabin,-Ticket, -SibSp,-Parch ) %>%\n",
        "  relocate(Survived, .after = last_col())\n",
        "\n",
        "data_test <- titanic_test %>%\n",
        " na_if(\"\") %>%   # Take missing values as NA\n",
        " mutate_if(is.character,factor)%>%\n",
        " mutate(Relatives =  SibSp + Parch,\n",
        "        Pclass = factor(Pclass))  %>%\n",
        " dplyr::select(-Name,-Cabin,-Ticket, -SibSp,-Parch )"
      ],
      "execution_count": null,
      "outputs": []
    },
    {
      "cell_type": "code",
      "metadata": {
        "id": "ibCdMZ0CtGpX"
      },
      "source": [
        "# Data types:\n",
        "str(data_train)\n",
        "# or\n",
        "glimpse(data_train)"
      ],
      "execution_count": null,
      "outputs": []
    },
    {
      "cell_type": "code",
      "metadata": {
        "id": "AfwAohjgfMvg"
      },
      "source": [
        "# Number of NA's\n",
        "colSums(is.na(data_train))\n",
        "colSums(is.na(data_test))"
      ],
      "execution_count": null,
      "outputs": []
    },
    {
      "cell_type": "code",
      "metadata": {
        "id": "B_Y1lWjID2Un"
      },
      "source": [
        "# If we have to cope with more NA's, is good to visualize relations.\n",
        "\n",
        "#install.packages(\"naniar\")\n",
        "#library(naniar)\n",
        "#titanic_test %>%\n",
        "#  dplyr::select(Age,Fare,Pclass,Sex,Embarked) %>%\n",
        "#  gg_miss_upset()"
      ],
      "execution_count": null,
      "outputs": []
    },
    {
      "cell_type": "markdown",
      "metadata": {
        "id": "tleVxa65TwIJ"
      },
      "source": [
        "Let's look at proportions of Survived passengers in train/test datasets. Is the original Kaggle split \"good\"?"
      ]
    },
    {
      "cell_type": "code",
      "metadata": {
        "lines_to_next_cell": 2,
        "id": "_ifbf7CfTwIK"
      },
      "source": [
        "dim(data_train)\n",
        "dim(data_test)\n",
        "\n",
        "data_train %>%\n",
        "  count(Survived ) %>%\n",
        "  mutate(prop = n/sum(n))\n",
        "\n",
        "# We do not have Survived vairable in the testing data ...\n",
        "  data_test %>%\n",
        "  count(Survived ) %>%\n",
        "  mutate(prop = n/sum(n))"
      ],
      "execution_count": null,
      "outputs": []
    },
    {
      "cell_type": "markdown",
      "metadata": {
        "id": "48Z7x2nRxDAS"
      },
      "source": [
        "We can not use 'titanic_test' in the analysis, it's just for competition purpose."
      ]
    },
    {
      "cell_type": "code",
      "metadata": {
        "id": "l8xIrQLixP4f"
      },
      "source": [],
      "execution_count": null,
      "outputs": []
    },
    {
      "cell_type": "markdown",
      "metadata": {
        "id": "3fqAlSLtTwIL"
      },
      "source": [
        "## Logistic regression by Tidymodels\n",
        "\n",
        "* Based on case study by Julia Silge: https://www.tidymodels.org/start/case-study\n",
        "\n",
        "* And book Tidy Modeling with R from Max Kuhn and Julia Silge https://www.tmwr.org/workflows.html\n",
        "\n",
        "\n",
        "\n"
      ]
    },
    {
      "cell_type": "markdown",
      "metadata": {
        "id": "_eS_TwrZrYSl"
      },
      "source": [
        "### Prepare Train-Validation datasets (Independent observations)\n",
        "\n",
        "Sometimes Test set is called validation and Validation is called Test. Only training remains traing."
      ]
    },
    {
      "cell_type": "markdown",
      "metadata": {
        "id": "dVBGvDkuv6o1"
      },
      "source": [
        "![obrazek.png](data:image/png;base64,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)"
      ]
    },
    {
      "cell_type": "markdown",
      "metadata": {
        "id": "WRHNVKVDv_Zu"
      },
      "source": [
        "In our case, Testing dataset was created by Kaggle. Unfortunately, it's a\n",
        "dataset from the competition, so to evaluate your final model on this testing data, you have to upload your predictions on Kaggle.\n",
        "\n",
        "We will work with the `titanic_train` data as the only one we have. To train and validation set to keep 10% of traing data \"blind for a moment\"."
      ]
    },
    {
      "cell_type": "code",
      "metadata": {
        "id": "6cpha9sFxtsx"
      },
      "source": [
        "set.seed(42)\n",
        "splits               <- initial_split(data_train, strata = Survived,prop = 0.90)\n",
        "data_train0           <- training(splits)\n",
        "data_validation0      <- testing(splits)\n",
        "\n",
        "# training set proportions by Survived\n",
        "data_train0 %>%\n",
        "  count(Survived) %>%\n",
        "  mutate(prop = n/sum(n))\n",
        "\n",
        "# test set proportions by Survived\n",
        "data_validation0  %>%\n",
        "  count(Survived) %>%\n",
        "  mutate(prop = n/sum(n))"
      ],
      "execution_count": null,
      "outputs": []
    },
    {
      "cell_type": "code",
      "metadata": {
        "id": "EML84h42yx2S"
      },
      "source": [],
      "execution_count": null,
      "outputs": []
    },
    {
      "cell_type": "markdown",
      "source": [
        "**Questions**:\n",
        "\n",
        "*   What is the \"optimal\" spliting ration and why? Train/Test/\n",
        "*   Why and when is important to use 'strata' (stratified split)?\n",
        "*   Why and when is important to shuffle (shuffle split)?"
      ],
      "metadata": {
        "id": "b00CjPu1HE9N"
      }
    },
    {
      "cell_type": "markdown",
      "metadata": {
        "id": "UDv1ZQo5xtsy"
      },
      "source": [
        "Now let's reserve  20% of the original `titanic_train` aka 'data_train' for our validation set."
      ]
    },
    {
      "cell_type": "code",
      "metadata": {
        "lines_to_next_cell": 2,
        "id": "6q9MbgtYxtsy"
      },
      "source": [
        "set.seed(42)\n",
        "val_set <- validation_split(data_train,\n",
        "                            strata = Survived,\n",
        "                            prop = 0.80)\n"
      ],
      "execution_count": null,
      "outputs": []
    },
    {
      "cell_type": "markdown",
      "metadata": {
        "id": "hWBqlNRjxtsz"
      },
      "source": [
        "### Build the model\n",
        "\n",
        "Let's specify a penalized logistic regression model using the lasso method.\n",
        "Note that we define `penalty = tune()` so we can tune it in the next steps, and since we are using lasso method, we set `mixture = 1`."
      ]
    },
    {
      "cell_type": "code",
      "metadata": {
        "id": "jr6xCpwhxts0"
      },
      "source": [
        "lr_mod <-\n",
        "  logistic_reg(penalty = tune(), mixture = 1) %>%\n",
        "  set_engine(\"glmnet\")"
      ],
      "execution_count": null,
      "outputs": []
    },
    {
      "cell_type": "code",
      "metadata": {
        "id": "zv9YpvXXr249"
      },
      "source": [
        " # Check details about engines, mode, and penalty.\n",
        "?logistic_reg"
      ],
      "execution_count": null,
      "outputs": []
    },
    {
      "cell_type": "markdown",
      "metadata": {
        "id": "akUiK-V5oNse"
      },
      "source": [
        "Different type of engines are described:\n",
        "https://parsnip.tidymodels.org/reference/logistic_reg.html"
      ]
    },
    {
      "cell_type": "markdown",
      "metadata": {
        "id": "voPSd8L6xts1"
      },
      "source": [
        "\n",
        "### Create the recipe\n",
        "\n",
        "\n",
        "https://recipes.tidymodels.org/reference/index.html\n",
        "\n",
        "Let's preprocess the data by creating a recipe:\n",
        "\n"
      ]
    },
    {
      "cell_type": "markdown",
      "metadata": {
        "id": "iktnIjGqxts1"
      },
      "source": [
        "Once we have the recipe defined, we can estimate the parameters needed to apply it using prep()\n",
        ". In this case, that means finding the mean for height (fast) and training the nearest neighbor model to find gender and age (not so fast). Then we can use juice()\n",
        "to get that imputed data back out. (If we wanted to apply the recipe to other data, like new data we hadn’t seen before, we would use bake()\n",
        "instead.)"
      ]
    },
    {
      "cell_type": "code",
      "metadata": {
        "id": "3dK8T-ruxts2"
      },
      "source": [
        "impute_recipe <- recipe(Survived ~ ., data = data_train) %>%\n",
        "  step_impute_mean(Age) %>%\n",
        "  step_impute_knn(all_predictors()) %>%\n",
        "  update_role(PassengerId,\n",
        "              new_role = \"id\")"
      ],
      "execution_count": null,
      "outputs": []
    },
    {
      "cell_type": "code",
      "metadata": {
        "id": "HRHul6lP9wQs"
      },
      "source": [
        "summary(impute_recipe)"
      ],
      "execution_count": null,
      "outputs": []
    },
    {
      "cell_type": "code",
      "metadata": {
        "id": "sHe9dFDAyq0W"
      },
      "source": [
        "summary(data_train)\n",
        "dim(data_train)"
      ],
      "execution_count": null,
      "outputs": []
    },
    {
      "cell_type": "code",
      "metadata": {
        "id": "ddhFLS6-xQRV"
      },
      "source": [
        "train_imp <- impute_recipe %>% # use the recipe object\n",
        "            prep() %>%      # perform the recipe on training data\n",
        "            juice()         # extract only the preprocessed dataframe\n",
        "summary(train_imp)\n",
        "dim(train_imp)"
      ],
      "execution_count": null,
      "outputs": []
    },
    {
      "cell_type": "code",
      "metadata": {
        "id": "doGFdG_szm06"
      },
      "source": [
        "test_imp <- impute_recipe %>% # use the recipe object\n",
        "            prep() %>%       # perform the recipe\n",
        "            bake(new_data =data_test)\n",
        "summary(test_imp)\n"
      ],
      "execution_count": null,
      "outputs": []
    },
    {
      "cell_type": "markdown",
      "source": [
        "Other preprocessing options:"
      ],
      "metadata": {
        "id": "eQ5RIIEEOoDn"
      }
    },
    {
      "cell_type": "code",
      "metadata": {
        "id": "ay1FgQmBxts2"
      },
      "source": [
        "# ? step_zv        # remove variables that contain only a single value\n",
        "# ? step_normalize # normalize numeric data to have a standard deviation of one and a mean of zero\n",
        "# ? step_dummy     # convert nominal data (e.g. character or factors) into one or more numeric binary model terms for the levels of the original data\n",
        "# step_zv          # removes any numeric variables that have zero variance.\n",
        "# step_corr        # will remove predictor variables that have large correlations with other predictor variables.\n",
        "# step_novel       # will assign a previously unseen factor level to a new value.\n"
      ],
      "execution_count": null,
      "outputs": []
    },
    {
      "cell_type": "markdown",
      "source": [
        "Update existing recipe:"
      ],
      "metadata": {
        "id": "OaFlXsBbOwjD"
      }
    },
    {
      "cell_type": "code",
      "metadata": {
        "id": "Lt2ncADkxts3"
      },
      "source": [
        "lr_recipe <- impute_recipe %>%\n",
        "   update_role(Survived, new_role = \"outcome\") %>%\n",
        "   update_role(Pclass,Sex,Age,Fare,Embarked,Relatives  , new_role = \"predictor\") %>%\n",
        "   update_role(PassengerId, new_role = \"id\") %>%\n",
        "   #step_naomit(everything(), skip = TRUE) %>%\n",
        "   #step_novel(all_nominal(), -all_outcomes()) %>%\n",
        "   step_normalize(all_numeric(), -all_outcomes(),-PassengerId) %>%\n",
        "   step_dummy(all_nominal(), -all_outcomes()) %>%\n",
        "   step_zv(all_numeric(), -all_outcomes()) %>%\n",
        "   step_corr(all_predictors(), threshold = 0.9, method = \"spearman\")"
      ],
      "execution_count": null,
      "outputs": []
    },
    {
      "cell_type": "code",
      "metadata": {
        "id": "qr7oHzNg9Xvc"
      },
      "source": [],
      "execution_count": null,
      "outputs": []
    },
    {
      "cell_type": "code",
      "metadata": {
        "id": "z9sw730UAFmj"
      },
      "source": [
        "summary(lr_recipe)\n"
      ],
      "execution_count": null,
      "outputs": []
    },
    {
      "cell_type": "code",
      "metadata": {
        "id": "wAz1UKvbTwIS"
      },
      "source": [
        "titanic_train_prep <-   lr_recipe %>% # use the recipe object\n",
        "                        prep() %>% # perform the recipe on training data\n",
        "                        juice() # extract only the preprocessed dataframe\n",
        "\n",
        "glimpse(titanic_train_prep)\n",
        "summary(titanic_train_prep)"
      ],
      "execution_count": null,
      "outputs": []
    },
    {
      "cell_type": "markdown",
      "metadata": {
        "id": "u4xIXrQVTwIS"
      },
      "source": [
        "### Create the workflow\n",
        "\n",
        "Let's bundle the model and recipe into a single `workflow()`:"
      ]
    },
    {
      "cell_type": "code",
      "metadata": {
        "id": "WNj5egnBTwIT"
      },
      "source": [
        "lr_workflow <-\n",
        "  workflow() %>%\n",
        "  add_recipe(lr_recipe) %>%\n",
        "  add_model(lr_mod)\n"
      ],
      "execution_count": null,
      "outputs": []
    },
    {
      "cell_type": "markdown",
      "metadata": {
        "id": "FYxd3gzNTwIT"
      },
      "source": [
        "### Create the grid for tuning\n",
        "\n",
        "Let's tune our model by creating a grid with 30 values for the hyperparameter we would like to tune.\n",
        "\n",
        "Penalty with `alpha=1` is the lasso penalty, and `alpha=0` the ridge penalty."
      ]
    },
    {
      "cell_type": "code",
      "metadata": {
        "id": "-udsP611-EVr"
      },
      "source": [],
      "execution_count": null,
      "outputs": []
    },
    {
      "cell_type": "markdown",
      "metadata": {
        "id": "rPHuTB-n-GKW"
      },
      "source": [
        "L1 x L2 regularization should only be used when you don’t understand the substance of your model very well and you want to  avoid overfitting."
      ]
    },
    {
      "cell_type": "code",
      "metadata": {
        "id": "vMIAFIJ0TwIT"
      },
      "source": [
        "lr_reg_grid <- tibble(penalty = 10^seq(-4, -1, length.out = 30))\n",
        "lr_reg_grid %>% top_n(-3) # lowest penalty values\n",
        "lr_reg_grid %>% top_n(3)  # highest penalty values"
      ],
      "execution_count": null,
      "outputs": []
    },
    {
      "cell_type": "markdown",
      "metadata": {
        "id": "3gIigIKETwIU"
      },
      "source": [
        "### Train and tune the model\n",
        "\n",
        "Let's train all these logistic regression models with 30 different hyperparameter values.\n",
        "We provide the validation set `val_set`, so model diagnostics computed on `val_set` will be available after the fit."
      ]
    },
    {
      "cell_type": "code",
      "metadata": {
        "id": "ljBjQVg3TwIU"
      },
      "source": [
        "lr_res <-\n",
        "  lr_workflow %>%\n",
        "  tune_grid(val_set,\n",
        "            grid = lr_reg_grid,\n",
        "            control = control_grid(save_pred = TRUE, verbose = TRUE),\n",
        "            metrics = metric_set(roc_auc, accuracy, sensitivity, specificity))\n",
        "#lr_res\n",
        "\n",
        "#metrics = metric_set(roc_auc, accuracy, sensitivity, specificity),\n"
      ],
      "execution_count": null,
      "outputs": []
    },
    {
      "cell_type": "markdown",
      "metadata": {
        "id": "zHgITAkyrMOp"
      },
      "source": [
        "Collect metrices"
      ]
    },
    {
      "cell_type": "code",
      "metadata": {
        "id": "58olTv0trOs7"
      },
      "source": [
        "collect_metrics(lr_res) %>%\n",
        " pivot_wider(names_from = .metric, values_from = mean ) %>%\n",
        " arrange(desc(roc_auc))"
      ],
      "execution_count": null,
      "outputs": []
    },
    {
      "cell_type": "markdown",
      "metadata": {
        "id": "pUMsUQagTwIV"
      },
      "source": [
        "Now visualize the validation set metrics by plotting the area under the ROC curve against the range of penalty values:"
      ]
    },
    {
      "cell_type": "code",
      "metadata": {
        "id": "l_GGYG4gTwIV"
      },
      "source": [
        "lr_plot <-\n",
        "  lr_res %>%\n",
        "  collect_metrics() %>%\n",
        "  mutate(metrics = factor(.metric)) %>%\n",
        "  ggplot(aes(x = penalty, y = mean,color = metrics)) +\n",
        "  geom_point() +\n",
        "  geom_line() +\n",
        "  ylab(\"Area under the ROC Curve\") +\n",
        "  scale_x_log10(labels = scales::label_number())\n",
        "\n",
        "lr_plot"
      ],
      "execution_count": null,
      "outputs": []
    },
    {
      "cell_type": "code",
      "source": [
        "\n"
      ],
      "metadata": {
        "id": "7EddqorVSbmW"
      },
      "execution_count": null,
      "outputs": []
    },
    {
      "cell_type": "code",
      "source": [
        "lr_best <-\n",
        "  lr_res %>%\n",
        "  collect_metrics() %>%\n",
        "  filter(.metric == \"accuracy\") %>%\n",
        "  filter(mean == max(mean)) %>%\n",
        "  slice(1)\n",
        "lr_best"
      ],
      "metadata": {
        "id": "XKAq7kl2SOVi"
      },
      "execution_count": null,
      "outputs": []
    },
    {
      "cell_type": "markdown",
      "metadata": {
        "id": "8cfB17C2tCZE"
      },
      "source": [
        "K-fold cross validation"
      ]
    },
    {
      "cell_type": "code",
      "metadata": {
        "id": "1EJblhbWJjN1"
      },
      "source": [
        "train_fold <- vfold_cv(data_train,strata = \"Survived\", v = 5)\n",
        "summary(train_fold)\n",
        "#train_fold\n",
        "\n",
        "# adding parameters to workflow\n",
        "lr_fold <- lr_workflow %>%\n",
        "  tune_grid(\n",
        "    resamples = train_fold,\n",
        "    grid = lr_reg_grid,\n",
        "    metrics = metric_set(roc_auc)\n",
        "  )\n",
        " #lr_fold\n",
        " #lr_fold <- lr_workflow %>%\n",
        " # fit_resamples(\n",
        " #   resamples = train_fold,\n",
        " #   metrics = metric_set(roc_auc),\n",
        " #   control = control_resamples(save_pred = TRUE)\n",
        " # )"
      ],
      "execution_count": null,
      "outputs": []
    },
    {
      "cell_type": "code",
      "metadata": {
        "id": "WcjxCtQKvxa_"
      },
      "source": [
        "collect_metrics(lr_fold) %>%\n",
        " pivot_wider(names_from = .metric, values_from = mean ) %>%\n",
        " arrange(desc(roc_auc))"
      ],
      "execution_count": null,
      "outputs": []
    },
    {
      "cell_type": "markdown",
      "metadata": {
        "id": "38Co9nR1TwIW"
      },
      "source": [
        "Get the best values for this hyperparameter:"
      ]
    },
    {
      "cell_type": "code",
      "metadata": {
        "id": "8U-a1UQPTwIX"
      },
      "source": [
        "top_models <-\n",
        "  lr_res %>%\n",
        "  show_best(\"roc_auc\", n = 15) %>%\n",
        "  arrange(desc(mean))\n",
        "top_models"
      ],
      "execution_count": null,
      "outputs": []
    },
    {
      "cell_type": "code",
      "metadata": {
        "id": "U9nVkkh5jpdD"
      },
      "source": [
        "top_models <-\n",
        "  lr_res %>%\n",
        "  show_best(\"accuracy\", n = 15) %>%\n",
        "  arrange(desc(mean))\n",
        "top_models"
      ],
      "execution_count": null,
      "outputs": []
    },
    {
      "cell_type": "markdown",
      "metadata": {
        "id": "V06nEqw0TwIX"
      },
      "source": [
        "Let's pick candidate with a best AUC.\n"
      ]
    },
    {
      "cell_type": "code",
      "metadata": {
        "id": "nmevk1MfTwIY"
      },
      "source": [
        "lr_best <-\n",
        "  lr_fold %>%\n",
        "  collect_metrics() %>%\n",
        "  arrange(desc(mean)) %>%\n",
        "  slice(1)\n",
        "lr_best"
      ],
      "execution_count": null,
      "outputs": []
    },
    {
      "cell_type": "code",
      "metadata": {
        "id": "BsU4e8ijwsb1"
      },
      "source": [],
      "execution_count": null,
      "outputs": []
    },
    {
      "cell_type": "code",
      "metadata": {
        "id": "H5W6gZW6Oaea"
      },
      "source": [
        "lr_res %>%\n",
        "  collect_predictions(parameters = lr_best)"
      ],
      "execution_count": null,
      "outputs": []
    },
    {
      "cell_type": "markdown",
      "metadata": {
        "id": "4s4OhafGTwIY"
      },
      "source": [
        "And visualize the validation set ROC curve:"
      ]
    },
    {
      "cell_type": "code",
      "metadata": {
        "lines_to_next_cell": 2,
        "id": "SyFTEAUwTwIY"
      },
      "source": [
        "lr_auc <-\n",
        "  lr_res %>%\n",
        "  collect_predictions(parameters = lr_best) %>%\n",
        "  roc_curve(Survived, .pred_0) %>%\n",
        "  mutate(model = \"Logistic Regression - glmnet\")\n",
        "\n",
        "autoplot(lr_auc)"
      ],
      "execution_count": null,
      "outputs": []
    },
    {
      "cell_type": "code",
      "metadata": {
        "id": "RHW2RhHEx5Ko"
      },
      "source": [],
      "execution_count": null,
      "outputs": []
    },
    {
      "cell_type": "code",
      "metadata": {
        "id": "D7P7FtQix5Ub"
      },
      "source": [],
      "execution_count": null,
      "outputs": []
    },
    {
      "cell_type": "markdown",
      "metadata": {
        "id": "a5_xMTOEx5hz"
      },
      "source": [
        "## Build the model in Tidymodels by hand (expert)"
      ]
    },
    {
      "cell_type": "code",
      "metadata": {
        "id": "4Y9jBkwvzb5p"
      },
      "source": [
        "train_imp %>% mutate_if(is.character,as.factor) %>% summary()\n",
        "table(train_imp$Relatives)\n",
        "\n",
        "data_train2 <- train_imp %>%\n",
        "  transmute(survived = factor(Survived),\n",
        "            fare  = cut(Fare, breaks=c(-Inf, 7,15,30,60,120, Inf),\n",
        "             labels=c('very_low_fare', 'low_fare', 'medium_fare','moderate_fare', 'high_fare', 'very_high_fare')),\n",
        "            age    = cut(Age, breaks=c(-Inf, 15, Inf), labels=c(\"child\",\"adult\")) ,\n",
        "            class  = factor(Pclass),\n",
        "            sex    = factor(Sex),\n",
        "            embarked = factor(Embarked),\n",
        "            relatives = cut(Relatives, breaks=c(-Inf, 0.5,1.5,2.5,4.5, Inf)) %>% factor())\n",
        "\n",
        "summary(data_train2)\n",
        "str(data_train2)"
      ],
      "execution_count": null,
      "outputs": []
    },
    {
      "cell_type": "code",
      "metadata": {
        "id": "lOfa6mV-aKMh"
      },
      "source": [
        "set.seed(42)\n",
        "val2_set <- validation_split(data_train2,\n",
        "                            strata = survived,\n",
        "                            prop = 0.80)"
      ],
      "execution_count": null,
      "outputs": []
    },
    {
      "cell_type": "code",
      "metadata": {
        "id": "WgLaKMfk1Qzz"
      },
      "source": [
        "lr2_recipe <-  recipe(survived ~ ., data = data_train2) %>%\n",
        "  #step_interact(terms = ~ sex:relatives) %>%\n",
        "  #step_interact(terms = ~ fare:sex)  %>%\n",
        "  step_dummy(all_nominal(), -all_outcomes())\n",
        "lr2_recipe\n",
        "summary(lr2_recipe)\n",
        "\n"
      ],
      "execution_count": null,
      "outputs": []
    },
    {
      "cell_type": "code",
      "metadata": {
        "id": "9kiF3fc350Xw"
      },
      "source": [
        "data_train2_prep <-\n",
        "  lr2_recipe %>%\n",
        "  prep() %>%\n",
        "  juice()\n",
        " head(data_train2_prep)\n",
        "\n"
      ],
      "execution_count": null,
      "outputs": []
    },
    {
      "cell_type": "code",
      "metadata": {
        "id": "Ur7zVKxU8Xt6"
      },
      "source": [
        "# create all second order interactions (code for fun :-)\n",
        "all_interactions <-  expand.grid(names(data_train2)[-1],\n",
        "                                 (names(data_train2)[-1])) %>%\n",
        "  filter(Var1 != Var2) %>%\n",
        "  mutate(interact = paste0(\"(\", Var1, \" * \", Var2, \")\")) %>%\n",
        "  pull(interact) %>%\n",
        "  paste0(sep = \" + \") %>%\n",
        "  paste0(collapse = \"\") %>%\n",
        "  substr(1, nchar(.)-3)\n",
        "\n",
        "formula(paste0(\"survived ~ \", paste0(names(data_train2)[-1], collapse = \" + \"), \" + \", all_interactions))"
      ],
      "execution_count": null,
      "outputs": []
    },
    {
      "cell_type": "code",
      "metadata": {
        "id": "9TRtkqT_6gAW"
      },
      "source": [
        "#Define model\n",
        "lr2_mod <-\n",
        "  logistic_reg() %>%\n",
        "  set_engine(\"glm\") %>%\n",
        "  set_mode(\"classification\")\n",
        "lr2_mod\n",
        "\n",
        "#Define modelling workflow\n",
        "\n",
        "lr_workflow2 <-\n",
        "  workflow() %>%\n",
        "  add_model(lr2_mod) %>%\n",
        "  add_recipe(lr2_recipe)\n",
        "lr_workflow2"
      ],
      "execution_count": null,
      "outputs": []
    },
    {
      "cell_type": "code",
      "metadata": {
        "id": "lyQz77x9-v7S"
      },
      "source": [
        "#Fit model\n",
        "lr2_base <-\n",
        "  lr_workflow2 %>%\n",
        "  fit(data = data_train2)\n",
        "\n",
        "#Model performance:\n",
        "\n",
        "lr2_base %>%\n",
        "  pull_workflow_fit() %>%\n",
        "  tidy() %>%\n",
        "  kable(digits = 3)\n"
      ],
      "execution_count": null,
      "outputs": []
    },
    {
      "cell_type": "code",
      "metadata": {
        "id": "Gz0NYmyQ_aNU"
      },
      "source": [
        "lr2_base %>%\n",
        "  pull_workflow_fit() %>%\n",
        "  glance()"
      ],
      "execution_count": null,
      "outputs": []
    },
    {
      "cell_type": "code",
      "metadata": {
        "id": "Agf4guFK_ibB"
      },
      "source": [
        "lr2_base %>%\n",
        "  pull_workflow_fit() %>%\n",
        "  summary()"
      ],
      "execution_count": null,
      "outputs": []
    },
    {
      "cell_type": "code",
      "metadata": {
        "id": "rOnnwFDrAvcs"
      },
      "source": [
        "lr2_base"
      ],
      "execution_count": null,
      "outputs": []
    },
    {
      "cell_type": "code",
      "metadata": {
        "id": "rct18i1IB91L"
      },
      "source": [
        "#? update_model()\n",
        "lr_workflow2_mod2 <-\n",
        "   workflow() %>%\n",
        "   add_model(lr2_mod) %>%\n",
        "   #remove_formula() %>%\n",
        "   add_formula(survived ~ age+class+sex+relatives)"
      ],
      "execution_count": null,
      "outputs": []
    },
    {
      "cell_type": "code",
      "metadata": {
        "id": "OIpBEf7uEdqG"
      },
      "source": [
        "#Fit model\n",
        "lr2_mod2 <-\n",
        "  lr_workflow2_mod2 %>%\n",
        "  fit(data = data_train2)\n",
        "\n",
        "#Model performance:\n",
        "lr2_mod2 %>%\n",
        "  pull_workflow_fit %>%\n",
        "  tidy()"
      ],
      "execution_count": null,
      "outputs": []
    },
    {
      "cell_type": "code",
      "metadata": {
        "id": "ntVJFZ8jYLG8"
      },
      "source": [],
      "execution_count": null,
      "outputs": []
    },
    {
      "cell_type": "code",
      "metadata": {
        "id": "6Lw-bzovJguL"
      },
      "source": [
        "recipe_mod3 <- recipe(survived ~ age+class+sex+relatives,data = data_train2) %>%\n",
        "  step_dummy(all_nominal(), -all_outcomes())\n",
        "\n",
        "lr_workflow2_mod3 <-\n",
        "   workflow() %>%\n",
        "   add_model(lr2_mod) %>%\n",
        "   add_recipe(recipe_mod3)"
      ],
      "execution_count": null,
      "outputs": []
    },
    {
      "cell_type": "code",
      "metadata": {
        "id": "iYPVr_7VBRDg"
      },
      "source": [
        "train_fold2 <- vfold_cv(data_train2,strata = \"survived\", v = 5)\n",
        "summary(train_fold2)\n",
        "#train_fold\n",
        "\n",
        "# adding parameters to workflow\n",
        "lr_fold2 <- lr_workflow2_mod3 %>%\n",
        "  tune_grid(\n",
        "    resamples = train_fold2,\n",
        "    metrics = metric_set(roc_auc,accuracy)\n",
        "  )"
      ],
      "execution_count": null,
      "outputs": []
    },
    {
      "cell_type": "code",
      "metadata": {
        "id": "BJDF85eGKS8u"
      },
      "source": [
        " lr_best2 <-\n",
        "  lr_fold2 %>%\n",
        "  collect_metrics()\n",
        "  lr_best2"
      ],
      "execution_count": null,
      "outputs": []
    },
    {
      "cell_type": "code",
      "metadata": {
        "id": "ZvUuFai-aZCN"
      },
      "source": [
        "lr2_res <-\n",
        "  lr_workflow2_mod3 %>%\n",
        "  tune_grid(val2_set,\n",
        "            control = control_grid(save_pred = TRUE, verbose = TRUE),\n",
        "            metrics = metric_set(roc_auc, accuracy, sensitivity, specificity))\n",
        "#lr_res"
      ],
      "execution_count": null,
      "outputs": []
    },
    {
      "cell_type": "code",
      "metadata": {
        "id": "C4UbXYnaIqQG"
      },
      "source": [
        "lr2_auc <-\n",
        "  lr2_res %>%\n",
        "  collect_predictions() %>%\n",
        "  roc_curve(survived, .pred_0) %>%\n",
        "  mutate(model = \"Logistic Regression - glm\")\n",
        "\n",
        "autoplot(lr_auc)"
      ],
      "execution_count": null,
      "outputs": []
    },
    {
      "cell_type": "code",
      "metadata": {
        "id": "4CLho_9ubJTP"
      },
      "source": [
        "bind_rows(lr_auc, lr2_auc) %>%\n",
        "  ggplot(aes(x = 1 - specificity, y = sensitivity, col = model)) +\n",
        "  geom_path(lwd = 1.5, alpha = 0.8) +\n",
        "  geom_abline(lty = 3) +\n",
        "  coord_equal() +\n",
        "  scale_color_viridis_d(option = \"plasma\", end = .6)"
      ],
      "execution_count": null,
      "outputs": []
    },
    {
      "cell_type": "markdown",
      "metadata": {
        "id": "c8FU0GbxQtDJ"
      },
      "source": [
        "## More models to compare by 'workflow_set'\n"
      ]
    },
    {
      "cell_type": "code",
      "metadata": {
        "id": "9tKSz2XzQ0Ac"
      },
      "source": [
        "library(workflowsets)"
      ],
      "execution_count": null,
      "outputs": []
    },
    {
      "cell_type": "markdown",
      "metadata": {
        "id": "Q23a-gz1zgoi"
      },
      "source": [
        "It's useful if you have more methods, or \"follow-up\" pipeline. This Example is just for academic purpose."
      ]
    },
    {
      "cell_type": "code",
      "metadata": {
        "id": "ZbbonU19Ltg1"
      },
      "source": [
        "mod1_recipe <-  recipe(survived ~  ., data = data_train2) %>%\n",
        "  step_dummy(all_nominal(), -all_outcomes())\n",
        "\n",
        "mod2_recipe <-  recipe(survived ~  age+class+sex+relatives+embarked, data = data_train2) %>%\n",
        "  step_dummy(all_nominal(), -all_outcomes())\n",
        "\n",
        "mod3_recipe <-  recipe(survived ~  age+class+sex+relatives, data = data_train2) %>%\n",
        "  step_dummy(all_nominal(), -all_outcomes())\n",
        "\n",
        "# ------------------------------------------------------------------------------\n",
        "preproc <-\n",
        "  list(mod1 = mod1_recipe,\n",
        "       mod2 = mod2_recipe,\n",
        "       mod3 = mod3_recipe\n",
        "  )\n",
        "\n",
        "lr_mod <-\n",
        "   logistic_reg() %>%\n",
        "   set_engine(\"glm\")\n",
        "\n",
        "models <- list(logistic = lr_mod)\n",
        "# ------------------------------------------------------------------------------\n",
        "\n",
        "\n",
        "glm_models <- workflow_set(preproc, models, cross = T)\n",
        "#glm_models\n",
        "\n",
        "data_train2_folds <- vfold_cv(data_train2, v = 5)\n",
        "\n"
      ],
      "execution_count": null,
      "outputs": []
    },
    {
      "cell_type": "code",
      "metadata": {
        "id": "xNzSQdDeVRCq"
      },
      "source": [
        "glm_models_res <-\n",
        "   glm_models %>%\n",
        "   workflow_map(resamples = data_train2_folds, grid = 10, seed = 2, verbose = TRUE)"
      ],
      "execution_count": null,
      "outputs": []
    },
    {
      "cell_type": "code",
      "metadata": {
        "id": "Ov433OUKVpf1"
      },
      "source": [
        "collect_metrics(glm_models_res)"
      ],
      "execution_count": null,
      "outputs": []
    },
    {
      "cell_type": "code",
      "metadata": {
        "id": "19wjdlKQVpkL"
      },
      "source": [
        "autoplot(glm_models_res, metric = \"roc_auc\")\n",
        "autoplot(glm_models_res, metric = \"accuracy\")"
      ],
      "execution_count": null,
      "outputs": []
    },
    {
      "cell_type": "code",
      "metadata": {
        "id": "tLdxTPNZXEOF"
      },
      "source": [],
      "execution_count": null,
      "outputs": []
    }
  ]
}