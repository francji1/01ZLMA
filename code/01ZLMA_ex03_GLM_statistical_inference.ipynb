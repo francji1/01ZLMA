{
  "nbformat": 4,
  "nbformat_minor": 0,
  "metadata": {
    "colab": {
      "private_outputs": true,
      "provenance": [],
      "include_colab_link": true
    },
    "kernelspec": {
      "name": "python3",
      "display_name": "Python 3"
    },
    "language_info": {
      "name": "python"
    }
  },
  "cells": [
    {
      "cell_type": "markdown",
      "metadata": {
        "id": "view-in-github",
        "colab_type": "text"
      },
      "source": [
        "<a href=\"https://colab.research.google.com/github/francji1/01ZLMA/blob/main/code/01ZLMA_ex03_GLM_statistical_inference.ipynb\" target=\"_parent\"><img src=\"https://colab.research.google.com/assets/colab-badge.svg\" alt=\"Open In Colab\"/></a>"
      ]
    },
    {
      "cell_type": "markdown",
      "metadata": {
        "id": "x-i6MbNFm4Zt"
      },
      "source": [
        "# 01ZLMA - Exercise 03\n",
        "Exercise 03 of the course 01ZLMA.\n",
        "\n",
        "## Contents\n",
        "\n",
        "* Statistical Inference\n",
        " ---\n",
        "* Testing\n",
        " ---\n",
        "\n",
        "\n"
      ]
    },
    {
      "cell_type": "markdown",
      "metadata": {
        "id": "593Mg4ZbbeEE"
      },
      "source": [
        "#  Necessary theory recap from Lecture 04\n",
        "\n",
        "Under the conditions of regularity holds\n",
        "\n",
        "1.  $ \\ U(\\beta) \\sim N_{p}(0,I(\\beta)) \\Rightarrow  I^{-\\frac{1}{2}}(\\beta)\\, U(\\beta) {\\stackrel{D}{\\longrightarrow}} N_{p}(0, 1)$\n",
        "2. $ U(\\beta)I^{-1}(\\beta)U(\\beta)\\sim \\chi^{2}(p) \\Rightarrow U(\\beta)^T I^{-1}(\\beta)U(\\beta)  {\\stackrel{D}{\\longrightarrow}} \\chi^{2}(p)$\n",
        "3. Consistency of $\\hat{\\beta}$ and Wald statistics: \\\\\n",
        " $\\hat{\\beta}\\sim N_{p}(\\beta,I^{-1}(\\beta)) \\Rightarrow\n",
        "(\\hat{\\beta}-\\beta)^T I(\\beta)(\\hat{\\beta}-\\beta) {\\stackrel{D}{\\longrightarrow}} \\chi^{2}(p)$\n",
        "\n"
      ]
    },
    {
      "cell_type": "markdown",
      "metadata": {
        "id": "w2c7jDIXSGGL"
      },
      "source": [
        "Saturated and null model\n",
        "\n",
        "* Null model: $\\mu_i = \\mu, \\forall i \\in \\{1, \\ldots , n\\}$ \\\\\n",
        "The Null Model assumes one parameter for all of the data points, which means you only estimate 1 parameter.\n",
        "* Saturated model: $Y_i = \\hat{\\mu_i}, \\forall i \\in \\{1, \\ldots , n\\}$ \\\\\n",
        "The Saturated Model is a model that assumes each data point has its own parameters, which means you have n parameters to estimate.\n",
        "* Proposed Model:  model, where you try to explain your data points with $p$ parameters + an intercept term, so you have p+1 parameters, where $1 \\leq p \\leq n$.\n",
        "\n",
        "Questions:\n",
        "* What is the difference between null and saturated model?\n",
        "* Which model has greater log-likelihoood value?\n",
        "* Which model has the highest log-likelihood value?\n",
        "* What can you say about asymptotic distributions of $\\hat{\\beta}$ and $U(\\hat{\\beta})$ for saturated model?"
      ]
    },
    {
      "cell_type": "markdown",
      "metadata": {
        "id": "um9ho8cQHobx"
      },
      "source": [
        "## Let's code"
      ]
    },
    {
      "cell_type": "code",
      "source": [
        "# Load the R magic extension\n",
        "%load_ext rpy2.ipython"
      ],
      "metadata": {
        "id": "KjavPJptNt0j"
      },
      "execution_count": null,
      "outputs": []
    },
    {
      "cell_type": "code",
      "metadata": {
        "id": "wV3e4NaLbVZg"
      },
      "source": [
        "%%R\n",
        "library(tidyverse)\n",
        "library(lubridate)\n",
        "library(MASS)\n",
        "\n",
        "#For sure: set dplyr functions\n",
        "select    <- dplyr::select;\n",
        "rename    <- dplyr::rename;\n",
        "mutate    <- dplyr::mutate;\n",
        "summarize <- dplyr::summarize;\n",
        "arrange   <- dplyr::arrange;\n",
        "slice     <- dplyr::slice;\n",
        "filter    <- dplyr::filter;\n",
        "recode    <- dplyr::recode"
      ],
      "execution_count": null,
      "outputs": []
    },
    {
      "cell_type": "markdown",
      "metadata": {
        "id": "L-kZTsg7FZoM"
      },
      "source": [
        "Use Example 2 from the last Exercise 02"
      ]
    },
    {
      "cell_type": "code",
      "metadata": {
        "id": "mZlx_DRmNlls"
      },
      "source": [
        "%%R -o Y\n",
        "n  = 20 # n observations\n",
        "m  = 2 # m parameters to estimate\n",
        "X1 = rep(rep(1,n),1)  # Intercept\n",
        "X2 = rep(seq(1,n,1),1) # Regressors\n",
        "X  = cbind(X1,log(X2))\n",
        "colnames(X) = c(\"intercept\",\"X\")\n",
        "beta = c(0.9, 1.3) # Regression coefficients\n",
        "lamdas = exp(X%*%beta) # Means\n",
        "Y  = rpois(n,lamdas) # Response variable with Poisson distribution\n"
      ],
      "execution_count": null,
      "outputs": []
    },
    {
      "cell_type": "code",
      "source": [
        "\n"
      ],
      "metadata": {
        "id": "eIBKJmElWNz9"
      },
      "execution_count": null,
      "outputs": []
    },
    {
      "cell_type": "code",
      "source": [],
      "metadata": {
        "id": "TYViom_8RnUt"
      },
      "execution_count": null,
      "outputs": []
    },
    {
      "cell_type": "code",
      "metadata": {
        "id": "dDEl06ReNltJ"
      },
      "source": [
        "%%R\n",
        "model <- glm(formula=Y~log(X2),family=poisson(link = \"log\"))\n",
        "summary(model)\n",
        "\n",
        "beta.e <- coefficients(model); beta.e  # Estimated parameters\n",
        "y.hat  <- model$fitted.values # Fitted values (Estimation of response)\n",
        "\n",
        "## Plot original data points and estimation values\n",
        "plot(X2,Y, col=\"red\", cex=1.5, lwd=2,\n",
        "      main=\"Poisson model\",\n",
        "      xlab=\"Year Quoter\",\n",
        "      ylab=\"Number of cases\",\n",
        "      cex.lab=1.2)\n",
        "lines(unique(y.hat), col=\"blue\", type = \"l\", lwd=3)\n",
        "text <- c(\"model\", \"data\")\n",
        "legend(x=1, y=160, text, col = c(4,2), bty=\"n\", lwd = 2,  cex=1.3, lty=c(1,0))\n"
      ],
      "execution_count": null,
      "outputs": []
    },
    {
      "cell_type": "code",
      "metadata": {
        "id": "jU_eFKcbWMUy"
      },
      "source": [],
      "execution_count": null,
      "outputs": []
    },
    {
      "cell_type": "markdown",
      "source": [
        "Repetition using custom function:"
      ],
      "metadata": {
        "id": "3N8x-oi3HAKK"
      }
    },
    {
      "cell_type": "code",
      "metadata": {
        "id": "T477n--PWMXz"
      },
      "source": [
        "%%R\n",
        "# function to calcualate weights W\n",
        "calc_W_inv <- function(X,beta){\n",
        "  n = length(X[,1])\n",
        "  W = diag(c(exp(X%*%beta)),n,n)\n",
        "  return(W)\n",
        "}"
      ],
      "execution_count": null,
      "outputs": []
    },
    {
      "cell_type": "code",
      "metadata": {
        "id": "xcA9wuh1WMtL"
      },
      "source": [
        "%%R\n",
        "# function to calcualate weights Z\n",
        "calc_Z <- function(X,Y,beta){\n",
        "  Z = X%*%(beta) + (Y-exp(X%*%beta))/exp(X%*%beta)\n",
        "  return(Z)\n",
        " }"
      ],
      "execution_count": null,
      "outputs": []
    },
    {
      "cell_type": "code",
      "metadata": {
        "id": "igkUvl36XAGV"
      },
      "source": [
        "%%R\n",
        "# IWLS for example 2\n",
        "IWLS <- function(X,Y,beta_init,maxiter,epsilon){\n",
        "  result <- list(FM=NA, SV=NA, betas=NA)\n",
        "  # Fisher-scoring algorithm\n",
        "  i <- 1     # first iteration\n",
        "  convergence <- F\n",
        "  beta_i <- beta_init\n",
        "\n",
        "\n",
        "  while (convergence == F & i <= maxiter){\n",
        "    W = calc_W_inv(X,beta_i)\n",
        "    Z = calc_Z(X,Y,beta_i)\n",
        "    beta_pred = beta_i\n",
        "    beta_i = solve(t(X)%*%W%*%X, t(X)%*%W%*%Z)\n",
        "    diff   = max(abs(beta_i - beta_pred))\n",
        "    if (diff>=epsilon){\n",
        "      i <- i+1\n",
        "    }\n",
        "    else\n",
        "      convergence <- T\n",
        "    }\n",
        "    W    <- calc_W_inv(X,beta_i)\n",
        "    Z = calc_Z(X,Y,beta_i)\n",
        "    result$SV <- t(X)%*%W%*%Z\n",
        "    result$FM <- t(X)%*%W%*%X\n",
        "    result$betas <- solve(t(X)%*%W%*%X, t(X)%*%W%*%Z)\n",
        "\n",
        "  return(result)\n",
        "}"
      ],
      "execution_count": null,
      "outputs": []
    },
    {
      "cell_type": "code",
      "metadata": {
        "id": "1VDw0-mqZF7x"
      },
      "source": [],
      "execution_count": null,
      "outputs": []
    },
    {
      "cell_type": "code",
      "metadata": {
        "id": "tS1s7akiXAJJ"
      },
      "source": [
        "%%R\n",
        "# Estimation of betas\n",
        "result1 <- IWLS(X,Y,c(1,1),100,10^(-6))\n",
        "print(paste(\"Estimation of parameters: \",result1$betas      ))\n",
        "#result1$FM         # Estimated Fisher information matrix\n",
        "solve(result1$FM)  # Estimated covariance matrix  = Inverse of estimated Fisher information matrix\n",
        "print(paste(\"Score Vector\", result1$SV))\n"
      ],
      "execution_count": null,
      "outputs": []
    },
    {
      "cell_type": "code",
      "source": [],
      "metadata": {
        "id": "VxLtwSFBSIUI"
      },
      "execution_count": null,
      "outputs": []
    },
    {
      "cell_type": "markdown",
      "source": [
        "Comparison of our custom solution with the built in glm function:"
      ],
      "metadata": {
        "id": "PEUlAqmFH_mB"
      }
    },
    {
      "cell_type": "code",
      "metadata": {
        "id": "6E-UbtQQXALw"
      },
      "source": [
        "%%R\n",
        "model <- glm(formula=Y~log(X2),family=poisson(link = \"log\"))\n",
        "summary(model)\n",
        "s_mod <- summary.glm(model)\n",
        "# the unscaled (dispersion = 1) estimated covariance matrix of the estimated coefficients.\n",
        "print(s_mod)\n",
        "FIM1 <- s_mod$cov.unscaled\n",
        "FIM1\n"
      ],
      "execution_count": null,
      "outputs": []
    },
    {
      "cell_type": "code",
      "source": [],
      "metadata": {
        "id": "jelMZ8qTTfEq"
      },
      "execution_count": null,
      "outputs": []
    },
    {
      "cell_type": "code",
      "source": [
        "import numpy as np\n",
        "import pandas as pd\n",
        "import statsmodels.api as sm\n",
        "\n",
        "# Re-create data\n",
        "X = np.arange(1, 21, 1)\n",
        "#Y = np.array([1, 6, 16, 23, 27, 39, 31, 30, 43, 51, 63, 70, 88, 97, 91, 104, 110, 113, 149, 159])\n",
        "data = pd.DataFrame({'X': X, 'log_X': np.log(X), 'Y': Y})\n",
        "\n",
        "# Fit the Poisson regression model in Python equivalent to R's glm\n",
        "#data = pd.DataFrame({'intercept': X[:,0], 'log_X': X[:,1], 'Y': Y})\n",
        "#model = sm.GLM(data['Y'], data[['intercept', 'log_X']], family=sm.families.Poisson(link=sm.families.links.log())).fit()\n",
        "model = sm.GLM(data['Y'], sm.add_constant(data['log_X']), family=sm.families.Poisson(link=sm.families.links.log())).fit()\n",
        "\n",
        "print(model.summary())\n",
        "# The unscaled estimated covariance matrix of the estimated coefficients (equivalent to s_mod$cov.unscaled in R)\n",
        "FIM1 = model.cov_params(scale=1)  # scale=1 for unscaled\n",
        "FIM1"
      ],
      "metadata": {
        "id": "r4ZrrQr0OTH1"
      },
      "execution_count": null,
      "outputs": []
    },
    {
      "cell_type": "code",
      "source": [],
      "metadata": {
        "id": "AbC8ybyWQH1f"
      },
      "execution_count": null,
      "outputs": []
    },
    {
      "cell_type": "code",
      "source": [],
      "metadata": {
        "id": "g5u0K6teQJp6"
      },
      "execution_count": null,
      "outputs": []
    },
    {
      "cell_type": "code",
      "source": [],
      "metadata": {
        "id": "qOWx3CAvRvHd"
      },
      "execution_count": null,
      "outputs": []
    },
    {
      "cell_type": "code",
      "source": [
        "\n"
      ],
      "metadata": {
        "id": "ilT5HKcoOTKg"
      },
      "execution_count": null,
      "outputs": []
    },
    {
      "cell_type": "code",
      "source": [
        "import matplotlib.pyplot as plt\n",
        "\n",
        "# Predicted values from the model\n",
        "data['y_hat'] = model.predict(X_with_constant)\n",
        "\n",
        "# Plotting the original data and the model predictions\n",
        "plt.figure(figsize=(8, 6))\n",
        "plt.scatter(data['X'], data['Y'], color='red', s=100, label='Data', zorder=5)  # Original data\n",
        "plt.plot(data['X'], data['y_hat'], color='blue', linewidth=3, label='Poisson model')  # Model predictions\n",
        "\n",
        "# Additional plot settings\n",
        "plt.title(\"Poisson Model\", fontsize=16)\n",
        "plt.xlabel(\"Quarter Number\", fontsize=14)\n",
        "plt.ylabel(\"Number of New Cases\", fontsize=14)\n",
        "plt.legend()\n",
        "plt.grid(True)\n",
        "plt.show()\n"
      ],
      "metadata": {
        "id": "5-Z3uk9JOTNJ"
      },
      "execution_count": null,
      "outputs": []
    },
    {
      "cell_type": "code",
      "source": [
        "\n"
      ],
      "metadata": {
        "id": "CCnHTxbROIgB"
      },
      "execution_count": null,
      "outputs": []
    },
    {
      "cell_type": "markdown",
      "metadata": {
        "id": "q7vo_sJaOFiL"
      },
      "source": [
        "Asymptotics:\n",
        "\n",
        "* $ (\\hat{\\beta} - \\beta) \\sim N_{p}(0, I^{-1}(\\beta))$\n",
        "* Estimated Fisher information matrix  $\\hat{I}(\\hat{\\beta}) = (X^T \\hat{W} X)$  matrix.\n",
        "*  Estimated covariance matrix $\\hat{V} (\\hat{\\beta}) = (X^T \\hat{W} X)^{-1}$"
      ]
    },
    {
      "cell_type": "code",
      "metadata": {
        "id": "kB52Ef03Z7uO"
      },
      "source": [
        "%%R\n",
        "n = 10\n",
        "repet = 50\n",
        "n_observ = c(1,2,5,10,100, 500)\n",
        "betas_hat = list(matrix(NA,repet,2),matrix(NA,repet,2),matrix(NA,repet,2),matrix(NA,repet,2),matrix(NA,repet,2),matrix(NA,repet,2))\n",
        "\n",
        "for (i in 1:length(n_observ)){\n",
        "  for (j in c(1:repet)){\n",
        "  X1 = rep(rep(1,n),1)\n",
        "  X2 = rep(seq(1,n,1),n_observ[i])\n",
        "  X  = cbind(X1,log(X2))\n",
        "  beta = c(0.9, 1.3)\n",
        "  lamdas = exp(X%*%beta) # Means\n",
        "  Y  = rpois(n*n_observ[i],lamdas)\n",
        " # betas_hat[[i]][j,] <- IWLS(X,Y,c(1,1),1000,10^(-8))$betas\n",
        "  betas_hat[[i]][j,] <- glm(formula=Y~log(X2),family=poisson(link = \"log\"))$coeff\n",
        "  }\n",
        "}\n",
        "\n"
      ],
      "execution_count": null,
      "outputs": []
    },
    {
      "cell_type": "code",
      "metadata": {
        "id": "nkafuLnXZ7xG"
      },
      "source": [
        "%%R\n",
        "for (i in 1:length(n_observ)){\n",
        "print(paste(\"Number of observations:\",n_observ[i]*n))\n",
        "print(cov(betas_hat[[i]] - beta))\n",
        "print(mean(betas_hat[[i]] - beta))\n",
        "}"
      ],
      "execution_count": null,
      "outputs": []
    },
    {
      "cell_type": "code",
      "metadata": {
        "id": "Uq1y3I7GUK6r"
      },
      "source": [
        "import numpy as np\n",
        "import pandas as pd\n",
        "import statsmodels.api as sm\n",
        "from scipy.stats import poisson\n",
        "\n",
        "# Parameters\n",
        "n = 10\n",
        "repet = 50\n",
        "n_observ = np.array([1, 2, 5, 10, 100, 500])\n",
        "beta = np.array([0.9, 1.3])\n",
        "betas_hat = [np.empty((repet, 2)) for _ in range(len(n_observ))]\n",
        "\n",
        "# Simulation\n",
        "for i, n_obs in enumerate(n_observ):\n",
        "    for j in range(repet):\n",
        "        X1 = np.ones(n * n_obs)\n",
        "        X2 = np.tile(np.arange(1, n + 1), n_obs)\n",
        "        X = np.column_stack((X1, np.log(X2)))\n",
        "        lamdas = np.exp(X @ beta)\n",
        "        Y = poisson.rvs(lamdas)\n",
        "        model = sm.GLM(Y, X, family=sm.families.Poisson(link=sm.families.links.log())).fit()\n",
        "        betas_hat[i][j, :] = model.params\n",
        "\n",
        "mse_betas = np.empty((len(n_observ), 2))\n",
        "\n",
        "# Results\n",
        "for i, n_obs in enumerate(n_observ):\n",
        "    cov_betas = np.cov(betas_hat[i] - beta, rowvar=False)\n",
        "    mean_betas = np.mean(betas_hat[i] - beta, axis=0)\n",
        "    errors = betas_hat[i] - beta  # Errors for all repetitions at current observation level\n",
        "    mse_betas[i] = np.mean(errors**2, axis=0)  # Mean squared error for each parameter\n",
        "    print(f'Number of observations: {n_obs * n}')\n",
        "    print('Covariance of estimated coefficients from the true values:\\n', cov_betas)\n",
        "    print('Mean error of  estimated coefficients from the true values:\\n', mean_betas)\n"
      ],
      "execution_count": null,
      "outputs": []
    },
    {
      "cell_type": "code",
      "source": [
        "import matplotlib.pyplot as plt\n",
        "\n",
        "plt.figure(figsize=[10, 6])\n",
        "plt.plot(n_observ * n, mse_betas[:, 0], 'o-', label='Intercept (Beta 1)')\n",
        "plt.plot(n_observ * n, mse_betas[:, 1], 's-', label='Slope (Beta 2)')\n",
        "plt.xlabel('Number of Observations')\n",
        "plt.ylabel('Mean Squared Error')\n",
        "plt.title('MSE of Estimated Coefficients for Different Sample Sizes')\n",
        "plt.legend()\n",
        "plt.grid(True)\n",
        "plt.show()\n"
      ],
      "metadata": {
        "id": "j294bQpCxLFj"
      },
      "execution_count": null,
      "outputs": []
    },
    {
      "cell_type": "markdown",
      "metadata": {
        "id": "2TjcOg79UPRM"
      },
      "source": [
        "## Hypothesis testing\n",
        "\n",
        "Use the model from the beginning again."
      ]
    },
    {
      "cell_type": "code",
      "metadata": {
        "id": "8rwWB0Grrmnt"
      },
      "source": [
        "%%R\n",
        "n  = 20\n",
        "m  = 2\n",
        "X1 = rep(rep(1,n),m)\n",
        "X2 = rep(seq(1,n,1),m)\n",
        "X  = cbind(X1,log(X2))\n",
        "beta = c(0.9, 1.3)\n",
        "lamdas = exp(X%*%beta) # Means\n",
        "Y  = rpois(n*m,lamdas)\n"
      ],
      "execution_count": null,
      "outputs": []
    },
    {
      "cell_type": "code",
      "metadata": {
        "id": "2opFFdr0UfhS"
      },
      "source": [
        "%%R\n",
        "model <- glm(formula=Y~log(X2),family=poisson(link = \"log\"))\n",
        "#s_mod <- summary(model)\n",
        "s_mod <- summary.glm(model)\n",
        "summary.glm(model)\n",
        "# the unscaled (dispersion = 1) estimated covariance matrix of the estimated coefficients.\n",
        "FIM1 <- s_mod$cov.unscaled\n",
        "FIM1"
      ],
      "execution_count": null,
      "outputs": []
    },
    {
      "cell_type": "markdown",
      "metadata": {
        "id": "aR3DTTTWV94T"
      },
      "source": [
        "Calculation of Z value\n",
        " $$Z_i = \\frac{\\hat{\\beta_i}}{(I^{-1}(\\hat{\\beta_i}))_{ii}}$$"
      ]
    },
    {
      "cell_type": "code",
      "metadata": {
        "id": "lv8guvybUK-E"
      },
      "source": [
        "%%R\n",
        "# Testing statistics from summary table\n",
        "s_mod$coefficients;\n"
      ],
      "execution_count": null,
      "outputs": []
    },
    {
      "cell_type": "code",
      "source": [
        "%%R\n",
        "# By definition\n",
        "z_stat = model$coeff/sqrt(diag(s_mod$cov.unscaled))\n",
        "z_stat\n",
        "z_stat == s_mod$coefficients[,1]/s_mod$coefficients[,2];"
      ],
      "metadata": {
        "id": "dNjECz1FNw_c"
      },
      "execution_count": null,
      "outputs": []
    },
    {
      "cell_type": "code",
      "source": [
        "import numpy as np\n",
        "import statsmodels.api as sm\n",
        "from scipy.stats import poisson, norm\n",
        "\n",
        "# Parameters\n",
        "n = 20\n",
        "m = 2\n",
        "X1 = np.tile(np.ones(n), m)\n",
        "X2 = np.tile(np.arange(1, n + 1), m)\n",
        "X = np.column_stack((X1, np.log(X2)))\n",
        "beta = np.array([0.9, 1.3])\n",
        "lamdas = np.exp(X @ beta)  # Means\n",
        "\n",
        "# Simulate Y\n",
        "Y = poisson.rvs(lamdas)\n",
        "\n",
        "# Fit the Poisson regression model\n",
        "model = sm.GLM(Y, X, family=sm.families.Poisson(link=sm.families.links.log())).fit()\n",
        "\n",
        "# Summary of the model\n",
        "print(model.summary())\n",
        "\n",
        "# The unscaled (dispersion = 1) estimated covariance matrix of the estimated coefficients\n",
        "FIM1 = model.cov_params(scale=1)\n",
        "print(FIM1)\n",
        "\n",
        "# Calculating Z-statistics for the coefficients\n",
        "z_stat = model.params / np.sqrt(np.diag(FIM1))\n",
        "print(\"Z-statistics:\", z_stat)\n",
        "\n",
        "# Computing the p-values\n",
        "p_val = 2 * norm.sf(np.abs(z_stat))  # Two-tailed test\n",
        "print(\"P-values:\", p_val)\n",
        "\n",
        "# Compare the calculated p-values with those from the model summary\n",
        "# Note: This is for demonstration. They should match what's in the summary.\n",
        "print(\"P-values are equal to summary's p-values:\", np.allclose(p_val, model.pvalues))\n"
      ],
      "metadata": {
        "id": "C2eynBqex9xC"
      },
      "execution_count": null,
      "outputs": []
    },
    {
      "cell_type": "code",
      "metadata": {
        "id": "9mHfejdWULDh"
      },
      "source": [
        "%%R\n",
        "# p-values of the test\n",
        "p_val <- 2*pnorm(z_stat, mean = 0, sd = 1, lower.tail = FALSE, log.p = FALSE);\n",
        "p_val\n",
        "p_val == s_mod$coefficients[,4]"
      ],
      "execution_count": null,
      "outputs": []
    },
    {
      "cell_type": "code",
      "source": [
        "%%R\n",
        "beta_hat = t(c(1, 2, 3))"
      ],
      "metadata": {
        "id": "yMBUfWCsIHPF"
      },
      "execution_count": null,
      "outputs": []
    },
    {
      "cell_type": "code",
      "metadata": {
        "id": "7GdfbeqdYOIv"
      },
      "source": [
        "%%R\n",
        "### 100(1-alpha) confidence interval\n",
        "alpha <- 0.05\n",
        "u <- qnorm(1-alpha/2,0,1)\n",
        "CI_LB <- beta_hat[,1] - u * beta_hat[,2]\n",
        "CI_UB <- beta_hat[,1] + u * beta_hat[,2]\n",
        "\n",
        "cbind(\"2.5% CI\" = CI_LB,ESTIM = beta_hat[,1], \"97.5% CI\" = CI_UB)\n",
        "\n",
        "\n",
        "# bulit in function\n",
        "confint(model, level = 0.95)"
      ],
      "execution_count": null,
      "outputs": []
    },
    {
      "cell_type": "markdown",
      "metadata": {
        "id": "UkhFJFXceHjn"
      },
      "source": [
        "Question:\n",
        "\n",
        "* Compare hypothesis testing in LM vs. GLM"
      ]
    },
    {
      "cell_type": "markdown",
      "metadata": {
        "id": "wwXaIg0peQee"
      },
      "source": [
        "# Deviance\n",
        "\n",
        "Deviance is a measure of goodness of fit of a GLM.\n"
      ]
    },
    {
      "cell_type": "markdown",
      "metadata": {
        "id": "SjNUyZoZeStY"
      },
      "source": [
        "Log-likelihood of the saturated model is the highest possible one with given data, $\\tilde{\\mu}_i = y_i$ and $\\tilde{\\theta_i} = \\theta(y) = (b')^{-1}(y_i)$.\n",
        "$$l(\\tilde{\\mu},\\phi;y)=\\sum_{i=1}^{n}\\frac{y_{i}\\tilde{\\theta}_{i}-b(\\tilde{\\theta}_{i})}{a_{i}(\\phi)}+\\sum_{i=1}^{n}c(y_i,\\phi)$$\n",
        "\n",
        "Scale deviance statistics:\n",
        "$${S(y,\\hat{\\mu},\\phi)}=2\\left[l(\\tilde{\\mu},\\phi;y)-l(\\hat{\\mu},\\phi;y)\\right]\n",
        "=2\\sum_{i=1}^{n}\\frac{y_{i}(\\tilde{\\theta}_{i}-\\hat{\\theta}_{i})\n",
        "-\\left(b(\\tilde{\\theta}_{i})-b(\\hat{\\theta}_{i})\\right)}{a_{i}(\\phi)}.\n",
        "$$\n",
        "\n",
        "Deviance:\n",
        "Let $a_{i}(\\phi)=a_{i}\\phi$, then\n",
        "$$S(y,\\hat{\\mu},\\phi)=\\frac{D(y,\\hat{\\mu})}{\\phi},\n",
        "$$\n",
        "and\n",
        "$$\n",
        "D(y,\\hat{\\mu})=2\\sum_{i=1}^{n}\\frac{y_{i}(\\tilde{\\theta}_{i}-\\hat{\\theta}_{i})\n",
        "-\\left(b(\\tilde{\\theta}_{i})-b(\\hat{\\theta}_{i})\\right)}{a_{i}}\n",
        "$$\n",
        "\n",
        "### Comparison of two models\n",
        "\n",
        "Assume model $D_0$ with $p_0$ paramters and its sub-model $D_1$ with $p_1$ parameters, then\n",
        "$$ \\frac{1}{\\phi} (D_0 - D_1) \\sim \\chi(p_0 - p_1) $$"
      ]
    },
    {
      "cell_type": "markdown",
      "metadata": {
        "id": "qLxMlbIKeTe5"
      },
      "source": [
        "Question:\n",
        "* Can we take deviance as a measure of the model quality?\n",
        "* Can we use deviance as a measure of the saturated model quality?\n",
        "* Complete the sentence: Compare two GLMs with deviance is like compare two LMs with ..."
      ]
    },
    {
      "cell_type": "code",
      "metadata": {
        "id": "5PVvXp_SpDUx"
      },
      "source": [
        "%%R\n",
        "# Add random variable to the previous model\n",
        "Z  <- runif(n*m,0,1)\n",
        "model_0 <- glm(formula=Y~log(X2)+Z,family=poisson(link = \"log\"))\n",
        "summary(model_0)"
      ],
      "execution_count": null,
      "outputs": []
    },
    {
      "cell_type": "code",
      "source": [
        "%%R\n",
        "# Proposed model\n",
        "model_1 <- glm(formula=Y~log(X2),family=poisson(link = \"log\"))\n",
        "summary(model_1)"
      ],
      "metadata": {
        "id": "_O24NMRTPjoA"
      },
      "execution_count": null,
      "outputs": []
    },
    {
      "cell_type": "code",
      "source": [
        "%%R\n",
        "# Null model\n",
        "model_n <- glm(formula=Y~1,family=poisson(link = \"log\"))\n",
        "summary(model_n)"
      ],
      "metadata": {
        "id": "WbtdZzD6Pjx6"
      },
      "execution_count": null,
      "outputs": []
    },
    {
      "cell_type": "code",
      "source": [
        "%%R\n",
        "# Saturated model\n",
        "I <- diag(1,n*m,n*m)\n",
        "model_s <- glm(formula=Y~I,family=poisson(link = \"log\"))\n",
        "summary(model_s)"
      ],
      "metadata": {
        "id": "508GBQM_Pj5L"
      },
      "execution_count": null,
      "outputs": []
    },
    {
      "cell_type": "markdown",
      "metadata": {
        "id": "GWfxVEHguydO"
      },
      "source": [
        "For Poisson model:\n",
        "$$D = 2 \\sum_{i=1}^n y_i log( \\frac{y_i}{\\hat{\\mu_i}})$$"
      ]
    },
    {
      "cell_type": "code",
      "metadata": {
        "id": "2Dm5NQ5Jr509"
      },
      "source": [
        "%%R\n",
        "mu_est_0 <- model_0$fitted.values\n",
        "mu_est_1 <- model_1$fitted.values\n",
        "\n",
        "Dev_0 <- 2*sum(Y*log(Y/mu_est_0))\n",
        "Dev_0\n",
        "Dev_1 <- 2*sum(Y*log(Y/mu_est_1))\n",
        "Dev_1\n"
      ],
      "execution_count": null,
      "outputs": []
    },
    {
      "cell_type": "markdown",
      "metadata": {
        "id": "s9SuGMWFwhDM"
      },
      "source": [
        "## Anova testing\n",
        "from anova.glm?\n",
        "\n",
        "The table will optionally contain test statistics (and P values) comparing the reduction in deviance for the row to the residuals. For models with known dispersion (e.g., binomial and Poisson fits) the chi-squared test is most appropriate, and for those with dispersion estimated by moments (e.g., gaussian, quasibinomial and quasipoisson fits) the F test is most appropriate.\n",
        "\n",
        "Mallows' Cp statistic is the residual deviance plus twice the estimate of $sigma^2$ times the residual degrees of freedom, which is closely related to AIC (and a multiple of it if the dispersion is known). You can also choose \"LRT\" and \"Rao\" for likelihood ratio tests and Rao's efficient score test. The former is synonymous with \"Chisq\" (although both have an asymptotic chi-square distribution)."
      ]
    },
    {
      "cell_type": "code",
      "metadata": {
        "id": "u8MegJJTsqvK"
      },
      "source": [
        "%%R\n",
        "anova(model_1)\n",
        "anova(model_1, test = \"Cp\")\n",
        "anova(model_1, test = \"Chisq\")\n",
        "\n",
        "anova(model_1, model_0, test = \"Rao\")\n",
        "anova(model_1, model_0, test = \"LRT\")\n"
      ],
      "execution_count": null,
      "outputs": []
    },
    {
      "cell_type": "code",
      "metadata": {
        "id": "UchWeYjOxI7X"
      },
      "source": [
        "%%R\n",
        "# p-value of deviance tst\n",
        "# H0: model fit data\n",
        "p_dev <- pchisq(model_1$deviance, model_1$df.residual, ncp=0, lower.tail = FALSE)\n",
        "p_dev\n",
        "\n",
        "# critical value\n",
        "C_val <- qchisq(0.05, model_1$df.residual, ncp=0, lower.tail = FALSE)\n",
        "C_val\n",
        "\n",
        "#summary(model_1)\n",
        "#pchisq(1168 - 44, df=(39-38))\n",
        "\n",
        "anova(model_1,model_s, test = \"LRT\")   # saturated vs. final model\n",
        "\n"
      ],
      "execution_count": null,
      "outputs": []
    },
    {
      "cell_type": "code",
      "metadata": {
        "id": "g7uXyJRAUKAd"
      },
      "source": [],
      "execution_count": null,
      "outputs": []
    },
    {
      "cell_type": "markdown",
      "metadata": {
        "id": "dz4Ek6Y464bE"
      },
      "source": [
        "## Rao statistics"
      ]
    },
    {
      "cell_type": "code",
      "metadata": {
        "id": "GrTIUoUKUKDg"
      },
      "source": [
        "%%R\n",
        "######## Rao score statistics\n",
        "\n",
        "Rao <- sum((Y-mu_est_1)^2/mu_est_1)\n",
        "Rao\n",
        "# p-hodnota testu adekvatnosti modelu (pomoci Raovy statistiky)\n",
        "# H0: model dobre popisuje data\n",
        "prao <- pchisq(Rao, model$df.residual, ncp=0, lower.tail = FALSE);\n",
        "prao\n",
        "\n",
        "######  pomoci saturovaneho modelu\n",
        "anova(model_1,model_s, test = \"Rao\")"
      ],
      "execution_count": null,
      "outputs": []
    },
    {
      "cell_type": "code",
      "metadata": {
        "id": "H73SzqdlUKIT"
      },
      "source": [],
      "execution_count": null,
      "outputs": []
    },
    {
      "cell_type": "markdown",
      "metadata": {
        "id": "cAmB4PDZJKEl"
      },
      "source": [
        "# Your turn:\n",
        "1. Generate data with followings parameters\n",
        " * $Y \\sim Poi(\\mu_i)$, where $E[Y_i] = \\mu_i = \\beta_0 + \\beta_1 x_{i1} + \\beta_2 x_{i2} = x_i^T \\beta \\  \\Rightarrow \\ q(\\mu_i) = \\mu_i =  x_i^T \\beta  = \\eta_i$\n",
        "* $X_{i1} \\sim N(50,10)$\n",
        "* $X_{i2} \\sim U(10,60)$\n",
        "* $X_{i3} \\sim Ber(0.45)$\n",
        "* $n = 40$\n",
        "2. Compute $\\hat{\\mu_i}$  for saturated, null,\"full\",\"best\" models.\n",
        "3. Compute Deviance, Rao, Wald statistics for your model and compare final model with the saturated and \"full\" ones.\n",
        "4. Generate 100x data for  $n \\in \\{20,40,60,80,100 \\}$ and plot $(\\hat{\\beta_i} -\\beta_i)$ vs. $(n)$\n"
      ]
    }
  ]
}