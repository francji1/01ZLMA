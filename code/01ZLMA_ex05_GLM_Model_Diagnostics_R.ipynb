{
  "nbformat": 4,
  "nbformat_minor": 0,
  "metadata": {
    "colab": {
      "private_outputs": true,
      "provenance": [],
      "include_colab_link": true
    },
    "kernelspec": {
      "name": "ir",
      "display_name": "R"
    },
    "language_info": {
      "name": "R"
    }
  },
  "cells": [
    {
      "cell_type": "markdown",
      "metadata": {
        "id": "view-in-github",
        "colab_type": "text"
      },
      "source": [
        "<a href=\"https://colab.research.google.com/github/francji1/01ZLMA/blob/main/code/01ZLMA_ex05_GLM_Model_Diagnostics_R.ipynb\" target=\"_parent\"><img src=\"https://colab.research.google.com/assets/colab-badge.svg\" alt=\"Open In Colab\"/></a>"
      ]
    },
    {
      "cell_type": "markdown",
      "metadata": {
        "id": "x-i6MbNFm4Zt"
      },
      "source": [
        "# 01ZLMA - Exercise 05\n",
        "\n",
        "Exercise 05 of the course 01ZLMA."
      ]
    },
    {
      "cell_type": "markdown",
      "metadata": {
        "id": "cYmgrHoBFw_q"
      },
      "source": [
        "# Model Diagnostics - Post-hoc analysis of glm\n",
        "\n",
        "How to check if our GLM is sufficient and how to do it in R.\n"
      ]
    },
    {
      "cell_type": "code",
      "metadata": {
        "id": "4MEm5eAXHWGB"
      },
      "source": [
        "library(tidyverse)\n",
        "library(MASS)\n",
        "library(knitr)\n",
        "\n",
        "install.packages(\"GGally\")\n",
        "library(GGally)\n",
        "\n",
        "install.packages(\"car\")\n",
        "library(car)"
      ],
      "execution_count": null,
      "outputs": []
    },
    {
      "cell_type": "markdown",
      "metadata": {
        "id": "E1c0TbFwFw_x"
      },
      "source": [
        "\n",
        "## Dataset trees\n",
        "\n",
        "The volume y (in cubic feet) of 31 black cherry trees (střemcha pozdní) was measured as well as the height (in feet) and the girth, or diameter,\n",
        "at breast height (in inches). The volume of the tree is related to the volume of timber, which is im\u0002portant economically.\n"
      ]
    },
    {
      "cell_type": "markdown",
      "source": [
        "More information can be find in\n",
        "Chapter 8: Generalized Linear Models: Diagnostics (Peter K. Dunn and Gordon K. Smyth, Generalized Linear Models With Examples in R)"
      ],
      "metadata": {
        "id": "nDuShSHbvzW5"
      }
    },
    {
      "cell_type": "code",
      "metadata": {
        "lines_to_next_cell": 0,
        "id": "58JjVXifFw_y"
      },
      "source": [
        "data(trees)"
      ],
      "execution_count": null,
      "outputs": []
    },
    {
      "cell_type": "code",
      "metadata": {
        "lines_to_next_cell": 0,
        "tags": [
          "remove_input"
        ],
        "id": "BYS9eC5iFw_z"
      },
      "source": [
        "head(trees)\n",
        "summary(trees)"
      ],
      "execution_count": null,
      "outputs": []
    },
    {
      "cell_type": "code",
      "metadata": {
        "id": "ke6QskQ-AFJ_"
      },
      "source": [
        "ggpairs(trees)"
      ],
      "execution_count": null,
      "outputs": []
    },
    {
      "cell_type": "markdown",
      "metadata": {
        "id": "K8gTlUi6AFyO"
      },
      "source": [
        "The relationships between the tree volume and height, and tree volume and girth, both appear non-linear."
      ]
    },
    {
      "cell_type": "code",
      "metadata": {
        "id": "p5IzqX8VA5EL"
      },
      "source": [
        "log_trees <- trees %>%\n",
        " mutate(log_Girth = log(Girth),\n",
        "        log_Height = log(Height),\n",
        "        log_Volume = log(Volume))\n",
        "ggpairs(log_trees)"
      ],
      "execution_count": null,
      "outputs": []
    },
    {
      "cell_type": "code",
      "metadata": {
        "id": "oucxGNIUBxti"
      },
      "source": [
        "trans_trees <- trees %>%\n",
        " mutate(cone = (pi*(Girth/12)^2*Height)/12,\n",
        "        cylinder = (pi*(Girth/12)^2*Height)/4)\n",
        "ggpairs(trans_trees)"
      ],
      "execution_count": null,
      "outputs": []
    },
    {
      "cell_type": "markdown",
      "metadata": {
        "id": "PuJjT0O8Lyqv"
      },
      "source": [
        "## Classical Regression analysis approach"
      ]
    },
    {
      "cell_type": "markdown",
      "metadata": {
        "id": "DOQztdJ9MbYW"
      },
      "source": [
        "How we did it last term ..."
      ]
    },
    {
      "cell_type": "markdown",
      "metadata": {
        "id": "VCZvFiyAMbwQ"
      },
      "source": [
        "### Model 0 lm()"
      ]
    },
    {
      "cell_type": "code",
      "metadata": {
        "id": "D4kcmr_pLxIT"
      },
      "source": [
        "### Model 0 (_m0)"
      ],
      "execution_count": null,
      "outputs": []
    },
    {
      "cell_type": "code",
      "metadata": {
        "id": "QdfK20EjL940"
      },
      "source": [
        "trees_m0a <- lm( log(Volume)~log(Girth)+log(Height), data=trees)\n",
        "summary(trees_m0a)"
      ],
      "execution_count": null,
      "outputs": []
    },
    {
      "cell_type": "markdown",
      "metadata": {
        "id": "pjTNK9XkVUU8"
      },
      "source": [
        "If we understand given problem, we can find good linear relation with some advanced transformation of independent varialbes."
      ]
    },
    {
      "cell_type": "code",
      "metadata": {
        "id": "5lPT6mKAC8Hd"
      },
      "source": [
        "trees_m0b <- lm( Volume~ -1+ cone, data=trans_trees)\n",
        "summary(trees_m0b)\n",
        "trees_m0c <- lm( Volume~ -1 +cylinder, data=trans_trees)\n",
        "summary(trees_m0c)"
      ],
      "execution_count": null,
      "outputs": []
    },
    {
      "cell_type": "markdown",
      "metadata": {
        "id": "4DeDpvfJL-UE"
      },
      "source": [
        "## GLM approach\n"
      ]
    },
    {
      "cell_type": "markdown",
      "metadata": {
        "id": "vIE6fOn-Fw_0"
      },
      "source": [
        "Since response is continuous nonnegative variable, we use `family = gamma`. In the first approach we try canonical link function, which is for gamma distribution: $g(\\mu) = 1/\\mu$."
      ]
    },
    {
      "cell_type": "markdown",
      "metadata": {
        "id": "7BwnbCM6Fw_1"
      },
      "source": [
        "### Model 1 (_m1)"
      ]
    },
    {
      "cell_type": "code",
      "metadata": {
        "lines_to_next_cell": 0,
        "id": "nxfWMxWiFw_1"
      },
      "source": [
        "trees_m1 <- glm( Volume ~ Girth + Height, data=trees, family=Gamma)\n",
        "summary(trees_m1)\n",
        "#printCoefmat(coef(summary(trees_m1)))"
      ],
      "execution_count": null,
      "outputs": []
    },
    {
      "cell_type": "markdown",
      "metadata": {
        "id": "xvu5HMEbFw_1"
      },
      "source": [
        "### Questions:\n",
        "\n",
        "* What can you say from the `summary()` about the model 0?\n",
        "* Do you understand to all numbers and do you know how they were computed?"
      ]
    },
    {
      "cell_type": "markdown",
      "metadata": {
        "id": "Atf5hCSmXCbt"
      },
      "source": [
        "### Tasks\n",
        "\n",
        "* Compute different types of residuals.\n",
        "* Plot residuals vs. fitted values or regressors\n",
        "* Validate used ling function with working responses.\n",
        "* Validate used regressors with Component+Residual, ie Partial Residual Plots"
      ]
    },
    {
      "cell_type": "markdown",
      "metadata": {
        "lines_to_next_cell": 0,
        "id": "K6FZEl9NFw_2"
      },
      "source": [
        "## Residuals"
      ]
    },
    {
      "cell_type": "markdown",
      "metadata": {
        "id": "nG_umnicMwuQ"
      },
      "source": [
        "Consider  the GLM from for the observations $Y_1,\\ldots,Y_n$ and assume $a_i(\\phi) = a_i \\phi$, where $a_i>0$ are known for $i=1,\\ldots, n$.\n",
        "\n",
        "\n",
        "\n",
        "From estimation of GLMs as Locally Like Linear Regression by using IRLS we can obtain weights $W$ with  *working responses* and compute *working residuals*.\n",
        "\n",
        "**Working residuals**\n",
        "$$e_i = z_i − \\hat{\\eta_i}$$\n",
        "\n",
        "**Pearson residuals**\n",
        "\n",
        "$$ {r_{i}^{P}\n",
        "=\\frac{y_{i}-\\hat{\\mu}_{i}}{\\sqrt{a_i\\, v(\\hat\\mu_i)}}},\\qquad\n",
        "v(\\mu_i)= b^{\\prime\\prime}(\\theta_i) \\mbox{ for } \\theta_i = \\theta(\\mu_i),\n",
        "$$\n",
        "\n",
        "where $v(\\mu_i)$ is called a variance function and $V[Y_i] = a_i \\phi v(\\mu_i)$.\n",
        "The Pearson residual is the response residual scaled with with the estimated standard deviation for the observation.\n",
        "\n",
        "\n",
        "**Pearson standartized residuals**\n",
        "\n",
        "$$\n",
        "{r_{i}^{PS}\n",
        "=}\\frac{y_{i}-\\hat{\\mu}_{i}}{\\sqrt{\\hat{V}[Y_{i}](1-h_{ii})}}\n",
        "=\\frac{y_{i}-\\hat{\\mu}_{i}}{\\sqrt{a_i \\hat\\phi \\, v(\\hat\\mu_i)(1-h_{ii})}}\n",
        "={\\frac{r_{i}^{P}}{\\sqrt{\\hat\\phi(1-h_{ii})}}},\n",
        "$$\n",
        "\n",
        "**Anscombe residuals**\n",
        "\n",
        "For models, where $a_i(\\phi)=1$\n",
        "$$\n",
        "{r_{i}^{A}=\\frac{A(y_{i})-A(\\hat{\\mu}_{i})}{\\sqrt{\\hat{V}[A(y_{i})]}}},\\quad i=1,...,n\n",
        "$$\n",
        "where\n",
        "$$\n",
        "A(y)=\\int_{-\\infty}^{y}\\frac{d\\mu}{v^{1/3}(\\mu)}.\n",
        "$$\n",
        "\n",
        "**Deviance residual**\n",
        "\n",
        "The deviance residual for the i’th observation is defined as\n",
        "\n",
        "$$\n",
        "{r_{i}^{D}=\\mbox{sign} (y_{i}-\\hat{\\mu}_{i})\\sqrt{D_{i}}},\\quad i=1,...,n,\n",
        "$$\n",
        "where\n",
        "$$\n",
        "D=\\sum_{i=1}^{n}(r_{i}^{D})^{2} = \\sum_{i=1}^{n}D_{i}=\n",
        "\\sum_{i=1}^{n}\\frac{2}{a_{i}}\\left[y_{i}(\\tilde{\\theta}_{i}-\n",
        "\\hat{\\theta}_{i})-\\left(b(\\tilde{\\theta}_{i})-b(\\hat{\\theta}_{i})\\right)\\right].\n",
        "$$\n",
        "\n",
        "\n",
        "**Deviance standartized residual**\n",
        "$$\n",
        "{r_{i}^{DS}=\\frac{r_{i}^{D}}{\\sqrt{\\hat\\phi(1-h_{ii})}}},\\quad i=1,...,n,\n",
        "$$\n",
        "\n",
        "The deviance residuals are the generalization of the residuals from the classical linear model. They are constructed using the analogy between the deviance and the RSS."
      ]
    },
    {
      "cell_type": "code",
      "source": [],
      "metadata": {
        "id": "SkSjX0y4sCcI"
      },
      "execution_count": null,
      "outputs": []
    },
    {
      "cell_type": "markdown",
      "source": [
        "##Type of residuals in R for a fitted glm() `model`:\n",
        "\n",
        "• Pearson residuals $r^P$ : `resid(model, type=\"pearson\")`.\n",
        "\n",
        "• Deviance residuals $r^D$ (default): `resid(model)`\n",
        "\n",
        "• Quantile residuals $r^Q$ from package `library(statmod)`: `qresid(model)`\n",
        "\n",
        "• Partial residuals $u_j$ : `resid(model, type=\"partial\")`.\n",
        "\n",
        "• Working residuals $e$: `resid(model, type=\"working\")`.\n",
        "\n",
        "• Response residuals $(y − \\hat{\\mu})$: `resid(model, type=\"response\")`.\n",
        "\n",
        "• Standardized deviance residuals $r^{DS}$: `rstandard(model)`.\n",
        "\n",
        "• Studentized deviance residuals $r^{DStud}$: `rstudent(model)`.\n"
      ],
      "metadata": {
        "id": "NsXwNmNSsCsU"
      }
    },
    {
      "cell_type": "markdown",
      "metadata": {
        "id": "ZoU_Xf0FX7fA"
      },
      "source": [
        "Gamma model is necessarily heteroskedastic, because the variance is  proportional to $μ^2$."
      ]
    },
    {
      "cell_type": "code",
      "metadata": {
        "id": "1wRRd4ESb4ol"
      },
      "source": [
        "# Residuals\n",
        "expected  <- trees_m1$y\n",
        "estimates <- trees_m1$fitted.values\n",
        "v         <- estimates^2 # for gamma distribution used in our model with trees dataset\n",
        "# If we have Poisson distribution: v = estimates,\n",
        "# If Bernouli: v = estiamtes(1-estimates), ..."
      ],
      "execution_count": null,
      "outputs": []
    },
    {
      "cell_type": "code",
      "metadata": {
        "id": "5pj-um1vnio3"
      },
      "source": [
        "# Response residuals\n",
        "r_response1 <- residuals(trees_m1, type=\"response\")\n",
        "r_response2 <- (expected - estimates)\n",
        "head(cbind(r_response1,r_response2))\n"
      ],
      "execution_count": null,
      "outputs": []
    },
    {
      "cell_type": "code",
      "metadata": {
        "id": "Tzv3LuMgoKhG"
      },
      "source": [
        "# Working residuals\n",
        "r_working1 <- residuals(trees_m1, type=\"working\")\n",
        "r_working2 <- (expected - estimates) / v\n",
        "r_working3 <- trees_m1$residuals\n",
        "head(cbind(r_working1,r_working2,r_working3))\n"
      ],
      "execution_count": null,
      "outputs": []
    },
    {
      "cell_type": "code",
      "metadata": {
        "id": "hOUg1MOvpB3t"
      },
      "source": [
        "# Pearson residuals\n",
        "r_pearson1 <- residuals(trees_m1, type=\"pearson\") # Pearson residuals from resid() function\n",
        "r_pearson2 <- (expected - estimates) / sqrt(v)    # Pearson residuals from above definitionf for gamma\n",
        "head(cbind(r_pearson1,r_pearson2))\n"
      ],
      "execution_count": null,
      "outputs": []
    },
    {
      "cell_type": "code",
      "metadata": {
        "id": "Ge7SBFegpU5J"
      },
      "source": [
        "# Pearson standartized residuals\n",
        "r_pearson_std1 <- rstandard(trees_m1, type = \"pearson\")\n",
        "\n",
        "# compute estimation of dispersion parametr phi by hand and from summary function\n",
        "w <- weights(trees_m1, type=\"working\")\n",
        "e <- residuals(trees_m1, type=\"working\")\n",
        "phi_est_hand <- sum(w * e^2) /df.residual(trees_m1)\n",
        "phi_est <- summary(trees_m1)$dispersion # Pearsons estiamtes of phi\n",
        "cbind(phi_est_hand, phi_est)\n",
        "# Pearson standartized residuals by hand\n",
        "r_pearson_std2 <- r_pearson2 / sqrt(phi_est*(1 - hatvalues(trees_m1)) )\n",
        "head(cbind(r_pearson_std1,r_pearson_std2))\n"
      ],
      "execution_count": null,
      "outputs": []
    },
    {
      "cell_type": "code",
      "metadata": {
        "id": "-OJLDWAtqKyB"
      },
      "source": [
        "# Deviance residuals\n",
        "r_deviance <- resid(trees_m1 )\n",
        "r_deviance_std <- rstandard(trees_m1) # Standart\n",
        "head(cbind(r_deviance,r_deviance_std))\n",
        "? rstandard"
      ],
      "execution_count": null,
      "outputs": []
    },
    {
      "cell_type": "code",
      "metadata": {
        "id": "gQy7xVB3yCS3"
      },
      "source": [
        "trees_modeled <- trees %>%\n",
        "  mutate(fitted = trees_m1$fitted.values,\n",
        "         r_deviance_std =rstandard(trees_m1, type = \"deviance\"),\n",
        "         r_pearson_std = rstandard(trees_m1, type = \"pearson\") )\n",
        "head(trees_modeled)"
      ],
      "execution_count": null,
      "outputs": []
    },
    {
      "cell_type": "code",
      "metadata": {
        "id": "qjAkhNGBFw_4"
      },
      "source": [
        "library(ggplot2)\n",
        "install.packages(\"gridExtra\")\n",
        "library(gridExtra)\n",
        "\n",
        "p <- ggplot(trees_modeled, aes(x = Volume,y = fitted)) +\n",
        "      geom_smooth()+\n",
        "      geom_point() +\n",
        "      geom_abline(intercept = 0, slope = 1)\n",
        "p"
      ],
      "execution_count": null,
      "outputs": []
    },
    {
      "cell_type": "markdown",
      "metadata": {
        "id": "5YnPSnez2jOj"
      },
      "source": [
        "Plots of the residuals against the fitted values $\\mu$ and the residuals against\n",
        "$x_j$ are the main tools for diagnostic analysis. Using deviance residuals is preferred in these plots because they have approximately constant variance."
      ]
    },
    {
      "cell_type": "code",
      "metadata": {
        "id": "zPUGzmC41J9I"
      },
      "source": [
        "par(mfrow=c(2,3))\n",
        "p1<-ggplot(trees_modeled, aes(x = fitted, y = r_deviance_std)) +\n",
        "  geom_smooth() +\n",
        "  geom_point() +\n",
        "  labs(x = \"Fitted values\",\n",
        "       y = \"Deviance standartized residuals\")\n",
        "p2<-ggplot(trees_modeled, aes(x = Girth, y = r_deviance_std)) +\n",
        "  geom_smooth() +\n",
        "  geom_point() +\n",
        "  labs(y = \"Deviance standartized residuals\")\n",
        "p3<-ggplot(trees_modeled, aes(x = Height, y = r_deviance_std)) +\n",
        "  geom_smooth() +\n",
        "  geom_point() +\n",
        "  labs(y = \"Deviance standartized residuals\")\n",
        "grid.arrange(p1, p2, p3, ncol = 3)\n"
      ],
      "execution_count": null,
      "outputs": []
    },
    {
      "cell_type": "markdown",
      "metadata": {
        "id": "zqiszEwYFw_5"
      },
      "source": [
        "If the evidence shows problems with the systematic component, then the\n",
        "cause may be an incorrect link function, or an incorrect linear predictor (for\n",
        "example, important explanatory variables are missing, or covariates should\n",
        "be transformed), or both.\n",
        "\n",
        "*Working responses* $z_i = \\hat\\eta_i + g^\\prime(\\hat\\mu_i) (y_i-\\hat\\mu_i)$\n",
        " can be determined from working residuals, obtained by the function `resid(model, type=\"working\")`.\n",
        "\n",
        " We plot Working responses against predicted values of linear predictor $\\hat\\eta_i$.\n"
      ]
    },
    {
      "cell_type": "code",
      "metadata": {
        "eval": false,
        "id": "UoNfn9MmFw_5"
      },
      "source": [
        "eta <- trees_m1$linear.predictor\n",
        "z  <- resid(trees_m1, type=\"working\") + eta\n",
        "plot( z ~ eta, las=1,\n",
        "        xlab=\"Linear predictor, eta\", ylab=\"Working responses, z\")\n",
        "abline(0, 1, col=\"grey\")"
      ],
      "execution_count": null,
      "outputs": []
    },
    {
      "cell_type": "markdown",
      "metadata": {
        "id": "Zb7wTr9ocb6X"
      },
      "source": [
        "To determine if covariate $x_j$ is included on the incorrect scale, use partial\n",
        "residuals\n",
        "$$ u_j = e_i + \\hat{\\beta}_j x_j.$$\n",
        "In R use function `resid(fit, type=\"partial\")`.\n",
        "\n",
        "Component+Residual (Partial Residual plot, ie. $x_j$ against $j$th partial residuals) can be plotted by function `termplot()` or `crPlots()` from the library `cars`"
      ]
    },
    {
      "cell_type": "code",
      "metadata": {
        "id": "QtFOPhuOd2ja"
      },
      "source": [
        "trees_modeled <- trees_modeled %>%\n",
        "mutate(Partial_for_Girth = as.data.frame(resid(trees_m1, type=\"partial\"))$Girth,\n",
        "        Partial_for_Height = as.data.frame(resid(trees_m1, type=\"partial\"))$Height)\n",
        "summary(trees_modeled)"
      ],
      "execution_count": null,
      "outputs": []
    },
    {
      "cell_type": "code",
      "metadata": {
        "id": "_cO02nUMcM2i"
      },
      "source": [
        "ggplot(trees_modeled, aes(x = Girth, y = Partial_for_Girth)) +\n",
        "  geom_smooth(method = lm) +\n",
        "  geom_point() +\n",
        "  labs(y = \"Partial for Girth\",\n",
        "       x = \"Girth\")\n",
        "\n",
        " ggplot(trees_modeled, aes(x = Height, y = Partial_for_Height)) +\n",
        "  geom_smooth(method = lm) +\n",
        "  geom_point() +\n",
        "  labs(y = \"Partial for Height\",\n",
        "       x = \"Height\")"
      ],
      "execution_count": null,
      "outputs": []
    },
    {
      "cell_type": "code",
      "metadata": {
        "eval": false,
        "lines_to_next_cell": 0,
        "id": "q5xK00I1Fw_5"
      },
      "source": [
        "termplot(trees_m1, partial.resid=TRUE, las=1)\n",
        "?termplot\n"
      ],
      "execution_count": null,
      "outputs": []
    },
    {
      "cell_type": "code",
      "metadata": {
        "id": "kAueKe3N6OvU"
      },
      "source": [
        "#install.packages(\"car\")\n",
        "#library(car)\n",
        "#? crPlot"
      ],
      "execution_count": null,
      "outputs": []
    },
    {
      "cell_type": "code",
      "metadata": {
        "id": "CUN553EE6KAg"
      },
      "source": [
        "crPlots(trees_m1)"
      ],
      "execution_count": null,
      "outputs": []
    },
    {
      "cell_type": "markdown",
      "metadata": {
        "id": "I0YOIKbXgI50"
      },
      "source": [
        "Link function is not choose correctly. Try another link function."
      ]
    },
    {
      "cell_type": "markdown",
      "metadata": {
        "id": "c1ei4QKOFw_6"
      },
      "source": [
        "### Model 2 (_m2)\n",
        "\n",
        "Let's try gamma distribution with link function $g(\\mu)=\\log \\mu$."
      ]
    },
    {
      "cell_type": "code",
      "metadata": {
        "id": "bHSeOezrFw_7"
      },
      "source": [
        "trees_m2 <- update(trees_m1, family=Gamma(link=\"log\"))\n",
        "summary(trees_m2)\n",
        "#printCoefmat(coef(summary(trees_m2)))"
      ],
      "execution_count": null,
      "outputs": []
    },
    {
      "cell_type": "markdown",
      "metadata": {
        "id": "je3PfmA-Fw_7"
      },
      "source": [
        "\n",
        "Similar plots and analysis we did with model 01."
      ]
    },
    {
      "cell_type": "code",
      "metadata": {
        "id": "vY--jUaz-Uga"
      },
      "source": [
        "trees_modeled<- trees_modeled %>%\n",
        "  mutate(fitted2 = trees_m2$fitted.values,\n",
        "         r_deviance_std2 =rstandard(trees_m2, type = \"deviance\"),\n",
        "         r_pearson_std2= rstandard(trees_m2, type = \"pearson\") )\n",
        "head(trees_modeled)"
      ],
      "execution_count": null,
      "outputs": []
    },
    {
      "cell_type": "code",
      "metadata": {
        "id": "nEYAn_Cu-bx5"
      },
      "source": [
        "par(mfrow=c(2,3))\n",
        "p1<-ggplot(trees_modeled, aes(x = fitted, y = r_deviance_std2)) +\n",
        "  geom_smooth() +\n",
        "  geom_point() +\n",
        "  labs(x = \"Fitted values\",\n",
        "       y = \"Deviance standartized residuals\")\n",
        "p2<-ggplot(trees_modeled, aes(x = Girth, y = r_deviance_std2)) +\n",
        "  geom_smooth() +\n",
        "  geom_point() +\n",
        "  labs(y = \"Deviance standartized residuals\")\n",
        "p3<-ggplot(trees_modeled, aes(x = Height, y = r_deviance_std2)) +\n",
        "  geom_smooth() +\n",
        "  geom_point() +\n",
        "  labs(y = \"Deviance standartized residuals\")\n",
        "grid.arrange(p1, p2, p3, ncol = 3)"
      ],
      "execution_count": null,
      "outputs": []
    },
    {
      "cell_type": "code",
      "metadata": {
        "name": "figure2",
        "id": "Szfx1HzGFw_7"
      },
      "source": [
        "par(mfrow=c(1,3))\n",
        "eta <-trees_m2$linear.predictor\n",
        "z <- resid(trees_m2, type=\"working\") + eta\n",
        "plot( z ~ eta, las=1, las=1,\n",
        "        xlab=\"Linear predictor, eta\", ylab=\"Working residuals, z\")\n",
        "abline(0, 1, col=\"grey\")\n",
        "termplot(trees_m2, partial.resid=TRUE, las=1)"
      ],
      "execution_count": null,
      "outputs": []
    },
    {
      "cell_type": "code",
      "metadata": {
        "id": "9MaAVCBm_CU6"
      },
      "source": [
        "crPlots(trees_m2)"
      ],
      "execution_count": null,
      "outputs": []
    },
    {
      "cell_type": "markdown",
      "metadata": {
        "id": "EecyCKsWFw_7"
      },
      "source": [
        "We have correct link function, but we still have  problems with  systematic component and residual plots. Lets try some transformations of covariates."
      ]
    },
    {
      "cell_type": "markdown",
      "metadata": {
        "id": "uetJJj5lFw_8"
      },
      "source": [
        "### Model 3 (_m3)\n",
        "\n",
        "We use log transformation of both $x_j$'s."
      ]
    },
    {
      "cell_type": "code",
      "metadata": {
        "lines_to_next_cell": 0,
        "id": "QALnHOMqFw_8"
      },
      "source": [
        "trees_m3 <- glm( Volume ~ log(Girth) + log(Height),\n",
        "                    family=Gamma(link=log), data=trees)\n",
        "#summary(trees_m3)\n",
        "printCoefmat(coef(summary(trees_m3)))"
      ],
      "execution_count": null,
      "outputs": []
    },
    {
      "cell_type": "markdown",
      "metadata": {
        "id": "LZH3NXoLFw_8"
      },
      "source": [
        "All covariates are significant in the model.\n",
        "\n"
      ]
    },
    {
      "cell_type": "code",
      "metadata": {
        "lines_to_next_cell": 0,
        "name": "figure3",
        "id": "plQD7c8fFw_8"
      },
      "source": [
        "par(mfrow=c(2,3))\n",
        "\n",
        "scatter.smooth( rstandard(trees_m3) ~ fitted(trees_m3), las=1,\n",
        "                  ylab=\"Standardized deviance residual\", xlab=\"Fitted values\" )\n",
        "scatter.smooth( rstandard(trees_m3) ~ log(trees$Girth), las=1,\n",
        "                  ylab=\"Standardized deviance residual\", xlab=\"log(Girth)\" )\n",
        "scatter.smooth( rstandard(trees_m3) ~ log(trees$Height), las=1,\n",
        "                  ylab=\"Standardized deviance residual\", xlab=\"log(Height)\" )\n",
        "\n",
        "z <- resid(trees_m3, type=\"working\") +trees_m3$linear.predictor\n",
        "plot( z ~trees_m3$linear.predictor, las=1,\n",
        "        xlab=\"Working responses, z\", ylab=\"Linear predictor\")\n",
        "abline(0, 1) # Adds line of equality\n",
        "\n",
        "termplot(trees_m3, partial.resid=TRUE, las=1)"
      ],
      "execution_count": null,
      "outputs": []
    },
    {
      "cell_type": "markdown",
      "metadata": {
        "id": "K18V4iv2Fw_8"
      },
      "source": [
        "Model 3 is sufficient :-)\n",
        "\n",
        "Lets check AIC statistics for all three models."
      ]
    },
    {
      "cell_type": "code",
      "metadata": {
        "id": "UgRWZGpxFw_8"
      },
      "source": [
        "AIC <- c(trees_m1$aic,trees_m2$aic,trees_m3$aic)\n",
        "names(AIC) <- c(\"AIC.1\", \"AIC.2\", \"AIC.3\")\n",
        "AIC"
      ],
      "execution_count": null,
      "outputs": []
    },
    {
      "cell_type": "markdown",
      "metadata": {
        "id": "wGd9xyAzFw_9"
      },
      "source": [
        "### Question:\n",
        "\n",
        "* Why  we chose log transformation?\n",
        "* Are residuals from the model 3 normal?"
      ]
    },
    {
      "cell_type": "code",
      "metadata": {
        "fig.align": "center",
        "fig.height": 3.2,
        "fig.width": 3.2,
        "lines_to_next_cell": 0,
        "id": "BmzCwKfLFw_9"
      },
      "source": [
        "# Deviance residauls\n",
        "qqnorm(r_deviance_std, las=1 )\n",
        "qqline(r_deviance_std)\n",
        "# Deviance residauls\n",
        "qqnorm(r_pearson_std2, las=1 )\n",
        "qqline(r_pearson_std2)\n"
      ],
      "execution_count": null,
      "outputs": []
    },
    {
      "cell_type": "code",
      "metadata": {
        "id": "nEyPR2fFl4tC"
      },
      "source": [
        "install.packages('surveillance')\n",
        "library(surveillance)\n",
        "r_anscombe <- anscombe.residuals(trees_m3, summary(trees_m1)$dispersion)\n",
        "qqnorm(r_anscombe, las=1 )\n",
        "qqline(r_anscombe)\n"
      ],
      "execution_count": null,
      "outputs": []
    },
    {
      "cell_type": "markdown",
      "metadata": {
        "lines_to_next_cell": 0,
        "id": "QAUNPpMHFw_9"
      },
      "source": [
        "Check normality with test"
      ]
    },
    {
      "cell_type": "code",
      "metadata": {
        "lines_to_next_cell": 0,
        "id": "BuPoxFcuFw_9"
      },
      "source": [
        "install.packages(\"nortest\")\n",
        "library(nortest)\n",
        "lillie.test(r_anscombe)\n",
        "shapiro.test(r_anscombe)\n",
        "\n",
        "lillie.test(r_deviance_std)\n",
        "shapiro.test(r_deviance_std)"
      ],
      "execution_count": null,
      "outputs": []
    },
    {
      "cell_type": "markdown",
      "source": [
        "## Influence  Measures\n",
        "\n",
        "Measures of influence can be computed using the same R functions\n",
        "as for linear regression models:\n",
        "\n",
        "• Cook’s distance D: `cooks.distance(model)`.\n",
        "\n",
        "• dfbetas:  `dfbetas(model)`.\n",
        "\n",
        "• dffits: `dffits(model)`.\n",
        "\n",
        "• Covariance ratio cr: `covratio(model)`.\n",
        "\n",
        "All these measures of influence, together with the leverages $h$, are returned using `influence.measures(model)`."
      ],
      "metadata": {
        "id": "decD_BF0wTBI"
      }
    },
    {
      "cell_type": "markdown",
      "metadata": {
        "id": "3gOhYf-ZFw_-"
      },
      "source": [
        "**Cook distance**\n",
        "\n",
        "Let $\\hat\\beta_{(-i)}$ denotes estimation of $\\beta$ computed without observation  $i$. Cook distance for $i$th observation is defined by\n",
        "$$CD_i = \\frac{1}{p} \\left(\\hat\\beta - \\hat\\beta_{(-i)}\\right)^T X^T W^{-1} X \\left(\\hat\\beta - \\hat\\beta_{(-i)}\\right)$$\n",
        "but its computed by\n",
        "$$\n",
        "CD_i = \\frac{1}{p} \\left( r_i^{PS}\\right)^2 \\frac{h_{ii}}{1-h_{ii}}\n",
        "$$\n",
        "and observation is influence if\n",
        "$$\n",
        "CD_i \\ > \\ \\frac{8}{n-2p}\n",
        "$$"
      ]
    },
    {
      "cell_type": "code",
      "metadata": {
        "fig.align": "center",
        "fig.height": 3.2,
        "fig.width": 6.5,
        "lines_to_next_cell": 0,
        "id": "1G_--2mSFw_-"
      },
      "source": [
        "par(mfrow=c(1,2))\n",
        "cd <- cooks.distance(trees_m3)\n",
        "plot( cd, col=\"red\", cex=1.0, lwd=2, ylab=\"Cook's distance\", las=1, ylim = c(-0.1,0.3))\n",
        "abline(h = (8/(31-4)))\n",
        "lev <- hatvalues(trees_m3)\n",
        "plot( lev, col=\"red\", cex=1.0, lwd=2, ylab=\"Leverage\", las=1, ylim = c(-0.1,0.3))"
      ],
      "execution_count": null,
      "outputs": []
    },
    {
      "cell_type": "code",
      "metadata": {
        "id": "qzerWpLer7K_"
      },
      "source": [
        "infl <- which.max(cd)\n",
        "infl\n",
        "cd[infl]"
      ],
      "execution_count": null,
      "outputs": []
    },
    {
      "cell_type": "code",
      "source": [
        "cooks.distance(trees_m3)"
      ],
      "metadata": {
        "id": "GRer24PIZn3f"
      },
      "execution_count": null,
      "outputs": []
    },
    {
      "cell_type": "code",
      "metadata": {
        "id": "Iz9OplAFqiG_"
      },
      "source": [
        "par(mfrow=c(2,2))\n",
        "plot(trees_m3)"
      ],
      "execution_count": null,
      "outputs": []
    },
    {
      "cell_type": "markdown",
      "metadata": {
        "id": "Z5fwSQ8HFw__"
      },
      "source": [
        "Let's try to estimate coefficients in the model, where we omitt obesrvation with largest influence."
      ]
    },
    {
      "cell_type": "code",
      "source": [],
      "metadata": {
        "id": "r6453uHCZZDL"
      },
      "execution_count": null,
      "outputs": []
    },
    {
      "cell_type": "code",
      "metadata": {
        "lines_to_next_cell": 0,
        "results": "hold",
        "id": "U24e_hgdFw__"
      },
      "source": [
        "trees_m3_infl <- update(trees_m3, subset=(-infl) )\n",
        "coef(trees_m3_infl)\n",
        "coef(trees_m3)"
      ],
      "execution_count": null,
      "outputs": []
    },
    {
      "cell_type": "markdown",
      "metadata": {
        "id": "mb6tMs0pFw__"
      },
      "source": [
        "Let's do the same, but omit the first observation instead."
      ]
    },
    {
      "cell_type": "code",
      "metadata": {
        "lines_to_next_cell": 0,
        "results": "hold",
        "id": "WdeumRoiFxAA"
      },
      "source": [
        "trees_m3.omit1 <- update(trees_m3, subset=(-1) ) # Vynecháme pozorování 1\n",
        "coef(trees_m3.omit1)\n",
        "coef(trees_m3)"
      ],
      "execution_count": null,
      "outputs": []
    },
    {
      "cell_type": "markdown",
      "metadata": {
        "id": "d5Nc73VhFxAA"
      },
      "source": [
        "A negligible change again"
      ]
    },
    {
      "cell_type": "markdown",
      "metadata": {
        "lines_to_next_cell": 0,
        "id": "fOCN_fc8FxAA"
      },
      "source": [
        "**Function `influence.measures()`.**\n",
        "\n",
        "We know it from `lm()` and the usage is very similar. It obtain Cooks distance (`cook.d`) and diagonal elemtns of hat matrix (`hat`) and other influence measures."
      ]
    },
    {
      "cell_type": "code",
      "metadata": {
        "id": "3sYgkqsUtiiL"
      },
      "source": [
        "? influence.measures\n",
        "influence.measures(trees_m3)"
      ],
      "execution_count": null,
      "outputs": []
    },
    {
      "cell_type": "code",
      "metadata": {
        "lines_to_next_cell": 0,
        "id": "YJ5mOwr7FxAB"
      },
      "source": [
        "im <- influence.measures(trees_m3)\n",
        "names(im)\n",
        "\n",
        "im$infmat <- round(im$infmat, 3 )\n",
        " head( im$infmat )"
      ],
      "execution_count": null,
      "outputs": []
    },
    {
      "cell_type": "code",
      "metadata": {
        "id": "mklrOMtguCri"
      },
      "source": [
        "#Compare cooks distances from im and directly from the function cooks.distance()\n",
        "colSums( im$is.inf )\n",
        "signif(cooks.distance(trees_m3), 1)\n",
        "im$infmat[,\"cook.d\"]"
      ],
      "execution_count": null,
      "outputs": []
    },
    {
      "cell_type": "markdown",
      "metadata": {
        "id": "tK0-BDxfvI5V"
      },
      "source": [
        "No suspicious outliers or leverage points."
      ]
    },
    {
      "cell_type": "code",
      "metadata": {
        "id": "tQ2b_d0kvDz9"
      },
      "source": [],
      "execution_count": null,
      "outputs": []
    },
    {
      "cell_type": "markdown",
      "metadata": {
        "lines_to_next_cell": 0,
        "id": "SgzWNSfOFxAC"
      },
      "source": [
        "Another tools"
      ]
    },
    {
      "cell_type": "code",
      "metadata": {
        "eval": false,
        "lines_to_next_cell": 2,
        "id": "jxZsuVQRFxAC"
      },
      "source": [
        "install.packages(\"boot\")\n",
        "library(boot)\n",
        "glm.diag.plots(trees_m3, glmdiag = glm.diag(trees_m3), iden = TRUE)"
      ],
      "execution_count": null,
      "outputs": []
    },
    {
      "cell_type": "markdown",
      "metadata": {
        "id": "dtJ1WP-kFxAC"
      },
      "source": [
        "## Predictions from final model\n"
      ]
    },
    {
      "cell_type": "code",
      "metadata": {
        "fig.align": "center",
        "fig.height": 3.5,
        "fig.width": 7,
        "lines_to_next_cell": 0,
        "id": "3Wqxfw53FxAD"
      },
      "source": [
        "par(mfrow=c(1,2))\n",
        "plot(trees$Volume ~ trees$Girth, col=\"red\", cex=0.9, lwd=1.5,\n",
        "     xlab = \"Girth\", ylab=\"Volume\", las=1)\n",
        "legend(\"topleft\", inset = .05, legend = c(\"Data\", \"Model 3\"),\n",
        "       col = c(2,4), bty=\"n\", lwd = 1.5, pch=c(1,NA), cex=0.9, lty=c(0,1))\n",
        "lines(fitted(trees_m3) ~ trees$Girth, col=\"blue\", type = \"l\", lwd=1.5)\n",
        "\n",
        "trees_3 <- data.frame(trees, fitted(trees_m3))\n",
        "trees_3 <- trees_3[order(trees_3$Height),]\n",
        "plot(trees_3$Volume ~ trees_3$Height, col=\"red\", cex=0.9, lwd=1.5,\n",
        "     xlab = \"Height\", ylab=\"Volume\", las=1)\n",
        "legend(\"topleft\", inset = .05, legend = c(\"Data\", \"Model 3\"),\n",
        "       col = c(2,4), bty=\"n\", lwd = 1.5, pch=c(1,NA), cex=0.9, lty=c(0,1))\n",
        "lines(trees_3$fitted.trees_m3. ~ trees_3$Height, col=\"blue\", type = \"l\", lwd=1.5)"
      ],
      "execution_count": null,
      "outputs": []
    },
    {
      "cell_type": "markdown",
      "source": [
        "Figure from: https://link.springer.com/chapter/10.1007/978-1-4419-0118-7_8"
      ],
      "metadata": {
        "id": "_2_0WjIsC7MA"
      }
    },
    {
      "cell_type": "markdown",
      "metadata": {
        "id": "r8yQD3xOFxAD"
      },
      "source": [
        "![obrazek.png](data:image/png;base64,iVBORw0KGgoAAAANSUhEUgAABtsAAAVPCAYAAADY+VXxAAAgAElEQVR4nOzdV0MUSd828OdrzCAZQUEH3VURFANiTihmRUwgBlBcMa+yuoo5r4oJI+YIYkbFAIqCimFNGBFRV4ISBIb/e+ALN8J0VXXPDDPgdfA70anq6u6aQF1dVf9HVEYAAAAAAAAAAAAAAAAAIN//mboBAAAAAAAAAAAAAAAAALUVwjYAAAAAAAAAAAAAAAAAhRC2AQAAAAAAAAAAAAAAACiEsA0AAAAAAAAAAAAAAABAIYRtAAAAAAAAAAAAAAAAAAohbAMAAAAAAAAAAAAAAABQCGEbAAAAAAAAAAAAAAAAgEII2wAAAAAAAAAAAAAAAAAUQtgGAAAAAAAAAAAAAAAAoBDCNgAAAAAAAAAAAAAAAACFELYBAAAAAAAAAAAAAAAAKISwDQAAAAAAAAAAAAAAAEAhhG0AAAAAAAAAAAAAAAAACiFsAwAAAAAAAAAAAAAAAFAIYRsAAAAAAAAAAAAAAACAQgjbAAAAAAAAAAAAAAAAABRC2AYAAAAAAAAAAAAAAACgEMI2AAAAAAAAAAAAAAAAAIUQtgEAAAAAAAAAAAAAAAAohLANAAAAAAAAAAAAAAAAQCGEbQAAAAAAAAAAAAAAAAAKIWwDAAAAAAAAAAAAAAAAUAhhGwAAAAAAAAAAAAAAAIBCCNsAAAAAAAAAAAAAAAAAFELYBgAAAAAAAAAAAAAAAKAQwjYAAAAAAAAAAAAAAAAAhRC2AQAAAAAAAAAAAAAAACiEsA0AAAAAAAAAAAAAAABAIYRtAAAAAAAAAAAAAAAAAAohbAMAAAAAAAAAAAAAAABQCGEbAAAAAAAAAAAAAAAAgEII2wAAAAAAAAAAAAAAAAAUQtgGAAAAAAAAAAAAAAAAoBDCNgAAAAAAAAAAAAAAAACFELYBAAAAAAAAAAAAAAAAKISwDQAAAAAAAAAAAAAAAEAhhG0AAAAAAAAAAAAAAAAACiFsAwAAqKSkpIT++ivcpM6dO1etXa9evWKWOXHihMmvHYAhrV6zWrK/L1gw3+Tt41GpVUzGKlvXvH37lvnZd/ToUZO3sTZCH/ufEydOMPvY69evTd5GkG/turVm8x2yZ88eZh/78uWLya9XTcjMzGRehwMHD5i8jQAAAAD6QNgGAABQSWFhIXcQ0tj+/PPPau26evUqs8zE4Ikmv3YAhtT0t6aS/V1toTZ5+3gQthlGUlIS81oEBgaavI21UV3uY6mpqRR7Klb49RMmTmBei+vXr5v8nEC+Fm4tzKaP9+vfj9mW9PR0k1+vmnD//n3mdfAf4W/yNpqLkzEn6e7duyZvBwAAAMiDsA0AAKAShG0A5gFhm3kMEpsawjbjqIt97PPnzxQaGkpqCzUtXrxYuBzCtroJYZv5QdjG9+TpvxX95fz58yZvDwAAAMiDsA0AAKAShG0A5gFhm3kMEpsawjbjqEt9rKSkhDZv2UxODZwq2o+wDRC2mR+EbdJy83Lpzz//JEsry4rrgbANAACg9kHYBgAAUAnCNgDzgLDNPAaJTQ1hm3HUlT527do1ate+XbX2I2wDhG3mB2FbdVqtlqL3RZNGo6l2PRC2AQAA1D4I2wAAACpB2AZgHhC2mccgsakhbDOO2t7HsrKyKCAgQLL9CNsAYZv5QdhW/Xp07dZV8nogbAMAAKh9ELYBAABUgrANwDwgbDOPQWJTQ9hmHLW9j+3du5fZfoRtgLDN/CBs+9mUKVOY1wNhGwAAQO2DsA0AAKCS0tJS2rRpkyyV94nRZbj/cFn13bhxo1q7ELbBrwZhm3kMEpsawjbjqO19zJBh24qVK6h7j+6S0tLSTH6+IJ85hW1z5sxh9rH379+b/HrVBIRtP0PYBgAAUPcgbAMAANDTb7//xvxj+Z9//tH7GAjb4FeDsM08BolNDWGbcdT2PmbIsA3qJnMK2+AHhG0/Q9gGAABQ9yBsAwAA0BPCNgDDQ9iGQWIihG3GUtv7GMI24EHYZn4Qtv0MYRsAAEDdg7ANAABATwjbAAwPYRsGiYkQthlLbe9jCNuAB2Gb+UHY9jOEbQAAAHUPwjYAAAA9mWvYlpOTQwcOHqCpU6dSp86dyKOVB3m28aT+A/rTwoV/0/nz56mkpMSg1+Lz588UvS+aZs6aSb1796bWnq3Jw8OD2nu1Jz8/P1q8eDHFxcVRQUGBye7XvXv36NatWzp9/vy52uszMzNp9+7dFBwSTN7e3uTRyoPatmtLfsP9aMOGDfTk6b9Cx7195zatWLGC+vXvR609W1Or1q2oU+dO9Mcff9ChQ4coKyvLKOf7+PFj2rptKwUEjKGOnTqSZxtP8mjlQV5eXuQ/wp+WLFlCp+JO0bdv34x2zZOSkmj58uU03H84tWvfjjw8fhw/KCiItmzdonO/GmOFba9fv6btUdspNDSUunbrSq1atyKPVh7k7d2BAgLG0KrVq+jylctUWlqq1zmba9iWfDuZ1q5bS4GBgeTt3YE8WnlQa8/W1KVrF5o0eRJt2bqF7t+/b5R+UFBQQEePHqU5c+aQj49Pxfuge4/uNGv2LDpx4gR9//69Wt8xVdhWWloq+Vlx69Ytys3LrXhtcXExRe+LptGjR5NnG0/ybONJvr59ac3aNfT48WNZx338+DFFRkbSxOCJ1LFTR2rVuhW1at2KOnbsSEHjguiff/6hpKQkk/VP1vV68OAB7dy5kyZNnkTde3SnDh28frzHPDyoTds21KlzJwoICKClS5fS8ePH6dWrV+J9Nzm54tovWrSQ2f7JoZOr3a+7d+/qrPfly5fM+5yXl6d3v09ISKDFixdTv/79qEMHr5/edyGTQigyMpKSk5P17rOPHj2SPI93795Ve71Wq6Xr16/TipUraPCQwdS2XVvy8PCgDh28KCAggNasXUMPHz402Hvq1atXtD1qO4VNC6OhQ4dWXAuPVj9+J3Tq3IlGjBxB69ato6SkJCosLFR8LCVhW0JCAkVERFC//v3Is40ntWrdirp07UJ//PEH7dmzhz59+qSoLU+e/svsY7zzZJX977//qr0+IyOD9u7dS0Hjgiqucdt2bcl/hD+tXrOaHjx4YLB7KoeSsO3Bgwe0avUq8vPzozZt21R8XweNC6KNGzfS8+fPDd7O4uJiOnPmDEVELKKhQ4dWvC/atG1Dffr0odlzZtO+/ftk77X37du3n+7dcP/hzOuxcePGave7/HyfPH0i2SdSUlKE2/Thwwdm//r69auic6vqzZs3wm169+4d7dixg6ZOnUrduner+J3WoYMXjR49mlasXEHx8fEG/xvmf+/XJ7R5y2YKmRRCnTp3qvgO9vb2pqCgIFq3bh1dv36dtFqt4mO8evVK8lo9e/ZUZ5l79+7Rxo0badSoUeTl9b/39XD/4bR06VKde34DAEDNQ9gGAACgJ3ML23JycigiYhE5OjpyB1Sb/taUNm/ZrNcfjEQ/BocnBk8kGxtr7jFVahU1aNiA5s2bp3Pwz9h+b/a7ZLsOHjxY8brMzEyaPmO60DmNHDWS3r59q/N4169fpx49e3DrsLK2orBpYT8N4Cv18eNHmjt3Lrk0chG6Hyq1iuo71qepU6cadBDu2LFj5O3dgXtsa2trmhw6mTIyMirKGjpsu379Og0bNozUFmqh6/F7s99p9ZrVlJOTo+jc9Qkz9Cmri1arpX3795G3t7dwf+jcpTMdOHjAIINZeXl5tHDh3+Ts4sw9bpOmTWjTpk0VxzVl2JaXl8c8dkJCAhH9GBjs0MGL+VofHx+dg+KVnT59mnx8fITvUWvP1rR121bKz8+v0f5ZVWFhIW3YsIGat2gu3PbKfH370rVr17jHsahnoaj+yn1LV70TJk5glrt+/bqi/nPr1i0aPGQwWVuLfS+q1Cry8PCgdevWUXZ2tqJjduveTbLuBQvm//SZcOLECWrbrq1Qu3x8fOhOyh1FbSotLaVDhw4JH6syK2sr6tGzB8XHx8s+rpywLSY2hvseVql/fFcFhwRTxvsMWW3p178fs9709HTm9WOVPXbsWMVrMzIyaOzYsULvlX79++kd2sslJ2xLTU2lwUMGc89DbaGmwUMG061bt/RuX05ODi1dupRcXTVC/dPSypJGjRpFiYmJQvXfSbmj12eYSv3j9yZRGf399wLm60SDwLCwMGY90fuiheqJ3hfNrGf/gf3cOm7dukX+I/yFP+ubNG1Cy5cv5363irpw4QL59vMVvhfu7u4UGRkpHEhWFhoaKlmvn5/fT6+9fv268G+DNm3b0OnTp2v0fQ0AAD9D2AYAAKAncwrb0tLSqFnzZrL/eO8/oL/iP1Y3bNggazCxMgcHB6E/wA1JJGyLvxRPTk78sLIyZxfnn2awaLVaWrjwb9nXxM3NjT58+KDo3L5//04rV60kewd7RfdDpf4xcDVnzhy9Zh/m5uVSQECA7GM7uzhT/KV4IjJc2FZUVEQzZ81UfD1cm7gKBQFV8eo1Vtmq3r9/T3379lF8/t17dJcMkkWkpqZSy5Zuso/r4+NDWVlZZh+25eblCoUILo1cJIPL3NxcCgwMVHyPWrVuJTskN1Qfe/bsKXm28VTc9sqmz5jOnFFaW8K2d+/ekf8If73a2qhxIzoZc1J2nxUJ23JycmQNKJezsraiDRs2yGrPmzdvqGPHjgbpHwEBY2TNMhQJ2woKCigoKEh2W1waudCly5eE21ITYdvZs2fJwcFB1nlY1LOgZcuW6f3AlSjRsG3zls1kZW2l6FyUzkpPTEzk/p5nCQsL485QNGTYlpKSwnzdrl27hM7bw8ODWc+EiROE6hkzZrRkHVbWVswHl4qLiyk8PFz4YaiqGmsaKwrky339+pX7PcDSsqUbpaamyjqmSNhWXFzMfB3L9BnTjTbzDwAA2BC2AQAA6MlcwrZTcafIzt5O8R+LnTp3ouLiYuE2FRUVcZfAERUyKUTvZftE8cK2qKgoqmdZT9F5aDQaevnyJX3//p058MDj7e0te1nH3Lxc6tyls0Huh0r9Y4bFo0ePZF/frKwsatW6leLjWtSzoJ07dxokbPv8+bPQzDqRNq1Zu0bWdeDVaayylSXfTqaGzg31Pn+nBk4VIagccXFxioN4lfpH0Llv/z7ma0wZtl1JuEIDBw0UOpewaWE6j5Genq54RlhlNrY2sh5cMEQfu3//vtAMajn8/PwkBwhrQ9iWmJgoO/BgCQoKkrWUIi9se/nyJXm0Yg+u80RFRQm15c2bN+TaxNWg/cPbuwMVFRUJHZ8Xtn38+FHWbN+qrKytKPm22NKfxg7bjhw5QpZWlorPZeSokTUyMC8StvFmWvH4j/CXfS6bt2zW+/NFpVZRu/btmLMeDRm2EbEfShLZ/y7jfQb3eL83+51bT0lJCfMBtQEDB0iWzcnJoa7duup9XdQWakV7db59+5bc3d31Pr6VtRXt3LlT+Li8sC07O5v69FH+oJRKraKZs2Ya/T0NAADVIWwDAADQkzmEbe3at9NrULvc2nVrhdqj1Wpp5KiReh+vsilTptTI/WKFbX7D/fQ+j969e9O48eP0rmfa9GnC5/Tt2zehpSrlaujckO7duyerHSJLcfGoLdTMp9pFwra8vDyDtKWyzVs2C18LXl3GKlvu0aNHsmdnstjZ2wkPLBOV0c2bN4WXlWWxsbVh/r8pwzY5gfrNmzer1Z+ZmanXTIqqLOpZUExsjNH7J9GPwVVDBNm6rFu3TucxzT1su33nNjnUN1zQVs7Xt69w4MYK20JDQ5nff6Js7Wy5e4wWFRVRp86djNI/5s2bJ3QteGGbIWbctWvfTijYMWbYNnPWTIMERZMmTzLaZ2k5XtjG+7wXFRoaKtymPXv2GLR/tvZsLTmLy9Bh2/QZ0yVfV9+xPvcBOt7DLOVevnzJrOf69evM8jt27NBZrqCgwCBBW2Wr16wWvvefPn1SNPOe5fDhw0LHZoVtAwcNNNhvel2/PQAAwLgQtgEAAOjJHMI2Q3FwcBDae2DJkiVGOf7WbVuNfr8MMdhYE2xsrIWW9iwsLNRrmUCeRo0bcQdayrEGfgxJJGwzdBisUquonmW9in26eHh1Gass0Y8lkZQsJ8uj0Wi4g+xEPwbQWE/cG5IpwzZRzVs0r1Z3aWmpQWeilrN3sP9pOVtj9bHVa1Yb7Z5qNBqdy9qZc9h2//59cmrgZLRr4ufnJ7TUHytsU7pEmy6V93/TZfOWzUL11HesTy3cWpC7e0vSaMT2yVJbqIXuCS9sM5Q9e/Zw22LMsM2Q9u3fZ7TP0/L3SU2dy/Hjx7ntSU5O1mtGoJSBgwbqPJ6hw7YrCVeYr+X9Xhk/YbzQMXlLUoaHh0uWtahnQR8/ftTr+HKoLdR09uxZof4oZ49UUTa2NnT37l3usVlhmyE/q4cNG2bU9zQAAFSHsA0AAEBP5hi2DRg4gLZs3ULJt5MpNTWVDh8+TAEBY4TKnjzJ3ifm1atX3Bkrags1DRs2jE6fPk0pKSl048YNWrBgPndJO0dHR8rOzjbq/ZITtvXr34927NhBd1LuUFJSEkVFRVGTpk1k/7Hr4+NDe/bsoZSUFEpMTKQZM2cIzfoRGfhasGC+cDs6duxIQeOCKGRSCA0ZMkR4NmTv3r25A73Pnj0VGrSytLKkicETKf5SPKWkpNC1a9for7/CZc0I4YVtFy9e5NZhbW1NwSHBdOnyJUpNTaXLVy5TaGgo2drZMsu1bddWaNCbd3xjlSUqo/nz/+LW4eziTBEREZSYmEgpKSkUExtDgwYP4paTWg6xshUrVwjdR41GQ2vXraXExES6k3KHTp8+TUOHDpX13qoNYZuuYGLHjh3ccg4ODjRr9iy6du0apaam0vnz5ykgIID7Phs0eJBR++fbt2+5M1A823jSylUr6fr163Tv3j1Kvp1M+w/sp9DQUKrvWJ97fF37BJpr2FZcXCy8DJmVtRUNGTKEgkOCKWhckKzZVSIPo7DCtqoaNGxAf/zxB509e5ZSU1Mp/lI8zZ4zW2g5ajc3N2Y7WEGXaxNX2rNnD7169apauXfv3tHWbVu5s3I7dPDiXgs5YZubmxstWDCfLl2+RHfv3qVLly/RokULhZbhHTJkCLctNRm2qS3U5D/Cn7Zt30bR+6Jpw4YN5OUlNsvbtYkr5efnG+0zVW7Y1sKtBW3ZuoWSkpLo9p3bFHsqlgYMHCBc9vv375Jt0Wq11LET//3Xpm0b2rlzJyUnJ1Py7WSKioqiNm3bcMudijtV7ZiGDttKSkqYfXTu3LnM+yH6e3bs2LHMelj7lvbu3VtnmRs3bnCPa2llSUHjgig+Pp5SU1MpISGBwqaFcfclbtnSjTvj9MDBA9zj29nbUdi0MEpISKDU1FS6ePEiBY0L4u4n6OPjw30vyNmLzcbWhgIDA+n48eMVf1MtXryYGmsaC11DkYcoAQDAcBC2AQAA6MmcwjaNRkPXrl2TrOfkyZPcJyZ5yxeOGDmC2wappQcLCgq45XlPzOtLJGyztbPVOVBC9GNPMtFZQ9bW1pL7KD148IA7qLlw4d/Mc3nz5o1QaDds2DBKTEysVj4zM1M46Nq2fRuzLSJhro+Pj85BdKIyys7OponBE4WuKytsKy4uptaerZnlvby86P379zrLi+zjI7JMEO8cjFX25cuX3D4xfsJ4Kigo0Fk++XYyNWjYQLKslbUVvXnzRvL4ubm5QmHKkiVLJJfGS0tLI3f3lkJ9wVzCNo1GQxEREXQl4QpdvXqV1qxdU9GPqs40y83NJZdGLsz6fPv5Sj54kJ7O3+eNt3SUPn2MN6tt9OjRzEHuly9fcs//0uVLOu9Hbl4u5ebl0rbt25jlFyyYX/HaclIDjvqGbRs3buReTwcHBwoPD6fMzMxq5RMTE8nPj7+EsUN9B3r37h2zLaJh23D/4ZIzp1+8eCE0y+zLly86y79+/ZpZ7sGDB9z33pOn/3K/H589e8qsQzRsi4hYJLncXlZWFjdItXew555PTYVtg4cMpidP/9VZT+ypWKH7umLFCqN9poqGbfUs69GOHTskA5PU1FSh+7tl6xbJtkRHRzPLqi3UkssfEpXR1m1bmeXbe7Wv9mBOaWnpT59JwSHBzDpOxpys9jlW9bub9fnl2cZTsv3Pnj0V7leurhrJet69e8csu2nTpmpltFotdxniVq1bSf7W+PLlC/ezjjUb79u3b9z9JHv26kmfP3/WWf7NmzfczwVd32GViYZtnTp3kvx8+O+//4SWc75x44bR3tMAAFAdwjYAAAA9mUvYZmVtJbQ2f9g09ubzvr59Jcu+ffuWWdbGxpq7x9f379+ZexHYO9hTbl6u0e6XSNjGWzIncnOk0B/JugYZKuMtu8h7mnjS5EncNixfvpx7Te7du0fOLs7MepycHCUDmvz8fO6MsHbt23GfrtVqtUL75rHCtrNnzzLLurpqJJc0Kvfp0yfm+5o1gFWOdw7GKjt37lxm2f4D+nNn5iUmJjJnT7Fmtx06dIjbfpFA/d27d8zQr5w5hG2tPVtL9ildDz/wBmnbtmvLnV3y/PlzcnSUnv3Dm92mTx8LmxYmGai6umooN5f/+c3rp7xwf+/evczyixcvFr7P+oRt+fn51KhxI2Z5JydHSklJ4bZjzdo13PsyYeIEZh0iYZuvb18qLS1l1nPu3DluPVevXtVZ9lTcKckyNrY2QnucEZXR2nVr/1fOxpq8vb0pZFIIRW6OpBs3bkh+H5UTCWNEZuqmpKRw68nIyGDWURNh28BBA7l7dKWlpQnNChJ978glGrbt3buXW9erV6+Yn4EqtYp69OwhWb69V3tmWZE9jJctW8asQ+qhrXJTpkxhlj9//jy3DbGnYpl1SAX0vAcWqnry9InOerZHbZd9fN7fNC6NXCjjPfs9lZOTw9xvTdfyzeV4QauHhwfl5eUxj//mzRvmrELe7DaRsM3dvSX376H09HTubHdW6AwAAIaHsA0AAEBP5hK2TZ8xXagu3hJ7rOWh1q9fzywrMnAlcj6xp2KNdr94YZu3tze3jgcPHnDvh5cXf5mr6H3sP/h79uopWfbDhw/cpWxCJoXI6mO8ZdqkZunFxMYwy6kt1EL7SBH9mEnAm2nHCtt4A+fbo7YLtYMXqOpaAq0yXv8wVlnerEupAbOqWDNQf2/2u2S5MWNGc99fooPte/bs4V4LcwjbRPfxK8fbJ0ZkgJWIHVhZW1szAzt9+li5169f06m4U7Rs2TIaPXo0ebTy4D5gUI6319CiRQuZ5c0lbOPtTaa2UFN8fLxwW8LC2A/D2NnbMQdfeWGbrZ2t0L6LRPzvyqNHj+osd/ToUWa58PBwoc+AnJwc2n9gPz18+FD4M6MyXtjW0Lmh5Ozaqlxd2TPCeLMfjR22NdY0FtrjlaiMdu/eza3v4cOHsq+3CJGwbbj/cOH6eA8uqC3UOvv78+fPmeVY33GVFRcXMx8KmTR5ErO8IcK2goIC5ixQqd88cve1lXoAgrX0c8dOHXWW4T30t379eqHrz/uNIDWLdvCQwcxyvOX0y0VELJKsw6KeBeXk5EiWFQnbkpOThdrBWwI8ImKRUd7PAACgG8I2AAAAPZlL2JaamipU15cvX5j1SO1rQ8QfyJN60r2q0tJS5nJGYWFioZ0SvAHElatWcusoKSnhLse5avUqbj03b95k1tGxo+6BCiJ+UOdQ30H23iu8QWepJ3V5A0adu3SW1Q7ekmpSYVtxcTFzrx+LehbcWW3lMjMzmfeYF9rx3q/GKMubgdG2XVvhe8AbMJcK7Xh7LW3YsEG4DXl5eVTPsh6zPlOHbb1695JV56dPn5ihtlMDJ+7slHK379xmtu3cuXNG6Z+GwNu76K+/wpnlzSVs4+0fFTQuSNZ1KSws5M7WiYqKkizP+44ePXq0cFuGDRvGrEtqT9H4+Hhu/3Jzc6O5c+fSjRs3uLPslOKFbaIPB4lcC16gauywbfac2cLnUlpayv2cXrHSOEtJioRtx48fF67vy5cv3N9iuh4S4u0r+ueffwq3IWRSiGQ9vNDOEGEbURn5j/CXrGPYsGHVXq/VaoX2I6xs1KhR1eopLCxkBn26fgdrtVrucqZSy41XlZ2dzXzobN26ddXK5OblMvcrtnew586aLffo0SPmeZw4cUKyLC9sE1lBoRxvn97wcPb3KQAAGBbCNgAAAD2ZQ9jmUN9BVn2sujQa3XszlJaWMv9AdWrgJGvQbHLoZMm63N1bGu1+8cK2CxcuCNXDm1UmMtvlw4cPzDpYs+PGTxjPLDtmjPigajneckT1LOvpnAnAm6kjZ+CbqIw2bNjArE8qbPv338fMcqwlpXTp0rWLZF0jRo5Q/B5TqY0TtvGe8uftAVjZt2/fmKFQ5ObIamWysrK4befts1RVp86dmPWZOmyT+/l+4cIFZn28pWOrYs24YQ3A69M/9VFQUEAnT56kIUOGMI8/d+5cZj3mELYVFxdzl+RTMkubNzt05KiRkmV5YZvozEMidoigUksvt5yTk8MNQCpzdnGmwMBA2rZ9m/AMaBG8sE1OqMPbT5QVbBMZP2zj7Q9VFW/v3KAgeSGxKF7YVs+yHnM2kC685SB1zZLlLVfNm6lYWVxcHLMu1neeocK2/Qf2S9Zh72BPRUVFP73+7t27kq9vrGms899dGrlUOy7v++z58+fVyvD2eOvQgb8qRGW+vn0l6+o/oH+111+/fp15fDkzK4nKmEtZTpkyRbIcL2wLDQ0VbsM///zDrGvW7FlGeT8DAIBuCNsAAAD0ZA5hW7v27WTVxwqKnF2cdZZ5/fo1sw0erTxktSEiIoJZ3/fv341yv3hhm+jySbw9yl68eMGtIzs7m1lHe6/2ivvd4cOHZV+b/Px8srG1YdZ79+5d2W25fee2rHawBoJUaumwjTfopevJbJbh/sMl62rVuhWzLKsdKrVxwrY5c+Ywy8ndt8OpgZNkXVOnTq32et5MzRZuLWT3Sd7eXqYO227cuCGrTt7ypOKwUD8AACAASURBVLyQqSpvb2/JunQNNBqif8qRlZVFcXFxtGjRQuo/oD93idhy8+bNY9ZrDmEbr7/b2dsJz5CojLfvoYeH9HctL2yTEzD99Vc4sy7W7F7eAxgszi7O5Dfcj9avXy/0PSqFF7aJrgZAxB8Yj4uLY5Y3Ztjm4OAg+/cSb5+tLl27GOwzoDJe2Na9R3fZdc6cNZNZp67viDZt2zDLyOl3vFm6MbExkmUNFbZlZ2cz9+2KvxT/0+sr74dYFes7qurv4xkzZ0i+tk3bNjrbevnKZeY58/YbrSpoXJBkXU1/a1rt9bxlVOWurNGzV0/JulhLwfM+U+R8h7HCVpVaRdOmTzPK+xkAAHRD2AYAAKAncwjbdC0Tw8Ja9qVBwwY6y/CWhrKxtaF27dsJ4y0j8+bNG6PcL17Ylp2dLVQPb9BYZJD169evzDqkwraPHz8yy6nUKu6m6lL6D+jPrDd6X/RPry8uLubu9Sa3LaWlpWRjIz2LUips4+0p6OTkKKuPspbaqu9Yn3kOvPtjjLKsvVNU6h9LxMo5f9bgna7PnAMHDzCPL3cQjaiMTpw4wazT1GGb3M8p1uCkSq2iRo0bybpHrM9yqcFOffsn631769YtWrFiBQ33H879bmSZP/8v5rHMIWzbtGkTs9zgIYMVXcecnBxmvRb1LCS/X3hhm5xweOWqlcy6pPZwIiqjxMRExfe+qj59+tDRo0dlB0q8sO3Lly/CdfH2mOLNYDRm2NapcyfZfYy376yuWUyGwAvbJkycILvOgwcPMuvs2q3rT6/XarXch4patW4l/Bns4eHBrGvzls2SbTdU2EZURr79fCXrqTrLeeCggZLnnZ2dLTkzterMWDc36VldUvuE8YLe+o71ZX0HsvbMs7SyJK1W+9PxeQ8ROLs4yzq+g4P03wKsB4x4YZvo/sJE/AfN5CyZCwAA+kPYBgAAoCdzCNvk7gvD2hPGqYGTzjL79u9jtsHQkpKSjHK/eGGbaD2sIMbewV6oDqVh24sXL5jlbO1sFV8f1lPCKnX1Pe14A8MqtYpKSkpkt4M1q0oqbOPNgjK0r1+/SrafV5Z17krLduzUscbO3dvbu9rxectY8pbe1OXixYvMOk0dtskNkkePZi8RaEhSn+X69s+qrl27RkHjgsjZxdlgbecteWoOYduyZcuY5YJDghX3Pd4yxVIhLy9s07Wsm5TVa1Yz62KFbURlFBGxyKD92aWRCy1evFg4dOOFbXKWvZ41exazLtbsJSLjhm1Se6my8FYqsLa2Vtx3WXhhm64Z0zy8oKHqyg8iv1kMifXggCHDti1bt0jWU3k27Pfv3yWXv50+YzoRlVHHjrp/S/gN96uo59mzp8y2379/X2c7Fy9eXKPX/8OHDz8dn/d5b0g2tjaS94sXtvE+Uyo7c+YMsy6EbQAANQthGwAAgJ7MIWybGDxRVn2sIENqgHbXrl01+geynOWu5GCFbRb1LMSvISNsc3R0FKpDadjG25usoXNDxdeHN/izZMmSn17/+fNn7r2s+mSxCNZeVFJhG285KUN78vSJZPt5ZVnnrrQsb+8aQ9K1t2NkZCSzzOjR8vcR5O2vYsqwrZ5lPdl18vYKMjSpGVD69M9yT54+0Wu5QJaIiAjmsc0hbOOFSfos3cV6IEallg7NeGFbRkaGcBtYS82p1PywjaiM/v57gcH7RseOHSnjPf88eGGbnPvBW6LXlGGbr29f2f2Lt1+snN9CcvDCNiXvGd6qC609W//0epGVAQxp3Phxkm03ZNiW8T6DWdfLly+JqIxu3Lgh+ZpTcaeIqIzmz/9L5/9X3puZtU+Ym5ubZDsXLJhfo9e/6nKxgYGBNXp8qRm0vLBNdP9oojI6f/48sy6EbQAANQthGwAAgJ4QthnHvv37jHK/WGGbnMFzVtgmtRRnVUrDtvT0dGY53hKHLMEhwcy6V6xY8dPrv3z5wr2XhYWFstvRWNNYsj6psI23RJ+h3bt3T7L9vLKsc1datl37djV27roC5c1bNjPLVH4qXlRCQgKzTlOGbUpC7ZoO26SWxdWnfxL9GLBlfY9Isba2pj59+nDfq0uXLmUe3xzCtuXLlzPLTZkyRXHfYy0PqlL/b+C8Kl7YlpmZKdwGQ4RtRGWUlJRk8Fm3nm08KT8/n3ncXyVs69a9m+z+9fbtW2adVtZWivsuCy9smxw6WXadvKCh6u+orKwsg/ZFHtZesYYM24jKqHOXzpJ1lS9nKTWzrJ5lvYqZ2qx91cr37fX17Sv5GtbeozUdtiUmJv50/JoO26QeDOCFbVX32dPnPYCwDQCgZiFsAwAA0NOvErbx9sUwNIRt0mFbZmYms5ySGTflxoxhL3NXdf+RwsJC7r3MysqS3Y76jvUl65MK28LD2XtxGJq5hW2sgTZD0xW28QIQJcudnT17llmnKcM21tP7UgICAmq0jxojbHv+/Dk3DCrn0siF/Ef40/r16+nmzZtUVFRERGWUkpLCLFc11Jfb12oibGPN7FCpVRQUJG9553JarZZ7Xf/77z+dZXlhW9Ul1VgMFbaVe/DgAS1evNhgM3Cl9oQq96uEbay9GaXwlgAUnZ0vFy9sU7LU8MmYk8w6u/fo/tPrc/NyDdL/RNVk2LZq9SrJusr3TO3Zq6fO/6+8t11hYSHZ2tnqfN26devo69evzKVub926JdlG3vK7hlY1bAuZFFKjx1catl26fEn4viNsAwAwLwjbAAAA9PSrhG2spWdU6h9LGZWWlhqMse5XXQjbtFot8/gqtYpSUlIUXR/eAOWVhCvVyrBmoanUKoqPj5fVhk+fPjHrkwrbWHuWqNQqmj1ndo31Ud4AjDHKjho1ilku9lSswc5d19KgVxKuMI+vZCZY5OZIZp2mDNuqLk8mghcIb9iwoUb6qD79s/+A/syyNrY2NHvObOYyq8nJycw6Vq9ZzWyDOYRt586dY5Zzd2+pqN8l32Zfm8aaxpJlzTlsq+zly5e0fv166tGzB1laWXL7oy5NmjZh9vFfJWyzqGdBOTk5ss6H13e9vLwU31sWXtjWvEVz2XVu3LiRWefYsWOrleEt05qfn2/U78pyhg7bWCGqrZ0t/ffff5Ih2aJFC3+qy7efr87XDR4ymGJiYySP49rElXnO0fuimeccGhpq1O/AJUuWMI+/YsWKGvkORtgGAFB3IWwDAADQ068StmVksPeDMNbgjKHVhbCNiD/gvXDh37KvzaNHj5h1qtQq+vTpU7VyvAHeVatXyWrHoUOHmPVJhW28AcSgccpmmijBu47GKDtv3jxmud27dxv1nHlLk6nUKnr79q2sOocNG8asz5Rhm5IZJdujthv8fVuT/fPly5fMcvYO9nT//n3u8XkPb6xbt45Z3hzCNpEldB8/fiz73ixc+Dezzr59+0iWrS1hW2Xfvn2jy1cu05IlS8i3ny/ZO9hzr2u5qrNWKvtVwjaVWkUnTpyQdT5z585l1qdkhpkIXtimUqvo8+fPsuocOnQos76qIRJRGXl5eTHLyNnbUB+GDtuIyqi1Z2vJ+mbNniX5f9euXfupntVrVut8nUN9B5oYPFGyHt6+e7x9WP1H+Bv1mu/bv495/Dlz5tTIvUfYBgBQdyFsAwAA0NOvErbxZlOpLdSy9oMxlboStkntu1FOSRCwctVKZp3NmjfTWW78hPHMcqNHj5bVDtZATnlf01WOF/ZoNBqjzpqsjNUOldo4YRvviXG590EurVZLNrY2zDbwBqUrKy4uJof6Dsz6TBm2sd6fUnghU8dOHc26f/LCwiVLlggdnzc4uGHDBmb56Gh2X9c1wC5FadhGVEYeHh7MsrzlMHXh7b04f/5fkmVrY9hWVXFxMd28eZP8R/hz++nx48cl6/mVwja5+wN6e3dg1vfXX+FGubciYduZM2eE6yspKWEuOa1Sqyh6X3S1cmPHjmWW2bVrl1HOv6o//viD2Y6zZ8/KrpO1J5rUrDZ7B3v6/v37T/XcvXtXdj0qte7VDyr7/PkzqS3UkuWdGjhVa4shpaamMq+5ZxvPGrn3CNsAAOouhG0AAAB6+lXCNiL+MnW8AdJy3759o569elLIpBD6559/6OLFi5L7GhhaXQnbLl68yB20unzlsvD5fPv2jdzd3Zn1Se2Rs//AfmY5Wztb4UHewsJC0mg0zPqkwjaiMvJoxR78Fh3AePjwIfn4+FDYtDDaum0rXbt2TXKfJF1498YYZT98+MC9D3l5eULt37t3Lw0aPIjmzZtH0fuiKSUlhfLz87nlBg0exGxD+b4xIuLj47nXwpRhm5LZvMXFxdzB4RcvXgjVdfHiRfLt50uzZs+inTt30s2bNyk3L9eo/ZO3382NGzeEjr9+/XpmPevXr2eW581O+PvvBcL3RJ+wjVfWzc1N+D1HxJ/1oVKr6MnTfyXLm0vY9v79e7qScIW2bd9Gs2bPooGDBlILtxYUGhoq6/3Sp08fZht0BSnlfqWwTaPRUG6u2Hs/KyuLGXao1PIG+uUQCdvk7O157do1bn3v37+vVo73+dGnj/Ts0aqmTp1Ko0ePpiVLltCJEyfoydN/qaSkRKhsWFgYsx1xcXGyr/GdlDvca1KVru9lrVZLzi7OsupxdnEWOveOHTsy6zkVd0roXNPT06lX7140depU2rxlMyUkJOhcfaHqeTVq3Ih5/LS0NOH+17dvH5oxcwZFRUVRYmKi8JKuCNsAAOouhG0AAAB6+pXCNt7SXa09W1NhYSH3+Dt27NB9bCdH6ta9Gy1YMN9o96uuhG35+fnU0Lkhs3xjTWN68+YNtx1arZaCgoKYdakt1PT69Wud5bOzs7n77oiGIn/++Sd3QIcVtvEGRf2G+wm1Y/qM6ZLXtE+fPrQ9ajuzPO8cjFWWN2Nh48aN3HMvLS2l9l7tdV73Fm4taOjQodWWnCq3c+dObvtPnz7NbcOP8Lclt67aFrYRldGIkSOY9c6YOUOoHqklNps0bUL9B/RnLi2ntI8FBAQwy8WeihXqX7x+ytuz7eDBg8zys+fMFr4f+oRtsadiuddy5KiRQjNqM95nUJOmTZh1devejVmHqcO2+EvxzNmoTk6O3MHwyljL3vE+S36lsE2lVlFQkNgyybzPH6cGTlRcXCzr+ogSCdtUahXt2bOHW9f379+5y0F27Kh7pvDHjx+ZgaPaQk0PHz7ktuH169dkbW1drby1tTW1a9+OAgICmP1d6ndGuSNHjii6zk1/ayp0nctJ/Z0yevRoWfUEhwQLtW/RooXMenz7+TL3fSv311+690B1aeRCPj4+tGnTJp3lgsaxf+9OmjxJ6DwCAsboLO/axJX69e9Hhw4dkiyLsA0AoO5C2AYAAKCnXyls+/r1K7OsSv1jM3rWwGJ2dja5NHJh1jF37lyj3a+6ErYRldGyZcu4gx/Nmjej5ORkyTo+fvzIXVJJpVZRQEAAsy0DBw3k1sFbmioqKkpoQIcVtv3772PuU/srVrKXdnv48CHVs6zHrGPf/n3MOnjnYKyyvGX+rK2tucs88epQW6glQ9yPHz8yl5hSqX8sWcXaa6moqIgGDBwg1BdqY9gmMit1/4H9etchFYjq08cmTZ7ELCcSZot8bi1fvpxZx5EjR5jlBwwcIHw/9AnbtFottWnbhns+AQFj6OPHj5L1JN9O5oZDKjV/poupw7a8vDyysakePlQ2YeIE4TZ06MAOU1hBxq8WtqnUKgoPD2fOLPr77wXcOuT+npRDNGyztLKkY8eOMa9JYGAgt56Vq1ZK1sFbprRlSzfu0ui8Olq1bsUszwuTIyIiFF1nXohX1YMHD3TWI/VgnBTRZS9fv37N/Y3Fe+juxYsXOoNO3mcUURklJiZyzyUqKop5fJFZyKw99xC2AQDUXQjbAAAA9PQrhW1EZRQREcH9A3PgoIF08+bNamUfPHhAbdu1ZZa1sbGmly9fGu1+1aWwLS8vj7vkYrmevXrSyZMn6d9/H1N6ejrdvHmTpkyZwt1jS6X+sTQQbzZC8u1koXb4+PjQ1atXf9qT4+rVq+Tj4yNUXqVmh21E/AEwlVpFk0Mn07NnT6uVjb8Uz72mrq4a7gxO3vGNVbaoqIjbfhtbG1q5amW1ZTGLi4spcnMkd5ai/wh/Zhtmz5nNPQdLK0v6888/6cnTJxXlCgsLafOWzbKeyq+NYRsRfxkttYWa5s2bR+/evfupnFarpaNHj3L3suvQgd02pX1sxYoV3LJSsz7z8/OFZq6q1Ox9ycrfp7w65s6dS1evXqW4uDiaP/8v6tK1i8669AnbiMrozJkzQudkY2NNk0MnU1JSEqWnp9O//z6mkzEnqVfvXkLlx4zh77lo6rCN6MeyerxzCQ4JZi6vmZeXR1OmTGHW0blLZ2b7f8WwTaX+ERJFR0dXzE4rLS2l48eP65ytXJWVtZVRf3+Jhm3lAgMDKSUlpeIBrtLSUjp48CB3uWiV+sfvFtayuikpKdw63Nzc6ODBg9X2EMvOzqZx48dxy/NmwPMePLCzt6PIzZF09epVOn78OE2ZMkUorL6ScEX4GjfWNJas5/Xr18L11HesT0VFRcJ9gTe7TKVWUdC4IHr06FG1steuXeP+TnB2cWZ+xvTs1ZN7/FmzZ1Vb0UGr1VJMbAzzbwCV+kfQypqdh7ANAKDuQtgGAACgp18tbMvJySFXV7GAx9u7AwWNC6LgkGDuE+rlpJZ9MZS6FLYRldHhw4eFB0OUOnr0qND5SC2po4utnS01adqEHB3ZAxa68MK2x48fc594Lufj40MTJk6g8RPGC80sUVuohQZBePUYqyxRGe3evVvo3G1sbcjPz4+CQ4Jp9OjR3FmrKvWP5Zl4A/ZfvnwRqqvy+8XVVcOdEaNLbQ3bLl+5LHR+9Szr0YCBA2hi8EQaO3asULhuY2PNXQJNaR/LeJ/BnZFQ/r7au3cvXb5ymU7GnKTJoZO5y95WNmLkCGb7nz17KruvqNQqKigoqFaXvmEbURn5+fkpao+oRo0bCS2/aA5h29evX6llSzfuOTk4ONDQoUPpn3/+oejoaNq9ezetWLmC+g/oT/YO9tzyvOVof9Wwreo15s30rmzW7FlG+zwlkh+2VZxHfQdybeJKdvZ2wmUiIyO57RkzRmyZRI1GQwEBYyhkUgj1H9CfO3tbpVZRv/79uEshRu+Lln0t2rVvxz2vkpISatCwgVB9vO9Qkd9FKjV/9YOqXr58KXw/e/bqSeMnjKfxE8Zz9xYux9v37ebNm0LvDYt6FuTbz5cmBk+koKAg7lK/KvWP0DolJYV5fIRtAAB1F8I2AAAAPf1qYRvRj4FikQFXuQYOGmj0+1XXwjaiMtqwYYPB70W5FSvYSy5WlpmZSa5NXA1y3O49ukv+Hy9sIyqjyM2RRrkeokuc8uoxVtlyvH15lDpz5ozQ8Y8ePWqQ49na2TL35amtYRtRGc2dO9co9yhyM3+QWZ8+Zqy+VZlHKw9mG0pLS7mz+3R58eJFtboMEbZ9+/aN+vTpY5Rr4ejoSHfv3hXqU+YQthGV0a1bt4zyG6GcyCw/hG3y33O5udIzwQyBF7axvvfl6NGzR7XZaLr8999/1Kx5M4NfS2cXZ+4SlEQ/VnuQW3dD54ZC13r8hPFC9fH2x+PNMC13/Phx2f2Btw+0UlOnThU6vshKHUrw9hwlQtgGAFCXIWwDAADQ068YthGV0a5duww6mNZY05iysrKMfr/qYthGxN9nSwne3ma63L9/X9FstcoCAwMpJjZG8v9FwjaiMuEl60R5e3sLDeARmT5s+/r1K/Xu3dug5z9j5gxZfWHV6lV6Hc/SypJOnDjBnH1Qm8O20tJSWbNBRQwZMsTo/fPWrVvcpUZ5bO1suct4ffnyhdkOkWXcqtK1j50hwjaiMiooKBDau1KOBg0bcGdIVGYuYZtIeaW8vTvQt2/fuO3/VcK2li3dKCiIvyQfi0ajYbbBUHhh2+PHj6lT5056nYu7e0vm/ohVPXjwQHi1BhFqCzV3b8XKPDz4S2JWJbJcY+ypWKG6qi5VXNXx48e5ddjY2gi9J3WJiFhksGuvUqvIs40n5efnCx1bq9XSxOCJBj1+3759uDMaiRC2AQDUZQjbAAAA9PSrhm1EZZSQkEDOLs56/3Hq5eVVbV8EY6mrYRtRGR05csQg90Oj0QhvdK/L3bt3qXmL5oqOPXPWTNJqtcyBItGwjejHk9NKliesasiQIbKe+ufVZ6yylRUXF9O06dP0PneVWkWLFi0UGkCqKjKSvwecLvYO9nTx4kUiYi/1VZvDtnIrV62UtdSblOCQYO5egobqYwcPHlTc5mbNm9GtW7e4+67xZko8ePBAeLnYcocPH65Wj6HCNqIfeyb+8ccfBrmfvv18uQPhVZlT2EZURjGxMXo/fPHTNfHtK/w5/KuEbe7u7lRSUkIzZ81UdE1btW71096ZxsQL296+fUvfvn2jIUOGKDqXLl27UMb7DNntyszMpK7duurdP+s71ucub1rVvv37ZB/n1atX3HoLCgq4yzS6u7tz6/ny5Qv388xvuJ9e/eLIkSNka2er9/Xv27dPtb1oRWzYsMEgDw8GBgYKB30I2wAA6i6EbQAAAHr6lcM2ojJ6+/YtTZg4QWgPi6psbKxp0aKFOvfRMZa6HLYRlVFubi4tWDCfu3m71P2YNHkSd0aJiOzsbBo5aqTwsZ0aONH2qO0V5Q0VthGVUWpqquLBuwYNG9D2qO2ygyZevcYqq8uJEyeYSzGytPZsTVcSrujVF27evElubvw9nMp5e3v/tGxeXQ/biMroSsIV6tW7l6J71KRpEzp27FiN9c9yp0+fljUjRG2hppBJIZSb9yMsKSoqIgcH6aUgfXx8uG2IiY2RtZzkunXrqtVhyLCt3P3798lvuJ+i0K1J0ya0ddtWRf3I3MI2ojLKyMhQ/BuhXNPfmtLOnTuppKREuP2/UthW/tq9e/fKCi2CgoLo69even12yX1fsNrz9u1bIvqx51hERATZ2NoInYellSXNnjNbeOa5LkVFRbR8+XJqrGmsqI/6+fkpfmhs6dKlsj4rbty4IVSv/wh/Zj1hYWIhjLe3N7Oeffv36d03Hjx4QMP9hyv6zKzvWJ82bdok6/Ohqhs3blDfvsqWAtZoNHTg4AFZx0PYBgBQdyFsAwAA0NOiRQspLCxMkr4D1URl9OLFC+Yx5P6RN3fuXMm6RPekqiozM5MWLVpI3bp3I3sHe8k/+ho6N6QxY0bT7t27hfa0MLSIiEWS5z59xnSDXMN58+YJ1VFUVMS8rytXrVR8nl+/fqXofdEUMimEuaG8nb0dde7SmdatW6foiWCe+/fv09ixY6lBwwbVjq22UFN7r/a0dOlSys7O/qlcWlqa5HWZNn2aorY8efqEps+YTh06eDEHfn/7/TeaNHkSHT16lHJychQdizc4Y6yyLJevXKaAgAByd2/JrL+9V3uaO3cuxV+Kp+LiYoP0g5KSEjp06BB179Fd57W3s7ejfv370YkTJ6oFm3v27JHsC9HR0QbvszXx/pRyJ+UOhUwKIc82nswn7d3d3Wna9GkUFxcn/CS9MfpYXl4erV23lrr36E4W9Swk30/Tpk+jf/99XK389qjt0td4Whjl5eVx2/Dq1SsKCwuTnEFlY2NNHTt2pAUL5uucKbb/wH7mfU5PT1d8P1+8eEFr162lYcOG6fwMrDxYO2zYMIo9FavXgPH69euZ51IedIq4dPkSsy7RAf9ymZmZtH79ehruP1wo0HB11dCEiRPo2LFjwjM2K4uIiDDYd8jJmJPMa5GWlsYsv3nLZmb5z58/S5aVE7YRldGHDx9o3rx51PS3pjpf79LIhSZMnECPH1d/PxpbxvsM5nWo+jvg/fv3FB4eTq1at9J5Lk2aNqGZs2ZWhHSGUFhYSLt376aBgwYy+6m1tTX16dOHVq1eRffv39f7uLdu3SL/Ef6Sv03qO9an3r1708aNG4Xfx1evXmVe7+TkZKF6jhw5wqxH6e8kXdLT02n2nNnk7e3NnLns2sSVJgZPpEOHDhnkAbFy9+7do9DQUGrbri3zO7hlSzeaOnUqxcTGKAqsDx8+zLymcmabPn78mFmX3IdxAABAPwjbAAAAwOBKS0vpydMndP78eYo9FUtxcXEUfyme0tLSFC1FB/rLysqiKwlX6PTp0xQTG0Pnzp2jJ0+fUGlpaY214dmzp3T27FmKiY2h+EvxBh0gkev79+907949OnfuHMXExtDp06fp8pXL9Pz5c5Pfq5qQl5dHSUlJdObMmYr+kJCQUCP7JhYWFlJycjKdijtFp+JOUXJyssFCvbqkoKCAbt+5XfGeOXPmDF1JuGLQgWVD+vTpE129epXOnj1Lsadi6fKVy8wQwdC0Wi09e/a0ok+fPXuW0tLSzKZvabVaevz4McXHx1PsqVg6FXeKLl+5XCPvOXP08uVLunbtGl24cIFiT8VSTGwMnT9/nh49elSjs63MndywrbL379/ThQsXKt4PL1++NPn5KPX+/Xs6f/48xcTG0MWLF2vsYa3MzEy6dPkSxcXFUUxsDF24cIGSkpIUPeQgoqioiO7evUun4k5R7KlYunDhAqWnp/+Sv52Li4spLS3tp99ply5foidP/62R4xcWFtKdlDvVvoNFlvEEAIBfF8I2AAAAAAAAAAAzo0/YBgAAAAA1C2EbAAAAAAAAAICZQdgGAAAAUHsgbAMAAAAAAAAAMDMI2wAAAABqD4RtAAAAAAAAAABmBmEbAAAAQO2BsA0AAAAAAAAAwMwgbAMAAACoPRC2AQAAAAAAAACYGYRtAAAAALUHwjYAAAAAAAAAADODsA0AAACg9kDYBgAAAAAAAABgZhC2AQAAANQeCNsAAAAAAAAAAMwMwjYAAACA2gNhGwAAAAAAAACAmdFqteTqqpHUq3cvk7cRAAAAAH5A2AYAAAAAAAAAAAAAAACgEMI2AAAAAAAAAAAAvPvxJgAAIABJREFUAAAAAIUQtgEAAAAAAAAAAAAAAAAohLANAAAAAAAAAAAAAAAAQCGEbQAAAAAAAAAAAAAAAAAKIWwDAAAAAAAAAAAAAAAAUAhhGwAAAAAAAAAAAAAAAIBCCNsAAAAAAAAAAAAAAAAAFELYBgAAAAAAAAAAAAAAAKAQwjYAAAAAAAAAAAAAAAAAhRC2AQAAAAAAAAAAAAAAACiEsA0AAAAAAAAAAAAAAABAIYRtAAAAAAAAAAAAAAAAAAohbAMAAAAAAAAAAAAAAABQCGEbAAAAAAAAAAAAAAAAgEII2wAAAAAAAAAAAAAAAAAUQtgGAAAAiqjUKiZTtw8Afnj16hUFBgZK2rRpk8nbWFO2bN3CvBYvXrwweRv1dfHiReY5XrhwweRtrMvmzJkjee2DgoJM3j5QJjw8nPm+iomN0av+pKQkZv0TJk4w+TXgiYqKYp7Dk6dPTN5GUUuXLmWeS25ursnbCIZ3J+UOLVu2jIKCgqhL1y7k7t6SWri1IA8PD+rTpw+FhobS5i2bKSMjwyjHz83Npeh90TRj5gzq2asnubu7k5ubG3m28aTh/sNpxYoVlJiYaPLrBAAA0hC2AQAAgCII2wBqhzspd5jv1REjR5i8jTUlMDCQeS1u3bpl8jZW9ezZU1qwYL7w6yMjI5nnuHHjRpOfU13Wwq0FvhvroNaerZn3denSpXrVf/DgQWb9NjbWJr8GPBMmTmCew/Xr103eRlHde3RnnsuHDx9M3kaiMrqScIW2bN1i8nbUZiUlJbR5y2b6vdnv3L9tKuvRs4fB+vSHDx9o1uxZ5ODgIHTsjh070vHjx01+7QAAoDqEbQAAAKAIwjaA2gFh2//UprDt69evFB4eTlbWVtShg5dwOYRtpoWwrW5C2MaHsK3mvH37lkaNGkUqtYrCwsJMfr1qqydPn1Dbdm1lhWxVjR07lvLz8xW3ITExkTQajaJjj58wngoKCkx+HQEA4H8QtgEAAIAiCNsAageEbf9TW8K2gwcPkqvr/wbfELbVHgjb6iaEbXwI24yvsLCQli1bRrZ2thVtQdimzP3796mhc0O9grZy3bp3o7y8PNltOHnyJFlaWep17E6dOyk6NgAAGAfCNgAAAFAEYRtA7YCw7X/MPWy7f/8+9ezVs1q7ELbVHgjb6iaEbXwI24zrVNwpnZ8vCNvky83NpWbNmxkkaCsXGBgoqw1paWlkY2tjkGP7+fmZ/JoCAMAPCNsAAABAEYRtALUDwrb/Mdewrbi4mMLCwsiinoXOdiFsqz0QttVNCNv4ELYZR2ZmJg0YOECyLQjb5AuZFGLQoK2c6D5qxcXF5NnG06DH3rptq8mvKwAAIGwDAAAAhRC2AdQOCNv+x1zDtuzsbGa7ELbVHgjb6iaEbXwI24zj7NmzzLYgbJPn/fv3Qks3du3WldasXUNRUVG0bNkyoXDM27uDUBv2H9gvFKB16dqFhg4dSq5NXLmv1Wg0VFRUZPLrCwDwq0PYBgAAAIogbAOoHRC2/c+WrVsoICBA0osXL0zSLoRtdQfCtroJYRtfVFQU8/P1ydMnJm+jKIRtddfKVSuZ19OpgZNkMHz48GFuUJeamsptg7d3B2Yd7dq3o+fPn1e8vrS0lHbv3s099t69e01+fQEAfnUI2wAAAEARhG0AtQPCNvOHsK3uQNhWNyFs+7UgbKu7hg0bxryeFy5cYJZfvnw5s/yWrVuY5RMSEtjvdVsbynifobPskiVLuCGdqa8vAMCvDmEbAAAAKIKwDaB2QNhm/hC21R0I2+omhG2/FoRtdVfzFs0lr6W7e0tu+Y8fPzJnmE2ZMoVZfnLoZOb9/PPPPyXL5ubmkpOTI7N8Wlqaya8xAMCvDGEbAAAAKIKwDaB2QNhm/hC21R0I2+omhG2/FoRtdVdD54aS13L6jOlCdXTs1FGyjoCAMcyyHh4ezPt57949ZvnQ0FBm+c1bNpv8GgMA/MoQtgEAADCcPn2ajh49KunNmzeK6v3y5Quz3jNnzsiu8+vXr3Tx4kVasGA+9ejZgzQaDdV3rE/2DvbU0LkheXt7U3BIMG3atIlev36t97XRJ2x79uwp8/zT09OF2/Hp0ydmXbfv3GaWP3PmjGTZt2/fVnv9vXv3KCIigvr27UMujVzI3sGenJwcydvbm+bMmUPxl+K5bS4uLqYTJ07QlClTqFXrVuRQ34EcHBxIo9HQoMGDaNXqVXT//n2D9uXLVy5TeHg49evfj1xdNeTg8OOYjRo3op69etL0GdNp/4H99O3bN5O/7yrLz8+n8+fP05IlS2jQ4EH0e7PfydnFmRwcHMjO3o4cHR2psaYxde3WlYJDgmndunV0+cpl0mq1iq6RVF94+PChzrbtP7CfpkyZQm3btSUnJ0eys7ejhs4NqXuP7jRt+jQ6e/YslZaWGux6ZGVl0fr162nUqFHk5uZW0Xea/taU/Ef40/r16+nz588/lTHXsK3aufz/PtmkaRMaMXIERUZG0sePH6uVu3T5kuR9unv3LvOYycnJzM+L//77T7JscXExs+ynT58qXpuTk0NLly6lLl27kEN9B6rvWJ88PDxo+ozpdOHCBSopKaGkpKSKsnv37mXeo+Ytmus8ZnZ2drV2KgnbUlJS6O+/F5CPjw85uzhX+lzrQH/88QcdOXKEioqKjN4neN+NcvbUOxlzUrIeqf14dLl+/bpkPceOHav2/pYbthUWFlL0vmgKDgmmVq1bVXxvazQaGjhoIC1evFjn548+8vLyaNeuXTRp8iTy9vYmpwZOZGdvR/Ud61PzFs3Jb7gfLV68mG7cuKHXcU6elL4HGRnVl0n7+PEjbdu+jYKCgqhlS7efroWvb1+aN28eJd9ONno/1KU2h20lJSV0MuYkzZw1k3r37k2NGjciewd7cqjvQK6uGvLt50tz586lmNgYKi4uVnyc23duM9+/Vb+bRGVlZdG6deto5KiR1MKtxU/fFSNHjaTIyMifPn/LxV+Kl2wLL9CQG7aVlJTQ0aNHacqUKdSufTtydHQkewd7aqxpTL6+fWnBgvmy+m5cXFxFW+fP/4vZlv4D+lc7vxMnThi0/9+4cYMmBk+sUcZ6r2s0GslrGR4eLlRHz149JesYN36cZLmPHz8y72V9x/rc368nY04y6xgzZrRRrhsAAIhB2AYAAMAwYeIE5h80oaGhiupds3YNs96QSSHCdT15+oQCAwOpnmU9bgBWTm2hpv4D+lNcXJzia6NP2LZ+/XpmWd5+B5Vdu3aNWdfE4InM8r/9/ptk2UOHDlW87sGDB+Tn5yd0fTt36Sw56H/g4AHuYGy5oUOH0rt37xTfI61WS7t27eIOElbm5ORIc+bMkdwvoqbk5ORQeHg4OTVwEm57ZS3cWtDOnTuppKRE+JjduneTrO/vvxdUvK6goID++ecfaqxpLNQWd/eWdPr0ab2ux4cPH2hi8ESytrbmHs/O3o5mzZ5FuXm5RGR+YVtWVhYFhwQLnYu9gz0tWrSQ8vLyKsp37tJZ8vXTpk9jHjswMJB5vFu3bkmWzc3LZZa9evUqEZXRw4cPqUnTJszXenh40KDBgxT17cpSU1OrtVNO2JaamkoDBw0UOlZjTWPatGmToiBbVH5+Ptna2Uq2gfd5Xu7Vq1fMc/nt99+E6tFqtdSocSPJery8qs84FA3bSkpKaNOmTeTqKj3wW5mvb1968OCB3u+96TOmk0N9B+E+1t6rPe3atUvRQwOse3n8+PGK13369Inmzp1LdvZ2Qm3q1r0bNywxtNoYthUVFdGq1au4n0eVuTZxpaVLl1Jubq7s4/F+M8sJuYnkfe85ODhQRMSin74rOnaUnn00c9ZM5rHlhG179uwR/l3XtVtXSkpK4p47KxASYW0tv7+w7N69W6/2KFH5N7gh9ejZQ/KY4yeMF6qjZUs3yTqWLFkiWe7kSXZQ1rt3b+6x37x5w34Pu2qMct0AAEAMwjYAAACGW7duMf+gcXJypMLCQtn18gZtRJ7mzM3LpZmzZsoK2XTx8/NTtBwOr15W2doWtu3bv09osKcyO3s7SkxMrDhOUVERjRs/Tvb9cXZxpufPn8u+Px8+fKD+A/or7hcNGjbQK4zVR0pKCvO+yNF/QP+fBt9YRMK2t2/fUrv27RS1Zc6cOYqCigsXLjAH/KW4u7vTo0ePzCpsi78ULxxSVubZxrMieDbnsC0zM5Oa/taUez6//f4bDfcfrnf/1ids2x61naysrWQfc+jQoYoG4kWxrotGIzaIuGvXLu55pKenc+u5fec2sw5dAYtI2Pb582fq06eP7Gtva2dLBw4eUHRdz58/r+hzpJyPjw+9f/9e1jFFwrbk5GRFnwnW1ta0Y8eOGvvsqm1h25On/5KXl5fi+928RXPZM4sMGbZdvHhRUX9t265txaxJY4dtX79+pREjR8huo6WVJXc5X4Rtxgvbli1bJnlMpwZO9P37d2b5e/fuMdudkpIiWXbBgvnMsgEBAdz2l5SUcK+d3M9qAAAwHIRtAAAAHLyB9WPHjsmqL/l2MrM+XU/KV/Xp0ydZs5V4GjRsQPHx8bLOg1cnq2xtCtv+/nuB4uvqUN+B7t27R7l5udSrdy/F9bRs6aZziSQpjx8/VjR4qUvlGV014fad22Rja2Owvl3+niqf5cXCC9vupNzR+7ouX75c1vXgLS/IY+9gzw1faips239gP6kt1IrPxdVVQ48fPzbbsC3+UjxzH5fKwsPDTRq2zZg5Q6/jDho8yGj9ZN/+fcxj85YKJSqjgIAA7jns3LmTW8/ixYuZdTx+/LhaGV7Ylp6eTs2aN1N87dUWarpw4YKsa8qbTS/K2cWZkpPFAxhe2Hbs2DG9P+9r6qGQ2hS2xV+KF54lyGJpZUl79uwRPq6hwrbo6Gj9viuauNK//z42atiWlpZGbdu11ev67tu/T/L4CNuMF7alpaUxj7tp0yZm+VGjRkmWbfpbU2bZ8RPGM48tumccb3Yybwl9AAAwHoRtAAAAHFu2bmH+QTN06FBZ9U2dOpVZHy9o+vLlC7X3am/wP2qtra3p7NmzwufBq49VtraEbaylZkR5eXnpNcOsXNC4IKHr8fbtW70Haapas3ZNjbzXvn//rvfglRSRAQxW2BYYGEgNGjbQux31LOsJ75l44cIFsqhnofcxeXXURNh28eJFvWfhqtQ/Zlt4eHhI/r8pwzZf377C55GWlmaysM3dvaXex1WpVXT48GGj9JXs7GyytLKUPK5IYC0SigcGBnLrYYWnHh4eOsvwwjY3N+nlx0Q1a96MCgoKhK5nVFSUQe53uQYNG9CTp0+Ejs0K26ZOnWqQzwRXV02N7CdYW8K25NvJzOsul9pCTSdjTgod2xBh27lz5wzyvefm5kbu7u6S/69v2GaIz9EGDRtI7mOHsM14YRtRGY0ePVryuBb1LGjZsmX05cuXn8q8ePGC+xuC1+Z+/fsxy4t+jvze7HdmPafiThnt2gEAABvCNgAAAI7c3FzmE8KWVpbCs44KCwvJyclRsi47ezvm8lx5eXnCMyeUsLG1EV42iFcXq2xtCdvMiUU9C8rMzGSeS2lpKXl7dzD4sdUWaoq/FG/09xpraR992drZUn5+PvP4rLDNkESCv7y8PL2WfJPD2GFbbl4uuTRyqZFzMWXYJsqzjScRsZdLFKUkbDMUNzc3o/WZvn2ll1js1r0bs+zDhw+F2s9bkvLjx4/M2TXz5/+ls5zo3k36ioyM5F7H23duGyTQqsrDw0Mo7DNk6MMiZ/aVUrywrf+A/rRm7RrFeJ9NImFbTk6OwR+2Ual/zJAWCVj1DdtycnKooXPDGukz+oZthiL1OYKwzbhh28ePH7n7ZVpbW5OPjw8NHTqUOUuyXEDAGO5x27Rtw6xj67b/x96d/jdV7A8c/zuStpSlLXsBURFUUATcBQRUuOIKV0RRQUBUQAQBL17cuMqiyKYoKHqvCygIKvtaZCkg1EEpLVsptAUKXfj+HvBqfgVyZk6Spuc083nwfgI9k0maNO18cuZ87Gr+pi1iP5nzSdx/JgIAwiO2AQDgwnPPP6f9o8a05UiVJUuWaMcxhaHRo0e7+gM1mBSUhx9+WCZMGC//+te/ZORLI11vf9fhxg6urkNnGkd3bF2MbckpyfL8C8/Lzz//LMeOHZO8vDxZsWJFxNfvCiYFZfAzg2XVL6vkxIkTkpubK+9Pe99VjFiwYIH2vsz+ZLZxjMzMTHn7nbfl4MGDUlBQIH/s/0MmTZpoDDudbukU1fXG3Dp8+LDxunj3db9PPv/iczl48KCcPHlSjh49Khs2bJC333nb1dkiO3fu1M4hkth2ww3tZOrbUyU7O1sKCgrkwIH98uGHH7p6nbVu09r4eEyc+IareXS6pZN8+eWXkpubKydOnJDs7Gx5+ZWXI1rkjndsGzdunKt59OjRQ5YvXy55+Xly7NgxycrKkudfeD6i6yXWhdg29e2pInJRBj09SDIyMiQjI0PSM9K1xyQlJ4W+trpdu3ZdNc9IYlvjJo1l3LhxsmbNGjl+/LgcP35cVq5cadzqqsru3bvj8pyZ9dEs7WNx5RkH1U2fPt31/f9j/z7HcRYuXKg9dlvWtrDHRRLb7rn3Hvlkzidy4MB+OXnypOTk5Mi8efNcnTVz//09tY9hZWWldsvVKt27d5elS5dKfn6+HDt2TH5b/Zs89vhjxrOLpk2bZvw+RvJz6I4775CPZ38cem/6/fffZeLEN1yNEekOA9Goya27o+Emtr3y6ivGcTp06CBz5swJvWfs2LFDRr40UtLS9NvSPfrYo8bbjzW2jRkzxtVj0bNnT1mxYkXovWJb1jYZ8tyQiK5BWZOx7bbbOsuMGTNkz549cvLkSfn777/li0VfuLpm3k033xT29jvc2CH0c75RWiPtGKmpqVe9N7TMbFmjz/9Ei20iFyUvP6/GPsA4dOhQ47XeRC4aY7LbSxOYrvk5efKkuP9MBACER2wDAMCFrdu2av+o6dKli6txTNsJ6hZ6lVKuFhKGDh0qOTk5Vx1fWloqc+fOlTbXtDGOMWHCeON9MY2hO7auxbamzZo6LqyWlJTIzR1vdvXHeHpGuqxZsybsOLm5udK4SWPt8U6fgBa5dAZms+bNtMf3f6S/Y0gtKi4ybpu5ZMmSuL3GTM+JZ4c8q419RUVF2u0F3SxiuI1to14e5bhtWUFBgdxwgzn8HT9+3HEep06dMi4wB5OCMm/ePMfH5Pjx4663QY1nbDtx4oTUr6+PZQ0bNdReMzI/P9/Vp8oDQf/Eto6dOsqCBQtEKSV//fWXLFmyRPo/0l+SkpPCbiN66tQp7Xi33Wa+lmcVt7GtZ8+ejluYiVyU+fPnG8eI5Gd1JPLy87S3q9vC8uGHH3b9fdKdRaDbZqzttW0dj3MT24JJQZk/f77jGGfOnDGGsvr1U7U/E79Y9IX2+OSUZO1i9tq1a7WL/M2aN5OSkhLt99FNKEtOSZZZH81yHGP37t3GEGQ6S7Em+D22/bH/D+32q4FgQMaMGeP4nDl8+LDxvct0vcRYYtvRo0eNH6xolNZIfvn1F+efG3l5rs/ur6nY9s677zg+phcuXJCH+j5kHOPkyZPaufz000/a40eMGBH35/+vv/0qjzz6SK1av3593O9XaWmpvDTqpYhCbXWNG2fI7E9mu74903hut3984MEHtOMMHz487o8dACA8YhsAAC7ddpv+E6r79u3VHp+Xn6f9pPgtt96iPd7NmQZu/uDLy88zfmq+Xmo949aYprnojq1rsW3p0qXaMdwsSgeC5mscvfbaa9rjdVvUzJs3T3tsly5djNe1KSwslOuuv85xjM6d3S/4R+qdd9+RTrd0Crvg0eaaNlJcXGwcw/S8mjp1qvZ4N7HNzXWeNm7caBxHt2BoWiQPBAPyn//8xziPoqIi7fezSjxj29y5c4237+Z6QCdPnnT1WvVDbLvr7rsctyz9888/w/57bce269tdL6dOnTKOZVooHvXyqLg9d7rd3s3xdp2uYVleXm48S7C6x5943HGcjAznLZ9fefUVx3m7iW1urstz4MB+4zi66z/eeded2mM/+OAD4xy++/477Rims/rdxDY31wQ1XTs3EDQHi1j5PbaZzgpzeq5Xl5OTI2npzmFzwIAntcfHEtvcnJlv+l1M5NIHXlq3aW0cqyZim5vIVVBQYIyImzZt0o7hh9iWyA4ePCj9H+kf1etyxMgRkp+f7+p2ysvLjeMtW7bM1Vh9+/XVjvP8C897/rgCgK2IbQAAuGRaCHj99XHa46e+PVV7/MxZztdfOXLkiPG6K6+OftX1fdm3b6/2OnSBoHkx3/QHo+7YuhTbunfvbpzDH/v3GR+Pe++71zjOosWLtGPcc+89jseaLrruZpHKzffG7aJCtC5cuCC7du2SLxZ9IWPHjpU+D/Rx/anhnTt3auduCgOm2Na4cYar6Cdy0XiW3ddff+147ONPPK499u577nb9eC5btsz43IxnbHvwoQe1t+1ma7IqP//8s/G+eB3bgklB2bFjR8SPU23HNlP4rzJjxgztOP3794/bc+ftd952vN3mLZqHPZtky5YtxvteXbPmzcKOY3pf0UUDU2xr1bqVlJeXu3oMrr3uWu1YTmdK5+XpzwxsmdlSKioqXM1Bd42hPg/00R5rim1du3V1NYei4iLjWVsHDuyP23NRxP+xre21bbXHh9vxIJyhQ4c6jtG4cYb2eRNLbDP9DvPEE0+4/l6Z4lQgGHtsa5TWyPXvA6bwbfp5TGyLn7lz5xp/tpg0SmvkasvL0tJS41jLly93Ne9//OMf2nGeefYZzx9bALAVsQ0AAJeKiou0Wyq1btNau6VT+/btHY9t0LCBnD592vFY05kuaelpxrOWrjR27FjtmDd3vFl7vOkPRt2xdSm2TZ8+3TiHiooKCSYFteO4ua7flq36hWKnhcnTp09rFwvSM9JdPz8OHz6sncNnn33m+WvRSU5OTkwLUqbYNviZwa7nYvqU9BeLvnA8VndGTSAYkJkzncP8lS5cuGAM6/GKbRUVFcYtJBctXhTReE2aNtGO53Vse6jvQ1E9VrUZ29LS01xdl1Pkoqxfv1471oMPPRiX547IpW3xdLe9ZeuWq46ZOlX/oZZwwl13TneWsSlUmWLba6+95voxeOzxx7RjOW2/anoORLLF2JQpUxzHadCwgfa5ZIptH374oet5mMJjdnZ23J6LIv6ObVlZWdpjb+18q+v7+cuvv2jH0v2MjDa2lZWVGbfxc/sBARHzmamBYOyxzens2nBGvjRSO9bCzxdqjye21byKigp5dfSrNfoaHfnSSO1129zEthUrVriav2m75Eh+XwUA1CxiGwAAEXhh6AvaP25+/e3XsMeZtpUz/VE05Lkh2uNNW/uEs27dOuMffbptmUzH6m67LsU23XZ/1ZkWitxce+Lo0aPaMZwW3E0L4pGcPSRyUW659RbHsZ566inPX4dXOnbsmMz6aJbx0+PDhg3TjmOKbbrrO13J9LPC6XpNJ06cML62lFIRPT69et2vHS9ese3vv/823hfdtevC0V1HKxD0PrZF8hyprjZjm5uzdavs2rVLO1av3r3i8typ0uFG5zNE33zzzau+vmfPnmG/VnfWT7gPVOiuw2n6OWKKbd99/53r+//skGe1YzmdBWE67scff3Q9h+3bt2vHcvq9R8Qc20zb51XXtZv+uo1ZWVlxfS76ObaZtpF2cx3eKuXl5doPaLz11luOx0Yb25RS2uOCScGItwk1hepYY1skP+snTBivHWvBggXa44ltNW/48OHG11zLzJYyaNAgGT58uAwY8KTx2pGBoP5vjrKyMuPxP/30k6v5m7aRfO755zx/jAHAVsQ2AAAiYPr0sFM0My28b9y4UXu7pk90L1myJOL7UlFRIc2aN9OOu3r1asfjTX8w6m67LsW2P/bvczUP06Ki7to6VQoLC7VjOF0z7dNPP9UeN3To0IieG7o407Wru22/4qWsrEyysrJk9iez5dkhz0rHTh2110KsznQ2hym2RbJIblpc+2TOJ2GPM22Dd8MN7SJ+zN566y3tmPGKbaYzJCIJSG6f617HtnBnW7lRm7Etku2lTFvk9uzZMy7PnSrjx7/ueNvdbu922deWlpZK/Qb1w37tq6Nflc6dw1939cqtMHNzc7X3eeXKldo5m2Lbzp07Xd//YcOGacdy2h74nnvv0T9Pt7h/nprOdtZFh5p4X6xiun5gJPcpGqbY1qNHD5k8eXLUTHFIF9tM13t1c32+6nTXPBs0yPmMrmhj28qVK7XHRfN7hylAxhrb3J6BJHJRJk+erB1r7ty52uP9ENuKiorkj/37alVRcVFc7suvv/2qfTzT0tNk1kez5Ny5c1c9Bu+9/55x28lvvvkm7O1WVlZqj9P9TL/SAw8+oB0n0t/7AQA1h9gGAECEunTp4vwHWlqanDlz5rKvP3v2rKRnpDse07FTR+3tFRWZF3h1W1DqDBigP0tEt12daU66261Lsc3tNTlMn3jVbS1Tpbi4WDuGU2zTLUgHggFJTU2Vxo0zXNMtJLRqlVmrr7fi4mL59rtvZcSIEdLt9m7GbQl1TCHGFNt0IeZKpms0OsW2r776SntcNGcSLV++XDtmvGLb/PnztbcbzfW+TGdxeh3b8vLyonqsajO2hTsjzIlS+jNOevToEZfnTpWt27Y63nYwKSgnTpwIfa1uAfWnn35y3Dr5yutQfTz7Y8dxGjfOkLKyMu2cTbGtqMj9ArJp+7nvf/g+7HEtM1tqj0tLT3P9fmDajm/ixDcc52+KbW63MxUxn9XqdWybMmVKTOMvXrxYO74utj3y6CPaYxs0bBDR7wC6bbF1gT3a2DZnzhztcZGenS9yUdasWaMdM9bY5vaDWCLm7W2dfh+o4ofYtmDBAu0c4sHNddCiofs7LhAMyLJly7TH//edIrelAAAgAElEQVS//9Ue36pVpuPPNt3lCAJB9x/qMu1YMHbs2Lg/JwAA4RHbAACI0Ny5c7V/4Fx5DaJFixdpv950La+8/Dzt8UnJSVHflxdffFE79qRJEx2PNf2RrLvdmoxtv63+TTtWrLHN7Tx0C5Jp6Wmuxog2tj3/wvO1tviRlJwk5eXlcX2NVVRUyNdffy29et1v3J4zEqbFNVNs++uvv1zfh3fefUc7ltPimunT+A8//HDEj6dp0TFesW3GjBna2x04cGDEY5rOLvY6tl35YQu3ajO2TZs2zfVYprOaItmSMlq6s2w+/+Lz0Nc5nU1aL7WelJSUyM8//+w4zvbt20Pj9OvXz/Hrnh78tHG+ptimu97blUaPHq0dy2lh1u3ZvjVB9x6ri23pGekRPQ8GDhygnYfNsc10JmNN6tChg+M8oo1tH3zwgfY43dl0TkzXwI01tkXywYr33n9PO9bsT2Zrjye21RzT7xBur8Vn2qr3559/Dnuc6f1h4UL99fuqmIJhpGezAgBqDrENAIAIlZSUSFq681lMvfv0vuzrdZ8+rN+gvpw6dUp7e4cOHdL+QdWwUcOo74vp4uDjxo1zPNb0R7Ludk2xzRQgqzNtVRdLbEtOSXY9D11sa9yksasxoo1tTw9+ulYXQPLz8+P2+tq+fbv2ekmxGD16tPa2TbEtkvttWlxzim2zP5mtPS6as8FMW1PGK7aZFlAHDhwQ8Zi///67dkwvY1u91HpRP1a1GdvCXaPMSV6e/sMetRHbdGd3VQ+2t99xe9ivufe+e0Xk0lnmqanhz4x9f9r7InJpK0pdIHI6k6w602JqJPd9zJgx2rHCxbaKioqYfk5Gqs8DfRznr3ssm7doHtFjYXrt2hzbut3erda+37oPD0Ub296f9r72uGhi27asbdoxY41tR48edT0X0/0jtoUXj9hmOstQt31+daa/PUa9PCrscaZrC//nP/9xdfumDwp+9dVXcX9OAADCI7YBABAF3RlhySnJoa2tjhw5ot2Ox80nKI8ePar9gyqSIHSlESNGaMfWbQ9l+iNZd7um2Ob2j02Ri7JixQrtWLHEtpR6Ka7noYttTZs1dTVGtLFt8DODa3UBJJLr7ETip59+Mm6xE06rVpkyaNAg4/PKtK2OKbYdO3bM9X2JNraZzmx78KEHI35cN2zYoB0zXrFNtx1fIBhdODTdFy9jW4uWLaJ+rIhtznTbQzZp2kQqKiqkqKjI8Wyuf/3rX6GxevToEfZrHur7kIjo308apTW66ho+4Xgd29xcF6gm6bYS1cW2zMzItiQmtqU6HusUmuMhNdV5HtHGtpmz9D+zonmPMm0xTmyLTKLEtu7duzveXtNmTV2feVxRUSGNmzR2HMvpDND+j/TX3uc33pjg6vYbNmqoHWft2rVxf04AAMIjtgEAEIUdO3Zo/8iputi5abF5/fr1xtsyBZhAMLLrnlRnOiNKtw2JaU662zVFkffef8/1fTAtUNkQ20aM1EfT9Ix0adUqs8ZEe10qnb1797q6HlswKSidO3eWkS+NlCVLlkhubm5ojJycHO2xr7/ufKamiD9im+mabd1u7xbxY7vql1XaMeMV2xYuXKi93a5du0Y85pIlS7Rjehnb2rdvH/VjRWxzVl5erl3U3LhxoyxdulT7/1VjOZ3VkJaeJuXl5dqz6B5/4nFX8/U6tomYr5WWmVlz7wdPPPGE4/yJbe7FEtvuv7+n9tgmTZvU2Pf7+nbXO84j2thmCjm333F7jT+exLbIJEpsa9a8mePtdenSJaKx2rdv7ziW0za5w4YN097nF1980Xi7Z8+eNT52OTk5cX9OAADCI7YBABAl3bY9VdsqPdT3Icevuenmm1zflmm7kFWrVkV1H9q1axf1uKY/9HS3a4ptU9+e6vo+zPpolnYsG2KbKey8+eabnr9eTEwXe2/cOEPeefcdOX36tOMY+/bt1Y5h+sSwH2KbacvHBg0bRHTNJxFzfIlXbNNdIysQvHT9P9M2ulca9PQg7ZhexrabO94c9WNFbNPTfTDkjTcmyMuvvBz2/6oiWuj1pbmO0+bNm7WhzO22XH6IbR1u7KA97vDhw7XyfSO2uRdLbBvy3BDtsbW1pVy0sc0Uk5JTkqWoqKhGny/EtsgkSmzTnRHWpcttEY2l+znr9Hr98MMPtffZze9jpssL1G9QXy5cuBD35wQAIDxiGwAAUdL94ZlSL0Vyc3O1Z+p8+OGHrm9rwIAna/wP7b179WEiEAzIkSNHHI83Hau7bdO1nCJZtJoyZYp2LBti23//+1/tcW4+Keulw4cPa+eflpYmf/75p3GcnTt3aseZPHmS9ng/xLaCggLja2vPnj0RPb79+vWLeXEnGkXFzlv7Vfnf//7nerzy8nJp2qypdjwvY9stt94S9WNlim1Or/1wEjG2fff9d45z6NLlNunYqWPY//vHP/5x2Ti6rb902/GmpqZKcXGxq7n6IbY9+NCD2uO2bttaK983Ypt7scS2t956S3tsJL9vxiLa2Hb69Gntluu653o4ZWVl0rix8+9kgWBixbbhw4fH/XubKLFNd83ta9peE9FYmZmZjmM5Xdtw8+bN2vvc9tq2xtv98ccftWPotvYFAMQfsQ0AgCidOXNG0jPSHf/YeeDBB7SLJoWFha5va/r06do/rFq1bhXx/N9+523tmNded632eNMfybpjTYvBLwx9wfX9eGHoC9qxbIhtBw7s1x7X5po2UllZ6flrxsmnn36qnX/1ay7prFu3LqZx/BDbRC5Kk6ZNtMcuXLjQ9TzKysokLc15cSkQjF9sE7koXbt21d72kOeGuB7LtB1mIOhtbIskiF3p9OnT2rEjCXmJGNvOnj1r3BoxnBkzZlw11qOPPRr2a3WL/X379XU9Vz/EtnHjxmmPmzRpYq1834ht7sUS23TbqAaCAbn//p618v2ONraJXJTbbuusPTaS3wtNZ1UHgnUrti1fvlx7/LBhw+L+vS0uLhalVK0qKSmp8ftxww36HT3cfpjJtJOC0+8D58+fl9RU/Zbppusiv/HGBF/8fAcAhEdsAwAgBqZrZTl56qmnIrod3dZXVSJZgC8qKpJrr7tWO55p60HTfHTHzp07V3vsnXfd6ep+lJeXS5tr2mjHsiG2iVyU666/TnusbpGrupUrV0r79jdI/0f6yxtvTJAvv/xSdu3aJefPn4/b68hpC7gqy5cvdzWOaUvRunBmm8hFGThwoPbYSK51ZlqEDQTjG9tMsSApOcnVIvnp06eNESMQ9Da2RbLVY6Rjd+zU0fVYiRjbRC7KI48+Yvz+X2nv3r1XjWO6lmo4CxYscD1PP8S21atXa4+74YZ2rucw5Lkh0u32bvLMs8/I+9Pel+XLl192rUwdYpt7scS2kpIS7QJ+UnKS6zj00ccfScdOHWXAgCdlypQp8u2338of+/+4bDtWJ7HEtldefUV7bHJKsqszMk+dOmX8/TYQrFuxzRQPIwmRtjPtFOJ22/Wpb4e//meVQU8Pcjz2zrvu1B5rOhP11s63ao+P9tICAICaQWwDACAGu3fvNv5BH87atWsjup3y8nLj9dUaNmooW7aaF5suXLggDz/8sHasYFLQuJhmuo+6Y3/59Rf9olKD+q6uz/HOu+8Y52FLbBv50kjtsVdup+bkH//4R9jjk1OSpUOHDjLro1k1/jp68cUXtXOfN2+ecYyysjLp3Fn/yfgJE8Zrx/BLbPvmm2+Mz2vT4pzIRTl58qS0btPaOFY8Y5vpGnSB4KVF95ycHMcxTp06JXfceYdxnECw7sa2M2fOaMc2nWlcXaLGtoWfL3T1HKjSqlX4mJOTkxPROMkpyXLy5EnX8/RDbCsrK9O+JwWCAfn2u2+Nt5+bmyv1G9QPe3xaeprcfsft2i1+iW3uxRLbRC5Kr969tMePHTvWOIeysjLH+5mamiqdbukkPyz9wfH4WGLbpk2bXL2mdc+3wsJC7fWUq6tLsW3VKv1Z3QMHDozrcz+RTJs2TftYtmjZQvLz87VjFBYWSttr22rH+Xj2x47Hm0Jdm2vaOF5zbdmyZdpjMzIy5MyZM54/zgBgM2IbAAAxMn1C8UodbuwQ1e3Mnz/fOHZ6RrosXrzY8RPIf+zfJ30e6GMcx83WbqYxdMceOXLEeLxpW5wvv/zSeI2PQNCe2ObmGnyvvz5Oe/umP+IDwYD8tvq3Gn8NjR07Vnub3W7vZhzj9df126YFggEZN05///0S20pKSrRb1AaCl85U+OqrrxzHKCwsdB2o4hnbRC7Kvffda5xD/fqpMmLEiMsi/5EjR2TcuHHGaFBdXY1t58+f146dnJIsBQUFVx1XUVFx1b8lamwrLCyU5JRk18+Fpwc/7TiWaaG0up49I9uCzw+xTcT8czU9I122ZW1zPL6yslIee/wx7RjXXX+ddotiYpt7scY23XUNq3z22WfaMUwhIik5SQ4fPux4fCyxTcT8HhwIXvow1siXRl42jyNHjshrr71mfN+sri7Ftt9W/6Y9/sabbrzqdRjuvQGXPkCQUi9F+3je2vlWOX78eNjjS0pK5J577zG+Vk+dOuU4h4KCAu01vQPBgLw6+tWrvqe5ubnG9xc3UR0AEF/ENgAAYrRwYWSftv/Pf/4T1e2UlZXJzR1vdnUbba9tK9OmTZMVK1bI6tWr5ZtvvnE8Y+lKmZmZcvr0aeN8TOOYjjddvD4QDMjQoUNFKRU6prKyUrZs3SKDnh7k+vG2JbaJXJT+j/Q3Ph79H+l/1YLXmTNnZNZHs4x//EeyfWEk3ITkUS+PCrt4VFBQIIOfGezquTB8+HDtPPwS20TcnbUZCAbk0ccelZUrV8qZM2ekoqJC8vLzZPz41yUtXX+dturiHdvcXGutukZpjaRRWqOIjqlSV2ObyEXj9+ymm2+SefPmybx582TMmDFyfbvrw8bvRI1tIhfl/vt7un4ufP7F547jPPf8c67HifRsXr/EtiNHjhh/pqelp8nkyZPkyJEjlx37119/OV7bLpLHhtjmXqyxrbKy0jjHQPDSloPZ2dmXHVtYWGi8DlQgGJB//vOf2jnEGtvcXGvtsudvWlrU7xV1Kbbt2bPHeH8efOhBWfj5Qvl49scy5Lkh0qx5MyktLY3ra6KuGjTI/DdEo7RGMurlUZKVlSWHDh2S7OxsmTjxDWneornxWN0WklWeHfKscZyuXbvKBx98IIsWL5KXX3nZ+HdTSr0UycvL8/zxBQDbEdsAAIjRuXPnXIWjQPDSNjyRbEd1pbVr1xo/kRmLYFJQli1b5mouprFMxz89+GnX82rdprXceNON0rRZ04jvk02x7Y/9fzhu+XWlDh06yP3395Tu3btrF0SrNGzUUP7Y/0dcXkNuzuQKBC+dRTF58iT57LPPZObMmdK3X1+pl1rP9XOhR48e2nn4KbaVlpZqn5s1Kd6xTcS8COuW6Sy3uhzbOnbqGPHjsWjxoqvGSeTYZrouY3VXBqTqvvrqK9fjmLYUu5JfYpvIRZk8ebKr+1gvtZ7ceded0rtPb7nl1ltcHdO7T2/tWW0ixLZIxBrbRCKLVbd2vlV69e4ld951p6vfK1u3aS2FhYXa2481tolcjOjDVDqm94q6FNtMvxs6OXjwYFxfE3VVTk5ORB9IikTjxhna954qf+zf5/r3dbfcRD4AQPwR2wAAqAGjXh7l6g+hmriuwvc/fC+pqfpPq0fLzXWgqpjGMh2/Y8eOGplzm2vaSM+ezmc72BTbRC7KvHnz4vLcmDt3blxfQy+Neiku866ueYvm2jn4KbaJXJR169ZFFBOdNG6cod3KsTZiW0lJietFfN3377PPPtN+TV2ObW4+6X6ld99796pxEjm25eXr51Plpptv0o5z4sQJV+PcededEc/RT7GtrKxM7ut+X8w/Q67UrHkzVwvKxDb3aiK2uXnORCOYFJTVq1cbb7smYltxcXFUHzyorkXLFrJgwQLt19Sl2CZyUTp06BDx4+Dm8baVm21Xo6E7o/pKc+fOrbHbzczMDLvVNACg9hHbAACoAW6ulxUIBlwtVrjx888/1+gnIpNTkiOOKaYx3YwxbNiwmObdqlWm7Nq1S3tdGdtim8hFeeutt2p08eDJJ5+M+2vo4MGDrs8QdZKekS6PP/G49mtycnIc5+C32CZy6QwcN9cmdNIorZH8+tuv2jNJayO2iVzaqszNNXnCaXttWzlwYL+sWqXfkvKlUS9p5+Dn2BbpFmqBYPgF40SObSIXpdvt3YyPy6iXRxnH6dy5s3Gc96e9H/H8/BTbRC6FxdvvuD3qnyFXSk5Jdn0GPLHNvZqKbeXl5a63VnZr8uRJrm67JmKbyEU5efKk62uOXum666+TnJwcWbFihfbrXnn1Fe0c/Bbb3J6lWt2SJUvi+pqo6z744IMafZ3861//ingOo0ePjvl2U1NTZcOGDZ4/ngCAS4htAADUENMFs9u3b1+jt7dx48aYP/0bCAakw40dZMvWyBepTOO6GaO8vFz69zdfZyycmzveLIcPHxaRi8S2ML77/jtJS4t9m5yxY8dKeXl5rbyGNm7cGPWcb7n1FsnOzpZdu3Zpv27mrJmOt+/H2CZyUZYuXRpViGzeorlsy9omIvptW2srtolclLNnz8rTg5+OKCDee9+9oa38TAuor45+VXv7fo5tlZWV0r1794i+x48/8fhV4yR6bJv69lTj47J06VLjOGPHjjWOE802bH6LbSKXtqWN5szJKzVr3izsdQKdENvcq6nYVuXDDz+U5JTkmL7fKfVSIrpmYU3FNpFL15KNdEvJ7t27hyLYjz/+qP3asWPHam/fb7HtxIkTkpmZGdHjEe01om3y7XffGrccNWnYqKF8PPvjqOcwY8aMqF+rLTNbytq1az1/HAEA/4/YBgBADfli0RfaP4ii+YS8SXl5ucyfP1863Bj59jLNWzSXSZMmyrlz56K6bdP4bscpLS2V1157zfV2eQ0aNpCJE9+QkpKS0BjEtvBycnJkyHNDotp29Kabb6qxMzEjsWvXLldnrlSpXz9Vxo9/Xc6fPx8ao3Wb1o5f3+HGDo7XGfJrbBO5KH/99Zd2u9Qr9e3X97JQ4JfYVv373P+R/trF+C5dbpMflv5w2XGxLqD6ObaJXJSCggLp1et+19/nu+6+66oxEj22/bF/n3ZOySnJUlxcbBzHdCZhpD9vq/gxtlX53//+F/VZbs88+4wcP348otsjtrlX07FN5KJs2bpF+j/SP6qzo+/rfp9kZ2dHdHs1Gduq7NixQ/r3N71XdLkqsP+w9AftXF5/fZz2dv0W20QuvW/ecEM719/DMWPGxPU1kSiOHTsmL416Kaptu/v26yt//fVXzHNYvXq1dOnSJeLbjvSaogCA+CO2AQBQQ0pLS+Xd996Vd959J6x47qVfWVkpa9eulSlTpkjvPr0dzw5q166dPPb4Y/Lll19eFieiYfojMNLxcnNzZcKE8XLHnXdISr2Uy8ZKTU2V7t27y5QpU8IGj+9/+N7xcV++fLn2dmd/Mtvx2EgC6fTp0x3HmTnT+Wyq6i5cuOA4xjvvviMLFy6M6nt17NgxmTp1qvTr109atW4V9vtVL7We9OjRQ6ZOnSrbsrZJRUWFZ6+lyspK+e7772TQ04OkabOmV821QcMGctfdd8m///3vsNcN+umnn7SPo9NrcdHiRdrjzpw54/o+bNm6RTvWjh07onpsNm/eLAMHDgwbFK9vd70MeW5I2GCke0y+/+F7z77XZWVlsmXLFpn9yWyZNm2afPjhh/Ltt986fo++/e5b7c+dqW9P1d7esmXLtN8X3cJVvF6fV6qoqJBvvvlGevbsGXa74CZNm8j99/eUSZMmilLqquO3b9+unWdWVpbruRQXF2vH+vLLLz153sycOdNxTvPnz3c1xtmzZ7X3bdUvq6Ka25w5cxzHDHeNPZ3fVv+mnaNuW1ydDRs2yIiRI+TOu+6Uho0ahn0ttWjZQv75z3/KwoULJS8/L6rb+eCDDxzn/tHHH0U0lum16+YacrFYsGCB9vY3btwY0/h79+7Vjh/LWUpKKZkwYbz06t1LmjVvFvb73SitkfTt11emT58u+/btjep2li9frr0PeXnRPY9ELv383bx5s+v3iv/+97/a94r33n9Pe3uLFy/25e8DJSUlMmPGDOncuXPYs6HaXNNGHn74YZk+fboUFhbG9TWRaI4ePSqzP5ktDzz4gDRv0dzxddK1W1eZPHlS2PffWP38888yYMCTcu11115120nJSXJzx5vlxRdflL17o3uNAgDij9gGAEACKi8vF6WU7Nq1S7KysiQ7O9vVJ/39oqSkRLKzsyUrK0v27t0b9dl3CO/EiROhx3fXrl3y559/RrRwVJsqKirk77//luzsbNm+fbscOLC/1ra19Lv8/HzZsWOH/P7779Z8unnJkiXaBdQvFn3h+RxrUnl5uRw4sF+ysrJk586doa1zgZpSUVEhBw8elJ07d4bec3Nzcx3PAEbdl5efJ7t37w79fnjw4EG5cOGC5/OqSaYzBb36oEBNOnfuXOh3ud27d8f1Q302KiouCj2+O3bsqPWfi8ePHw/9Hbdnzx45e/as548JAMCM2AYAAAAgLn797VcZO3aszPpolvz4448xh//Zn8zWLqB6sfUpACA2v/z6i7z22mvy0ccf1ch7xayPZmnfK9avX+/5fQYAAImH2AYAAAAgLpziWOMmjaVz587Sv39/+fTTT12PZ7puk1LK8/sMAIiMUxyr/l4RyVa9AwY8qX2vOHTokOf3GQAAJB5iGwAAAIC4MF03JxAMSNtr27raGnRb1japl1rPcZzmLZqz9R0A1EFfffWV8b3iuuuvc/VesWXrlquu/Vtdy8yWnt9fAACQmIhtAAAAAOLi77//Ni6gBoIBGT/+damoqHAcZ+nSpZKZmakd45lnn/H8/gIAIvfnn3+6eq94440J2veKH5b+YHyveO755zy/vwAAIDER2wAAAADETefOnV0torZo2UIefexRee2112T8+NfllVdfkd59ekvzFs1dHb9hwwbP7ysAIDqdbunk+r3isccfu+y9olfvXtKseTNXx2/evNnz+woAABITsQ0AAABA3LjZSjJWTzzxhOf3EwAQvSVLlsT9vWLgwAGe308AAJC4iG0AAAAA4urpwU/HbfG0abOmcvjwYc/vIwAgNk899VTc3iuaNW8mefl5nt9HAACQuIhtAAAAAOLq3Llz8lDfh2p88bRVq0zZtWuX5/cPABC7s2fPSp8H+tT8e0XrVpKdne35/QMAAImN2AYAAAAg7ioqKmTq21OlcZPGMS+cJqcky/Dhw+X48eOe3y8AQM0pLy+Xf//739K4cUaNvFeMGDlCTpw44fn9AgAAiY/YBgAAAKDWlJSUyMxZM+WBBx+QtPS0iBZOO3bqKBMnviEHDuz3/H4AAOKnuLhYZs6cKX0e6BPxe0WnWzrJpEkTJScnx/P7AQAA7EFsAwAAAOCJ8vJyyc7OlhUrVsinn34qU9+eKpMnT5KJE9+QN998U957/z35+uuvZcvWLVJQUOD5fAEAtc/te8XWbVvl5MmTns8XAADYidgGAAAAAAAAAAAARInYBgAAAAAAAAAAAESJ2AYAAAAAAAAAAABEidgGAAAAAAAAAAAARInYBgAAAAAAAAAAAESJ2AYAAAAAAAAAAABEidgGAAAAAAAAAAAARInYBgAAAAAAAAAAAESJ2AYAAAAAAAAAAABEidgGAAAAAAAAAAAARInYBgAAAAAAAAAAAESJ2AYAAAAAAAAAAABEidgGAAAAAAAAAAAARInYBgAAAAAAAAAAAESJ2AYAAAAAAAAAAABEidgGAAAAAAAAAAAARInYBgAAAAAAAAAAAESJ2AYAAAAAAAAAAABEidgGAAAAAAAAAAAARInYBgAAAAAAAAAAAESJ2AYAAAAAAAAAAABEidgGAAAAAAAAAAAARInYBgAAAAAAAAAAAESJ2AYAAAAAAAAAAABEidgGAAAAAAAAAAAARInYBgAAAAAAAAAAAESJ2AYAAAAAAAAAAABEidgGAAAAAAAAAAAARInYBgAAAAAAAAAAAESJ2AYAAAAAAAAAAABEidgGAAAAAAAAAAAARInYBgAAAAAAAAAAAESJ2AYAAAAAAAAAAABEidgGAAAAAAAAAAAARInYBgAAAAAAAAAAAESJ2AYAAAAAAAAAAABEidgGAAAAAAAAAAAARInYBgAAAAAAAAAAAESJ2AYAAAAAAAAAAABEidgGAAAAAAAAAAAARInYBgAAAAAAAAAAAESJ2AYAAAAAAAAAAABEidgGAAAAAAAAAAAARInYBgAAAAAAAAAAAESJ2AYAAAAAAAAAAABEidgGAAAAAAAAAAAARInYBgAAAAAAAAAAAESJ2AYAAAAAAAAAAABEidgGAAAAAAAAAAAARInYBgAAAAAAAAAAAESJ2AYAAAAAAAAAAABEidgGAAAAAAAAAAAARInYBvhQWVkZAAAAAAAAElxlZeVla0J/7N8nQ4cNlT///POyf6+srPR8rgCic+XrHImJ2Ab4yN69e6V9+xskEAwAAAAAAAAggd1+x+1XrQ01bNhQAsGANG/R/Kr/a92mtedzBhC55i2ay/Llyz1fe0Z8EdsAH5kwYbznP/wBAAAAAAAQf7379L5qbajq/4JJwav+r9vt3TyfM4Do9O3X1/O1Z8QXsQ3wkVdefeWyH8LXXX8dAAAAAAAAEtDgwYOvWhuqWhMKF9seefQRz+cMwL3q67w9evTwfO0Z8UVsA3ykemz73//+5/l8AAAAAAAAUHt0sQ1A3aKUIrZZhNgG+AixDQAAAAAAwF7ENiBxKEVsswmxDfARYhsAAAAAAIC9iG1A4lCK2GYTYhvgI8Q2AAAAAAAAexHbgMShFLHNJsQ2wEeIbQAAAAAAAPYitgGJQylim02IbYCPEGL1UAQAACAASURBVNsAAAAAAADsRWwDEodSxDabENsAHyG2AQAAAAAA2IvYBiQOpYhtNiG2AT5CbAMAAAAAALAXsQ1IHEoR22xCbAN8hNgGAAAAAABgL2IbkDiUIrbZhNgG+AixDQAAAAAAwF7ENiBxKEVsswmxDfARYhsAAAAAAIC9iG1A4lCK2GYTYhvgI8Q2AAAAAAAAe1WtCyUlJ3k+FwCxUYrYZhNiG+AjxDYAAAAAAAA7lZWVEduABKIUsc0mxDbAR4htAAAAAAAAdiouLg6tCyWnJHs+HwCxUYrYZhNiG+AjxDYAAAAAAAA7FRQUhNaFUuqleD4fALFRithmE2Ib4CPENgAAAAAAADvl5eUR24AEohSxzSbENsBHiG0AAAAAAAB2Uur/F+brpdbzfD4AYqMUsc0mxDbAR4htAAAAAAAAdtqzZ09oXSg1NdXz+QCIjVLENpsQ2wAfIbYBAAAAAADYafv27cQ2IIEoRWyzCbEN8BFiGwAAAAAAgJ22bNkSWheqXz/V8/kAiI1SxDabENsAHyG2AQAAAAAA2Gnz5s3ENiCBKEVsswmxDfARYhsAAAAAAICdiG1AYlGK2GYTYhvgI8Q2AAAAAAAAO23atInYBiQQpYhtNiG2AT5CbAMAAAAAALATsQ02O3XqlBw4sF+ys7Nl165dsmfPHjl48KCcO3fO87lFSylim02IbYCPENsAAAAAAADstHHjRmIbrFJRUSF5+fmyZetW+W31ake7d++WwsJCz+cbKaWIbTYhtgE+QmwDAAAAAACwE7ENNikvL5cdO3ZoI9uVDuXmej7vSChFbLMJsQ3wEWIbAAAAAACAnTZs2EBsgxXChbbVa9bIuvXrZcPGjbJx4ybZsGGjrF23rk4HN6WIbTYhtgE+QmwDAAAAAACwE7ENtti5c+dlAW39+g2yadNm2bx5y1U2bdosa9deHt3yjxzx/D64oRSxzSbENsBHiG0AAAAAAAB2Wr9+PbENCa+oqOiycLZhw8awke2q4FbtLLeNmzZJZWWl5/fFRClim02IbYCPENsAAAAAAADsRGyDDfbu3RuKZuvWrTeGturBbfWaNaFjT5w44fl9MVGK2GYTYhvgI8Q2AAAAAAAAO61bt47YhoR2/vz5y4KZ09aRTtav3xA6dseOHZ7fHxOliG02IbYBPkJsAwAAAAAAsBOxDYmuoKAgFMvWrl0XUWirOrut6vjVa9Z4fn9MlCK22YTYBvgIsQ0AAAAAAMBOa9euJbYhoR09ejSqLSSrq35mXHl5uef3SUcpYptNiG2AjxDbAAAAAAAA7ERsQ6Ijtnk/J8QPsQ3wEWIbAAAAAACAndasWUNsQ0Krvo3kmrVr2UYSCYXYBvgIsQ0AAAAAAMBOxDYkugsXLlx2ZtqmTZsjim3r128IHbtz507P74+JUsQ2mxDbAB8htgEAAAAAANhp9erVxDYkvL1790a1leSmTZsvC3UFBQWe3xcTpYhtNiG2AT5CbAMAAAAAALATZ7bBBsXFxaFg9tvq1bJ+wwZXoW3t2nXVzojbJJWVlZ7fFxOliG02IbYBPkJsAwAAAAAAsNP69euJbbDC7t27Lw9u6zc4bil5ZWj7bfVqOXr0qOf3wQ2liG02IbYBPkJsAwAAAAAAsNPmzZuJbbBCRUWF7Ny587KA9tvq1bJu/XrZsHGjbNy4STZs2Chr16276msO5+V5Pn+3lCK22YTYBvgIsQ0AAAAAAMBOW7dtDa0Lpaamej4fIJ6cgptOXQptIsQ22xDbAB8htgEAAAAAANhp+/btxDZYpaKiQo4cPSrbsrK0kS07O1tOnz7t+XwjpRSxzSbENsBHiG0AAAAAAAB22rlzJ7EN1ioqKpKcP/+UvXv3yu7du2Xfvn3y199/S2lpqedzi5ZSxDabENsAHyG2AQAAAAAA2Ck7O5vYBiQQpYhtNiG2AT5CbAMAAAAAALDTH/v3hdaF6qXW83w+AGKjFLHNJsQ2wEeIbQAAAAAAAHbKyckhtgEJRClim02IbYCPENsAAAAAAADsdPDgQWIbkECUIrbZhNgG+AixDQAAAAAAwE6HDh0itgEJRClim02IbYCPENsAAAAAAADslJefF1oXSqmX4vl8AMRGKWKbTYhtgI8Q2wAAAAAAAOx09OhRYhuQQJQittmE2Ab4CLENAAAAAADATidOnCC2AQlEKWKbTYhtgI8Q2wAAAAAAAOxUWFhIbAMSiFLENpsQ2wAfIbYBAAAAAADYqaioKLQulJyS7Pl8AMRGKWKbTYhtgI8Q2wAAAAAAAOx05swZYhuQQJQittmE2Ab4CLENAAAAAADATqWlpcQ2IIEoRWyzCbEN8BFiGwAAAAAAgJ3KyspC60JJyUmezwdAbJQittmE2Ab4CLENAAAAAADATpWVlcQ2IIEoRWyzCbEN8BFiGwAAAAAAgL2IbUDiUIrYZhNiG+AjxDYAAAAAAAB7EduAxKEUsc0mxDbAR4htAAAAAAAA9qpaFwomBT2fC4DYKEVsswmxDfARYhsAAAAAAIC9iG1A4lCK2GYTYhvgI8Q2AAAAAAAAexHbgMShFLHNJsQ2wEeIbQAAAAAAAPYKxbYgsQ2o65QittmE2Ab4CLENAAAAAADAXlXrQoFgwPO5AIiNUsQ2mxDbAB8htgEAAAAAANiL2AYkDqWIbTYhtgE+QmwDAAAAAACwF7ENSBxKEdtsQmwDfITYBgAAAAAAYC9iG5A4lCK22YTYBvgIsQ0AAAAAAMBexDYgcShFbLMJsQ3wEWIbAAAAAACAvYhtQOJQithmE2Ib4CPENgAAAAAAAHsR24DEoRSxzSbENsBHiG0AAAAAAAD2IrYBiUMpYptNiG2AjxDbAAAAAAAA7EVsAxKHUsQ2mxDbAB8htgEAAAAAANiL2AYkDqWIbTYhtgE+QmwDAAAAAACwF7ENSBxKEdtsQmwDfITYBgAAAAAAYC9iG5A4lCK22YTYBvgIsQ0AAAAAAMBeVetCwWDQ87kAiI1SxDabENsAHyG2AQAAAAAA2CsU25KIbUBdpxSxzSbENsBHiG0AAAAAAAD2IrYBiUMpYptNiG2AjxDbAAAAAAAA7EVsAxKHUsQ2mxDbAB8htgEAAAAAANiL2AYkDqWIbTYhtgE+QmwDAAAAAACwF7ENSBxKEdtsQmwDfITYBgAAAAAAYC9iG5A4lCK22YTYBvgIsQ0AAAAAAMBexDYgcShFbLMJsQ3wEWIbAAAAAACAvYhtQOJQithmE2Ib4CPENgAAAAAAAHsR24DEoRSxzSbENsBHiG0AAAAAAAD2IrYBiUMpYptNiG2AjxDbAAAAAAAA7EVsAxKHUsQ2mxDbAB8htgEAAAAAANiL2AYkDqWIbTYhtgE+QmwDAAAAAACwV9W6UFJykudzARAbpYhtNiG2AT5CbAMAAAAAALAXsQ1IHEoR22xCbAN8hNgGAAAAAABgL2IbkDiUIrbZhNgG+AixDQAAAAAAwF7ENiBxKEVsswmxDfARYhsAAAAAAIC9iG1A4lCK2GYTYhvgI8Q2AAAAAAAAexHbgMShFLHNJsQ2wEeIbQAAAAAAAPYitgGJQylim02IbYCPENsAAAAAAADsVFZWRmwDEohSxDabENsAHyG2AQAAAAAA2On06dOhdaHklGTP5wMgNkoR22xCbAN8hNgGAAAAAABgp7z8vNC6UEq9FM/nAyA2ShHbbEJsA3yE2AYAAAAAAGCnnJyc0LpQvdR6ns8H8MLff/8tP/30kxQVFXk+l1gpRWyzCbEN8BFiGwAAAAAAgJ127NgRWhdKTU31fD5AbSovL5eBAwdeFpxXrlzp+bxioRSxzSbENsBHiG0AAAAAAAB22rBhQ2hdqH79VM/nA9SmF4a+EHr+V0nPSJeKigrP5xYtpYhtNiG2AT5CbAMAAAAAALDTqlWr/j+2Najv+XyA2jJ16tSrQluVgwcPej6/aClFbLMJsQ3wEWIbAAAAAACAnb77/rvQulCDhg08nw9QGxYtXuQY2jIzM+X8+fOezzFaShHbbEJsA3yE2AYAAAAAAGCnxYsXh9aFGjZs6Pl8gHhbvXq11Eut5xjb5s2b5/kcY6EUsc0mxDbAR4htAAAAAAAAdpo7d+7/x7ZGxDYktj179khGRoZjaBs9erTnc4yVUsQ2mxDbAB8htgEAAAAAANhp+vTpoXWhRmmNPJ8PEC/5+flyTdtrHEPb4088LpWVlZ7PM1ZKEdtsQmwDfITYBgAAAAAAYKepU6eG1oXS0tM8nw8QD8XFxXLbbZ0dQ9vd99wtpaWlns+zJihFbLMJsQ3wEWIbAAAAAACAnSZMGB9aF0rPSPd8PkBNKy8vlwcefMAxtLVv315Onjzp+TxrilLENpsQ2wAfIbYBAAAAAADYqfq6UEZGhufzAWra8y887xjamrdoLgcPHvR8jjVJKWKbTYhtgI8Q2wAAAAAAAOz0wtAXQutCjRsT25BY3nrrLcfQ1qBhA9mydYvnc6xpShHbbEJsA3yE2AYAAAAAAGCnp5566v9jW5PGns8HqCmff/G5Y2hLSk6SH5b+4Pkc40EpYptNiG2AjxDbAAAAAAAA7NT/kf6hdaEmTZp4Ph+gJvzy6y+SUi/FMbbN+miW53OMF6WIbTYhtgE+QmwDAAAAAACwU+8+vf8/tjUltqHu2717t6RnpDuGtrFjx3o+x3hSithmE2Ib4CPENgAAAAAAADvdfc/doXWhps2aej4fIBZ5+XnSuk1rx9A2YMCTUllZ6fk840kpYptNiG2AjxDbAAAAAAAA7NTplk6hdaFmzZt5Ph8gWkXFRXJr51sdQ9u9990rpaWlns8z3pQittmE2Ab4CLENAAAAAADATs2aNwutC7Vo2cLz+QDRKCsrk169ezmGtg43dpDCwkLP51kblCK22YTYBvgIsQ0AAAAAAMA+ZWVlEkwKEttQ5z075FnH0NYys6X89ddfns+xtihFbLMJsQ3wEWIbAAAAAACAffLy8y6LEsQ21EVvvvmmY2hr2KihbMva5vkca5NSxDabENsAHyG2AQAAAAAA2CcrK4vYhjrts88+cwxtSclJ8uOPP3o+x9qmFLHNJsQ2wEeIbQAAAAAAAPZZtmwZsQ111sqVKyWlXopjbPtkzieez9ELShHbbEJsA3yE2AYAAAAAAGCfefPmEdtQJ+3cuVPS0tMcQ9vrr4/zfI5eUYrYZhNiG+AjxDYAAAAAAAD7vPXWW8Q21DmHDx+WVq0yHUPbP//5T6msrPR8nl5RithmE2Ib4CPENgAAAAAAAPuMGDmC2IY65dSpU9KxU0fH0NajRw85f/685/P0klLENpsQ2wAfIbYBAAAAAADY57HHHyO2oc44e/as3H3P3Y6h7aabb5LTp097Pk+vKUVsswmxDfARYhsAAAAAAIB9rgwXxDb4VVlZmfTr188xtGVmZkpubq7n8/QDpYhtNiG2AT5CbAMAAAAAALDP9e2uJ7ahThj8zGDH0NYorZH8/vvvns/RL5QittmE2Ab4CLENAAAAAADAPg0bNSS2wffGjh3rGNrqpdaTVatWeT5HP1GK2GYTYhvgI8Q2AAAAAAAAuxQXF18VLoht8Jtp06Y5hrZgUlC++uorz+foN0oR22xCbAN8hNgGAAAAAABgl5ycnMuiBbENfrPw84WOoS0QDMjMmTM9n6MfKUVsswmxDfARYhsAAAAAAIBd1q1bF1oPSkpOIrbBV3788UdJTkl2DG0TJ77h+Rz9Silim02IbYCPENsAAAAAAADs8s033xDb4EsbN26UBg0bOIa2oUOHej5HP1OK2GYTYhvgI8Q2AAAAAAAAu8yYMSO0HlR1BhGxDV7bs2ePNG7S2DG0PfrYo1JRUeH5PP1MKWKbTYhtgI8Q2wAAAAAAAOwybty40HpQSr0UYhs8l5ubK61at3IMbT169JDS0lLP5+l3ShHbbEJsA3yE2AYAAAAAAGCXhx9+mNgG3ygoKJAOHTo4hrZbO98qRUVFns+zLlCK2GYTYhvgI8Q2AAAAAAAAu7Rr1y60HpSamkpsg2dKSkqka7eujqHt+nbXy9GjRz2fZ12hFLHNJsQ2wEeIbQAAAAAAAPY4d+6cBJOCEggGJDMzk9gGz1y4cEF69+ntGNpaZrYUpZTn86xLlCK22YTYBvgIsQ0AAAAAAMAev//+e2gtqFev+4lt8ERlZaUMHDjQMbSlpafJ77//7vk86xqliG02IbYBPkJsAwAAAAAAsMeixYtCa0GjXh5FbIMnRr08yjG0paamyurVqz2fY12kFLHNJsQ2wEeIbQAAAAAAAPYYP/710FrQnDlziG2odf/+978dQ1tScpJ8++23ns+xrlKK2GYTYhvgI8Q2AAAAAAAAe/Tv3z+0FrR+/XpiG2rV3LlzHUNbVQD2eo51mVLENpsQ2wAfIbYBAAAAAADY44Yb2oXWgk6dOkVsQ6359rtvJSk5yTG0TZkyxfM51nVKEdtsQmwDfITYBgAAAAAAYIfS0tJQ7MjMzBSRi8Q21Io1a9ZI/fqpjqFt5EsjPZ9jIlCK2GYTYhvgI8Q2AAAAAAAAO+zYsSO0DnT//T1FhNiG+NuxY4ekZ6Q7hraBAwdIZWWl5/NMBEoR22xCbAN8hNgGAAAAAABgh8WLF4fWgUa9PEpEiG2Ir4MHD0rLzJaOoa1X715y4cIFz+eZKJQittmE2Ab4CLENAAAAAADADhMmjA+tA30y5xMRIbYhfo4dOybt2rVzDG1du3aV4uJiz+eZSJQittmE2Ab4CLENAAAAAADADn379Q2tA61fv15EiG2Ij6LiIrntts6Ooa19+/Zy4sQJz+eZaJQittmE2Ab4CLENAAAAAAAg8VVWVkqTpk0kEAxIckqynD17VkSIbah5paWl0qNHD8fQ1qpVphw6dMjzeSYipYhtNiG2AT5CbAMAAAAAAEh8+/btvWz7vqp/J7ahJlVUVMijjz3qGNoaN86Q7Oxsz+eZqJQittmE2Ab4CLENAAAAAAAg8c2fPz+0BjTq5VGhfye2oSYNGzbMMbTVb1BfNmzY4PkcE5lSxDabENsAHyG2AQAAAAAAJL5nhzwbWgP6+uuvQ/9ObENNmTRpomNoS05JlmXLlnk+x0SnFLHNJsQ2wEeIbQAAAAAAAImvQ4cOoTWgvLy80L8T21ATZs6a6RjaAsGAfPbZZ57P0QZKEdtsQmwDfITYBgAAAAAAkNgKCgpC6z/XtL3msv8jtiFWS5YskWBS0DG0vfveu57P0RZKEdtsQmwDfITYBgAAAAAAkNh+WPpDaP1n4MABl/0fsQ2xWLVqldRLrecY2saMGeP5HG2iFLHNJsQ2wEeIbQAAAAAAAIltzJgxofWfmbNmXvZ/xDZEa1vWNmmU1sgxtD09+GmprKz0fJ42UYrYZhNiG+AjxDYAAAAAAIDEdtPNN4XWf/bt23vZ/xHbEI0DB/ZLs+bNHENb3359payszPN52kYpYptNiG2AjxDbAAAAAAAAEldubm5o7afttW2v+n9iGyKVn58vba9t6xja7rzrTjl79qzn87SRUsQ2mxDbAB8htgEAAAAAACSuOXPmhNZ+hg0bdtX/E9sQiVOnTknHTh0dQ9tNN98khYWFns/TVkoR22xCbAN8hNgGAAAAAACQuHr27Bla+/n+h++v+n9iG9w6e/as3H3P3Y6hrc01bSQvL8/zedpMKWKbTYhtgI8Q2wAAAAAAABLT33//HVr3adw4Q0pLS6/6GmIb3CgrK5N+/fo5hramzZrKH/v3eT5P2ylFbLMJsQ3wEWIbAAAAAABAYpo8eXJo3Wf48OFhv4bYBpOKigp58sknHUNbo7RGsmXrFs/nCWKbbYhtgI8Q2wAAAAAAABJPZWWltL22bWjdZ1vWtrBfR2yDTmVlpQx+ZrBjaEuplyIrV670fJ64RClim02IbYCPENsAAAAAAAASz4oVK0JrPp1u6eT4dcQ26AwfPtwxtAWCAVm8eLHnc8T/U4rYZhNiG+AjxDYAAAAAAIDE07tP79Caz8yZMx2/jtgGJ2PHjtWGtpmznJ9X8IZSxDabENsAHyG2AQAAAAAAJJa9e/eG1nsyMjKkpKTE8WuJbQjnzTff1Ia2d959x/M54mpKEdtsQmwDfITYBgAAAAAAkFiGDh0aWu8ZM2aM9muJbbjS+9Pe14a2iRPf8HyOCE8pYptNiG2AjxDbAAAAAAAAEsfRo0elfoP6EggGJCk5SQ4dOqT9emIbqvvo44+0oe3V0a96Pkc4U4rYZhNiG+AjxDYAAAAAAIDE8dKol0JrPU888YTx64ltqLJw4UJtaBs2bJjnc4SeUsQ2mxDbAB8htgEAAAAAACSGQ4cOheJZMCkoe/bsMR5DbIPIRfn6668lKTnJMbQNenqQVFZWej5P6ClFbLMJsQ3wEWIb/o+9+3psqv7/OP53kDTdpcwyhVL2FhRElgMVQUGcfFFBkCG48KeACxUUBTe4JwgIAt3sJZvDslBqGS0dSZP09bvAloa2oS1tT5LzvHjcSHLOO6dpY8+zn3MAAAAAAEBoeOLJJ67FkUmTavQcYhtWr14tR7ij2tD24LgH5Xa7TZ8TN2YYxDYrIbYBAYTYBgAAAAAAEPwOHzlUvjLJEe7QiRMnavQ8Ypu1bfxrY/l7oCp333O3XC6X6XOiZgyD2GYlxDYggBDbAAAAAAAAgt9dd99Vfo7nmWeeqfHziG3WlZaWpuiY6GpD25133qmioiLT50TNGQaxzUqIbUAAIbYBAAAAAAAEt3Xr1pWf34mNjVV2dnaNn0tss6YdO3coNi622tA2aPAgXblyxfQ5UTuGQWyzEmIbEECIbQAAAAAAAMHL6XQqKSmp/PzOm2+9WavnE9usZ//+/WrWvFm1oa1fv766fPmy6XOi9gyD2GYlxDYggBDbAAAAAAAAgtecOXPKz+107txZTqezVs8ntlnL4SOH1ap1q2pDW/ce3ZWbm2v6nKgbwyC2WQmxDQggxDYAAAAAAIDgtGXLFtnstvJzOxs2bKj1Noht1nHy5Em1adum2tCWmNhZ586dM31O1J1hENushNgGBBBiGwAAAAAAQPDJy8tT+w7ty8/rTHtuWp22Q2yzhqyzWbql0y3Vhrb2HdrrzJkzps+Jm2MYxDYrIbYBAYTYBgAAAAAAEHwmTZpUfk4nqWuSCgsL67QdYlvoy8nJUVLXpGpDW0JCgo4fP276nLh5hkFssxJiGxBAiG0AAAAAAADB5Ycffig/n+MId2jnzp113haxLbRdvHhRvXr3qja0tWjZQgcPHjR9TtQPwyC2WQmxDQggxDYAAAAAAIDgcfr0acU3iy8/n7NgwYKb2h6xLXTl5edpwMAB1Ya2+Pim2r17t+lzov4YBrHNSohtQAAhtgEAAAAAAASHvPw89ejZo/xczuDbBsvtdt/UNoltoamwsFBDhg6pNrTFxMZo69atps+J+mUYxDYrIbYBAYTYBgAAAAAAEPjcbrdG3zXa5/J/J0+evOntEttCj9Pp1MhRI6sNbZFRkdqyZYvpc6L+GQaxzUqIbUAAIbYBAAAAAAAEvmnPTSs/hxMREaH09PR62S6xLbSUlJTovvvuqza0hUeEa/369abPiYZhGMQ2KyG2AQGE2AYAAAAAABDYln641CeYrPpmVb1tm9gWOjwejyZMeLja0BbmCNMvv/5i+pxoOIZBbLMSYhsQQIhtAAAAAAAAgWvdunWyh9nLz9/Mn/9qvW6f2BYavF6vnnzqyWpDm81uq9dIi8BkGMQ2KyG2AQGE2AYAAAAAABCYUlNTFRMbU37uZsKEh+t9H8S20FDxMqNVWbFihekzouEZBrHNSohtQAAhtgEAAAAAAASe60PbrYNuVXFxcb3vh9gW/ObOnes3tH3wwQemz4jGYRjENishtgEBhNgGAAAAAAAQWFJSUnxCW58+fXThwoUG2RexLbi9/vrrfkPbwoULTZ8RjccwiG1WQmwDAgixDQAAAAAAIHA0ZmiTiG3B7L333vMb2l58cZ7pM6JxGQaxzUqIbUAAIbYBAAAAAAAEhsYObRKxLVh9svwTv6Ft+ozpps+IxmcYxDYrIbYBAYTYBgAAAAAAYL61a9c2emiTiG3B6OuVX8tmt1Ub2ib/b7LpM8IchkFssxJiGxBAiG0AAAAAAADmWvbxMtnD7I0e2iRiW7D5+eeffd4r15s4caI8Ho/pcwaSvLMb9dqsGZrx/FWzZr6t3Vkltd6O15urH5fM1fPPl23reb2xZIMKPOa/xjKGQWyzEmIbEECIbQAAAAAAAObwer2aPXu2TywZNHiQLl682GgzENuCx9q1axUeEV5taHtg7ANyu92mzxloCv5dqQExjvLjFBbWWkvX5tV6OydSX1a7iGuh025vof/7+qS8pea/xjKGQWyzEmIbEECIbQAAAAAAAI2vsLBQYx8c6xNLxo8fr6Kiokadg9gWHDZt3qTIyIhqQ9vou0bL6XSaPmcgcrm2akLX2PJjZbM5NGtJ7SKZ23NUzw9r7XPMe92+QOfc5r++igyD2GYlxDYggBDbAAAAAAAAGtf58+c1YOAAnxP38+bNldfrbfRZiG2BLy0tzed+fte74447VFhYaPqcgcqrXL16T+sKsS1MY6dtkLuGsa1UXu367kk1rXCfvHBHoj7dctn013Y9wyC2WQmxDQggxDYAAAAAAIDGs237NrXv0P7aJe0cYVqxYoVp8xDbAltqaqrf0HbroFuVn59v+pyBrFQurZrdX2EVjtvAuz5SQQ1jW3F+uh7uFlvhuNs1/OGVyguge7WVMQxim5UQ24AAQmwDAAAAAABoHEuWLPG551ZsXKw2bNhg6kzEtsB1o9DWp08fXbp0yfQ5g8HOzx6So8Kx65g0UyeKb7yStFRu/fnuXYqo8NyY2CH641BgXrLTMIhtVkJsAwIIsQ0AAAAAAKBh5eXladz4cT6hJDGxs/bv32/6bMS2AAXbAgAAIABJREFUwJSSkuI3tHXt1lX//vuv6XMGi9NpLykh3H4tdEffq22XPTd8Xt65HzUs4dq98mw2hx55IVkltbjfW2MyDGKblRDbgABCbAMAAAAAAGg4e/bsUWJiZ59Q8uC4B5WXl2f6bBKxLRDdKLR16ZKos2fPmj5nMLmS87UGxISVH8MIRy99v6fI73NKVaCvZvpefrJV24nakVNi+uupjmEQ26yE2AYEEGIbAAAAAABAw1i+fLkiI6+tigmPCNeSJUtMn6uiYIhtW7du1VOTn9Kyj5eZPktDS0lJUXRMtN/QlnU2y/Q5g43LlamHk64FTLu9qd768aLf5+Qc+EDdY8MqPCdOcz46LG+ArmqTiG1WQ2wDAgixDQAAAAAAoH5lZWXp7nvu9okk7Tu017Zt20yf7XqBHNuyzmZp0qRJPscxOzvb9LkaSnJy8g1DGyva6sbr/Vev3N3a53KQzyzcV20483rPaeG4W2SrePz7zNOJohvf581MhkFssxJiGxBAiG0AAAAAAAD157PPPlNc0zifSHLvvffq4kX/q2jMEoixrbi4WAsWLKh0KcVevXupqMj/pf+C1ZYtW24Q2roQ2m5CqVz6embfCpeEtOmuJ36u9t5rxzbPVZsK93gLC2un91efN/113IhhENushNgGBBBiGwAAAAAAwM37559/NGr0KJ9AEh0TraVLl8rrDdzVMIEW237++Wd1vKWjz3GMiIjQCy+8oLz8wLjPXX0jtDW8Unm1/dNxclSMt0Pf1kVP5ce63Qc17baWFb4GNg265yNdqOKxNeV1F8vp9DT46zQMYpuVENuAAEJsAwAAAAAAuDnLly9XbFysTyAZNmyYTpw4Yfps13O5XPrxxx81+X+T1bdvn2uX1bPb1K9fPz399NP65ddf5Ha7G3Wuffv2adiwYZVC05gxY3T8+HHTj1tDqUloO3funOlzhoLTKS+qdYXVam3aT9Gh6y4LWSqvtn39qOLstvLHRUX31Q+7C2q1L6/3slJ/eUuT7rtTvZLaKzbSLntYhFokdNaoB6fr69/3q6gB7v1mGMQ2KyG2AQGE2AYAAAAAAFA3p0+f1oiRI3ziSGxsrJZ9vCzgVrOVlJRo0ZuLlJCQUG3Yqahd+3b64IMP5PE07Gqc3NxcPfPMM7KH2X323617N23YsMH049aQNm/ZrKjoqGq/BklJSYS2epR//iv1iwm7tvI0Yri2ZPu+v4vzkzW2y7XLl9psYbr/6T9UXMMwViqXdq5ZoOG9Wla4ZGVlNlu4Box4UXuySur1NRoGsc1KiG1AACG2AQAAAAAA1I7X69Wyj5cpNtZ3Ndvw4Xfq1KlTps93vf3796tPnz7Vnvj3Z9DgQTp27Fi9z1RSUqIlS5YoPr6pz/7i45tqyZIlKimp3wgRaG4Y2roS2uqby5mu8RVCmsORqC/Tr61YK5VbaxaOUHiFr0OzFvcq5Z+avRdL5dHW755Wm6hr4Tgytp2G3fuQJj89RY9OGKM+nZvJXuHylF37zdWRvPoL84ZBbLMSYhsQQIhtAAAAAAAANbdr1y4NvWOo72q2uFh9svwT02erytatWxXXNK5Ooa1Mi5Yt9Pfff9fbTBs3blS37t189mEPs+vZZ59Vbm6u6cesoW3avOmGoS07O9v0OUON15ujl0e3uvaes8Xo/1Zee79d/ucb3dYyosK/R+uZRbvkqeGqtsKLa3VXh6j/Vq45NHDka9qb5bxuhjytW/GU2sXYy1e4Pf5ymtz1dElJwyC2WQmxDQggxDYAAAAAAIAbO3PmjCZNmlQpjIwcNVJnzpwxfb6q7N27t9K95G4muN3svdOOHz+uMWPGVNr2sGHDtH//ftOPV2P4a9NfhDaTlMqpr2b0KV9ZZrM59NT8qzGtVPn69Nk+Ppd+bJ84VYfya7bqrFRebftsfPmquHaJU7T/YtWXYC2VS3+8OVIR/z22dZvHtf9K/axuMwxim5UQ24AAQmwDAAAAAACoXl5enubOnavIyAifKBIf31Sffvqp6fNVx+l0qnuP7vUS2soMvm1wne7hlp+frxdeeEHhEeE+2+t4S0dLnY+6UWjr2q0roa0BlcqrbcsflKPCZRxHPfaTSkpLdW7fO0qKuXb5x7CwVlrwzWl5a3yvtgK992gn2f6LeFPe2OP3ufn/fq/bm139fgh3dNc324vq5TUaBrHNSohtQAAhtgEAAAAAAFRWUlKipR8uVYuWLXyCSHhEuGbOmqmLFy+aPqM/8+e/Wq+hrcySJUtqPIPX69UXX3yhhIQEn23ExMZowYIFKi4uNv04NZa/Nv2lyKhIv6Ht/Pnzps8Z6k6lzFUrx7Wo1vfO93XZ/Y/+7/4OslX4evQZ+qay3TXfrttzVFMHN1MTWxM5HJ31eWqB38eXuHbrsZ5XL+9qt7fSe79frpfXZxjENishtgEBhNgGAAAAAADg65dff1GXLl0qBZGHHnpIJ06cMH2+GyksLFSz5s0aJLZ16NihRqvbMjMz1b9//0rPnzRpkrLOZpl+jBrTxr82EtoCRF72F+oTHVZ+7G/pNkvrVk/3CXDhjq76IrV28cvl2qlHul29ZGuk43b9ecrl//HONI3rHP3fKroELV2bVy+vzzCIbVZCbAMCCLENAAAAAADgqm3bt2nI0CGVYshtt9+mrVu3mj5fTX3++ecNEtrK/Pb7b9XuOysrSxMnTqz0nP4D+gfVMawvNwpt3bp3I7Q1IpczTeMSY66tsmzaV/17VryvoV0jJ36rPE/ttuv15uvgjgylpaUpI+PADZ+fc2CxukReDXyRYQO1+qizXl6fYRDbrITYBgQQYhsAAAAAALC6kydPasKEhyuFkMTEzvrll19Mn6+2JkyY0KCxbeq0qZX2WVRUpNdff13RMdE+j01ISNBXX30lr9dr+nFpbBs3EtoCjdd7Xi+OalXt1yQ27g6tq6fwVf0M5/TOI0my/7fPpH6vKKukfr4/DIPYZiXENiCAENsAAAAAAIBVXbp0SbNnz1ZERITPCffmLZpryZIlcrn8XwouUCUmdm7Q2DZg4ACf/f3444/q0LGDz2MiIiI0b95c5efnm348zLBhwwa/oa17j+7KyckxfU6rKZVTX07vXR66KrLZwvXYi6lylzbc/kuKDH3w7CBF2q/u0+HoqMW/nZW3nvZpGMQ2KyG2AQGE2AYAAAAAAKwmJydHL744T3FN43xOtkdGRuiFF17Q5cu1u19TIPF6vQ0a2prYmig+vmn5/qq6t53NbpMj3KHwiHBLcoQ7bngMzZ6xsfTq3Uv//POP6d8XZUrl1daPx8pRxdckod2j2p174/sR1m2/Tu3b9J5G92oh23/7s9vj9NhLG1RUj3HPMIhtVkJssyivt0BHd63TiiVv6dWX5mja1Kl6ftY8vfne59qQflhXSupvX5fP7tPq7z7RG6/O1fTnntGz02bopVcX6rNv1+ro2QLTj0UgIbYBAAAAAACrOHXqlKZOm1rliqOJEyfq9OnTps94s5xOZ4PHtuiYaEmlOn36dIPvC8Hvw48+NP37wufnwJYX1NJh95nRbm+quR8frbcVZhWdN9ZqxrjeirJf219EVAfNfCetXkObRGyzGmKbxbjyj+qzhU+qR9uY8mpfmU0t2vTT03O/0IlL7jrtp1Rendr7rSaP6aPYcFu1P9zDHPG6/Z7pWrcrp0F+eAYbYhsAAAAAAAh1Bw8e1KRHJynMEVbpXNGo0aO0Y+cO02esTzZ79efG6kOz5s3K99WzV89K/x4eEa5mzZupVetWlhIf39TvcQtzhKlFyxamz9mYRowYrrNnz5r+PVFR3rnP1SfK92dBUt+XdMpZv/cVdOUf0bKXx6ptzLWwZ7M51GvwFK3d2TDnpg2D2GYlxDYLObVrhe7sElurD+sW7Ybpsz//qdUPG6/3kn5d/JBaRtprvJ/wiHZ6/u1UFXjMP05mIrYBAAAAAIBQtW3bNt1///2VzgvZ7DaNHz9eu3btMn3GhpCUlNSgsW3Q4EE++9v410Z179Hdd6VQmF1TpkzRv//+a/rxaAzr169XZGREtcesR88eljkWge74lrlqE37tPLLD0UFL1tbf/fNK5dHBlPd0Z9d4n/dA286jtPjrHQ16PtowiG1WQmyzgFJ5dST5dXWNv/H1iasSGZOkd344XqPg5vXm6ut5w3yW4daU3R6nR+et1xULBzdiGwAAAAAACDUbN27UnXfeWeWKq6cmP6WjR4+YPmNDmjRpUoPGtukzplfap9vt1tIPlyq+mW9giI9vqvfff18lJSWmH5eGcqPQ1rNXT0JbgHC7D+u5Ia0qfH1suv2+5bpUT+eHS+VUysopaht9LebFteytOW+vUU5R/a6cq4phENushNhmAecOrNCtCZU/YCJjO+juh5/TW+9/oq+/WalPP35XM6fcr8SWlR/btPkIrT/i9LufUrmV8ukENa20NN6m1h2H6JnZ/6ely7/Sl18s0//Ne0qDujaXvVJwa6F5nxy07CUliW0AAAAAACAUeL1e/fLLL+rfv3+l80zRMdGaOWumsrKyTJ+zMXy98usGjW1r166tdt8XLlzQ1GlTK12yM6lrktavX2/6salv69atI7QFiVJ5tfXrR33OJUfHDNBPe4vqbfv7/5iptv9dfc1uj9GoiYt1MNvVaK/RMIhtVkJsC3Gu4j16ZnArnw8Vm82h/iNe0vYThVU+p/DSHr02obcc1wWz28b4/6uCiye/1K3NfVfPhTlaaPKr63SppPLjPe7z+m7h/WoW7nu5ybimI7TB8B/2QhWxDQAAAAAABDOn06kvv/xSSV0rXzoxvlm85s+frwsXLpg+Z2Mfk5atWjZIaOvcubO83huv0Pn77781fHjl1YX33HtPyKwsXLdunSIi/Ie23Nxc0+fEVXlnf9LwdpE+56wffG69iutpEUb++V81vG3kf+eoW+u5t9NU1MgLPAyD2GYlxLYQViq31r09ShHXRbOBI9/R6QL/H8Ju1xHNGdlGtoor4cIH6rdDxdXsq0Arnu3ps1LNbo/RlNcz5fTzQ6xUhfrl9ZGK9LnspF33Tv6t3n6wBhNiGwAAAAAACEYnT57UCy+8oBYtW1SKHG3aJGjx4sW6cuWK6XOaZeHChQ0S25YvX16rOX797Vd16tzJZxvhEeGaPXu28vLyTD9OdXWj0Nardy9CWwApcR7RK/d39jmX3DLhYW3Lrp/Lm5bKpZ/nD1GYrYlstnA99Pz6Rg9tErHNaohtIazw4h8a3T7K54OldfsJ2ppVsx9a/+x4Qx0irq06s9ki9Pz7Vd+7Le/cNxrcLNz3r0UG/5/+cd74L2tczj3638Dmvqvb4kZpyz+he+3o6hDbAAAAAABAsPB4PFqzZo3uvudu2SrdVqSJEhM769NPP5XTac0rGFVUUlKifv361mtou/POO2u0qu16TqdTi95cpJjYGJ/ttWrdSp9++qk8Ho/px6s21q5d6ze09e7Tm9Bmohxjp3buO6ErzquXdjx//C/NHttNYT6LNlrolc+O1tuthVzOdI3vcvX9HR8/Rhk55rynDYPYZiXEthBVKq9SPrxf4df90Jr/1Yka/9Byuw/p6YEVb6Jq06jHflJJ6fX78ih56X3X7aul3v7pfI1n3f3t44qpsLrNbovSjMWHLXfvNmIbAAAAAAAIdDk5OVq4aKE6dOxQZdwYMnSIfvjhh6CLNg3t0KGData8Wb2EtjZtEnTmzJmbmufs2bN69LFHK227X7++SktLM/141cQff/xxw9BmtcuWBpJSufX7/w1VmK2Jwhwxato0ymc121V2Db1/hS74uX1Rbf2z4w21/+/WRVFxt+i2YcM0rIaG3zlG36YU1MschkFssxJiW4jyeE9rzgjfe7V16j5LJ4pr/tcupXJr42cz9eikSZr0n3nv/FXpspAe7xnNGe573em2HafoUGHN91V8ZZ1Gt4302UavIW8ptx5/yAYDYhsAAAAAAAhUaWlpmjhxYpVxIzYuVlOnTtXff/9t+pyBbM+ePTcd3Nq0SajX+6xt275Ntw66tdJ+Hn74oZsOeg2J0Bb4SuXSyln9fFaxXa9j0hTtqqfLR5b5e9Ukn4UhtWG3N9M7P1+ulzkMg9hmJcS2EJV37gv1iw0r/2a22Rx6esHeBlkpVvDvtxoU7/BZATdy0g9+79V2vVLl652Jt/jcIy42epSSz1nrUpLENgAAAAAAEEjy8/O17ONl6tmrZ5Unpnv26qllHy9Tfn6+6bMGi6NHj2jQ4EF1CgHDh9/ZIAHM6/Vq5aqVatMmwWd/UdFRmj9/vgoLC00/bhWtWbPGb2jr06cPoS0AlKpYy/7X1eecb0Xtu0zU5iP1+94qlUcb3h7lN/AR29AQiG0h6vBvzyi2wmUZIxw99O2uogbZ14kNM9U87Nq93ey2KM37+HStwl6pvEr78H45KvxgCwtrrSV/BO+NWeuC2AYAAAAAAALB33//ralTpyo2LrbSyejwiHBNmDAhaC41GIg8Ho+WLl2qjrd0rFEA6NIlUStWrKjTPdpq48qVK3rppRcVGekbstq1b6fvvvvO9OMmXQ1t4RHhhLYgUKpiLXmyS6XwFRXbUQ8//ZGOXgjthRaGQWyzEmJbCCqVSz+9PMjnh1irhMd0oKjqD+NSeeUsdtZp1VupvEpbMsZnXw5Hor7KqP11bU+nvqSE8GvRzmZzaPq79XdjzGBAbAMAAAAAAGZxuVz67rvvNGTokCojRoeOHbRw0ULl5OSYPmuo8Hg8+uOPPzTj+Rm6fcjt186L2W0aMnSIZs2apT///LPBI9v1Tp48qbEPjq30Hrh9yO3atWuXaceL0BZ8SuXUqUOZWrf6J/30y3rt3H9SV5zmz9UYDIPYZiXEthBUqjwtGNvW54Om7/D3lfff/c887hxt+PYtPT72DiXd0lKR4TY1sdkUGdtCt3TpozETntdnP2Yot+DGH+KlcmnV7P4+sS3KMVQb/3HVeu68c5+rT1TFS1+GadyMv+QmtgEAAAAAADSY06dP66WXXlSr1q0qxQub3aa77r5La9askcfjMX3WUFd2acRWrVuZPotUqs1bNle6hKjNbtNTk59q9Oj6y6+/+A1tffv20cWLF00/ZkAZwyC2WQmxLQS53Xv0eO+mPtFq7LQ/VVLq0Ykdy3V3z+ay12B5elzL3prz1jpdKKl+X6Uq0Jvj2/s8r3mLCdpbWPu/tnEVr9OoVr5L1G9/4Ita3fst2BHbAAAAAABAY3C73Vq7dq3GjBkje4Xbg5Rp0bKFXnjhBZ04ccL0Wa0k0GJb2Xtl2cfL1LxFc5/3SKfOnXTlypVGmWHlqpUKc4RVex6zX7++hDYEHMMgtlkJsS0EuYrXa1RCpM/lGKe9fUB7/pirxKbVfyhVxWZzqO/Qedp7rurr53q8/2jO8BY+z2nfeaqOFdchtrky9XBSjM+2eg19Wxc95h1Lp9OpgoKCRjNt2jRiGwAAAAAAaDCHjxzSCy+8oISEhCrPBQ0aPEgrV61UcXGx6bNaUSDGtjKXLl3S9BnTfaLX+fPnG3y/nyz/RDa7jdCGoGMYxDYrIbaFoIILq9Q/uuLlGMM1afbL6tXMUenDyBERp4S2HdS+XWvFRFT+K6arbErqO0sHcitfKsDtOappg5v5PP6WbrN1ylX72OZ279fkfk19ttV1wGvKdptzHOfMmeP3L2Ya2spVK01/LwEAAAAAgOB3+fJlfbL8Ew28dWCV5yBiYmM0ZcoU7dmzx/RZrS6QY1uZgwcPat68ufruu+8afF/vvvuu3/Nn/fr11aVLl0w/JkBVDIPYZiXEthB08dTH6hnpG4kqXs/YHhan2+95Vl/+vkd5FW5G6XZe1I5Nn+t/Y3oo0n79CrcwjZiwUpeuW2VWVSDr0vdlZZXUJbYd1jMD4322ldh7ns7UYVs3y+v1Kj6+qd8P84b2xBNPmP5eAgAAAAAAwcnj8WjDhg2aMGGCIqMiqzz30H9Af3207CPl5eWZPi+uCobY1ljmz5/v99zZgIEDCG0IaIZBbLMSYlsI+vfI+0qqZpVaRFSiFnz9t0r83AetVFe04dPHlBDpuw2H4xZ99Geuz2Pd7r16ordvlErq96rO1WE1mttzpFJs69TjhTqtkqsPn3/+uXr36a2kpKRGExl57Z51s+fMNv29BAAAAAAAgsvx48f18ssvqV37dlWeG2qd0Fpz5szRgQMHTJ8VlRHbrpo1a5bf0HbHHXcoPz/f9DkBfwyD2GYlxLYQdOH4EnWrIrbZ7c00e+k+efyEtjKlcmr9e2MUfd0Kt0H3fKK8Cqvb3J7Kq9E695yr03W6jORePdmnfsJdsOrbt0/5a58zZ47p8wAAAAAAgMCXl5enzz77TLcPub3KMBEeEa6xD47V6tWrVVJSYvq8qJ7VY5vH49GUKVP8hrbRd41WYWGh6bMCN2IYxDYrIbaFoLxzn6tPVOV7jXUbMF9ZJTXfTolrt57o6xu/YqPvUmr2tXu3eTynNPOO5j6P6ZA4XceLax/bXK5tmtgt1mdbPW9fpFxP7bYTzIhtAAAAAACgJlwul3797Vc9OO5BnyvlVNSnTx998MEHys3NNX1e1IyVY5vb7dYjjzziN7SNfXCsnE6n6bMCNWEYxDYrIbaFoOIr32tQtMN3VZstRnOXnZS3BqvaypTKoz/fGqmwCtsJC2urZRvyKzzmkuaPSfC9HEGbJ3WwqA6xrfgv3dvO9xriA+9apsJazBzsiG0AAAAAAKA6Xq9XqampmjJliuKbxVcZI5q3aK7pM6Zrz549ps+L2rNqbHM6nbr/gfv9hrZJj06S2+02fVagpgyD2GYlxLYQ5Cr+Q8Ob+/5FU0RYP/1ysLjW2/on41W1Db92SUqbLVxzPz5b/u+lcurTZ7vLXmFfMZGjlX7BU+t9Ffy7Uv2jK67Is+veyWvkJrYBAAAAAAALO3jwoF58cZ46dOxQZYSIiIjQ2AfH6pdff5HL5TJ9XtSdFWNbYWGhRo4a6Te0Pfvss/J6a//H/YCZDIPYZiXEthBU1b3P4qLHaHte7QPY9ZektNkcmvrmgfIVcqXy6M9FI3xWv0U4euuHvUW13tfZXQvUMcLus68pb+yt1Wq8YEdsAwAAAAAAUqnOnj2rd9991+dcwfWG3jFUK1as0KVLl0yfF/XDarEtLz9PQ4YO8RvaOEeGYGUYxDYrIbaFoFLlacHYtj4fSs3ix2tPYe3/+uP61WY2m0PPLvrbJ4Ad/OEpRVW8ZKU9Xm/9eKHW+9q76lFF+mwnTgu/q/12ghmxDQAAAAAA67pw4YI+Wf6Jhg0bJpvdVmV46N6juxa9uUhnzpwxfV7UPyvFtgsXLqh///5+Q9vrr79u+pxAXRkGsc1KiG0hqFQufT93oM9qs7pe2vHfw++ry3WrzV74yPd/5i4cX6puPo8J00PPb67V5R+vXo6yh8/lKCMdA7XmmLVueEpsAwAAAADAWvLy8/TV119p9F2j5Qh3VBkc2rRtozlz5mjv3r2mz4uGZZXYlp2drR49e/gNbe+9957pcwI3wzCIbVZCbAtRR9dMU9MKfwHlcHTW56kFtd7OoV+eVoz92odcWFhrfbAmz+cxJa7deqxnnM+HYbeB/6dsd83343bv0eO9fLdxS7fZOuWy1rWYiW0AAAAAAIS+wsJC/fDDD3pg7AOKjIyoMjTExzfVk089qU2bN8njqf0fUCM4WSG2nT59WomJnauNbDa7TStWrDB9TuBmGQaxzUqIbSGq6PLvurPVtf9Zs9kcmjQ3TZ5arTYr0orrVpvFRA3X5qyS6x7n0jdzBlx337Ze+m53ze/bZmyZq9YO39Vx42u5Oi4UENsAAAAAAAhNLpdLq1ev1sSJExUTG1NlZIiJjdGECRP0++rf5XRa62o/oc7r9erSpUvKzs5WVlaWsrOzdfHiRXm9vn9oHuqx7dixY2rXvl21oS3MEaZvv/3W9DmB+mAYxDYrIbaFKK8uatH4DrJV+LBqmfCQtueU1Hgb+dk/amhr37+u6nvnYl3wVH7s2Z1vqEOFS0k2sdk1ZvLvKq5BLPN6s7VwfCefWcMd3bRyW81jXaggtgEAAAAAEDpKSkr0559/6smnnlR8s/gq40JkZIQeGPuAfvjhBxUWFpo+M+qXy+XS6dOnlZmZqc1btlSSkZmp06dPy+VySQrt2Pb333+rdULrakNbRESEfvv9N9PnBOqLYRDbrITYFsKOrH9eLRy+91sb/cgqXazB5R293vNaOrmXz2o1u72lFn13tsrHuz0nNWeE74dleHiSVmy64Hc/pfJq/+ppahlu93lu76FvK6cWl6EMFcQ2AAAAAACCm8fj0abNmzRlyhQ1b9G82tU7o+8ara+++kp5eXmmz4yGkZOToy3JyVVGtuslp6QoJycnZGPbjp071Kx5s2pDW3RMtDZu3Gj6nEB9Mgxim5UQ20KY23NC80a19VkxZrfF6J7HPtXp/OrvheZ2ntbHs4Yq2l7xQ8+m3kMW6ZyfAHbkz1lq5fCNZi3a3qWftuVW+fhSeXU07R31Swj3eY7D0UFL/sgx/fiZgdgGAAAAAEDw8Xq9SklJ0dSpU6tduWOz23THHXfok+WfKDe36nMlCB3nz5+vFNS2JCcrNTVNqWlpSk1NqzLEhUeEh1xsS01NVWxcbLWhLa5pnNLS0kyfE6hvhkFssxJiW4jLObxC/Vs6Kn2IJdwyTC+/8512Hjonl6dU3pIrOnlkh1Z9+Lxu79rM5z5tTWxNFNd8mNYc8H9ZR6/3nN55pGul50bFJurx55cqdc8J5RV55Cq6qEN71umNGfeqbWyY7/942sI0/OEvdamKS1VaAbENAAAAAIDgkZmZqRnPz1CbNgnVhoTBtw3WkiVLdPZs1VcLQug5n5Pju2otOUXpGRnaunVbJekZGUpOTil/rCPcEVKxbcOGDYqKjqr2+6N5i+bauXOn6XMCDcEwiG0ZhovaAAAgAElEQVRWQmwLcaXyas+ameoQY6/2Q80e5pDDUfW/NbE1UVRMT324JkveGtx/rSA3WY/0a+F/X2HV76tLnxnaV4v7yoUaYhsAAAAAAIFt2/Ztmj17ttp3aF/t+Y3+A/rr3Xff1ZkzZ0yfF43L4/EoLT3d5/KQmZlbqwxtZTIztyo5JSXkYtuvv/1aflnMqiQkJOjAgQOmzwk0FMMgtlkJsc0CSuXRrj9eUvcW4dV+uFUntvmt+nRDzUJbmbyzG/TY4DaVVrj5Z1ePgTO14x/rhjaJ2AYAAAAAQCDaunWrZs2a5Tew9e3bR2++9aZOnjxp+rwwT3Z2ts9lI28U2ioGty3JyeWxrUXLFqa/lpux6ptVCnOEVfv90r5Dex0/ftz0OYGGZBjENishtlnIv8ZaTX+wj2LDbTeMX3Z7jIbe95JSD9XtJr2ugmP65KX71cbPiroyEdEd9NTc75RVUP195KyC2AYAAAAAgPm8Xq8yMzM1c9ZMtWvfrtpzGj179dSCBQt07Ngx02dGYNixc2d5bEtLT69RaCuTlp5eHtuaNW9m+mupq+XLl8tmr/78Y5cuiaz6hCUYBrHNSohtFpR7Zps+eWu67hs1RL26dlDL5vFq2TpBnZJ6645RD+r5l97XXzuz5K7FarbqXD63W1+8N1cPjRmq7l06qHWrZmreKkG3dOmlEfc+olff+U6HsgpNPyaBgtgGAAAAAIA5vF6vMjIy9PzM59W2XdtqQ0GPnj302muv6dChg6bPjMBSXFzsc6+2mq5qq7i6rSy2xcc3ldPpNP011dbixYv9/tF9j549lJ2dbfqcQGMwDGKblRDbgABCbAMAAAAAoPF4vV6lpaVp+ozpatO2jd8VbK+//roOHzlk+swIXPn5+T73aqtNaCtTMbZduXLF9NdUG6+99prf0NZ/QH9dvHjR9DmBxmIYxDYrIbYBAYTYBgAAAABAw/J6vUpNTdVz059TmzYJ1YaB3n1664033tDhI4dNnxnB4XJeXnlsS0lJvenYlpdXt9u7mGH27Nl+Q9vQO4YqLz94Xg9QHwyD2GYlxDYggBDbAAAAAACof2WBbdpz05SQUH1g69OnjxYuXKijR4+YPjOCT0FBwbWVbck3v7KtsDDwb73i9Xr19NNP+w1to0aPCorXAtQ3wyC2WQmxDQggxDYAAAAAAOpH2SUin5v+nN/A1q9fXy16c5GOHz9u+swIbm63W8kpKeXBLSMzs1ahLSMj81psaxYvt9tt+mu60eudNGmS39D2wNgHgvLec0B9MAxim5UQ24AAQmwDAAAAAKDuvF6vMjIyNOP5GX7vwdavXz+9+dabMgzD9JkRWg4fOVwe21JT02oV21JT08pjW/MWzU1/Lf44nU49MPYBv6Ft0qRJAR8MgYZkGMQ2KyG2AQGE2AYAAAAAQO1t3bpVM2fNVLv27fwGtrfefksnTpwwfV6EritXrpTHts1btig9I6NGoS09I0Obt2wpj20tW7U0/bVUp7CwUCNHjfQb2p555hl5vV7TZ0VwKZVHqZ8+oa5dEpWY2FmJiV009Y0MuUvNn60uDIPYZiXENiCAENsAAAAAAKiZbdu3afbs2WrfoX21J/z79u2jRW8uIrChUe3Zs6dWwa0stFWMba1atzL9dVQlLz9PQ4YO8RvaOKeFuirOT9GDXWJ83k/Nmt+ntLMlps9WF4ZBbLMSYhsQQIhtAAAAAABUb8fOHZozZ4463tKx2hP9vfv01sKFC7kHG0zjcrm0fft2n+CWnJKi9HTf6JaenuFzj7fNW7YoPCI8YGPbhQsX1L9/f7+h7bXXXjN9TgSnUnm0Zen9irzuPWWzOfTYi2lBubrNMIhtVkJsAwIIsQ0AAAAAAF+7du3S3Llz1alzp2pP8Pfo2UOvv/66Dh85bPq8gPRfcNuxwyek3cj2HTsUERERkLEtOztbPXr28BvaFi9ebPqcCF7F+ckae92qtmBf3WYYxDYrIbYBAYTYBgAAAADA1cvwvfjiPCUmdq72xH637t302muv6dChg6bPC1TF5XLp8JHDlVavXS85JUWHjxxWSUlJQMa2M2fOqEuXxGq/F212m5YvX276nAhepfJo85L7yle12e1xGvPo/WoeZg/q1W2GQWyzEmIbEECIbQAAAAAAq9q3b59efvkldenSpdqT+kldkzR//qs6cOCA6fMCNVVSUqIzZ85o+/btSk1L05bkZKWmpWnb9u06c+aMSkqurdgJtNh24MABtW3XttrvyTBHmFZ9s8r0ORHcivM364HE6PL3Vccu03U4/7Bm3NHq2uq2FsG3us0wiG1WQmwDAgixDQAAAABgJQcOHNCrr76ipK5J1Z7M79Kli1555WXt37/f9HmBhhZIsS0jI0PxzeKr/d6MiIjQr7/9avqcCG5VrWp7cfkJeUtLdfCP54J6dZthENushNgGBBBiGwAAAAAg1GWdzdLb77ytnr16VnsSPzGxs1566UXt3bvX9HmBxhQosW316tWKjIqs9ns0KjpKGzZsMP14IfgV52/yWdXWocs0HS30SiqV23NU04dWXN12f1CtbjMMYpuVENuAAEJsAwAAAACEoitXruirr7/SiBHDZbPbqjx536lzJ82bN1e7d+82fV7ALIEQ2z7//HOFOcKqDW2xcbFKTU01/Vgh+JXKo7/eH+Ozqm3ux8flrbB67cCaaT6r2x5/KT1oVrcZBrHNSohtQAAhtgEAAAAAQoXH49GGDRs0adIkRcdEV3nSvn2H9pozZ4527Nxh+rxAIDA7ti1cuLDayNbE1kQtW7XUzp07TT9OCA3F+Zt0f+eoa58JiVN1+IrX5zFuzxFNu71lUK5uMwxim5UQ24AAQmwDAAAAAAS7ffv2ac6cOWrTJqHKk/VxTeP01OSnlJycLK/Xa/q8QCAxK7Z5vV5NnzHdb2jr1LmTjh8/bvoxQmi4uqrt3utWtR3zWdVW5sDvz6pZEK5uMwxim5UQ24AAQmwDAAAAAASjc+fO6d1331Wv3r2qPEkf5gjTPffeo++//15FRUWmzwsEKjNim9Pp1MMPP+Q3tPXp00fZ2dmmHx+EjuLLf+m+ThVXtT1baVVbGbf7sKbdFnyr2wyD2GYlxDYggBDbAAAAAADBoqCgQKu+WaWRo0bK/t+Kg+v169dPH3zwgc6fP2/6vEAwaOzYlpefp+HD7/Qb2u68807l5eeZfmwQOkrl0cb37lVEhVVtcz46WuWqtjJ///pM0K1uMwxim5UQ24AAQmwDAAAAAAQyr9erTZs36dHHHlVsbGyVJ+bbtW+nefPm6tChg6bPCwSbxoxt58+f9zkXVZXx48fL6XSaflwQWoovb9SYCqva2nV+RoeqWdVWxu0+pGcHtfBZ3ZZ+LrBXtxkGsc1KiG1AACG2AQAAAAAC0fnz57XozUXq3LlzlSfkY2Nj9fgTj2vzls3chw24CY0V2wzDqPb7uczUaVPl8XhMPyYILVdXtd1zbVWbLVazlx7xu6qtzN+/PO27uu3lwF7dZhjENishtgEBhNgGAAAAAAgUXq9XGzdu1Ljx4xQeEV7pRLw9zK7Rd43Wt99+q8LCQtPnBUJBY8S23bt3q1XrVn5D24IFC0w/FghNxZc3aMwt11a1te00RQfza/ZHGm73AT1za/OgWd1mGMQ2KyG2AQGE2AYAAAAAMFt2drYWLlqoTp07VXkSPqlrkhYvXqzs7GzTZwVqy+12q6SkJGBXYDZ0bNu0eZNi46q+BGxZRP/0009NPw4ITaXyaMPiuyusaovRzA8O12hV29Xne7X/5ymKD7MFxeo2wyC2WQmxDQggxDYAAAAAgFlSU1M1bvw4OcIdlU7AR0ZG6JFHHlFqaqrpcwK1dfHiRe3fv19bkpO1ecuWctu2b1dWVpbcbrfpM5ZpyNj2ww8/VLlKtfz7PCpSv6/+3fRjgNBVdOlP3duxwqq2W6boQF7twrfb/beeHtiswuq2BwJ2dZthENushNgGBBBiGwAAAACgMblcLq1ctVL9+vWr8uR7125d9f777+vixYumzwrUVm5urrZu2+YT2KqSkpoqwzACYrVbQ8W2pUuXyma3VRva4uObKj093fTXj9BVtqotvMKqtuffP1TjVW3XtuPV3h//p6b2iqvbMgNydZthENushNgGBBBiGwAAAACgMeTm5mrBggVq0yahytUtkx6dpLS0NNPnBOoqJyenyrC2JTm50gq3MgcPHjQ9uDVEbHvppRf93p+tTds2OnDggOlfM4S2okvrfVa1tek4udar2sq43fuDYnWbYRDbrITYBgQQYhsAAAAAoCEdOnRQU6ZMUWRUZJUn3BcuWqgLFy6YPidQkdfr1b///qtTp0/ruGHoxIkTOvPPPyoqKqry8efPn68U2NLS0pWZuVVbt27T1q3blJm5VenpGUpOSQmo4Fafsc3tduvJp570G9qSuibpzJkzpn+NEdpK5dGGd+/yWdU2Y/HBWq9qu7Y9r/Z8/1TAr24zDGKblRDbgABCbAMAAAAANISNGzdq1OhRVZ5s7z+gv7799luVlATeqgBYm9Pp1MlTp5SekVHtJSD37dunCxculAeyoqIin39PTknxiWxVSUtL93mOmfGpvmJbYWGhxowZ4ze03TroVuI6Go3X7VZJSYlKSkrkdrvrHNoqcrtLKmzT/Nd4PcMgtlkJsQ0IIMQ2AAAAAEB92vjXRg2+bXClk+z2MLvGjR/HPZoQsC5dulRp1Zk/+/fvl8fj0fHjx2sV2qoKbpmZmaatbquP2Hbx4kXddvttfkPbPffeo4KCAtO/zkAoMwxim5UQ24AAQmwDAAAAANSHLVu2aMjQIZVOsMc1jdPs2bN1+vRp02cEqlNVaNuSnKzUtDSlpacrLT1dKampVa5yq/jfMzIyaxTaylS8l1tubq4pr/1mY1tWVpa6de/mN7Q99vhjrGQFGoFhENushNgGBBBiGwAAAADgZqSlpWnYsGGVTq63at1KixcvVn5+vukzAv7k5eX5hLYtycnVRrPMzK1KTUurcqVbckpKrULb9avb9u3bZ8rrv5nYdujQQbVr385vaJs7d67pX2NYU6lc+v3DqXr8icf/86QWf7VPnhpcTjJ7z5d6+snHy5/7zLNLdaLYvHsr1pRhENushNgGBBBiGwAAAACgLjIzMzVi5IhKJ9abt2iut95+i8vFIWjs2bPHJ7TV5DKQaenplWJbWlp6rWNbZubW8udv277dlNdf19iWmZmpZs2b+Q1t77///k3PV1hYqNdee01t2rbRfffdJ4/HY/p7BsGhVEVaOLZNhfekXfc9s1buGsS2Y78/q1j7tfdyfNw47SoktiGwENuAAEJsAwAAAADUxrlz5/TQQw9VOqke3yxeCxcuZCUbgkpBQYFPMKvp/da2bt2m1FTfFW7p6Rm1jm1bt2679vyMDFOOQV1i25o1axQVHVVtZAuPCNe3335707N9//33at+hvc+2z5w5Y/r7BsGB2EZsC3XENiCAENsAAAAAADXh8Xj04UcfKq5pnG9ki2+q119/XXn5eabPCNTW0aNHymNXampanVel1cfKtq3btplyDGob27744guFOcKqDW0xsTHasGHDTc20e/fuKu8BOXXqVNPfMwgexDZiW6gjtgEBhNgGAAAAALiRPXv2aMDAAT4nvSMjI/TKKy/r8uXLps8H1FVmZmZ57KruPm3+bElOLn9+SkpqrZ+fnp5R/vzdu3c3+uvPycmRI9xRvjo1NzfX7+MXvbnI72UjW7ZqqR07d9zUPJP/N1k2u81nuz179dSmzZtMf78guBDbiG2hjtgGBBBiGwAAAACgOleuXNGsWbMqrWIZMWK4jh07Zvp8wM1KSU29trKsDpeAvP5SkrW5DOXWrduUnJJS/tyzZ882ymvesXOHnnzqSbVt17bKYNahYwdNmTJF+/btK3+O1+vVjOdn+A1tt3S6pc4/F1wul959991KK2ebt2iuj5Z9JLfbbfp7BcGH2EZsC3XENiCAENsAAAAAAFVJTk5Wu/btfE58t2rdSqu+WWX6bEB9qRi76hLb0tLSfWJbSmrNV7dVXNWWmpra4EHp6NEjGjZsmN9gdr3Rd43W8ePHNWHCBL+P692nt7Kzs+s019q1a9WlSxef7YU5wvTc9Od08eJF098jCF7ENmJbqCO2AQGE2AYAAAAAuN6yj5eVX1quzJQpU3Tp0iXTZwPqU3pGRp1XpVW1sq2m936ruN/NW7bo+PHjDfo6ly9frsioyFqFtorhy9+/Dxs2THl5tb9n4+EjhzT6rtGVtjdi5AgdPHjQ9PcGgh+xjdgW6ohtQAAhtgEAAAAAypSUlOiZZ57xOfHdrXs3ZWRkmD4b0BD2799fHrzS0tJrFdoyM7dWCm1lklNSqrwHXGbmVqWm+Qa67Tt2yOVyNdhrXLx4cZ0iW02MGz9OTqezVvNcvnxZM2fNrBT0ExM76/fVv5v+nkDoILYR20IdsQ0IIMQ2AAAAAIBUqtzc3EqXmHtw3IMqKCgwfTagoVy4cKE8em1JTq7V6ra09GuXkNyxc6eOHz9eKbptSU5WSmqqUlJTfS5Z2VihbdU3qxostE2dNlUej6fGs3g8Hi1fvlwtW7X02U5sXKzeevutWkc74EaIbcS2UEdsAwIIsQ0AAAAAcODAAd3S6RafE+Dz58+X1xv4JxaBm+H1erV127Za33MtIyPTJ5qV3a/sxIkT2pKcXO2Kt4p2797doKHtn3/+UdOmTRsktL3++uu1miUlJUV9+vTx2YbNbtMTTz5R53u9ATdCbCO2hTpiGxBAiG0AAAAAYG3nzp1TQkJC+e+G0THR+vnnn02fC2gsZ8+d84lgKampfle4XR/aMjIzfVZ4OZ1OnTx5stJ92cpWuh08eLBO9zirrQkTHm6Q0FabE/inT5/W+PHjK21j8G2DtWPnDtO/9ghtxDZiW6gjtgEBhNgGAAAAANbldrt1xx13lP9e2L5De+3du9f0uYDGdvLkyUphLDU1TRkZmcrM3KrMzK1KT8+odCnIjMxMFRUVVblNr9ervLw8XbhwQf/++68uXbrUoCvZKso6m6UwR1iDxLaY2JgbxsKCggK9+uorioyK9Hlum7Zt9M0335j+9YY1ENuIbaGO2AYEEGIbAAAAAFjX3Llzfe6bdPToEdNnAsxy8tSpGl3+sSahzWwLFy5skNBW5uNPPq523998843atmvr8/jIqEi9+uor3AMSjYrYRmwLdcQ2IIAQ2wAAAADAmlavXu1zMvzHH380fSbAbOdzcrRz506/kS0lNVVHjx1TcXGx6fNW5+577m7Q2DZp0qRK+9y5c6duu/22So8dN36cTp06ZfoxgfUEUmzzuovldHrq/PyaMgxim5UQ24AAQmwDAAAAAOvJzc1VfHzT8t8Hp8+YbvpMQCDJz8/X4SOHtWvXLm3dtk3bd+zQnj179E9WlkpKSkyf70ZatW7VoLEtKSmpfF9ZWVm66+67Kj2mU+dOeu/997Rp8yZYWFZWlmnfB2bGNq/3slJ/eUuT7rtTvZLaKzbSLntYhFokdNaoB6fr69/3q6gGc9SWYRDbrITYBgQQYhsAAAAAWM+yj5eV/y7Yf0D/RruPFICG53a7GzS0NbE1UVzTOEmlKioqUkRERIPvD8HLZrcpIyPDlO+FKmPb0w0b20rl0s41CzS8V0uF+TsutnANGPGi9mTVb7w3DGKblRDbgABCbAMAAAAA6xk5amT574Jr1qwxfR4A9cflcjV4QImOiZZUqpycHNNjDgLfl19+acr3QuXYZtOIR75XSQPFtlJ5tPW7p9Umyl7+vMjYdhp270Oa/PQUPTphjPp0biZ7hXm69purI3n1dy84wyC2WQmxDQggxDYAAAAAsJa8vDyFR4Sria2JYmJjAvq+UwDqJjKyYVebJSQklO9r7twXKu3PEe5Qv359NfGRiXr0sUdhYYsXLzbtc6ZybGui/iOX6EoNYtvhnyYrupaxrfDiWt3VIUpNbE1kszk0cORr2pvl9HmM15undSueUrsY+3+PC9fjL6fVaLVdTRgGsc1KiG1AACG2AQAAAIC1fPPNN+W/B44bP870eQDUvwEDBzRobBt912if/V2+fFnPz3xejnCHz+MSEztr9erVph8PWFNVsa1Fy4e166LH7/PcrsOaNaKNbBWeFxd9n3bkVx/bSuXVts/GK/y/x7dLnKL91eynVC798eZIRfz32NZtHtf+K/Wzus0wiG1WQmwDAgixDQAAAACsZdpz08p/D/xk+SemzwOg/k2dNrVBY9urr75S5X4PHzmk0XeNrvT4UaNH6dChg6YfF1hLVbHNbovR1Dd3V7uSzFV0TIse6SXHde/hyLBbteaY7yo1lzNFD/UYqT9PulSqAr33aCfZ/lvVNuWNPfL6Wa2W/+/3ur3Z1VXm4Y7u+mZ7Ub28ZsMgtlkJsQ0IIMQ2AAAAALCW1157rfz3wKVLl5o+D4D6l5yc3KCxbf/+/X73/8cff6hLly4+zwlzhGn6jOm6dOmS6ccH1lBVbGtia6KIqM568cN0XfFUfKxXJ3ev0kO3Jshuj9OY/01Ux4hr916z22L0wrITPgHtnx1vaGDfeTpT4pXbc1RTBze7ehlVR2d9nlrgd7YS12491jPu6rbtrfTe75fr5TUbBrHNSohtQAAhtgEAAACAtfz444/lvwc+++yzps8DoGF07da1QUJbTU/gu1wuvfvuu4prGufz/OYtmmvZx8vk8fi/lB9ws6qLbVfZFN+qi4aPmaSnnnhAt/ZsqyhHE9ltUbpv8nfKLtis+/67/1qZNp0mKu3E1RVobvdpLXq4l6a9tVfe0lK5XDv1SLfYq6vgHLfrz1Muv7O5nGka1zn6aogOS9DStXn18poNg9hmJcQ2IIAQ2wAAAADAWv7+++/y3wPvuOMO0+cBUP/27t2rZs2b1Xtos9ltSk1NrdUs58+f11OTn5LNbvPZVq/evbRlyxbTjxVCV1lsCwtrqcQuzXzuwVYVe1gzPTZ3tS65S1WqAn02tZfCrntMVFyi7n9koob2bq3u/efp2H/3cfN683VwR4bS0tKUkXFAeR7/s+UcWKwukfb/LlE5UKuPOuvlNRsGsc1KiG1AACG2AQAAAIC1uFwuhTnC1MTWRNEx0bp48aLpMwGoP+vWrVNsbGyDrGqbOWtmnefatWuXbh9ye6Vtjn1wrE6ePGn6cUPoKVWBFjyQoIiwfvp25y4tfKK/Iu1Vv7dbdRimpT8d8rmX25Xzm/RI/xaVIp3N5lC/YXO1O6ukTnN5vef0ziNJsv+3vaR+ryirxFsvr9kwiG1WQmwDAgixDQAAAACsZ9iwYeW/Cz72+GOmzwOgfnz8ycflMb2+jRg5QsXFxTc943fffad27dv5bDsyMkIvv/ySCgr83+cKqA2v95xeGNFSDkdHLd90RaVyan/Kcj376H0a1K+7evcbrAcmPKulX21RTkHVsav40t/6aP4TGjaon/r1u1X3TZillb/vU+ENVq5Vp6TI0AfPDiqPfg5HRy3+7azPveBuhmEQ26yE2AYEEGIbAAAAAFjPvn375Ah3lP8+uGHDBtNnAlB3Xq9Xs2fPbpDI1sTWRCNHjVRRUVG9zVtYWKj58+crKvq6e2K1baOVq1aafjwRGtzuvXqyT1PZbdF6+dNzps5SKqf2bXpPo3tdWylnt8fpsZc2qKieQptEbLMaYhsQQIhtAAAAAGBNr7zycvnvgx06dtCVK1dMnwlA7RUWFmrsg2P9xrLWCa01+X+TfSJ7TUREROjtd96Wx+NpkNnPnDmjhx9+qNJ+Bw0epO07tpt+bBHc8nNWamCcQ01sNo1+7Ec56zFq1cZ5Y61mjOutqAqXsIyI6qCZ76TVa2iTiG1WQ2wDAgixDQAAAACsyel0qmu3ruW/Ez447kE5nU7T5wJQc+fPn9eAgQP8BrPuPbrr9OnTkkp18OBBTZkyRdEx0X6fExsbq2nPTdOxY8ca5XWkpqb6nKOqeJnbc+fMXZGE4HXwl6cV+1/gatNhig4V1c990WrKlX9Ey14eq7Yxdp/7vfUaPEVrd+bU26UjKzIMYpuVENuAAEJsAwAAAADryszMlM1uu3ZPphHDlZ+fb/pcAG7s4MGD6tCxww3vs5aXl1fpuXl5eVq/fr0WLFgge5i9/L5pCxcu1MaNG035OeDxeLRixQq1bNWyUvhb9OYi/hgAtVIqpz57tofstrJ7oyXqy/TGuSdgqTw6mPKe7uwa7/Nebtt5lBZ/vUMFdbzfW00YBrHNSohtQAAhtgEAAACAtX2y/BOf4NavXz/l5OSYPheA6v216S81bdrUb2ib/L/JKikpueG2IiIi1MTWRK1atzL9dUlXQ+CsWbMqXfKyc+fO2vjXRtPnQ3Bwuw/q6YHXYpfN5tBzbx9qkNVkFZXKqZSVU9Q2+tpqtriWvTXn7TXKaYSVdYZBbLMSYhsQQIhtAAAAAICffvqp/IR7E1sTJSZ21okTJ0yfC0BlX3zxxQ3vvbbozUU13l6gxbYyh48c1t333O3zuiKjIvXvv/+aPhsCX3HBrxoSH17h/WPTyEk/qKQBY1upvNr/x0y1jbwa2uz2GI2auFgHs12N9roNg9hmJcQ2IIAQ2wAAAAAAUqk2bd6k2LjY8t8RWye01vr1602fC8A1L7/8kt/IFhkZoR9++KFW2wzU2FZm3bp1SkpKUhNbE8U3i1defuXLYgLXyz//pfpGhfl8fwwas0LOBoxt+ed/1fC2kWpia6IwR2s993aaihp4Jd31DIPYZiXENiCAENsAAAAAAGV2796t1gmtfU5OPvLII8rNzTV9NsDKiouLNWHCBL+hrUXLFsrIyKj1tgM9tkmlKikpUXJysk6dOmX6LAgOxYV/aETLiArfI3bd/dRvcjdQ/CqVSz/PH6IwWxPZbOF66Pn1jR7aJGKb1RDbgABCbAMAAAAAVGQYhgQI1WcAACAASURBVLp171bpJP7KVStNnw2wotzcXN0+5Ha/oa1Lly4yDKNO2w+G2AbUltebq8WTusj23/dImKON3vu94e5H6nKma3yXmKsrMOPHKCPH8//s3ed/VGX+//G/g3QgJBA6SEcFDBZQENFVEVgVEVwrKii4sigqX1As6LrgqhQVFFYEFFwbanqRSO9cQCCACSW9zvD+3dgfkSHJTCrXzDmvG88bmpk5n3MyeeQwr1znWNlvY4htbkJsA4IIsQ0AAAAAcKXKykotWLBAUdFRPh/o/+Xuvyg3N9f6fIBbHD58WAMHDvAb2saMHaPz5883exvENjhV6dlUPTdxuHr1ulaz30pu05VmJ7e9rj5R/7tXW/tO/TT69tt1eyPdMe4+rUspbZU5jCG2uQmxDQgixDYAAAAAQEP27t2rm2+52eeD/Y6xHfXuu++qoqLC+nyAk6Wlpalzl85+Q9v06dNVWVnZou0Q24CW2/PFdEX5+Vn1Jzy8s5ZsLGyVOYwhtrkJsQ0IIsQ2AAAAAIA/Ho9Hy5YtU2xsrM+Hgz179tC/P/x3iz/oB1DXunXraiNYQxYseK1VtkVsA1rmojz66Z27FEFsw1VGbAOCCLENAAAAANAYJ06c0D333lPnQ8I+fftoxYoVqq6utj4j4ASvv/663w/mo6KjtHrN6lbbHrENcA5jiG1uQmwDggixDQAAAADQFN99950SExPrBIB+/fvps88+U01NjfUZgVBUVVWlRx971G9oi4+PU1JSUqtul9gGOIcxxDY3IbYBQYTYBgAAAABojm82f6Nhw4fViQGDBg3UF2u/ILoBTVBYWKhx48b5DW39B/TXgYP7W33bxDbAOYwhtrkJsQ0IIsQ2AAAAAEBzeb1ebdiwQUOvHVonDPTq3UuLFy/W2bNnrc8JBLNjx45pyNAhfkPbzbfcrPz8/DbZPrENcA5jiG1uQmwDggixDQAAAADQUh6PR+vWrdOgQYPqRIKYmGg99vhj2r59u/U5gWCTnZ2tbt27+Q1tDz74oMrLy1t1uxUVFTp69KgyMjMVGRVZe4nKjMxMHTt2TJWVldaPDYCmM4bY5ibENiCIENsAAAAAAK2lpqZGaz5f4/NvzcuNvnW01q9fr+rqauuzArZ9sfYLxcRE+w1t8+bNk9frbbVtVlRUaPfu3fo1KanW5bHt0v9LSk7W3r17VVVVZf04AWg8Y4htbkJsA4IIsQ0AAAAA0BbS0tI0ZcoURURG1AkIPXv11BtvvKGCggLrcwJXm8fj0T/+8Q+/kS0iMkIrVqxo1e1WVFQoMyvLJ7Q1FNsuyf7tN4IbEEKMIba5CbENCCLENgAAAABAW8rLy9P8+S8roWtCnaAQHR2tKVOm6Pvvv5fH47E+K9DWioqLdO+Ee/2GtthOsfrpp59adbvlFRXKzMz0CWkpqanKyMhUVHTU/2Jb53hlZGQqJSXVN7hlZ3NZSSBEGENscxNiGxBEiG0AAAAAgKuhoqJCn332mRITb6g3MPTs2UMvvTRPBw4esD4r0BaOHDmiIUOH+A1tvfv01u7du1t929tycnwCWkZGprKyspWVle0T2y79v4wM3zC3Y8cO68cPQGDGENvchNgGBBFiGwAAAADgaktPT9dDD01RdHT996u6ZdQtWr58uYqKiqzPCrSGrT9vVXzneL+h7cabbtTp06dbfduFRUUNhrbMzCxFRf0Z2zIzsxoMbqWlpdaPIwD/jCG2uQmxDQgixDYAAAAAgC3nzp3Tsg+WNbjarX2H9po2bZq2/rxVXq/X+rxAc/zrX/+q996Fl5v+yHRVVFS0yfb37t1bG8xS09KUmZml9PQMJaek1HvPtuSUFKVnZCgrK1upqWm1zz146KD1YwnAP2OIbW5CbAOCCLENAAAAABAMdu3apRf+/oK6dutab4zo07eP5s9/Wbt27bI+K9AYlZWVeuLJJ/xGtrDwML2z5J02m6G6ulpJycm1wSw9PcPnv+uLbZckJScrLT299r+TU1JUU1Nj/bgCaJgxxDY3IbYBQYTYBgAAAAAIJtXV1fpm8zeaNGlSbQS40pChQ/R///d/3N8NQeuPP/7Q6FtH+w1tneI66bvvvmvTOYpLSnzi2eUxrU5s6xxf79cvV15ebv3YAmiYMcQ2NyG2AUGE2AYAAAAACFb5+fn65z//qWHDhzUYLEaMGKE333pTx48ftz4vIF3U9u3b1btPb7+hbdCggTpwcH+bz3LhwoUGw1laWvr/7tkW7XvPttS0tAafU1xcbP34AmiYMcQ2NyG2AUGE2AYAAAAACAU7d+7USy/NU7/+/RoMGDfdfJPef/995Z3Ksz4v3Gn9+vVq36G939B251136sKFC1dlnqKiojrBLCk5WZmZWcrKylZWVrZPbLv0/zIyM+tdCVdWVmb9GANomDHENjchtgFBhNgGAAAAAAg12b9l64W/v6CevXo2eB+sMWPH6MOPPlR+fr71eeF8Xq9Xr7wy329kaxfWTi/8/YWret+z8ooK39CW5BvaGoptl4LblbGturra+rEG0DBjiG1uQmwDggixDQAAAAAQqrxer1JSUjRz5kx17da13rgRERmh8ePv0KpVq3T+/HnrM8N5iouLNWnSJL+RLTo6Wp9++qmV+VJSU30uHXl5UPMX27Kysn0uKZmWnm79WAPwzxhim5sQ24AgQmwDAAAAADhBTU2Ntm7dqsefeFzx8XH1Bo+o6CjdO+Ferfl8jYqKi6zPjNB37NgxXXf9dX5DW/ce3ZWRkWFlvsrKSp+VaVeuagsU2zIzs1jZBoQQY4htbkJsA4IIsQ0AAAAA4DRVVVX69ttvNX36dMV2iq03gMTERGvS5En68ssvVVpaan1mhJ6kpCR1SejiN7QlJt6gkydPWpuxuLi4NpQlp6TUiWmBYltWVraSk1O4ZxsQIowhtrkJsQ0IIsQ2AAAAAICTlZeXa9OmTZoyZYrad2hfbxDp0LGDJv91slavXq1z585ZnxnB78OPPlRkVKTf0DZ16kPW49SFCxdqQ1lKSmrzYlvKn7GtuLjY+rEH0DBjiG1uQmwDggixDQAAAADgFqWlpfryyy81afIkxcRE1xtIwiPCNXbsWP3zn//U0aNHrc+M4FJVVaWnn37ab2QLCw/T4sWLrc8qsbINcBtjiG1uQmwDggixDQAAAADgRkXFRVrz+RrdO+He2thQn+uuv06vvDJfv237zfrMsKugoEBjx471G9piY2O1ectm67Ne0pr3bEtKTlZNTY31fQLQMGOIbW5CbAOCCLENAAAAAOB2RcVFWr9+vR5++GHFxcU1GFJ69uqpZ599Vj/++KOqqqqsz42rZ9euXbqm3zV+Q1v/Af21d+9e67PWN/ulYJaWlt6k2Jaallb73H379lnfFwD+GUNscxNiGxBEiG0AAAAAAPypurpaW3/eqlnPzVLvPr0bXsHUKVZTpkzRunXrVFhYaH1utJ1NX29Sx9iOfkPb7bffHrT3+zt37pzf1W0NxbaMjEyf5xUWFVnfFwD+GUNscxNiGxBEiG0AAAAAADTs999/14IFr2n4iOENhpbIqEiNH3+Hln2wTCdPnrQ+M1rPwoUL/Ua2dmHtNHPWTFVXV1uftSFer1dZ2dk+l4O8PLjVF9syMjKVlJRc+5xtOTnW9wNAYMYQ29yE2AYEEWIbAAAAAACNc/z4cS1dulS33367IiIjGowviYk3aOHChdq5c6f1mdE8paWleuDBB/xGtsioSC1fvtz6rI1RXFzsc0nIX5OSlJqWpszMLJ/YlpmZVedxaenpKi0ttb4PAAIzhtjmJsQ2IIgQ2wAAAAAAaLrz58/r8y8+1wMPPqDY2Fi/93l7asZT+mbzNyopKbE+NwLLzc31u5KxXVg7JXRNUGpqqvVZm6K4pKROSPs1KUmRUZH/i23x8XW+RmgDQosxxDY3IbYBQYTYBgAAAABAy1RUVOj777/XjBkz1KNHjwYDTXR0tMbfOV7/+te/dOTIEetzo660tDR17dbVb2gbNnyYcnNzrc/aHCUlJfrtt98aiG1xPv9/W04OoQ0IMcYQ29yE2AYEEWIbAAAAAACtx+v1Kjs7Wy+//JKuH3a932gzaNAgzXlhjrb+vFVVVVXWZ3e7lStX1l5SsSH3P3C/I1YoFhYWau/evUpKTvaJbUnJydq3b5+Kioqszwig6YwhtrkJsQ0IIsQ2AAAAAADazsmTJ/Xx8o913333qUPHDg1GnNjYWE2aPEkrV67UqVOnrM/tJjU1NZr13Cy/ka1dWDstWLBAXq/X+rytve/R0dFqF9ZOXbt1VU1NjfWZADSfMcQ2NyG2AUGE2AYAAAAAwNVRUVGhH3/8Uc89/5z6D+jvN+zccMMIvfLKfGVmZsrj8Vif3anOnTunO+4Y5/d70aFjB23cuNH6rG3lUmzr1r2b9VkAtIwxxDY3IbYBQYTYBgAAAACAHQcO7td7772ncePG1V7Krz5dErpo2rRpWrdunc6fP299bqfYu3evBgwY4De09b2mr3bu3Gl91rZEbAOcwxhim5sQ24AgQmwDAAAAAMC+ouIibdq0SY8/8bh69OjRYPwJjwjX6FtHa/Gbi7Vr1y7rc4eqLVu2KLZTrN/QNmbsGBUUFFifta0R2wDnMIbY5ibENiCIENsAAAAAAAguXq9XOTk5WrRokW66+SaFhYc1GIR69+mtGTNmaPOWzSotLbU+eyhY/OZiv8e0XVg7zZgxQ1VVVdZnvRqIbYBzGENscxNiGxBEiG0AAAAAAAS3/Px8rV6zWg89NEXx8XENBqKYmGjd9Ze7tHTpUhljrM8dbEpKSvTQQ1P8RraIyAh98O8PrM96NRHbAOcwhtjmJsQ2IIgQ2wAAAAAACB01NTVKSUnRvHnzdN311/kNR4MHD9YLf39BP//ys6qrq63PbtOBgwc09Nqhfo9X5y6d9cuvv1if9WojtgHOYQyxzU2IbUAQIbYBAAAAABC6cnNz9eFHH2rChAlq36F9gyEpPj5ODz/8sL766iuVlJRYn/tq2rRpU8D7s1173bU6evSo9VltILYBzmEMsc1NiG1AECG2AQAAAADgDOXl5fr+++81c9ZM9evfz+/lJu+dcK9Wrlyp/Px863O3lZqaGs2dO9dvZGsX1k4TJ05UcXGx9XltIbYBzmEMsc1NiG1AECG2AQAAAADgTPv379OSd5fotjG3KTwivN7QFBYeptG3jtaSd5foyJEj1mduLfn5+br99tsDhrb581+W1+u1Pq9NxDbAOYwhtrkJsQ0IIsQ2AAAAAACcr6CgQJ988onuu+8+xbSP8Xs5xVdema9tOdusz9xcmZmZ6tmrp9/I1imuk77+5mvrswYDYhvgHMYQ29yE2AYEEWIbAAAAAADuUlpaqk2bNmn6I9MV3zm+wSDVu09vzZw1U1t/3qrq6mrrczfGsg+WKSo6ym9ou+7663To0EHrswYLYhvgHMYQ29yE2AYEEWIbAAAAAADuVV1drV9+/UXPPf+c+vTt02Cgio+P07Rp07Rx40aVlpZan/tKZWVlmj59esDLRj788MNBOb9NxDbAOYwhtrkJsQ0IIsQ2AAAAAABwSU5Ojl599RVdd/11DQarmPYxmjBhglatWqWCggLrMx85ckTDhg/zG9kioyK1dOlS67MGI2Ib4BzGENvchNgGBBFiGwAAAAAAqI8xRu+++65uve1WhUeE1xuxwiPCdettt+rdd9+VMeaqz7h5y2bFxcX5DW09evRQenq69eMZrIhtgHMYQ2xzE2IbEESIbQAAAAAAIJD8/HytWrVKEyZMUExMtN/7ob366ivKyclp03k8Ho/mz3854GUjx44dqzNnzlg/fsGM2AY4hzHENjchtgFBhNgGAAAAAACaoqSkRBs3btT06dMV3zm+wdDVu09vzXpuln7+5WdVV1e32vbPnj2r8XeODxjaXnzxRdXU1Fg/XsGO2AY4hzHENjchtul/N589cPCAvtn8jd5+5209P/t5Pf3001qxYoXP4/Ly8lRWVmZ9XjgXsQ0AAAAAADRXdXW1fv7lZ816bpZ69+ndYPiK7xyv6dOna9OmTSovL2/29n7b9pv69O3jN7LFxsZqw4YN1o9NqCC2Ac5hDLHNTVwb244fP67FixcrMTFRkVGR9Z4MTJ36kM9znprxlGI7xerJp57Unj17rO8DnIfYBgAAAAAAWktOTo5effUVXXf9dQ3GsE5xnfTY44/pl19/kdfrbfRrb9++Xddff73f0DZk6BDt37/P+nEIJcQ2wDmMIba5ieti2549e3TvhHsVFh4WcHl7fbHt0tfCwsP06GOP6vTp09b3Cc5BbAMAAAAAAG3hyJEjWvLuEo2+dXSDn4v16t1L//jHP5r0R+Y5OTmaPWe2unXv5vNaDz74oIqLi63vd6ghtgHOYQyxzU1cFduWLl3q96axTYltl/To0UO7d++2vm9wBmIbAAAAAABoa/n5+Vq5cqXGj7+jwfA2bPgwvbPkHeWdymvUa9bU1OiHH37QI488oqVLl1rfx1BFbAOcwxhim5u4IraVlZXp7nvubnRka0psaxfWTvHxccrOzra+nwh9xDYAAAAAAHA1nTp1SkveXaLhI4bX+7lXWHiYxo0bp08//VRFxUXW53U6YhvgHMYQ29zEFbHt/gfubzCoRUdHa9LkSVqwYIFee+1Vv7Ft1apVGjxkcIPL7C9cuGB9XxHaiG0AAAAAAMCWPXv2aN68eerdp3e9n3/FtI/RlClTtGXLFlVXV1uf14mIbYBzGENscxPHx7aVK1fWe3Jwww0j9Mknn6iwsLD2sbt37/Yb26SL8nq9WrlypWI7xdZ5zWeffdb6/iK0EdsAAAAAAIBtXq9XSUlJeuLJJxQXF1fvZ2sJXRM0c+ZMZWVlWZ/XSYhtgHMYQ2xzE0fHtqqqKsV3jq9zMnDPvfeorKyszuMbE9su2bFjh2JjfYNbeES4jh8/bn2/EbqIbQAAAAAAIJhUVFRow4YNmjRpkqKio+oNbwMHDtCCBQt05MgR6/OGOmIb4BzGENvcxNGx7edffq7zy3/SpEmqqqqq9/FNiW3SRW3YsKHO669atcr6fiN0EdsAAAAAAECwOn/+vD76+CONvnV0g7dsuenmm7Tsg2U6e/as9XlDEbENcA5jiG1u4ujYNueFOXV+4e/Zs6fBxzc1tkkXNWbsGJ/nTJ8+3fp+I3QR2wAAAAAAgC0ej0der7dRjz169KgWLVqkwYMH1xvdoqOjNW3aNC4z2UTENsA5jCG2uYmjY9vgIb6/7BMTE/0+vjmx7dNPP/V5Tu8+va3vN0IXsQ0AAAAAANiQm5urkSNHqlfvXpo3b57fP1i/0m/bftPzs59Xt+7d6g1viYmJ+vTTT1VeXm59P4MdsQ1wDmOIbW7i6Nh25T3V3n7nbb+Pb05sO3r0aJ0TCJbJo7mIbQAAAAAA4GrbunWruiR0qfMZ1/ARw7Xk3SXKO5XXqNepqanR999/r6lTH6r3/m6du3TW3Llzdfz4cev7HKyIbYBzGENscxNHx7aIyAifX+hrPl/j9/HNiW1er7fOiUNubq71fUdoIrYBAAAAAICrxev16o033lBYeFiD92BrF9ZON99yswoKCpr02mfOnNGiRYvUs1fPOq8XFh6mCRMm6Mcff2z0ZSvdgtgGOIcxxDY3cXRsi2kf4/OLfP369X4f35zYVlNTU+eE4cDBA9b3HaGJ2AYAAAAAAK6GwsJC3XfffX4jW7uwdpo5c6YqKyubvZ3q6mpt2LBBY8eOrff1Bw0aqPfff1+FhYXWj0kwILYBzmEMsc1NHB3bErom+PzyXrZsmd/HNye2FRYW1jlJOHbsmPV9R2gitgEAAAAAgLa2a9cuDRgwwG9ka9+hfcCrRDXVnj179Mwzz6hjbMc62+vQsYNmzJih3bt3Wz8+NhHbAOcwhtjmJo6ObXfcMc7nl/Y9997j9/HNiW3ffvttnZODCxcuWN93hCZiGwAAAAAAaEuff/G52ndo7ze09R/QXzt37myzGYqKirR06VINGjSo3u2PGTtGX331lTwej/XjdbUR2wDnMIbY5iaOjm1vvf2Wzy/qmJhonT59usHHNye2TZ36kM9zrrv+Ouv7jdBFbAMAAAAAAG2hoqJCM2fODHjZyAkTJly1PyT3er3aunWrJk6cqPCI8DqzDBgwQMuXL2/RZSxDDbENcA5jiG1u4ujYtn379jq/pB988MEGH9/U2HbkyJE694Wb88Ic6/uN0EVsAwAAAAAAre3w4cM+nznUJyw8TK+//rq8Xq+VGXNzczVv3jx1SehSZ7YePXpoybtLVFxcbP1YtjViG+AcxhDb3MTRsc3r9apHjx51fkHPn/9yvY9vSmwrKSnRjTfdWOe1v/vuO+v7jdBFbAMAAAAAAK1p7dq1io2N9RvaOnfprJ9++sn6rNL/VuB99tlnGjJ0SJ054zvHa8GC13Tu3Dnrc7YVYhvgHMYQ29zE0bFNuqjly5fXexLxt0f/pqLiIp/HNja2HTp0UCNG1P1roKHXDlV1dbX1fUboIrYBAAAAAIDWUFZWpsefeDzgZSNHjhyp3Nxc6/Neyev1atPXmzTyxpF1Zu7QsYPmvDBHeXl51udsbcQ2wDmMIba5ieNjm8fj0ajRo+o9mejWvZveWfKOjDGS/Me2goICffLJJ5o4caJiYqLrfb1ffv3F+v4itBHbAAAAAABAS+3du1fXXndtwND21IynVFFRYX3eQH7+5Wfdcce4OvNHRUfp8Sce19GjR63P2FqIbYBzGENscxPHxzbpok6ePKmu3br6Pbnoe01fDR8x3Of/JXRN0MiRIzV4yOB6b9J6uRf+/oL1/UToI7YBAAAAAICWWLVqldp3aO/3c6wOHTto9erV1mdtquzfsjVp8qQ6+xMZFalnn31Wp0+ftj5jSxHbAOcwhtjmJq6IbdJFHT9+vE5May0vvviitZvHwlmIbQAAAAAAoDmKi4v18MMPB/wc6/ph1+vAwf3W522Jffv26ZG/PaKIyIg6EfHll19SYWGh9Rmbi9gGOIcxxDY3cU1sky6qtLRUU6c+1GqRLTwiXB/8+wPr+wXnILYBAAAAAICm2r59uwYNGhjws6ynn35a5eXl1udtLcePH9ejjz1a54pU8Z3j9dbbb6msrMz6jE1FbAOcwxhim5u4KrZdsnnL5npvrtoU99x7j7Zv3259X+AsxDYAAAAAANAUyz5YVhtoGtIprpPWr19vfda2sm/fPk3+6+Q6+92jRw999PFHqq6utj5jYxHbAOcwhtjmJq6MbZds375dc+fO1ZixYxQfH+f3pCQ6Olo33nSjZs+ZrT179lifHc5EbAMAAAAAAI1RWFiov97/14B/MJ6YmChjjPV5r4bs7GzdfvvtdY7BwIED9J///CckbgNDbAOcwxhim5u4OrZd6eTJk/rhhx/05ZdfavWa1Vrz+Rp99dVXysnJUVVVlfX54HzENgAAAAAAEEh2drau6XdNwNA2e85sVVZWWp/3atu6dasSExPrHI9Ro0dpx44d1ufzh9gGOIcxxDY3IbYBQYTYBgAAAAAAGuL1evXOkncUGRXpN7LFd47X5i2brc9r21dffaVBgwb5HJvwiHDNem6WCgsLrc9XH2Ib4BzGENvchNgGBBFiGwAAAAAAqM/Zs2d1z733BFzNNmr0KJ04ccL6vMGipqZGK1asUELXBJ/j1K17N61evdr6fFcitgHOYQyxzU2IbUAQIbYBAAAAAIArpaSkqGfPHgFD20svzVN1dbX1eYPR+fPn9cwzzygsPMznmN16263atWuX9fkuIbYBzmEMsc1NiG1AECG2AQAAAACASzwejxYtWqTwiHC/ka1b92766aefrM8bCrblbNONN93oc/wiIiP0/OznVVRUZH0+YhvgHMYQ29yE2AYEEWIbAAAAAACQLur06dMaN25cwNVs48aN0+nTp63PG0q8Xq9WrFihLgldfI5l9x7d9Z///MfqbMQ2wDmMIba5iatiW2Vlpb777ju9+OKLSkxMVLfu3RQXF6fYTrGtZsOGDdb3E6GL2AYAAAAAALZu3apu3bv5jWzhEeFauHChPB6P9XlD1blz5/T000/XubTk/Q/cr4KCAiszEdsA5zCG2OYmroltP/30k/oP6B/wr4Faau3atdb3FaGL2AYAAAAAgHvV1NTo5ZdfqhN/rtSzZw8lJydbn9cptuVs08gbR/oc467dumrjxo1XfRZiG+AcxhDb3MQVse39999v88hGbENrILYBAAAAAOBOJ0+e1OhbRwf87Onue+62turKyTwej5a8u0QxMdE+x/vhhx9WcXHxVZuD2AY4hzHENjdxfGz7+puvA/41ELENwYLYBgAAAACA+2zZskWdu3T2+5lTZFSk3lnyjrxer/V5nWz//n11VrkNGTpEhw4dvCrbJ7YBzmEMsc1NHB3bysvLldA1we+JSnznePXu01vX9LumVWzestn6fiN0EdsAAAAAAHCPqqoqzXlhTsA/7u57TV9lZWVZn9ctampqtHjxYkVFR9V+D+Li4vTf//63zbdNbAOcwxhim5s4OratXrO63hOU0beO1uo1q3Xs2DHrMwKXI7YBAAAAAOAOR48e1ciRIwOGtsl/nawLFy5Yn9eN0tPT1aNHj9rvRVh4mBYtWtSmqwuJbYBzGENscxNHx7aHHppS5wRl3rx5LLdH0CK2AQAAAADgfOvXr1enuE5+I1t0dLSWfbDM+qxud+rUKd18y80+35tJkyepqLioTbZHbAOcwxhim5s4Orb1H9Df5xdhjx49VF1dbX0uoCHENgAAAAAAnKu8vFxPP/10wNVsAwcO0Pbt263Pi/+prKzUk0896fM9Sky8QQUFBa2+LWIb4BzGENvcxNGxLTIq0ueX4Pz5L1ufCfCH2AYAAAAAgDMdOLhfw4YPCxjapk6dquLiYuvzoq6Pl3/scx+3H9dJgwAAIABJREFUwYMH68SJE626DWIb4BzGENvcxNGx7dIvp0u+WPuF9ZkAf4htAAAAAAA4z+o1q9UxtqPfyNa+Q3utWrXK+qzw79ekXxUbG1v7fevdp7cOHDzQaq9PbAOcwxhim5s4OrZ17tLZ56Rl3bp11mcC/CG2AQAAAADgHCUlJXrkb48EXM029Nqh2rt3r/V50TjbcrapS0KX2u9fQtcE/f77763y2sQ2wDmMIba5iaNj2+233+5z4rLk3SXWZwL8IbYBAAAAAOAMu3bt0uAhgwOGtsefeFxlZWXW50XT7N+/T71696r9PsZ2ilV2dnaLX5fYBjiHMcQ2N3F0bFu6dKnPycugQQPl8XiszwU0hNgGAAAAAEBo83q9eu+99+rc3uRKsbGxWrt2rfV50Xy5ubkaNGhg7fc0Pj5OO3fubNFrEtsA5zCG2OYmjo5tRUVFiu0U63Mis379eutzAQ0htgEAAAAAELryTuXpjjvGBVzNNmLECB0+fNj6vGi5/Px8DRk6pPZ727Vb1xbdw43YBjiHMcQ2N3F0bJMuavny5T4nM10SumhbzjbrcwH1IbYBAAAAABCaNmzYoPjO8QFD28xZM1VRUWF9XrSeU6dOqf+A/rXf4569eur48ePNei1iG+AcxhDb3MTxsU26qJmzZvqc1LTv0F4fffyRampqrM8GXI7YBgAAAABAaCkqLtIjf3skYGSLi4vTpk2brM+LtnH8+HGfe7iNvHGkqqqqmvw6xDbAOYwhtrmJK2Kb1+vVM888U+ckp1v3bpo9Z7ZSU1N16NBBHT9+vMVKS0ut7y9CF7ENAAAAAIDQkZ6ern79+wUMbaNGj9KxY8esz4u2deDgAXVJ6NKiz3aIbYBzGENscxNXxLZLJk2eFPDkp6W4sS1agtgGAAAAAEDwq66u1iuvzFd4RLjfz4kiIiO0aNEirq7kIlu2bPF5D/z4449Nej6xDXAOY4htbuKK2FZaWqqHH364zUMbsQ0tRWwDAAAAACC4HTp0UCNvHBnwM6JBgwYq+7ds6/Pi6nt+9vM+V9Y6c+ZMo59LbAOcwxhim5s4Prbl5+dr+IjhVyW0EdvQUsQ2AAAAAACC18fLP1aHjh0Cfj701IynVFJSYn1e2FFZWakRI/78jGf8nePl9Xob9VxiG+AcxhDb3MTRsa26ulqjRo+6aqGN2IaWIrYBAAAAABB8CgoKNHHixICfCyV0TdA3m7+xPi/sO3DwgDrGdqx9b7z9ztuNeh6xDXAOY4htbuLo2LZ27doGT36io6N125jbNGnyJE3+6+RWk5qaan2/EbqIbQAAAAAABJfvvvtO3Xt0Dxja7r7n7iZdLhDO99lnn9W+PyKjIpWdHfiyosQ2wDmMIba5iaNj2/RHptc58emS0EWrV69WaWmp9fmAKxHbAAAAAAAIDmVlZZo5c2bAyBbTPkYf/PsD6/MiOE2bNq32vTJk6BB5PB6/jye2Ac5hDLHNTRwd23r26ulz8hMZFakDBw9YnwtoCLENAAAAAAD7fv/9dw0eMjhgaLvhhhHav3+f9XkRvIqLi3VNv2tq3zNrPl/j9/HENsA5jCG2uYmjY9ulX06XTH9kuvWZAH+IbQAAAAAA2OPxePTmW28qKjrKb2QLCw/TvHnzVFVVZX1mBL/Pv/i89r3Tf0B/VVdXN/hYYhvgHMYQ29zE0bEtIjLC50Qo0F+OALYR2wAAAAAAsCM3N1djxo4JuJqtT98+Sk5Otj4vQofH49HQa4fWvoc+Xv5xg48ltgHOYQyxzU0cHdu6JHTxORn68ssvrc8E+ENsAwAAAADg6lu7dq3i4uIChraHH35YhYWF1udF6Nm4cWPt+6hX716qqKio93HENsA5jCG2uYmjY9uECRN8TojeeOMN6zMB/hDbAAAAAAC4egoLCzV16kMBI1tcXJzWrl1rfV6EtsTEG2rfU++//369jyG2Ac5hDLHNTRwd29577z2fE6Pxd463PhPgD7ENAAAAAICrIykpSb379A4Y2saOHasTJ05Ynxeh77vvvqt9X3Xr3k0lJSV1HkNsA5zDGGKbmzg6tuXn56tTXKfaN3R4RLgOHz5sfS6gIcQ2AAAAAADaVmVlpebOnauw8DC/kS0qOkpvvf2WPB5Pk7fh8XhUUVGhktJSlZeXq6amxvp+IziMGj2q9j22+M3Fdb5ObAOcwxhim5s4OrZJF/XW22/5nCiNGTtGZWVl1ucC6kNsAwAAAACg7ezbt08jRozwG9nahbXTkKFDtH379ia/fklpqQ4eOqjklBT9mpTkY/fu3Tp//rz1YwC7kpKSat9nvfv0ltfr9fk6sQ1wDmOIbW7i+NhWWVmpO++60+eE6bYxt3EzWwQlYhsAAAAAAG1j2QfLFNM+JmBomzlrZpP/ULuiokI7duyoE9jqk5WdzedSLnd58E1OTvb5GrENcA5jiG1u4vjYJl1UWVmZxowd43Pi1L1Hd61atUrV1dXW5wMuIbYBAAAAANC6zpw5o7/c/ZeAka17j+76/vvvm/z6FRUVyszKqhPVkpKTlZySouTkuqvcklNSdIHg5lrvLHmn9n03Y8YMn68R2wDnMIbY5iaOjm1er1dlZWUqKyvTuXPnNH369DonUp3iOmn8neP12muv6vMvPtfGjRu16etNzZaXl2d9vxG6iG0AAAAAALSebzZ/o4SuCQFD26RJk1RQUNDk168vtKWmpikjI1NZWdm1MjOzlJaWrqSkZIIblJeXV3vPwPjO8aqqqqr9GrENcA5jiG1u4ujYtmfPnoAnU61t7dq11vcboYvYBgAAAABAy5WUlOjJp54M+DlOh44dtGLFimZvZ+fOnT6h7crIdqXMzCwlJf8Z3NLS0+XxeKwfL1x9Y8eOrX0fbt6yufb/E9sA5zCG2OYmxDZiG4IIsQ0AAAAAgJbJzs7WwIEDAn6Gc+NNN+rw4cPN3k5ZWVmTQltDwe3MmTPWjxmuvuXLl9e+Fx96aErt/ye2Ac5hDLHNTYhtxDYEEWIbAAAAAADNU1NTo4ULFyoiMsLvZzfhEeF67bVXVV1d3aLtHTp8uDaYpaSmNiq0XZKWnl773G05OdaPHa6+8+fPKyo6Su3C2ql9h/YqLi6WRGwDnMQYYpubENuIbQgixDYAAAAAAJru6NGjumXULQE/t+nXv58yMjJaZZspqalNXtV2+eq2y1fFlZaWWj+GuPomTpxY+95c8/kaScQ2wEmMIba5iaNjW35+vhYseO2q2r17t/X9RugitgEAAAAA0Hher1cffvShOsZ2DBjaHn3s0drVQy1VXV1dG8qSkpObFNouuTzWnTt3zvqxxNX35Zdf1r4/p06dKonYBjiJMcQ2N3F0bANCDbENAAAAAIDGOX78uMaNGxcwssV3jteGDRtaddsVFRW1oSw5OaVZsS01Na32NfLz860fT1x9Z8+erX2f9r2mryRiG+AkxhDb3ITYBgQRYhsAAAAAAIF99PFHio2NDRjaxo+/Q3mn8lp9+6xsQ2sZNGhg7fs171QesQ1wEGOIbW5CbAOCCLENAAAAAICG5ebmavz4OwJGtpiYaL3//vvyer1tNktySkqr3bOthHu2udajjz1a+7796quviG2AgxhDbHMTYhsQRIhtAAAAAADUb/ny5YrtFHg127Dhw7R79+42n+fgoYO1sSw1Na1JsS09PaP2udtycqwfW9izYsWK2vfu7DmziW2AgxhDbHMTYhsQRIhtAAAAAAD4OnHihMbfOT5gZIuIjNBrr72qqqqqqzJXaWmpz+q0xq5uy8zMUlJycu3zTp85Y/0Yw569e/fWvodH3jiS2AY4iDHENjchtgFBhNgGAAAAAMCfVq5c2ajVbNddf51yLKwQ27FjR5OC25WhLTUtTR6Px/pxhj1er1fx8XFqF9ZOkVGRxDbAQYwhtrmJo2NbcXGxtmzZclW1xU134R7ENgAAAAAALurkyZO66y93NWo12yuvzFdlZaWVOcvLy5WRkeET3FLT0pSZmVUnsqWlpfuEtuSUFJ0/f976sYZ9d99zd+17OjIqktgGOIQxxDY3cXRs27NnT8CTsta2du1a6/uN0EVsAwAAAAC43SeffKJOcZ0CfgZz7XXXalvONuvzlpeXKyMz0ye4/ZqUpOTkFCWn/E+drxHacJnXX3/dJyAT2wBnMIbY5ibENmIbggixDQAAAADgVnl5eT4rfBoSHhGul19+ydpqtvqUl5drW05OnahWn4zMTEIbfGz6epPP+5vYBjiDMcQ2NyG2EdsQRIhtAAAAAAA3+vTTTxUXFxfwc5eh1w7Vb9t+sz5vQ4qKirRv3z6fy0VesmPHDhUUFMjr9VqfE8Fl586dte/xsPAwYhvgEMYQ29yE2EZsQxAhtgEAAAAA3CTvVJ7uufeeRq1mmzdvnioqKqzP3BjV1dUqLS1VUVGRSkpKgmoVHoJPcXFxnfc8sQ0IfcYQ29zE0bHtjz/+0CuvzG+2+fNf1nPPP6fpj0zXoEGD6j3Zmzr1IaWkpCg1NVWpqakqKCiwvt8IXcQ2AAAAAIBbrF69WvHxgVezDR4yWNnZ2dbnBdpSt+7diG2AwxhDbHMTR8e21nb06FG9+dabdX75TZo8ib9QQqsgtgEAAAAAnO7UqVOaMGFCo1azzZ07N2RWswEtccuoW4htgMMYQ2xzE2JbMxQUFGjixIk+vwDvvudulZeXW58NoY3YBgAAAABwsjWfr2ncarbBg5WVlWV9XuBqmT59OrENcBhjiG1uQmxrJq/Xq2nTpvn8Epw5c6b1uVrqQu5/NXfGk3riySf0xJNPatGH6aq52LLXLDy1S1v+87Fef22enn/uGT07a7bmv7ZYq9Z9p0OnSq3vczAhtgEAAAAAnOj06dN1/nC5PmHhYZo7dy5/0AzXWbBgAbENcBhjiG1uQmxrgdLSUvXr38/nhHDXrl3W52qumqpD+sedvRR22S/22+5frcpmxLaL8ur4znV68r4Rio0Ka/AkOiIyXrfe+7y+/z1f3hZGPScgtgEAAAAAnOaLtV8ovnN8wNA2aNAgZWRkWJ8XsGHN52uIbYDDGENscxNiWwu99tqrPr8IZz03y/pMzXFRFfrmjTsVc8WJbnNim9d7QV+/N0VdY8IDnkhfEhXdW3PeSVWpx/6xsInYBgAAAABwijNnzmjSpEmNWs3297//ndVscLVfk34ltgEOYwyxzU2IbS30+++/+/wiHDFihPWZmsOk/Z/6d6wbx5oa27zes1rz0u1qH964yOZz4+PwTnrkpR9U4uLgRmwDAAAAADjBunXr1LlL50asZhuo9PR06/MCtu3YsYPYBjiMMcQ2NyG2tVBVVZVvMIoIV3FxsfW5mqLk7M+6f0inek96mxLbLqpGKSunKi78ystGhqn7NbfpmRcXatny1frs0w+18KUndMuQLgqvE9wS9NLH+1x7SUliGwAAAAAglP3xxx+a/NfJjVrNNueFOSorK7M+MxAMcnNziW2AwxhDbHMTYlsruPKE8dixY9Znaiyv94z++bdrFdHAyW9TYtv5Y5/p5i6RV9yTLUFPvva9LlTXfbyn5g/9Z/EkdY7yXVHXKW68fjKV1o+NDcQ2AAAAAECo+vLLL9UloUvA0DZw4AClpqZanxcIJkXFRcQ2wGGMIba5CbGthYqKiuqcNB46dND6XI1xUR5lfPaI4iKuXInW9Nh2UaVa8ez1PivVwsM7asaiTL/Pv6gybVp0p2J8LjsZrglPfqMKF65uI7YBAAAAAEJNfn6+7n/g/katZps9Zzar2YAGRERGENsABzGG2OYmxLYW+vyLz+ucPObl5VmfqzH+OLBciQl/rkTr0mO8br8xtlmxrej0Wo3qHOXz3OtHLdTJSm/A51ZV7tBTN/n+5VunTncp6WS19WN0tRHbAAAAAACh5KuvvlJC14SAoa3/gP5KSUmxPi8QzC5fGUpsA0KfMcQ2NyG2tYDX69XYsWN9Th47dOygysrgvwRiVcUOzby1+2WXe+ytN9fv0f9N7N7k2HZRHiUvm6gon1VtXfXOhj8aNctFebV93aPqeNnqtvCw9pr93gHX3buN2AYAAAAACAUFBQV68MEHA0a2dmHt9Nzzz6m0tNT6zECwGzhwQO3PTdduXa3PA6BljCG2uQmxrZkqKys1depDdU4g73/gfuuzBXJRJVo3/9baOBYWFqn7ntyoYk+hFjYjtnm8JzT3jq4+z+t1zQztLwu8qu2SipLv9ZdeMT6vMey2t3XWY/94XU3ENgAAAABAsNuwYYO6dusaMLL1699PSUlJ1ucFQsXIG0fW/vwkdE2wPg+AljGG2OYmjo5tVVVVys3NbTUHDh7QL7/+ohdffFEDBgyo90Tyi7VfWN9vfy7Kq30/vKheMeG1M/cd/Kz2nPfoooqaFdtKC9bplvjIy54Xpjunr2/U5Sf/nKtYSx7up7DLth3b4S4ln3bXpSSJbQAAAACAYHX69Gk98OADjVrNNnPWTJWUlFifGQgld951Z+3PUOcuna3PA6BljCG2uYmjY9uePXsadQLYWuLi4lRYWGh9v/0pOr1Zd/frUDtzdPvr9WnKeUkX1dzYdvSnF9Ql4s94Fx7WXi99lNukS0BelFdpH0xS5GXbjojorqX/LbJ+zK4mYhsAAAAAINh4vV4tX75ccXFxAT8buabfNfo16VfrMwOh6KGHptT+LMV3jrc+D4CWMYbY5ibEtla0evVq6/vsj8eTq9cfGKjw2ijWQY+9mlob05oT2y7Kq7Sl9ynisudERg7U6oymX4s9N3W+ekT9Ge3CwiL1/LuHXHXfNmIbAAAAACCYHDi4X2PGjmnU5yLPPvusiouLrc8MhKpnnnnG54/6bc8DoGWMIba5CbGtlbzw9xes768/F1Wln5dNUsfwPy/1OGz0IuVWeC97THNiW5W+eHGkT2xrHzlGW09WNXnGotOfaET7iMtiW4QemP2zaohtAAAAAABcVVVVVVq4cKGio6MDfibS95q++uXXX6zPDIS6l16aV/tz1Smuk/V5ALSMMcQ2NyG2tVDfa/pq7dq11vc1kJPb39XQTn+GrNi4Mdqyt9znMc2LbaV668E+Ps/pkjBVO8u8TZ6xquJ73dXN9yT+1smfNuneb6GO2AYAAAAAsC09PV1Drx3aqM9Fnn76aVazAa3k7Xfe/vOzu06x1ucB0DLGENvcxNGx7cSJE5o0eVKr+uv9f9X0R6Zr8eLF2rp1qzwej/X9DKSiOEuPJnau/cEOD++seR/tq3N5xubENo/3pObekeDznD4DZupwRTNiW1WmHhrc0ee1ho15R+c9do7b7t27NXfuXM16btZVk9A1gdgGAAAAALCiqKhIzz77bKMi26BBA7k3G9DKPvzow9qfsY6xHa3PA6BljCG2uYmjYxsuyuu9oBWzEi+7zGO4xkxaobM1dR/bnNhW4zmkWaM6+zyn39AXdbyq6bGtpma3nkz0vdnykBv/T2fqmbXtj5tXffr2adQ/MNrKY48/Zv39AwAAAABwh01fb1LPnj0C/ls1MipS8+e/rPLycuszA07zySef1P6sdejYwfo8AFrGGGKbmxDbHOyivNq+8Rl1jQqv/aHu1nuKMk5WN/D4ZsS2egLZoBteUV51c2LbAT1zU7zPaw0c/pJONOO1WsMto26xGttmzZpl/T0EAAAAAHC2vFN5mjR5UqP+nXrTzTdp9+7d1mcGnOqLtV8Q2wAHMYbY5ibENgc7f3ydbusZ8+dfn0Veo3e/PlHn8pGXNC+27dRjw31j2+DE13S6GavRajwH68S2/tf9o1mr5FpDeXm5fvjhB339zddXTb/+/Wr3nctIAgAAAADaitfr1b8//LdiO8UGjGyxsbFa9sGykLiVBhDKNmzYUPtz175De+vzAGgZY4htbkJsc6iamkOad1dvhf3/H+awsEj99ZlvVeYnnDXvMpJ1V6MNuH6ecpt1GcmdenxE64S7UHXDDSOIbQAAAACANrV3716NGj2qUavZJk6cqJMnT1qfGXCDLVu21P7sxbSPsT4PgJYxhtjmJsQ2B7qoCn3zxp2K8Vkh9rz2F/kPYM2JbR7Pcb0wtovPc/oOfF5HKpoe26qqsvXwUN+/qLv+1jd11mP/mF4txDYAAAAAQFupqKjQa6+9qqjoqICRrUePHtqwYYP1mQE3+emnn4htgIMYQ2xzE2KbA5n0herf8c/7tMV0GK7P0wsDPq85se2iLmjBfb43UO7e83HtK29GbKv4WRN6x/i81k13f+h3NZ7TENsAAAAAAG0hJSVFgwcPbtRqthkzZqiwMPDnCABaV3Jy8p+f58VEW58HQMsYQ2xzE2Kbw3g8uZp7R9faH+KwsEjd+/hnytm5UzsDytLMcb6r1BLvfKvOcw+agtr7vl1UpVY+e63CL3tOx5i/KP1c06/jXlrwuUZ2iLhs++Ga8OS3qiG2AQAAAADQLBcuXNCTTz3ZqMg2eMhgpaamWp8ZcKusrCxiG+AgxhDb3CQkY1tjThBtsnlsajyHNPOW+Dbdv8TxS1VSG9s8+vHN8Yq47OvRkcO1fmd5k2c/9fsbuib6zxV5YWGRmvH6ztqw5wbENgAAAABAa1m/fr269+ge8N/5UdFRWrDgNVVWVlqfGXCz7du3//n5WnS09XkAtIwxxDY3IbYR21oU26SL2rf+CbW/7Ovh4fF6+6tzTZ595xeP+NxnLjy8kxb/p+mvE8qIbQAAAACAljp58qQmTJjQqH/jj751tPbt22d9ZgAXtXv3bmIb4CDGENvchNhGbGtxbDt3ZJmG+qxIi9CUOb826fKP/7sc5XU+l6OMibxJ3x5211/VEdsAAAAAAM3l8Xi0dOlSxcbGBvy3fae4Tvro44/k9Tb9nusA2sbevXuJbYCDGENscxNim8Nim9d7Rp++/rQefezRZpimxL4xPvvSrf8Y/e2Kx728ZKsqLgtp1VXb9bfrO/k8b+hNC3WmpvFz19Ts0KPDfF+j39AXdbzKXSf9xDYAAAAAQHPs2rVLN950Y6M+t5j818nKO5VnfWYAvg4c3F/7cxoVHWV9HgAtYwyxzU2IbQ6LbS1xUUVaONH3Wu633b9alQFWqF1UldbOvfGK+7YN03+2N/6+bSZpnrpH+q6Oe7CJq+OcgNgGAAAAAGiK8vJyvfTSPEVGRQb8vKJnr576+puvrc9sQ2lpqQ4dOqjMrCylpqUpNS1NmVlZ2rt3ry4UFlqfD5Au6tChg8Q2wEGMIba5SUjGNrSN5sY26aJO5byuvpddSrJdWLjue3Kzzwq4hni9Z7T4wf4Ku2y7UZFD9Xl242OdUxDbAAAAAACN9cuvv2jgwAEBI1tYeJhmzpypouIi6zNfbRcuXNCOHTv0a1KSX79t26Y/8vOtzwt3M8YQ2wAHMYbY5ibENtRqSWyr8RzT3PG+z42KGqwVv5wLsE2vdm+Zpa5R4T7PHT7mHeU34TKUTkFsAwAAAAAEcu7cOT362KONuvrOtdddq4yMDOsz23D27FklJScHDG2XO3nypPW54V7Hjh0jtgEOYgyxzU2IbajVktgmXdTBH/+ubpG+0Syh193akH22ge15dShtiRJ7RPk8JzKyr5b+151/TUZsAwAAAAD4s27dOnXt1jVgZIuOjtaiRYtUVVVlfWYb6gttqalpysjIVFZWtrKyspWZ+b9LSiYlJRPcEBRyc3OJbYCDGENscxNiG2q1NLZ5vae1ZNoQhV9xgt8+dqAenbNMqTuOqqjco6ry89q/43u9PnuCesVG+F7aIixCdzz0mS547B8PG4htAAAAAID6HD9+XHffc3ejVrONGTtGBw4esD6zLWVlZT6hLTk5RZmZWbWR7UqZmVlKSUn1CW5nz/m/Ug/QFk6ePPnnH6NHRVqfB0DLGENscxNiG2q1NLZJF1V6NlnTEhMaPOEPj4hUZETD/yAYNGK2duVXWz8WthDbAAAAAACXq6mp0XvvvacOHTsEjGzx8XFauXKlvF6v9bltOnT4cKNDW0PBbceOHdb3A+5z6tQpYhvgIMYQ29yE2Kb/nbju2rVLn3zyiebPf1lzXpijOS/M0UsvzdNHH3+kbTnbXHHZhdaIbdJFFZ36SX8b1bPOCjf/wnXdTS9o20n3hjaJ2AYAAAAA+NP27duVmJjYqH9XT5kyRWfOnLE+s23V1dVKSf0zml1+2cjGBLfLV7eVlpZa3x+4y5kzZ4htgIMYQ2xzE9fGttLSUq1atUpjx45V+w7tG3Wt85tuvkn/+te/dP78eevzt4XWim3SRVWVHtbH8yepZ8fwwMe2Q189Me8/yit191/eScQ2AAAAAMBFFRcXa+7cuYqIjAj4b+refXrr22+/tT5zsMjLy/tzVVtKSqND2yWpqWm1zz90+LD1/YG7FBQUENsABzGG2OYmrott5eXlWrhwoTp36dyEVVe+OnTsoDkvzNGFCxes70+wKzy9XZ/+c56m3DdG1w7qq+7dOqtLtx7qN2iYxk+YpteW/Ef788qszxksiG0AAAAA4G5ffvmlevbqGfCzibDwMD0/+3kVFxdbnzmYXH4JybT09CbHtoyMTC4lCWvOnTtHbAMcxBhim5u4KradOHGi0ZdfaIwBAwZoz5491vcLzkFsAwAAAAB3OnBwv+64Y1yjPo8YNnyYsn/Ltj5zMNq3b19tLEtPz2hybLv8UpLbcnKs7w/cpbCwsPbnPCIywvo8AFrGGGKbm7gmtiUlJSmha0KrhbZLOsZ21MaNG63vH5yB2AYAAAAA7lJaWqp58+YpKjoq4GcQMe1j9OZbb6q62t33O/fnwMEDLYptGZl/rmz7/fffre8P3KWoqIjYBjiIMcQ2N3FFbMvJyVFM+5gGT1bDI8KVmJio52c/r8WLF2vp0qVatmyZ3nzrTb344osaNXqU35PesPAwbd261fp+IvQR2wAAAADAPTZs2KBevXs16o99x40bpyNHjlifOdgZY2pjWWpqWpOSXjd4AAAgAElEQVRjW1p6eu3zd+/ebX1/4C7ENsBZjCG2uYnjY1tRcZH69O1T74nqiBEjtHbtWhUVFwV8nbKyMm3esrnBSzp0SeiiP/74w/r+IrQR2wAAAADA+Q4dOqg777qzUZGta7euWr16tfWZQ0VRUVFtLPs1KUmZmVlNim3JySm1zz195oz1/YG7FBUT2wAnMYbY5iaOj23Pz36+zolqbGysPvj3B/J4PM16zY0bN6pnzx51XnfKlCnW9xehjdgGAAAAAM5VWlqql19+qVGXjAyPCNfMWTNVWFhofe5Qsy0npzaYpaWlNzq0pWdk/LkqLi2t2Z8bAc1FbAOcxRhim5s4OraVlZXVuXxkp7hO+m3bby1+7WPHjtV7qYe8vDzr+43QRWwDAAAAAGfatGlTg1feudLNt9ys7du3W585VJ05c8ZndVtj7t2WkZHp8xxz9Kj1/YD7FBcXE9sABzGG2OYmjo5t3377bZ0T1i1btrTa6//++++KiIzwef2Pl39sfb8RuohtAAAAAOAsR44c0d333N2oyJbQNUGrVq2S1+u1Pnco83g82rFjh088S01Lq/eSkpmZWUpLS/d5bFZ2tqqqqqzvB9yH2AY4izHENjdxdGx75plnfE5ahwwd0urbuOsvd/lsY8KECdb3G6GL2AYAAAAAzlBWVqZXX31F0dHRASNbWHiYnnnmGZ0/f9763E5RU1NTJ7j9mpSklJRUpaalKTUtTSmpqXW+npWdrcrKSuvzw52IbYCzGENscxNHx7YBAwb4nLy+8cYbrb6Nz7/43Gcb7Tu0V01NjfV9R2gitgEAAABA6Nu8ZbOu6XdNo1az3XjTjcrJybE+sxN5PB7t3LmzTlBrSPZvvxHaYFVJSQmxDXAQY4htbuLo2BbbKdbnBDYjI6PVt3Hq1Kk6J8pFRUXW9x2hidgGAAAAAKHr6NGjunfCvY2KbF0SumjFihVcMvIquHDhgvbs2dNgZNuxY4cKCgr4XsA6YhvgLMYQ29zE0bHtyvup7d69u9W3cfny7kvOnDljfd8RmohtAAAAABB6ysvLtWDBAsXENO6SkTNmzNC5c+esz+02FRUVOnPmjE7m5enEyZM6feaMSktLrc8FXFJaWkpsAxzEGGKbmzg6trXv0N7nhLYtLstw9uzZOifOnDCjuYhtAAAAABBa/vvf/6r/gP6NWs2WmJio7N+yrc8MIDgR2wBnMYbY5iaOjm1du3X1Oan98ssvW30bWVlZdU6eKyoqrO87QhOxDQAAAABCw/HjxzVx4sRGRbb4zvH66OOP5PF4rM8NIHgR2wBnMYbY5iaOjm1XXid94sSJrb6N555/zmcbw4YPs77fCF3ENgAAAAAIbhUVFVq0aJFi2sc0KrQ98eQTOnv2rPW5AQS/srIyYhvgIMYQ29zE0bHtw48+9DnBjYqOatX7qZWXl9dZPTd//svW9xuhi9gGAAAAAI1TXl6u47m5OnT4sPbv36/DR47oZF6eqqqq2mybP/zwgwYOHNCoyHbDDSOUlZVl/TgBCB3ENsBZjCG2uYmjY9uJEyfqnOyOGTumVS7z6PF4NHXqQ3VePzMz0/p+I3QR2wAAAACgYV6vV2fPndOuXbv0a1JSvZJTUrR//34Vl5S02nZzc3M1+a+TG3fJyPg4ffDvD7hkJIAmKy8vJ7YBDmIMsc1NHB3bpIu6ZdQtdU5877hjnP74449mv2ZRcZGmTp1a53X79e/HyTRahNgGAAAAAPXzer3av39/g5GtPnl5eS3aZmVlpRYvXqz2Hdo3KrQ9+tijys/Pt36sAIQmYhvgLMYQ29zE8bEtJydH4RHhdU6A4+LitHTp0iZdXqKmpkar16xW9x7d6z2p3vrzVuv7i9BGbAMAAACAurxer/bt21cnpqWkpio9PUPp6RlKS09XSkpqqwW3n376SYMGDWpUZBs+YrjS09OtHycAoY3YBjiLMcQ2N3F8bJMuavHixQ1f3qFzvKZNm6bly5dr7969Onv2rCoqKlRVVaXz58/r0KGD+uyzz/ToY4/WuT/b5WbPmW19PxH6iG0AAAAAUNeBgwd8AlpqapoyM7OUlZVdR2ZmlpJTUnwef7oJ928/efKk7n/g/v/H3n0+RlXmfRj/O0gHQpeAShUERRB7QdeCYgMUG4IFLMBiA1l1LbgiKrCKXVHBtrsqyPSZ0AIh9BNqAgmk95nh+7zwIcmYADOZhHMy53rxebNkJvd9MknMXPu7T1SRrUfPHnrvvfcUDAZNv0YAOr/a2lpiG5BADIPYZie2iG3SSU1/bHpU/6HcFhMnTlRDQ4Ppe0TnR2wDAAAAgEg1NTUR4czj8bYa2f4a3JpPufl8PoXD4TN+nvr6er3x5hvq1r1bVO8FTHtwmo7GEPEA4GyIbUBiMQxim53YJrZJJ7V06VKlpqW2a2h76aUXz/of7EC0iG0AAAAAEGnvvn0Rx0aeLbQ1D24Op7PxsUXFxaf9HOv+WKeLRlwU1fsAo0aPksvlMv26AEg8dXV1xDYggRgGsc1ObBXbpJNyuVwaNHhQ3JGt33n9tHr1atP3g8RCbAMAAACAJsFgUC538wk1f9SxLRDIlsfjbXzsli1bWjz/kSNHNHny5KjeB8jskal//etfnGwDoMMQ24DEYhjENjuxXWyTTqqhoUGfff6ZLh9/ecyR7eJRF2vp0qWqrq42fR9IPMQ2AAAAAGhSWlraGMucLldMoe3UdFvzIyhPnUxTXV2thQsXqmu3rlG9F3D//fersLDQ9OsBILHV19cT24AEYhjENjuxZWxrbs+e3fr000/11KynNP6K8erbr6+6Z3ZXt+7d1LtPb1122RjNmDlDK1as0NatW01fLxIbsQ0AAAAAmhQXF7fpCMnmmh8lWVdXpy++/EIDzx8YVWQbefFIORwO068DAHtoHtuSU5JNXw+A+BgGsc1ObB/bACshtgEAAABAk6J2jG0ffPhB1CfcZGZm6u3Fb3NkJIBzitgGJBbDILbZCbENsBBiGwAAAAA0KSkpifsYyVXffqsJEyZEffuIKVMm60jBEdP3DsB+GhoaiG1AAjEMYpudENsACyG2AQAAAECT+vr6iGMg/f5A9BNtDqceefRRpaenRxXZRowcoXV/rDN9zwDsi9gGJBbDILbZSaeMbbfedquefe5ZbdmyxfS1AO2J2AYAAAAAkXbu3NkY29xuT1TTbAsXLlS/8/pFFdl69+mtpe8v5chIAKYLBoPENiCBGAaxzU46ZWwbM6YpSIwaPUpvvvUmRzwgIRDbAAAAACBSRUVFY2xb73DI6/WdNrR99NHHGnnxxVFFttS0VD3z7DMqLS01fY8AIBHbgERjGMQ2O+n0se2UpOQk3XTTBH32+WeqrKw0fY1AWxDbAAAAAKClrVu3RgQ3j9cbEdl++uln3XzzzVHfl+2222/Trt07Td8XADRHbAMSi2EQ2+wkYWJbc90zu2vatGlau3atQqGQ6esFokVsAwAAAICWgsGgtmzZEhHcHE6n1q5dp0ceeUQZGdHdl23kxSP122+/mb4fAGhNKBQitgEJxDCIbXaSkLGtuQEDsjRv3jxt377d9HUDZ0NsAwAAAIDWNQ9uf6xfr+eff159+vaJ6r2BPn376P0P3lcwGDR9HwBwOsQ2ILEYBrHNTjplbBs7dmzUsa25MWPG6J133tHRo0dN3wPQGmIbAAAAAJxeMBjUmh9+0IiRI6O+L9uzzz3LfdkAdArhcJjYBiQQwyC22UmnjG0VFRX6+uuvddfddymja0bM0S0lNUW33narvv76a9XU1Ji+H+AUYhsAAAAAtO7QoUOaOnVK1H/7T5w4UXv27DZ93QAQLWIbkFgMg9hmJ50ytjVXUVGhb775Rnffc3ebwltmj0w98ugjcjgcCofDpu8H9kZsAwAAAIBIlZWVevnll6L+m//iURdr7dq1pq8bAGJFbAMSi2EQ2+yk08e25iorK7Vq1ao2h7cLLrxAL774gnbt3mn6XmBPxDYAAAAAHa28vFz5+fnavWe3du7cqb379qmgsNBy9zMLh8P67PPPNGBAVtT3Zfvgww8stw8AiAWxDUgchkFss5OEim3NnQpv99x7j7p26xpzeBt3+TgtXbpUx48fN30vsA9iGwAAAICOEAqFVHj0qDZu2qT1Dker3G639u3bZ4nbLfh8Po27fFzU92V7bs5zKisrM33dABAvYhuQOAyD2GYnCRvbmqusrNS3336re++7N+bwlpqWqjvuuEPff/+9amtrTd8LEhuxDQCA+IVCIfl8PtPXAQBWEQwGtXnz5tNGtr9yOJ06UVJiyloPHjyoKVMmR/03+x133MF92QAkFGIbkDgMg9hmJ7aIbc1VVVXpu+++03333adu3bvFFN569eqpmTNnyuPxmL4PJCZiGwAA8evbr6+6JHXRdddfZ/paAMBsDQ0NrYY2t9sjr9cnr9cnj9crp8vVMridOHHO1llZWamXXnox6ltCjBo9SmvXrTX9+gJAeyO2AYnDMIhtdmK72NZcVVWVvv/+e02ePDnm8DZk6BAtXLhAhmGYvg8kDmIbAADxKSkpafxdmp6ebvp6AMBM4XC4RWjzeLzy+wMKBLJb8Pn8cjidEcGto49mDIfD+vTTT5WVFd192fr266tly5dxXzYACYvYBiQOwyC22YmtY1tz1dXVbQ5vV119lZYtX6bS0lLT94HOjdgGAEB8iouLG3+XpqWnmb4eADBTcXFxRGjzen2tRrbm/P6AnM6mKbetW7d22Pq8Xq/GjYvuvmxp6WmaM2cO92UDkPCIbUDiMAxim50Q21pRXV2t1atXa8qUyeqe2T3q6Jaenq7ffvvN9PWj8yK2AQAQH2IbADTJycmJmGg7W2hrHtyaR7qqqqp2XdfBgwc1eXL092W78847tXfvXtOvJwCcC8Q2IHEYBrHNTohtZ1FTU6M1a9Zo6tQpUYW3r776yvQ1o/MitgEAEB9iGwD8qaqqKiKYne7oyNNxuz2Nj92zZ3e7rKmyslIvvviCMjLSo4psoy8ZrXV/rDP9WgLAuURsAxKHYRDb7ITYFoOamhqt+WGNpk6dqszMTGIb2h2xDQCA+BDbgPYXDAZVXFysgsJCHTlyREePHVNFZaXp68KZHTlypDGWudzumELbqfu3nXp8IDs7rrWEw2F98sknMd2XbfmK5QqFQqZfRwA414htQOIwDGKbnRDbYrRx00bNmzdPA88fSGxDuyO2AQAQH2Ib0H6qqqq0Z89uudzuiAmpUzZv3qxjx44RRCxq/4EDbTpCsrnGx3u9bV7H77//rjFjxkQV2dLS0zR37lyVl5ebfv0AwCzENiBxGAaxzU6IbVHYvHmz5s+fryFDh3CMJDoUsQ0AgPgQ24D4hcNh7dmzu9XA1hqf36/q6mrT141I+/fvb7fY5vZ4Yv78mzZt0oQJN0Z9X7ZJkyZp3759pl83ADAbsQ1IHIZBbLMTYttp5OTk6IUXntewYUOj/uOgS1IXffvtt6avHZ0XsQ0AgPgQ24D4hMNh7dq9q0VQc7pccns8cns8rU66eX0+gpvFHD58uCmWuT0xhza/P9B0v7dAIOrPm5+fr6lTp0T9N/Qll16iP9b/Yfr1AgCrILYBicMwiG12QmxrZuvWrXrxxRc0fPiwmAJb3359NWv2LG3YuMH0PaBzI7YBABAfYhsQn7+GNpfbLZ/P32qI8Xi9ER/r8XoJbhZSXl4e8fXx+wMxxTa3x9P42B07dpz18xUXF2v207OVlp4W1d/R/c7rpxUrVnAMKQD8BbENSByGQWyzE9vHttzcXL388ku66KKLYgps6enpuve+e/XTzz+poaHB9H0gMRDbAACIz/Hjx4ltQBv9Nc64PWefhvL5/HI4nI2PycvLM30faLJx06aIGNqWqbb1DscZ76FWWVmpRYsWKbNHZtR/S8+bN4/7sgHAaRDbgMRhGMQ2O7FlbMvLy9PChQs0YuSImAJbl6Quuvqaq7VixQqVlpaavg8kHmIbAADxIbYBbbdjx46IibZow4zP5298nMPpVF1dnel7wZ+OHj0aeX+9VqYUWwttTper8TEbN21q9bkbGhr04bIP1T+rf9R/T0+dOlX5+fmmXxcAsDJiG5A4DIPYZie2iW07d+7QK6+8opEXj4w5sA0dOlSvvPIKfxSgwxHbAACID7ENaJu6ujo5nM42HznY/D5u+fv3m74f/CkUCskfiJxS8/p8UYe29Q6HiouLWzzv999/r+HDh0f9N/VNN03Q5s2bTb8eANAZENuAxGEYxDY7SejYtmv3Li1atEijRo+KObD16t1LTzzxhHw+n+n7gH0Q2wAAiA+xDWibwsLCpqk2V/RTba1Nt2Vv4F7WVlJbW9siuDmdLnm8Xvl8fvn8fnl9vohgekpBQUHEc7lcLo2/YnzUf1dfdtkY/f7776ZfAwDoTIhtQOIwDGKbnSRcbNuzZ7deffVVjb5kdMyBLS09TZMmTdKaNWs4+gSmILYBABCfEydOENuANjh48GDTvb080d/bq7nm9wYzez+I1FpwO5vmoS03N1e33X5b1H9bDxo8SF999ZXC4bDpeweAzobYBiQOwyC22UlCxLZ9+/bp9ddf16VjLo05sHVJ6qLxV4zX+x+8rxMnTpi+F9gbsQ0AgPgQ24C22X/gQLvFNpfbbfp+0FJ9fb3y8/Pl8XrPGNlyc3NV8v/3KD906JAeevghJSUnRfW3dZ++fbRkyRL+z6sAEIdTP1OTkpNMXwuA+BgGsc1OOm1sMwxDr//z9Yg4EYtBgwfp5Zdf0p49u03fC3AKsQ0AgPgQ24C2OXz4cGNscXs8MYc2v79pasrn95u+H5xeKBTSsWPHlJeXp5ycHG3evFnbtm2TYRiqqamRdFIlJSWaN2+eMjLSo/r7ulv3bnrppRdVXl5u+v4AoLMjtgGJwzCIbXbSKWPbvffd26bA1qNnD01/bLpcLhfHWcCSiG0AAMSH2Aa0zYmSksZY5nA6Y45tHk/TtNTWrVtN3w/apqamRm++9aZ69eoZ1d/YKakpmjlzpgoLC01fOwAkCmIbkDgMg9hmJ50yto0ZE/00W0pqim67/TatWrWq8f+lB1gVsQ0AgPiUlJQQ24A2CIfDEff08np9McU2h9PZ+Nji4mLT94PYhEIhrVy5UgPPHxj139p33X2Xdu3eafraASDRENuAxGEYxDY7SdjYNnbsZXr33Xd17Ngx09cLRIvYBgBAfIhtQNsdanaUpMPplN8fiCq0uT2eiCMkOUWkc/nll1908aiLo45s11x7jfwcFQoAHYbYBiQOwyC22UlCxbaB5w/U/PnzlZeXZ/oagbYgtgEAEB9iG9B2DQ0NcrndMQW35qFtvcOhQ4cPm74PRCcQCOi666+LOrKNvHikfv75Z9PXDQCJjtgGJA7DILbZSaePbd0zu+vBhx7Uuj/WKRQKmb42IB7ENgAA4kNsA+JTXl4eEdzWOxxyud3y+fyNgc3vD8jj8UYcHbne4dDuPbuZausEdu3epbvvuTvqyDbw/IFauXIlf28DwDlCbAMSh2EQ2+ykU8a2cePG6ea/3awvvvxCVVVVpq8HaC/ENgAA4kNsA+LXWnA7G0Kb9RUWFurxxx9XSmpKVJGtZ8+eeuPNN7j3OQCcY8Q2IHEYBrHNTjplbCuvKDd9DUBHILYBABCfklJiG9AeKioqtG3btrNGNq/Pp4OHDhHaLKy8olwvvfSiunXvFlVky8hI19y5c1VSUmL62gHAjohtQOIwDGKbnXTK2AYkKmIbAADxIbYB7au6ulr79u2TPxCQy+2Ww+mUx+tVTk6OioqLiWwWVl9fryVLlqhvv75RRbak5CQ9+NCDOnjwoOlrBwA7I7YBicMwiG12QmwDLITYBgBAfIhtAOwuHA7rq6++0uAhg6O+L9utt92qbdu2mb52AACxDUgkhkFssxNiG2AhxDYAAOJDbANgZ2vXrdXYsZdFHdnGXT5ODofD9HUDAJoQ24DEYRjENjshtgEWQmwDACA+paWlxDYAtpO9IVs33XxT1JFt+PBh+u6770xfNwCgJWIbkDgMg9hmJ8Q2wEKIbQAAxIfYBsBOcnJydMcdd0Qd2fpn9dcHH36ghoYG09cOAGgdsQ1IHIZBbLMTYhtgIcQ2AADiQ2wDYAd5eXm65957oo5smZmZeuWVV1RZWWn62gEAZ0ZsAxKHYRDb7ITYBlgIsQ0AgPgQ2wAksj17dmvq1KlKSk6KKrKlpqXqqVlP6dixYx22plAopMKjR5WTkyN/ICCP1yt/IKCcnBwVHj2qUChk+nUDgM6E2AYkDsMgttkJsQ2wEGIbAADxKSsrI7YBSDj5+fl66OGHlJySHPU02+TJk7Vv374OW1MwGJRhGHJ7PFrvcJyW2+ORkZ+vYDBo+nUEgM6A2AYkDsMgttkJsQ2wEGIbAADxIbYBSCSHDh3SjJkzlJqWGnVku+mmCdqwcUOHrquhoUGbN28+Y2T7qy1bthDcACAKxDYgcRgGsc1OiG2AhRDbAACID7ENQCIoLCzUrNmzlJ6eHnVku+766+RyuTp8ba2FNqfLJa/XJ78/oEAgW35/QF6vT06ni+AGADEitgGJwzCIbXZCbAMshNgGAEB8iG0AOrOioiLNmTNHGV0zoo5sV1x5hdauW3vO1pibmxsR0LxenwKB7NPyen0RH799+3bTrzMAWBmxDUgchkFssxNiG2AhxDYAAOJDbAPQGZ04cULPPz9f3TO7Rx3Zxo4dq//+97/ndJ3V1dUxhbbTBbeamhrTrzkAWBWxDUgchkFssxNiG2AhxDYAAOJTXl5ObAPQaZSVlWnhwgXK7JEZdWQbfclo/fDjD6asd8/evY3BzOV2RxXaTnG53Y2P3btvn+nXHgCsitgGJA7DILbZCbENsBBiGwAA8Wke21LTUk1fDwC0pqKiQq+99pp69eoZdWS7aMRF+vbbbxUOh01ZczAYjAhmPp8/ptjm8/kjQl0oFDL96wAAVkRsAxKHYRDb7ITYBlgIsQ0AgPgQ2wBYWXV1td56+y317dc36sg2bNhQffHlF6bHqaqqqsZY5nS6YgptpziczsbnqK6uNv3rAQBWRGwDEodhENvshNgGWAixDQCA+BDbAFhRbW2tlixZov5Z/aOObBcOulArV65UQ0OD6euXTqqsvLxpMs0V2xGSpzhdrsbnKC8vN31PAGBFxDYgcRgGsc1OiG2AhRDbAACIT0VFBbENgGXU19dr2fJlGjBwQNSRbcDAAVq2fJnq6+tNX39zFRUVTZNtrrZNtjWPbZWVlabvCQCsiNgGJA7DILbZCbENsBBiGwAA8SG2AbCCYDColStXatDgQVFHtv5Z/bVkyRLV1taavv7W1NTWNoYyh8Mpvz8QU2jz+wONj1/vcFh2nwBgNmIbkDgMg9hmJ8Q2wEKIbQAAxIfYBsBMoVBIX3z5hYYNGxp1ZOvTt4/eevutTnEPsw0bNjTGMq/XF1Ns83p9jY/duGmT6XsBAKsitgGJwzCIbXZCbAMshNgGAEB8iG0AzBAOh/Xtt99qxMgRUUe2Xr166rXXXlNFRYXp649WQWFh03SbM/rpNr8/IIfT2fjYwqNHTd8LAFgVsQ1IHIZBbLMTYhtgIcQ2AADiU1lZSWwDcE798OMPuuTSS6KObJk9MrVw4QKVlZWZvvZYBYNBuT2exmjmcrnPGtz8/kDEvdrcHo9CoZDpewEAqyK2AYnDMIhtdkJsAyyE2AYAQHyYbANwrvz3v//V2LFjo45s3bp30/PPz9eJEydMX3s8mk+3rXc45HS55PP5Ww1tPp8/IrQx1QYAZ0dsAxKHYRDb7ITYBlgIsQ0AgPiUl5c3/i5NS08zfT0AEs/adWt15VVXRh3ZMrpmaM6cOSoqKjJ97e3lyJEjEQFtvcMhp9Mlt8cjj8crt8cjp9PV4mMKCgtNXzsAWB2xDUgchkFssxNiG2AhxDYAAOJTVlZGbAPQIdxut66//vqoI1t6erpmzZ6lgoIC09feEQoKClrEtDMhtAFAdIhtQOIwDGKbnRDbAAshtgEAEJ/S0lJiG4B2te6PdbrhhhuijmypaamaOXOmDh06ZPraO1pNTY0Mw4i4j1tzbo9HhmGoprbW9LUCQGdBbAMSh2EQ2+yE2AZYCLENAID4lJSWENsAtIv//Oc/MR0XmZySrIcfeVj5+fmmr/1cC4VCKiou1qHDh7X/wAEdOnxYRUVFCoVCpq8NADobYhuQOAyD2GYnxDbAQohtAADEp6SE2Aag7cLhsFavXh3x3+Vnk5ScpPvvv1979uw2ff0AgM6P2AYkDsMgttkJsQ2wEGIbAADxOXHiBLENQMyCwaC+/OpLjbx4ZNSRrUtSF91z7z3Ky8szff0AgMRBbAMSh2EQ2+yE2AZYCLENAID4HD9+nNgGIGr19fX6+OOPNWzY0Jgi2x133KGcnBzT1w8ASDzENiBxGAaxzU6IbYCFENsAAIhPcXFx4+/S9PR009cDwJpqa2v1/gfv64ILL4gpsk2aNEkbN200ff0AgMRFbAMSh2EQ2+yE2AZYCLENAID4FBUVEdsAnFZlZaXeXvy2srKyYron25Qpk5Wbm2v6+gEAiY/YBiQOwyC22QmxDbAQYhsAAPE5duwYsQ1AC+Xl5Xr11VfVp2+fqCNbSmqKHnr4Ie3avcv09QMA7IPYBiQOwyC22QmxDbAQYhsAAPE5euwosQ1Ao+PHj+ull15Uz549o45s6enpevzxx7V//37T1w8AsB9iG5A4DIPYZifENsBCiG0AAMTn6FFiG4A/fxbMnTtX3TO7Rx3ZunbrqmeefUZHCo6Yvn4AgH0R24DEYRjENjshtgEWQmwDACA+hYWFxDbAxg4fPqynZj2ljK4ZUUe2zMxMzZ8/X0VFRaavHwAAYhuQOAyD2GYnxDbAQohtAADEp6CgoPF3aUZGuunrAXBuGIah6Y9NV1p6WtSRrf940+oAACAASURBVFfvXlq4cKFKSkpMXz8AAKcQ24DEYRjENjshtgEWQmwDACA+R44cIbYBNrJz5w498MADSk5Jjjqy9Tuvn/75xj9VXlFu+vrxp3C4UF8u/rueefaZ//ecvvztkMInY3uekwprl+NDzXnumcbnmjtnibYXN5i+RwCIFrENSByGQWyzE2IbYCHENgAA4nP48GFiG2ADOTk5uufee5SUnBR1ZBswIEvvvvuuqqurTV8/IoV1XAsn9m/29UrW7Y/9pGCMsa2u0q/7L85s9jxJuv6ej1UaMn+PABAtYhuQOAyD2GYnxDbAQohtAADE59ChQ8Q2IIEFAgHdPvH2qANbl6QuGjR4kJYtX6a6ujrT14/WnVS9vpw7TinNvm6X3vBOTJHspEL6/Z3blNHsObp1v0o/5tWavj8AiAWxDUgchkFssxNiG2AhxDYAAOJz8OBBYhuQgBwOhyZMuDGmyDZ8+HB9+umnamjgCMHOYNPHk5Xa7Os3cPAT2lMbjvrxFUdX64YB6U1vUielavKza1UX43QcAJiN2AYkDsMgttkJsQ2wEGIbAADxOXDgALENSCC//vqrrrn2mpgi2+hLRuubb75RKBQyff2I3kHPSxqQ1nTvve4ZN8tdHN3X8KSq9PmcyMm4fln3yV9IaAXQ+RDbgMRhGMQ2OyG2ARZCbAMAID779+8ntgGdXDgc1g8//qBx48bFFNnGjRunH3/6UeFw9NNQsI6q4i90efeUxq9naupwfeariuqxRTuXalRm02OTkzL1zL9yFWaqDUAnRGwDEodhENvshNgGWAixDQCA+OTn5zfFtq4Zpq8HQPRCoZC++eYbjb5kdEyR7Zprr9Gvv/5q+voRn/r6gKZc1L1ZMOuuRV8Un/Vx4fBRvTFlqJKavSaGjJqjfdVEVwCdE7ENSByGQWyzE2IbYCHENgAA4rNv376Ei23V1dWmrwHoSPX19fr00081fPjwmCLbhAk3yul0mr5+tI+wirXg9v4R91x75OUNCp1lOs1wvqCB6U3HT6akDNDbqwuYagPQaRHbgMRhGMQ2OyG2ARZCbAMAID579+1NmNgWCAQ0/orx6pLURa+88orp6wHaW3l5ud56+y0NGDggpsg2ceJEBQIB09eP9nVS9fpizthm911L0o1TvlbdGaJZMLhTs689r9nrI0mX3/yuioPm7wcA2orYBiQOwyC22QmxDbAQYhsAAPHZu7fzx7YjBUf0wAMPRN6L6vJxpq8LaC9HjhzRvHnzlNkjM+rAlpScpHvvu1c5OTmmrx8d46TC2vjRfUpt9nUfOX6Rjp4mnJ1UWBu+eFA9kpMaPz494xJ9lV1p+l4AIB7ENiBxGAaxzU6IbYCFENsAAIjPnj27O21sq6mp0auvvqpu3btFRIb+Wf3l8XhMXx8Qr9zcXD340INKTUuNOrIlpyRr2rRp2rlzh+nrR8c76HpB/dOajoTs1/9B5Z7m3mu1FS7dO6J7s9dLsm6fvkY1HB8JoJMjtgGJwzCIbXZCbAMshNgGAEDb1dXV6fvvv2+acEhP17Zt2xQMBk1f29l8//33GjR4UERkSE9P19///neVV5Sbvj4gHusd63XrbbfGdFRkWnqaHpvxmAzDMH39OHcqjn2msd1Tmv5PE6nX6LcD9S0+7qSC+u8bNyut2WumZ+9b9cf+lh8bi7qqUp04flylFbXc8w2AaYhtQOIwDGKbnRDbAAshtgEAEJuGhgatWrVKN9xwg9LS01p9075rt66aNGmS1q5da/p6/2rr1q264YYbWqz5zjvv1L59+0xfH9BWwWBQq1at0tixY2OKbBldMzRr9iwdPnzY9D3g3Kuv92nyRU3Taikp52vZ2ooWH1desErX9k9vmoBM6qrHXslWMI5AFg4XadGkgeqS1EWjr/6njofMvx4A7InYBiQOwyC22QmxDbAQYhsAANFb98e6FtNgZzNu3Djl5eWZvvbi4mI9/vjjSk5JjljfyItHWjIKAtGqqqrS0veXavCQwTF9b/bp20cLFy5QUVGR6XuAecLhIr10a/+mN5qT0jV/WWR4PalKrZx1mVKavX4GDpmhvPLWj5uMVlnB57qiVyqxDYDpiG1A4jAMYpudENsACyG2AQBwduFwWM/NeS6mN/L/ejzj8hXLTVl7Q0OD3n33XfXq1TNiTb1699LSpUs7xZGXQGuKioq0YMHL6t2nd0zfj0OGDtH7H7yv6upq0/cA851UnT579jIlN8a2FE2Z64yYWDua+44u6t70f1RITu6jBZ/mx3XsYzhcpPdnXNIY8IhtAMxEbAMSh2EQ2+yE2AZYCLENAIAzC4fDemzGY20Obc0tXbr0nK79119/1UUjLopYQ0pqip6a9ZROnDhh+rUF2mLfvn164oknlNE1I+Yp02+//ZbAjAgnFdaGf9+j1GavlasnrVTt/4e0cPiI/nHXhUpq9u+jrvyHjjS09fMFdTDvF827/zJlNHtOYhsAMxHbgMRhGMQ2OyG2ARZCbAMA4MxeeeWVdgltp/zw4w8dvuY9e3brtttva/G5J0y4Udu3bzf9mgJtkZ2drbvvuVtJyUkxfc/ddvttcjgcpq8f1nXANV/npTZNrg2/7KXGmLb79znqn9b0b2mpQ7Xij9KYnv+kqvXFwkm6ctwoDezXPeI4SmIbACsgtgGJwzCIbXZCbAMshNgGAMDpbdq0Salpqe0a287rf56OHz/eIestLy/XnDlzWqx5yNAh5yTyAe0tHA7r559/1rXXXRvT91laepoeevgh4jKiUn70U13WLaXx9dP3vAe0rTqshvrtevyKPs1eW8m6cfJnKo8xip1UuRbd2f+Mr1liGwAzEduAxGEYxDY7IbYBFkJsAwDg9GJ9gz9as5+e3a7rDIVC+ve//61+5/WL+DyZmZn65xv/VF1dnenXEohFXV2dPv74Y40YOSKm760ePXto3rx5OlJwxPQ9oPOor/Pq3mHdG19HXVOv1/rCevlW3q/uyU2vr+7dr9EvO2tjfv6TqtF3i6dr6tQpESZeO5h7tgGwBGIbkDgMg9hmJ8Q2wEKIbQAAtG7Lli0dEtq6JHVRZo9MVVRUtMs6XS6XxowZ0+JzPPzIwyosLDT9OgKxKCsr0+v/fF1ZWVkxfU8NGJClt95+S+Xl5abvAZ1POHxML/ztvKbJyNQRWr7+J00a1q3pDeikVE2du151J9vv8+74+kGlEdsAWACxDUgchkFssxNiG2AhxDYAAFo3++nZHRbbuiR10SeffBLX+g4ePKj77ruvxfNeedWV2rBxg+nXD4jFoUOH9Nyc55SZmRnT99Go0aP02Wefqb6+3rS1NzQ06PDhw9qxY4e2bdum3Nxc7dy5U8eOHVMoFDL92uLsTqpOnz49Rsn//7pKTu6h8deMVmqz11q/rCnKPtrQrp+X2AbAKohtQOIwDGKbnRDbAAshtgEA0Lpxl4/r0Ng2Y+aMNq2rqqpKCxa8rIyuGZGTPQMH6MuvvjT9ugGx2Lp1qx544IGY7414ww036H//+5+pa6+qqtKu3bvkdLm03uFolcfr1f79+02NgTi7kwore/ndEXGtueTkHnruvR0Kt+NUm0RsA2AdxDYgcRgGsc1OiG2AhRDbAABoqaGhQRkZ6R0a2y67bEzM63rr7bfUo2ePiOdJS0/TnZPu1Ecff6TPv/gc6BTmz/+7Ro0eFdP3TFJyksZfMV6L/rHI9PV/uGyZXnzxRb3wwgtRWbBggT5e+bHp67YKp9OpcDhs+s/65g445qtfanKrr71hl/xdRk37r5fYBsAqiG1A4jAMYpudENsACyG2AQDQ0okTJzo0tHVJ6qKB5w+MaU2vvfZah68JAM6V5SuWm/6zvrnywpUa0y2lxTpTUgbqnR+PdsjnJLYBsIpTP/OIbUDnZxjENjshtgEWQmwDAKClcxHbBgzIimlNs2bNMv3NcQBoL2+8+YbpP+ubq69z654h3f6yziRdcetSHQ92zOcktgGwilM/94htQOdnGMQ2OyG2ARZCbAMAoKW6ujolp7R+nFh7uXjUxTGtqb6+Xnffc3eL5+me2V133HmHXnjheb344guAZTzz7DO66uqrYj6StVevnrrl1lv097//3fQ9/NWMGTP0wAMP/GnaND308MN6+Cweeuihpsc88IBmz55t+j7MtnLlStXU1Jj+s765cPionv9bv4jXYkbXMfpmY1WHfU5iGwCrILYBicMwiG12QmwDLITYBgBA60ZfMrpDY9u0B6e1aV2HDh3S5MmTWzzfFVdeoewN2aZfN2D79u2aMXNGzJFt/BXjtXr1aoVCIdP30Jqa2lqtdzga+f0BBQLZUfF6fU2PCwQsd78ynFRthVv3juje9IZzUorueOwn1ZzsuM9JbANgFcQ2IHEYBrHNTohtgIUQ2wAAaN30x6Z3aGxb+v7SuNbndrsjfo+f8uBDD6qwsND06wd7CYVC+unnnzRhwo0xfy9MnDhRbrfb9D2cjWEYjcHM5XZHHdoCgWz5/QE5nM7Gx584ccL0/aDJSQX169u3KL3Z67J3n9vlPNTQoZ+X2AbAKohtQOIwDGKbnRDbAAshtgEA0Lo/1v/RYaEtLT1Nx44di3uNoVBIH330kc7rf17E82dmZur1f76u2tpa068jElt5ebneffddDRk6JKbvgfT0dD06/VHt2LHD9D1Ea/PmzY2xzOfzxxTbAoFsuT2exsfn5+ebvh80KTu8StdmNU1iJid108xXNyrUgVNtErENgHUQ24DEYRjENjshtgEWQmwDAOD0Lh51cYfEtmnT2naE5OmUl5dr7ty5SktPi/g8g4cM1po1a0y/jkg8e/bs1qzZs5SZmRnTa79nz556/vn5nXL6Mjs7u01HSLZ2lOSePbtN3w/+FA4X6s37L1Jys9fpBcOe1I7yjj/qk9gGwCqIbUDiMAxim50Q2wALIbYBAHB6//nPf9o9tHXr3k379u3rkPXu2bNbt0+8vcXnvPHGG5Wbm2v69UTn99tvv+m222+L+XV//gXn65133lFFRYXpe2ir7A0biG0J5qTq9MeKqeqVktT4Wk1J6a83vj2scAdPtUnENgDWQWwDEodhENvshNgGWAixDQCAM2vve7e9/8H7Hb7mX3/9VReNuCji8yanJOvJJ5/U8ePHTb+m6Fyqqqr04bIPW7ymonHpmEv1xZdfqKGhY+99dS5s2bKl/Y6R3L/f9P3YTX3lfmX7tqmg5M/jdWsr8vXl21PUPyO52Ws2SdfcuVzHg+dmTcQ2AFZBbAMSh2EQ2+yE2AZYCLENAIAzq66u1o033tguoe3JJ588Z+tuaGjQkiVL1KtXz4g19OrVU0uWLEmI+IGOdeDAAc2dO7fFa+hsklOSdfc9d8vlcpm+h/aUn5/fGMtcbndMoc3vD8jhdDY+vqSkxPT92M3RrW9qSHqykpNT1aNXT6WntHzt9uk/Uc799edsTcQ2AFZBbAMSh2EQ2+yE2AZYCLENAICzq66u1i233hJXaHv6madNWfvx48f1xBNPKDklOWI9I0aO0O+//276tYX1OBwOTbprUovXzNn06tVT8+bN04EDB0zfQ0eora1tjGWxHiXZ/AjJ7Oxs0/diRwfdLyor7fSv6fSM4XrvlyPn5PjIU4htAKyC2AYkDsMgttkJsQ2wEGIbAADRCYfDeu+999S1W9eYAkT/rP768acfTV//tm3bdMMNN7RY38SJE7V3717T1wdz1dbWauXKlbp0zKUxh+QRI0do2fJlqqqqMn0fHW379u2N0czhdEYV3Hw+f0SkO3LkiOn7sKO9/3laPZOTWn0Np3cbptc+36HgOQxtErENgHUQ24DEYRjENjshtgEWQmwDACA2RwqOaMGCl9U/q/8ZA8TQoUP17rvvqry83PQ1N7d69WoNGjwoYq1p6WmaN2+eyiustVZ0vCMFR/Tiiy+ob7++MUe22yferrVr15q+h3OpoqJCTpcrIrid6f5tzSfa1jsc8gcCCgaDpu/Djvb+9JR6pkbGtuSU7hp3wwz9lH3snE60AYDVENuAxGEYxDY7IbYBFkJsAwCgbYLBoLZt26b09PTG36W9+/TWl199qT17discDpu+xtOpra3V66+/ru6Z3SPeeD6v/3n66KOPFAqFTF8jOpbf79eUKZOVmpYaU2DLzMzU0888betpyJLS0ojgtt7hkNPlksfrlc/nl9fnk8fjjbhH26nQVltba/r67azs2C45f/9Z33+7Ruu921RYytcDACRiG5BIDIPYZifENsBCiG0AALTd8ePHI0LERSMuMn1NsSgoKNC0B6e1CCpjx16mXbt3mr4+tK/6+np98eUXGnf5uJin2IYOHaolS5Yw/fj/SlsJbmdCaAMAWBmxDUgchkFssxNiG2AhxDYAANpuw8YNnTq2nZKdna3Lx18esZdrr7vW9HWhfRw7dkyLFi1SVlZWzJHtppsm6JdffrH0pKZZqqurtXfvXrnc7tNGNp/fr4MHD6qhocH09QIAcDrENiBxGAaxzU6IbYCFENsAAGi7zz77LCFim3RS4XBYn33+WWOQeWzGY6avCfHZvHmzHnzowYijTqPRtVtXPf7448rLyzN9D51BMBhUQUGBdu3epe3btysvL0979uxWcXExkRIA0CkQ24DEYRjENjshtgEWQmwDAKDtHnzowYSJbafU1NQoLy+PSNBJBYNBfffdd7rm2mtinmK74MIL9OZbb6qkpMT0faD91dfX6+ChQ9q8ebMC2dny+f3asHGjduzYobKyMtPXBwAwD7ENSByGQWyzE2IbYCHENgAA2u78C85PuNiGzqmkpERvvPlGi9dkNK697lqtXr1awWDQ9H2g/dXU1Gjnzp1nvcfcho0bdfToUdPXCwA494htQOIwDGKbnRDbAAshtgEA0DZ79+5tES2IbTjXtm/frhkzZ6hrt64xBbb09HQ9/MjD2rJli+l7QMepqqqSx+s9Y2T7q/z9+01fNwDg3CK2AYnDMIhtdkJsAyyE2AYAQNusWLGC2AZThEIh/fTzT5ow4caYp9iysrL0j3/8Q0VFRabvAx2rtdDmcrnl9frk9wfk9wfk8/vl9njkcDgJbgBgY8Q2IHEYBrHNTohtgIUQ2wAAaJsbbriB2IZz6sSJE3rnnXc0ZOiQmCPb5eMv11dffaX6+nrT94GOFwwGI0Kbw+GUz+dXIJDdKr8/IJfbHRHcCgsLTd8HAODcILYBicMwiG12QmwDLITYBgBA7LZu3dr4+7NX717ENnQov9+vaQ9OU0ZGekyBLTUtVVOnTlUgEDB9Dzi3jhQURIY2/+lDW3PNg1sgO9v0fQAAzg1iG5A4DIPYZifENsBCiG0AAMTu4Ucebvz9OXfeXGIb2l1FRYWWLV+mS8dcGvMUW99+ffXSSy/qSMER0/cBc2RnZzdGM6/XF1VoOzXh5nA2HSlZUlJi+l4AAB2P2AYkDsMgttkJsQ2wEGIbAACxOXr0qNLT0xsnh/bu20tsQ7vZtm2bnnjiCWVmZsYc2S4dc6k++eQT1dbWmr4PmKe0tLRpqs3plN8fiDq2BQLZ8niajp/Mzc01fT8AgI5HbAMSh2EQ2+yE2AZYCLENAIDYPPHEE42/O++//35VVVUR2xCX2tpaffb5Z7ryqitjDmzJKcm6+5675XK5TN8HrOHw4cONsczt9sQU2k5Nt516vN/vN30/AICOR2wDEodhENvshNgGWAixDQCA6P32228RkWPLli3ENrTZ3r17NWfOHPXu0zvmyNardy/NmzdPBw4cMH0fsJb9Bw40xjKPxxtzbAsEmo6gdDqd2rtvn4z8fB0+ckR1dXWm7w8A0P6IbUDiMAxim50Q2wALIbYBABCd0tJSDRiQ1fh7c/78+ZJOEtsQk4aGBq1evVoTJtwYc2DrktRFV1x5hT77/DPV1NSYvhdY04GDB9sc23w+v1xud+Pj/8rhdCovL09lZWWm7xMA0H6IbUDiMAxim50Q2wALIbYBABCdqVOnNP7OHH3J6MYJD2IbonH48GEtWPCysrKyYg5smZmZevzxx7V161bT9wHrKygoaIxjLrc7+nu1eb2njWyt2bNnt+l7BQC0D2IbkDgMg9hmJ8Q2wEKIbQAAnN3sp2c3/r5MS0+LiB7ENpxOOBzW//73P915551KTkmOObJdcukl+nDZhyqvKDd9L+g8amtrI6KY3x9oU2hzulzyeLzyen3yeL1yuVpOvBHcACAxENuAxGEYxDY7IbYBFkJsAwDgzJqHti5JXbR48eKIfye24a+Kior0zzf+qcFDBscc2DIy0jXtwWny+Xym7wOd1/bt2xuDmNvtiSm0OV0u+Xz+Vj/W7w+0OGZy7759pu8XABAfYhuQOAyD2GYnxDbAQohtAACc3l9D28KFC1p8DLENp7hcLk2dOkVp6WkxR7bhw4dp8eLFOnHihOn7QOdXWloaEcROd+82vz8gh9MZEdqimYRzezwRz19bW2v6ngEAbUdsAxKHYRDb7ITYBlgIsQ0AgJaKi4t1+8TbzxraJGKb3ZWXl2vp0qUaefHImANbSmqK7r7nbq1dt1bhcNj0vSCx5ObmRgQxt9vTIqR5vb7Gf3c4nVGFtlOaHytpGIbp+wUAtB2xDUgchkFssxNiG2AhxDYAACKt+2OdsrKyogptErHNrjZt2qTpj01Xt+7dYo5sA88fqEWLFqmgoMD0fSBxhUKhFsFtvcMhl9stj8crj9cbMdV2uum30/H5/E0hz+NRKBQyfc8AgLYhtgGJwzCIbXZCbAMshNgGAMCfGhoa9Pzz85WUnNR0/6yuGVqxYsUZH3cuYltdXZ1OnDihY8eOqaioSCUlJWpoaDD9mtlNdXW1Pv74Y40bNy7mwJaUnKRbbr1FP/70o4LBoOl7gT2Ew+GI+7edSSxTbac4na7Gx5eWlZm+XwBA25z675XklGTT1wIgPoZBbLMTYhtgIcQ2AABO6sefftTw4cMj4sio0aOUl5d31sd2ZGwrKytTXl5exPRJ83sr7d6zW1VVVaZfv0S3Y8cOzX56tnr27BlzZOt3Xj/Nnz9f+fn5pu8D9lVSWnrG6OZwOmMObYFAtlzupqMki4uLTd8nAKBtevXupS5JXdQ/q7/pawEQH8MgttkJsQ2wEGIbAMDONm3apOuvv75FIHnyySdVU1MT1XN0RGxraGjQli1boppGWe9waMeOHdzzq53V19frm2++0XXXXxdzYOuS1EXXXnetvv76a9XV1Zm+F+CU2tpaHSko0IEDB7R37952jW1FRUWm7w8A0DaFhYV69dVXVcaUMtDpGQaxzU6IbYCFENsAAHZ04MABTZs2rUUgGTZsqH755ZeYnqu9Y1tDQ4M2btrU6iSb2+2R2+2R0+Vq8e/bt28nuLWD/fv36/nn5+u8/ufFHNh69OyhWbNnRTURCZgtFArFf4xks59FJSUlpu8JAADA7gyD2GYnxDbAQohtAAA7yc3N1QMPPKCU1JSISNKrdy8tWbJE9fX1MT9ne8a2hoYGbdy4MeINcLfH0+qb4D6fP2KqhOAW33X/8acfdettt0bcsy9aY8eO1UcffcSRnuh0AtnZjT8/vF5fTKHN7w9ETMa15ecnAAAA2pdhENvshNgGWAixDQCQ6Orr6/X999/rpptvahFJ0tLTNGfOHJWWlrb5+dsztu0/cCAinkXz5rfH4414TBH3TYrart07NW/ePPXP6h9zYOvarasenf6oNmzcYPo+gLY6cuRIxPRsLLHN7fFEHGVr9l4AAABAbLMbYhtgIcQ2AECiMgxD8+fPbzWkpKWn6dHpj8owjLg/T3vFtnA4LK/P16Ypk+Zveufk5Jh+7a2ssrJSH3/8sa66+qo23YttxMgReu+997inCRJCMBiMmJB1ezxR/czxen0Rkb+8vNz0vQAAAIDYZjfENsBCiG0AgERSXlGuz7/4vNUpti5JXdSzZ0/NnTtXRwqOtNvnbK/YduzYsYgj2dp6nNt6h0OVlZWmfy2sxuv16tHpj6p7ZveYA1taepqmTJksh8Nh+j6A9mbk50d1dO3pQtuWLVtM30N7O6mQ3B89ohHDh2nYsKEaNmy4nnrVp+BJ89cGAABwJoZBbLMTYhtgIcQ2AEBnV1VVpVWrVmnSXZOUkZHeaiy54sor9Omnn6q6urpDPn97xLbc3NzGN689Xm9MsS0QyJbb3TTdlp+fb/rXxQqOHTumt95+SxeNuKhNU2wXDrpQr//zdR07dsz0vQAdJRwOa+fOnREBzeF0yu3xyOfzy+8PyO8PyOP1yuF0Rnzcxk2b1NDQYPoe2ltthUv3DI8M87373ClPQeLtFQAAJBbDILbZCbENsBBiGwCgM6qsrNSaH9ZoypTJ6ta922mn2J6a9ZS2bdvWoWtpr9i2ZcuWxjewfX5/zLGt+bTJrt27TP8amSUYDOqnn3/SpEmTlJKaEnNgS05J1sSJE/Xf//5XoVDI9P0A50I4HNau3bsiQtrZJGpoO6mQHEsnKeMvPxuSklL10AseptsAAIClGQaxzU6IbYCFENsAAJ1BKBRSdna2Xn31VV173bVKTUttNZRkZKTrrrvv0qpVqzpkiq017RXbNm7a1Pgm9pmOcDttbGt2v7cdO3aY/jU713bt3qW///3vysrKatMU25ChQ/Taa6/pyJH2O2IU6EzC4bAKCgqUvWHDGSObx+tV/v79CRnapJOqrXDq7uGtHzfLdBsAALA6wyC22QmxDbAQYhsAwKr279+v5SuW655771Gv3r3OeD+t2yfers+/+FzlFeXnfJ3tFdtycnKaJtt8sU+2ebzexsfv2bvX9K/fuVBZWalPPvlEV19zdZsCW0bXDE2bNk3rHesVDodN3w9gFaWlpdqxY4c2b96s7Oxsbdy0Sdu2bdPRY8cSeuLzpEJa/96djVNtyck9dMeDk9QnJZnpNgAA0CkYBrHNTohtgIUQ2wAAVlFSUqI1a9bo9bYulwAAIABJREFUiSee0NChQ88YSXr07KFJkybp448/VklJianrbq/Y1vwIN7fbE3Nsc7pcjY8/fPiw6V/PjuT3+zX9senKzMxsU2QbN26cli1fpvLycx9nAVhXbcV63TWs6WjiQcOf1q6KXXrm+vOaptv6Mt0GAACsyzCIbXZCbAMshNgGADBDOBzW9u3b9e9//1uPPPqILrroojPGkZTUFF151ZVauHChvF6vpY4va6/YVlFREXFUWyxHSfr8/sbHOV0uS12f9lJUVKS3F7+tESNHtCmw9enbR888+4xyc3NN3wsA62ltqu2FFfkKnzypHf+ZzXQbAADoFAyD2GYnxDbAQohtAIBzoaysTL/++qsWLlygm26+ST169jhrHBk2bKiefPJJrflhjaUnkNortkkntXnz5sZo5nK7owptfn8gYqpt1+5dpl+T9hIMBvXLL79o0l2TTnufvjNJSk7SLbfeou+++051dXWm7weAddVW/BEx1Xbh8FnaU/3n8bLB0B49fV3z6bZJTLcBAABLMgxim50Q2wALIbYBANpbOBxWXl6ePvroIz06/dGoJ5EGDByg++67TytWrND+/ftN30e02jO2FRUVRUy3nS24/TW0rXc4VFlZafo1idfevXv1/PPzlZWV1aYptsFDBusf//hHwh+nCaB9nFRI6969I2Kqbf6yfQo3m17L+2VWxHTbwy96mW4DAACWYxjENjshtgEWQmwDAMSrvLxcv//+u1555RX97Za/qVevnmeNIWnpaRp/xXg9+9yz+vbbbzt1FGnP2CadlJGfHxHPHE6nPB5vxLGSfn9Abo9HDqcz4mOPHj1q+vWI5zp++umnuva6a9sU2DK6ZuiBBx7QH+v/UDgcNn0/ADqP2oo/NGlo18afJxcMe0q7KiN/jgRDuzXrmn5MtwEAAEszDGKbnRDbAAshtgEAYhEOh7Vz5w6tXLlSj814TBePulhJyUlnn1obkKV77r1Hixcvls/nU21trel7aS/tHdukk8rPjwxuzcObw+Fs9d86a2gLBAKaMXOGMntktimyjR07Vh98+IHKyspM3wuAzufPqbaJf5lq2xsx1XZK3k9PqjfTbQAAwMIMg9hmJ8Q2wEKIbQCA06msrJTf79fyFcv11FNP6Zprr4nqXmtp6Wm6fPzleubZZ7Rq1SodOnTI9L10pI6IbdJJHT5yRF6fr9Ww1lz2hg0qLi42/TrEoqioSIsXL9bIi0e2KbD17tNbTz/ztLZu3Wr6XgB0brVl63TnkOZTbU+2mGo7JRjcpVlXM90GAACsyzCIbXZCbAMshNgGAAiHw9q7d69Wr16thQsXaNJdkzRk6JCow0dWVpbuuvsuvfX2W/J4PKqpqTF9T+dKeXm5cnNzI+4VZuTnq7q6ut2+NsXFxcrJyYm4N5vL7VZubq5KSkpMvwbRCgaD+s9//qO777lbqWmpMQe2pOQk3fy3m/Xtt9+qrq7O9P0A6PxOKqS1/5qo9GZTbfM+2NPqVNsp2394guk2AABgWYZBbLMTYhtgIcQ2ALCXsrIyuVwuLV26VI/NeEyXj79c3TO7Rx080tPTNW7cOM1+era+/vprHThwwPQ9nWvhcFiFR49q46ZNWu9w6H+//to0EXHhBY1BbOvWrTpx4kS7fu5QKNTp7ke2b98+vfDC8xowIKtNU2yDBg/SokWLEn5CEsC5V1u2Vnc0m2o7f+gT2nmaqbZTgsGdevLKvhHTbd5CptsAAIA1GAaxzU6IbYCFENsAIDEFg0Ht2LFD33zzjV544XndPvF2nX/B+TFFjoHnD9Rtt9+m55+fr6+//lp5eXkKBoOm781MoVBIubm5Ecc4ni62nZKfn2/6us+1kpISLVu+TFddfVWbAltGRrqmTp2qdX+s63RxEUDn8OdU2+1NU21JmZq7dPcZp9pO2b7m8cjptpeYbgMAANZgGMQ2OyG2ARZCbAOAzq26ulpbt27Vd999p1dffVXTpk3T2LGXKSMjPeqw0a17N10+/nI9NuMxLV26VE6nU6WlpabvzWpaC23rHQ79vnZt47W8cNCFcrndtgxudXV1WvPDGt11911KT4/+9dfcZZeN0fsfvM/rD0CHqy37XXcMbppqGzhkpnZURBf3g8E8PXFFH6bbAACA5RgGsc1OiG2AhRDbAMD6wuGwDh48qN9//11L31+qWbNn6aabb9IFF14Qc8wYPGSwJk2apAULXtb333+vPXt2KxQKmb7HziAvLy8ioHk8Xvn9ATkczojYFghky+8PtIhuiXoMos/n0xNPPKFevXu1KbD16t1Ls2bPUk5Ojul7gfWEw2F+RqHdnVRIv79zW7Optu56bsmuqKba/nx8WLmrZ6pXShLTbQAAwFIMg9hmJ8Q2wEKIbQBgHeXl5crekK3Pv/hcL730ou677z5dcukl6tqta8wBo0fPHrr6mqv15JNPatnyZfL5fKqoqDB9j51VVVVVZGjzehUIZCsQyG41tp3idnsaH+P2eBImGuzbt08LFy7U0KFD2xTYkpKTdNNNE/TNN9+otrbW9P3AWioqKrRr9y65PU3fP06XSxs3bVJBYWHCfB/BPDWlv2nioGZTbYNnKq88tiNrg8Htenx872bTbXcx3QYAAExnGMQ2OyG2ARZCbAOAc6uhoUF79uzWzz//rLcXv60ZM2fouuuvU/+s/m2KFgPPH6gJE27UU089pffee0+//fabDhw4YPo+E82ePbsb3/R3ud0RQe1MsS0QyJbT6Wp8bGFhoel7aasTJ07ogw8/0BVXXtGm1+qp67Nw4UIdPHjQ9P3AesrKyrR58+YWx7D+ldvjUX5+PvfzQ5ucmmpLazbV9uy7O6Oeamt6nrC2fjdDPZObT7f5mW4DAACmMgxim50Q2wALIbYBQPurqKhQTk6OVq9erTffelMzZ87UhAk3atDgQUpOSY45UGRmZmrs2LG6//77tWjRIq1atUo5OTmqqqoyfa920NDQEHEkpM/njym2eb2+xsdu3LjR9P3Eoq6uTqtXr9akSZOUlp7WpsDWrXs3TZs2TWvXriWO4LRKSkvldLlajWsOp7PV/z0vL4/XFGJWU/prxFTbgEGPxTzVdkowmMt0GwAAsBTDILbZCbENsBBiGwC0TWFhoTwejz777DMtWPCy7r//fo2/Yrz6ndevTUEiOSVZQ4cO1W2336bn5jyn5SuWy9HJJ6ESRVlZWcRRdn+NaWeLbX5/ICIQBINB0/d0Nm63WzNnzlSvXj3b/Hq+6eab9PkXn6uystL0/cDaSkpKWoQ2t9sjvz8Q8X3k9fpafBzBDbE4qZB+X3xrxFTbM+/siHmqren5wspZNZ3pNgAAYBmGQWyzE2IbYCHENgBoXUNDg/bu3atff/1V73/wvubMmaNJkyZp1OhR6ta9W5uP0euf1V9XXX2VHnn0Eb3x5hv64ccftHPnDtXX15u+Z7Tu+PHjpz1CMprY9tejJK16j7I9e3br5Zdf0qDBg9r8+r50zKVavHixCgoKTN8POof6+vqIgOZwOiMiW2s8Hm9EcDvAsaSIQTgYVENDgxoaGhQMBtsc2poLBhuaPaf5ewQAAPZlGMQ2OyG2ARZCbANgZ+193GOXpC5KTUvV0KFDdfPfbtaTTz6pxYsX64cff1Bubi7HPnZS7RHbmh+DZ6XYdvz4cS19f6kuH395mwPbgAFZmjdvnnJzc03fDzqfgwcPxhTaWgtuXp+P6TYAAABAxDa7IbYBFkJsA5Dojh492upxj3379W1zXMjMzNSlYy7V3ffcrXnz5mn5iuVau26t8vPzO8URgYhNex8jGQqFTN1PbW2tvvvuO91xxx1KTUtt8/fAQw8/pLXr1pq+H3Re4XBYPp8vIppFE9pai9hFRUWm7wcAAAAwm2EQ2+yE2AZYCLENQCIoKSlRIBDQ5198rgULXtaUKZM1duxlyuyR2eaglpWVpauvuVoPPvSgFi1apC++/EJ+v583dG0oGAzK5XY3vqnv8/ljim0eb9MEzsZNm0zZQzgcltPp1PTHpqtnz7bfh+2WW2/RV199xZQm2kXzqVGH0xlTaPvr91ZOTo7p+wEAAADMZhjENjshtgEWQmwD0FlUVFRo8+bNWrVqlf7xj39o2oPTdMWVV6h3n95tPu5x2LCh+tstf+O4R5zV3r17T3uU5NliW/Ppm6NHj57Tde/avVMvvviCLhx0YZvD82WXjdG//vWvc752JL5Dhw83fm+4PZ6YY1vzqVGfz2f6ftB5HPYv1/RHHtbD/2/23JUqbDj744LBXL359PTGxz366JP6aQP/zQAAAKzDMIhtdkJsAyyE2AbASmpqarR9+3atWbNGb7z5hqY/Nl3XXnetsrKy2hQJunbrqtGXjG5x3OP+/fs57hExqa6ujjgK0uPxRhXbmk/Eebzec3LkYlFRkd5e/LZGXzK6zYGtS1IXDR06VHl5ef/H3n2/RXE1bBz/O6QrCFbsQbEbjTX2qDExMaKisYXXEruRFEvsmjyWqEn0UaPGGitq4valKSAgKKMIKFX6UnaX+/0hj8gAKgu7zLBz//C5rlyRnT1nWFD2yzlH8ntPzutpamq9X1O2qBnBpZ4PtRyJp+fDvcb3uy7dQ/DQ9O5z/yrKbuKjzl6vV/y6+GDnnwWSz4eIiIjoFUFgbFMSxjYiGWFsI6LmVllZiUePknHt2jX89NNPWLp0KSZOnIDuPbrDxdXF5iDg4emBwMBATJ8+HWvXrsXhI4fxz91/kJ6eDqv13W+cETVUYmKiKLhpdToYjeH1xjajMVwU2u6qVEhPT3fY2EwmE/78809MmjwJbu5ujYprtb/+Pv30U7uO0WKxIDs7G6nPnkEQBDx9+hQZGRkoLy+X/HNL0niWlma32KbT6yWfD7UcjG1ERETkrASBsU1JGNuIZISxjYgcwWKx4OnTp7h9+zYOHjqIlatWYuq0qQgICGhUCHB1c0Wv93rhoykfYcXXK7B//36EhYVBEASuUKNmY7VaER8fLwpod1Uq3L59RxTbake2uyoVnj596pDx3FXdxcJFCxt9PqGrm2u9Z7jNmz8Pubm5dhlnWVkZnjx5IjpfqyaVWo2EhATkF/ANa6V5kZlZ/TpQazQ2hza9wVD9+MjISMnnQy0HYxsRERE5K0FgbFMSxjYiGWFsI6KmyniegbCwMOzesxvz5s/DkCFD4OXl2ag3/rt264rx48cjJCQEe/fuxZWrV5CU/JArX0g2aga3K1evYvuOHZg3f171a7iNdxt8FRKCfT/tw82wMIeEtri4OGzc+A26de/W6C0i3wt4D717967z/4ePGI6IiAi7jTU3N1d0Zt27JCUncUWqglRUVECt0VR//o3GcJtim0bzOmynPnsm+Xyo5WBsIyIiImclCIxtSsLYRiQjjG1E1FCFRYUwGAw4cvQIlq9YjrHjxsKvnZ/Nb/J36twJo8eMxsJFC7F9x3ZcuHABcXFxKC0tlXyORA1x//59BAUFwcPT462vdZ+2bbFs2TKkpqY2+TmTkpOwefNm9O3Xt9GBrbN/ZwQHB+PzmTPh6SkO4v7+/jhx8oRdQ1d9oU2lVkOr00Gn10On04tiCYObMiUlJ4nOXWtoaDMYjKLXVUVFheRzoZaDsY2IiIiclSAwtikJYxuRjDC2EVFtlZWViI+Px5kzZxAauhHTp09Hj549bHpTv61vWwz7YBiCg4OxefNmnDlzBlHRUSgsLJR8fkSNZTKZsG7dOpvPFmzj3QYHDh6wOSA9ffoU23dsx+Ahgxsd2Lx9vPHJp5/g8OHD2Lp1Kzp17iT6cw9PDwTPC8bLly/teq/yXr4UhTaVWg2DwVhvNDEaw6HV6kTBLflRsuSfb2oexcXF4rMQtTqbQttdlQoPHz6UfB7UsjC2ERERkbMSBMY2JWFsI5IRxjYiZUtLS8P169exY+cOzJ07FwMHDXznap3ab9QPHDQQc+fOxY6dO3D9+nWkpaVJPi8ie8vNzcWQIUNsCl21fT7z83euvsnIyMC+ffsw7INhjX4eN3c3jPlwDLZv3w6NRosTJ07WG+zGjh2L02fO/LvVpR1W39UUGRX1+iwutaZB2wNqdeLgVlJSIvnnnZpHSkqK6HOv0WjrjbNGYzh0OvHZfwajEWVlZZLPgVoWxjYiIiJyVoLA2KYkjG1EMsLYRqQcT58+xblz57Bu3TqMHTcWvr6+Nr2B36NnD0yfPh2hoRtx5swZxMfHo7KyUvJ5ETlabm4uBg4a2KTQ9sqMGTPqfN1kZWXhwMEDGPPhmCZdu1//fli3bh3Cwm4hPDwCN2+G4ZNPP6mzEi8gIACHDv0iWh2kNxjstnVjQUGBKIbYcg6XRvt6W8lHjx9L/rmn5pMiCHW2FFWrNdBotdBqdfVuOWowGmFiaKNGYGwjIiIiZyUIjG1KwthGJCOMbUTOKScnB9evX8emTZswddpUdOjYocFv2Pu188PYcWOxfMVyHDl6BAaDAYVF3P6RlOvTTz+1S2h7ZdOmTcjLy8PRo0cxYcIEuLq5Nvpa/v7+mDd/Hk6eOlUdrHQ6Pb5euRJtvNuIPtbX1xcb1m+AXm+o/tiaWz3aayVZfHz86y0Bde/eEvBN2wNqtFoGfYV58uRJnaD2JuEREQxt1GiMbUREROSsBIGxTUkY2xSoChZkp0bj8ulfsG3Ld1i3Zjm+Xv0Ntu85gFNnryIx3b7bBBU8j8PVs0fw4w/fYOXXS7FsxSp8+8N2/H7mBh4955ZENTG2ETmH+/fvY+/evZg1axZ69urZoDfpPT09MWTIEMybPw+79+xGWFgYMp5nSD4XIjk5cfKEXUNbK5dWcHF1gZu7W5MC28pVK/HPP//gn7t3/10BpNEgPDwCe/fuQ7fu3UQf7+rmiqCgINy583fdlWQ1VgsVFNjnDeOaq9NsWdX2ilqjqX58bm6u5K8Bal5lZWUQnjyBTq+vN7LFxsYiNy/PbisxSZkY24iIiMhZCQJjm5IwtilISXYcftu9AmP6d4TbW940cnP3w8iPFuLQ6SiUWBr3XFWwIjX2DJZ8MgQ+Hi5vfa4xH6/EzXvZsFZJf4+kxthG1DKVl5cjLCwMy5Ytq/PGen1c3VwxaPAgLF6yGEePHkVMTAxXjBC9g8ViaXC8drQOHTtg6dKlUKlUsFgsAKpQXFxcHSBOnjqJESNH1nnc8BHDcfbsn2/ettHOsc1isVRfT6VW2xzawsMjoNW+PrstMzNT8tcBScNiseBlfj6ys7ORmZmJ3NxcmEwmycdFzoGxjYiIiJyVIDC2KQljmwKYyzPw50+L0bejp22/6e3ijkGjv4b2UalNz2e15uPyviB09Gr4Nkwent2were20XHPWTC2EbUcubm5OHHyBGZ+MRM+Pj5v/R73XsB7mD07CPv27YNOp7Pb9nBESnL5r8uSBjY/P18sWrwIt2/fhtlsrjO+srIyXLl6FTO/mFlnpVzXbl2xZ+/ed4Yte28jaTabmx7bdK9j24sXLyR/HRCR82FsIyIiImclCIxtSsLY5uRK8/RYPqHHW1eyvUu7zpNw+V5+g57Pas3FyY3j0drV9udxdW2L+RvDUKzg4MbYRiR/mZmZCAkJeeu2cwMGDsC334bi5s2byMvLk3zMRM4gODi42QObj48PgoODce3aNVRUVLxxbBaLBYcOHYKvr6/o8W2822DF119Dp9PbdD7aXZUK5eXldrlvNQNeY7aRrLkNZU5OjuSvAyJyPnKJbVWwoCg/D7m5eSgps0h+X4iIiKjlEwTGNiVhbHNiZvNjfDe9F1zqvHnkii4BYxGyZjMO/XoCp8/8gWNH9+PbtQswZkCnesOcf49gRDx/+xZnVTBD89sc+LrW3jbSBZ17foil67bgwNET+O/xX7Bl42KM7NsernWCWwdsPJKo2C0lGduI5KukpARbtmyBt493ne+R7h7umDhxAvbv34/U1FTJx0rkjPr06dMsga11m9aYNWsWLl682KBt8u6q7mLQ4EGia7i4umDaxx/j5s2bDY9aNbaQvKtSobi42C73LSo6uvqaer3BptBmNIaLxsRtA4nIEeQS24qyzmCUnwdcXNyxYneS5PeFiIiIWj5BYGxTEsY2J1UFKwzH5sK71gozd4+uWP7jTeSV1/84q7UQ//yxBoHt3esEumkLL8D0lgj28ul/MaLW49zcO2DJDzeRX1n34y3mLJzdPgPtPMTbTbb1nYTbgn1+m7ulYWwjkqd/7v6DLl38a31/c8Ps2UE4e/YsCgsLJR8jkTMzmUwOj2zePt44c+ZMgyPXy5cv0X9A/zrXaevbFoOHDMboMaMx5sMxGDt27DuN+fBDjB4zWmTax9MwY8aMJpsyZUqN6zZsPPWNa/z48XYZDxHJz9crv5Z05aocYlsVrAj/LQitXVoxthEREZHdCAJjm5IwtjkpszkWi4aItzJyc++CH44/hKUBq8YE4w708xOHs9atR+LKw7J6P74KJfh12UDRSjVXV2+EbDWi/C3PV4VSXNo6GV6iKOiK6Uv+QpkCV7cxthHJj8lkgl87P9H3w+nTpyMxMVHysREpRW5ursNjm7+/v01j+vLLL5tlpR0RUXP4/vvvJPseXzu2+Xf7qtljW1HWDUwPaINWLoxtREREZD+CwNimJIxtTio96kd0F60Yc8GYT39FfgPPQ6tCBa5unSDaUtLFxR1fbblf7xaPhS9OY1Q7D9EPbANHbUF6eQN+SCqPwVfD24se27btR1Clv33bSmfE2EYkP2FhYdVfl27ubriruiv5mIiUJj8/3+FvNHfr3s2mMR07dkzyN8eJiOzBw9MDV65ekex7fO3Y1r79bMSWNk9ss1TmQ3d1L6YMaFd9HcY2IiIishdBYGxTEsY2J1QFC1Q/TROFMje3LvjPtTybrpP39CgGe7uJfhAbPvUQiqvqPp/6wKfwqPFxrq4dsftCVgPHa8X9MwtEW166urTGqn1Jiju7jbGNSH7Wr19f/XXZt19fycdDpCQJCQn4/vvv0Lt3gMPfbB72wTAUFxejrKwMFoulQePTaDSiv7tfGTxkCLZv344jR4822NFff63+71N/nEJ0dLTdREVH4eKlS3We77fff8fx48dx/L//xfH//hfHjh3Hr7/9Kvq4/544AWO40a7jISJ5yc7OlvR7fe3Y1sZjIlSZ7/4+XFZyFRPae9oc28pK1Fj28TgMGdALfm1qH5/A2EZERET2IwiMbUrC2OaEqlCG/QsC4FLjB4YOHefgftG7fzuwJrM5ASEfiLdO69lnNYQy8XUs1jSsn9hR9HFde4bgYQN+G/GVsuKbmNLVS3SNQR/uQm4DV+I5C8Y2IvnZtGmT6HtTcHBwg890IiLbJSQkYMuWLfWeh+ZIn33+Ge6qVLirUkGr0yFFEGAymRo05vPnz6NHzx6i67l7uCM4OBg3w8Kqr1sftVoDnU4v+n+ZmZkOubePHiW/dSy1hUdEoLxcmefoElHzqR3bXF07YPeFtwfAKlTg1k+foI3oFza98eMfL9/5fKWFZzCinsjG2EZERET2JgiMbUrC2OaErNYX2DhZHL8GfbgbL20MV1ZrFkI/El+nc5eFSKi1f35JzhmMFJ3v5oLJ88699ay22qpQhD1ze4kCoU+bj6B+oaytJBnbiOSnqKgIM2bMEH0v7NK1C0JDNyIhIUHy8RE5g8ioSGzc+A0CAwObNbDV9P3339cbnOLj42E2m985B5PJhC1bt8DLy1N03fbt2+O7776DRqOFRqOFWqP597+1WhgMRhiN4VBrNNXPp9PrG7yyrjGeP3+OiMjIt0Y2rVaLlJQUVFRUSP7aICLnVzu2tXJphUFjfkTGG44kqEIZNCeXoEtrV9FjXFzcsXxXomh3lCqU4/iq4Vj78+Pq/1dRakDogrmYM2d2DUEY0sOTsY2IiIjsShAY25SEsc0Jmc2JdVakjQv6w6b4BVTBbHmKVWPFZ6l16RFS57DqJ7fXoL3b6x90XF1aY+PhZzZtAVkFK3QHZ4h+yHJz64z91wslv5/NibGNSL727N0DN3e3Om/QDxw0EDt27sCzZ88kHyORo1VWViIjIwOxsbGIjIpCREQE7t27h6TkJBQVFTX4OhaLBRqNBqtWr0L3Ht0lC2yv+Pr64s7ff0Ot0UClVteJT/fv329QcAOq8OBBHCZNmljnOfr264fffvsd4eER1fR6Q53ny87JaZbPZX5+PhISEhAVHQ1jeDgiIiMRExOD58+fN3iuRET2UF9sc3HxwuTZ/0FyrviXL0vzYrB7+Rj4uLmg36iFmDrIR/S4Dyb/R3ROeWXFfSx8/wOcvf/2lcpVMGHHF10Y24iIiMiuBIGxTUkY25yQ2fwQoTM/QP8B/f9nEFbuCIfFxthWUfYPpndvLfrhJfD97/Hc/PpjqmCFbv8novPh3N1744ShxOZxP9N+C38P1xo/YLlj5d5Hijq3jbGNSN50Oh0GDhr4xjfsR40ehe07tkOtVqO0tFTy8RLZS1lZGR49SoZGq33riqh79+69MRZVVFTg1q1bCAkJQafOnSQPbDUtXLhQFMEMBmOdudoS3HJzc3Hw0CH0CexT57kmT56Mi5cu1Rv1pD43iYhICvXFtlc8WnfAkNEfY2HIAkwZNwgdfP7dUaVH34UITyvCb8sGwFX0s2gv7Dj7GOaqKlTBDOOpBRjx4XZkmt8+BsY2IiIicgRBYGxTEsY2eqOUf9ajk3vNrTlc8NF88faQVajAH+uGiWJba/exuJNu+7ZDhS+OYUjr16tGXFzc8MWqv2FmbCMimYmNjcWGDRveuiLH3cMdHwz/AGvWrsGFCxfw4sULycdN1BgmkwkGg8Gms75erfQ0mUy4/NdlzJs3D35+vk0KYt26d8PixYvh1dqrSdeprWvXrlCpVKLYVnPlWc15paSkNPi+5eXlQa3RYMOGDWjXvp3oOb28PLFw0UKE3br177ltGg1DGxEp1r+xzRXd+/QWncFw+h3MAAAgAElEQVRWP1cMGr0O0f/7efPx3+vQyUO8naSrqw9GTJmDmdOGoKPf+zilz3/nGBjbiIiIyBEEgbFNSRjbqF4V5XFYPqZzrR9a2mH72SzRx1WhBDtnid9sbt9hDmJL699f/63PWXYTH3USn3My5rPjNm9/2ZIxthG1LFarFTqdDsuWLUOHjh3e+aZ+r/d6ITg4GL8c/gXR0dEwmd6+pRGR1EpLS6GvFdrUGg30egOMxnAYjeEwGIzQanXVf379xnV8//13mDptKtp4t2lSCOvs3xkrvl4BvV4Pq/Xff1scPnLYbqHN1c0VR48erTe01RfctFqtTVssms1mZGRk4K5KhTlz5sDdw130/P7+/jh85DAqK5V1Ri0RUU3xp4Lh7uKOr7YacfvY/6GXb91tu1u5tIKHV1cs3HAOWWWvf9a0WnPw+/oP4VVPpGvfZRx+C0tr0E4pjG1ERETkCILA2KYkjG1Uh8XyAkdXjoJHrR9WevZZiUe1IprFmo71E8VvMHcPWI7HZY2IbRVGzA70Fl1r0NjdeGmx7/xskZOTg/T09GbTf0B/xjaiFqqyshJqtRrbtm3D1GlTG7SKx9XNFYGBgfhi1hfYunUrLv91GU+ePKmOCkRSslgsdUKbwWCsN0jdunUboaGhGDFyRJ2gZKsePXtg9ZrV0Gq1sFgs9Y5t8+bNdgltO3bsfGtoe0Wt0VTfg+fPnzfqfhYWFiIyMhIfTfmozljGjRuH2NhYyT/nRETNrQpWGA7OgJuLGz5fcQvmqiq8TNNix/oF+GjsUAwY+D4mTA3Cxh+PIza1/rNBq1CIu2e34ospo/D++0Px4cQgbDv4F1LzG/7LEYxtRERE5AiCwNimJIxtJFKaH4PNwYPrhDY3967Ycym9zm8Fmi2PsGKUeGukXv3WIbXC9jeKzeYHWDJU/OZ03w82v3N/fUdZ8tUSu/3mfGOsXr1a8tcDETWe1WpFQkICjh49ivlfzkdAQECDv/59fHwwYuQIhISE4OChg9BoNCgoKJB8TqQsz1+8eGtou3btOtatW4ehQ4fC1c21SX/nBQYGIjR0I6Kjoxs8vp9//hmenp6Ner62vm2xZ+/eBoW22qvb7t271+R7e+fvO6JfsHkV/0JCQpDzhjPviIicURXMuLhpNNxcWmHEtMMokWhXE8Y2IiIicgRBYGxTEsY2AvDvdpC6Cz9gRC/vOm9Iubp4I3h9GEz1/OBTXyDr8/53yKhsTGxLwtLhfqJr9R68EWmNuFZTWa3WOuerNLdly5ZJ/rogIvvKysrCpcuXsH79ekyaNBGd/Tvb9H2hS9cumDBhApYtW4b9+/fj1q1bePbsGVfCkUNERkZWBya93oDw8AhcunQJK77+GgMGDmjy33NDhgzB1q1bkZiY2OgxxsfHY8TIETY974djx+L69RsNDm3h4REwGsNf3wuDwS7312w248DBA/BrJ/63j6+vL/bt24eKCtvPvyUiamms1hxsmv5v5OrYORixxdL8m4axjYiIiBxBEBjblISxjZD24BwWTeldZzVbK5dWcHVtizmrL+HlG1aXmc2xWDhYHNsCh/6AF41YjWa2JNeJbe8N2NCoVXL2cOHCBYwfPx4jR41sNp06d6qe+4ULFyR/bRCR42VnZ+PO33fw008/YcHCBRg69H14tfayKR60btMag4cMRlBQEDZt+gGnT5/GvXv3UFxcLPn8qGXKLyiojkvH/3scS776Cr17925yYBs5aiT27t2Lp0+f2nW8RqMR8+bPQ5cu/vU+b/ce3THjsxk4cfIEdDq9TaHtlVf3Q6PV2nXseXl5WL5iOdzcxWcUBQYG4ubNm5K/FppLSUkJHj1+jPv37yMiMhKRUVGIiYlBWloaz7QjcmJlxdcxqfO/q5Td3Lrj8N/1bxXpaIxtRERE5AiCwNimJIxtClaaew+7V05Ge6/6t37y9h2MH4/dR9lbtvIwW+quRgsY+A2eNWobyVgsGmKfcNdSrV6zunruFy9elHw8RCQNi8WCpOSHOHfuHL777lt8+umn6PVeL7i4utgcN7p07YKx48Zi4aKF2LZtG86ePYvIqEi8fPlS8nmSfF2/cR1z585B127dmhTXXN1cMXTYUBz65VCjzzqzlSC8/mGme4/uyMvLw7O0tOpYptXpbA5tjljZVlt8fDwmTZpY5x5OnTYVScnO+6ZvXl4eYmJiRFuW1qbWaJCUnASTyST5eInIvp78vRbt/7cVsYuLG2avVcMswVaSjG1ERETkCILA2KYkjG0KZDFn4a/Dy9Hfv/6VE64ubTBqWiiMj0vffS1LKtaMay96fI/eK5FSZntsq6iIwNx+PqJrDRyzA7kW6e9Zc2FsI6K3MZlMiIuLw7lz57B161bMnTsXQ4cOhY+PT4PCR21+fr4YOnQogoKCEBq6Eb///jtUKhXS09O5NaXCWCwWaDQarFq9Ct26Ny2weXh6YPTo0diwYQP+unIFWp2uWedSUlLy+pd2+gYC+HcL15rhxtbYVvPMNlvOlWuMv678VeeMR3cPd5w4eULy14m9ZTx//tbIVptOr0dJSYnk4yYi+6iCGdd/nAC3Wj//5Ujwy5aMbUREROQIgsDYpiSMbQpSBSueRB/D5x90Fv1A85oLuveZjl8uxqO8gb9NWIV8bPpEvGVT5y6LkGhqRGwr+xvTu4kD4PCpv6BUokOypcDYRkSNlfE8A//c/QeHfjmElatWYvJHk9GjZ49GrYZr5dIKXl6eCOwbiI+nf4yVq1Zi//79uH79OpKSH6K8vFzy+VLTVVRU4MaNG/jyyy/RoWOHJgU2r9ZemDhxArb++CP++eeuaNtFnV7frPOqL7aZzWZotdrqMRkMRptim1qjqX5sc6zQKy8vx85dO0UhfejQoZK/ZuwpIyOjTkzTanUwGIwwGsNhNIZDrzeI7j2DG5FzqUIpdgX1EP190r7DHMSWNv8v/DC2ERERkSMIAmObkjC2KYS5PA3HN89ApzdsGenXeRhCf7qN3HLbrluFcvy2rD9ca1zL22sK9HkWm8dYknMKw9rUPK/EFdOXXJNkGxGpMLYRkb2Vl5cjKfkhrl+/jv3792PlqpX4ePrHCOwbCC8vz0aFFRdXF3Tr3g3jx4/H4iWLsX3Hdpw7dw4RkRHIzs6WfM70ZiaTCZf/uozZs4PQ1rdtkwKbT1sfTJ02Dbt374FGoxXFKYPBWB1HwiMimnWO9cU2oAopKSmi1W1GY7jNq9o0Wi3MZnOzzSUzMxNLvlqCPn364OSpk5K/fuwlJzdXFNA0Gu1bPx8GgxEqtVoU3HiOG1HLZ7Vm49spHcV/t3h9jPBC23+WbCrGNiIiInIEQWBsUxLGNgUoK7iHDZ8E1LuazcsnAEu+OYEn+Y1746gKFtzaMUl0bU/3wTgXa/uZGs/vbUNPz9cx0MXFHSE/xsLK2EZE5BBWqxXp6elQqVT4/fffERq6EUFBQRg6dCj8/HwbHWHaeLdB3359MXXaVCxbtgy7du/CuXPnEBkViZycHMnnrTT5+fk4ffo0Zn4xE2282zQpsLVr3w6fff4Z/rN/P/R6wxvjiKbGKrKUlJRmne+bYpvJZLIp8NQObXdVKjxu5rk4q3v37tn0eQgPj4DBaIRK9Tq4paWnSz4PImqaKpjw8/z34FLj75lO/guQ0IhdUuwxFsY2IiIisjdBYGxTEsY2J1dRHIM1k3uIVp61cmkFVzdffDRnO+49ffe5bO+SeG4xWte8tqsfdp3Ps/k6sX/Mh5foOm2x/azt12nJGNuISE5evnyJyKhInD17Ftu2bcPCRQsxdtxYdOnapUnBxtvHG/3698O0j6dh+fLl2L1nN86fP88YZ0cpKSnYt28fxo8fDzd3tyZ9vjr7d8asWbNw5MjRBm2/aDSGiwKVyWT7L+A0xZtiG1D3jDCVWg2dXl8n9hgMRlEwvKtS4d69e1xNZQdFRUWi+9rQFYa146cxPJxnSxK1cFWwIvb8V/D935bXLi5umLbwIkwS/LIlYxsRERE5giAwtikJY5sTs1pf4KcFA+usaOvQdTyOXEmx2/aMeSkH0E+0Is0NQavv2nT9f7ejHCCKgl7uw3HtsbLOBWJsI6KWwmQyITExEVevXsXPP/+MFV+vwPTp0zFg4ADROVONjXH9B/THx9M/xvIVy7Fn7x5cuHABUdFRyM3NlXzucmSxWKDT6bBhwwYE9g1s0v1v5dIK3Xt0x9zguThy9Kho676GhLaa2/3FxcU1+714W2wDqvC8VnCrubWkWqMRjZ+hzf4ePnwoOqPNlrPzwsMjRJ+f3Dxl/VIWkTOyWl/i9NYvENClCyZ8ug1JL5t/C0mAsY2IiIgcQxAY25SEsc1JVcGKiD++hK+bS403z1wQOHQFwp/aN2BVVtzHlwPF5770G74FmeaGX8NsjsGCQeJr9Oq3DqkVyvqNZcY2InIWeXl5iI6OxsWLF7F3797qGNd/QP8mxzgfH596Y1x0dDTyFPTme1FRES5cuID5X85Hh44dmhzY+vTpjZCQEJw9+yfCwyOg0+nrRCetTvfGlUh6g0EUQjRaLYqKipr9vrwrtgFVePHiBbQ6Xb3RrbYHDx4wtNlRZFRU9b1tyErJ2mp+3lJTUyWfDxE5B8Y2IiIicgRBYGxTEsY2J1VW8Dc+DWgtehMtYNAKxGba/82iKlTg9PoPap3bNghn7zd82yhB9Q06u4tXx82ycXWcM2BsIyKlyM3NRVR0FC5cuIA9e/dg+Yrl+Hj6x+g/oD+8fbybFuPa+mDAwAGYPn06Vny9Anv37sWlS5dw//59FBYVSj73pnj27BkOHDyASZMnwcPTo8mBbeDAgVi5ciUuXbr8zrPXROedabXQ6fXQ6w3Q6fR1VoNptFoUFBRIco8aEtuAf1cDvsjMRFR0dL3ze5ySgtLSpm+3TWIGo7FRW0i+otO/jsDNfR4gERERERGRLQSBsU1JGNucUBUs0Bz6THT+WRvvkbgQW+Kw53we/SN61NhKspWLKz5ZcgVlDYhlVmsmts8SH4zt4d4PpyKa94wXOWBsIyL6V50Yt3w5pn08Df3692tyjGvXvh2GDRuGoKAgbNz4DX799Vf8/c/fePr0Kcxms+Rzr8lqtSIiIgLfffctBg0e1OS45urmiqHDhmL9+vW4du26zeevNYQ9Q1txcTHy8vKQnZ2NvLw8lJS8+98yDY1tNZWXl6O4uBhFRUUoLS2FxSLNNmZKYAwPt1tsEwRB8vkQERERERG9iSAwtikJY5sTMluSsWxkO3H4+uo6yh24SsxseYr1kzqL3tDz8AjEr/+8fTuvKljx4OoKdPRwFT128NjdyLZhG0pnwdhGRNQwOTk5iIyKxPnz57F7z25RjGvj3abRMcrdwx3vBbyHSZMmIiQkBDt37cT58+cRFR2F/Pz8Zpmb2WxG6rNUnDt/DvPmz0NAQABc3VwbPac23m0wdtw4hIaG4saNm7Zv26d9vW1fzVVJtekNBqSmpqKioqLJ83/+4oVou8GaoqKjkZmZ+cYg1pjYRs2n5krCRm0jWeP1+CwtTfL5EBERERERvYkgMLYpCWObE8pLOYB+Xq/flHN17YhtfzzGixcvmiwzq+CNWzsm31qLTu7iNwM7dJ2KCxG59X58Fax4pNuDof7ibbDc3Xtg//Vsye+jFBjbiIjs41WMO3fuHHbt3oWlS5di8keT0bt3QJO2X/T19cX77w/BzC9mYv369Th85DBu376NlJQUh57rVVZWhgcPHuD8+fPYunUr5s6di/ffH/LGsNijZw+s+HoF7ty5g6gmnpGl1xuqH5+YmIjS0lKkpaVBePIEKSkpeJqaiuycHFitTT9nNTc3F9o3bF1Zm06vrzeAMrbJ25OnT0WrIG15LdZeaVncgJWOREREREREUhEExjYlYWxzQrGn5om2kLSnjp3n4UFp/W+mWa0vsCe4L1xrPaa1T28sWH0A2pgnKDRZUGF6iYcxN/Hjquno6uMm+lgXFzdMnP1f5Fukv49SYGwjInI8i8WCtLQ0qFQqHDt2DN999y3mzJmD4SOGo2Onjk3aorFnr56YNGkili1bhp9++gnXr1/Ho0fJDgtxVqsVaWlpuH37Nv489ydu3rxZZ2u9e/fuNWnbPoPh9Wq2+Ph4h31ecnNz65z9plKpodFqq9UObmqNpk5wY2yTt/LyctHn2WBseADW6V5vIRkTEyP5XIiIiIiIiN5GEBjblISxzclUoQLnQ0fATYLYBlShJFeN4KEd3vJGpDvc3d58/T5DViEu23ErA+SOsY2ISHrFxcWIi4vD5b8uY9++fVi+YjmmTpuKwMBAeHl5NurvTzd3NwQEBGDK1ClYuWolDhw8gFu3buHJkycOPx8sOzsbiYmJiIyKalRsq7myLSk5ySFjzKkV2lRqNfR6Q53xGo3h0On1oo+tHdwY2+QvISFB9LluyOuy5uvwrkqF7JwcyedBRERERET0NoLA2KYkjG1Opgom7J3b0yGhrSGxDahC4fPb+HJUlzor3N7OFQOGr0FUunJDG8DYRkQkd1arFRnPM6DVanHixAls2vQD5s2bh1GjR8Hf379Rf7d6enoisG8gPvnkE6xduxZHjh6BWq1GVlaWQ8ZfWlqKvLw8pKen49GjZMTExLw1cmg0r1eUPXv2zO5jslgs0Olfr1hSqzXvjC9GY7gouBnDw6u3sWRsk7+SkhLRdqEqtRp6g+GNn+uaK9ruqlS4f/++XbYtJSIiIiIiciRBYGxTEsY2J2NFLr6f1knS2AZUoaLkMY58OwNdvF3feU3PNj2w+JuzyCjhmyaMbURELVtJSQni4uJw4cIFbN+xHQsXLcSYD8egU+fG/d3s184PI0aOwIKFC7Br9y5cuXoFjx4lw2w223XcZrMZBQUFyMjIwMOHSYiKiq5zRpZKrUZ5ebnd71lmVpbNq5zqC255eXnVnwPGNvkrKiqqcz6fSq2GVqeDTq+HTq+HVqurs3Xo/fv37f76JyIiIiIicgRBYGxTEsY2cqiCF/dx/KdvEPTJWPTv0wOdO7VD+07+6NVnECZND8YPe87iYUap5OOUC8Y2IiLnVVhUiOjoaJw9exZbt27FvHnzMHzEcLRr387mCOfh6YG+/fri85mf49tvQ3Hy1ElERkWiuLjYLmO1Wq0wmUzIzMxEUnISIiMjkZiY6JD7Eh0dXR1SdHq9TVtc1lzxFBcXB4CxrSUpKiqCVlc3qL0JQxsREREREbUkgsDYpiSMbUQywthGRKRML1++REREBE6eOolvvw3F5zM/R7/+/eDh6WFziHsv4D3MmDED33//Hc6dO4fExES7BApHbNtnMplEMcXWM+Vqrry7q1KhsrKSsa2FqaiowLNnz2AwGt8Y2WJiYpCdk8OtI4mIiIiIqEURBMY2JWFsI5IRxjYiInmyWq1ITEzExYsXcejQIRw+fBhhYWF49CjZIVsrvmI2m/H48WNcuXoFu3bvwsJFCzFy1Ej4tfOz+Vy4wUMGY968edi1exdu3ryJjIwMye9rYWHh67PaNBqbQtsrao2m+hqlpaWMbS2U1WpFbm4uUlNTkZKSAkEQ8OzZM7ut1iQiIiIiImpugsDYpiSMbUQywthGRCQfL1++xNmzZ/Hlgi/R2b/zG0OWi6sLunXvhnHjxmHxksXYuWsnLl2+hPj4eJhMJoeNLzs7G2q1GkeOHsHqNasxZeoUdO3W1bYz4fx8MW7cOGzYsAGX/7qMrKys5r3H+fnVoUyj0TY5thUXFzO2ERERERERkSwIAmObkjC2EckIYxsRkXSsVisioyKxZcsWjBg5Aq5urjZv4Vhb+w7tsWrVKqjVaoeGt5ry8/Oh1Wpx6JdDWLp0KUaPGY22vm0bPOaevXpizpzZ2L9/PyIiI1BRUeGwsRYVFTV5ZZtKra6+hslkYmwjIiIiIiIiWRAExjYlYWwjkhHGNiKi5pWTk4M/Tv+B4OBgdOjYoclxrZVLK/Tp0wfr1q2DRqOxy1lp9pKWlobr169j566dCA4OxqDBgxp0JpxXay+MGj0K69atw4ULF5Dx3H7bT1ZUVIhima1nttU850ut0cBisTC2ERERERERkSwIAmObkjC2EckIYxsRkWNZLBYYjUZs2vQDhn0wDC6uLk2Oa65urhg7biz27N2DR4+SJZ+jLSorKxEdHY2Dhw4iODgYAQEBDZpz125d8cWsL7Bv3z4YDAaUlZU1egwpglAdzLQ6nU2xTavVVT82+X/3nrGNiIiIiIiI5EAQGNuUhLGNSEYY24iI7C8rKwsnTpzAnDmz0a59O7usXvNr54fZs4Nw6o9TePnypeRztKecnBxcvXoVoaEbMX78eHj7eL/zfnh6euKD4R9g1epVOHv2LNLT0216zpKSEqSkpECr08FgMDZsVZvh9aq2uyoVSkpKqq/F2EZERERERERSEwTGNiVhbCOSEcY2IqKmM5vN0Ol0+PbbULz//hC7xLVWLq0wbNgw/PDD9zAYDLLaHtLRLBYLYmNjcfjIYXy54Ev06dOnQfdr0OBB2LRpE2JjY216rqzsbCQkJNgU2mJiYqqvwdhGREREREREciAIjG1KwthGJCOMbUREjZPxPAO///47vpj1BXx9fe0S19p3aI+5c+fi1B+nkJ2dLfkc5SQvLw83btzADz98j0mTJqKtb9u33ste7/XCmrVroPnfuWoNeQ6TyYRnz54hKipaFNk0Wq0otIVHRKC8vLz6cYxtREREREREJAeCwNimJIxtRDLC2EZE1DCVlZVQqVTYsGEDBg0eZJe45uLqghEjR2Dz5s2IiIxocBSif1ekxcfH47fffsOixYvQpWuXN97njp06YtHiRbh27VqDznozm81IT0+H3mAQRbb6QhvA2EZERERERETyIAiMbUrC2EYkI4xtRERvlp6ejqNHj2LGZzPg09bHLoGtU+dOmP/lfJw5cwZ5eXmSz9GZREZFIjR0I/r26/vG++/j44PFSxYjIiLindezWCxIz8iAVqfDXZUK8fHxdUIbwNhGRERERERE8iAIjG1KwthGJCOMbUREr5WXl+PO33ewbt069Ovfzy5xzc3dDaPHjMa2bdsQHR0Nq9Uq+TyVICk5CTt37cTwEcPfesbbgYMHUFBQ8NZrmc1mVFRUvPHPGduIiIiIiIhIDgSBsU1JGNuIZISxjYiU7unTpzj0yyF88skn8Pbxtktg8/f3x8JFC3H+/Hnk5+dLPkele/78OX45/AsmTZ4EVzfXOp+v1m1aY/6X8xEZFdmo6zO2ERERERERkRwIAmObkjC2EckIYxsRKY3JZMKtW7ewavUqBAYG2iWuuXu4Y9y4cdixcwdiY2Mln6OtKisr8fLlS2RnZyM7OxsvX75EZWWl5ONyhIyMDGzZsgXde3Sv93M5ceIE/P3P3zZdk7GNiIiIiIiI5EAQGNuUhLGNSEYY24jI2VksFkRFR2HHzh2YOHECvFp72SWwde3WFV+FfIVLly6hsKhQ8nk2RlFRER4+fAi1RoO7KpWIWqNB8qNkFJeUSD5OR70uwsLC8Nnnn8HN3a3O5/fDsR82OJwythEREREREZEcCAJjm5IwthHJCGMbETkjQRBw+MhhzPxiJtq1b2eXuObh6YEJEyZgz949SEhIkHyOTWE2mxEXF1cnsL1JQkICLBaL5ON2lMzMTGza9AP82vmJPueubq5Y8fWKd57pxthGREREREREciAIjG1KwthGJCOMbUTkDHJzc/Hnn39iyVdL0LNXT7vEtVYurdCzV08sXboUV65eQXFxseTztAez2Yz79+/Xu5JNo9VCo9XWu9LtwYMHTh3cgH9X+u3ZuwftO7QXvQ46duqIM2fOvPFxjG1EREREREQkB4LA2KYkjG1EMsLYRkQtkclkwu3bt7F+/XoMGTLEbnHNy8sTkz+ajJ9//hlJyQ8ln6e91RfatFodjMZwhIdHiBiMRmi0WtHHxsXFOX1wA6qQl5eHpUuXwsXVRfT6+Hrl1/WeZcfYRkRERERERHIgCIxtSsLYRiQjjG1E1BJYLBZEREZg+/btGD9+PLy8PO0W2AICArDi6xW4ceMGSktLJZ+rI6Wlp4vimV5vqBPZatPp9aLHZGZmSj6P5nLv3j2MGDmizllute8BYxsRERERERHJgSAwtikJYxuRjDC2EZFcPX78GL8c/gWfff4Z/Px87RbXfNr64JNPPsGBAweQkpIi+Tybi9VqhTE8vDqa6fT6d4a26uCmex3coqKjJZ9Lc7JYLAgN3Sh6DfXuHYCsrKzqj2FsIyIiIiIiIjkQBMY2JWFsI5IRxjYikovs7GycOXMGixYvQo+ePewW1zw8PfDh2A+xZcsWGAwGmM1myecqhdy8vOpgplKrGxzawsMjYDSGi1a3FRYWSj6f5nbp0iX4+PhUv66GDn0fhUX/3gfGNiIiIiIiIpIDQWBsUxLGNiIZYWwjIqmUlJQgLCwMa9euxaDBg+wW11q5tMKAgQOwes1q3LhxA8XFxZLPVQ4SExNfr2rTNXxV2ytana768Y8VtCKwpvv378On7evgNnHiBFRWVjK2ERERERERkSwIAmObkjC2EckIYxsRNRez2Yzw8HD8+OOPGDduHDw97XfuWtduXbFg4QL8cfoPRZ0pZovY2NjqWGYwGG2ObXqDofrxiYmJks9HKiqVSvTaXb1mNWMbERERERERyYIgMLYpCWMbkYwwthGRIyUlJ+HgoYOY8dkM+Pra79w1X19fzJgxAwcPHURScpLk82wJ7t+/36TYZjAYqx//4MEDyedjbxUVFUh99gzhERFQazS4q1JBEARYrdY6H3v+/HnR6/HW7VuMbURERERERCQ5QWBsUxLGNiIZYWwjInvKysrCH6f/wIKFC9Cteze7nrs2btw4/PjjjwgPD1fsuWtN8eDBg6atbNO/Xtn28OFDyedjL+Xl5UhMTIRKrRadS/dKTEwMLBZLncetW7eu+uYnSM4AACAASURBVPU5bdo0xjYiIiIiIiKSnCAwtikJYxuRjDC2EVFTFBcX48aNG1izdg0GDBxg13PXBg0ehLVr1+LmzZsoKSmRfK4t3eOUlOqApNXqbI5tGq22+vGpqamSz8ceysvLER4RUW9kqyk+Pr7OCrf8/Hx4+3jXed0ythEREREREZFUBIGxTUkY24hkhLGNiGxRUlKC27dvIzR0I0aNHgUPTw+7xbXuPbpj0eJFOHPmDLKzsyWfq7MpKSkRBSSjMbzBoc1oDK9+nEqtRnl5ueTzaaqysrI6oU2j0UJvMNQ5q06t0eBxSkqda6z4egVjGxEREREREcmGIDC2KQljG5GMMLYR0dvUjGsjR42Eu4e73eKan58vPvv8Mxz65RAeP34s+VyVICYm5nVY0mobHNo0mter2hISEiSfhz3cu3dPFNretbWmXm+os8JSEAS4uLowthEREREREZEsCAJjm5IwthHJCGMbEdVUXFyMW7duYePGbzBi5Ai7xjVPT0+MHz8e27dvR0RkRL3nYJFj5ebmildyabVvXeFWO7TdValQUFAg+TyaqrCw0KbQ9kpKPavbJkyYwNhGREREREREsiAIjG1KwthGJCOMbUTK5si41sqlFYYMGYL169fj9u3bKC0tlXy+VIWnqami0KRSq6HT6UXRzWgMh06nh0qtFn1sRkaG5OO3h8TExNfn1+kafn5dREQkKisrRdfatOkHxjYiIiIiIiKSBUFgbFMSxjYiGWFsI1KW4uJihIWF4ZtvvsHwEcPtHtd69uqJJV8twZ9//omcnBzJ50v1S60V3GqGt9qBzdlCW2VlpWiOtpxdFx4egby8l6Lr3b59m7GNiIiIiIiIZEEQGNuUhLGNSEYY24icW+245ubuZte41rFTR3wx6wscPnK43i32SL6eP38Og9FYb1iryRgejsysLMnHay9FRUXVc1NrNDaFtvDwCDx7lia6XmFRIWMbERERERERyYIgMLYpCWMbkYwwthE5l6KiIty8eRMbNmzAB8M/sHtc69S5E2bNmoVDvxxCQkKC5POlprFarcjJyUFMTAzUGo0oQsXFxSE3Lw9Wq1XycdpTfn7+6zPrNFqbY1t8fN3Xff8B/au/RgICAiSfIxERERERESmTIDC2KQljG5GMMLYRtWzNGdcSExMlny85lsVigcVikXwcjlRYWNiklW0REZF1AuT06dOrv2Z69Owh+RyJiIiIiIhImQSBsU1JGNuIZISxjahlKSoqwo0bN7B+/XoM+2CY3eNaZ//OCAoKwi+Hf2FcI6dkMpnE22TaeGab0RiO8vJy0TX/b+n/VX8NdenaRfI5EhERERERkTIJAmObkjC2EckIYxuRvBUWFTZbXHv4kHGNlCEqKqo6tun1Bptim06nR1FRkeh6W3/cKloNKvX8iIiIiIiISJkEgbFNSRjbiGSEsY1IXgqLCnH9+vV/49qwYXB1c2VcI7KzF5mZ1bFNpVY3eHWb0RgOlVqNnJwc0fWOHT9W/TXWrn07yedHREREREREyiQIjG1KwthGJCOMbUTSysvLw5WrVxwW1/z9/TF7dhAOHzmMpOSHks+XSA4sFgu0Op3o7LZ3BTejMRxqtQZ3VSqkZ2SIrnfr1q3qr7m2vm0lnx8REREREREpkyAwtikJYxuRjDC2ETUvQRBw4sQJLPlqCQL7Bto1rDGuETVcVlaW6Ow2tVpT75aSRmM49HoDVGp19cempqaKrqXT6aq/Br19vCWfGxERERERESmTIDC2KQljG5GMMLYROY7ZbEZUdBR+/vlnzPxiJvz9/R0S1+bMmY0jR48gKTlJ8jkTtSS1g9urbSU1Wi20Oh00Wq0osr3685LSUtF1oqKiqr8m23i3kXxeREREREREpEyCwNimJIxtRDLC2EZkP8XFxbhz5w42bdqEiRMnwNvHm3GNSOaysrOh1mjqRLf6aLRa5Obl1blGXFxc9ddo6zatJZ8TERERERERKZMgMLYpCWMbkYwwthE13osXL3D+/HmsXLUSQ4e+Dzd3NwfFtTk4evQoHj1KlnzORM6osrISaWlpMIaH1xvZwiMikJ6RgcrKynof/+hRcvXXrFdrL8nnQ0RERERERMokCIxtSsLYRiQjjG1EDWO1WpGQkICjR49i3vx56PVeL7uHtVYurdClC+MakVSsVivyCwqQlZWF58+fIys7GwUFBbBarW99XGpq6uvY5uUp+TyIiIiIiIhImQSBsU1JGNuIZISxjah+5eXl0Ov12LlrJ6ZPn4527ds5JK716dMHixYvwvHjx/H48WPJ501EtsvMzKz+mvb09JR8PERERERERKRMgsDYpiSMbUQywthG9K/8/Hxcu3YN33zzDUaPGQ0vL0+7hzV3D3cMHzEc69atw+W/LiMnJ0fyeRNR073Mf1n9de7h6SH5eIiIiIiIiEiZBIGxTUkY24hkhLGNlOrp06c4eeokQkJC0K9/P4esWmvr2xZTpk7Btm3boFKpUFpaKvm8icj+SkpKRFFd6vEQERERERGRMgkCY5uSMLYRyQhjGymBxWLBvXv3sH//fgQFBaFL1y4OiWtdu3XFnDmzcfDQQcTGxsJisUg+dyJyPMY2IiIiIiIikgNBYGxTEsY2IhlhbCNnVFJSgr//+RtbtmzBpMmT4NPWx+5hzcXVBQMHDcSyZctw+vRppKWlST5vIpJGfn4+t5EkIiIiIiIiyQkCY5uSMLYRyQhjGzmD1NRUnD17FqvXrMawYcPg5u5m97jm1doLY8eNxbffhuLmzZsoKCiQfN5EJA+5ubmMbURERERERCQ5QWBsUxLGNiIZYWyjlqakpAQqlQo7du7AjBkz4O/v75AtITt07IAZM2Zgz949MBqNqKiokHzuRCRPmVmZ1d87PD09JR8PERERERERKZMgMLYpCWMbkYwwtpGcWa1WJCU/xH//+1/83//9HwYPGeyQVWutXFqhd+8ALFi4AL/99huSkh9KPnciajkyMjIY24iIiIiIiEhygsDYpiSMbUQywthGcpKfn4+wsDBs2rQJH035CH7t/BwS1tzc3TBs2DCsXrMaFy9eRFZWluRzJ6KWKzU19fWWs16eko+HiIiIiIiIlEkQGNuUhLGNSEYY20gqZrMZMTExOHzkML5c8CUCAwMdEtZaubSCj48PJk2ehC1btuCfu/+gpKRE8vkTkfNISUkRne8o9XiIiIiIiIhImQSBsU1JGNuIZISxjZpLZmYmLv91Gd988w3GjRsHbx9vh8W1Ll38ERQUhAMHDuDevXswm82Sz5+InFdSchJjGxEREREREUlOEBjblISxjUhGGNvIEcrLy2E0GvHTTz8hKCgIPXr2cFhY8/T0xIiRI7B6zWqcPXsWz549k3z+RKQsCQnx1d+TWrdpLfl4iIiIiIiISJkEgbFNSRjbiGSEsY3s4enTpzhz5gxWrlqJD4Z/AE9PT4fFtZ69emLOnNn4z3/+g4iICJSXl0s+fyJSttjYWMY2IiIiIiIikpwgMLYpCWMbkYwwtpGtiouLcVd1F9t3bMenn36Kzv6dHRbWvH28MX78eGzc+A3+uvIXsrKyJJ8/EVFtDx48YGwjIiIiIiIiyQkCY5uSMLYRyQhjG72N1WrFw4eJOH78OEJCQjBo8CC4urk6LK4F9g3EgoULcOToEcTGxsJisUh+D4iI3uXRo2Se2UZERERERESSEwTGNiVhbCOSEcY2qiknJwc3b97Epk0/YPJHk+Hn5+uwsObXzg9Tpk7B5s2bcevWLRQUFEg+fyKixkhNTX0d27w8JR8PERERERERKZMgMLYpCWMbkYwwtilXQUEB7vx9Bzt27sDML2aiR88eDgtrbu5ueP/9IVi2bBlOnDyBpOQkyedPRGQvmZmZ1d/vPD09JR8PERERERERKZMgMLYpCWMbkYwwtilDcXExNBoN9u3bhzlzZqN37wCHhbVWLq3g7++Pzz7/DLt274JGo0Fpaank94CIyFFycnIY24iIiIiIiEhygsDYpiSMbUQywtjmfEwmE4xGIw4cOID5X85H33594eLq4rCw5uXliZGjRmLN2jU4d+4c0tLSJL8HRETNqWZs8/D0kHw8REREREREpEyCwNimJIxtRDLC2NayVVRUIDo6GoePHMbiJYsxeMhguHu4O3TVWq/3emHOnDnYv38/IiIjUFFRIfl9ICKSEmMbERERERERyYEgMLYpCWMbkYwwtrUcZrMZcXFxOHbsGJYtW4Zhw4bB09PToWHNx8cH48ePR2joRly5egXZ2dmS3wciIrlhbCMiIiIiIiI5EATGNiVhbCOSEcY2ebJarUhKfohTf5zCylUrMWr0KLTxbuPQsObu4Y733x+CkJAQ/Prrr4iLi4PFYpH8XhARyR1jGxEREREREcmBIDC2KQljG5GMMLbJgyAI+PPPP7F+/XqMGzcOPm19HBrWXN1cMWDgACxYuACHfjmEiMgIlJWVSX4fiIhaIsY2IiIiIiIikgNBYGxTEsY2IhlhbGt+6enpuHTpEkJDN2LS5Elo176dQ8NaK5dW6NOnD4KDg/Hzzz9Dp9OhpKRE8vtAROQsGNuIiIiIiIhIDgSBsU1JGNuIZISxzbGysrJw7do1bNq0CdM+nobO/p0dHtZ6vdcLs2bNwu49u3FXdReFhYWS3wciImfG2EZERERERERyIAiMbUrC2EYkI4xt9pOZmYkbN25g27ZtmPHZDHTt1tXhYa1rt66Y8dkMbNu2Dbdu3UJeXp7k94GISGkY24iIiIiIiEgOBIGxTUkY24hkhLGtcZ48eYKLFy/i229DMXXaVPj7+zs8rHXq3AnTPp6GTZs24dq1a8jMzJT8PhAREWMbERERERERyYMgMLYpCWMbkYwwtr2dxWJBQkICTv1xCmvWrsH48ePh5+fr8LDm184PkyZPQmjoRly6fAnp6emS3wsiIqofYxsRERERERHJgSAwtikJYxuRjDC2vVZeXo6o6Cj8+uuvWLZsGYaPGI7WbVo7PKz5tPXB+PHjsX79evz5558QBEHye0FERA3H2EZERERERERyIAiMbUrC2EYkI0qNbUVFRdBqtdi/fz8WLFyAQYMHwd3D3eFhrXWb1hg1ehRWrlqJU3+cQlLyQ1itVsnvBxERNR5jGxEREREREcmBIDC2KQljG5GMKCG25ebm4s6dO9i5aydmzw5Cnz594OLq4vCw5unpiWEfDMOyZctw7NgxxMXFwWw2S34/iIjIvhjbiIiIiIiISA4EgbFNSRjbiGTE2WKbxWLBzZs3sXnzZsyYMQPdundzeFRr5dIKbbzbYOSokVi+Yjl+//133Lt3DxUVFZLfDyIicjzGNiIiIiIiIpIDQWBsUxLGNiIZcabYlpT8EP3693N4WPNr54cJEyZg/fr1OH36NJKSH8JisUg+fyIikgZjGxEREREREcmBIDC2KQljG5GMOFNs+2jKR3YPa126+GP69On44YfvcenyJTx79kzyeRIRkbwwthEREREREZEcCAJjm5IwthHJiDPFtnbt2zUprAUEBGDWrFnYvmM7wsLCkJ2dLfmciIhI/hjbiIiIiIiISA4EgbFNSRjbiGTEmWLbsGHDGhTV3NzdMGDgAMz/cj5+/vlnqNVqFBYWSj5+IiJqmRjbiIiIiIiISA4EgbFNSRjbiGTEmWJbbGwsvH28RWHNy8sTw4YNQ0hICA4fOYyIyAiYTCbJx0pERM6DsY2IiIiIiIjkQBAY25SEsY1IRpwptgFVKCwqxOnTp3Hy1EnExcWhsrJS8jEREZFzY2wjIiIiIiIiORAExjYlYWwjkhFni21ERETNjbGNiIiIiIiI5EAQGNuUhLGNSEYY24iIiJqGsY2IiIiIiIjkQBAY25SEsY1IRhjbiIiImoaxjYiIiIiIiORAEBjblISxjUhGnC22mc1mlJWVoby8HBaLRfLxNEVlZSXKyspQUVEBq9Uq+XiIiKh+jG1EREREREQkB4LA2KYkjG1EMuIMsa2yshJp6ekwhofjrkolEhMTg5ycnBYTq0wmEwRBgFanE81DpVYjMTERBYWFko+RiIjEGNuIiIiIiIhIDgSBsU1JGNuIZKQlxzar1YrHjx9DrdHUiWy1GYxGZGVlST7mN6moqMCDBw/eOY+7KhWioqNR6MDoVllZiWdpaYiIjIRWp4NKrYZWp0NkZCTS0tNRWVkp+f0iIpITxjYiIiIiIiKSA0FgbFMSxjYiGWmpsc1qtSI+Pr7eGKVSq6FSq+v9sxeZmZKPvbaKigpEREbWOw+1WlPvXDRard2DW0VFBR4+fPjOeKnWaJD8KJnRjYjofxjbiIiIiIiI/p+9+2yMomr4MP452E0PvTfpHewIgohYUAERRAUpKkUQQUURQVH0tgOCoNhQeOwgJYQAUkQBQYYqBAglgZCE7O7/eaGEzCaBbbMzm7le/N7ctySzs7uTM+eaOQMnMAxim5sQ2wAHScTY5vP5KoS2devXKzt7o3JyNmnTps3atGmzcnI2acOG7AqxyknBrbi4uEJoW5+VpY0bc8pex+XXEry0ZCyDW1XB71p32BHcAIDYBgAAAABwBsMgtrkJsQ1wkESMbYePHDFFnw0bsk1hKlhOzqYKd2sVFhba/jqkQIVomL1x4zVfS/l4uCE7Wz6fL6ptKC4u1ubNm80hb31WhW3Jzt5YYT8S3ACA2AYAAAAAcAbDILa5CbENcJBEi21+v18bc3JCDm1VBbe///7b9tdysajI/Fy5oLvZQg1u0T6Lbvv27WEFv+zsjab/fufOnbbvSwCwE7ENAAAAAOAEhkFscxNiG+AgiRbbTp06ZXqmWShx6rKNG69EuvVZWSotLbX1tRiGYdqecF7Lhuzssn+7bdu2iLehoKAgouAXHNyccqcgANiB2AYAAAAAcALDILa5CbENcJBEi207d+4M+6628srf3Xb8+HFbX0v5Z7CFGrnK391WPnZduHAhom3Ys2dP2c/IytoQ1jasz8py1J2CAGAXYhsAAAAAwAkMg9jmJsQ2wEESLbZt3rKlLPDk5GwKO7Zt2HDljrADBw/a9jpKS0sjvkOvstiVd/p02Ntw6dIl03KU4e7P4DsFo312HAAkKmIbAAAAAMAJDIPY5ibENsBBEi22bczZGFVsK7/84d/799v2OoqLi6OObVlZV+6Mi+S5befPny/79+vWr49oG8rHuosXL9r++QAAOxDbAAAAAABOYBjENjchtgEOkmixbdPmzbG7s+3AAdteR8zvbMvLC3sbzp49e+XOtPXhPTPusvLLchYUFNj++QAAOxDbAAAAAABOYBjENjchtgEOkmixbceOHWVxJzt7Y/iBav2VQPXPP//Y+lrKx7KNOeE/s638XWWRhK78/Pyo72wrH9sifW4cACQ6YhsAAAAAwAkMg9jmJsQ2wEESLbYdP378SiBaF14gysnZZLqbrKSkxNbXsnff3rLtycraEPFymJs2b47o91+8eLHsZ0Ryp2D5/blm7Vrb9ycA2IXYBgAAAABwAsMgtrkJsQ1wkESLbT6fT1kbNkR0d1v5O8l2795t+2s5f+GCKVZt3Bja3W3Bd7VFc4felt9+i/hOwfJLcu7YscP2/QkAdiG2AQAAAACcwDCIbW5CbAMcJNFimxSQceCAKVKFEomysjaY/o1Tni9WflnMtWvXXTO45eRsMi3duD4rS6WlpRH//vJ3Cq5dty7ku9uCg9/JU6ds35cAYBdiGwAAAADACQyD2OYmxDbAQRIxtl26dElbt241xbOsrA2VPvcse+NGU5xas3atDhw4YPtruOzChQvakJ1t2r4NG7IrRK+cnE3Kzt5oClxr162LOnIF3ym4bv36awa34OC3ceNG+f1+2/clANiF2AYAAAAAcALDILa5CbENcJBEjG3Sf8Ftmzm4XY5F67OytH59lilMOTG0XVZYWKjsjRuv+lqC/79YhLbLck+cMP/edeuVvbHyuwUrC355eXm270MAsBOxDQAAAADgBIZBbHMTYhvgIIka26R/g9vOnTsrhKjKrFu/XocOHbJ9m6tSWFioTZs3h/RasjZsiPmyjbm5uZUGvaysDcrasEFZWRsqxMu169bpFMtHAgCxDQAAAADgCIZBbHMTYhvgIIkc2y47f/689u7bW2G5yDVr12pjTo4OHz6skpIS27czFGfOnNEff/xRaWT7betWHc/Nlc/ns+R3nzhxotK7AauKl4Q2APgXsQ0AAAAA4ASGQWxzE2Ib4CDVIbZddunSJRUUFOjMmTM6e/aszp8/n7DPEisuLlZ+fr5Onzmjc+fOqbCwMC6/t6SkRIcPH9bGnJxKI1vOpk06cuSILl26ZPs+AgCnILYBAAAAAJzAMIhtbkJsAxykOsU2xI7f79eZM2eUm5urf/75R7m5uTp79mzCxksAsBKxDQAAAADgBIZBbHMTYhvgIMQ2AACiQ2wDAAAAADiBYRDb3ITYBjgIsQ0AgOgQ2wAAAAAATmAYxDY3IbYBDkJsAwAgOsQ2AAAAAIATGAaxzU2IbYCDENsAAIgOsQ0AAAAA4ASGQWxzE2Ib4CDENgAAokNsAwAAAAA4gWEQ29yE2AY4CLENAIDoENsAAAAAAE5gGMQ2NyG2AQ5CbAMAIDrENgAAAACAExgGsc1NiG2AgxDbAACIDrENAAAAAOAEhkFscxNiG+AgxDYAAKJDbAMAAAAAOIFhENvchNgGOAixDQCA6BDbAAAAAABOYBjENjchtgEOQmwDACA6xDYAAAAAgBMYBrHNTYhtgIMQ2wAAiA6xDQAAAADgBIZBbHMTYhvgIMQ2AACiQ2wDAAAAADiBYRDb3ITYBjgIsQ0AgOgQ2wAAAAAATmAYxDY3IbYBDkJsAwAgOsQ2AAAAAIATGAaxzU2IbYCDENsAAIgOsQ0AAAAA4ASGQWxzE2Ib4CDENgAAokNsAwAAAAA4gWEQ29yE2AY4CLENAIDoENsAAAAAAE5gGMQ2NyG2AQ5CbAMAIDrENgAAAACAExgGsc1NiG2AgxDbAACIDrENAAAAAOAEhkFscxNiG+AgxDYAAKJDbAMAAAAAOIFhENvchNgGOAixDQCA6BDbAAAAAABOYBjENjchtgEOQmwDACA6xDYAAAAAgBMYBrHNTYhtgIMQ2wAAiA6xDQAAAADgBIZBbHMTYhvgIMQ2AACiQ2wDAAAAADiBYRDb3ITYBjgIsQ0AgOgQ2wAAAAAATmAYxDY3IbYBDkJsAwAgOsQ2AAAAAIATGAaxzU2IbYCDENsAAIgOsQ0AAAAA4ASGQWxzE2Ib4CDENgAAokNsAwAAAAA4gWEQ29yE2AY4CLENAIDoENsAAAAAAE5gGMQ2NyG2AQ5CbAMAIDrENgAAAACAExgGsc1NiG2AgxDbAACIDrENAAAAAOAEhkFscxNiG+AgxDYAAKJDbAMAAAAAOIFhENvchNgGOAixDQCA6BDbAAAAAABOYBjENjchtgEOQmwDACA6xDYAAAAAgBMYBrHNTYhtgIMQ2wAAiA6xDQAAAADgBIZBbHMTYhvgIMQ2AACiQ2wDAAAAADiBYRDb3ITYBjgIsQ0AgOgQ2wAAAAAATmAYxDY3IbYBDkJsAwAgOsQ2AAAAAIATGAaxzU2IbYCDENsAAIgOsQ0AAAAA4ASGQWxzE2Ib4CDENgAAokNsAwAAAAA4gWEQ29yE2AY4CLENAIDoENsAAAAAAE5gGMQ2NyG2AQ5CbAMAIDrENgAAAACAExgGsc1NiG2AgxDbAACIDrENAAAAAOAEhkFscxNiG+AgxDYAAKJDbAMAAAAAOIFhENvchNgGOAixDQCA6BDbAAAAAABOYBjENjchtgEOQmwDACA6xDYAAAAAgBMYBrHNTYhtgIMQ2wAAiA6xDQAAAADgBIZBbHMTYhvgIMQ2AACiQ2wDAAAAADiBYRDb3ITYBjgIsQ0AgOgQ2wAAAAAATmAYxDY3IbYBDkJsAwAgOhcvXiz7W1qzVk3btwcAAAAA4E6GQWxzE2Ib4CDENgAAovf4yMdVp24dvTnvTdu3BQAAAADgToZBbHMTYhvgIMQ2AAAAAAAAAEh8hkFscxNiG+AgxDYAAAAAAAAASHyGQWxzE2Ib4CDENgAAAAAAAABIfIZBbHMTYhvgIMQ2AAAAAAAAAEh8hkFscxNiG+AgxDYAAAAAAAAASHyGQWxzE2Ib4CDENgAAAAAAAABIfIZBbHMTYhvgIMQ2AAAAAAAAAEh8hkFscxNiG+AgxDYAAAAAAAAASHyGQWxzE2Ib4CDENgAAAAAAAABIfIZBbHMTYhvgIMQ2AAAAAAAAAEh8hkFscxNiG+AgxDYAAAAAAAAASHyGQWxzE2Ib4CDENgAAAAAAAABIfIZBbHMTYhvgIMQ2AAAAAAAAAEh8hkFscxNiG+AgxDYAAAAAAAAASHyGQWxzE2Ib4CDENgAAAAAAAABIfIZBbHMTYhvgIMQ2AAAAAAAAAEh8hkFscxNiG+AgxDYAAAAAAAAASHyGQWxzE2Ib4CDENgAAAAAAAABIfIZBbHMTYhvgIMQ2AAAAAAAAAEh8hkFscxNiG+AgxDYAAAAAAAAASHyGQWxzE2Ib4CDENgAAAAAAAABIfIZBbHMTYhvgIMQ2AAAAAAAAAEh8hkFscxNiG+AgxDYAAAAAAAAASHyGQWxzE2Ib4CDENgAAAAAAAABIfIZBbHMTYhvgIMQ2AAAAAAAAAEh8hkFscxNiG+AgxDYAAAAAAAAASHyGQWxzE2Ib4CDENgAAAAAAAABIfIZBbHMTYhvgIMQ2AAAAAAAAAEh8hkFscxNiG+AgxDYAAAAAAAAASHyGQWxzE2Ib4CDENgAAAAAAAABIfIZBbHMTYhvgIMQ2AAAAAAAAAEh8hkFscxNiG+AgxDYAAAAAAAAASHyGQWxzE2Ib4CDENgAAAAAAAABIfIZBbHMTYhvgIMQ2AAAAAAAAAEh8hkFscxNiG+AgxDYAv3+tZQAAIABJREFUAAAAAAAASHyGQWxzE2Ib4CDENgAAAAAAAABIfIZBbHMTYhvgIMQ2AAAAAAAAAEh8hkFscxNiG+AgxDYAAAAAAAAASHyGQWxzE2Ib4CDENgAAAAAAAABIfIZBbHMTYhvgIMQ2AAAAAAAAAEh8hkFscxNiG+AgxDYAAAAAAAAASHyGQWxzE2Ib4CDENgAAAAAAAABIfIZBbHMTYhvgIMQ2AAAAAAAAAEh8hkFscxNiG+AgxDYAAAAAAAAASHyGQWxzE2Ib4CDENgAAAAAAAABIfIZBbHMTYhvgIMQ2AAAAAAAAAEh8hkFscxNiG+AgxDYAAAAAAAAASHyGQWxzE2Ib4CDENgAAAAAAAABIfIZBbHMTYhvgIMQ2AAAAAAAAAEh8hkFscxNiG+AgxDYAAAAAAAAASHyGQWxzE2Ib4CDENgAAAAAAAABIfIZBbHMTYhvgIMQ2AAAAAAAAAEh8hkFscxNiG+AgxDYAAAAAAAAASHyGQWxzE2Ib4CDENgAAAAAAAABIfIZBbHMTYhvgIOVj2+tzX5dhGICjZGdna82aNUDM/fjTj7ZvA6oXPlOA/fgeOt+va37lfXII3of4WrVqlX755RfbtwOoCscEWGH16tXasWOH7XNLbrJq1Spim4sQ2wAHGT9hfNkBGAAAAAAAAACQ+Hr17mX73DOsRWwDHOSFF563/cAPAAAAAAAAAIide+69x/a5Z1iL2AY4yKFDh3Tvffepa7eugOOkpKaUDRAyMjOUWTMTiFpaelrZ5yopOcn27UHiy8jMKPtMebwe27cHcKP0jHSO7QmAv8HOkZySXPZepKWn2b491V1aWmrZ/k5JTbF9e4Bg5Sfn7d4WVB/lj331G9S3fY7Jbfr27asN2dm2zz3DWsQ2wGFKSkpUUFAAOE7bdm3LBma5ubm2bw+qh9W/ri77XD3w4AO2bw8S34kTJ8o+U23btrV9ewA3+m3rb2Xfw759+9i+Pahc+WeIDBo0yPbtcbNhw4aVvRffffed7dtT3c2fP79sf0+ZMsX27QGCpab+G0UaNGxg+7ag+liwcEHZse+ZZ56xfXvcpqioyPY5Z1iP2AYACEn7Du3LBmbnz5+3fXtQPeTk5JR9roYMGWL79iDxXbhwoewz1a59O9u3B3CjPXt2l30P+93Zz/btQeWys7PL3qehQx+yfXvc7NHHHi17L1b/utr27anulixdUra/p0+fZvv2AMEux7aGjRravi2oPj797NOyY99zz021fXuA6ojYBgAICbENViC2IdaIbYD9iG2JgdjmHMS2+CK2wemIbbACsQ2wHrENABASYhusQGxDrBHbAPsR2xIDsc05iG3xRWyD0xHbYAViG2A9YhsAICTENliB2IZYI7YB9iO2JQZim3MQ2+KL2AanI7bBCsQ2wHrENgBASIhtsAKxDbFGbAPsR2xLDMQ25yC2xRexDU5HbIMViG2A9YhtAICQENtgBWIbYo3YBtiP2JYYiG3OQWyLL2IbnI7YBisQ2wDrEdsAACEhtsEKxDbEGrENsB+xLTEQ25yD2BZfxDY4HbENViC2AdYjtgEAQkJsgxWIbYg1YhtgP2JbYiC2OQexLb6IbXA6YhusQGwDrEdsAwCEhNgGKxDbEGvENsB+xLbEQGxzDmJbfBHb4HTENliB2AZYj9gGAAgJsQ1WILYh1ohtgP2IbYmB2OYcxLb4IrbB6YhtsAKxDbAesQ0AEBJiG6xAbEOsEdsA+xHbEgOxzTmIbfFFbIPTEdtgBWIbYD1iGwAgJMQ2WIHYhlgjtgH2I7YlBmKbcxDb4ovYBqcjtsEKxDbAesQ2AEBIiG2wArENsUZsA+xHbEsMxDbnILbFF7ENTkdsgxWIbYD1iG0AgJAQ22AFYhtijdgG2I/YlhiIbc5BbIsvYhucjtgGKxDbAOsR2wAAISG2wQrENsQasQ2wH7EtMRDbnIPYFl/ENjgdsQ1WILYB1iO2AQBCQmyDFYhtiDViG2A/YltiILY5B7EtvohtcDpiG6xAbAOsR2wDAISE2AYrENsQa8Q2wH7EtsRAbHMOYlt8EdvgdMQ2WIHYBliP2AYACAmxDVYgtiHWiG2A/YhtiYHY5hzEtvgitsHpiG2wArENsB6xDQAQEmIbrEBsQ6wR2wD7EdsSA7HNOYht8UVsg9MR22AFYhtgPWIbACAkxDZYgdiGWCO2AfYjtiUGYptzENvii9gGpyO2wQrENsB6xDYAQEiIbbACsQ2xRmwD7EdsSwzENucgtsUXsQ1OR2yDFYhtgPWIbQCAkBDbYAViG2KN2AbYj9iWGIhtzkFsiy9iG5yO2AYrENsA6xHbAAAhIbbBCsQ2xBqxDbAfsS0xENucg9gWX8Q2OB2xDVYgtgHWI7YBAEJCbIMViG2INWIbYD9iW2IgtjkHsS2+iG1wOmIbrEBsA6xHbAMAhITYBisQ2xBrxDbAfsS2xEBscw5iW3wR2+B0xDZYgdgGWI/YBgAICbENViC2IdaIbYD9iG2JgdjmHMS2+CK2wemIbbACsQ2wHrENABCSjp06lg3MCgsLbd8eVA+bN29mog8xdfHixbLPVIeOHWzfHsCN/tr7V9n3sP9d/W3fHlSu/AUvDz/8sO3b42aPj3y87L1Ys3aN7dtT3ZWfcH7hhedt3x4gWFp6mmp4aqhx48a2bwuqj2XLlnGhAWAxYhsAICRTp05VDU8N9e7d2/ZtQfVRXFysJk0aq4anhj5Z8ont24PqoU+fPqrhqaEpU6bYvi2AG/l8PrVt21Y1PDX0zjvv2L49qFxRUZEaN/73b/CSpUts3x43W758uWp4aqhBwwYqKCiwfXuqu2PHjik9I13JKclat26d7dsDBBs0eJBqeGro8ZGP274tqD5yc3PLjn1r1661fXuA6ojYBgAI2Z49u1VaWmr7dqB6KSwslGEYtm8Hqo/S0lLt2bPb9u0A3Ky4uFj79u21fTtwdfwNdo6DBw+yVHscnTt3TkePHrV9O4DK+P1+7d7NWBaxx7EPsBaxDQAAAAAAAAAAAIgQsQ0AAAAAAAAAAACIELENAAAAAAAAAAAAiBCxDQAAAAAAAAAAAIgQsQ0AAAAAAAAAAACIELENAAAAAAAAAAAAiBCxDQAAAAAAAAAAAIgQsQ0AAAAAAAAAAACIELENAAAAAAAAAAAAiBCxDQAAAAAAAAAAAIgQsQ0AAAAAAAAAAACIELENAAAAAAAAAAAAiBCxDQAAAAAAAAAAAIgQsQ0AAAAAAAAAAACIELENAAAAAAAAAAAAiBCxDQAAAAAAAAAAAIgQsQ0AAAAAAAAAAACIELENAAAAAAAAAAAAiBCxDQAAAAAAAAAAAIgQsQ0AAAAAAAAAAACIELENAAAAAAAAAAAAiBCxDQAAAAAAAAAAAIgQsQ0AAAAAAAAAAACIELENAAAAAAAAAAAAiBCxDQAAAAAAAAAAAIgQsQ0AAAAAAAAAAACIELENAAAAAAAAAAAAiBCxDQAAAAAAAAAAAIgQsQ0AAAAAAAAAAACIELENAAAAAAAAAAAAiBCxDQAAAAAAAAAAAIgQsQ0AAAD4z5kDKzV59EiNHDVSo554Uis3X7Dsd/l8h/TRS+M0ctRIjRw1SjPfz1ZpwP59kGjbCAAAAGtYORb0+85pR9ZKzX9njqY9O0lPjhujJ5+eoOemv6IPPv5Sm/48zrgTQEIhtgEAAAAKKCCfVr3RX0meGqrhqSGvJ1OzPjtj2e87te8ddUjzqsZ/v++2Bz9RscMmFBJhGwEAAGANK8aChWd36b0XH1K7Jhny/PdzK+PxJKtZ2956/o3vdOKi3/Z9AQDXQmwDAAAAFFCp74Am9K5fdoJvZWwLyKdf3xyg5HITCk4LWYmwjQAAALBGrMeCAfm1P+dd9W5Ts8rAVjmPWnYYom+35Nm+TwDgaohtAAAAgAL666dJapjijUtsu3h2tQa2yTBNJDgtZCXCNgIAAMAasRwLBuTX3nUz1aFucpih7YrM2t218NcT8jMWBeBQxDYAAAC43vkTa/VQ19qmE3qrYpvff0qLJt1sukrYaSErEbYRAAAA1oj1WDD/2HLd0Ty9QkCr3bCrHh49VfPeW6Clny3TJ4s+0OyXJmpgn/ZKT6oY3Oo3uk/rDpXYvn8AoDLENgAAALhWQKXat2Wx7u1Sr8LJvBWxLT93q2aNvEFplVyt65SQlQjbCAAAAGvEeiwYUKEWPd297LnIl5/H1uv+t2ScrfxZbAH5tDfnA/VrXztoG7y6Z9RKFTEeBeBAxDYAAAC4gt9XrNMnDumPrRu04stFmj1jvO7r3UZp3sqXqokmtgXkV2HBSe3/a5tW//C13n9zhkY93EeNayZVuTROvENWImwjAAAArBGvsWDhmW/Uu2Gq6ee07f6s9p+vPLSVd/bI1+rbPM18N1zte7TxlM/2/QcAwYhtAAAAcIXtC4dUWArnaqKJbYVnPtX1GVVPVDghZCXCNgIAAMAa8RoL7vlmjGqWu7jN662v2V/khvRvA/JpzVv3KKX8GN1bV69/bc1zlQEgGsQ2AEClAvLr5KHN+mzBO3r15ec18elxGj9pil58ebbmL/k//XHgDA8mRgVnDqzU5NEjNXLUSI164kmt3HwhZj87oGLt/321Fn/wmqZNnahxY8dq/KRnNXP2O/r2p63Ku3jtKyPhbsS2xNtGOIOVx/b8k3/pl5VL9ebsGXp28gSNHTNGT0+YpOdfmqvFy37Q3mMFtr9+IBwB+bR5+St6YtS/35lxT76jA0WMUaxk5TFKCsjvv6B9237U/P+9phenT9FTTz6pic88pznzPtYv2X/p/CX79wEQiXiMBQMq1dcv3GJaQrJWzXuUczr0O9NO739HHVK9piUon5i5w3XzEf7S89qz9Wd9/N7rmvH8sxr/1JN65rmXNO/dj/Xt95tiej7MuTcQGWIbAMDE78vTT0te0J03tlBaJQ8kLj/AbdX5Xs35aI1OF9u/3bBfQD6teqN/2YlUrJ535fef06+fTtPtnRuaTtKC1azXTo9NXCjjTKnt+6IyPt8hLZo9WRMmTigz9fnFOlIc2omK35+n5e9O08Ry/37CxEn68MtdKnXZiWakiG2Jt42wnxXH9oBKtGv9Rxp2V2fVKjd5Vun3MClDnW95SP9bukUXfPbvDyezOjhU5ezh7zVl9CiNHDVSI0eN0sz3s139d6nUt1/jb7vyHNBaGQO1tSCyScmS4vV69KYOatOmdVQ6dXhM2yLcBqezavwpBVRSsE8LX31cnZpmylPlccqj+k16aMzURTpw1pljUKcKyKffVs41jW0nTpquVb+HduwKyK+/1n+oyZMmmMbX02d+ruMhjq/dLj6xrUjvjWxn+g41vW6s9oZxEUJR4TfqWTvFNBcx/Lls+VzwtyYgnw7s+EbTxt6jlvVSr/re1KzXVoNHvaSft52IOERWl3NvwC7ENgBAmdOHftBjvVtedVBVMbolqdPN45X9d6Ht2w97lfoOaELv+jEJFZcVnt6syfe1CyuQNGwxQF9uPOm4Kx0DKtGKl283vRavt65mLD50zW0NqFRZHw9TnSSP6bU2a/OINh29ZPtrSxTHfv9as2bO1MwqTBjWw3T8i+YzXHLxD82fM6vK3zVjxnC1TDNHhniHrETYRtgv1sf2kgv7NG9cT2Vc5YKeyscbyep00zit23Pe9n3iRFYGh6t+Pkr26dl+TU2TqG4/Tpze/646pl+ZvI4mtp07Ol9d08ObCK9MZkp/5Zyrns83smL8KQV0aNt89WlbM6z9XL/Z7Vr481HHjUGd7NiO19Q6vfxYw6PbBs7XuRAursgzPtVtTc3P8kpJaa25y689tsa/4jEWDKhYH47uaPo7Ub/Bw/q9MPTj4rmjC0zHQo8nWWNm/V7t3+ezR9Zp+qO3qGayJ6xjUVJyQw2b+LlOhHlXdXU69wbsQmwDAEgKKG//5+rbKiPik/gGTe/Vqj0ENzf766dJaphy5WQs2smO8yfX67EbG17lSuKrTCrV7qGFq3MdN+gvOPmt+jQxX5HYustUHbzGidChLa+pQ+1k07+rWftWffnbOdtfU3Wy54tHlRqj2HYtwVfoOnGCOhG2EdaL5bG95MIuTbundVgX9QSr1/guff8HwS2YVcHhagIq0opZ/ZQW9B65+TgRUL4+GtfVvFxaFLHt0Prn1Cj56nd/uj22xXr8GZBfe9fNVPs6yRHt67TMdpr75X7HjUGdyu8/pbnD2pjG+6kpnfXZlqvf3VZ8fqvG3Go+T/B6a2nsqxtde/yxQizGggGV6sdZfUzHxeTkNlq0IfQ7GLcseljpQe/1q5+ftn3/WCUgv/Zlva4eTa5+J9vVeDxJuunO13XwfGh/f6rjuTdgB2IbAEBFBZv02A31KgyavN5Mde35oKa+/IYWLF6qxR+/r9dfmaJB/burblrFE/+W7cfpjzPV80QeV3f+xFo91LW2+fMTxWRHaekBzRjYqsJg3+vNVPfewzR95hta8MkSLfhgrsY/fpeaVzIhUrdBf/2yr9j2fVNeQCVaObNP0N1t9TTz0yNVnpwUnPhJA9ubr6xOTm6pOV8c4IQmxohtibeNsFYsj+0BFeiTZ26sENq83kx1ufUBTX7hNc1ftFTLln2qjz/6n6Y/86hu7dSg0jDXpusz2ldNl8SLVKyDQyiMDS+pVWbF8aBbjxMB+bVr9XNqmW7eJ9HEtt8/eVgpUYa26hzbYj3+lAI6vmu+bmpccYI7rWYLDXjoab321oda8tlSLfjgDU0aPVBtGlT8b2vXu0M/7XXWGNTJju14TW2C7m7rPWix8qu4u83vP6n3x5pXI/B4knXX8E91luWGYypWY8GjOTPUNMX8Ht/U/386WXrtf3sh71c9GHQulJlxu1YdKrF9/1glb9/HuqlRxWOLNylTPXoP1bSZ8/Txks+07LNP9N5bszRuxF26rn7F/97jSdZdIz6v8rt0WXU99wbsQGwDAJcLqFDLnrulwmRW/ab99PEP+6t85saxvSv1eO9m8gYN5u4fs1KFLpxgcauASrVvy2Ld26WSWBvxhKxPWfMHK8Nr/nl1Gt6mj385XOna/PnHszT+rlZBn2OPbrzzbeWFcBIXT+dPrVDfJuYlb9p2n64jlypOxJWW7q9w4uP11tKol7JcOZFpNWJb4m0jrGHFsT3399fVJuhCnVr1b9X7K/bqUhWfKb8/X6sWP6nWdZIqbMP4N3ZxwcF/rAgO1/ydeav1YPtalYYdNx4nfKUn9f2CMbquVsX4GGlsC6hU38zoWTa28XhSdN/IN/X+B++H7aOPvtPxS/bvp1ix4hglBVRStENjb2lYYbL6+juma8uBylfwKDy7Qy8N7Rq07JpHt977EeEnRH5/nt4c3tZ8d1tqV32x/WKl7/3aBUNV2+sx7e/ON7+o/VyEEXOxGguW+g7ouTvNSw57Peka8MiHV33mV9G57Xr2nlamOYcaHq/6P/K5zlfT75fPf1QvD2xRIXw1aN5fi385VOX8TOHZXZr71G0VzqGTkprozRUnqvx91f3cG4g3YhsAuNyZQx/r+qDl6eo1uls/7bn2sg7FBds0pmcj81WfaT20/I+KJ0ZIfH5fsU6fOKQ/tm7Qii8XafaM8bqvdxulBQ3Mo53sKCr4VQNbpZuvXsy8WV9svfqSiSXnt2lsz0amE5OkpKb63/d5tu+78gIq1f+9Yr67LSmpkeYuPxH0313QVzP6mJbn8niS1W/oYp2upieXdiO2Jd42InrxOLYHdFELxnUyTZYlJTXT3G+qvqv3yr/1a9cvz6p50N1CrTtP1eFKLlJwE6uCwzU/M/5czRvRscrlQKv7ceJScb7+OfSXctb/pE8XvqVnn35Y17euU+XSW5HHtouaN/y6sp+TnNxaC9a5bwnVeI0/AyrVj6/faRoH1PB4dGO/uTp84ervX2nJXk3p18T0GUhLuVEr9hTZvv8SRe7OuUF3t3nVb/jnuhh0LDm4abba1zJfgNGo+RBlHay+dznZKZZjwbx9Syo8Y6+Gp4bqNLpeU2Yv0dqcXTpZcEnFF05p785f9b+XR6l7i8yg/96jDjdM1u+51feZ1ce3vaqWqeYxT4OmA7Xm72sfTwLK11cv9VN60PGx862zlFtFBKvu595AvBHbAMDFAvLp5zn9TJMlSUkNNXPpwZCvFj++c67aZphPjO4d/X2VV6kjcW1fOCSshyVHNiHr1+ZFD5uurPN6MjX21a1VXsVX3j/b56hNhnmJkpsHvOe4K4vPn16pfs3MJzXder9RtpRKQH7tWPm0GqeaX0uHG57TvnxnTS6XXjyu3zdv0qZN1vp9z7FKr6yMJWJb4m0johePY3tJ8Xrdf535mNflttkhLR8lBRTQOb0xrLV5IjvpRv2fi5YrildwuPZ74dPGxY+odpKnys9IdT5OBHRWL97dKOTvSzSxrdS3X0/3rFv2czJS+2jN8eo7wVyVeByjpIAKz3yv/s3Nx6lGzYdq0z+h7fOjv72iFuXGbR5Pqia+xbPbQuX3n9G84e1MF2VkZtymH/++cpwvyP1e97Y1x5fMmtdryQZnPbsroCIZu36zfGy8ZcsunbX4jtVYjwX/+fMT3d2pXpUXJ3i8nqr/P0+abh0wU7vzqu9xMKASff38zab5Ga+3jl5cFPr8zKWSPzXmxrqmfZea0l3L/6wY69xy7g3EE7ENAFys1HdQE3vXNw3Ermv/jA4UhT4h4Pef0Mz7m5sGxU1ajNaei84KAohePCY7fL5DmnKHefme+g0f0rbToT1nxO/P05wh15k+jxnpPfXDfmdNyAZUqu9evcO0P1OS22hx9r93lJ7cu1A3NTSvu9+g2f1aazjrdUgBndozT21TKy6bFWtde79h+YkbsS3xthHRi8exPXfna2qVWv55Yhma8m54z5388/MRSjdNPjXQvBVXv+q6OolXcLiWE399pB71r6yIUK/xHbr9hpquOU7EM7aVFK/RveXiT5MWo/WXC8fX8brYa/27A03Px/N662vGJ6Efp0pL92jMjXVMk853jviaCxDDkPvHm6aLOD2eZD00eZ1KAwGVluzT9Htamu+iSW6ilz7Z67igWerbq7E31QnrOBGJ9OTbtOqotXf0WTEWLLlwUB8921eZVVwsUvn3Ol2Dn155zWePJTqf75Am9jbfrd6oyaPaGcbfkIB8Wve/e83HM0+6pn90rNLf54ZzbyCeiG0A4GIXz32lnnWuDJ49niQNmbgmpKuYLgvIr+z3BgZFg476bAtLSVY38ZjsOHt4vrpmJJk+k/eP+zGsiYq9/zfO9BwHjydV49/4y3En4oWnv1N/091tXvUf8aXOnMvR4zeaI3hGZnctXufMJTmIbZFJhJCVCNuI6MXj2P7n5yNMS+KmJl2vb8NcXu3o5pfULMVr2o6ZS617JpnTOCG2lRTt0JPllg9PSm6m2V/+qZfua+Sa40Q8Y1t+7mJ1KzcmisffQSeKy8Ve/sMVJpxbdQzvAsSASrVq4SQ9Mny4hv/nubmrq+13wQp+ndFbI9qb7m5r0HiYtp09p8+f711hjDZi+uoKy0w6AbGtaoV52/TK6F6qG8G5g9ebqZ53T9dvB6tvyCkp+lF3Niq/1KZH/YZ/Efb+zv3jdbU23WmbpIcmr6vw37np3BuIF2IbALhY7nbzeuBeT6ZeXhr+hP7BX6eofnL5n5OuaR8etf31IbaO/f61Zs2cqZlVmDCsh3nJiwgmO7YuHmqakPV66+uNb8P7GRfPrdDtDcx3hd004D3HXQkZUKl+mH2H6arDzJo368GBbc1LuyY30vML9zj2hOV87jrNnjpZkydb67UP1qmIZSTjKhG2EdGz+tgekE+/vH6n6Wc0bPyYdoV5h87hrGlqVD62eetq7jfc2Rav2BbQeS2b3rPsb5bHk6x7Ry1Xge+cXnZVbCvSmi9er/L7MnPmDN3VxXynX6Sx7WjODDUt+8x7dfeo78K6IK66iMf4M//4IvWoWX7COVljZv3u2LFXdXZy1zy1y0wqd6yvqbuGDlTDoHDQa+CHIS9FHG9+/0l9+c50y8fGU6e+p70WLy8fy7HgP38u1h1talb+N8ubogZN26hL9+7q3OE6NaybUeVzQes16qvlv1XPi23yj3+sbunmY9GEN/8O+1iUn7vI9HP+/RuyssJ/56ZzbyBeiG0A4GIHfp6kuklXTlySkhrrnR/yw/45x7a+ouZBJ0CDJ6y2/fUhvqINFQEVa8G4TuZnNaTfobXHwluX3+c/qmfvaGAa8Dds/GjYE7vxUHjmhwrPBzFPlmZo2JSfHXnVbnVEbEu8bYT1oj+2+7Tu4yd1e+9e6vWfIaMWKi+MSdKA/Nq8cIhpO1KTu2v5rvDujktk8QgOV9v/u3+arKZpV8Z6LdqN059nfAoo31Wx7dr76qLmDG4Wk9j257JHyiZBPZ5kPT3XecvlOUEs/nb/tWKsanrLH186adk2VumwQ0Bn9b/HzHe3BWvbbZJ2nwltmTtEJ1ZjwbOHv1a/6zIqvJe1G/TQlDmfa88/F4I+ByU68MfPmvfSCHUw3en137ld0yHaeLT6Pbst90/zHWleT03N/iL8v+WnjXfVwXT3oFcDx/0YtI/dd+4NxAOxDQBcbP8P4023/CclNdH7vxSE/XMOb3heTVLMS0HcfM98218f4ivayQ6f/6im9DUvn9iy7cSwlvCR/j05W/qMedIxLfkW/XTQ2mVWIhFQqX587U7T3W3lT4p63vOucmP44POAfCo4e1p5ead1oYhJimDEtsTbRlgvnt+Lqvh8hzS1XxPTZ7FVx8k6VMJETjzep/zjK3VXuUnS1PTOWrT+359NbDOLVWwLqFTfv3J72VjG622geSvPlfv//Tp97C9t3rhGP/3wi3K27lbumYuujHHRXxBQoq+fvzno7tsRVU4UB+RXcVGxK/d1vJzc/bY6ZCap4ti4huo1GqCfw1yJx/wJAAAgAElEQVSG+FouFV3UJe7CqVQsxoJ+/3HNHtLa9FyvGh6P2nYfp00hLAmZf3yVHr6+XtBnwasBj39j+aoX8XZy14e6o3sndezUUR07dVSXLv319dbww7/x0wTTRdUeT7JGvbTd9N+48dwbiAdiGwC42KH1z6lR+eUfvbU058vwl2T6+7unTNGuhqeG2t/wku2vD/EV7WRHSckmDW1vXlqk6+1vhv18koD8ynn/ftOAPzm5lRasO2/7PqpM4ZkfNaBFxbvbWnd+Wn+ciu0VmwUnlumWOinyeJL11Ot/2f7anYbYlnjbCOvZHdsCuqDv5t1vGmd4PZl68jWWeIvH++TzHdYrg9qUXfnu9WTosReyyo4DxDaz2MW2Ir3z2JXJ6dSkG7Vyb5GO/71arz4zWF3b1KtkiTWv6jXpphFPzdHPW464ZsnJ6GNbvmY90NS0L7v3fatsCTRf6Un9suw1PfpAb7W7roHSUjyq4fEorWZ9Xde2m+4dOlELv9qovAvE/1gJ6JzeHdmhwt1taRmd9OGqE1Ef+wvP7NaCV8fqrttvUOtmdZWSVEMpabXUsu0NGjnpLW3YVT2XKIxELMaCuTtfU6ugZ7Q1aDo4rDvT8ozPdFtT8x1umRl9teoQQSdYQIX6+Kmupu9PZctDuvXcG7AasQ0AXCx4eYHLVzyFcwITkE8/v9avwgl/izZP2/76EF/RTnYUnf9GPeuUP5nzqN/wL8N6QPNlf68cp0yveVtmLj1t+z6qzMm9n6hn0Mmj11tLLy85HtPfE5BfmxYMUfp/33ViW0XEtsTbRljPrtgWkE+Hd32nKcOuV0aS+Wr49j2e09/nmdi2+n0KqESr3xlY7u+pR11unanD5a56J7YF77PYxDaf/7Ce6XPljoPMzFs0ZuKdapBmnrCuiseTphvumKS1u6r/cw2j/eyXlu7Qo11rl9t3SXrgqZ91KeDTgd8+0oDO9a66pGHZ+9ygq6a89qNOx3BFArcqLdmnGQNbB+13j3rev1AXoji2lBYf0sKXhqhVvZSrvpfJqU00+sUfdY673aIeCwbfpXv5Ozr5nX3hzznM7W96dqnXk6Ep7x3gwpsg/+x4Ux1qme8MrVdvkLacNq9q4tZzb8BqxDYAcLGS4jW6L+h5Ud1vf1Onwzix8PuP64W7m1Q4SWnc7AnbXx/iK9rJjrNHPlKXtPIPhE7SoAmrI7oy+3DWdDVOMYfkiRE8XNpq50/8qiFd6lR6ot+l56vKjeGD3wtO/KB7WmeU7Q9iW0XEtsTbRlgvHt+LkuJNmvbIw3rk0cf0+GPD9eD9/dS1bSOleIOPjV616z5WOVzJHpf36ej2N0wTdjVr99L/7TIvZ0VsM4tVbCspztKDrSs+3yhcmXW66+1v9jtu/BNLUa+sUPST7mx85aKnf8dIu7Tj+6lqU7vypQyrjpzJ6t7rOf1+vPo9Sype/P5TWjjhpkqXWM/IuFkrI1xC0uc7rLkjupSLNR41bHmDHhj6uEaPfkwP3NNTTWonX/kceTP16PRfq90yheGKPrbl69UHzcfEzPS+WvNP+N+RU/veVnvTHXIe3Tniq4jiUHWVf/wXDelWt8JxacikXyvsJzeeewPxQGwDABcL6ILeHtHWtH56anInLckJ/bltx7bPUatKrrJt2PhR218f4ivayY5Te99Wu6A7LYdN3SBfBIP03N/n6LqgnzVmlrOWHCu5uEvP9m8R9PyCK5KSmujNFSei/j2+S2e14f/eUP9OdU37g9hWEbEt8bYR1ovH96Kyz1qFY2JyE42ZsVInqniOktvF+n0qKtikR3tc+bvh9dbV1A92V/g7SmwL3h+xiW0XTn+qGzKTq/g+eFSnUTv17D1Ag4cO0b0D+qh752ZKT6r8u5Oa0V5vrzjsqDFQLEX72b9w+lNdn1F+wjlFwyc/ry51K+7/5NRaaty0hZo3a6TM1KruMvSoXfdntCuPZ+OGK6Ai/fj2/aoV9HiCK7wa8NjXuhjBZ/nPleNU779nWCUlN9LYV37R2aC7EAvP7tDLw7qWhb7U1C76bPMF2/eLnaIdC/p8hzSxt/l5a81bP6m/w3wumBRQSdHP6t/EvBpIjzve1vlqemwLR0B+Hdq+UP3b167wvWnUbJi25FaMm2479wbihdgGAC53YP1zpquQanhqqE3X8frj5LWvNis4sUpDutat9GSoSfPRtr82xFe0kx2VDdIff3FrRAP+k7vfVJugn/XY85sj+llW8PuP693R3U1LoXg8yUpLN0/sdLp5po5HcHdb0YV1Gnd3b3XrdJ3qZFScLIplbMs/9p2eeniwBg0eZKkJM/5PhRa/f8S2xNtGWM8pse3faNBED46cpz/+KbZ9vzhNLN8nv/+s5j/Vo9yyX171GjhfeZX8PSK2Be+P2MS2Y7+9ouYpwTHHq1ZdhurjldtVcCn49/p1wsjSWy8MVvNaFe/Gqtugv37ZWz2/N9F+9s8c+kCd08z7LCX1yvHIm1RLPe8ep8Urdyi/+Mq/Ky0+o99+/VhP3NtJaUF34Xo8Sbpj6NKwn33kZgH5tX3FeDVNN3/uU9LTTEsQpqffpG93hXd3m99/Qi/+txKLx5Ok+8d+X2Wwu1SyS0/1bFD2nbt75Iqwj2d+/3F9NP0Ry8fGQ4e+qN8tjrrRjgVLfQc1oZc5trVoO0H7I4ltldzx273vvLLnK7pVScFevT/tXjVMr3gBQHpmVy389VSl/85N595APBHbAMDlfL7Demlgywp317RoP0hLft5X6UDaV3pCKz54Sp2Criwz/Xue2eY60U52HNs2Sy2CBulPvLwjoiviTu2ZV2HA/8i0bEcM+AMq1Lez71KGaWLGo+v7zNG3i4ab1rtPSmqkud/khv07CvOX6aZKIpsVse3UnnlqW+XV3bHTtfcblk9aEdsSbxthPSfFtsvqNe6rz7JOcMW0Be9TQH5tXz5WDcqFnobNhmjj0covwiK2Be+P2MS23V8+rnTT+5mh+0YuVW4Id3Ye3v6BbmkWPEb36PZBi6rlpHT0Kyu8Zbq7o7zU9DaateTPqy5TF9B5/bJghBoHrfSRnHyd3vs5z/b9kygOb51X4W7CWvV6acnaRerVILXc/+7VnY98EdYFWEXnv9MdDf/9GalJ1+vb3VXHuoD82rZkeNn3r1WnZ3WoJLzvb6lvr8beVPky8bGUnnybVh21dlnlWCwjOXNgY9O/r1tnsLaFeUyUAiop+lH9TJ+FGuo1eImL/94UaO3n03TTdTUr/Xxk1umud1cerHKs5JZzbyDeiG0AAJ3ev1S3Na0YzjyeFDVve5MGjxijKVOf17SpT2rwfX3UsUUd80OOvbXUoXML0//WrvsLtr8uxFfUkx2VXBE3YnpORIP049teVcsYnTzEUkA+bf78CTUMmtRp3uYxbfnnkooLszSobabp/+tw/Qz9cynMZ70UbtS0Rx/W0KEPlTNE3Vqklu0PYlvsP8PhSISQlQjbCOvF43sRUInOnj6jggsXVXAuT0cP/aXs1cv19uwJuuOG5qa7gC+r06CffrzKhKnbxOp9OnNomW4rdzFVcnJLvfHtkSr/fhLbgvdH9LEtIL+2fTVFPW++Xl06tdN1LZrpnkcW6dSl0P/97p+fVfOguxxSU7rpq50XI3pdThbtZ//0/v+pQyXjGK+3ria/szOkcWhAxfpp3r1BF1LV0M13f1gtA2esnT28XHe2Mo9/U1Jba963h+VXoRaP72Y6z0xL76Gvw/gslw+qLdo8fc27qo5umalm/11w0KDRcP1RSGyL9BgfULEWjuskb7l/n5zcSgvWng97W04ffF+dTM8YS9bjL/zmuqATkF/G1iUadnvLSsdHNTxetek2Qj/tvPpx0A3n3oAdiG0AAAXk199Zc9SlQehXlV8ZSCWp571va9YT7U2D6Ov7vWP760J8RT3ZcfB9dUw1P6R5yKQ1kT2kOfsFNQ16SPPTr/9l+4B//4ZZal876KrdOrfp623/PicxIJ9+eeMu00Phk5Iaac6Xx6L+3QFd1OxBTcr2R6xim99XpLOn85SXZ62zBUWWv3/EtsTbRlgvnt+LygRUqOzlz6tLw+Axike33P2+zjCRHbP3qbR0n6be2axstQOPJ1kPjP3uqneQENuC90ds7myLfjsuaNH47qZAcXli2u59FGvRfvbzj3+sbukVl97scMMM/RNi4JQCulSyXY91Nz8vqWbGXcrK5dltV1N0Lkcjb2poWmXF662tJ+dsLruj8NRf76hTZvn3yKs7hn4W8rO6jm6aURbPuvSae82/G4fWTVWD5H//+0ZNHtOuMJ8VGpBfF86dtnxsnHc6XyUW/w2MxVhw++Khpu9oDY9X/YZ/Htaz9wLyK2fBIKWZot11mr8m/GiXyPKP52jm6F6qU2GZ4f8uqshsqTEvfKMTISzT6YZzb8AOxDYAQJl//lymQTc2Np2YX403qbbue+wjHSw4oil965smwO4Y9oXtrwfxFe1kR+GZz3RjZrLpROyeUd9FNOA3fpygOuUeru7xpGr6/PCXY4ylvH1LdVvQsk4pKdfp9a/My3sUnvlOdwb9d+26P6+jYd7dFsyq2FadJGpsO3dsp9avXau15WzeeTTqK32JbZDsj22XGTmz1K6meUI8NaW7lv/J3W2xeJ8CKtKKWf1ME5mtOo3Xnvyr/+0htgXvD2fENimg3J2vqVXQHVs39H/X9n0Ua9F+9ovOf6Gbg5be9noyNfX9qpdfq/y99+nn1/qZzqOSkprq/V8KbN9HTlVaul8zB7WpEIUHPLrMtJpBQGf11iPtTEEuLa2bvtwR2t1tRecOalP2Bm3YsEHbdude9X0NqFQ/zOpbtk0db35FJyN4fnJ1EYux4Kl976pjRtBzEVPa6qNfT4e+HeeyNLiDebnElm0naH+YITRR+f1n9cP8cWpf37yM5pVAXVO97pumrD35If/M6n7uDdiF2AYAMPGVntRPS17UXTdfp/TkyiNbUko99brnSX2x5oBKAwGVFK/TwJbp5itnX9xq+2tBfEU72VFSvEb3NU83fdZuGvBhWFc9XrZ14WDTshpJSU307k/2TXZcyFuvh7vXCzopqqXRM7MrnKwGVKqVM/uYtt/rbaBZnx2N6upAYtu1JWJsC8iv7HcHVrhIonvft1RAbEMMOCW2BVSoTyb0qDApO3Hefq6cjsH7ZGS/rFaZV8JMWkZXLc0+F8L7Qmwz7w/nxLaS4mwNamNemq9lu0m276NYi3r8WfS9+tYzT2CnJvXQNxEsU3t044tBd3ekaOoH0a9OUB35/We0ePKtptUcang86nLrSzIq+b7k/v662piWRvWoz5BPYr5MZ/6x5brjv4vePJ4UjXppq+uWKSwvFmNBvz9Xcx5qXeEZ8XUb9dGy7JPX/Bt++vBqjenTwrSKjtdbS1PedcedU6cP/6xxA9pWumSkx5OsjjeO0Of/zcuE83Or87k3YCdiGwCgSudO7NPmrNX68rOFevvNN/Teh4u04sdNyi24ZPrvzh7+UF3KrZ/u9dbRa1+FfqUaqodoJztKffs07mbz8w3adp8e9vPKAirV8hdvNU3Ipib10Ld77Ln74VLxHk27u6XpBNPjSdadDy+pchmb86dWqE8T88RP227P6VBx5JN1xLZrI7ZZs41IbE6JbVJAh9dPUyPT0kle3R3hVdjVTTTvk893WFP6NjD9jbr78cXa+vvv+v2aNunJPuaLSXr0m1Ph3+41TrliUtRJsc3nPxq08kQNNW4y0vZ9FGtRjz9Lf9fj3WoHvWf3akt++Ms/Bi9J6fEk68k5u1zx2Q9HQMX65b0HVbvcnTA1PDXUqMVD2nCo8meQ+f15emNYG9N4OjW1i5b9diFm23Vy/7ca3L1+2e9oet0IbT15KWY/PxHFaix45uDn6tWs4jPik1IaaMCw6Vr6zXodOH5OJb7/luE8e1gbf/lU08bdrea1g5d59ajzzS/rSBTnRYni4G/v6ZagIHZ5HzRrO0BvLd2qwgiDc3U99wbsRmwDAERt6ycPm5YdSk+9TauOWPuwZjhP9EtYXdDch1uar3isM1jbwpygCuicXh3U3PRz6tR+UFsjmDSJlt9/Qu+P7RF0JaJHHW+crr+vsjRXQCVa8fLtQXe31dPLSw9HPGFDbLs2Yps124jEFu334tj2xRr3xEiNHPWvJ0ZP14b9xRFtS8HJT9Qj6NlKvQYt4TMZ5ftU6tunJ4Mm3GKtxx3/C/n5SonMSbHN7z+l5+9qYNqWJi1G276PYi368We+Zj3QtML4c0dh+O/ZhVNLdX2GObaNm/0nsc20v/36/buJap5uXuI0s9YNWpp99fft2I7X1Dro7rbeD34c9d1tpUVH9fncEWpV98p7l1m7hxb9esr2/WW3WI4F9298Q90bXf0Z8d6kZKVU8TyysosGWg7WOiOycUQiObL9HV1fyf7KrNNJk1//UadCeC7b1VTHc2/ACYhtAICoBHRe8x5pZbrKsF33F3TMxWvbu1X0kx0+/fpGf1M0SE5urY+zwrtitaR4je5rYb4CsOPNs+L+vIWACrXy9buV6TWfIDVs9kBIJ4gFJ7/R7UF3t7XuPEUHIjyxIrZdG7HNmm1EYov2e3F4w/NqXG7izOttqHkrr708YWWKLnytW2uVf76IR30e+lyX+EwS2xzCSbGt1LdP424Kvmvhedv3UaxFP/4s0RdTbzT9Hc1M66/s0+FPFJ/66y21TS2/jGSynn3viO37yEmObH9b3eqbn5GXnNxELy/Ze80o6fef0usPm5cjTE3ppKWbIru7LaCL2vL9HPXtWM/0Mxu3vFtf5RDapNiPBY/t/kJDb2sR8jPiy/N4ktThhnHKNqr/HVP5x1fortaZQa8/Wdf3napNB0J7VuG1VLdzb8ApiG0A4GJ+/yll/d+XWrZs2X++UPYfp8O6+rLowird09z8vLZHpmW7em17t4pFqDj620w1SzFPUox9dWdYn8ljv72i5kE/Y9jUDXH9TAbk15avxqpRqvnKzIzM7lq8Li/En1Gib1/ubToB8nrr6sVFByO6QprYdm3ENmu2EYkt2u9F/vFF6ma60yNFk94+ENFx7OzhD9U5rfzPStKg8atYRjLK94nYFjvRxraAzuuLuaM1fPjwMpNeXK5zEdy5U3R+pfo2KH/Rjke9Bi+xfR/FWiz+du/77inTkoaRTDhLAe35ZozpIqukpEZ6+7t82/eRU5w78q0GBAUErydTI6avDvk5Uce2z1HrNPPdbT3vm6+zYX5Hju35VmPu7WD67CSnNNLgsR9p/5lS2/eVU1gxFvT78/T9gsnq3aVhyNGtbuMemjznO+UV279PrOb3/6NXB7ep8Iy6hyZ8rbxLsf1d1eXcG3ASYhsAuFjFZxR4dfeolSFPWgXk1+ZFDyuj3EllanJnLdsWm6utkFhiMdlRUrJZD3eoaTq5atvtOR0Jce34gC5q8fhuppOTSCdMqhtiG4BIRHtsLyn5Lei47tHtQ5aqKIJJmD8+f9Q05vB6MjR9/jHb95ETRPM++f25WvTKGD362KMRGKYeLczP4WnYqpdGBP130+auiug9TzTRx7YifTC6g+kum3r1H9L2CO6M++u7p1Q3qfwEaIomvLnP9n0Ua7EYf148t1J9GqaW21fJGh7mZHFAFzV/XCfTGDQzva/W/OPuZ345jc+Xqy9eH6pmNb2mz8wtd03Sz9tPsuRnHAV0UbtzvtacGeM1+J5e6ty+tZo0rqt69RuqWcs2uqHnnXpk9HNavHyjTl6o/s9nu2zvTxPVILn85zNdD034PurlUivDuTcQe8Q2AHCxgPI1O2h97dZdQh9clRRv04iu5geKd+n5qnJZMsCVYjHZEVCpvn7hFtNVjklJLfTOD6Et5ZJ//Ev1amxeerFVx8k6VOKeE7Sq9y2xDUD4ol+i7aLeG2WOBw0aDdW2M+Et0Vbq26fJfRubju/pqbfqBxc8tyUe71OkAsrXy/c1iuldD4ks+tjm15aFQ8zvpbeB5nx5Iqzt8PkOafqAZubl9pKv17e7q9/ya7H47Pt1RrMHtzAfpxoP0ZaToYeygtyv1KuReQzavc+bOm3BBDkic6nob702optSykXVdt2H6pMf/2Y5YjiCz3dIz93ZxHQc6XzLyzpSbM25LOfeQOwR2wDAxQLyK/vDB8pOOP69EqmVPlx9NoR/e1ErXxtgusI8Kamh5nxx3PbXBXvEaqLvtPGRutVKMg3aW7Z/Wrvzrz5o9/vz9O6ozuZlFz0ZmvDmHq5SFbENQGRicWzfs2KcaYk2jydNI6atDflOp4Au6Ns5FZ+BeUO/t5nIjuH7FAliW/D+iP6ZbeeOLtL1tc3PtGrdeZL2XmMcdGUbSrV+wVDVTvKYfkb3Pm/qVDW8IC5Wn/29P01U/WTzUmj9h32qMyHsM7//hN4Z1SVo6e8Gmv05d946hd9/Sh+M61H2HqXXbK/n3lqnc9XwO4HEdWrPPLUtt0xqUlIzvfeztX/LOfcGYovYBgD/396d/0dV3gsc/ztICFESdg0IKougouAKGNyuUq1WisUNRMUFq2hFq9d9gSrW4tKLCKIV9SX15Qq96C3VxGoErKKoMVRBIUQJkOR7f6jaTmbIcpwwGfL+4f2DMOd5npwzjDPnkzOni6v959IY37/5byPNjHdb+E3OpmiMt565LMqKU78vf+yJ97kRbheWrZMdTVEbD182OuXrKAoKiuK40+6OD7dkftPf2Ph1PHXbpLQTSwMPvCj+3s6rJ/ZWYhuQRFa+Inj7GzH5kNSvKepetH9cfseK2NZKLNu1fUMsuO7ktNf3oqKh8dArHR+T8oXY1jlkI7Y1xZaYP21k2vugY069PdZtbvlKq6bYHn9ZfEkM7lmY4d/L5pzvn46Qref+roaP4/pTBqVc3VZYUBKnn/9IfNrC8dtV/2k89OsJKb+A2K2gIEaPvyNqfC7qFJqiMSqfmh59vv//SN/9T4yn/tq2K3dgT2mKhnjt3lNT4lX//SbHyk+qo6am5ifaGJu2ZL6y2WdvyC6xDaCLa4rt8fSN46KoIPUD4pCR58TCFz9IO1myteavceul5dGvOPVDfJ/+J8XyNe7V1pVl80Tf1i+WxUmD9015jnUrKIgDhp8Wt/5+eaz95Kuob2iI2s0bYtWfH4rzTxsZ+zS74qF7UVnc+sTHfrPue2IbkER2viK4Md587NwobfY6XVBQFKOOOTfuffi5eGddTdR/f2J65/ZvYl3lS/HgnTPj6GF9Uk5+/2u7HnHmjGejzlVtWT1OSYhtzffHT49tEU2x5bOnY+IB+zR7H9Qt+pYdFbNuWRhv/2NTyv3EGnfVxluv/iGmnXF49Oze/N9LcfziiuXx3V56TLL53P9y3cMxdkBR2n4vO6g85tzzZLy9tiZ2NDRF485t8ckHb8UT82fFuEP6ppyk7lbQLXr1K48X3ve5qLPYuaMyLhrzr1sfFBcfEg+/tinna4LmmmJL3HbWAWmvP9lREKde8Mxu5/bZG7JHbAMg6re9HZeM2z/Dyazu0W/gyBh/4n/FpEmnxrijRkTvfQrT3rwV9xwRv3vuU2+surhsnuxoisZY++qcGNrsKy1S3tD3KEo7ufGfc0+5enmrV0x0JWIbkES2XtsbG2ti3rTRzX65p9lrd2FRFO+z+9f2H16/jj9tbnz2nfuBdMRxai+xrfn+yE5sa4rGeG/5r9OuUPu3wujVb1AMGzEyhh1cFj2LMz+uoKAoxp/xYHzRQff76Qyy/f7znReujiElu9vv3aKwe1EUFe3+NWrfksNi/gvVPhd1Ihv+cn3sX1QY3QoKYtzPH41tjg2d0M4dlXHeob1yEtt89obsEdsAiIim2LZxZUyfcEDK1xa0RUnv0TH3Tx/5QEnWT/Q1RUP8/c9zYlT/Hu16ThZ27xu/uubZ+Mab/Wb7U2wD2i+br+27dn0Wv/91efQqKmjX6/qPJ3qK+sY5MxfHP/ficNAZjlN7iG3N90d2Ytu/xmqIyuW/iRF906+0atP7ocKSOGPa47Fx+97976Uj3n9WLL+h3e8/uxV0i9J+x8QjLwttnUlT7Ig/zTn2+8+4BTFw6FFRXl7eZpPOvCU+3Mv/DdE5bP/2+Sjv2/7XnWzEtgifvSFbxDYAfrRr+yfx6M2TY3ALv9H07w/w+8aREy6LV6u25HzddA4ddaJv4z+ejxmnH5Iy9u6UHXRyPPBUVZc9ydcSsQ1IIvsnsnfFmlWPxLSzjo5+Ga6W3100GHPC9Fj6+oaUr86j445T24+n2Ja6P7IX237wz/UvxbW/OjpKe7QtUhcUFMWwI86KR57/IHZ2gePQUc/9r9b/Oa48+4g27ffCwpKYcMYN8b9rt+Z8f5CqKbbF7WcNShwp+vX9ZbzzrdhGx6v7alGM7dn6eZiOim0/8NkbfhqxDYA0Wze+G4vm3xhTzz45jhw1NAaW9Y++fQfE4IOHx9HjTovLrrkjlr/xaezypoo9pCnq48OKZ+O/r7kgTplwRBw8ZGD069sn9isbHKNGHxfnnHdVLFj6f7F5e+7X2lmJbUBns3Xj3+N/5l4f5005M04YPzaGHTwo+vUbEAMHHRijRh8bk86+IG6664/x1/e/FNlaIbbt/b6ufjv+OO/GmHHRlDjtpOPjsBFDon+/flE26MAYMerIOPXMqTH7t7+LV9/63Hv0LNr02er4w11XxhmnjI/DDxkSA/r1iQH7l8XBI0bHCaecHbNumBevvl1tn3dSuxo+jMuP7yu2QTv47A3JiW0AAAAAAACQkNgGAAAAAAAACYltAAAAAAAAkJDYBgAAAAAAAAmJbQAAAAAAAJCQ2AYAAAAAAAAJiW0AAAAAAACQkNgGAAAAAAAACYltAAAAAAAAkJDYBgAAAAAAAAmJbQAAAAAAAJCQ2AYAAAAAAAAJiW0AAAAAAACQkNgGAAAAAAAACYltAAAAAAAAkJDYBgAAABsr4gwAAAvXSURBVAAAAAmJbQAAAAAAAJCQ2AYAAAAAAAAJiW0AAAAAAACQkNgGAAAAAAAACYltAAAAAAAAkJDYBgAAAAAAAAmJbQAAAAAAAJCQ2AYAAAAAAAAJiW0AAAAAAACQkNgGAAAAAAAACYltAAAAAAAAkJDYBgAAAAAAAAmJbQAAAAAAAJCQ2AYAAAAAAAAJiW0AAAAAAACQkNgGAADQRTQ2NkZtbW188803UVdXF42NjTlfEwAAQL4T2wAAAPZSa9asiXvuvSd+9rOfxYhDRsQ+++4T3Qq6/ai4uDjGjBkTM2bMiAULFsT69euzNvfOnTvju+++S9HZ415DQ0Pamnfu3JnzdQEAAJ2b2AYAALAX2bVrVzy+6PEYdeiolLDWVhNOmBCLFy+OHTt2/KR1XHnVlWljr1y5Muf7pyWvr3g9bc2zrp6V83UBAACdm9gGAACwl1ixYkUMGzY0UWRr7oDBB8Rrr7+WeC1iGwAA0FWIbQAAAHmusbExbrvttigoLMhKaPtBQWFBXHfddYm+SjGXse3zzz+PJxY/kaKqqqrV7cQ2AAAgCbENAAAgjzU0NMTkyZNbDWf79tw3Jk6cGL845xcxZcqUOPPnZ8ZRRx8VRT2KWt32mGOPia1bt7ZrXbmMbcuWLUub+5Zbbml1O7ENAABIQmwDAADIY9dcc81uI1lJaUlcNeuqeOWVV2L79u0Zt9+2bVu88sorMWfODTHogEEt3sttd2NkIrYBAABdhdgGAACQpxYuXLjbOHbW2WfFF1980a7x6uvrY/6D86N3794Zx5x+8fQ2j7Vy5cqYN29eiuovqvfIfhHbAACAPUlsAwAAyENvvvlmFBcXZ4xiD/7+wZ809roP1u72KrcXXngh5z97a8Q2AABgTxLbAAAA8sy3334bAweWZYxhbYlKbbF+/fooLS1NG3/ixIk5//lbI7YBAAB7ktgGAACQZ+bOnZsxtE2dOjWr8yxYsCDjPO+//37O90FLxDYAAGBPEtsAAADySH19fZSVpV/VdvDQg6O+vj6rczU0NMSQA4ekzXXppZfmfD9UV1dHRUVFfPjhh2l/t6di21dffRWVlZVRUVERGzZsiMbGxpzvFwAAYM8T2wAAAPLI0qVLM15ttuiJRR0y39333J0217BhQ1vdbvXq1fHYY4+l2LhxY4vbLFmyJOXxq1atSvn77777Lm677bY47PDDUtazefPmlO1mXj4zbc1n/vzMtPU0j5NtiW3ffPNN3HDDb2LUoaPSHlvaqzTGTxgf8+bNi6+//jrnzxUAAGDPENsAAADyyIknTkyLPIOHDI6GhoYOme/jjz+OIQcOSdGWq+iuvOrKtHWuXLmyxW36D+if8vgLL7rwx7+rrKyMkaNGZgyNFRUVGf+8NZs3b06Zv7XYtmDBgujTt0+bxu5Z0jMWL16c8+cLAADQ8cQ2AACAPPHtt99G96LuaWHn9jtuz/namstmbKusrIyS0pLdhq09EduuvfbaRHP89rc35fxYAAAAHUtsAwAAyBOrVq3KGHT+9tbfcr625rIV26qrq2PgwPR71O3J2HbFlVckGv8HTz75ZM6PBwAA0HHENgAAgDxx3333pYWcoh5FsX379pyvrblsxbby8vKMAau4uDj69O0Tffv1jc8++yymTZ/2o5NOOjHt8WPGHJnymGnTp0VdXV3K/Jli25ADh6T92QknnBCLnlgUVVVV8cknn8S6D9bGkiVL4vRJp0dRj6K0x++3/35RW1ub82MCAAB0DLENAAAgT0yePDkt5Bw++vCcryuTbMS25v+93/77xU033RjV1dUtjrNs2bK0uW+55ZZW15wptv2ncePHxboP1rU6Ro/iHmnbPv300zk/JgAAQMcQ2wAAAPLEQQcflBZxLrjwgpyvK5NsxLb/dPGMi6O+vr5Nc3dEbJs0aVKbryDMdH+3mZfPzPkxAQAAOobYBgAAkCdKSksSRaRcyGZsm3re1HbNne3Y1n9A/9iyZUub53/jjTfSxjj0sENzfkwAAICOIbYBAADkicLuhWkR58677mz3OEuXLo0xY478SaZfPL3FObIV2wYOLGv3PemyHdvuvffeds2/Y8eO6FnSM2WMXr175fz5AwAAdAyxDQAAIA80NjZmDEFz585t91j3339/i/cma4tx48e1OEe2Ytvs2bPb/fNlO7atX7++3WsYPnx4yhjFxcU5fw4BAAAdQ2wDAADIE0U9itJC0N333N3ucfIptq1Zs6bdP182Y9vQoUMTHavDRx+eMk73ou45f/4AAAAdQ2wDAADIE6W9StNi0K233trucfIltpWWlibaT9mMbVOmTEm0BrENAAC6DrENAAAgTwwcNDAtBl084+J2j7Ps2WUxceLENhs7dmxOYltZWVmi/ZTN2JZk/0aIbQAA0JWIbQAAAHli9BGj02JQeXl5h8/7xhtv5CS2DRyY+9h21ayrEq1BbAMAgK5DbAMAAMgTkyZNSotBgw4Y1OHzvvTSS102ts26elaiNYhtAADQdYhtAAAAeeL666/LeP+0bdu2dei8DzzwgNjWTmIbAAB0HWIbAABAnli+fHnG2Pbiiy926LyXXXaZ2NZOYhsAAHQdYhsAAECeqK2tjeLi4rQgdPkVl3fovMced6zY1k5iGwAAdB1iGwAAQB7JdN+2AfsNiJ07d3bIfBs3boyCwgKxrZ3ENgAA6DrENgAAgDzyzDPPZPwqyUcffbRD5rv55pszzie2tUxsAwCArkNsAwAAyDNjjxqbFoVKe5XGhg0bsjrPmjVromdJT7EtwRrENgAA6DrENgAAgDyzYsWKjAFswgkToqGhIStz1NXVxchRIzPOI7a1TmwDAICuQ2wDAADIQ+eee27GCDZz5syfHNxqa2vj1P86dbehTWxrndgGAABdh9gGAACQh7bWbo0Rh4zIGMJOn3R6fPnll4nGraqqikMPO7TF0NbZY9uzzz2bNveNN85pdTuxDQAASEJsAwAAyFPrPlgXvXv3zhjD+g/oH3fdfVe8//77bRrrnXfeiQsuvCAKuxemjTVx4sQYPnxY3sS2l19+OW3uI444Inbs2NHidmIbAACQhNgGAACQx1b/bfVug9sPBg8ZHJdcckk89IeH4vFFj8dTTz0VCxcujPkPzo/zLzg/ysrKdrvtUUcfFVu2bIkZM2bkTWz78ssvM/4sZWVlMWXKL2P6xdNj+sXTo66uLmU7sQ0AAEhCbAMAAMhz7777bgweMrjVr35sr/Ly8ti6dWtENMWSJUvyJrZFNMWYMUe2+vNt3rw5ZRuxDQAASEJsAwAA2Ats3bo1pk2flpXIts8+xXHnXXdGQ0PDj+PX1NTkVWxbuHCh2AYAAOwRYhsAAMBe5NXXXo3jjj8uUWTrWdIzZl09K6q/qM449vDhw/MmtkU0xU033RglpSViGwAA0KHENgAAgL1QRUVFzJ49O04+5eQW78k2eMjgmHre1Hh80eOxZcuWFsf89NNP47333ov33nsvPv744xYfW1NT8+Njf9D8HmnNrV27JuXx6z5Y+5P3Q11dXTz55JMxZ84NMXv27Lj//vvjueefi9WrV8euXbtSHrtt27a0NdfU1CSa96OPPkoZp6qqKufPCQAAoGOIbQAAAF3Apk2boqqqKioqKqKysjI++uij2LRpU87XBQAAkO/ENgAAAAAAAEhIbAMAAAAAAICExDYAAAAAAABISGwDAAAAAACAhMQ2AAAAAAAASEhsAwAAAAAAgITENgAAAAAAAEhIbAMAAAAAAICExDYAAAAAAABISGwDAAAAAACAhMQ2AAAAAAAASEhsAwAAAAAAgITENgAAAAAAAEhIbAMAAAAAAICExDYAAAAAAABISGwDAAAAAACAhMQ2AAAAAAAASEhsAwAAAAAAgITENgAAAAAAAEhIbAMAAAAAAICExDYAAAAAAABISGwDAAAAAACAhMQ2AAAAAAAASEhsAwAAAAAAgITENgAAAAAAAEhIbAMAAAAAAICExDYAAAAAAABISGwDAAAAAACAhMQ2AAAAAAAASEhsAwAAAAAAgIT+H0IX1b6ZkJjwAAAAAElFTkSuQmCC)\n",
        "\n",
        "\n",
        "\n",
        "\n",
        "\n"
      ]
    },
    {
      "cell_type": "code",
      "metadata": {
        "id": "22NsWZd0F_n2"
      },
      "source": [],
      "execution_count": null,
      "outputs": []
    },
    {
      "cell_type": "markdown",
      "source": [
        "## Your Turn: HW 05\n",
        "\n",
        "Problem 8.6. from the book:\n",
        "\n",
        "\n",
        "The standardized deviance residual $r^{DS}$ is approximately the reduction\n",
        "in the residual deviance when Observation $i$ is omitted from the data. Demonstrate this by R code using the $trees$ data as follows.\n",
        "\n",
        "* Fit the model m_1 as\n",
        "\n",
        "  `data(trees)`\n",
        "   `model_full <- glm( Volume ~ log(Girth) + log(Height),family=Gamma(link=log), data=trees)`\n",
        " Compute the residual deviance, the Pearson estimate of $\\phi$, and the standardized deviance residuals from this model.\n",
        "\n",
        "* Omit Observation 1 from `trees`, and refit the model. Call this model\n",
        "`model_omit_1`.\n",
        "\n",
        "* Compute the difference between the residual deviance for the full model\n",
        "`model_full` and for model `model_omit_1`. Show that this differences divided by the Pearson estimate of $\\phi$ is approximately the standardized\n",
        "deviance residuals squared.\n",
        "\n",
        "* Repeat the above process for every observation $i$. At each iteration, call this model `model_omit_i`. Then, compute the difference between the deviance for the full model `model_full` and for model `model_omit_i`. Show that these differences divided by $\\phi$ are approximately the standardized residuals squared.\n"
      ],
      "metadata": {
        "id": "aBmJtSNrygWQ"
      }
    },
    {
      "cell_type": "markdown",
      "metadata": {
        "id": "5Di9b85oUgOh"
      },
      "source": [
        "# Additional Turn"
      ]
    },
    {
      "cell_type": "markdown",
      "metadata": {
        "id": "pKkuhJ24UgSx"
      },
      "source": [
        "## Analyse data of car accidents in Sweeden."
      ]
    },
    {
      "cell_type": "code",
      "metadata": {
        "id": "LPUN0WhJIQSy"
      },
      "source": [
        "sweden2 <- \"https://raw.githubusercontent.com/francji1/01ZLMA/main/data/sweden.csv\"\n",
        "cars    <- read.table(sweden2, header = T, sep = \",\")\n",
        "summary(cars)\n",
        "head(cars)\n",
        "\n"
      ],
      "execution_count": null,
      "outputs": []
    },
    {
      "cell_type": "markdown",
      "metadata": {
        "id": "L4eDVhboFv86"
      },
      "source": [
        "Dataset contains the number of deaths, he number of registered cars, the annual volume of sold fuels, the number of registered vehicles and the year. Our goal will be to create the best possible model for death rates. Since these are the number of events per unit time, we use the Poisson distribution with the *canonical link function*  $g (\\mu) = log(\\mu) $.\n",
        "\n",
        "Because the observed period is relatively long and there have been significant changes in transport, we will only consider data from 1975."
      ]
    },
    {
      "cell_type": "code",
      "metadata": {
        "fig.align": "center",
        "fig.height": 3.5,
        "fig.width": 7,
        "lines_to_next_cell": 2,
        "results": "asis",
        "id": "8YYRVLidFv86"
      },
      "source": [
        "par(mfrow=c(1,2))\n",
        "plot(cars$Deaths~cars$Year, col=\"red\", lwd=2)\n",
        "cars <- cars[cars$Year>1974,]\n",
        "plot(cars$Deaths~cars$Year, col=\"red\", lwd=2)"
      ],
      "execution_count": null,
      "outputs": []
    },
    {
      "cell_type": "code",
      "metadata": {
        "tags": [
          "remove_output"
        ],
        "id": "WbDYBx7rFv88"
      },
      "source": [
        "attach(cars)"
      ],
      "execution_count": null,
      "outputs": []
    },
    {
      "cell_type": "code",
      "metadata": {
        "id": "fl3o-4bBxrR0"
      },
      "source": [
        "ggpairs(cars)"
      ],
      "execution_count": null,
      "outputs": []
    },
    {
      "cell_type": "markdown",
      "metadata": {
        "id": "7fWNPF2bUgYP"
      },
      "source": [
        "# Tasks\n",
        "\n",
        "* Find the best posssible model. Try add all varariables up to the second order interactions. You can use `step()` function based on `AIC`.\n",
        "* Analyse residuals and check systematic components.\n",
        "* If incorrect linear predictor appears, try to transform corresponding variable. Hint: `Fuel_transformed <- log(abs(Fuel-mean(Fuel)))`\n",
        "* Run post hoc analysis of your final model again\n",
        "* Find influence observations and decide how to cope with them (if any)\n",
        "* Hide last 5 observations, train the model using remaining and try to predict response for the 5 hidden latest observations. Plot predictiions together with true observations.\n"
      ]
    }
  ]
}