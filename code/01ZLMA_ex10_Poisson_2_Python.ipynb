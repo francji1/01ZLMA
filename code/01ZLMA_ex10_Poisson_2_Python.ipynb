{
  "nbformat": 4,
  "nbformat_minor": 0,
  "metadata": {
    "colab": {
      "private_outputs": true,
      "provenance": [],
      "include_colab_link": true
    },
    "kernelspec": {
      "name": "python3",
      "display_name": "Python 3"
    },
    "language_info": {
      "name": "python"
    }
  },
  "cells": [
    {
      "cell_type": "markdown",
      "metadata": {
        "id": "view-in-github",
        "colab_type": "text"
      },
      "source": [
        "<a href=\"https://colab.research.google.com/github/francji1/01ZLMA/blob/main/code/01ZLMA_ex10_Poisson_2_Python.ipynb\" target=\"_parent\"><img src=\"https://colab.research.google.com/assets/colab-badge.svg\" alt=\"Open In Colab\"/></a>"
      ]
    },
    {
      "cell_type": "markdown",
      "metadata": {
        "id": "x-i6MbNFm4Zt"
      },
      "source": [
        "# 01ZLMA - Exercise 10\n",
        "Exercise 10 of the course 01ZLMA.\n",
        "\n",
        "## Contents\n",
        "\n",
        "* Log-linear models with Poisson distributed data\n",
        " ---\n"
      ]
    },
    {
      "cell_type": "markdown",
      "metadata": {
        "id": "pxEycwoDWr1H"
      },
      "source": [
        "Dataset and example from Chapter 10\n",
        "\n",
        "Peter K. Dunn • Gordon K. Smyth, Generalized Linear ModelsWith Examples in R\n",
        "\n",
        "https://link.springer.com/content/pdf/10.1007%2F978-1-4419-0118-7.pdf"
      ]
    },
    {
      "cell_type": "code",
      "source": [],
      "metadata": {
        "id": "fYL-cuRAfteE"
      },
      "execution_count": null,
      "outputs": []
    },
    {
      "cell_type": "code",
      "source": [
        "import seaborn as sns\n",
        "import numpy as np\n",
        "import pandas as pd\n",
        "import matplotlib.pyplot as plt\n",
        "from statsmodels.genmod.families.links import Logit, Probit, Cauchy, CLogLog, LogLog\n",
        "import statsmodels.api as sm\n",
        "import statsmodels.formula.api as smf\n",
        "\n"
      ],
      "metadata": {
        "id": "sWMh4BwE7aRg"
      },
      "execution_count": null,
      "outputs": []
    },
    {
      "cell_type": "code",
      "source": [
        "# Set the display width to avoid automatic wrapping of the display\n",
        "pd.set_option('display.width', 200)\n",
        "\n",
        "# Increase maximum column width to see more data within each cell\n",
        "pd.set_option('display.max_colwidth', 50)"
      ],
      "metadata": {
        "id": "MlnLR56wCT1l"
      },
      "execution_count": null,
      "outputs": []
    },
    {
      "cell_type": "code",
      "source": [
        "\n",
        "# Please note that this cell works may not work in other env-s that Google Colab\n",
        "!pip install wget\n",
        "import wget\n",
        "url = \"https://github.com/francji1/01ZLMA/raw/main/code/helpers.py\"\n",
        "wget.download(url, '../content/helpers.py')  # path where Colab can find libraries\n",
        "from helpers import Anova\n",
        "anova = Anova()"
      ],
      "metadata": {
        "id": "doEJSkSVft6A"
      },
      "execution_count": null,
      "outputs": []
    },
    {
      "cell_type": "code",
      "source": [
        "# Load the R magic extension\n",
        "%load_ext rpy2.ipython"
      ],
      "metadata": {
        "id": "-q0D1FPD8NJD"
      },
      "execution_count": null,
      "outputs": []
    },
    {
      "cell_type": "code",
      "source": [],
      "metadata": {
        "id": "_3C80mr2AVGl"
      },
      "execution_count": null,
      "outputs": []
    },
    {
      "cell_type": "code",
      "source": [
        "%%R -o danishlc\n",
        "library(tidyverse)\n",
        "install.packages(\"GLMsData\")\n",
        "library(GLMsData)\n",
        "data(danishlc)"
      ],
      "metadata": {
        "id": "YIoxeL2XfuC-"
      },
      "execution_count": null,
      "outputs": []
    },
    {
      "cell_type": "markdown",
      "metadata": {
        "id": "GMi35fEDErV6"
      },
      "source": [
        "### Poission regression recap:\n",
        "\n",
        "We assume:\n",
        "\n",
        "$Y_i \\sim Po(\\lambda_i s_i)$\n",
        "\n",
        "$log(\\lambda_i) = x_i^T \\beta$\n",
        "\n",
        "$E[Y_i] = \\lambda_i s_i = s_i exp(x_i^T \\beta) = exp(ln(s_i) + x_i^T \\beta)$\n",
        "\n",
        "$\\lambda_i = \\frac{E[Y_i]}{s_i}$\n",
        "\n",
        "We will estimate coefficients $β_j$'s, but we don't have to estimate parameters for an offset term $ln(si)$.\n",
        "\n"
      ]
    },
    {
      "cell_type": "code",
      "metadata": {
        "id": "dtjmAUwlXCxB"
      },
      "source": [
        "# Ensure the 'Age' column is treated as an ordered categorical variable\n",
        "age_categories = pd.CategoricalDtype(categories=[\"40-54\", \"55-59\", \"60-64\", \"65-69\", \"70-74\", \">74\"], ordered=True)\n",
        "danishlc['Age'] = danishlc['Age'].astype(age_categories)\n",
        "danishlc['Rate'] = danishlc['Cases'] / danishlc['Pop'] * 1000\n",
        "\n",
        "data = danishlc.copy()"
      ],
      "execution_count": null,
      "outputs": []
    },
    {
      "cell_type": "markdown",
      "metadata": {
        "id": "fm3BhTS4FpSP"
      },
      "source": [
        "Example 10.1.: As a numerical example, consider the number of incidents of\n",
        "lung cancer from 1968 to 1971 in four Danish cities. The number of cases of lung cancer in each age group is remarkably similar for Fredericia. However, using the number of cases does not accurately reflect the information in the data, because five times as many people are in the 40–54 age group than in the\n",
        "over-75 age group. Understanding the data is enhanced by considering the\n",
        "rate of lung cancer, such as the number of lung cancer cases per unit of population."
      ]
    },
    {
      "cell_type": "code",
      "source": [
        "# Plotting with matplotlib (similar to matplot in R)\n",
        "fig, ax = plt.subplots()\n",
        "for key, grp in data.groupby(['City']):\n",
        "    ax = grp.plot(ax=ax, kind='line', x='Age', y='Rate', label=key, marker='o')\n",
        "\n",
        "plt.title('Cases per 1000 by Age Group and City')\n",
        "plt.xlabel('Age Group')\n",
        "plt.ylabel('Cases per 1000')\n",
        "plt.grid(True)\n",
        "plt.legend(title='City')\n",
        "plt.show()\n"
      ],
      "metadata": {
        "id": "-8HfqRDohMZi"
      },
      "execution_count": null,
      "outputs": []
    },
    {
      "cell_type": "code",
      "source": [
        "# Plotting with seaborn (similar to ggplot in R)\n",
        "sns.lineplot(data=data, x='Age', y='Rate', hue='City', style='City', markers=True, dashes=False)\n",
        "plt.xlabel('Age group')\n",
        "plt.ylabel('Cases/1000')\n",
        "plt.title('Lung Cancer Rates by City and Age Group')\n",
        "plt.show()\n"
      ],
      "metadata": {
        "id": "wFjGsr7uhwAR"
      },
      "execution_count": null,
      "outputs": []
    },
    {
      "cell_type": "markdown",
      "metadata": {
        "id": "yBxXAu7QLfM3"
      },
      "source": [
        "The plots show no clear pattern by city, but the\n",
        "lung cancer rate appears to grow steadily for older age groups for each city,\n",
        "then falls away for the `>74` age group. The lung cancer rate for Horsens in\n",
        "the `>74` age group seems very low."
      ]
    },
    {
      "cell_type": "code",
      "source": [
        "# Converting age into numeric factors for modeling\n",
        "data['age'] = data['Age'].cat.codes\n",
        "data"
      ],
      "metadata": {
        "id": "pyuzhAcEhw-v"
      },
      "execution_count": null,
      "outputs": []
    },
    {
      "cell_type": "code",
      "source": [
        "# Model 1 with offset term and factors City, Age and their interaction\n",
        "formula_m1 = 'Cases ~  City * C(age)'\n",
        "# Define the offset\n",
        "offset = np.log(data['Pop'])\n",
        "\n",
        "model_m1 = smf.glm(formula=formula_m1, data=data, offset=offset, family=sm.families.Poisson()).fit()\n",
        "print(model_m1.summary())\n"
      ],
      "metadata": {
        "id": "aridOXNJjkF7"
      },
      "execution_count": null,
      "outputs": []
    },
    {
      "cell_type": "code",
      "source": [
        "# Model 1 with offset term and factors City, Age and their interaction\n",
        "formula_m1 = 'Cases ~  City * Age'\n",
        "# Define the offset\n",
        "offset = np.log(data['Pop'])\n",
        "\n",
        "model_m1 = smf.glm(formula=formula_m1, data=data, offset=offset, family=sm.families.Poisson()).fit()\n",
        "print(model_m1.summary())"
      ],
      "metadata": {
        "id": "5nuxuSnPj23g"
      },
      "execution_count": null,
      "outputs": []
    },
    {
      "cell_type": "code",
      "source": [
        "# Model 2 with offset term and factors City, Age without interaction\n",
        "formula_m2 = 'Cases ~  City + Age'\n",
        "\n",
        "model_m2 = smf.glm(formula=formula_m2, data=data, offset=offset, family=sm.families.Poisson()).fit()\n",
        "print(model_m2.summary())"
      ],
      "metadata": {
        "id": "wGXILJMxrl7B"
      },
      "execution_count": null,
      "outputs": []
    },
    {
      "cell_type": "code",
      "source": [
        "anova(model_m1, model_m2, test=\"Chisq\")\n"
      ],
      "metadata": {
        "id": "YJdF3JB9hMcy"
      },
      "execution_count": null,
      "outputs": []
    },
    {
      "cell_type": "code",
      "source": [
        "%%R\n",
        "\n",
        "danishlc$Rate <- danishlc$Cases / danishlc$Pop * 1000 # Rate per 1000\n",
        "danishlc$Age <- ordered(danishlc$Age, # Ensure age-order is preserved\n",
        "   levels=c(\"40-54\", \"55-59\", \"60-64\", \"65-69\", \"70-74\", \">74\") )\n",
        "danishlc$age = as.factor(as.numeric(danishlc$Age))\n",
        "\n",
        "dlc_m1 <- glm( Cases ~ offset( log(Pop) ) + City * age, family=poisson, data=danishlc)\n",
        "dlc_m2 <- glm( Cases ~ offset( log(Pop) ) + City + age, family=poisson, data=danishlc)\n",
        "summary(dlc_m1)"
      ],
      "metadata": {
        "id": "EFzGpFclpVaD"
      },
      "execution_count": null,
      "outputs": []
    },
    {
      "cell_type": "code",
      "source": [
        "%%R\n",
        "\n",
        "# Test predictors significance:\n",
        "print(anova(dlc_m1, test=\"Chisq\"))\n",
        "# Model without interaction\n",
        "print(anova(dlc_m2, test=\"Chisq\"))\n"
      ],
      "metadata": {
        "id": "84a0BDhch0T8"
      },
      "execution_count": null,
      "outputs": []
    },
    {
      "cell_type": "code",
      "source": [
        "%%R\n",
        "# More tests:\n",
        "print(anova(dlc_m1, dlc_m2, test = \"LRT\"))\n",
        "print(anova(dlc_m1, dlc_m2, test = \"Rao\"))\n"
      ],
      "metadata": {
        "id": "K7XF2bbhp9w6"
      },
      "execution_count": null,
      "outputs": []
    },
    {
      "cell_type": "markdown",
      "metadata": {
        "id": "UDf8vrkuOArc"
      },
      "source": [
        "Keep only `Age`"
      ]
    },
    {
      "cell_type": "code",
      "metadata": {
        "id": "8dtZzjEcKYMd"
      },
      "source": [
        "# Model 3 with offset term and only one factor Age\n",
        "formula_m3 = 'Cases ~  Age'\n",
        "\n",
        "model_m3 = smf.glm(formula=formula_m3, data=data, offset=offset, family=sm.families.Poisson()).fit()\n",
        "print(model_m3.summary())"
      ],
      "execution_count": null,
      "outputs": []
    },
    {
      "cell_type": "markdown",
      "metadata": {
        "id": "oa8ivlq-OTB9"
      },
      "source": [
        "Mutate dataset to have Age as quantitative. Using the lower class boundary of each class, since all classes have a lower\n",
        "boundary."
      ]
    },
    {
      "cell_type": "code",
      "metadata": {
        "id": "jBOOCSjdKYPb"
      },
      "source": [
        "%%R\n",
        "# Add numerical variable: AgeNum.\n",
        "danishlc <- danishlc %>%\n",
        " add_column(AgeNum = rep( c(40, 55, 60, 65, 70, 75), 4))\n"
      ],
      "execution_count": null,
      "outputs": []
    },
    {
      "cell_type": "code",
      "source": [],
      "metadata": {
        "id": "rx5acQsgsQrQ"
      },
      "execution_count": null,
      "outputs": []
    },
    {
      "cell_type": "markdown",
      "source": [
        "Question: Discuss the application of different boundaries: lower, midpoint, upper."
      ],
      "metadata": {
        "id": "7V12CJddKLuK"
      }
    },
    {
      "cell_type": "code",
      "source": [
        "from sklearn.preprocessing import PolynomialFeatures\n",
        "\n",
        "data['AgeNum'] = np.tile([40, 55, 60, 65, 70, 75], 4)\n",
        "data\n"
      ],
      "metadata": {
        "id": "k6f48Vl7wDHK"
      },
      "execution_count": null,
      "outputs": []
    },
    {
      "cell_type": "code",
      "source": [
        "model_m4 = smf.glm('Cases ~ AgeNum', data=data, family=sm.families.Poisson(), offset=np.log(data['Pop'])).fit()\n",
        "print(model_m4.summary())\n"
      ],
      "metadata": {
        "id": "7aGKUS9GwHis"
      },
      "execution_count": null,
      "outputs": []
    },
    {
      "cell_type": "code",
      "source": [
        "# Generating polynomial features\n",
        "poly = PolynomialFeatures(degree=2, include_bias=False)\n",
        "age_poly = poly.fit_transform(data[['AgeNum']])\n",
        "data['AgeNum_lin'] = age_poly[:, 0]  # Linear term\n",
        "data['AgeNum_quad'] = age_poly[:, 1]  # Quadratic term\n",
        "print(data)\n",
        "# Fitting the model with linear and quadratic terms\n",
        "model_m5 = smf.glm('Cases ~ AgeNum_lin + AgeNum_quad', data=data, family=sm.families.Poisson(), offset=np.log(data['Pop'])).fit()\n",
        "print(model_m5.summary())\n"
      ],
      "metadata": {
        "id": "M63J_ouEwP06"
      },
      "execution_count": null,
      "outputs": []
    },
    {
      "cell_type": "code",
      "source": [
        "y = data['Cases']\n",
        "mu_hat4 = model_m4.fittedvalues\n",
        "dev_stat_m4 = 2 * np.sum(y * np.log(y / mu_hat4) - (y - mu_hat4))\n",
        "deviance_comparison = pd.DataFrame({\n",
        "    'computed_by': ['hand', 'glm in R'],\n",
        "    'deviance': [dev_stat_m4, model_m4.deviance]\n",
        "})\n",
        "print(deviance_comparison)\n"
      ],
      "metadata": {
        "id": "60-K9txlwcjI"
      },
      "execution_count": null,
      "outputs": []
    },
    {
      "cell_type": "code",
      "source": [
        "# Compare linear and quadratic models.\n",
        "anova(model_m4,model_m5, test=\"Chisq\")"
      ],
      "metadata": {
        "id": "NZD7Mg5R0C6T"
      },
      "execution_count": null,
      "outputs": []
    },
    {
      "cell_type": "code",
      "metadata": {
        "id": "qbV1dlYTKYR5"
      },
      "source": [
        "%%R\n",
        "# Add numerical variable: AgeNum.\n",
        "danishlc <- danishlc %>%\n",
        " add_column(AgeNum = rep( c(40, 55, 60, 65, 70, 75), 4))\n",
        "\n",
        "# Build model 4 with Age as numerical variable.\n",
        "dlc_m4 <- update(dlc_m1, . ~ offset( log(Pop) ) + AgeNum)\n",
        "print(summary(dlc_m4))\n",
        "anova(dlc_m4, test=\"Chisq\")"
      ],
      "execution_count": null,
      "outputs": []
    },
    {
      "cell_type": "code",
      "source": [
        "%%R\n",
        "# With numerical varaible, we can apply quadratic relationship\n",
        "dlc_m5 <- glm( Cases ~ offset( log(Pop) ) + AgeNum + I(AgeNum^2), family=poisson, data=danishlc)\n",
        "print(summary(dlc_m5))\n",
        "anova(dlc_m5, test=\"Chisq\")"
      ],
      "metadata": {
        "id": "LViQ9Wkwyrjq"
      },
      "execution_count": null,
      "outputs": []
    },
    {
      "cell_type": "code",
      "metadata": {
        "id": "6qPMNGPqajrS"
      },
      "source": [
        "%%R\n",
        "# Compare linear and quadratic models.\n",
        "anova(dlc_m4,dlc_m5, test=\"Chisq\")"
      ],
      "execution_count": null,
      "outputs": []
    },
    {
      "cell_type": "markdown",
      "source": [
        "The quadratic model is significant improvement compare to linear one."
      ],
      "metadata": {
        "id": "vw1gf1ukLV1M"
      }
    },
    {
      "cell_type": "markdown",
      "metadata": {
        "id": "dFVYb-Z-e-pc"
      },
      "source": [
        "Just for academic purpose: Check the deviance by hand computation"
      ]
    },
    {
      "cell_type": "code",
      "metadata": {
        "id": "_K6cyvfsb6lx"
      },
      "source": [
        "%%R\n",
        "y <- danishlc$Cases\n",
        "mu_hat4 <- fitted(dlc_m4)               # predicted values by model 1\n",
        "dev_stat_m4 <- 2*sum(y*log(y/mu_hat4) - (y - mu_hat4))\n",
        "data.frame(computed_by = c(\"hand\",\"glm in R\"), deviance = c(dev_stat_m4,deviance(dlc_m4)))\n"
      ],
      "execution_count": null,
      "outputs": []
    },
    {
      "cell_type": "markdown",
      "metadata": {
        "id": "TDLfrSGQb7w0"
      },
      "source": [
        "### *Results*\n",
        "\n",
        "Compare models with numerical `AgeNum` and with categorical `Age` variable by AIC and create summary table of outputs from all models"
      ]
    },
    {
      "cell_type": "code",
      "source": [
        "from scipy.stats import chi2\n",
        "\n",
        "models = {'m1': model_m1, 'm2': model_m2, 'm3': model_m3, 'm4': model_m4, 'm5': model_m5}\n",
        "results = pd.DataFrame({\n",
        "    'model_name': ['model_m1', 'model_m2', 'model_m3', 'model_m4', 'model_m5'],\n",
        "    'age_type': ['categorical', 'categorical', 'categorical', 'numerical', 'numerical'],\n",
        "    'model_type': ['with interaction', 'without interaction','Age only',  'AgeNum Linear', 'AgeNum Quadratic']\n",
        "})\n",
        "\n",
        "results['AIC'] = [model.aic for model in models.values()]\n",
        "results['deviance'] = [round(model.deviance, 2) for model in models.values()]\n",
        "results['df'] = [model.df_resid for model in models.values()]\n",
        "results['c_val'] = results['df'].apply(lambda x: chi2.isf(0.05, x) if x > 0 else np.nan)\n",
        "results['P_val'] = results.apply(lambda row: chi2.sf(row['deviance'], row['df']), axis=1)\n",
        "\n",
        "print(results)\n"
      ],
      "metadata": {
        "id": "yQ5XRbqF1EIk"
      },
      "execution_count": null,
      "outputs": []
    },
    {
      "cell_type": "code",
      "source": [
        "# Plotting deviance residuals against fitted values\n",
        "fig, axs = plt.subplots(1, 2, figsize=(10, 5))  # Adjusted for a single row of two plots\n",
        "\n",
        "# For model_m3\n",
        "predicted_m3 = model_m3.predict()\n",
        "resid_standard_m3 = model_m3.resid_deviance\n",
        "axs[0].scatter(predicted_m3, resid_standard_m2, color='gray')  # Corrected indexing\n",
        "axs[0].set_title('model_m3 Response vs. Deviance Residuals')\n",
        "\n",
        "# For model_m5\n",
        "predicted_m5 = model_m5.predict()\n",
        "resid_standard_m5 = model_m5.resid_deviance\n",
        "axs[1].scatter(predicted_m5, resid_standard_m5, color='gray')  # Corrected indexing\n",
        "axs[1].set_title('model_m5 Response vs. Deviance Residuals')\n",
        "\n",
        "plt.tight_layout()\n",
        "plt.show()\n"
      ],
      "metadata": {
        "id": "jQu7CkzH5xRW"
      },
      "execution_count": null,
      "outputs": []
    },
    {
      "cell_type": "code",
      "source": [
        "# Plot residuals against predictors\n",
        "fig, axs = plt.subplots(2, 3, figsize=(15, 10))\n",
        "age_numeric = data['AgeNum'].astype(float)\n",
        "age_factor = data['Age'].cat.codes\n",
        "\n",
        "# For model_m2\n",
        "axs[0, 0].scatter(data['Age'], resid_standard_m2, color='gray')\n",
        "axs[0, 1].scatter(age_numeric, resid_standard_m2, color='gray')\n",
        "axs[0, 2].scatter(age_numeric, resid_standard_m2, color='gray')\n",
        "\n",
        "# For model_m4\n",
        "axs[1, 0].scatter(data['Age'], resid_standard_m4, color='gray')\n",
        "axs[1, 1].scatter(age_numeric, resid_standard_m4, color='gray')\n",
        "axs[1, 2].scatter(age_numeric ** 2, resid_standard_m4, color='gray')\n",
        "\n",
        "plt.tight_layout()\n",
        "plt.show()\n",
        "\n",
        "# Checking the link function\n",
        "fig, axs = plt.subplots(1, 2, figsize=(10, 5))\n",
        "axs[0].scatter(predicted_m2, model_m2.resid_response, color='gray')\n",
        "axs[0].set_title('Response vs. Working Residuals for model_m2')\n",
        "axs[1].scatter(predicted_m4, model_m4.resid_response, color='gray')\n",
        "axs[1].set_title('Response vs. Working Residuals for model_m4')\n",
        "\n",
        "plt.tight_layout()\n",
        "plt.show()\n"
      ],
      "metadata": {
        "id": "pSnhdZLV2ZEL"
      },
      "execution_count": null,
      "outputs": []
    },
    {
      "cell_type": "code",
      "source": [],
      "metadata": {
        "id": "K_z2GGD51ELW"
      },
      "execution_count": null,
      "outputs": []
    },
    {
      "cell_type": "code",
      "source": [],
      "metadata": {
        "id": "Kwn4woIr1EN5"
      },
      "execution_count": null,
      "outputs": []
    },
    {
      "cell_type": "code",
      "source": [],
      "metadata": {
        "id": "iQWahunP1EQ6"
      },
      "execution_count": null,
      "outputs": []
    },
    {
      "cell_type": "code",
      "metadata": {
        "id": "lfTskUAqSVHk"
      },
      "source": [
        "%%R\n",
        "x       <- list(m1=dlc_m1,m2=dlc_m2,m3=dlc_m3,m4=dlc_m4)\n",
        "results <- data.frame(model_name = c(\"dlc_m1\",\"dlc_m2\",\"dlc_m3\",\"dlc_m4\"),\n",
        "       age_type = c(\"categorical\",\"categorical\",\"numerical\",\"numerical\"),\n",
        "       model_type = c(\"without interaction\",\"with interaction\",\"AgeNum Linear\", \"AgeNum quadratic\"))\n",
        "\n",
        "results <- tibble::rownames_to_column(results, var = \"model_number\") %>%\n",
        " add_column(AIC = as.numeric(lapply(x,AIC)),\n",
        "            deviance = lapply(x,deviance) %>% as.numeric() %>% round(2),\n",
        "            df = lapply(x,df.residual) %>% as.numeric()) %>%\n",
        "  mutate(c_val = ifelse(df>0,qchisq(0.05, df, ncp=0, lower.tail = FALSE),NA),\n",
        "         P_val = ifelse(df>0,pchisq(deviance, df, lower = FALSE),NA)  )\n",
        "results\n"
      ],
      "execution_count": null,
      "outputs": []
    },
    {
      "cell_type": "markdown",
      "metadata": {
        "id": "vaIfBKwRcFlS"
      },
      "source": [
        "Both models, with factor varialbe `Age` and with quadratic `AgeNum` are reasonably adequate."
      ]
    },
    {
      "cell_type": "code",
      "metadata": {
        "id": "Ger6joM8SVR0"
      },
      "source": [],
      "execution_count": null,
      "outputs": []
    },
    {
      "cell_type": "markdown",
      "metadata": {
        "id": "WrBG8nLIhEaj"
      },
      "source": [
        "Plot deviance residuals against fitted values"
      ]
    },
    {
      "cell_type": "code",
      "metadata": {
        "id": "he_req06SVXP"
      },
      "source": [
        "%%R\n",
        "par(mfrow=c(2,2))\n",
        "scatter.smooth(predict(dlc_m2, type='response'), rstandard(dlc_m2, type='deviance'))\n",
        "scatter.smooth(sqrt(fitted(dlc_m2)), rstandard(dlc_m2, type='deviance'))\n",
        "\n",
        "scatter.smooth(predict(dlc_m4, type='response'), rstandard(dlc_m4, type='deviance'))\n",
        "scatter.smooth(sqrt(fitted(dlc_m4)), rstandard(dlc_m4, type='deviance'))"
      ],
      "execution_count": null,
      "outputs": []
    },
    {
      "cell_type": "markdown",
      "metadata": {
        "id": "rR8WImPJn7qR"
      },
      "source": [
        "Question: why to plot sqrt of fitted values istead of fitted values only?"
      ]
    },
    {
      "cell_type": "code",
      "metadata": {
        "id": "Q7521dO5h9V1"
      },
      "source": [],
      "execution_count": null,
      "outputs": []
    },
    {
      "cell_type": "markdown",
      "metadata": {
        "id": "PyKHthruh9qQ"
      },
      "source": [
        "Plot residuals against predictors\n",
        "\n"
      ]
    },
    {
      "cell_type": "code",
      "metadata": {
        "id": "Wi9DSa0Ph-BU"
      },
      "source": [
        "%%R\n",
        "par(mfrow=c(2,3))\n",
        "plot(danishlc$Age,  rstandard(dlc_m2, type='deviance'), col='gray')\n",
        "plot(as.numeric(danishlc$Age),  rstandard(dlc_m2, type='deviance'), col='gray')\n",
        "scatter.smooth(danishlc$AgeNum,  rstandard(dlc_m2, type='deviance'), col='gray')\n",
        "\n",
        "scatter.smooth(danishlc$Age, rstandard(dlc_m4, type='deviance'), col='gray')\n",
        "scatter.smooth(danishlc$AgeNum, rstandard(dlc_m4, type='deviance'), col='gray')\n",
        "scatter.smooth(danishlc$AgeNum^2, rstandard(dlc_m4, type='deviance'), col='gray')\n"
      ],
      "execution_count": null,
      "outputs": []
    },
    {
      "cell_type": "markdown",
      "metadata": {
        "id": "PnNiD1MbkS1t"
      },
      "source": [
        "Checking the link function"
      ]
    },
    {
      "cell_type": "code",
      "metadata": {
        "id": "cEbsEvUGh-Fy"
      },
      "source": [
        "%%R\n",
        "par(mfrow=c(1,2))\n",
        "scatter.smooth(predict(dlc_m2, type='response'), resid(dlc_m2, type='working'), col='gray')\n",
        "scatter.smooth(predict(dlc_m4, type='response'), resid(dlc_m4, type='working'), col='gray')"
      ],
      "execution_count": null,
      "outputs": []
    },
    {
      "cell_type": "markdown",
      "metadata": {
        "id": "QDHVF5Sikrso"
      },
      "source": [
        "Checking if Poisson regression is appropriate"
      ]
    },
    {
      "cell_type": "markdown",
      "metadata": {
        "id": "U1VlLHdmsHyP"
      },
      "source": [
        "Quantile residuals:\n",
        "\n",
        "Dunn and Gordon (2018) introduce quantile residuals for discrete response variables. Their primary benefits are they do not show weird patterns (due to variable’s discreteness)."
      ]
    },
    {
      "cell_type": "code",
      "metadata": {
        "id": "_6GuUr7lh-If"
      },
      "source": [
        "%%R\n",
        "install.packages(\"statmod\")\n",
        "library(statmod) # For quantile residuals\n",
        "install.packages(\"surveillance\")\n",
        "library(surveillance) # For anscombe residuals\n"
      ],
      "execution_count": null,
      "outputs": []
    },
    {
      "cell_type": "code",
      "source": [
        "%%R\n",
        "par(mfrow=c(2,4))\n",
        "qqnorm(qresid(dlc_m3))\n",
        "qqline(qresid(dlc_m3))\n",
        "qqnorm(rstandard(dlc_m3, type=\"pearson\")); qqline(qresid(dlc_m3))\n",
        "qqnorm(rstandard(dlc_m3, type=\"deviance\")); qqline(qresid(dlc_m3))\n",
        "qqnorm(anscombe.residuals(dlc_m3, 1)); qqline(qresid(dlc_m3))\n",
        "\n",
        "\n",
        "qqnorm(qresid(dlc_m5))\n",
        "qqline(qresid(dlc_m5))\n",
        "qqnorm(rstandard(dlc_m5, type=\"pearson\")); qqline(qresid(dlc_m5))\n",
        "qqnorm(rstandard(dlc_m5, type=\"deviance\")); qqline(qresid(dlc_m5))\n",
        "qqnorm(anscombe.residuals(dlc_m5, 1)); qqline(qresid(dlc_m5))\n",
        "\n"
      ],
      "metadata": {
        "id": "0Dk7gH2s_Y1D"
      },
      "execution_count": null,
      "outputs": []
    },
    {
      "cell_type": "markdown",
      "metadata": {
        "id": "cSyG6eNXk7H_"
      },
      "source": [
        "Outliers and influential observations\n",
        "\n"
      ]
    },
    {
      "cell_type": "code",
      "metadata": {
        "id": "MSaaZYMlh-LO"
      },
      "source": [
        "%%R\n",
        "n = 24\n",
        "# Critical value for cook distance: 8/(n-2*p)\n",
        "# Critical value for hat values: 2*p/n\n",
        "\n",
        "par(mfrow=c(1,2))\n",
        "plot(cooks.distance(dlc_m3), type='h',las=1, main=\"Cook's D\",ylab=\"Cook's distance, D\")\n",
        "plot(hatvalues(dlc_m3),ylim=c(0,1))\n",
        "abline(2*(n-df.residual(dlc_m3))/n,0)\n",
        "\n",
        "plot(cooks.distance(dlc_m5), type='h',las=1, main=\"Cook's D\",ylab=\"Cook's distance, D\")\n",
        "plot(hatvalues(dlc_m5),ylim=c(0,1))\n",
        "abline(2*(n-df.residual(dlc_m5))/n,0)\n"
      ],
      "execution_count": null,
      "outputs": []
    },
    {
      "cell_type": "code",
      "metadata": {
        "id": "_C2RPvcLh-N5"
      },
      "source": [
        "%%R\n",
        "influence.measures(dlc_m2)\n",
        "influence.measures(dlc_m4)\n"
      ],
      "execution_count": null,
      "outputs": []
    },
    {
      "cell_type": "code",
      "source": [],
      "metadata": {
        "id": "d6DDY7bsfmQ_"
      },
      "execution_count": null,
      "outputs": []
    },
    {
      "cell_type": "code",
      "metadata": {
        "id": "_wQ9Kdvgh-QM"
      },
      "source": [
        " %%R\n",
        " which(influence.measures(dlc_m4)$is.inf[,'cook.d'] )\n",
        " which(influence.measures(dlc_m4)$is.inf[,'hat'] )"
      ],
      "execution_count": null,
      "outputs": []
    },
    {
      "cell_type": "markdown",
      "source": [
        "Task:\n"
      ],
      "metadata": {
        "id": "UjLbXS0wfnHz"
      }
    },
    {
      "cell_type": "code",
      "source": [],
      "metadata": {
        "id": "Y1ycRLGWg7yJ"
      },
      "execution_count": null,
      "outputs": []
    },
    {
      "cell_type": "markdown",
      "metadata": {
        "id": "3CzhPT4ktomH"
      },
      "source": [
        "HW:\n",
        "* Plot predictions and realization of cases from previous model.\n",
        "* Do we have enough realizaions in each group? If is the minimum number of realizations violated, select similar groups and merge them.\n",
        "* Re-run the analysis again with such a newly grouped dataset.\n",
        "* Transform data frame into the long format with new variable `cancer` with levels `yes` and `no`.\n",
        "* Can you model the previous problem with binomial distribution?\n",
        "* If so, do you do it. Run the experiment and model the probability of lung cancer. What is the odds ratio between people living in different locations? What is the odds ratio between people ten years older?\n",
        "* Run the analysis with new contingency table, where columns are `cancer`, `age`, `city`, `number` (number of population in the group).\n",
        "* Compare the relative risk with odds ratios for given City and between people ten years older."
      ]
    },
    {
      "cell_type": "code",
      "metadata": {
        "id": "5uhSwcUmh-Z2"
      },
      "source": [
        "data"
      ],
      "execution_count": null,
      "outputs": []
    },
    {
      "cell_type": "code",
      "source": [],
      "metadata": {
        "id": "gSGrYkK1AnwN"
      },
      "execution_count": null,
      "outputs": []
    }
  ]
}