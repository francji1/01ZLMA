{
  "nbformat": 4,
  "nbformat_minor": 0,
  "metadata": {
    "colab": {
      "private_outputs": true,
      "provenance": [],
      "include_colab_link": true
    },
    "kernelspec": {
      "name": "python3",
      "display_name": "Python 3"
    },
    "language_info": {
      "name": "python"
    }
  },
  "cells": [
    {
      "cell_type": "markdown",
      "metadata": {
        "id": "view-in-github",
        "colab_type": "text"
      },
      "source": [
        "<a href=\"https://colab.research.google.com/github/francji1/01ZLMA/blob/main/code/01ZLMA_ex12_loglinear_task.ipynb\" target=\"_parent\"><img src=\"https://colab.research.google.com/assets/colab-badge.svg\" alt=\"Open In Colab\"/></a>"
      ]
    },
    {
      "cell_type": "code",
      "source": [],
      "metadata": {
        "id": "Kj4CEtyyR_2Z"
      },
      "execution_count": null,
      "outputs": []
    },
    {
      "cell_type": "markdown",
      "metadata": {
        "id": "Ascwbbu8N_z_"
      },
      "source": [
        "# 01ZLMA - Exercise 12\n",
        "Exercise 12 of the course 01ZLMA.\n",
        "\n",
        "## Contents\n",
        "\n",
        "* Log-linear models with Poisson/count data\n",
        " ---\n"
      ]
    },
    {
      "cell_type": "code",
      "source": [],
      "metadata": {
        "id": "bDfD_N_4N_0F"
      },
      "execution_count": null,
      "outputs": []
    },
    {
      "cell_type": "code",
      "execution_count": null,
      "metadata": {
        "id": "VycFyw14TcYn"
      },
      "outputs": [],
      "source": [
        "import pandas as pd\n",
        "import numpy as np\n",
        "import scipy\n",
        "from scipy import stats\n",
        "\n",
        "import statsmodels.api as sm\n",
        "import statsmodels.formula.api as smf\n",
        "import sklearn\n",
        "\n",
        "import matplotlib.pyplot as plt\n",
        "import seaborn as sns\n",
        "from statsmodels.graphics.factorplots import interaction_plot\n",
        "from statsmodels.graphics.mosaicplot import mosaic\n",
        "\n",
        "sns.set_theme()"
      ]
    },
    {
      "cell_type": "code",
      "source": [
        "!pip install dfply\n",
        "from dfply import *  # handy module to mimic R dplyr library"
      ],
      "metadata": {
        "id": "1uTDf75IUG-q"
      },
      "execution_count": null,
      "outputs": []
    },
    {
      "cell_type": "code",
      "source": [
        "# Please note that this cell works may not work in other env-s that Google Colab\n",
        "!pip install wget\n",
        "import wget\n",
        "url = \"https://github.com/francji1/01ZLMA/raw/main/code/helpers.py\"\n",
        "wget.download(url, '../content/helpers.py')  # path where Colab can find libraries\n",
        "from helpers import Anova\n",
        "anova = Anova()"
      ],
      "metadata": {
        "id": "0fqTSp9PUD7F"
      },
      "execution_count": null,
      "outputs": []
    },
    {
      "cell_type": "markdown",
      "source": [],
      "metadata": {
        "id": "FiDlYUFFel4k"
      }
    },
    {
      "cell_type": "code",
      "source": [
        "# Reading the data from the URL\n",
        "url = \"https://raw.githubusercontent.com/francji1/01ZLMA/main/data/drugs.txt\"\n",
        "drugs = pd.read_csv(url, sep=';', decimal='.')\n",
        "\n",
        "# Display the DataFrame\n",
        "print(drugs)"
      ],
      "metadata": {
        "id": "i_-wkjf1eee3"
      },
      "execution_count": null,
      "outputs": []
    },
    {
      "cell_type": "markdown",
      "source": [
        "# **Tasks**:\n",
        "\n",
        "* Convert the data to the appropriate format and data type to use the loglinear glm model:\n",
        "\n",
        "\n",
        "* Draw interactions between individual drug addictions.\n",
        "\n",
        "\n",
        "* Create models with mutually independent variables, pairwise dependent and saturated model.\n",
        "\n",
        "\n",
        "* Is the model with independent variables of sufficient quality? What is the chance that the person in the study will use marijuana? What is the probability that the person in the study will drink alcohol? List the appropriate test to confirm the quality of the model.\n",
        "\n",
        "\n",
        "* Test a model where all variables are mutually dependent and the conditional ratios of the sum of two variables do not depend on the third variable.\n",
        "What is the ratio of smoking among alcoholics than abstainers?\n",
        "Answer: Among alcoholics, there is a chance that smoking will be X times bigger/smaller.\n",
        "\n",
        "\n",
        "* Is the model with mutual interactions of sufficient quality, or is there a need to switch to a saturated model?\n",
        "\n",
        "\n",
        "* For all models, provide predictions of expected dependence counts and residual virgin statistics.\n",
        "\n",
        "\n",
        "* Among abstainers, is there less of a chance that smoking marijuana will also be smoking cigarettes or vice versa?"
      ],
      "metadata": {
        "id": "uUXlOfffN_0G"
      }
    },
    {
      "cell_type": "code",
      "source": [
        "# Convert necessary columns to categorical type\n",
        "drugs[['alcohol', 'cigarettes', 'marijuana']] = drugs[['alcohol', 'cigarettes', 'marijuana']].apply(lambda x: x.astype('category'))\n",
        "drugs"
      ],
      "metadata": {
        "id": "v5B45d5vN_0G"
      },
      "execution_count": null,
      "outputs": []
    },
    {
      "cell_type": "code",
      "source": [],
      "metadata": {
        "id": "xg3YbdVWameC"
      },
      "execution_count": null,
      "outputs": []
    },
    {
      "cell_type": "markdown",
      "source": [
        "HW:\n",
        "\n",
        "Read an analysis from https://stats.oarc.ucla.edu/r/dae/poisson-regression/\n",
        "\n",
        "Rerun the analysis with the assumption of over/under dispersion, i.e dispersion parameter not equal to 1. How does results change?\n",
        "\n",
        "Discuss the results and compute the difference in expected number of awards for model with dispersion parameter equal to 1 and smaller/larger. Plot both estimated curves for all programs.\n",
        "\n"
      ],
      "metadata": {
        "id": "STXK8jgBamwZ"
      }
    },
    {
      "cell_type": "code",
      "source": [
        "awards <- read.csv(\"https://stats.idre.ucla.edu/stat/data/poisson_sim.csv\")\n",
        "awards"
      ],
      "metadata": {
        "id": "Li8flpIMarBD"
      },
      "execution_count": null,
      "outputs": []
    },
    {
      "cell_type": "code",
      "source": [],
      "metadata": {
        "id": "QnXow9vjazkz"
      },
      "execution_count": null,
      "outputs": []
    }
  ]
}