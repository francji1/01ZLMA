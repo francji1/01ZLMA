{
  "nbformat": 4,
  "nbformat_minor": 0,
  "metadata": {
    "colab": {
      "private_outputs": true,
      "provenance": [],
      "toc_visible": true,
      "authorship_tag": "ABX9TyNS4hUDqWgN6NL6fbhHSTxy",
      "include_colab_link": true
    },
    "kernelspec": {
      "name": "python3",
      "display_name": "Python 3"
    },
    "language_info": {
      "name": "python"
    }
  },
  "cells": [
    {
      "cell_type": "markdown",
      "metadata": {
        "id": "view-in-github",
        "colab_type": "text"
      },
      "source": [
        "<a href=\"https://colab.research.google.com/github/francji1/01ZLMA/blob/main/code/01ZLMA_ex01_solution.ipynb\" target=\"_parent\"><img src=\"https://colab.research.google.com/assets/colab-badge.svg\" alt=\"Open In Colab\"/></a>"
      ]
    },
    {
      "cell_type": "markdown",
      "metadata": {
        "id": "x-i6MbNFm4Zt"
      },
      "source": [
        "#Exercise 01 of the course 01ZLMA.\n",
        "\n",
        "## Contents\n",
        "\n",
        "*   Recap of multivariable linear regression (FJFI course 01RAD)\n",
        "*   Discussion about organizational/run of the course\n",
        "*   Introdaction into Google colab notebooks (R version https://colab.to/r or Python versions)\n",
        "* **Exponential type distributions**\n"
      ]
    },
    {
      "cell_type": "code",
      "source": [
        "import pandas as pd\n",
        "import numpy as np\n",
        "\n",
        "import seaborn as sns\n",
        "import matplotlib.pyplot as plt\n"
      ],
      "metadata": {
        "id": "KCrC6KYBg253"
      },
      "execution_count": null,
      "outputs": []
    },
    {
      "cell_type": "code",
      "source": [
        "# Load the R magic extension\n",
        "%load_ext rpy2.ipython"
      ],
      "metadata": {
        "id": "bi0W-gOzGiu3"
      },
      "execution_count": null,
      "outputs": []
    },
    {
      "cell_type": "markdown",
      "source": [
        "## Regression analysis\n"
      ],
      "metadata": {
        "id": "bM3KoIrg61Sh"
      }
    },
    {
      "cell_type": "markdown",
      "source": [
        "Dataset description:\n",
        "https://jse.amstat.org/datasets/fishcatch.txt\n",
        "\n"
      ],
      "metadata": {
        "id": "9sESyu3fxjAd"
      }
    },
    {
      "cell_type": "markdown",
      "metadata": {
        "id": "-S5C0VCJgOTG"
      },
      "source": [
        "### Fish Catch Dataset\n",
        "\n",
        "159 fishes of 7 species are caught and measured. Altogether there are\n",
        "8 variables.  All the fishes are caught from the same lake\n",
        "(Laengelmavesi) near Tampere in Finland.\n",
        "\n",
        "SOURCES:\n",
        "Brofeldt, Pekka: Bidrag till kaennedom on fiskbestondet i vaera\n",
        "        sjoear. Laengelmaevesi. T.H.Jaervi: Finlands Fiskeriet  Band 4,\n",
        "        Meddelanden utgivna av fiskerifoereningen i Finland.\n",
        "        Helsingfors 1917\n",
        "\n",
        "VARIABLE DESCRIPTIONS:\n",
        "\n",
        "1.  Obs       Observation number ranges from 1 to 159\n",
        "2.  Species   (Numeric)\n",
        "        Code Finnish  Swedish    English        Latin      \n",
        "         1   Lahna    Braxen     Bream          Abramis brama\n",
        "         2   Siika    Iiden      Whitewish      Leusiscus idus\n",
        "         3   Saerki   Moerten    Roach          Leuciscus rutilus\n",
        "         4   Parkki   Bjoerknan  Blicca         Abramis bjrkna\n",
        "         5   Norssi   Norssen    Smelt          Osmerus eperlanus\n",
        "         6   Hauki    Jaedda     Pike           Esox lucius\n",
        "         7   Ahven    Abborre    Perch          Perca fluviatilis\n",
        "\n",
        "3.  Weight      Weight of the fish (in grams)\n",
        "4.  Length1     Length from the nose to the beginning of the tail (in cm)\n",
        "5.  Length2     Length from the nose to the notch of the tail (in cm)\n",
        "6.  Length3     Length from the nose to the end of the tail (in cm)\n",
        "7.  Height%     Maximal height as % of Length3\n",
        "8.  Width%      Maximal width as % of Length3\n",
        "9.  Sex         1 = male 0 = female\n",
        "\n"
      ]
    },
    {
      "cell_type": "code",
      "source": [
        "# Read the dataset without column names\n",
        "url = \"http://jse.amstat.org/datasets/fishcatch.dat.txt\"\n",
        "col_names = ['Obs', 'Species', 'Weight', 'Len1', 'Len2', 'Len3', 'Height', 'Width', 'Sex']\n",
        "fishcatch = pd.read_csv(url, sep='\\s+', header=None, names=col_names)\n",
        "fishcatch"
      ],
      "metadata": {
        "id": "mlMWVcK2HCCT"
      },
      "execution_count": null,
      "outputs": []
    },
    {
      "cell_type": "code",
      "source": [
        "# Remove rows with missing Weight\n",
        "fish = fishcatch.dropna(subset=['Weight']).copy()\n",
        "\n",
        "# Replace missing values in 'Sex' with \"unknown\"\n",
        "fish['Sex'] = fish['Sex'].fillna(\"unknown\")\n",
        "\n",
        "# Recode Sex: change 1 -> \"male\", 0 -> \"female\"\n",
        "fish['Sex'] = fish['Sex'].replace({1: \"male\", 0: \"female\", '1': \"male\", '0': \"female\"})\n",
        "\n",
        "# Convert 'Sex' and 'Species' to categorical types\n",
        "fish['Sex'] = fish['Sex'].astype('category')\n",
        "fish['Species'] = fish['Species'].astype('category')\n",
        "\n",
        "# Drop the Obs column\n",
        "fish = fish.drop(columns=['Obs'])\n",
        "\n",
        "# Display summary statistics (all columns)\n",
        "summary = fish.describe(include='all').T\n",
        "print(summary)\n"
      ],
      "metadata": {
        "id": "dDj406s4gzBQ"
      },
      "execution_count": null,
      "outputs": []
    },
    {
      "cell_type": "code",
      "source": [
        "fish"
      ],
      "metadata": {
        "id": "FtAKob4kgzEZ"
      },
      "execution_count": null,
      "outputs": []
    },
    {
      "cell_type": "code",
      "source": [
        "print(fish.describe(include='all').T)"
      ],
      "metadata": {
        "id": "XCd0IjCT2-SW"
      },
      "execution_count": null,
      "outputs": []
    },
    {
      "cell_type": "code",
      "source": [
        "# Define the numeric variables for the pair plot.\n",
        "num_vars = ['Weight', 'Len1', 'Len2', 'Len3', 'Height', 'Width']\n",
        "\n",
        "# Create a palette mapping for species using the same palette as PairGrid.\n",
        "species_categories = fish['Species'].cat.categories\n",
        "palette = dict(zip(species_categories, sns.color_palette(\"deep\", n_colors=len(species_categories))))\n",
        "\n",
        "def corrcoef_per_species(x, y, **kwargs):\n",
        "    ax = plt.gca()\n",
        "    # Retrieve the corresponding subset of the original dataframe.\n",
        "    subset = fish.loc[x.index]\n",
        "    groups = subset.groupby('Species')\n",
        "    species_list = list(groups.groups.keys())\n",
        "    N = len(species_list)\n",
        "    # Define vertical positions for each species annotation.\n",
        "    offsets = np.linspace(0.7, 0.3, N) if N > 1 else [0.5]\n",
        "    for sp, offset in zip(species_list, offsets):\n",
        "        group_mask = subset['Species'] == sp\n",
        "        x_group = x[group_mask]\n",
        "        y_group = y[group_mask]\n",
        "        if len(x_group) > 1:\n",
        "            r = np.corrcoef(x_group, y_group)[0, 1]\n",
        "            ax.text(0.5, offset, f\"{sp}: {r:.2f}\",\n",
        "                    transform=ax.transAxes,\n",
        "                    ha='center', va='center',\n",
        "                    fontsize=10, color=palette[sp])\n",
        "    ax.set_xticks([])\n",
        "    ax.set_yticks([])\n",
        "\n",
        "# Create a PairGrid with an enlarged figure.\n",
        "g = sns.PairGrid(fish, vars=num_vars, hue='Species', height=3)\n",
        "g.map_lower(sns.scatterplot, alpha=0.6, s=30)\n",
        "g.map_diag(sns.kdeplot)\n",
        "g.map_upper(corrcoef_per_species)\n",
        "g.add_legend(title=\"Species\")\n",
        "plt.suptitle(\"Pair Plot with Correlations by Species\", y=1.02)\n",
        "plt.show()\n"
      ],
      "metadata": {
        "id": "TyCOVzwxoD-Z"
      },
      "execution_count": null,
      "outputs": []
    },
    {
      "cell_type": "code",
      "source": [
        "species_list = fish['Species'].cat.categories\n",
        "num_vars = ['Weight', 'Len1', 'Len2', 'Len3', 'Height', 'Width']\n",
        "\n",
        "n = len(species_list)\n",
        "fig, axes = plt.subplots(1, n, figsize=(5 * n, 4))\n",
        "if n == 1:\n",
        "    axes = [axes]\n",
        "\n",
        "for ax, sp in zip(axes, species_list):\n",
        "    subset = fish[fish['Species'] == sp]\n",
        "    corr = subset[num_vars].corr()\n",
        "    sns.heatmap(corr, annot=True, cmap=\"coolwarm\", ax=ax, vmin=-1, vmax=1, cbar=False)\n",
        "    ax.set_title(f\"Correlation: {sp}\")\n",
        "\n",
        "plt.suptitle(\"Correlation Matrices per Species\", y=1.05)\n",
        "plt.tight_layout()\n",
        "plt.show()\n"
      ],
      "metadata": {
        "id": "1J-5PhQrliM7"
      },
      "execution_count": null,
      "outputs": []
    },
    {
      "cell_type": "code",
      "source": [
        "plt.figure(figsize=(7,5))\n",
        "sns.boxplot(x='Sex', y='Weight', data=fish, showfliers=False, linewidth=1)\n",
        "sns.stripplot(x='Sex', y='Weight', data=fish, jitter=0.1, alpha=0.5, size=4, color='black')\n",
        "plt.xlabel(\"Sex\")\n",
        "plt.ylabel(\"Weight\")\n",
        "plt.title(\"Weight vs Sex\")\n",
        "plt.tight_layout()\n",
        "plt.show()\n"
      ],
      "metadata": {
        "id": "h-0WvLELgzM6"
      },
      "execution_count": null,
      "outputs": []
    },
    {
      "cell_type": "code",
      "source": [
        "plt.figure(figsize=(8,6))\n",
        "# Boxplot: grouping by Species and split by Sex\n",
        "sns.boxplot(x='Species', y='Weight', hue='Sex', data=fish, showfliers=False, linewidth=1)\n",
        "# Jittered points overlaid\n",
        "sns.stripplot(x='Species', y='Weight', data=fish, dodge=True, jitter=0.1, alpha=0.5, size=4, color='black')\n",
        "plt.title(\"Weight vs Species\\nDistinguish between Sex\")\n",
        "plt.xlabel(\"Species\")\n",
        "plt.ylabel(\"Weight\")\n",
        "plt.figtext(0.5, 0.01, \"version: 001\", ha=\"center\", fontsize=9)\n",
        "plt.legend(title=\"Sex\", loc=\"lower center\", bbox_to_anchor=(0.5, -0.2), ncol=3)\n",
        "plt.tight_layout()\n",
        "plt.show()\n"
      ],
      "metadata": {
        "id": "jqPkQGwwgzKG"
      },
      "execution_count": null,
      "outputs": []
    },
    {
      "cell_type": "code",
      "source": [],
      "metadata": {
        "id": "CTJV6EUCgzPV"
      },
      "execution_count": null,
      "outputs": []
    },
    {
      "cell_type": "code",
      "source": [],
      "metadata": {
        "id": "o5rQs12fgzRt"
      },
      "execution_count": null,
      "outputs": []
    },
    {
      "cell_type": "code",
      "source": [],
      "metadata": {
        "id": "_WF-93m-gzUB"
      },
      "execution_count": null,
      "outputs": []
    },
    {
      "cell_type": "markdown",
      "metadata": {
        "id": "593Mg4ZbbeEE"
      },
      "source": [
        "**To** load required libraries (with R runtime type):\n"
      ]
    },
    {
      "cell_type": "code",
      "source": [
        "%%R\n",
        "#cat(system('sudo apt-get install -y gmp', intern=TRUE), sep = \"\\n\")\n",
        "#cat(system('sudo apt-get install -y partitions', intern=TRUE), sep = \"\\n\")\n",
        "\n",
        "list_of_packages <- c(\"tidyverse\",\"dplyr\",\"MASS\",\"knitr\", \"GGally\", \"reactable\",\"gridExtra\",\"IRdisplay\") #\n",
        "missing_packages <- list_of_packages[!(list_of_packages %in% installed.packages()[,\"Package\"])]\n",
        "missing_packages\n",
        "if(length(missing_packages)) install.packages(missing_packages)\n",
        "lapply(list_of_packages, library, character.only = TRUE)\n",
        "\n",
        "#For sure: set dplyr functions\n",
        "select    <- dplyr::select;\n",
        "rename    <- dplyr::rename;\n",
        "mutate    <- dplyr::mutate;\n",
        "summarize <- dplyr::summarize;\n",
        "arrange   <- dplyr::arrange;\n",
        "slice     <- dplyr::slice;\n",
        "filter    <- dplyr::filter;\n",
        "recode    <- dplyr::recode"
      ],
      "metadata": {
        "id": "kWxwvzXlGSk0"
      },
      "execution_count": null,
      "outputs": []
    },
    {
      "cell_type": "code",
      "metadata": {
        "id": "5fOEovcZip-i"
      },
      "source": [
        "%%R\n",
        "#@title Read dataset (without colnames)\n",
        "fishcatch <- read.table(\"http://jse.amstat.org/datasets/fishcatch.dat.txt\") %>%\n",
        "  rename(Obs =V1,\n",
        "         Species = V2,\n",
        "         Weight = V3,\n",
        "         Len1 = V4,\n",
        "         Len2 = V5,\n",
        "         Len3 = V6,\n",
        "         Height = V7,\n",
        "         Width = V8,\n",
        "         Sex = V9\n",
        "         )\n",
        "\n",
        "head(fishcatch)\n",
        "fishcatch %>%\n",
        "   summary() %>%\n",
        "   kable(format = \"pipe\")"
      ],
      "execution_count": null,
      "outputs": []
    },
    {
      "cell_type": "code",
      "source": [],
      "metadata": {
        "id": "1Fg4vOBYVAgg"
      },
      "execution_count": null,
      "outputs": []
    },
    {
      "cell_type": "markdown",
      "source": [
        "Your workong directory is in the cloud. You can mount your Google drive, or your local hard drive\n",
        "(https://stackoverflow.com/questions/56679549/how-to-mount-google-drive-to-r-notebook-in-colab)\n",
        " (https://github.com/katewall/medium_tutorials/blob/main/210630_Medium_ColabwithR.ipynb)."
      ],
      "metadata": {
        "id": "T-6BZFrl5czN"
      }
    },
    {
      "cell_type": "code",
      "metadata": {
        "id": "M3zV9lc_bo7c"
      },
      "source": [
        "%%R\n",
        "R.version.string\n",
        "getwd()"
      ],
      "execution_count": null,
      "outputs": []
    },
    {
      "cell_type": "markdown",
      "metadata": {
        "id": "bxGxzvUO1fwV"
      },
      "source": [
        "|   |     Obs      |   Species    |    Weight     |     Len1     |     Len2     |     Len3     |    Height    |    Width     |     Sex       |\n",
        "|:--|:-------------|:-------------|:--------------|:-------------|:-------------|:-------------|:-------------|:-------------|:--------------|\n",
        "|   |Min.   :  1.0 |Min.   :1.000 |Min.   :   0.0 |Min.   : 7.50 |Min.   : 8.40 |Min.   : 8.80 |Min.   :14.50 |Min.   : 8.70 |Min.   :0.0000 |\n",
        "|   |1st Qu.: 40.5 |1st Qu.:2.000 |1st Qu.: 120.0 |1st Qu.:19.05 |1st Qu.:21.00 |1st Qu.:23.15 |1st Qu.:24.25 |1st Qu.:13.40 |1st Qu.:0.0000 |\n",
        "|   |Median : 80.0 |Median :5.000 |Median : 272.5 |Median :25.20 |Median :27.30 |Median :29.40 |Median :27.10 |Median :14.60 |Median :0.0000 |\n",
        "|   |Mean   : 80.0 |Mean   :4.497 |Mean   : 398.7 |Mean   :26.25 |Mean   :28.42 |Mean   :31.23 |Mean   :28.31 |Mean   :14.12 |Mean   :0.2361 |\n",
        "|   |3rd Qu.:119.5 |3rd Qu.:7.000 |3rd Qu.: 650.0 |3rd Qu.:32.70 |3rd Qu.:35.50 |3rd Qu.:39.65 |3rd Qu.:37.60 |3rd Qu.:15.30 |3rd Qu.:0.0000 |\n",
        "|   |Max.   :159.0 |Max.   :7.000 |Max.   :1650.0 |Max.   :59.00 |Max.   :63.40 |Max.   :68.00 |Max.   :44.50 |Max.   :20.90 |Max.   :1.0000 |\n",
        "|   |NA            |NA            |NA's   :1      |NA            |NA            |NA            |NA            |NA            |NA's   :87     |"
      ]
    },
    {
      "cell_type": "code",
      "source": [
        "#reactable(fishcatch)"
      ],
      "metadata": {
        "id": "saPMQbm37riw"
      },
      "execution_count": null,
      "outputs": []
    },
    {
      "cell_type": "code",
      "metadata": {
        "id": "39BpkMyv2HIZ"
      },
      "source": [
        "%%R\n",
        "mutate_cond <- function(.data, condition, ..., envir = parent.frame()) {\n",
        "  condition <- eval(substitute(condition), .data, envir)\n",
        "  .data[condition, ] <- .data[condition, ] %>% mutate(...)\n",
        "  .data\n",
        "}"
      ],
      "execution_count": null,
      "outputs": []
    },
    {
      "cell_type": "code",
      "metadata": {
        "id": "Xdpgc0ijh2OL"
      },
      "source": [
        "%%R\n",
        "fish <- fishcatch %>%\n",
        "  drop_na(Weight) %>%\n",
        "  mutate_cond(is.na(Sex), Sex = \"unknown\") %>%\n",
        "  mutate(Sex = as.factor(Sex)) %>%\n",
        "  mutate(Sex = recode(Sex,\"1\" = \"male\", \"0\" = \"female\")) %>%\n",
        "  mutate(Species = factor(Species)) %>%\n",
        "  select(-Obs)\n",
        "fish %>% summary() %>% kable()\n"
      ],
      "execution_count": null,
      "outputs": []
    },
    {
      "cell_type": "code",
      "source": [
        "%%R\n",
        "p <- fish %>%\n",
        "  ggpairs(\n",
        "    columns = 2:8,\n",
        "    mapping = aes(color = Species),\n",
        "    upper = list(continuous = wrap(\"cor\", size = 3)),\n",
        "    lower = list(continuous = wrap(\"points\", alpha = 0.3, size = 0.5))\n",
        "  ) +\n",
        "  theme(legend.position = \"bottom\") +\n",
        "  labs(color = \"Species Type\")\n",
        "\n",
        "# Save the plot with the desired dimensions (e.g., 12 inches by 8 inches)\n",
        "ggsave(\"ggpairs_enlarged.png\", p, width = 12, height = 8, dpi = 300)\n",
        "p\n",
        "# Display the saved image in the notebook\n",
        "#IRdisplay::display_png(\"ggpairs_enlarged.png\")"
      ],
      "metadata": {
        "id": "IAKxKRw7onDE"
      },
      "execution_count": null,
      "outputs": []
    },
    {
      "cell_type": "code",
      "source": [
        "from IPython.display import Image, display\n",
        "display(Image(filename=\"ggpairs_enlarged.png\"))"
      ],
      "metadata": {
        "id": "GlpMgMJWqNPZ"
      },
      "execution_count": null,
      "outputs": []
    },
    {
      "cell_type": "code",
      "source": [],
      "metadata": {
        "id": "mc00mhjEuDU-"
      },
      "execution_count": null,
      "outputs": []
    },
    {
      "cell_type": "code",
      "source": [],
      "metadata": {
        "id": "9VWtjoPx8Aut"
      },
      "execution_count": null,
      "outputs": []
    },
    {
      "cell_type": "markdown",
      "metadata": {
        "id": "7cX82QXe2hwG"
      },
      "source": [
        "# Regression\n"
      ]
    },
    {
      "cell_type": "markdown",
      "metadata": {
        "id": "BVabzuja4s8g"
      },
      "source": [
        "## What should you be able to do\n",
        "\n",
        "* Recode Species, instead numeric use fish names.\n",
        "* Which variables look promising, which variables can be omitted.\n",
        "* Edit the dataset\n",
        "* Plot Height vs. Weight, Leng3 vs. Weight, Width vs. Weight"
      ]
    },
    {
      "cell_type": "markdown",
      "source": [
        "### In R"
      ],
      "metadata": {
        "id": "jlnHOzP-8WyL"
      }
    },
    {
      "cell_type": "code",
      "metadata": {
        "id": "H5N9r21YIm2E"
      },
      "source": [
        "%%R\n",
        "summary(fish)"
      ],
      "execution_count": null,
      "outputs": []
    },
    {
      "cell_type": "code",
      "metadata": {
        "id": "iIslM_OA3AgM"
      },
      "source": [
        "%%R\n",
        "Fish <- fish %>%\n",
        "  filter(Species %in% c(1,3,7)) %>%\n",
        "  mutate(Species = recode(Species,\"1\" = \"Bream\",\n",
        "                                  \"2\" = \"Whitewish\",\n",
        "                                  \"3\" = \"Roach\",\n",
        "                                  \"4\" = \"Blicca\",\n",
        "                                  \"5\" = \"Smelt\",\n",
        "                                  \"6\" = \"Pike\",\n",
        "                                  \"7\" = \"Perch\")) %>%\n",
        "  mutate(Species = fct_drop(Species))%>%\n",
        "  select(-Sex) %>%\n",
        "  filter(Weight != 0)\n",
        "head(Fish)\n",
        "summary(Fish)"
      ],
      "execution_count": null,
      "outputs": []
    },
    {
      "cell_type": "code",
      "metadata": {
        "id": "rrOhtjuhhX21"
      },
      "source": [
        "%%R -w 1200 -h 400\n",
        "options(repr.plot.width = 15, repr.plot.height = 5, repr.plot.res = 90)\n",
        "\n",
        "Fish <- Fish %>% mutate(Height = Height*Len3,\n",
        "                        Width = Width*Len3)\n",
        "\n",
        "Height_Weight <- ggplot(Fish,aes(x=Height,y=Weight,col=Species))+\n",
        "                 geom_point(size=5,alpha=0.6)+\n",
        "                 geom_smooth(col=\"grey40\",method = \"lm\",se=F,lty=\"dashed\",lwd=2,formula=\"y~x\")\n",
        "\n",
        "LengthV_Weight <- ggplot(Fish,aes(x=Len3,y=Weight,col=Species))+\n",
        "                  geom_point(size=5,alpha=0.6)+\n",
        "                  geom_smooth(col=\"grey40\",method = \"lm\",se=F,lty=\"dashed\",lwd=2,formula=\"y~x\")\n",
        "\n",
        "Width_Weight <- ggplot(Fish,aes(x=Width,y=Weight,col=Species))+\n",
        "                 geom_point(size=5,alpha=0.6)+\n",
        "                 geom_smooth(col=\"grey40\",method = \"lm\",se=F,lty=\"dashed\",lwd=2,formula=\"y~x\")\n",
        "\n",
        "#Height_Weight\n",
        "#LengthV_Weight\n",
        "#Width_Weight\n",
        "\n",
        "grid.arrange(Height_Weight, LengthV_Weight, Width_Weight, ncol = 3)"
      ],
      "execution_count": null,
      "outputs": []
    },
    {
      "cell_type": "code",
      "metadata": {
        "id": "eirqitI7hsuW"
      },
      "source": [
        "%%R -w 1200 -h 400\n",
        "\n",
        "Height_Weight_log <- ggplot(Fish,aes(x=log(Width),y=log(Weight),col=Species))+\n",
        "                 geom_point(size=5,alpha=0.6)+\n",
        "                 geom_smooth(col=\"grey40\",method = \"lm\",se=F,lty=\"dashed\",lwd=2,,formula=\"y~x\")\n",
        "\n",
        "LengthV_Weight_log <- ggplot(Fish,aes(x=log(Len3),y=log(Weight),col=Species))+\n",
        "                  geom_point(size=5,alpha=0.6)+\n",
        "                  geom_smooth(col=\"grey40\",method = \"lm\",se=F,lty=\"dashed\",lwd=2,,formula=\"y~x\")\n",
        "\n",
        "Width_Weight_log  <- ggplot(Fish,aes(x=log(Height),y=log(Weight),col=Species))+\n",
        "                 geom_point(size=5,alpha=0.6)+\n",
        "                 geom_smooth(col=\"grey40\",method = \"lm\",se=F,lty=\"dashed\",lwd=2,,formula=\"y~x\")\n",
        "\n",
        "\n",
        "grid.arrange(Height_Weight_log, LengthV_Weight_log, Width_Weight_log, ncol = 3)\n"
      ],
      "execution_count": null,
      "outputs": []
    },
    {
      "cell_type": "code",
      "metadata": {
        "id": "fG957pwr2plZ"
      },
      "source": [
        "%%R\n",
        "# Model with all variables and interaction till 2rd order ...\n",
        "m0  <- lm(Weight ~ (.)^2, data = Fish)\n",
        "summary(m0)\n",
        "# Ufff"
      ],
      "execution_count": null,
      "outputs": []
    },
    {
      "cell_type": "markdown",
      "source": [
        "### In python:"
      ],
      "metadata": {
        "id": "AablAPz7Kde9"
      }
    },
    {
      "cell_type": "code",
      "source": [
        "# Display summary of the DataFrame in a table format\n",
        "fish_summary = fish.describe(include='all').T\n",
        "fish_summary\n"
      ],
      "metadata": {
        "id": "GoYfrDM0LXGA"
      },
      "execution_count": null,
      "outputs": []
    },
    {
      "cell_type": "code",
      "source": [
        "Fish = fish[fish['Species'].isin([1, 3, 7]) & (fish['Weight'] != 0)].copy()\n",
        "\n",
        "Fish['Height'] = Fish['Height'] * Fish['Len3']\n",
        "Fish['Width'] = Fish['Width'] * Fish['Len3']\n",
        "\n",
        "# Replace Species numbers with names using a map\n",
        "# Recode Species values\n",
        "species_map = {\n",
        "    1: \"Bream\",\n",
        "    2: \"Whitewish\",\n",
        "    3: \"Roach\",\n",
        "    4: \"Blicca\",\n",
        "    5: \"Smelt\",\n",
        "    6: \"Pike\",\n",
        "    7: \"Perch\"\n",
        "}\n",
        "Fish['Species'] = Fish['Species'].map(species_map)\n",
        "Fish['Species'] = Fish['Species'].cat.remove_unused_categories()\n",
        "\n",
        "\n",
        "# Ensure the Species column is of categorical type\n",
        "Fish['Species'] = Fish['Species'].astype('category')\n",
        "\n",
        "# Drop the 'Sex' column\n",
        "Fish = Fish.drop(columns=['Sex'])\n",
        "\n",
        "\n"
      ],
      "metadata": {
        "id": "UyB6AzgpKft_"
      },
      "execution_count": null,
      "outputs": []
    },
    {
      "cell_type": "code",
      "source": [
        "# Display the first few rows of the DataFrame\n",
        "print(Fish.head())\n",
        "\n",
        "# Summary statistics for the DataFrame\n",
        "fish_summary = Fish.describe(include='all').T\n",
        "fish_summary\n"
      ],
      "metadata": {
        "id": "95M92x9p4LUY"
      },
      "execution_count": null,
      "outputs": []
    },
    {
      "cell_type": "code",
      "source": [
        "# Set a larger figure size: width 15, height 5 inches.\n",
        "plt.figure(figsize=(15, 5))\n",
        "\n",
        "# Plot 1: Height vs Weight\n",
        "plt.subplot(1, 3, 1)\n",
        "sns.scatterplot(data=Fish, x='Height', y='Weight', hue='Species', s=100, alpha=0.6)\n",
        "sns.regplot(data=Fish, x='Height', y='Weight', scatter=False, color='grey',\n",
        "            line_kws={'linestyle': '--', 'linewidth': 2})\n",
        "plt.title(\"Height vs Weight\")\n",
        "\n",
        "# Plot 2: Len3 vs Weight\n",
        "plt.subplot(1, 3, 2)\n",
        "sns.scatterplot(data=Fish, x='Len3', y='Weight', hue='Species', s=100, alpha=0.6)\n",
        "sns.regplot(data=Fish, x='Len3', y='Weight', scatter=False, color='grey',\n",
        "            line_kws={'linestyle': '--', 'linewidth': 2})\n",
        "plt.title(\"Len3 vs Weight\")\n",
        "\n",
        "# Plot 3: Width vs Weight\n",
        "plt.subplot(1, 3, 3)\n",
        "sns.scatterplot(data=Fish, x='Width', y='Weight', hue='Species', s=100, alpha=0.6)\n",
        "sns.regplot(data=Fish, x='Width', y='Weight', scatter=False, color='grey',\n",
        "            line_kws={'linestyle': '--', 'linewidth': 2})\n",
        "plt.title(\"Width vs Weight\")\n",
        "\n",
        "# Adjust layout and show\n",
        "plt.tight_layout()\n",
        "plt.show()"
      ],
      "metadata": {
        "id": "kjwV-7p-36lt"
      },
      "execution_count": null,
      "outputs": []
    },
    {
      "cell_type": "code",
      "source": [
        "plt.figure(figsize=(15, 5))\n",
        "\n",
        "# Plot 1: log(Width) vs log(Weight)\n",
        "plt.subplot(1, 3, 1)\n",
        "sns.scatterplot(x=np.log(Fish['Width']), y=np.log(Fish['Weight']),\n",
        "                hue=Fish['Species'], s=100, alpha=0.6)\n",
        "sns.regplot(x=np.log(Fish['Width']), y=np.log(Fish['Weight']),\n",
        "            scatter=False, color='grey',\n",
        "            line_kws={'linestyle': '--', 'linewidth': 2})\n",
        "plt.title(\"log(Width) vs log(Weight)\")\n",
        "\n",
        "# Plot 2: log(Len3) vs log(Weight)\n",
        "plt.subplot(1, 3, 2)\n",
        "sns.scatterplot(x=np.log(Fish['Len3']), y=np.log(Fish['Weight']),\n",
        "                hue=Fish['Species'], s=100, alpha=0.6)\n",
        "sns.regplot(x=np.log(Fish['Len3']), y=np.log(Fish['Weight']),\n",
        "            scatter=False, color='grey',\n",
        "            line_kws={'linestyle': '--', 'linewidth': 2})\n",
        "plt.title(\"log(Len3) vs log(Weight)\")\n",
        "\n",
        "# Plot 3: log(Height) vs log(Weight)\n",
        "plt.subplot(1, 3, 3)\n",
        "sns.scatterplot(x=np.log(Fish['Height']), y=np.log(Fish['Weight']),\n",
        "                hue=Fish['Species'], s=100, alpha=0.6)\n",
        "sns.regplot(x=np.log(Fish['Height']), y=np.log(Fish['Weight']),\n",
        "            scatter=False, color='grey',\n",
        "            line_kws={'linestyle': '--', 'linewidth': 2})\n",
        "plt.title(\"log(Height) vs log(Weight)\")\n",
        "\n",
        "plt.tight_layout()\n",
        "plt.show()\n"
      ],
      "metadata": {
        "id": "q_8D1-W_36om"
      },
      "execution_count": null,
      "outputs": []
    },
    {
      "cell_type": "code",
      "source": [
        "import statsmodels.formula.api as smf\n",
        "\n",
        "# Ensure 'Species' is treated as categorical.\n",
        "Fish['Species'] = Fish['Species'].astype('category')\n",
        "\n",
        "# List predictors (all columns except 'Weight')\n",
        "predictors = list(Fish.columns)\n",
        "predictors.remove('Weight')\n",
        "\n",
        "# Build the formula string, e.g. \"Weight ~ (Len1 + Len2 + Len3 + Height + Width + Species)**2\"\n",
        "formula = \"Weight ~ (\" + \" + \".join(predictors) + \")**2\"\n",
        "model = smf.ols(formula, data=Fish).fit()\n",
        "\n",
        "print(model.summary())\n"
      ],
      "metadata": {
        "id": "t8KRnXf236rn"
      },
      "execution_count": null,
      "outputs": []
    },
    {
      "cell_type": "markdown",
      "source": [
        "### Quesions:\n",
        "* How can you interpret previous result?\n",
        "* Comment and discussion: how to select model.\n"
      ],
      "metadata": {
        "id": "NK2ZeOGr_TMt"
      }
    },
    {
      "cell_type": "code",
      "metadata": {
        "id": "2td-VSXl2pyR"
      },
      "source": [
        "%%R\n",
        "m0_BIC  <- stepAIC(m0, k=log(dim(Fish)[1]))\n",
        "\n",
        "m0_AIC  <- stepAIC(m0)\n",
        "summary(m0_BIC)\n",
        "summary(m0_AIC)"
      ],
      "execution_count": null,
      "outputs": []
    },
    {
      "cell_type": "code",
      "metadata": {
        "id": "SLfBUdVa8HM7"
      },
      "source": [
        "%%R\n",
        "install.packages(\"leaps\")\n",
        "library(leaps)"
      ],
      "execution_count": null,
      "outputs": []
    },
    {
      "cell_type": "code",
      "metadata": {
        "id": "WV1NbtLLPO5c"
      },
      "source": [
        "%%R\n",
        "best_subset <- regsubsets(Weight ~ (.)^2, Fish, nvmax = 20,really.big=T)\n",
        "results <- summary(best_subset)\n",
        "plot(best_subset)\n"
      ],
      "execution_count": null,
      "outputs": []
    },
    {
      "cell_type": "code",
      "metadata": {
        "id": "uOltPny79x-x"
      },
      "source": [
        "%%R\n",
        "# source: https://afit-r.github.io/model_selection\n",
        "tibble(predictors = 1:20,\n",
        "       adj_R2 = results$adjr2,\n",
        "       Cp = results$cp,\n",
        "       BIC = results$bic) %>%\n",
        "  gather(statistic, value, -predictors) %>%\n",
        "  ggplot(aes(predictors, value, color = statistic)) +\n",
        "  geom_line(show.legend = F) +\n",
        "  geom_point(show.legend = F) +\n",
        "  facet_wrap(~ statistic, scales = \"free\")"
      ],
      "execution_count": null,
      "outputs": []
    },
    {
      "cell_type": "markdown",
      "source": [
        "#### AIC and BIC\n",
        "\n",
        "**AIC:**\n",
        "$\n",
        "AIC = -2 \\log L + 2p \\approx n \\log( \\frac{SS_{\\text{residuals}}}{n})  + 2p \\approx  n \\log(\\hat{\\sigma}^2) + 2p\n",
        "$\n",
        "\n",
        "**BIC:**\n",
        "$\n",
        "BIC = -2 \\log L + p \\log p \\approx n \\log( \\frac{SS_{\\text{residuals}}}{n}) + p \\log p \\approx  n \\log(\\hat{\\sigma}^2) + p \\log p\n",
        "$\n",
        "\n",
        "**Mallows':**\n",
        "$\n",
        "C_{p}=\\frac{SS_{\\text{residuals p}}}{\\hat{\\sigma}^2} - n + 2p\n",
        "$\n",
        "\n"
      ],
      "metadata": {
        "id": "Kd8rTPLIr4d3"
      }
    },
    {
      "cell_type": "markdown",
      "metadata": {
        "id": "_1vEsmhFHv7e"
      },
      "source": [
        "# Your turn 02 (run analysis in Python)\n",
        "\n",
        "* Is there problem with multicolinearity? If so, how can we cope with it.\n",
        "* Try to find such a good model (based on adjuste R^2) with a maximum of 7 covariates.\n",
        "\n",
        "Hint: try to use expert knowledge.\n"
      ]
    },
    {
      "cell_type": "code",
      "metadata": {
        "id": "Ksf2j2Wp-qQ2"
      },
      "source": [
        "%%R\n",
        "m1 <- lm(Weight ~ (.), data = Fish)\n",
        "summary(m1)"
      ],
      "execution_count": null,
      "outputs": []
    },
    {
      "cell_type": "code",
      "source": [],
      "metadata": {
        "id": "BvD1spzYnV3H"
      },
      "execution_count": null,
      "outputs": []
    },
    {
      "cell_type": "code",
      "metadata": {
        "id": "0NMpGEnYTYvC"
      },
      "source": [
        "%%R\n",
        "# VIF\n",
        "print(1/(1-(summary(lm(Len1 ~.,data = Fish %>% select(-Weight)))$r.squared)))\n",
        "print(1/(1-(summary(lm(Len2 ~.,data = Fish %>% select(-Weight)))$r.squared)))\n",
        "print(1/(1-(summary(lm(Len3 ~.,data = Fish %>% select(-Weight)))$r.squared)))\n",
        "print(1/(1-(summary(lm(Height ~.,data = Fish %>% select(-Weight)))$r.squared)))\n",
        "print(1/(1-(summary(lm(Width  ~.,data = Fish %>% select(-Weight)))$r.squared)))"
      ],
      "execution_count": null,
      "outputs": []
    },
    {
      "cell_type": "code",
      "metadata": {
        "id": "uocAXEacSXQa"
      },
      "source": [
        "%%R\n",
        "kappa(scale(data.matrix(Fish)))\n",
        "kappa(scale(data.matrix(Fish %>% select(-Len1,-Len2))))"
      ],
      "execution_count": null,
      "outputs": []
    },
    {
      "cell_type": "code",
      "metadata": {
        "id": "ghkV54Z5HtML"
      },
      "source": [
        "%%R\n",
        "m1 <- lm(Weight ~ Species+Len2:Len3:Height+Len2:Len3:Width, data = Fish)\n",
        "summary(m1)"
      ],
      "execution_count": null,
      "outputs": []
    },
    {
      "cell_type": "code",
      "metadata": {
        "id": "6aLWsTKiaPyF"
      },
      "source": [
        "%%R\n",
        "options(repr.plot.width = 10, repr.plot.height = 5, repr.plot.res = 90)\n",
        "\n",
        "par(mfrow = c(2, 2))\n",
        "plot(m1, pch = 20, col = \"blue4\", lwd = 2)\n"
      ],
      "execution_count": null,
      "outputs": []
    },
    {
      "cell_type": "code",
      "metadata": {
        "id": "3XCEre_fZ6za"
      },
      "source": [
        "%%R\n",
        "log_m1 <- lm(log(Weight) ~ Species+Len2:Len3:Height+Len2:Len3:Width, data = Fish)\n",
        "summary(log_m1)"
      ],
      "execution_count": null,
      "outputs": []
    },
    {
      "cell_type": "code",
      "metadata": {
        "id": "M58dsdGEZ7W7"
      },
      "source": [
        "%%R\n",
        "par(mfrow = c(2, 2))\n",
        "plot(log_m1, pch = 20, col = \"blue4\", lwd = 2)\n"
      ],
      "execution_count": null,
      "outputs": []
    },
    {
      "cell_type": "code",
      "metadata": {
        "id": "qfUjLFC4bX1O"
      },
      "source": [
        "%%R\n",
        "log_m1 <- lm(log(Weight) ~ Species+Len2:Len3:Height+Len2:Len3:Width, data = Fish[-54,])\n",
        "par(mfrow = c(2, 2))\n",
        "plot(log_m1, pch = 20, col = \"blue4\", lwd = 2)\n"
      ],
      "execution_count": null,
      "outputs": []
    },
    {
      "cell_type": "code",
      "metadata": {
        "id": "Kd5OCMR_bXTG"
      },
      "source": [
        "%%R\n",
        "# Box-Cox transformation\n",
        "BC_m0  <- lm(Weight ~ Species+I(Len3^2) +Len3:Height:Width, data = Fish)\n",
        "summary(BC_m0)\n",
        "bc     <- boxcox(m1, lambda = seq(-1,1 , 1/100))\n",
        "lambda <- bc$x[which.max(bc$y)]\n",
        "lambda"
      ],
      "execution_count": null,
      "outputs": []
    },
    {
      "cell_type": "code",
      "metadata": {
        "id": "XBxCEVplbsKg"
      },
      "source": [
        "%%R\n",
        "BC_m1 <- lm(Weight^(1/2) ~ Species+I(Len3^2) + Len3:Height+Len3:Width, data = Fish)\n",
        "summary(BC_m1)\n",
        "\n",
        "#Fish$Weight_lambda = (Fish$Weight^lambda-1)/lambda\n",
        "#BC_m1 <- lm(Weight_lambda  ~ Species+I(Len3^2) + Len3:Height+Len3:Width, data = Fish)\n",
        "\n",
        "summary(BC_m1)\n",
        "par(mfrow = c(2, 2))\n",
        "plot(BC_m1, pch = 20, col = \"blue4\", lwd = 2)\n"
      ],
      "execution_count": null,
      "outputs": []
    },
    {
      "cell_type": "code",
      "metadata": {
        "id": "J8pFt13Ug_d9"
      },
      "source": [
        "%%R\n",
        "#install.packages(\"pbkrtest\")\n",
        "#install.packages(\"lme4\")\n",
        "#install.packages(\"RcppEigen\")\n",
        "#install.packages(\"car\")\n",
        "#library(car)"
      ],
      "execution_count": null,
      "outputs": []
    },
    {
      "cell_type": "code",
      "metadata": {
        "id": "FRJqJRM6g_pE"
      },
      "source": [
        "%%R\n",
        "m_f <- lm(log(Weight) ~ Species+log(Len3)*log(Height)*log(Width), data = Fish[-54,])\n",
        "summary(m_f)\n",
        "\n",
        "#Fish$Weight_lambda = (Fish$Weight^lambda-1)/lambda\n",
        "#BC_m1 <- lm(Weight_lambda  ~ Species+I(Len3^2) + Len3:Height+Len3:Width, data = Fish)\n",
        "\n",
        "summary(m_f)\n",
        "par(mfrow = c(2, 2))\n",
        "plot(m_f, pch = 20, col = \"blue4\", lwd = 2)\n"
      ],
      "execution_count": null,
      "outputs": []
    },
    {
      "cell_type": "code",
      "source": [],
      "metadata": {
        "id": "rAm8WTd8k9UR"
      },
      "execution_count": null,
      "outputs": []
    },
    {
      "cell_type": "markdown",
      "source": [
        "Is linear regression clear?"
      ],
      "metadata": {
        "id": "nSeMX-x8zQ1Z"
      }
    },
    {
      "cell_type": "code",
      "source": [
        "\n"
      ],
      "metadata": {
        "id": "n6pn5ebFXHl5"
      },
      "execution_count": null,
      "outputs": []
    },
    {
      "cell_type": "markdown",
      "source": [
        "# Let's start with GLM"
      ],
      "metadata": {
        "id": "h045r_1VzLMl"
      }
    },
    {
      "cell_type": "markdown",
      "metadata": {
        "id": "V4SOhd00XJ9g"
      },
      "source": [
        "##  Necessary theory recap from Lectures 01-03\n",
        "\n",
        "Let's consider (m1):\n",
        "  1. We have an *i.i.d.* sample $(y_i,\\ldots,y_n)$ from random variables $Y_1,\\ldots,Y_n$ with PDF (Probability Density Function) $f(y;\\theta;\\phi)$ in the exponential (one-parameter) family of probability distributions\n",
        "  $$f(y;\\theta;\\phi) = exp\\left(\\frac{y \\theta - b(\\theta)}{a(\\phi)} - c(y,\\phi)\\right),$$\n",
        "  subject to usual regularity conditions  (one dimensional case, i.e. $y_i,\\theta_i \\in R, a(\\phi) >0, \\phi >0)$.\n",
        "  2. **A regression matrix** $X$ and vector of unknown parameters $\\beta$, which define the **linear predictor**\n",
        "    $$ η = X \\beta $$\n",
        "  3. **A link function** $g(⋅)$\n",
        "  $$\\eta_i = g(\\mu_i) = x_i^T \\beta, \\ \\text{where} \\ \\mu_i = E[Y_i] \\ \\ i = 1,\\ldots,n$$\n",
        "\n",
        "The **dispersion** $a(\\phi)$ is typically known. If not, we take it as **nuisance parameter**.\n",
        "\n",
        "Link function satisfying $g(\\mu_i) = \\theta_i$ is called **canonical**."
      ]
    },
    {
      "cell_type": "markdown",
      "metadata": {
        "id": "SpQUiXf-QkGA"
      },
      "source": [
        "For $b(\\theta) \\in C^2$ we showed:\n",
        "$$E[Y] = b'(\\theta) $$\n",
        "$$V[Y] = a(\\phi) b''(\\theta) $$\n",
        "and defined variance function $v(\\mu) = \\frac{\\partial \\mu}{\\partial \\theta}$, so that  $$V[Y] = a(\\phi) v(\\mu)$$"
      ]
    },
    {
      "cell_type": "markdown",
      "metadata": {
        "id": "lcJB1uOTZEBZ"
      },
      "source": [
        "Relations:\n",
        "\n",
        "$$\n",
        "\\beta \\xrightarrow[]{\\eta_i = x_i^T\\beta} \\eta\n",
        "\\xrightarrow[]{\\mu_i = g^{-1}(\\eta_i)}  \\mu\n",
        "\\xrightarrow[]{\\theta_i = (b')^{-1}(\\mu_i)}  \\theta\n",
        "$$\n",
        "\n",
        "Inverse relatiions\n",
        "$$\n",
        "\\eta_i\n",
        "\\xleftarrow[]{}  \\mu\n",
        "\\xleftarrow[]{}  \\theta\n",
        "$$\n"
      ]
    },
    {
      "cell_type": "markdown",
      "source": [
        "**Lemma**:\n",
        "Let Y have an exponential type distribution with density given in m1, where $b(\\theta)$ is 2 times continuously differentiable, then there exists a everywhere finite moment generating function $M_Y(t) = E[e^{ty}]$ that is 2 times differentiable at 0 and it holds:\n",
        "* $E[Y] = b'(\\theta)$\n",
        "* $V[Y] = a(\\phi) b''(\\theta)$"
      ],
      "metadata": {
        "id": "mR9oONJlaTJu"
      }
    },
    {
      "cell_type": "code",
      "source": [],
      "metadata": {
        "id": "5q_OCb8iaSTh"
      },
      "execution_count": null,
      "outputs": []
    },
    {
      "cell_type": "markdown",
      "metadata": {
        "id": "w2c7jDIXSGGL"
      },
      "source": [
        "## HW 01\n",
        "\n",
        "Compute $E[Y]$, $V[Y]$, and $v(Y)$ by the help of moment generating function theory for the following so-called “big five” Exponential Family  distributions (Normal, Poisson, Gamma, Inverse Gaussian, Binomial)\n",
        "\n",
        "* Normal: $N(\\mu,\\sigma^2)$\n",
        "* Poisson: $Poi(\\lambda)$\n",
        "* Bernoulli: $Ber(p)$\n",
        "\n",
        "  $f(y,p) = p^y(1-p)^{1-y}$\n",
        "* Gamma: $\\Gamma[a,p]$\n",
        "\n",
        " $ {\\displaystyle f(y,a,p)={\\frac {a ^{p }}{\\Gamma (p)}}y^{p -1}e^{-a y}}$\n",
        "* Inverse: Gaussian $IG[\\mu, \\lambda]$\n",
        "\n",
        "  ${\\displaystyle f(y;\\mu ,\\lambda )={\\sqrt {\\frac {\\lambda }{2\\pi y^{3}}}}\\exp {\\biggl (}-{\\frac {\\lambda (y-\\mu )^{2}}{2\\mu ^{2}y}}{\\biggr )}}$\n",
        "\n",
        "\n",
        "Questions:\n",
        "* Which distributions can fulfill homoscedasticity and why?\n",
        "* For which distribution the variance increases with the square of the mean value?\n",
        "* Does exists a distribution, where $V[Y] = k \\cdot \\mu$ ?\n"
      ]
    },
    {
      "cell_type": "markdown",
      "source": [
        "## Solution"
      ],
      "metadata": {
        "id": "OEuIKhcKXSpr"
      }
    },
    {
      "cell_type": "markdown",
      "source": [
        "####  Normal:\n",
        "\n",
        "$N(\\mu,\\sigma^2)$\n",
        "\n",
        "$f(y, \\mu, \\sigma^2) = \\frac{1}{\\sqrt {{(2\\pi )} \\sigma^2}}  {\\mathrm {e}}^-{\\frac{{\\left(y- \\mu \\right)}^{T}{\\left( y-\\mu \\right)}}{\\sigma^2}} = {\\mathrm {e}}^{\\frac{y \\mu - \\frac{\\mu^2}{2}}{\\sigma^2} - \\left(  \\frac{y^2}{2\\sigma^2} + \\frac{1}{2} ln(2 \\pi \\sigma^2) \\right)}$\n",
        "\n",
        " $y \\theta - b(\\theta) = \\frac{y \\mu - \\frac{\\mu^2}{2}}{\\sigma^2} ⇒ b(\\theta) = \\frac{\\theta^2}{2}$\n",
        "\n",
        "* Natural parameter: $\\theta = \\mu  \\Rightarrow b(\\theta) = \\frac{\\mu^2}{2}$\n",
        "* Dispersion function: $\\phi = \\sigma^2 ⇒ a(\\phi) = \\sigma^2$\n",
        "*  $E[Y] = b'(\\theta) = \\theta = \\mu$\n",
        "* $V[Y] = \\sigma^2 b''(\\theta)= \\sigma^2 $\n",
        "\n",
        "Linear variance function: $v(\\mu) = b''(\\theta) =  1$\n"
      ],
      "metadata": {
        "id": "c9bkyLnEetFA"
      }
    },
    {
      "cell_type": "code",
      "source": [],
      "metadata": {
        "id": "dBWcKEGD-Esf"
      },
      "execution_count": null,
      "outputs": []
    },
    {
      "cell_type": "markdown",
      "source": [
        "#### Bernoulli: $Ber(p)$\n",
        "\n",
        "  $f(y,p) = p^y(1-p)^{1-y} = exp(y \\textrm{ln}(p) + (1-y)\\textrm{ln}(1-p)) = exp(y \\textrm{ln}(\\frac{p}{1-p}) + ln(1-p))$\n",
        "\n",
        "* $\\phi = 1$ and $b(\\theta) = ln(1+e^{\\theta})$ and $\\theta = \\textrm{ln}(\\frac{p}{1-p}) ⇒ p = \\frac{e^{\\theta}}{1+e^{\\theta}}$\n",
        "* $ E[Y] =  b'(\\theta) = \\frac{e^{\\theta}}{1+e^{\\theta}} = p$\n",
        "* $ V[Y] = b''(\\theta) = \\frac{e^{\\theta}}{1+e^{\\theta}} - e^{\\theta} \\frac{e^{\\theta}}{(1+e^{\\theta})^2} = p - p^2 = p(p-1)$\n",
        "* Variance function: $v(\\mu) = \\mu(1-\\mu)$\n"
      ],
      "metadata": {
        "id": "2ME07YeJJX4p"
      }
    },
    {
      "cell_type": "code",
      "source": [],
      "metadata": {
        "id": "BfxKUr6fCR2k"
      },
      "execution_count": null,
      "outputs": []
    },
    {
      "cell_type": "markdown",
      "source": [
        "\n",
        "\n",
        "\n",
        "####  Poisson: $Poi(\\lambda)$\n",
        "\n",
        "$f(y,\\lambda) = \\frac{\\lambda^y e^{-\\lambda}}{y!} = exp(y ln(\\lambda)  -\\lambda -ln(y!)) $\n",
        "\n",
        "* $\\theta = ln(\\lambda) \\Rightarrow b(\\theta) = e^{\\theta}  \\ \\text{and} \\  \\phi = 1$\n",
        "*  $E[Y] = b'(\\theta) = e^{\\theta} = \\lambda$\n",
        "* $V[Y] = b''(\\theta)=e^{\\theta} = \\lambda$\n",
        "\n",
        "Linear variance function: $v(\\mu) = \\mu$\n",
        "\n",
        "\n"
      ],
      "metadata": {
        "id": "1r_Cb5Roerth"
      }
    },
    {
      "cell_type": "code",
      "source": [],
      "metadata": {
        "id": "qQiLGS23-FOA"
      },
      "execution_count": null,
      "outputs": []
    },
    {
      "cell_type": "markdown",
      "source": [
        "###  Gamma Distribution $\\Gamma(a,p)$\n",
        "\n",
        "- Shape $p>0$,  \n",
        "- Rate $a>0$\n",
        "- Support $x>0$  \n",
        "\n",
        "$$\n",
        "f(y;\\,a,p)\n",
        "\\;=\\;\n",
        "\\frac{a^p}{\\Gamma(p)}\\,y^{\\,p-1}\\,e^{-\\,a\\,y},\n",
        "\\quad y>0.\n",
        "$$\n"
      ],
      "metadata": {
        "id": "CIdheVRsyoRG"
      }
    },
    {
      "cell_type": "markdown",
      "source": [
        "Solution by Rosenkracová, Rusá, Vojtášek\n",
        "\n",
        "$\\ell(y; \\theta, \\phi) = \\exp \\left[ \\frac{y\\theta - b(\\theta)}{a(\\phi)} - c(y, \\phi) \\right]$\n",
        "\n"
      ],
      "metadata": {
        "id": "Fmn4u0rUyJfc"
      }
    },
    {
      "cell_type": "markdown",
      "source": [
        "\n",
        "$\n",
        "f(y; p, a) = \\frac{a^p}{\\Gamma(p)} y^{p-1} e^{-ay} = \\exp\\left[ p \\ln a - \\ln \\Gamma(p) + (p-1) \\ln y - ay \\right] = \\exp \\left[ -ay - (- p \\ln a) - \\ln \\Gamma(p) + (p-1) \\ln y \\right] =\n",
        "$\n",
        "\n",
        "\n",
        "* $\\theta = - a, \\quad \\phi = 1$\n",
        "* $ b(\\theta) = - p\\ln a = - p \\ln (-\\theta)$\n",
        "* $ a(\\phi) = \\phi = 1$\n",
        "* $ c(y, \\phi) = (p-1) \\ln y - \\ln \\Gamma(p)$\n",
        "\n",
        "*  $$E[Y] = b'(\\theta) = -p \\frac{1}{-\\theta} (-1)= -\\frac{p}{\\theta} = \\frac{p}{a}$$\n",
        "* $$V[Y] = a(\\phi) b''(\\theta)= \\frac{p}{\\theta^2} = \\frac{p}{a^2} $$\n",
        "\n",
        "\n",
        "Should be:\n",
        "* $\\theta = - \\frac{a}{p}, \\quad \\phi = \\frac{1}{p}$\n",
        "* $ b(\\theta) = - \\ln (-\\theta$)\n",
        "\n"
      ],
      "metadata": {
        "id": "sQ1OCChByiNj"
      }
    },
    {
      "cell_type": "code",
      "source": [],
      "metadata": {
        "id": "JrEImprXJXUh"
      },
      "execution_count": null,
      "outputs": []
    },
    {
      "cell_type": "code",
      "source": [],
      "metadata": {
        "id": "mEcki8acyr54"
      },
      "execution_count": null,
      "outputs": []
    },
    {
      "cell_type": "markdown",
      "source": [
        "#### Inverse Gauss\n",
        "\n",
        "$$\n",
        "f(y;\\,\\mu,\\lambda)\n",
        "\\;=\\;\n",
        "\\sqrt{\\frac{\\lambda}{2\\pi\\,y^3}}\n",
        "\\,\\exp\\!\\Bigl[-\\frac{\\lambda\\,(y-\\mu)^2}{2\\,\\mu^2\\,y}\\Bigr],\n",
        "\\quad y>0.\n",
        "$$\n"
      ],
      "metadata": {
        "id": "K3L3qS05zjuV"
      }
    },
    {
      "cell_type": "markdown",
      "source": [
        "\n",
        "Solution by Rosenkracová, Rusá, Vojtášek:\n",
        "\n",
        "$\n",
        "f(y;\\,\\mu,\\lambda)\n",
        "\\;=\\;\n",
        "\\sqrt{\\frac{\\lambda}{2\\pi\\,y^3}}\n",
        "\\,\\exp\\!\\Bigl[-\\frac{\\lambda\\,(y-\\mu)^2}{2\\,\\mu^2\\,y}\\Bigr]=\\exp\\!\\Bigl[\\frac{1}{2}\\ln λ-\\frac{1}{2}\\ln 2π-\\frac{3}{2}\\ln y-\\frac{\\lambda\\,(y-\\mu)^2}{2\\,\\mu^2\\,y}\\Bigr]\\\\= \\exp\\Bigl[\\frac{1}{2}\\ln λ-\\frac{1}{2}\\ln 2π-\\frac{3}{2}\\ln y-\\frac{\\lambda y}{2\\,\\mu^2}+\\frac{\\lambda}{\\mu}- \\frac{\\lambda}{2\\,\\,y}\\Bigr] = \\\\\n",
        "= \\exp\\Bigl[\\lambda(-\\frac{1}{2\\,\\mu^2}y - (-\\frac{1}{\\mu})) + \\frac{1}{2}\\ln λ-\\frac{1}{2}\\ln 2π-\\frac{3}{2}\\ln y- \\frac{\\lambda}{2\\,\\,y}\\Bigr]\n",
        "$\n",
        "\n",
        "* Natural parameter: $\\theta = - \\frac{1}{2\\,\\mu^2}, \\quad b(\\theta) = - \\frac{1}{\\mu} = - \\sqrt{-2\\theta}$\n",
        "* Dispersion function: $\\phi = \\frac{1}{\\lambda}, \\quad a(\\phi) = \\phi$\n",
        "*  $$E[Y] = b'(\\theta) = \\frac{1}{\\sqrt{-2\\theta}} = \\mu$$\n",
        "* $$V[Y] = a(\\phi) b''(\\theta)= \\frac{(-2\\theta)^{-3/2}}{\\lambda}= \\frac{\\mu^{3}}{\\lambda} $$"
      ],
      "metadata": {
        "id": "iXWpcyMsyhP7"
      }
    },
    {
      "cell_type": "code",
      "source": [],
      "metadata": {
        "id": "G8qMhX6yyr86"
      },
      "execution_count": null,
      "outputs": []
    },
    {
      "cell_type": "code",
      "source": [],
      "metadata": {
        "id": "25bvwZADXcBy"
      },
      "execution_count": null,
      "outputs": []
    },
    {
      "cell_type": "markdown",
      "source": [
        "#LLM summary of Exponential Family “Big Five” + Bernoulli\n",
        "\n",
        "Below are derivations of $E[Y]$, $\\mathrm{Var}[Y]$, and the variance function $v(\\mu)$ for each of the classic one-parameter exponential-family distributions:\n",
        "\n",
        "1. **Normal** $N(\\mu,\\sigma^2)$  \n",
        "2. **Poisson** $\\mathrm{Pois}(\\lambda)$  \n",
        "3. **Binomial**$(n,p)$ (Bernoulli is the special case $n=1$)  \n",
        "4. **Gamma**$(p,a)$  \n",
        "5. **Inverse Gaussian**$(\\mu,\\lambda)$  \n",
        "6. **Bernoulli**$(p)$ [listed separately, though it’s a special binomial]\n",
        "\n",
        "We emphasize each distribution’s:\n",
        "- **Mean** $E[Y]$,\n",
        "- **Variance** $\\mathrm{Var}[Y]$,\n",
        "- **Variance function** $v(\\mu)$ (in the GLM sense, meaning $\\mathrm{Var}[Y] = \\phi\\,v(\\mu)$).\n",
        "\n",
        "Recall that in an exponential-family form\n",
        "\n",
        "$$\n",
        "f(y;\\theta,\\phi) \\;=\\;\n",
        "\\exp\\!\\Bigl[\\frac{\\,y\\,\\theta - b(\\theta)\\,}{\\,a(\\phi)\\,} \\;-\\; c(y,\\phi)\\Bigr],\n",
        "$$\n",
        "\n",
        "we have $\\,\\mu = b'(\\theta)\\,$ and $\\,\\mathrm{Var}(Y)=a(\\phi)\\,b''(\\theta).\\,$ The function $\\,v(\\mu) = b''\\bigl(\\theta(\\mu)\\bigr)\\,$ is called the **variance function**.\n",
        "\n",
        "---\n",
        "\n",
        "## 1. Normal Distribution $N(\\mu,\\sigma^2)$\n",
        "\n",
        "**PDF**  \n",
        "$$\n",
        "f(y;\\,\\mu,\\sigma^2)\n",
        "= \\frac{1}{\\sqrt{2\\pi\\,\\sigma^2}}\n",
        "  \\exp\\!\\Bigl[-\\frac{(y-\\mu)^2}{2\\,\\sigma^2}\\Bigr].\n",
        "$$\n",
        "\n",
        "### Exponential-Family Form\n",
        "\n",
        "In canonical form (with natural parameter $\\theta = \\mu$ and dispersion $a(\\phi) = \\sigma^2$):\n",
        "\n",
        "$$\n",
        "f(y;\\theta,\\sigma^2)\n",
        "= \\exp\\!\\Bigl[\\frac{y\\,\\theta - \\tfrac{\\theta^2}{2}}{\\sigma^2}\n",
        " - \\Bigl(\\tfrac{y^2}{2\\,\\sigma^2} + \\tfrac12\\ln(2\\pi\\,\\sigma^2)\\Bigr)\\Bigr].\n",
        "$$\n",
        "\n",
        "Here $b(\\theta) = \\frac{\\theta^2}{2}$, so $\\mu = \\theta$.\n",
        "\n",
        "### Moments via MGF\n",
        "\n",
        "- The MGF of a normal is $\\,M(t) = \\exp\\!\\bigl(\\mu\\,t + \\tfrac12 \\sigma^2 t^2\\bigr)$.\n",
        "- From standard properties, $E[Y] = \\mu$ and $\\mathrm{Var}[Y] = \\sigma^2$.\n",
        "\n",
        "### Key Quantities\n",
        "\n",
        "- **Mean**: $E[Y] = \\mu$  \n",
        "- **Variance**: $\\mathrm{Var}[Y] = \\sigma^2$  \n",
        "- **Variance function**: $\\,v(\\mu) = 1\\,$ (in GLM form, $\\mathrm{Var}[Y] = \\sigma^2 \\times 1$).\n",
        "\n",
        "### Comments\n",
        "\n",
        "- The **only** one-parameter EF with variance independent of the mean (i.e., homoscedastic) is the Normal.\n",
        "- Commonly used for continuous data with the same variance at all $\\mu$.\n",
        "\n",
        "### Summary\n",
        "\n",
        "$$\n",
        "\\boxed{E[Y] = \\mu,\\quad\n",
        "\\mathrm{Var}[Y] = \\sigma^2,\\quad\n",
        "v(\\mu)=1.}\n",
        "$$\n",
        "\n",
        "\n",
        "---\n",
        "\n",
        "## 2. Poisson Distribution $\\mathrm{Pois}(\\lambda)$\n",
        "\n",
        "**PMF**  \n",
        "$$\n",
        "P(Y = y)\n",
        "= \\frac{\\lambda^y e^{-\\lambda}}{y!},\n",
        "\\quad y=0,1,2,\\dots.\n",
        "$$\n",
        "\n",
        "### Exponential-Family Form\n",
        "\n",
        "$$\n",
        "f(y;\\lambda)\n",
        "= \\exp\\!\\Bigl[y\\,\\ln(\\lambda) - \\lambda - \\ln(y!)\\Bigr].\n",
        "$$\n",
        "\n",
        "Let $\\theta = \\ln(\\lambda)$, hence $\\lambda = e^\\theta$.  \n",
        "Then $b(\\theta) = e^\\theta$ and $\\phi=1$.\n",
        "\n",
        "### Moments via MGF\n",
        "\n",
        "- The MGF of Poisson is $M(t)=\\exp\\bigl[\\lambda(e^t-1)\\bigr]$.\n",
        "- From known expansions, $E[Y] = \\lambda$ and $\\mathrm{Var}[Y] = \\lambda$.\n",
        "\n",
        "### Key Quantities\n",
        "\n",
        "- **Mean**: $E[Y] = \\lambda$\n",
        "- **Variance**: $\\mathrm{Var}[Y] = \\lambda$\n",
        "- **Variance function**: $v(\\mu) = \\mu$  (so $\\mathrm{Var}[Y] = \\mu$ when $\\phi=1$)\n",
        "\n",
        "### Comments\n",
        "\n",
        "- Canonical link is the **log** link: $\\theta = \\ln(\\mu)$.\n",
        "- Suitable for **count** data when mean = variance.\n",
        "\n",
        "### Summary\n",
        "\n",
        "$$\n",
        "\\boxed{E[Y] = \\lambda,\\quad\n",
        "\\mathrm{Var}[Y] = \\lambda,\\quad\n",
        "v(\\mu) = \\mu.}\n",
        "$$\n",
        "\n",
        "\n",
        "---\n",
        "\n",
        "## 3. Binomial Distribution $\\mathrm{Binomial}(n,p)$\n",
        "\n",
        "Although **Bernoulli**$(p)$ is the special case $n=1$, we treat the general binomial first.\n",
        "\n",
        "**PMF**  \n",
        "$$\n",
        "P(Y=y)\n",
        "= \\binom{n}{y}\\, p^y(1-p)^{n-y},\n",
        "\\quad y=0,1,\\dots,n.\n",
        "$$\n",
        "\n",
        "### Exponential-Family Form\n",
        "\n",
        "$$\n",
        "\\log f(y;\\theta)\n",
        "= y\\,\\theta\n",
        " - n\\ln\\bigl(1+ e^\\theta\\bigr)\n",
        " + \\ln\\binom{n}{y},\n",
        "$$\n",
        "\n",
        "where $\\theta = \\ln\\!\\bigl(\\tfrac{p}{1-p}\\bigr).$  \n",
        "Hence $b(\\theta) = n\\ln\\bigl(1+ e^\\theta\\bigr)$, $\\phi=1$.\n",
        "\n",
        "### Moments via MGF\n",
        "\n",
        "- From standard binomial facts, $E[Y] = n\\,p$, $\\mathrm{Var}[Y] = n\\,p\\,(1-p)$.\n",
        "- In EF form, $\\mu = n\\,p$.\n",
        "\n",
        "### Key Quantities\n",
        "\n",
        "- **Mean**: $E[Y] = n\\,p$\n",
        "- **Variance**: $\\mathrm{Var}[Y] = n\\,p\\,(1-p)$\n",
        "- **Variance function**:\n",
        "  $$\n",
        "    v(\\mu) = \\mu\\Bigl(1 - \\frac{\\mu}{n}\\Bigr).\n",
        "  $$\n",
        "  (Here $\\mu = n\\,p$.)\n",
        "\n",
        "### Comments\n",
        "\n",
        "- Canonical link is the **logit**: $\\log(\\tfrac{p}{1-p})$.\n",
        "- For $n=1$, we get the **Bernoulli** distribution.\n",
        "\n",
        "### Summary\n",
        "\n",
        "$$\n",
        "\\boxed{E[Y] = n\\,p,\\quad\n",
        "\\mathrm{Var}[Y] = n\\,p(1-p),\\quad\n",
        "v(\\mu)= \\mu\\Bigl(1-\\frac{\\mu}{n}\\Bigr).}\n",
        "$$\n",
        "\n",
        "\n",
        "---\n",
        "\n",
        "## 4. Gamma Distribution $\\Gamma(p,a)$\n",
        "\n",
        "Sometimes parameterized by shape $p$ and rate $a$. Then $E[Y] = \\tfrac{p}{a}$ and $\\mathrm{Var}[Y] = \\tfrac{p}{a^2}$. Another notation is $(\\alpha,\\beta)$.\n",
        "\n",
        "**PDF**  \n",
        "$$\n",
        "f(y; p,a)\n",
        "= \\frac{a^p}{\\Gamma(p)}\\, y^{p-1} e^{-a\\,y},\n",
        "\\quad y>0.\n",
        "$$\n",
        "\n",
        "### Exponential-Family Form (Sketch)\n",
        "\n",
        "- **Mean**: $\\,E[Y] = \\tfrac{p}{a}.$\n",
        "- **Variance**: $\\,\\mathrm{Var}[Y] = \\tfrac{p}{a^2}.$\n",
        "- Therefore, $\\mathrm{Var}[Y] = \\mu^2 / p$ if $\\mu = p/a$.\n",
        "\n",
        "In standard GLM form, it’s well known that\n",
        "\n",
        "$$\n",
        "v(\\mu) = \\mu^2.\n",
        "$$\n",
        "\n",
        "### MGF\n",
        "\n",
        "$$\n",
        "M(t)\n",
        "= \\Bigl(\\frac{a}{a - t}\\Bigr)^p, \\quad t<a.\n",
        "$$\n",
        "\n",
        "Taking derivatives of $M(t)$ at $t=0$ confirms the mean and variance.\n",
        "\n",
        "### Key Quantities\n",
        "\n",
        "- **Mean**: $E[Y] = \\tfrac{p}{a}$\n",
        "- **Variance**: $\\mathrm{Var}[Y] = \\tfrac{p}{a^2}$\n",
        "- **Variance function**: $v(\\mu) = \\mu^2$\n",
        "\n",
        "### Comments\n",
        "\n",
        "- Canonical link (if $p$ is known) is the **inverse** link $\\eta = 1/\\mu$ in many treatments.\n",
        "- Used for positive, skewed data (e.g. waiting times, survival data).\n",
        "\n",
        "### Summary\n",
        "\n",
        "$$\n",
        "\\boxed{E[Y] = \\frac{p}{a},\\quad\n",
        "\\mathrm{Var}[Y] = \\frac{p}{a^2},\\quad\n",
        "v(\\mu) = \\mu^2.}\n",
        "$$\n",
        "\n",
        "\n",
        "---\n",
        "\n",
        "## 5. Inverse Gaussian Distribution $\\mathrm{IG}(\\mu,\\lambda)$\n",
        "\n",
        "**PDF**  \n",
        "$$\n",
        "f(y;\\,\\mu,\\lambda)\n",
        "= \\sqrt{\\frac{\\lambda}{2\\pi\\,y^3}}\n",
        "  \\,\\exp\\!\\Bigl[-\\frac{\\lambda\\,(y-\\mu)^2}{2\\,\\mu^2\\,y}\\Bigr],\n",
        "\\quad y>0.\n",
        "$$\n",
        "\n",
        "### Known Moments\n",
        "\n",
        "- **Mean**: $E[Y] = \\mu$  \n",
        "- **Variance**: $\\mathrm{Var}[Y] = \\tfrac{\\mu^3}{\\lambda}.$\n",
        "\n",
        "Hence the variance function is $v(\\mu) = \\mu^3$ in GLM notation.\n",
        "\n",
        "### Exponential-Family Form (Outline)\n",
        "\n",
        "It can be shown (somewhat more involved) that, with suitable $\\theta$ and $\\phi=\\lambda$, we get precisely these mean and variance relationships.\n",
        "\n",
        "### Key Quantities\n",
        "\n",
        "- **Mean**: $E[Y] = \\mu$\n",
        "- **Variance**: $\\mathrm{Var}[Y] = \\frac{\\mu^3}{\\lambda}$\n",
        "- **Variance function**: $v(\\mu) = \\mu^3$\n",
        "\n",
        "### Comments\n",
        "\n",
        "- Often used for **positive** data, especially if heavier tails than Gamma or for certain “first passage time” processes.\n",
        "- Canonical link is more complex, involving $\\theta = \\tfrac{1}{2\\mu^2}$ in some parameterizations.\n",
        "\n",
        "### Summary\n",
        "\n",
        "$$\n",
        "\\boxed{E[Y] = \\mu,\\quad\n",
        "\\mathrm{Var}[Y] = \\frac{\\mu^3}{\\lambda},\\quad\n",
        "v(\\mu) = \\mu^3.}\n",
        "$$\n",
        "\n",
        "\n",
        "---\n",
        "\n",
        "## 6. Bernoulli Distribution $\\mathrm{Ber}(p)$\n",
        "\n",
        "Although this is just $\\mathrm{Binomial}(n=1,p)$, it’s commonly listed separately.\n",
        "\n",
        "**PMF**  \n",
        "$$\n",
        "P(Y=1)=p,\\quad P(Y=0)=1-p,\\quad Y\\in\\{0,1\\}.\n",
        "$$\n",
        "\n",
        "### Exponential-Family Form\n",
        "\n",
        "$$\n",
        "f(y;\\,p)\n",
        "= p^y(1-p)^{1-y}\n",
        "= \\exp\\!\\Bigl[y\\,\\ln\\!\\bigl(\\tfrac{p}{1-p}\\bigr) + \\ln(1-p)\\Bigr].\n",
        "$$\n",
        "\n",
        "Thus $\\theta=\\ln\\!\\bigl(\\tfrac{p}{1-p}\\bigr)$, $\\,\\phi=1$, $\\,b(\\theta)=\\ln(1+ e^\\theta)$.\n",
        "\n",
        "### Moments\n",
        "\n",
        "- $E[Y] = p,$  \n",
        "- $\\mathrm{Var}[Y] = p(1-p).$\n",
        "\n",
        "Hence the variance function is $v(\\mu) = \\mu\\,(1-\\mu)$.\n",
        "\n",
        "### Key Quantities\n",
        "\n",
        "- **Mean**: $E[Y] = p$\n",
        "- **Variance**: $\\mathrm{Var}[Y] = p(1-p)$\n",
        "- **Variance function**: $v(\\mu)=\\mu(1-\\mu)$\n",
        "\n",
        "### Comments\n",
        "\n",
        "- Canonical link is the **logit**: $\\log\\bigl(\\tfrac{p}{1-p}\\bigr)$.\n",
        "- Simplest discrete EF on $\\{0,1\\}$.\n",
        "\n",
        "### Summary\n",
        "\n",
        "$$\n",
        "\\boxed{E[Y] = p,\\quad\n",
        "\\mathrm{Var}[Y] = p(1-p),\\quad\n",
        "v(\\mu) = \\mu(1-\\mu).}\n",
        "$$\n",
        "\n",
        "\n",
        "---\n",
        "\n",
        "# Final Remarks\n",
        "\n",
        "1. **MGF Approach**: For each distribution, you can compute $E[Y]$ and $\\mathrm{Var}[Y]$ via\n",
        "   $$\n",
        "   M_Y(t) = E[e^{tY}],\\quad\n",
        "   E[Y] = M_Y'(0),\\quad\n",
        "   \\mathrm{Var}[Y] = M_Y''(0) - \\bigl(M_Y'(0)\\bigr)^2.\n",
        "   $$\n",
        "\n",
        "2. **Variance Functions**:\n",
        "   - Normal: $v(\\mu)=1$  \n",
        "   - Poisson: $v(\\mu)=\\mu$  \n",
        "   - Binomial $(n,p)$: $v(\\mu)=\\mu\\bigl(1-\\mu/n\\bigr)$; Bernoulli is $n=1$  \n",
        "   - Gamma: $v(\\mu)=\\mu^2$  \n",
        "   - Inverse Gaussian: $v(\\mu)=\\mu^3$\n",
        "\n",
        "3. These are the **core** one-parameter EFs used in classical **GLMs**. The corresponding “canonical links” are those making $\\eta = \\theta$.\n",
        "\n"
      ],
      "metadata": {
        "id": "blWOkKUgFTIW"
      }
    },
    {
      "cell_type": "code",
      "source": [],
      "metadata": {
        "id": "VtTrxhp3XcFJ"
      },
      "execution_count": null,
      "outputs": []
    },
    {
      "cell_type": "code",
      "source": [],
      "metadata": {
        "id": "GkGHjwwjXbBm"
      },
      "execution_count": null,
      "outputs": []
    },
    {
      "cell_type": "markdown",
      "source": [],
      "metadata": {
        "id": "Z5Keu8iCy-1-"
      }
    },
    {
      "cell_type": "code",
      "source": [],
      "metadata": {
        "id": "IbZb0jk7y_ae"
      },
      "execution_count": null,
      "outputs": []
    }
  ]
}