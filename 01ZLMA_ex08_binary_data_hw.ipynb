{
  "cells": [
    {
      "cell_type": "markdown",
      "metadata": {
        "id": "view-in-github",
        "colab_type": "text"
      },
      "source": [
        "<a href=\"https://colab.research.google.com/github/francji1/01ZLMA/blob/main/01ZLMA_ex08_binary_data_hw.ipynb\" target=\"_parent\"><img src=\"https://colab.research.google.com/assets/colab-badge.svg\" alt=\"Open In Colab\"/></a>"
      ]
    },
    {
      "cell_type": "markdown",
      "metadata": {
        "id": "oD47O_0VwUBm"
      },
      "source": [
        "Exercise 08 of the course 01ZLMA.\n",
        "\n",
        "# GLM for Discrete response - Binary Data Analysis (02)\n",
        "\n",
        "Alternative and Binomial responses"
      ]
    },
    {
      "cell_type": "markdown",
      "metadata": {
        "id": "l2EHCMAWUHT6",
        "lines_to_next_cell": 0
      },
      "source": [
        "**Bernoulli (Alternative) Model**\n",
        "\n",
        "$$Y_{i,j} \\sim Be(\\pi_i) \\ i = 1,\\ldots,K \\ \\text{and} \\ j = 1,\\ldots, n_i.$$\n",
        "$K$ is number of groups, $n_i$ is number of observations in group $i$ and $\\sum_{i=1}^{K} = N$\n",
        "$$ E[Y_{i,j}] = \\pi_i \\ \\text{and} \\ g(\\pi_i) = \\eta_i =x_i^T \\beta $$\n",
        "\n",
        "\n",
        "**Binomial Model**\n",
        "$$Y_i = \\sum_{j=1}^{n_i} Y_{i,j} \\sim Bi(n_i, \\pi_i)$$"
      ]
    },
    {
      "cell_type": "markdown",
      "metadata": {
        "id": "urFC1XzcWd1t"
      },
      "source": [
        "**Without continuos covariate (only factor variables)**\n",
        "\n",
        "$K$ is constant and $n_i \\rightarrow \\infty $\n",
        "\n",
        "**With at least one continuos covariate**\n",
        "\n",
        "$n_i \\approx 1$ ( $n_i$ is small enough) and $K \\rightarrow \\infty$\n",
        "\n"
      ]
    },
    {
      "cell_type": "markdown",
      "metadata": {
        "id": "lSgD34dQW1cE"
      },
      "source": [
        "## Link functions for binary data\n",
        "\n",
        "**Logistic function:**\n",
        "\n",
        "The logistic function is the canonical link function for binary responses, and it is CDF of the standard logistic distribution.\n",
        "\n",
        "$$\\pi_i = \\frac{1}{1+e^{-x_i^T \\beta}} $$\n",
        "\n",
        "\n",
        "**Probit function:**\n",
        "\n",
        "The CDF of the normal distribution.\n",
        "$$\\pi_i = \\Phi({x_i^T \\beta}) $$\n",
        "\n",
        "\n",
        "**Cauchit function:**\n",
        "\n",
        "The CDF of the Cauchy distribution\n",
        "\n",
        "$$\\pi_i = \\frac{1}{\\pi}\\text{arctan}(x_i^T \\beta) + \\frac{1}{2} $$\n",
        "\n",
        "\n",
        "**Complementary log-log (cloglog) function:**\n",
        "\n",
        "The inverse of the conditional log-log function (CDF of the Gumbel distribution)\n",
        "\n",
        "$$\\pi_i = 1 − e^{-e^{x_i^T \\beta}}$$\n",
        "\n",
        "The counter part of the cloglog function is log-log link function."
      ]
    },
    {
      "cell_type": "code",
      "execution_count": null,
      "metadata": {
        "id": "Jv5SOQ0TUHT7",
        "vscode": {
          "languageId": "r"
        }
      },
      "outputs": [],
      "source": [
        "import numpy as np\n",
        "import scipy\n",
        "from scipy import stats\n",
        "import pandas as pd\n",
        "\n",
        "import statsmodels.api as sm\n",
        "import statsmodels.formula.api as smf\n",
        "from statsmodels.graphics.api import abline_plot\n",
        "\n",
        "from sklearn import datasets\n",
        "from sklearn.model_selection import train_test_split\n",
        "from sklearn.metrics import classification_report, confusion_matrix,ConfusionMatrixDisplay, roc_curve, \\\n",
        "     roc_auc_score\n",
        "\n",
        "\n",
        "import matplotlib.pyplot as plt\n",
        "\n",
        "from scipy.stats import chi2\n",
        "import matplotlib.pyplot as plt\n",
        "import seaborn as sns\n",
        "\n",
        "from statsmodels.graphics.gofplots import qqplot\n",
        "from statsmodels.stats.outliers_influence import OLSInfluence\n",
        "\n",
        "import seaborn as sns\n",
        "sns.set_theme()"
      ]
    },
    {
      "cell_type": "code",
      "source": [
        "!pip install dfply\n",
        "from dfply import *  # handy module to mimic R dplyr library\n",
        "\n"
      ],
      "metadata": {
        "id": "77D2SlnvKey0"
      },
      "execution_count": null,
      "outputs": []
    },
    {
      "cell_type": "code",
      "source": [
        "# Please note that this cell works may not work in other env-s that Google Colab\n",
        "!pip install wget\n",
        "import wget\n",
        "url = \"https://github.com/francji1/01ZLMA/raw/main/code/helpers.py\"\n",
        "wget.download(url, '../content/helpers.py')  # path where Colab can find libraries"
      ],
      "metadata": {
        "id": "wd5QFmEUJ25o"
      },
      "execution_count": null,
      "outputs": []
    },
    {
      "cell_type": "code",
      "source": [
        "from helpers import DiagnosticPlots ,Anova"
      ],
      "metadata": {
        "id": "8q-O0DPeJ2He"
      },
      "execution_count": null,
      "outputs": []
    },
    {
      "cell_type": "code",
      "execution_count": null,
      "metadata": {
        "id": "PfcM8VDRJdvO"
      },
      "outputs": [],
      "source": [
        "x = np.tile(np.linspace(-5, 5, 101), 4).reshape(4, -1)\n",
        "y = []\n",
        "names =[]\n",
        "\n",
        "for i, j in enumerate(zip((\"logit\", \"probit\", \"cauchit\", \"cloglog\"),\n",
        "                (sm.genmod.families.links.Logit(), sm.genmod.families.links.probit(),\n",
        "                 sm.genmod.families.links.cauchy(), sm.genmod.families.links.CLogLog()))):\n",
        "\n",
        "    y.append(j[1].inverse(x[i]))\n",
        "    names.append([j[0]]*len(x[i]))\n",
        "\n",
        "y = np.array(y).flatten()\n",
        "n = np.array(names).flatten()\n",
        "\n",
        "fig, ax = plt.subplots()\n",
        "\n",
        "\n",
        "\n",
        "sns.lineplot(x='x', y='y', data=pd.DataFrame(data={'x': x.flatten(), 'y': y, 'n': n}), ax=ax, hue='n')\n",
        "\n",
        "\n",
        "ax.legend()\n",
        "ax.set_xlabel(r'$x_i^T \\beta$')\n",
        "ax.set_ylabel(r'$\\pi_i$')\n",
        "plt.show()"
      ]
    },
    {
      "cell_type": "markdown",
      "metadata": {
        "id": "dnlQ4vEGYGOH"
      },
      "source": [
        "## Logistic regression with Titanic dataset\n",
        "\n",
        "https://www.kaggle.com/c/titanic/data\n",
        "\n",
        "| Variable |                 Definition                 |                       Key                      |\n",
        "|:--------:|:------------------------------------------:|:----------------------------------------------:|\n",
        "| survival | Survival                                   | 0 = No, 1 = Yes                                |\n",
        "| pclass   | Ticket class                               | 1 = 1st, 2 = 2nd, 3 = 3rd                      |\n",
        "| sex      | Sex                                        |                                                |\n",
        "| Age      | Age in years                               |                                                |\n",
        "| sibsp    | # of siblings / spouses aboard the Titanic |                                                |\n",
        "| parch    | # of parents / children aboard the Titanic |                                                |\n",
        "| ticket   | Ticket number                              |                                                |\n",
        "| fare     | Passenger fare                             |                                                |\n",
        "| cabin    | Cabin number                               |                                                |\n",
        "| embarked | Port of Embarkation                        | C = Cherbourg, Q = Queenstown, S = Southampton |"
      ]
    },
    {
      "cell_type": "code",
      "execution_count": null,
      "metadata": {
        "id": "VxBIs-aDYMxd",
        "vscode": {
          "languageId": "r"
        }
      },
      "outputs": [],
      "source": [
        "X, y = datasets.fetch_openml(\"titanic\", version=1, as_frame=True, return_X_y=True)\n",
        "X_train, X_test, y_train, y_test = train_test_split(X, y, stratify=y, test_size=0.2)\n",
        "\n",
        "titanic_train = pd.concat([X_train, y_train], axis=1)\n",
        "titanic_test = pd.concat([X_test, y_test], axis=1)"
      ]
    },
    {
      "cell_type": "code",
      "execution_count": null,
      "metadata": {
        "id": "AfwAohjgfMvg",
        "vscode": {
          "languageId": "r"
        }
      },
      "outputs": [],
      "source": [
        "titanic_test.describe(include = 'all')"
      ]
    },
    {
      "cell_type": "markdown",
      "metadata": {
        "id": "v4KddgL4vP3f"
      },
      "source": [
        "# Fast and furios solution of the HW from the previous Ex07\n",
        "\n",
        "Consider a model with continuos variables `age`, `fare`, and any factor variable.\n",
        "\n",
        "* Create factor `age`, which takes values 1 (child) and 0 (adult).\n",
        "* Create factor from varaible `fare` by spliting into 10 groups with approx same number of observations.\n",
        "* What percentage is the chance of survival lower for adult compare to child?\n",
        "* Depends the probability of survival on fare? Test it.\n",
        "* Assume that the chance of survival increases with exponential increasig fare. How the chance of survival increased if the person spent an extra 10 pound for a ticket?\n",
        "* Build a model where the probabilty of survival depends on both `age` and `fare`. Are both covariates significant?\n",
        "*"
      ]
    },
    {
      "cell_type": "code",
      "execution_count": null,
      "metadata": {
        "id": "ZtEboSVjZ-wD",
        "vscode": {
          "languageId": "r"
        }
      },
      "outputs": [],
      "source": [
        "data_HW = titanic_train >> \\\n",
        "  select(titanic_train.survived,titanic_train.age,titanic_train.fare,titanic_train.pclass,titanic_train.sex,\n",
        "         titanic_train.embarked)\n",
        "\n",
        "data_HW = data_HW.apply(lambda x: x.astype('category') if str(x.dtype) == 'str' else x)\n",
        "#print(data_HW.describe(include='all'))\n",
        "#print(data_HW.dtypes)\n",
        "\n",
        "data_HW = data_HW >> \\\n",
        "            filter_by(data_HW.embarked.isin(('C', 'S', 'Q')) )  >> \\\n",
        "            transmute(survived = data_HW.survived.astype('category'),\n",
        "                      survived_num = data_HW.survived.astype('float'),\n",
        "                      age = pd.cut(data_HW.age,(-np.inf, 16, np.inf), labels=[\"child\",\"adult\"]),\n",
        "                      age_num = data_HW.age,\n",
        "                      fare = data_HW.fare,\n",
        "                      fare_quantile = pd.qcut(data_HW.fare, q=8, labels=list(range(1, 9))),\n",
        "                      fare_quantile2 = pd.qcut(data_HW.fare, q=np.linspace(0, 1, 7)),\n",
        "                      class_ = data_HW.pclass.astype('category'),\n",
        "                      sex = data_HW.sex.astype('category'),\n",
        "                      embarked = data_HW.embarked.astype('category'))\n",
        "\n",
        "# Create binary (int64) age factor: 1 if child, 0 if adult\n",
        "data_HW['age_binary'] = np.where(data_HW['age'] == 'child', 1, 0)\n",
        "\n",
        "# Create fare (float64) by splitting into 8 groups with approx equal observations\n",
        "data_HW['fare_group'] = pd.qcut(data_HW['fare'], 8, labels=False)\n",
        "\n",
        "data_HW = data_HW.dropna(axis=0, how='any')  # `axis=0` stands for per index (row)\n",
        "\n",
        "# Check Dtypes\n",
        "print(data_HW.info())\n",
        "\n",
        "data_HW.describe(include='all')\n"
      ]
    },
    {
      "cell_type": "code",
      "execution_count": null,
      "metadata": {
        "id": "_acayCW3JdvV"
      },
      "outputs": [],
      "source": [
        "# Simple Logistic Regression model with all discrete covariates fare,sex, agewithout interactions\n",
        "mod_HW1=smf.glm(formula = 'survived_num~age+sex+fare_quantile2', data=data_HW,\n",
        "                family=sm.families.Binomial(sm.families.links.Logit())).fit()\n",
        "\n",
        "print(mod_HW1.summary())"
      ]
    },
    {
      "cell_type": "code",
      "execution_count": null,
      "metadata": {
        "id": "UDbhdPV4JdvW"
      },
      "outputs": [],
      "source": [
        "#Function to estimate OR with lower and upper limit of 95% CI for OR\n",
        "\n",
        "def OR_coef(variable,model,CI):\n",
        "    param = np.array(model.params)\n",
        "    where = np.where(np.array(model.params.index) == variable)\n",
        "    beta = param[where]\n",
        "    se = np.sqrt(np.diag(model.cov_params().to_numpy()))[where]\n",
        "    or_ = np.exp(beta)\n",
        "\n",
        "    return pd.DataFrame(index=[variable], data={'OR': or_, 'LCL': np.exp(beta-1*scipy.stats.norm.ppf(CI/2 +0.5)*se)\n",
        "                                              , 'UCL':np.exp(beta+ scipy.stats.norm.ppf(CI/2 +0.5)*se)})\n",
        "OR_coef(\"age[T.adult]\",mod_HW1,0.95)"
      ]
    },
    {
      "cell_type": "markdown",
      "metadata": {
        "id": "lTedw3KV5ASe"
      },
      "source": [
        "The chances of drowning were almost twice as high in the group of adults as in the group of children."
      ]
    },
    {
      "cell_type": "code",
      "execution_count": null,
      "metadata": {
        "id": "tY9zl_bg6MiD",
        "vscode": {
          "languageId": "r"
        }
      },
      "outputs": [],
      "source": [
        "# Check model with factorized Fare\n",
        "mod_HW0=smf.glm(formula = 'survived_num~age+sex', data=data_HW,\n",
        "                family=sm.families.Binomial(sm.families.links.Logit())).fit()\n",
        "mod_HW1=smf.glm(formula = 'survived_num~age+sex+fare_quantile2', data=data_HW,\n",
        "                family=sm.families.Binomial(sm.families.links.Logit())).fit()\n",
        "mod_HW2=smf.glm(formula = 'survived_num~age+sex+fare', data=data_HW,\n",
        "                family=sm.families.Binomial(sm.families.links.Logit())).fit()\n",
        "\n",
        "print(mod_HW1.summary())\n",
        "\n"
      ]
    },
    {
      "cell_type": "markdown",
      "metadata": {
        "id": "T30L1viF7Q-S"
      },
      "source": [
        "Yes, covariate `fare` is statisticaly significant in the model. But it's better to test it with Deviation test (LRT) compare to Wald tests from summary() function."
      ]
    },
    {
      "cell_type": "code",
      "execution_count": null,
      "metadata": {
        "id": "VyMp7aHXKJfo",
        "vscode": {
          "languageId": "r"
        }
      },
      "outputs": [],
      "source": [
        "anova = Anova()\n",
        "anova(mod_HW1,mod_HW0,test=\"Chisq\")"
      ]
    },
    {
      "cell_type": "markdown",
      "metadata": {
        "id": "B1HsxUawKTm0"
      },
      "source": [
        "Confirmed."
      ]
    },
    {
      "cell_type": "code",
      "execution_count": null,
      "metadata": {
        "id": "oRepJ3yu69GW",
        "vscode": {
          "languageId": "r"
        }
      },
      "outputs": [],
      "source": [
        "# Fare as continuous variable\n",
        "\n",
        "mod_HW3 = smf.glm(formula = 'survived_num~np.divide(fare, 10)', data=data_HW,\n",
        "                family=sm.families.Binomial(sm.families.links.Logit())).fit()\n",
        "mod_HW4 = smf.glm(formula = 'survived_num~np.divide(fare, 10)+sex+age', data=data_HW,\n",
        "                family=sm.families.Binomial(sm.families.links.Logit())).fit()\n",
        "\n",
        "print(mod_HW4.summary())\n",
        "print(\"mod_HW3 ---------\")\n",
        "print(np.exp(mod_HW3.params))\n",
        "print(\"mod_HW4 ---------\")\n",
        "print(np.exp(mod_HW4.params))"
      ]
    },
    {
      "cell_type": "markdown",
      "metadata": {
        "id": "NIPQPETQ9VW3"
      },
      "source": [
        "The chance of survival increased by 10% with the ticket price 10 pounds higher.\n",
        "\n",
        "Question: What can you say about Causality? Does a higher price result in a greater chance of survival?\n",
        "\n"
      ]
    },
    {
      "cell_type": "code",
      "execution_count": null,
      "metadata": {
        "id": "YBtFn99v-a1l",
        "vscode": {
          "languageId": "r"
        }
      },
      "outputs": [],
      "source": [
        "# Model without sex variable\n",
        "mod_HW5 = smf.glm(formula = 'survived_num~np.divide(fare, 10)+np.divide(age_num, 10)', data=data_HW,\n",
        "                family=sm.families.Binomial(sm.families.links.Logit())).fit()\n",
        "\n",
        "print(mod_HW5.summary())\n",
        "print(np.exp(mod_HW5.params))"
      ]
    },
    {
      "cell_type": "markdown",
      "metadata": {
        "id": "TsI7nUG5A_EU"
      },
      "source": [
        "## Binomial data approach"
      ]
    },
    {
      "cell_type": "code",
      "execution_count": null,
      "metadata": {
        "id": "d3XCOTx6BHsU",
        "vscode": {
          "languageId": "r"
        }
      },
      "outputs": [],
      "source": [
        "data_HW_bin = \\\n",
        "        (data_HW.groupby(by=[\"sex\", \"age\", \"fare_quantile2\"], as_index=False)\n",
        "        .agg(n=('survived_num', 'count'), m=('survived_num', 'sum'))\n",
        "\n",
        "    )\n"
      ]
    },
    {
      "cell_type": "code",
      "source": [
        "data_HW_bin"
      ],
      "metadata": {
        "id": "NUf6muzOyvyN"
      },
      "execution_count": null,
      "outputs": []
    },
    {
      "cell_type": "markdown",
      "metadata": {
        "id": "SK0WpYLlfm_e"
      },
      "source": [
        "### Some additional questions"
      ]
    },
    {
      "cell_type": "markdown",
      "metadata": {
        "id": "2ylHJMd-oa-G"
      },
      "source": [
        "**Estimate** null model and compare obtained probality of survived with estimated probability from survived-not survived ratio."
      ]
    },
    {
      "cell_type": "code",
      "source": [],
      "metadata": {
        "id": "-YlckLwC01rZ"
      },
      "execution_count": null,
      "outputs": []
    },
    {
      "cell_type": "code",
      "execution_count": null,
      "metadata": {
        "id": "Ehy03B2vfl0N",
        "vscode": {
          "languageId": "r"
        }
      },
      "outputs": [],
      "source": [
        "data_HW_bin['f'] = data_HW_bin['n'] - data_HW_bin['m']\n",
        "data_HW_bin = sm.add_constant(data_HW_bin)\n",
        "\n",
        "mod_0 = sm.GLM(endog =data_HW_bin[['m', 'f']], exog=data_HW_bin['const'],\n",
        "                family=sm.families.Binomial(sm.families.links.Logit())).fit()\n",
        "\n",
        "print(mod_0.summary())\n"
      ]
    },
    {
      "cell_type": "code",
      "source": [
        "def invlogit(x): return np.exp(x) / (1+np.exp(x)) # inverse logit function\n",
        "p0_model = invlogit(mod_0.params)\n",
        "\n",
        "# Probability of survive\n",
        "p0_stat = data_HW_bin['m'].sum()/data_HW_bin['n'].sum()\n",
        "print(p0_model)\n",
        "print(p0_stat)\n",
        "print(\"-------\")\n",
        "# Chance of survive\n",
        "print(np.exp(mod_0.params))\n",
        "print(p0_stat/(1-p0_stat))"
      ],
      "metadata": {
        "id": "c4AFI-qO03N8"
      },
      "execution_count": null,
      "outputs": []
    },
    {
      "cell_type": "code",
      "source": [
        "data_HW_bin"
      ],
      "metadata": {
        "id": "0zlwPFc_1upq"
      },
      "execution_count": null,
      "outputs": []
    },
    {
      "cell_type": "code",
      "source": [
        "# formula setup for a binomial model when you have counts of successes (m) and data_HW_bin(f)\n",
        "mod_00 = smf.glm(formula='m + f ~ 1', data=data_HW_bin, family=sm.families.Binomial()).fit()\n",
        "\n",
        "# Print the summary of the model\n",
        "print(mod_00.summary())"
      ],
      "metadata": {
        "id": "pgUhH2nGzo-d"
      },
      "execution_count": null,
      "outputs": []
    },
    {
      "cell_type": "markdown",
      "metadata": {
        "id": "0iIY61MRpCYf"
      },
      "source": [
        "Estimate model with one covariate factorized `fare` and compare OR computed directly from estimated regression coefficient with OR compputed from probabilities of survived for each group."
      ]
    },
    {
      "cell_type": "code",
      "execution_count": null,
      "metadata": {
        "id": "0OUqDr3ThQyJ",
        "vscode": {
          "languageId": "r"
        }
      },
      "outputs": [],
      "source": [
        "#mod_fare = sm.GLM(endog =data_HW_bin[['m', 'f']], exog=data_HW_bin[['const', 'fare_quantile2']],\n",
        "#                family=sm.families.Binomial(sm.families.links.Logit())).fit()\n",
        "\n",
        "#mod_fare = smf.glm('(m,f) ~ fare_quantile2', data=data_HW_bin,\n",
        "#                family=sm.families.Binomial(sm.families.links.Logit())).fit()\n",
        "\n",
        "# above are not working so we need to use var_weights approach\n",
        "data_HW_bin['p'] = data_HW_bin['m'] / data_HW_bin['n']\n",
        "\n",
        "mod_fare = smf.glm(formula = 'p ~ fare_quantile2', data=data_HW_bin, var_weights=data_HW_bin['n'],\n",
        "              family=sm.families.Binomial(sm.families.links.Logit())).fit()\n",
        "\n",
        "\n",
        "\n",
        "print(mod_fare.summary())\n",
        "#mod_fare.summary()\n",
        "anova = Anova()\n",
        "display(anova(mod_fare,mod_0,test=\"Chisq\"))\n",
        "\n",
        "# Fare price is highly significant in the model.\n",
        "print(np.exp(mod_fare.params))\n",
        "\n",
        "\n"
      ]
    },
    {
      "cell_type": "markdown",
      "metadata": {
        "id": "TALfAE7YM7Ei"
      },
      "source": [
        "Question: Assume you spent 25 pounds for a ticket. What is your chance to survive compare to someone who spent only 5 pounds?"
      ]
    },
    {
      "cell_type": "code",
      "execution_count": null,
      "metadata": {
        "id": "a_Y18QCbMf7o",
        "vscode": {
          "languageId": "r"
        }
      },
      "outputs": [],
      "source": [
        "# Compute probability of survival:\n",
        "print(invlogit(mod_fare.params[0]) )\n",
        "invlogit(mod_fare.params[0]+mod_fare.params[1:])"
      ]
    },
    {
      "cell_type": "code",
      "source": [
        "# Compute OR of survival:\n",
        "print(np.exp(mod_fare.params))"
      ],
      "metadata": {
        "id": "8kQOD-QuOAoL"
      },
      "execution_count": null,
      "outputs": []
    },
    {
      "cell_type": "code",
      "source": [
        "# Compute chance of survival:\n",
        "print(np.exp(mod_fare.params[0]+mod_fare.params[1:]))"
      ],
      "metadata": {
        "id": "YRZuVGI1MQK_"
      },
      "execution_count": null,
      "outputs": []
    },
    {
      "cell_type": "code",
      "execution_count": null,
      "metadata": {
        "id": "fCwisWk0iOp1",
        "vscode": {
          "languageId": "r"
        }
      },
      "outputs": [],
      "source": [
        "# Check: odds ratio computed by hands.\n",
        "Pr_1= invlogit(mod_fare.params.iloc[0])\n",
        "Pr_6 = invlogit(mod_fare.params.iloc[0] +mod_fare.params.iloc[5])\n",
        "\n",
        "OR_1 = Pr_1/(1-Pr_1)\n",
        "OR_6 = Pr_6/(1-Pr_6)\n",
        "print(OR_6/OR_1)\n",
        "print(\"----\")\n",
        "print(np.exp(mod_fare.params[5]))\n",
        "print(np.exp(mod_fare.params[-1]))\n",
        "# print(np.exp(mod_fare.params[\"fare_quantile2[T.Interval(53.1, 512.329, closed='right')]\"]))"
      ]
    },
    {
      "cell_type": "markdown",
      "metadata": {
        "id": "KmSHzexSuPcQ"
      },
      "source": [
        "**Estimate saturated model**\n",
        "\n",
        "If we have  fixed number of parameters,  saturated model obtain every  \"observation\" and residual deviance of this saturated model is \"zero\".\n"
      ]
    },
    {
      "cell_type": "code",
      "execution_count": null,
      "metadata": {
        "id": "-W1s8tr0Adyc",
        "vscode": {
          "languageId": "r"
        }
      },
      "outputs": [],
      "source": [
        "mod_HW_sat = smf.glm('p ~ fare_quantile2*age*sex', data=data_HW_bin, var_weights=data_HW_bin['n'],\n",
        "              family=sm.families.Binomial(sm.families.links.Logit())).fit()\n",
        "\n",
        "print(mod_HW_sat.summary())"
      ]
    },
    {
      "cell_type": "markdown",
      "metadata": {
        "id": "CchPO_1oFoij"
      },
      "source": [
        "\n",
        "We can test other models against saturated one."
      ]
    },
    {
      "cell_type": "code",
      "execution_count": null,
      "metadata": {
        "id": "2G4T-YwJFnHd",
        "vscode": {
          "languageId": "r"
        }
      },
      "outputs": [],
      "source": [
        "mod_HW_bin1 = smf.glm('p ~ fare_quantile2+age+sex', data=data_HW_bin, var_weights=data_HW_bin['n'],\n",
        "              family=sm.families.Binomial(sm.families.links.Logit())).fit()\n",
        "\n",
        "\n",
        "print(mod_HW_bin1.summary())"
      ]
    },
    {
      "cell_type": "code",
      "execution_count": null,
      "metadata": {
        "id": "XsqLCkGnGSj6",
        "vscode": {
          "languageId": "r"
        }
      },
      "outputs": [],
      "source": [
        "anova(mod_HW_sat,mod_HW_bin1, test=\"Chisq\")\n",
        "\n"
      ]
    },
    {
      "cell_type": "markdown",
      "metadata": {
        "id": "_redlhPCHH0J"
      },
      "source": [
        "## Question:\n",
        "* How do you interpret previous result?\n",
        "* Is simplier aditive model without interactions good enough?"
      ]
    },
    {
      "cell_type": "code",
      "execution_count": null,
      "metadata": {
        "id": "qmEvNZN5HG69",
        "vscode": {
          "languageId": "r"
        }
      },
      "outputs": [],
      "source": []
    },
    {
      "cell_type": "markdown",
      "metadata": {
        "id": "EnmxNtfiu2lK"
      },
      "source": [
        "## Residual analysis"
      ]
    },
    {
      "cell_type": "code",
      "execution_count": null,
      "metadata": {
        "id": "XgUrBZH4v5dJ",
        "vscode": {
          "languageId": "r"
        }
      },
      "outputs": [],
      "source": [
        "# start with simple model\n",
        "mod_1 = smf.glm('survived_num ~ age_num+sex+class_', data=data_HW,\n",
        "              family=sm.families.Binomial(sm.families.links.Logit())).fit()\n",
        "\n",
        "\n",
        "print(mod_1.summary())\n",
        "\n",
        "#mod_1 = smf.glm('survived_num ~dare+sex+', data=data_HW_bin,\n",
        "#              family=sm.families.Binomial(sm.families.links.Logit())).fit()\n",
        "#mod_1.summary()\n",
        "\n",
        "\n"
      ]
    },
    {
      "cell_type": "code",
      "source": [
        "# Combine residuals\n",
        "residuals_df = pd.DataFrame({\n",
        "    \"response\": mod_1.resid_response,\n",
        "    \"working\": mod_1.resid_working,\n",
        "    \"pearson\": mod_1.resid_pearson,\n",
        "    \"deviance\": mod_1.resid_deviance\n",
        "})\n",
        "\n",
        "print(residuals_df.head())"
      ],
      "metadata": {
        "id": "1UVuUYxXp3V4"
      },
      "execution_count": null,
      "outputs": []
    },
    {
      "cell_type": "code",
      "execution_count": null,
      "metadata": {
        "id": "j7BG0M8YyuUJ",
        "vscode": {
          "languageId": "r"
        }
      },
      "outputs": [],
      "source": [
        "cls = DiagnosticPlots(mod_1)\n",
        "cls.residual_plot()"
      ]
    },
    {
      "cell_type": "code",
      "source": [
        "# print(plt.style.available)\n",
        "fig, ax = cls(plot_context='classic')"
      ],
      "metadata": {
        "id": "Erl1Al1aqeoF"
      },
      "execution_count": null,
      "outputs": []
    },
    {
      "cell_type": "code",
      "source": [],
      "metadata": {
        "id": "HRF1Lt-yrsa8"
      },
      "execution_count": null,
      "outputs": []
    },
    {
      "cell_type": "markdown",
      "source": [
        "### Diagnostic plots without custom class"
      ],
      "metadata": {
        "id": "acMqiruIrsw9"
      }
    },
    {
      "cell_type": "code",
      "source": [
        "# Compute diagnostics\n",
        "influence = mod_1.get_influence()\n",
        "resid = mod_1.resid_pearson\n",
        "resid_studentized = influence.resid_studentized\n",
        "fitted = mod_1.fittedvalues\n",
        "leverage = influence.hat_matrix_diag\n",
        "cooks_d = influence.cooks_distance[0]\n",
        "\n",
        "# Plot Residuals vs Fitted\n",
        "plt.figure(figsize=(12, 10))\n",
        "\n",
        "plt.subplot(2, 2, 1)\n",
        "sns.residplot(x=fitted, y=resid, lowess=True, line_kws={'color': 'red'})\n",
        "plt.xlabel(\"Fitted values\")\n",
        "plt.ylabel(\"Pearson residuals\")\n",
        "plt.title(\"Residuals vs Fitted\")\n",
        "\n",
        "# Q-Q Plot\n",
        "plt.subplot(2, 2, 2)\n",
        "qqplot(resid_studentized, line='45', fit=True, ax=plt.gca())\n",
        "plt.title(\"Normal Q-Q\")\n",
        "\n",
        "# Scale-Location Plot\n",
        "plt.subplot(2, 2, 3)\n",
        "resid_sqrt = np.sqrt(np.abs(resid_studentized))\n",
        "plt.scatter(fitted, resid_sqrt, alpha=0.5)\n",
        "sns.regplot(x=fitted, y=resid_sqrt, lowess=True, scatter=False, line_kws={'color': 'red'})\n",
        "plt.xlabel(\"Fitted values\")\n",
        "plt.ylabel(r\"$\\sqrt{|Standardized\\ Residuals|}$\")\n",
        "plt.title(\"Scale-Location\")\n",
        "\n",
        "# Residuals vs Leverage with Cook's distance\n",
        "plt.subplot(2, 2, 4)\n",
        "plt.scatter(leverage, resid_studentized, alpha=0.5)\n",
        "sns.regplot(x=leverage, y=resid_studentized, lowess=True, scatter=False, line_kws={'color': 'red'})\n",
        "plt.xlabel(\"Leverage\")\n",
        "plt.ylabel(\"Standardized Residuals\")\n",
        "plt.title(\"Residuals vs Leverage\")\n",
        "\n",
        "# Add Cook's distance contours\n",
        "def cooks_dist_line(factor):\n",
        "    p = mod_1.df_model + 1\n",
        "    x = np.linspace(0.001, max(leverage), 50)\n",
        "    y = np.sqrt(factor * p * (1 - x) / x)\n",
        "    return x, y\n",
        "\n",
        "for val in [0.5, 1]:\n",
        "    x_line, y_line = cooks_dist_line(val)\n",
        "    plt.plot(x_line, y_line, linestyle='--', color='red')\n",
        "    plt.plot(x_line, -y_line, linestyle='--', color='red')\n",
        "\n",
        "plt.tight_layout()\n",
        "plt.show()\n"
      ],
      "metadata": {
        "id": "N28AYRTWrW2O"
      },
      "execution_count": null,
      "outputs": []
    },
    {
      "cell_type": "markdown",
      "metadata": {
        "id": "mBrkKrII_aa_"
      },
      "source": [
        "A perfect fit of a datapoint (which never occurs) gives a deviance of zero as \"log(1) =0\". A poorly fitting point has a large residual deviance."
      ]
    },
    {
      "cell_type": "markdown",
      "metadata": {
        "id": "tYsJUO9wAb1E"
      },
      "source": [
        "All plots look funny. What do you think, is there any problem in the model?"
      ]
    },
    {
      "cell_type": "markdown",
      "metadata": {
        "id": "pfM3W9zGA_0p"
      },
      "source": [
        "\n",
        "* The **Residuals vs Fitted** plot can help you see, for example, if there are curvilinear trends that you missed. But the fit of a logistic regression is curvilinear by nature, so you can have odd looking trends in the residuals with nothing amiss.\n",
        "* The **Normal Q-Q** plot helps you detect if your residuals are normally distributed. But the deviance residuals don't have to be normally distributed for the model to be valid, so the normality / non-normality of the residuals doesn't necessarily tell you anything.\n",
        "* The **Scale-Location** plot can help you identify heteroscedasticity. But logistic regression models are pretty much heteroscedastic by nature.\n",
        "* The **Residuals vs Leverage** can help you identify possible outliers. But outliers in logistic regression don't necessarily manifest in the same way as in linear regression, so this plot may or may not be helpful in identifying them.\n",
        "\n",
        "source:https://stats.stackexchange.com/questions/121490/interpretation-of-plot-glm-model\n"
      ]
    },
    {
      "cell_type": "code",
      "execution_count": null,
      "metadata": {
        "id": "8gEexODqyuZw",
        "vscode": {
          "languageId": "r"
        }
      },
      "outputs": [],
      "source": [
        "d = data_HW[['age_num', 'survived']].copy()\n",
        "d['resid'] = mod_1.resid_deviance\n",
        "\n",
        "sns.lmplot(x='age_num', y='resid', data=d, hue='survived', lowess=True)\n",
        "sns.regplot(x='age_num', y='resid', data=d, lowess=True, color='black', marker='')\n",
        "plt.plot(d['age_num'], np.zeros((len(d['age_num']),)), color='grey')"
      ]
    },
    {
      "cell_type": "code",
      "execution_count": null,
      "metadata": {
        "id": "OK0TJOjhJdvf"
      },
      "outputs": [],
      "source": [
        "data_HW_mod = data_HW >> \\\n",
        "        mutate(fitted=mod_1.fittedvalues,\n",
        "               predict = np.where(mod_1.fittedvalues.to_numpy() > 0.5, '1', '0'), # default threshold 0.5\n",
        "               r_deviance_std = mod_1.resid_deviance,  # standardized by default\n",
        "               r_pearson_std = mod_1.resid_pearson  # standardized by default\n",
        "              )\n",
        "data_HW_mod['predict'] = data_HW_mod['predict'].astype('category')\n",
        "data_HW_mod.head()"
      ]
    },
    {
      "cell_type": "code",
      "execution_count": null,
      "metadata": {
        "id": "7Uydx4Gbyuou",
        "vscode": {
          "languageId": "r"
        }
      },
      "outputs": [],
      "source": [
        "fig, ax = plt.subplots(1, 2, figsize=(10, 5))\n",
        "\n",
        "sns.scatterplot(x='age_num', y='fitted', data=data_HW_mod, hue='sex', style='class_', ax=ax[0])\n",
        "sns.scatterplot(x='age_num', y='r_deviance_std', data=data_HW_mod, hue='sex', style='class_', ax=ax[1])\n",
        "plt.show()"
      ]
    },
    {
      "cell_type": "code",
      "execution_count": null,
      "metadata": {
        "id": "FvbwSkYS9jIQ",
        "vscode": {
          "languageId": "r"
        }
      },
      "outputs": [],
      "source": [
        "fig, ax = plt.subplots(1, 2, figsize=(10, 5))\n",
        "\n",
        "sns.scatterplot(x='age_num', y='fitted', data=data_HW_mod, hue='survived', ax=ax[0])\n",
        "sns.scatterplot(x='age_num', y='r_deviance_std', data=data_HW_mod, hue='survived', ax=ax[1])\n",
        "plt.show()"
      ]
    },
    {
      "cell_type": "markdown",
      "metadata": {
        "id": "B8A_m1M7GHfc"
      },
      "source": [
        "## Post hoc analysis by quality of fitted values"
      ]
    },
    {
      "cell_type": "code",
      "execution_count": null,
      "metadata": {
        "id": "GqprfVXdJdvg"
      },
      "outputs": [],
      "source": [
        "# Fit a  model\n",
        "pd.crosstab([data_HW_mod.predict],[data_HW.survived])"
      ]
    },
    {
      "cell_type": "code",
      "execution_count": null,
      "metadata": {
        "id": "SpzlpBvjJdvg"
      },
      "outputs": [],
      "source": [
        "ConfusionMatrixDisplay.from_predictions(data_HW_mod.survived, data_HW_mod.predict)\n",
        "plt.show()"
      ]
    },
    {
      "cell_type": "markdown",
      "source": [
        "https://en.wikipedia.org/wiki/Precision_and_recall"
      ],
      "metadata": {
        "id": "-LEryyRiDDKd"
      }
    },
    {
      "cell_type": "markdown",
      "source": [
        "![image.png](data:image/png;base64,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)"
      ],
      "metadata": {
        "id": "iM5vqL6ICybR"
      }
    },
    {
      "cell_type": "markdown",
      "source": [
        "https://en.wikipedia.org/wiki/Evaluation_of_binary_classifiers"
      ],
      "metadata": {
        "id": "diP5ylVgu2Wy"
      }
    },
    {
      "cell_type": "code",
      "execution_count": null,
      "metadata": {
        "id": "70M1q3tPJdvg"
      },
      "outputs": [],
      "source": [
        "print(confusion_matrix(y_true=data_HW_mod.survived, y_pred=data_HW_mod.predict))"
      ]
    },
    {
      "cell_type": "code",
      "source": [],
      "metadata": {
        "id": "t5JID94xDZgN"
      },
      "execution_count": null,
      "outputs": []
    },
    {
      "cell_type": "code",
      "source": [
        "print(classification_report(y_true=data_HW_mod.survived, y_pred=data_HW_mod.predict))"
      ],
      "metadata": {
        "id": "Gq2CGOeuDNcr"
      },
      "execution_count": null,
      "outputs": []
    },
    {
      "cell_type": "code",
      "source": [],
      "metadata": {
        "id": "0GfKTaC_Cxe1"
      },
      "execution_count": null,
      "outputs": []
    },
    {
      "cell_type": "code",
      "execution_count": null,
      "metadata": {
        "id": "GhHESVz9Jdvg"
      },
      "outputs": [],
      "source": [
        "sns.histplot(data=data_HW_mod, x='fitted', hue='survived', alpha=0.2, fill=True, stat='density', kde=True,\n",
        "            binwidth=0.05)\n",
        "plt.show()\n",
        "\n",
        "sns.histplot(data=data_HW_mod, x='fitted', hue='sex', alpha=0.5, fill=True, stat='count', binwidth=0.05)\n",
        "plt.show()"
      ]
    },
    {
      "cell_type": "code",
      "execution_count": null,
      "metadata": {
        "id": "QqfrVz2OJdvg"
      },
      "outputs": [],
      "source": [
        "data_HW_mod = data_HW_mod >> \\\n",
        "        mutate(\n",
        "               predict_04 = np.where(mod_1.fittedvalues.to_numpy() > 0.4, '1', '0'),\n",
        "              )\n",
        "data_HW_mod['predict_04'] = data_HW_mod['predict_04'].astype('category')\n",
        "\n",
        "print(data_HW_mod.head())\n",
        "print(print(confusion_matrix(y_true=data_HW_mod.survived, y_pred=data_HW_mod.predict_04)))"
      ]
    },
    {
      "cell_type": "code",
      "execution_count": null,
      "metadata": {
        "id": "AbXPDa5L9jTc",
        "vscode": {
          "languageId": "r"
        }
      },
      "outputs": [],
      "source": [
        "(392+265)/(392 + 265 + 104+ 73 ) # Accuracy from Confusion Matrix"
      ]
    },
    {
      "cell_type": "markdown",
      "metadata": {
        "id": "8HDo1IxQLGxd"
      },
      "source": [
        "## Use test data"
      ]
    },
    {
      "cell_type": "code",
      "execution_count": null,
      "metadata": {
        "id": "DPguRPRVLpIw",
        "vscode": {
          "languageId": "r"
        }
      },
      "outputs": [],
      "source": [
        "titanic_test.head()"
      ]
    },
    {
      "cell_type": "code",
      "execution_count": null,
      "metadata": {
        "id": "eyl9UkO3J2tU",
        "vscode": {
          "languageId": "r"
        }
      },
      "outputs": [],
      "source": [
        "data_test = titanic_test[['age', 'sex', 'pclass', 'fare', 'embarked']] >> \\\n",
        "            filter_by(titanic_test.embarked.isin(('C', 'S', 'Q')) )  >> \\\n",
        "            transmute(survived = titanic_test.survived,\n",
        "                      survived_num = titanic_test.survived.astype('float'),\n",
        "                      age = pd.cut(titanic_test.age,(-np.inf, 16, np.inf), labels=[\"child\",\"adult\"]),\n",
        "                      age_num = titanic_test.age,\n",
        "                      fare = titanic_test.fare,\n",
        "                      fare_quantile = pd.qcut(titanic_test.fare, q=8, labels=list(range(1, 9))),\n",
        "                      fare_quantile2 = pd.qcut(titanic_test.fare, q=np.linspace(0, 1, 9)),\n",
        "                      class_ = titanic_test.pclass.astype('category'),\n",
        "                      sex = titanic_test.sex.astype('category'),\n",
        "                      embarked = titanic_test.embarked.astype('category'))\n",
        "\n",
        "data_test = data_test.dropna(axis=0, how='any')  # `axis=0` stands for per index (row)\n",
        "print(data_test.describe(include='all'))\n",
        "print(data_test.info())\n",
        "#data_test.head()"
      ]
    },
    {
      "cell_type": "code",
      "source": [
        "# Compute predictions for the test set\n",
        "data_test_mod = data_test.copy()\n",
        "data_test_mod['fitted'] = mod_1.predict(data_test_mod)\n",
        "data_test_mod['predict'] = np.where(data_test_mod['fitted'] > 0.5, '1', '0')\n",
        "data_test_mod['predict'] = data_test_mod['predict'].astype('category')\n",
        "data_test_mod['r_deviance_std'] = np.nan  # not available for out-of-sample\n",
        "data_test_mod['r_pearson_std'] = np.nan   # not available for out-of-sample\n",
        "data_test_mod['source'] = 'test'\n",
        "\n",
        "# Add source column to training set\n",
        "data_HW_mod['source'] = 'train'\n",
        "\n",
        "# Combine into one dataframe\n",
        "data_combined = pd.concat([data_HW_mod, data_test_mod], axis=0)\n",
        "\n",
        "# Split by dataset (train/test)\n",
        "sns.histplot(data=data_combined, x='fitted', hue='source',\n",
        "             element='step', common_norm=False, stat='density', bins=15)\n",
        "plt.title(\"Predicted probability distributions by dataset\")\n",
        "plt.show()\n",
        "\n"
      ],
      "metadata": {
        "id": "nYahmYn7x0QE"
      },
      "execution_count": null,
      "outputs": []
    },
    {
      "cell_type": "code",
      "source": [
        "g = sns.FacetGrid(data_combined, col='source', hue='survived', height=4, aspect=1.2)\n",
        "g.map(sns.histplot, 'fitted', stat='density', element='step', bins=30)\n",
        "g.add_legend()\n",
        "g.set_titles(\"Dataset: {col_name}\")\n",
        "plt.suptitle(\"Fitted Value Distributions by Class and Dataset\", y=1.05)\n",
        "plt.tight_layout()\n",
        "plt.show()\n"
      ],
      "metadata": {
        "id": "mhfJhOW3yTpH"
      },
      "execution_count": null,
      "outputs": []
    },
    {
      "cell_type": "code",
      "source": [
        "# Create a combined label for hue\n",
        "data_combined['source_survived'] = data_combined['source'].astype(str) + \"_y\" + data_combined['survived'].astype(str)\n",
        "plt.figure(figsize=(10, 6))\n",
        "\n",
        "# Histogram\n",
        "sns.histplot(\n",
        "    data=data_combined,\n",
        "    x='fitted',\n",
        "    hue='source_survived',\n",
        "    multiple='layer',\n",
        "    stat='density',\n",
        "    bins=20,\n",
        "    palette='Set1',\n",
        "    alpha=0.3,\n",
        "    element='step'\n",
        ")\n",
        "\n",
        "# KDE (smoothed version)\n",
        "sns.kdeplot(\n",
        "    data=data_combined,\n",
        "    x='fitted',\n",
        "    hue='source_survived',\n",
        "    common_norm=False,\n",
        "    palette='Set1',\n",
        "    lw=2\n",
        ")\n",
        "\n",
        "plt.title(\"Predicted Probability Distributions by Dataset and True Class\")\n",
        "plt.xlabel(\"Fitted Probability (Survival)\")\n",
        "plt.ylabel(\"Density\")\n",
        "plt.grid(True)\n",
        "plt.tight_layout()\n",
        "plt.show()\n"
      ],
      "metadata": {
        "id": "BmMvCm1wz1ud"
      },
      "execution_count": null,
      "outputs": []
    },
    {
      "cell_type": "code",
      "execution_count": null,
      "metadata": {
        "id": "HZbsk4NtJdvh"
      },
      "outputs": [],
      "source": [
        "data_test = data_test >> \\\n",
        "        mutate(fitted=mod_1.predict(exog = data_test, linear=False),\n",
        "               predict = np.where(mod_1.predict(exog = data_test, linear=False).to_numpy() > 0.5, '1', '0')\n",
        "              ) >> \\\n",
        "        arrange(data_test.age_num)\n",
        "\n",
        "data_test['predict'] = data_test['predict'].astype('category')\n",
        "print(data_test.head())\n",
        "\n",
        "fig, ax = plt.subplots()\n",
        "sns.lineplot(data=data_test, x='age_num', y='fitted', hue=data_test[['sex', 'class_']].apply(tuple, axis=1), ax=ax)\n",
        "sns.rugplot(data=data_test, x='age_num', y='survived_num', hue='survived', ax=ax)\n",
        "\n",
        "ax.set_xlabel('Age')\n",
        "ax.set_ylabel('Probability of survival')\n",
        "fig.legend(loc='center right')\n",
        "\n",
        "\n",
        "plt.show()"
      ]
    },
    {
      "cell_type": "code",
      "execution_count": null,
      "metadata": {
        "id": "IAiK6PRSJdvh"
      },
      "outputs": [],
      "source": [
        "data_test_select = data_test[(data_test.sex == 'male') & (data_test.class_ == 2)]\n",
        "\n",
        "fig, ax = plt.subplots()\n",
        "sns.lineplot(data=data_test_select, x='age_num', y='fitted', ax=ax, color='green')\n",
        "sns.rugplot(data=data_test_select, x='age_num', y='survived_num', hue='survived', ax=ax)\n",
        "\n",
        "ax.set_xlabel('Age')\n",
        "ax.set_ylabel('Probability of survival')\n",
        "\n",
        "plt.show()"
      ]
    },
    {
      "cell_type": "code",
      "source": [
        "print(mod_1.summary())"
      ],
      "metadata": {
        "id": "9a6kfXKl8B5m"
      },
      "execution_count": null,
      "outputs": []
    },
    {
      "cell_type": "code",
      "source": [
        "# unfortunately there is not such parameter to calculate `se.fit` so we need perform calculation by hand\n",
        "# se_fit for linear predictor not for mu\n",
        "se_fit = []\n",
        "for _, row in data_test_select[['age_num']].iterrows():\n",
        "    vec = np.array([1, 1, 1, 0, row['age_num']])\n",
        "    se_fit.append(np.sqrt(vec @ mod_1.cov_params().to_numpy() @ vec.T))\n",
        "se_fit = np.array(se_fit)\n"
      ],
      "metadata": {
        "id": "5uzFBaxW6yMP"
      },
      "execution_count": null,
      "outputs": []
    },
    {
      "cell_type": "markdown",
      "metadata": {
        "id": "Y9jQj8n4Qs3G"
      },
      "source": [
        "### Wrong way to plot confidence interval (student solution from couple of years ago)"
      ]
    },
    {
      "cell_type": "code",
      "execution_count": null,
      "metadata": {
        "id": "eTmmVknMJ2v-",
        "vscode": {
          "languageId": "r"
        }
      },
      "outputs": [],
      "source": [
        "## Add standard errors and compute a 95% interval the wrong way\n",
        "\n",
        "# se for nonlinear fit ??\n",
        "se_fit_w = np.sqrt(mod_1.model.family.variance(mod_1.predict(data_test_select, linear=False)))\n",
        "\n",
        "data_test_select = data_test_select >> \\\n",
        "  mutate(wrong_se = se_fit_w, #se_fit,\n",
        "         wrong_upr = data_test_select.fitted + (2 * se_fit_w),\n",
        "         wrong_lwr = data_test_select.fitted - (2 * se_fit_w))\n",
        "\n",
        "fig, ax = plt.subplots()\n",
        "sns.lineplot(data=data_test_select, x='age_num', y='fitted', ax=ax, color='green')\n",
        "#sns.lineplot(x='age_num', y='wrong_upr', data=data_test_select, ax=ax, color='purple', markers=['-*'])\n",
        "#sns.lineplot(x='age_num', y='wrong_lwr', data=data_test_select, ax=ax, color='purple', markers=['-*'])\n",
        "sns.rugplot(data=data_test_select, x='age_num', y='survived_num', hue='survived', ax=ax)\n",
        "\n",
        "sns.rugplot(data=data_test_select, x='age_num', y='survived_num', hue='survived', ax=ax)\n",
        "\n",
        "#ax.lines[1].set_linestyle(\"--\")\n",
        "#ax.lines[2].set_linestyle(\"--\")\n",
        "\n",
        "plt.fill_between(\n",
        "        x= data_test_select.age_num,\n",
        "        y1= data_test_select.wrong_upr,\n",
        "        y2 =data_test_select.wrong_lwr,\n",
        "        color= \"purple\",\n",
        "        alpha= 0.1)\n",
        "\n",
        "ax.set_xlabel('Age')\n",
        "ax.set_ylabel('Probability of survival')\n",
        "\n",
        "plt.show()"
      ]
    },
    {
      "cell_type": "markdown",
      "metadata": {
        "id": "kKOeZKUDR_2T"
      },
      "source": [
        "## The Right way"
      ]
    },
    {
      "cell_type": "code",
      "execution_count": null,
      "metadata": {
        "id": "wAQ0XDOiSpVk",
        "vscode": {
          "languageId": "r"
        }
      },
      "outputs": [],
      "source": [
        "se_fit  # for linear predictor"
      ]
    },
    {
      "cell_type": "code",
      "execution_count": null,
      "metadata": {
        "id": "Ocg3o-RhJ21V",
        "vscode": {
          "languageId": "r"
        }
      },
      "outputs": [],
      "source": [
        "# Use inverse link function (logit -> probability)\n",
        "ilink = mod_1.model.family.link.inverse\n",
        "\n",
        "quant_t = scipy.stats.t.isf(0.025, df =mod_1.df_resid)\n",
        "quant_n = scipy.stats.norm.isf(0.005)\n",
        "\n",
        "data_test_select = data_test_select >> \\\n",
        "   mutate(fit_link = mod_1.predict(data_test_select, linear=True),\n",
        "          se_link  = se_fit,\n",
        "          fit  = ilink(mod_1.predict(data_test_select, linear=True)),\n",
        "          fit_ul = ilink(mod_1.predict(data_test_select, linear=True) + (quant_n * se_fit)),\n",
        "          fit_ll = ilink(mod_1.predict(data_test_select, linear=True) - (quant_n * se_fit)))\n",
        "## show\n",
        "print(data_test_select.head())\n",
        "\n",
        "fig, ax = plt.subplots()\n",
        "sns.lineplot(data=data_test_select, x='age_num', y='fitted', ax=ax, color='green')\n",
        "#sns.lineplot(x='age_num', y='fit_ul', data=data_test_select, ax=ax, color='purple', markers=['-*'])\n",
        "#sns.lineplot(x='age_num', y='fit_ll', data=data_test_select, ax=ax, color='purple', markers=['-*'])\n",
        "sns.rugplot(data=data_test_select, x='age_num', y='survived_num', hue='survived', ax=ax)\n",
        "\n",
        "#ax.lines[1].set_linestyle(\"--\")\n",
        "#ax.lines[2].set_linestyle(\"--\")\n",
        "plt.fill_between(\n",
        "        x= data_test_select.age_num,\n",
        "        y1= data_test_select.fit_ul,\n",
        "        y2 =data_test_select.fit_ll,\n",
        "        color= \"purple\",\n",
        "        alpha= 0.1)\n",
        "\n",
        "\n",
        "ax.set_xlabel('Age')\n",
        "ax.set_ylabel('Probability of survival')\n",
        "\n",
        "\n",
        "plt.show()\n"
      ]
    },
    {
      "cell_type": "code",
      "source": [
        "# Generated solution\n",
        "\n",
        "# Prepare sorted test data for smoother plots\n",
        "data_test_select_sorted = data_test_select.sort_values('age_num')\n",
        "\n",
        "# Get prediction and confidence intervals on the link scale\n",
        "predictions = mod_1.get_prediction(data_test_select_sorted)\n",
        "pred_summary = predictions.summary_frame()\n",
        "\n",
        "data_test_select_sorted['fitted'] = ilink(pred_summary['mean'])\n",
        "data_test_select_sorted['fit_ll'] = ilink(pred_summary['mean_ci_lower'])\n",
        "data_test_select_sorted['fit_ul'] = ilink(pred_summary['mean_ci_upper'])\n",
        "\n",
        "# Plot correctly transformed values\n",
        "fig, ax = plt.subplots(figsize=(10, 6))\n",
        "\n",
        "# Predicted probabilities and CI bands\n",
        "sns.lineplot(x='age_num', y='fitted', data=data_test_select_sorted, color='green', ax=ax)\n",
        "ax.fill_between(\n",
        "    data_test_select_sorted['age_num'],\n",
        "    data_test_select_sorted['fit_ll'],\n",
        "    data_test_select_sorted['fit_ul'],\n",
        "    color='purple', alpha=0.2, label='95% CI'\n",
        ")\n",
        "\n",
        "# Rug plot for actual data points by survival\n",
        "sns.rugplot(x='age_num', hue='survived', data=data_test_select_sorted, ax=ax)\n",
        "\n",
        "ax.set_xlabel('Age')\n",
        "ax.set_ylabel('Probability of Survival')\n",
        "ax.legend()\n",
        "\n",
        "plt.tight_layout()\n",
        "plt.show()\n"
      ],
      "metadata": {
        "id": "DMSdPn6O3Lih"
      },
      "execution_count": null,
      "outputs": []
    },
    {
      "cell_type": "markdown",
      "source": [
        "Why both plots differ?"
      ],
      "metadata": {
        "id": "CH5qWMLq84qw"
      }
    },
    {
      "cell_type": "code",
      "source": [],
      "metadata": {
        "id": "wKqwQENQL8Il"
      },
      "execution_count": null,
      "outputs": []
    },
    {
      "cell_type": "markdown",
      "metadata": {
        "id": "btwAWoSYZOUX"
      },
      "source": [
        "### Binary classification & ROC curves"
      ]
    },
    {
      "cell_type": "markdown",
      "metadata": {
        "id": "87o4YqSPZSOc"
      },
      "source": [
        "https://en.wikipedia.org/wiki/Binary_classification\n",
        "\n",
        "https://en.wikipedia.org/wiki/Sensitivity_and_specificity\n",
        "\n",
        "https://en.wikipedia.org/wiki/Receiver_operating_characteristic\n",
        "\n"
      ]
    },
    {
      "cell_type": "markdown",
      "metadata": {
        "id": "M2qBbWteZdBj"
      },
      "source": [
        "Python resources\n",
        "\n",
        "https://scikit-learn.org/stable/auto_examples/model_selection/plot_roc.html\n",
        "\n",
        "https://machinelearningmastery.com/roc-curves-and-precision-recall-curves-for-classification-in-python/\n",
        "\n"
      ]
    },
    {
      "cell_type": "code",
      "execution_count": null,
      "metadata": {
        "id": "SWm-vlt9Jdvi"
      },
      "outputs": [],
      "source": [
        "fpr, tpr, thresholds = roc_curve(data_HW_mod.survived_num, data_HW_mod.fitted)\n",
        "auc = roc_auc_score(data_HW_mod.survived_num, data_HW_mod.fitted)  # auc\n",
        "\n",
        "plt.plot(fpr,tpr,label=f\"AUC={round(auc, 2)}\")\n",
        "plt.ylabel('True Positive Rate')  # aka sensitivity\n",
        "plt.xlabel('False Positive Rate') # aka 1-specificity\n",
        "plt.legend(loc=4)\n",
        "plt.show()"
      ]
    },
    {
      "cell_type": "code",
      "execution_count": null,
      "metadata": {
        "id": "c8ih6f9UJdvi"
      },
      "outputs": [],
      "source": [
        "where = np.where((fpr > 0.0) & (fpr <= 0.1))[0]\n",
        "pAUC = np.trapz(tpr[where], fpr[where], dx=0.01)  # 0.0-0.1 FPR\n",
        "where2 = np.where((tpr > 0.9) & (tpr <= 1))[0]\n",
        "pAUC2 = np.trapz(tpr[where2]-tpr[where2].min(), fpr[where2], dx=0.01)  # 0.9-1 TPR\n"
      ]
    },
    {
      "cell_type": "code",
      "execution_count": null,
      "metadata": {
        "id": "AP8EnhuWJdvj"
      },
      "outputs": [],
      "source": [
        "\n",
        "plt.plot(fpr,tpr)\n",
        "plt.ylabel('True Positive Rate')  # aka sensitivity\n",
        "plt.xlabel('False Positive Rate') # aka 1-specificity\n",
        "\n",
        "plt.fill_between(\n",
        "        x= fpr[where2],\n",
        "        y1= tpr[where2],\n",
        "        y2 =tpr[where2].min(),\n",
        "        color= \"green\",\n",
        "        label=f'pAUC (0.9-1 TPR) \\n {round(pAUC2, 2)}',  # partial auc\n",
        "        alpha= 0.5)\n",
        "plt.fill_between(\n",
        "        x= fpr[where],\n",
        "        y1= tpr[where],\n",
        "        label=f'pAUC (0-0.1 FPR) \\n {round(pAUC, 2)}',   # partial auc\n",
        "        color= \"purple\",\n",
        "        alpha= 0.5)\n",
        "plt.legend(loc=4)\n",
        "plt.show()"
      ]
    },
    {
      "cell_type": "code",
      "execution_count": null,
      "metadata": {
        "id": "5FEIj8REhxZt",
        "vscode": {
          "languageId": "r"
        }
      },
      "outputs": [],
      "source": []
    },
    {
      "cell_type": "markdown",
      "metadata": {
        "id": "76UBUNIMcthh"
      },
      "source": [
        "## Your Turn :\n",
        "\n",
        "* Compute a new variable `nrelatives = sibsp + parch`\n",
        "* Fit model with this new variable (you can try use it as continuous or as factor (change levels)) and `sex, age, fare, class, embarked`\n",
        "* Try to use `step` function to find the \"best\" model.\n",
        "* Validate the model. Are all variables significant? If you have any numerical variable, does it need any transformation?\n",
        "* Plot densities of fitted probabilities for survived/not survived and choose optimal threshold.\n",
        "* Compute the confusion matrix and basic statistics and compare results of your model with model mod_1\n",
        "* Plot ROC curve of your model together with ROC curve of mod_1. Which one has larger AUC.\n",
        "\n",
        "* Calibrate the output and show if its calibrated. Compare results with RF from scikit-learn"
      ]
    },
    {
      "cell_type": "code",
      "source": [],
      "metadata": {
        "id": "eX4zKpSlrvNc"
      },
      "execution_count": null,
      "outputs": []
    },
    {
      "cell_type": "code",
      "execution_count": null,
      "metadata": {
        "id": "xCn9FM42tc2P",
        "vscode": {
          "languageId": "r"
        }
      },
      "outputs": [],
      "source": [
        "# Core libraries\n",
        "import numpy as np\n",
        "import pandas as pd\n",
        "import statsmodels.api as sm\n",
        "import statsmodels.formula.api as smf\n",
        "from sklearn import datasets\n",
        "from sklearn.model_selection import train_test_split\n",
        "from sklearn.metrics import (classification_report, confusion_matrix,\n",
        "                             ConfusionMatrixDisplay, roc_curve,\n",
        "                             roc_auc_score, brier_score_loss)\n",
        "from sklearn.calibration import calibration_curve\n",
        "from sklearn.ensemble import RandomForestClassifier\n",
        "import seaborn as sns; sns.set_theme()\n",
        "import matplotlib.pyplot as plt\n",
        "\n",
        "!pip install dfply  # install first, then comment out\n",
        "from dfply import *"
      ]
    },
    {
      "cell_type": "code",
      "source": [
        "titanic = datasets.fetch_openml(\"titanic\", version=1, as_frame=True).frame\n",
        "\n",
        "\n",
        "num_vars = [\"age\", \"fare\", \"sex\", \"pclass\", \"embarked\"]\n",
        "cat_hue  = \"survived\"\n",
        "\n",
        "titanic[cat_hue] = titanic[cat_hue].astype(\"category\")\n",
        "\n",
        "plot_df = titanic[num_vars + [cat_hue]].dropna()\n",
        "\n",
        "sns.set_theme(style=\"ticks\", context=\"notebook\")\n",
        "g = sns.pairplot(plot_df, vars=num_vars, hue=cat_hue,\n",
        "                 diag_kind=\"hist\", palette=\"Set2\", corner=True)\n",
        "g.fig.suptitle(\"Titanic dataset – pairwise relationships\", y=1.02)\n",
        "plt.show()"
      ],
      "metadata": {
        "id": "IMiJUJOM-mcc"
      },
      "execution_count": null,
      "outputs": []
    },
    {
      "cell_type": "markdown",
      "source": [
        "#### <u>Describing the data</u>\n",
        "- **fare** is extremely right skewed + few 'ouliers', will try to use log()\n",
        "- **age** will be transformed into child/adult dummies\n",
        "- **pclass** will be treated as a factor class\n",
        "- **sex** has good separation, leaving it as a factor var\n",
        "- **embarked** ok"
      ],
      "metadata": {
        "id": "QQ9isZDLApjf"
      }
    },
    {
      "cell_type": "code",
      "source": [
        "# Load\n",
        "titanic = datasets.fetch_openml(\"titanic\", version=1, as_frame=True).frame\n",
        "data = titanic[[\"survived\", \"age\", \"fare\", \"pclass\", \"sex\", \"embarked\"]].copy()\n",
        "\n",
        "# Categorical columns\n",
        "for col in [\"survived\", \"pclass\", \"sex\", \"embarked\"]:\n",
        "    data[col] = data[col].astype(\"category\")\n",
        "\n",
        "data[\"age_cont\"] = data[\"age\"]\n",
        "data = data[data[\"embarked\"].isin([\"C\", \"S\", \"Q\"])].copy()\n",
        "\n",
        "data[\"survived_num\"] = data[\"survived\"].astype(float)\n",
        "\n",
        "# Age\n",
        "data[\"age_cat\"]  = pd.cut(data[\"age\"], (-np.inf, 16, np.inf),\n",
        "                          labels=[\"child\", \"adult\"])\n",
        "data[\"age_num\"]  = (data[\"age_cat\"] == \"adult\").astype(int)\n",
        "data[\"age_cont\"] = data[\"age\"]  #  numeric\n",
        "\n",
        "# Log-fare\n",
        "data[\"log_fare\"] = np.log1p(data[\"fare\"])\n",
        "\n",
        "# NaNs\n",
        "data = data.dropna(subset=[\"age\", \"fare\", \"pclass\", \"sex\", \"embarked\"]).copy()\n",
        "\n",
        "# New var\n",
        "data[\"nrelatives\"] = titanic.loc[data.index, \"sibsp\"] + titanic.loc[data.index, \"parch\"]\n",
        "bins   = [-.1, .5, 1.5, 2.5, 3.5, 10.1]\n",
        "labels = [\"0\",\"1\",\"2\",\"3\",\"4+\"]\n",
        "data[\"nrelatives_bin\"] = pd.cut(data[\"nrelatives\"], bins=bins, labels=labels,\n",
        "                                ordered=True).astype(\"category\")\n",
        "\n",
        "data[\"nrel4\"] = pd.cut(\n",
        "    data[\"nrelatives\"],\n",
        "    bins=[-1, 0, 1, 2, data[\"nrelatives\"].max()],\n",
        "    labels=[\"0\",\"1\",\"2\",\"3+\"],\n",
        "    ordered=True\n",
        ").astype(\"category\")\n",
        "\n"
      ],
      "metadata": {
        "id": "9wiObROJm_GK"
      },
      "execution_count": null,
      "outputs": []
    },
    {
      "cell_type": "markdown",
      "source": [
        "## Fiting a model with the new variable\n",
        "- continuous\n",
        "- categorical"
      ],
      "metadata": {
        "id": "Hc4QTdgsb6D4"
      }
    },
    {
      "cell_type": "code",
      "source": [
        "# Continuous\n",
        "fml_cont = (\n",
        "    \"survived_num ~ nrelatives + I(nrelatives**2) + age_num + age_cont + log_fare + C(sex) \"\n",
        "    \"+ C(pclass) + C(embarked)\"\n",
        ")\n",
        "mod_cont = smf.glm(formula=fml_cont, data=data,\n",
        "                   family=sm.families.Binomial()).fit()\n",
        "print(mod_cont.summary())\n",
        "print(f\"AIC of continuous version: {mod_cont.aic}\")\n",
        "\n",
        "# Categorical\n",
        "fml_cat = (\"survived_num ~ C(nrelatives_bin) + \"\n",
        "            \"age_num + age_cont + log_fare + \"\n",
        "            \"C(sex) + C(pclass) + C(embarked)\")\n",
        "\n",
        "mod_cat = smf.glm(formula=fml_cat, data=data,\n",
        "                  family=sm.families.Binomial()).fit()\n",
        "print(mod_cat.summary())\n",
        "print(f\"AIC of categorical version: {mod_cat.aic}\")"
      ],
      "metadata": {
        "id": "Mgz9qNSkbNr4"
      },
      "execution_count": null,
      "outputs": []
    },
    {
      "cell_type": "markdown",
      "source": [
        "We can see that the bigger families are slightly disadvantaged."
      ],
      "metadata": {
        "id": "xsonpImqlV4C"
      }
    },
    {
      "cell_type": "markdown",
      "source": [
        "## <u>Best model selection</u>\n",
        "### Huraaayy to R"
      ],
      "metadata": {
        "id": "W1ofoQaOfh41"
      }
    },
    {
      "cell_type": "code",
      "source": [
        "!pip install -q -U rpy2\n",
        "\n",
        "# Magic\n",
        "%load_ext rpy2.ipython"
      ],
      "metadata": {
        "id": "E7nLlBtMtYRP"
      },
      "execution_count": null,
      "outputs": []
    },
    {
      "cell_type": "code",
      "source": [
        "data_r = data.copy()\n",
        "for c in data_r.select_dtypes(['category']).columns:\n",
        "    data_r[c] = data_r[c].astype(str)\n",
        "%R -i data_r"
      ],
      "metadata": {
        "id": "mZLlsqcfqmrx"
      },
      "execution_count": null,
      "outputs": []
    },
    {
      "cell_type": "markdown",
      "source": [
        "#### **Continuous and Categorical model**"
      ],
      "metadata": {
        "id": "75Njv8PNv4tE"
      }
    },
    {
      "cell_type": "code",
      "source": [
        "%%R\n",
        "library(MASS)\n",
        "df <- data_r\n",
        "\n",
        "# Factors\n",
        "factor_cols <- c(\"sex\", \"pclass\", \"embarked\", \"nrelatives_bin\")\n",
        "df[factor_cols] <- lapply(df[factor_cols], as.factor)\n",
        "\n",
        "# ontinuous nrelatives\n",
        "full_cont <- glm(\n",
        "  survived_num ~ nrelatives + I(nrelatives^2)\n",
        "                + age_cont + age_num\n",
        "                + log_fare             # or `fare` if you didn't log-transform\n",
        "                + sex + pclass + embarked,\n",
        "  data = df, family = binomial()\n",
        ")\n",
        "\n",
        "best_cont <- step(\n",
        "  full_cont,\n",
        "  scope = list(lower = ~1, upper = formula(full_cont)),\n",
        "  direction = \"both\",\n",
        "  trace = 0\n",
        ")\n",
        "cat(\"\\n=== Continuous relatives model ===\\n\")\n",
        "print(summary(best_cont))\n",
        "\n",
        "\n",
        "# Binned nrelatives\n",
        "full_bin <- glm(\n",
        "  survived_num ~ C(nrelatives_bin)\n",
        "                + age_cont + age_num\n",
        "                + log_fare            # keep consistent\n",
        "                + sex + pclass + embarked,\n",
        "  data = df, family = binomial()\n",
        ")\n",
        "\n",
        "best_bin <- step(\n",
        "  full_bin,\n",
        "  scope = list(lower = ~1, upper = formula(full_bin)),\n",
        "  direction = \"both\",\n",
        "  trace = 0\n",
        ")\n",
        "cat(\"\\n=== Binned relatives model ===\\n\")\n",
        "print(summary(best_bin))\n"
      ],
      "metadata": {
        "id": "krAs6SrstIjF"
      },
      "execution_count": null,
      "outputs": []
    },
    {
      "cell_type": "markdown",
      "source": [
        "#### Little comparison\n",
        "Comparing if including nrelatives in the first model is actually ok"
      ],
      "metadata": {
        "id": "185TsguuGSxh"
      }
    },
    {
      "cell_type": "code",
      "source": [
        "%%R\n",
        "m_full <- glm(survived_num ~ nrelatives + I(nrelatives^2) + age_cont + age_num\n",
        "              + sex + pclass + embarked, data=df, family=binomial)\n",
        "m_nolim <- update(m_full, . ~ . - nrelatives)\n",
        "\n",
        "anova(m_nolim, m_full, test=\"Chisq\")"
      ],
      "metadata": {
        "id": "SBOcGlBcGaLV"
      },
      "execution_count": null,
      "outputs": []
    },
    {
      "cell_type": "markdown",
      "source": [
        "Linear term is not statistically significant at 0.05 level, improvement in deviance is small.\n",
        "\n",
        "**Dropping the nrelatives term!**"
      ],
      "metadata": {
        "id": "AnSI10PPG2KO"
      }
    },
    {
      "cell_type": "code",
      "source": [
        "# %%R\n",
        "\n",
        "# max_fml <- survived_num ~\n",
        "#    (nrelatives +  age_num\n",
        "#     + log(fare+1)\n",
        "#     + sex + pclass + embarked)^2\n",
        "\n",
        "# full_mod <- glm(max_fml, data=df, family=binomial())\n",
        "# best_mod <- step(full_mod, direction=\"both\", trace=1,\n",
        "#                  scope=list(upper=full_mod, lower=~1))\n",
        "# summary(best_mod)"
      ],
      "metadata": {
        "collapsed": true,
        "id": "Gi6sGZ2VDC6Z"
      },
      "execution_count": null,
      "outputs": []
    },
    {
      "cell_type": "markdown",
      "source": [
        "### Back to Python!"
      ],
      "metadata": {
        "id": "gRdSGTtYwPnY"
      }
    },
    {
      "cell_type": "code",
      "source": [
        "import statsmodels.formula.api as smf\n",
        "import statsmodels.api as sm\n",
        "\n",
        "# Continuous\n",
        "fml_cont = (\n",
        "    \"survived_num ~ I(nrelatives**2) \"\n",
        "    \"+ age_cont + age_num \"\n",
        "    \"+ C(sex) + C(pclass) + C(embarked)\"\n",
        ")\n",
        "mod_cont = smf.glm(formula=fml_cont, data=data,\n",
        "                   family=sm.families.Binomial()).fit()\n",
        "print(mod_cont.summary())\n",
        "print(\"AIC (continuous):\", mod_cont.aic)\n",
        "\n",
        "# Binned\n",
        "fml_cat = (\n",
        "    \"survived_num ~ C(nrelatives_bin) \"\n",
        "    \"+ age_cont + age_num \"\n",
        "    \"+ C(sex) + C(pclass) + C(embarked)\"\n",
        ")\n",
        "mod_cat = smf.glm(formula=fml_cat, data=data,\n",
        "                     family=sm.families.Binomial()).fit()\n",
        "print(mod_cat.summary())\n",
        "print(\"AIC (binned):\", mod_cat.aic)\n"
      ],
      "metadata": {
        "id": "8fu4WEg-wO1K"
      },
      "execution_count": null,
      "outputs": []
    },
    {
      "cell_type": "markdown",
      "source": [
        "# <u>Model validation</u>"
      ],
      "metadata": {
        "id": "xakQBXcZfu60"
      }
    },
    {
      "cell_type": "markdown",
      "source": [
        "#### Using the helper file"
      ],
      "metadata": {
        "id": "iDDjFcIjodic"
      }
    },
    {
      "cell_type": "code",
      "source": [
        "!pip install wget\n",
        "import wget\n",
        "url = \"https://github.com/francji1/01ZLMA/raw/main/code/helpers.py\"\n",
        "wget.download(url, '../content/helpers.py')"
      ],
      "metadata": {
        "id": "BNoJsaxJoht3"
      },
      "execution_count": null,
      "outputs": []
    },
    {
      "cell_type": "markdown",
      "source": [
        "#### For Continuous model"
      ],
      "metadata": {
        "id": "4AA4HnotJyKb"
      }
    },
    {
      "cell_type": "code",
      "source": [
        "from helpers import DiagnosticPlots, Anova\n",
        "\n",
        "cls = DiagnosticPlots(mod_cont) # init\n",
        "cls(plot_context='seaborn-v0_8')\n",
        "\n",
        "\n",
        "# Does nrelatives improve fit?\n",
        "mod_nested = smf.glm(\n",
        "    \"survived_num ~ age_cont + age_num + C(sex) + C(pclass) + C(embarked)\",\n",
        "    data=data, family=sm.families.Binomial()).fit()\n",
        "print(Anova()(mod_nested, mod_cont, test='chisq'))"
      ],
      "metadata": {
        "id": "HX6mwbiCopG-"
      },
      "execution_count": null,
      "outputs": []
    },
    {
      "cell_type": "markdown",
      "source": [
        "Very low p-value, improves the deviance, nrelatives belongs in the model"
      ],
      "metadata": {
        "id": "gMMljxurKMeH"
      }
    },
    {
      "cell_type": "markdown",
      "source": [
        "#### For Categorical model"
      ],
      "metadata": {
        "id": "RAAnsuBMJ1mF"
      }
    },
    {
      "cell_type": "code",
      "source": [
        "from helpers import DiagnosticPlots, Anova\n",
        "\n",
        "cls = DiagnosticPlots(mod_cat) # init\n",
        "cls(plot_context='seaborn-v0_8')\n",
        "\n",
        "\n",
        "# Does nrelatives improve fit?\n",
        "mod_nested = smf.glm(\n",
        "    \"survived_num ~ age_cont + age_num + C(sex) + C(pclass) + C(embarked)\",\n",
        "    data=data, family=sm.families.Binomial()).fit()\n",
        "print(Anova()(mod_nested, mod_cont, test='chisq'))"
      ],
      "metadata": {
        "id": "L0VqeEbzJxPg"
      },
      "execution_count": null,
      "outputs": []
    },
    {
      "cell_type": "markdown",
      "source": [
        "Very low p-value, improves the deviance, binned nrelatives belongs in the model"
      ],
      "metadata": {
        "id": "o-nwxhJxJqnT"
      }
    },
    {
      "cell_type": "markdown",
      "source": [
        "#### Working responses\n",
        "\n",
        "Below function was **generated** by ChatGPT."
      ],
      "metadata": {
        "id": "kqiehlZTvuwM"
      }
    },
    {
      "cell_type": "code",
      "source": [
        "import numpy as np, pandas as pd, matplotlib.pyplot as plt, seaborn as sns\n",
        "import statsmodels.api as sm\n",
        "sns.set_theme()\n",
        "\n",
        "def link_diagnostics(glm_res, data, formula_rhs):\n",
        "    \"\"\"\n",
        "    Link-function diagnostic for a statsmodels GLMResults object.\n",
        "\n",
        "    1) Plots the working response z versus the linear predictor η.\n",
        "    2) Runs the Pregibon link test (adds η² term) and reports its p-value.\n",
        "\n",
        "    Parameters\n",
        "    ----------\n",
        "    glm_res : statsmodels.genmod.generalized_linear_model.GLMSResults\n",
        "        A fitted GLMResults (e.g. from smf.glm(...).fit()).\n",
        "    data : pandas.DataFrame\n",
        "        The original DataFrame used to fit the model; must contain the response column.\n",
        "    formula_rhs : str\n",
        "        The right-hand side of the model formula (everything after the \"~\"),\n",
        "        excluding the response. Used to construct the Pregibon test formula.\n",
        "    \"\"\"\n",
        "    # 1) compute η and μ\n",
        "    # ──────────────────────────────────────────────────────────────────────────\n",
        "    # linear predictor\n",
        "    eta = glm_res.predict(linear=True)\n",
        "    # fitted mean on original scale\n",
        "    mu  = glm_res.predict()\n",
        "\n",
        "    # 2) compute dμ/dη for the model’s link\n",
        "    # ──────────────────────────────────────────────────────────────────────────\n",
        "    link = glm_res.family.link\n",
        "\n",
        "    if isinstance(link, sm.families.links.logit):\n",
        "        # logistic: μ = exp(η)/(1+exp(η)), dμ/dη = μ(1−μ)\n",
        "        dmu_deta = mu * (1 - mu)\n",
        "\n",
        "    elif isinstance(link, sm.families.links.probit):\n",
        "        # probit: μ = Φ(η), dμ/dη = φ(η)  (standard normal pdf at η)\n",
        "        from scipy.stats import norm\n",
        "        dmu_deta = norm.pdf(eta)\n",
        "\n",
        "    elif isinstance(link, sm.families.links.cloglog):\n",
        "        # clog-log: μ = 1 − exp(−exp(η)), dμ/dη = exp(η) * exp(−exp(η))\n",
        "        dmu_deta = np.exp(eta) * np.exp(-np.exp(eta))\n",
        "\n",
        "    else:\n",
        "        # numeric fallback: central difference on the inverse link\n",
        "        inv_link = link.inverse\n",
        "        eps = 1e-6\n",
        "        dmu_deta = (inv_link(eta + eps) - inv_link(eta - eps)) / (2 * eps)\n",
        "\n",
        "    # 3) working response z = η + (y−μ)/μ′\n",
        "    # ──────────────────────────────────────────────────────────────────────────\n",
        "    y = data[glm_res.model.endog_names]\n",
        "    z = eta + (y - mu) / dmu_deta\n",
        "\n",
        "    # 4) plot z vs η\n",
        "    # ──────────────────────────────────────────────────────────────────────────\n",
        "    plt.figure(figsize=(6,6))\n",
        "    plt.scatter(eta, z, alpha=0.4)\n",
        "    sns.regplot(x=eta, y=z, lowess=True, scatter=False, color=\"red\")\n",
        "    mn, mx = np.nanmin(eta), np.nanmax(eta)\n",
        "    plt.plot([mn, mx], [mn, mx], \"--\", color=\"gray\", linewidth=1)\n",
        "    plt.xlabel(\"Linear predictor $\\eta$\")\n",
        "    plt.ylabel(\"Working response $z$\")\n",
        "    plt.title(\"Working response vs linear predictor\\n(link-function check)\")\n",
        "    plt.grid(True)\n",
        "    plt.show()\n",
        "\n",
        "    # 5) Pregibon link test: add η² to the model\n",
        "    # ──────────────────────────────────────────────────────────────────────────\n",
        "    df = data.copy()\n",
        "    df[\"_eta\"]  = eta\n",
        "    df[\"_eta2\"] = eta**2\n",
        "\n",
        "    preg_formula = f\"{glm_res.model.endog_names} ~ {formula_rhs} + _eta2\"\n",
        "    preg_mod = sm.GLM.from_formula(preg_formula, data=df,\n",
        "                                   family=glm_res.family).fit()\n",
        "\n",
        "    pval = preg_mod.pvalues[\"_eta2\"]\n",
        "    print(f\"Pregibon test p(_eta²) = {pval:.4g}\")\n",
        "    if pval < 0.05:\n",
        "        print(\"⇒ reject null: link may be misspecified.\")\n",
        "    else:\n",
        "        print(\"⇒ no evidence against the chosen link.\")\n",
        "\n",
        "\n",
        "rhs = \"I(nrelatives**2) + age_cont + age_num + C(sex) + C(pclass) + C(embarked)\"\n",
        "link_diagnostics(mod_cont, data, rhs)"
      ],
      "metadata": {
        "id": "r0JwyqDnvtr6"
      },
      "execution_count": null,
      "outputs": []
    },
    {
      "cell_type": "markdown",
      "source": [
        "#### **Trying a different link**: <u>CLogLog</u>\n"
      ],
      "metadata": {
        "id": "xMCbQ2OlLHrh"
      }
    },
    {
      "cell_type": "code",
      "source": [
        "from statsmodels.genmod.families.links import CLogLog\n",
        "\n",
        "# continuous\n",
        "fml_cont = (\n",
        "    \"survived_num ~ I(nrelatives**2) \"\n",
        "    \"+ age_cont + age_num \"\n",
        "    \"+ C(sex) + C(pclass) + C(embarked)\"\n",
        ")\n",
        "\n",
        "# fit with cloglog link\n",
        "mod_clog = smf.glm(\n",
        "    formula=fml_cont,\n",
        "    data=data,\n",
        "    family=sm.families.Binomial(link=CLogLog())\n",
        ").fit()\n",
        "\n",
        "print(mod_clog.summary())\n",
        "print(\"AIC (clog-log):\", mod_clog.aic)\n",
        "print(\"AIC (logit)  :\", mod_cont.aic)"
      ],
      "metadata": {
        "id": "8Z0rKkiaLLQK"
      },
      "execution_count": null,
      "outputs": []
    },
    {
      "cell_type": "code",
      "source": [
        "link_diagnostics(mod_clog, data, rhs)"
      ],
      "metadata": {
        "id": "_00rfZRBLy38"
      },
      "execution_count": null,
      "outputs": []
    },
    {
      "cell_type": "markdown",
      "source": [
        "This is actually much better, but i will still stick to logit for interpretability."
      ],
      "metadata": {
        "id": "VmRy9HzDMoe7"
      }
    },
    {
      "cell_type": "markdown",
      "source": [
        "# Density of fitted probabilities"
      ],
      "metadata": {
        "id": "hY9EvcbmfyaX"
      }
    },
    {
      "cell_type": "markdown",
      "source": [
        "### PDF of fitted and Confusion matrix"
      ],
      "metadata": {
        "id": "3TJBHnkHgCC4"
      }
    },
    {
      "cell_type": "code",
      "source": [
        "import numpy as np\n",
        "import matplotlib.pyplot as plt\n",
        "import seaborn as sns\n",
        "from sklearn.metrics import (\n",
        "    roc_curve, classification_report,\n",
        "    ConfusionMatrixDisplay, roc_auc_score\n",
        ")\n",
        "\n",
        "sns.set_theme()\n",
        "\n",
        "def evaluate_model(model, data, name=\"model\"):\n",
        "    # predicted probabilities\n",
        "    data = data.copy()\n",
        "    data[\"prob\"] = model.predict(data)\n",
        "\n",
        "    # density plot\n",
        "    plt.figure(figsize=(6,3))\n",
        "    sns.kdeplot(data=data, x=\"prob\", hue=\"survived\",\n",
        "                common_norm=False, fill=True)\n",
        "    plt.title(f\"{name} — predicted‐prob densities\")\n",
        "    plt.xlabel(\"predicted probability\")\n",
        "    plt.show()\n",
        "\n",
        "    # Youdens J threshold\n",
        "    fpr, tpr, thr = roc_curve(data.survived_num, data.prob)\n",
        "    opt = thr[np.argmax(tpr - fpr)]\n",
        "    print(f\"{name}  → chosen threshold = {opt:.3f}\")\n",
        "\n",
        "    # confusion matrix & report\n",
        "    y_pred = (data.prob >= opt).astype(int)\n",
        "    disp = ConfusionMatrixDisplay.from_predictions(\n",
        "        data.survived_num, y_pred, cmap=\"Blues\"\n",
        "    )\n",
        "    disp.ax_.set_title(f\"{name} @ thr {opt:.3f}\")\n",
        "    plt.show()\n",
        "    print(classification_report(data.survived_num, y_pred, digits=3))\n",
        "\n",
        "    # AUC\n",
        "    auc = roc_auc_score(data.survived_num, data.prob)\n",
        "    print(f\"{name}  → AUC = {auc:.3f}\\n\")\n",
        "    return opt, auc\n",
        "\n",
        "# Continuous\n",
        "opt_cont, auc_cont = evaluate_model(\n",
        "    mod_cont, data, name=\"Continuous‐relatives GLM\"\n",
        ")\n"
      ],
      "metadata": {
        "id": "UU7U-2FygFyP"
      },
      "execution_count": null,
      "outputs": []
    },
    {
      "cell_type": "code",
      "source": [
        "# Binned\n",
        "opt_bin, auc_bin = evaluate_model(\n",
        "    mod_cat, data, name=\"Binned‐relatives GLM\"\n",
        ")"
      ],
      "metadata": {
        "id": "rVwi-aavTHTw"
      },
      "execution_count": null,
      "outputs": []
    },
    {
      "cell_type": "markdown",
      "source": [
        "### ROC curves and AUC"
      ],
      "metadata": {
        "id": "en3KJCmkgLB5"
      }
    },
    {
      "cell_type": "code",
      "source": [
        "from sklearn.metrics import RocCurveDisplay, roc_auc_score, roc_curve\n",
        "\n",
        "# true labels\n",
        "y_true = data[\"survived_num\"]\n",
        "\n",
        "# predicted scores from your two models\n",
        "y_cont = mod_cont.predict(data)\n",
        "y_bin  = mod_cat.predict(data)\n",
        "\n",
        "# compute AUCs\n",
        "auc_cont = roc_auc_score(y_true, y_cont)\n",
        "auc_bin  = roc_auc_score(y_true, y_bin)\n",
        "print(f\"AUC (continuous relatives) = {auc_cont:.3f}\")\n",
        "print(f\"AUC (binned relatives)     = {auc_bin:.3f}\")\n",
        "\n",
        "# plot both ROC curves\n",
        "fig, ax = plt.subplots(figsize=(6,6))\n",
        "RocCurveDisplay.from_predictions(\n",
        "    y_true, y_cont,\n",
        "    name=\"Continuous\",\n",
        "    ax=ax\n",
        ")\n",
        "RocCurveDisplay.from_predictions(\n",
        "    y_true, y_bin,\n",
        "    name=\"Categorical\",\n",
        "    ax=ax\n",
        ")\n",
        "\n",
        "# random reference\n",
        "ax.plot([0,1], [0,1], \"--\", color=\"gray\", linewidth=1)\n",
        "ax.set_title(\"ROC Curves: Continuous vs Binned Relatives\")\n",
        "ax.grid(True)\n",
        "plt.show()"
      ],
      "metadata": {
        "id": "6KJNDj8MgPko"
      },
      "execution_count": null,
      "outputs": []
    },
    {
      "cell_type": "code",
      "source": [
        "from sklearn.model_selection import train_test_split\n",
        "from sklearn.calibration import CalibrationDisplay\n",
        "from sklearn.ensemble import RandomForestClassifier\n",
        "\n",
        "train, test = train_test_split(\n",
        "    data,\n",
        "    test_size=0.20,\n",
        "    stratify=data.survived_num,\n",
        "    random_state=42\n",
        ")\n",
        "\n",
        "# fit best GLM\n",
        "fml_best = (\n",
        "    \"survived_num ~ C(nrelatives_bin) + age_cont + age_num \"\n",
        "    \"+ C(sex) + C(pclass) + C(embarked)\"\n",
        ")\n",
        "best_tr = smf.glm(\n",
        "    fml_best,\n",
        "    data=train,\n",
        "    family=sm.families.Binomial(link=sm.families.links.logit())\n",
        ").fit()\n",
        "\n",
        "# predict\n",
        "test = test.copy()\n",
        "test[\"prob_glm\"] = best_tr.predict(test)\n",
        "\n",
        "# threshold\n",
        "fpr, tpr, thr = roc_curve(test.survived_num, test.prob_glm)\n",
        "opt_thr = thr[np.argmax(tpr - fpr)]\n",
        "\n",
        "# confusion matrix + class\n",
        "y_pred = (test.prob_glm >= opt_thr).astype(int)\n",
        "\n",
        "# ROC & AUC for GLM\n",
        "fpr_rf, tpr_rf, _ = roc_curve(test.survived_num, test.prob_glm)\n",
        "\n",
        "# Random Forest benchmark\n",
        "features = [\"nrelatives\", \"age_cont\", \"age_num\", \"log_fare\"]\n",
        "X_train = pd.get_dummies(train[features + [\"sex\",\"pclass\",\"embarked\"]], drop_first=True)\n",
        "y_train = train.survived_num\n",
        "X_test  = pd.get_dummies(test[features + [\"sex\",\"pclass\",\"embarked\"]], drop_first=True)\n",
        "X_test  = X_test.reindex(columns=X_train.columns, fill_value=0)\n",
        "y_test  = test.survived_num\n",
        "\n",
        "rf = RandomForestClassifier(n_estimators=200, random_state=42).fit(X_train, y_train)\n",
        "test[\"prob_rf\"] = rf.predict_proba(X_test)[:,1]\n",
        "\n",
        "# ROC & AUC for Random Forest\n",
        "fpr_rf, tpr_rf, _ = roc_curve(y_test, test.prob_rf)\n",
        "\n",
        "# Create figure with subplots\n",
        "fig, axes = plt.subplots(1, 3, figsize=(18, 6))\n",
        "\n",
        "# Confusion Matrix for GLM\n",
        "ConfusionMatrixDisplay.from_predictions(test.survived_num, y_pred, ax=axes[0])\n",
        "axes[0].set_title(f\"GLM @ thr {opt_thr:.2f}\")\n",
        "\n",
        "# ROC Curve: GLM vs RF\n",
        "sns.lineplot(x=fpr, y=tpr, ax=axes[1], label=f\"GLM (AUC={roc_auc_score(test.survived_num, test.prob_glm):.3f})\")\n",
        "sns.lineplot(x=fpr_rf, y=tpr_rf, ax=axes[1], label=f\"RF (AUC={roc_auc_score(y_test, test.prob_rf):.3f})\")\n",
        "axes[1].plot([0, 1], [0, 1], \"--\", color=\"gray\")\n",
        "axes[1].set_xlabel(\"False positive rate\")\n",
        "axes[1].set_ylabel(\"True positive rate\")\n",
        "axes[1].set_title(\"ROC: GLM vs RF\")\n",
        "axes[1].legend()\n",
        "\n",
        "# Calibration Curve for GLM\n",
        "CalibrationDisplay.from_predictions(test.survived_num, test.prob_glm, n_bins=8, ax=axes[2])\n",
        "CalibrationDisplay.from_predictions(y_test, test.prob_rf, n_bins=8, ax=axes[2])\n",
        "axes[2].set_title(\"Calibration: GLM vs RF\")\n",
        "\n",
        "# Show all plots\n",
        "plt.tight_layout()\n",
        "plt.show()\n",
        "\n",
        "# Print classification reports and Brier scores\n",
        "print(\"GLM classification report:\")\n",
        "print(classification_report(test.survived_num, y_pred, digits=3))\n",
        "print(\"GLM Brier score:\", brier_score_loss(test.survived_num, test.prob_glm))\n",
        "\n",
        "print(\"RF Brier score:\", brier_score_loss(y_test, test.prob_rf))"
      ],
      "metadata": {
        "id": "7Z_ibC5ZVB86"
      },
      "execution_count": null,
      "outputs": []
    }
  ],
  "metadata": {
    "colab": {
      "private_outputs": true,
      "provenance": [],
      "include_colab_link": true
    },
    "kernelspec": {
      "display_name": "Python 3 (ipykernel)",
      "language": "python",
      "name": "python3"
    },
    "language_info": {
      "codemirror_mode": {
        "name": "ipython",
        "version": 3
      },
      "file_extension": ".py",
      "mimetype": "text/x-python",
      "name": "python",
      "nbconvert_exporter": "python",
      "pygments_lexer": "ipython3",
      "version": "3.9.1"
    }
  },
  "nbformat": 4,
  "nbformat_minor": 0
}