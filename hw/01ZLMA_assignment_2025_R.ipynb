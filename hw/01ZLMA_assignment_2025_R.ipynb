{
  "cells": [
    {
      "cell_type": "markdown",
      "metadata": {
        "id": "view-in-github",
        "colab_type": "text"
      },
      "source": [
        "<a href=\"https://colab.research.google.com/github/francji1/01ZLMA/blob/main/hw/01ZLMA_assignment_2025_R.ipynb\" target=\"_parent\"><img src=\"https://colab.research.google.com/assets/colab-badge.svg\" alt=\"Open In Colab\"/></a>"
      ]
    },
    {
      "cell_type": "markdown",
      "metadata": {
        "id": "iNr4YK9LQTPT"
      },
      "source": [
        "# Assignment for Course 01ZLMA in 2024/2025"
      ]
    },
    {
      "cell_type": "markdown",
      "metadata": {
        "id": "tejiSy2K8D5-"
      },
      "source": [
        "The assignment should be completed on patient data where heart disease was diagnosed.\n",
        "\n",
        "The original dataset can be found here: https://archive.ics.uci.edu/ml/datasets/Heart+Disease\n",
        "\n",
        "Various analyses and visualizations of this dataset can also be found here: https://www.kaggle.com/ronitf/heart-disease-uci (another notation, different NaN manipulation, etc ...)\n",
        "\n",
        "However, for this assignment, the data have been slightly modified and split as available from the link below."
      ]
    },
    {
      "cell_type": "markdown",
      "metadata": {
        "id": "UPN8huFa9TXs"
      },
      "source": [
        "## 00 - Data description\n",
        "\n",
        "\n",
        "    age:\n",
        "    sex:\n",
        "        0: Female\n",
        "        1: Male\n",
        "    chest_pain_type: Chest Pain Type\n",
        "        0: asymptomatic\n",
        "        1: atypical angina\n",
        "        2: non-anginal pain\n",
        "        3: typical angina\n",
        "    blood_pressure: Resting Blood Pressure: Person's resting blood pressure\n",
        "    cholesterol: Serum Cholesterol in mg/dl\n",
        "    blood_sugar: Fasting Blood Sugar\n",
        "        0:Less Than 120mg/ml\n",
        "        1: Greater Than 120mg/ml\n",
        "    rest_ecg: Resting Electrocardiographic Measurement\n",
        "        0: showing probable or definite left ventricular hypertrophy by Estes' criteria\n",
        "        1: normal\n",
        "        2: having ST-T wave abnormality (T wave inversions and/or ST elevation or depression of > 0.05 mV)\n",
        "    heart_rate: Max Heart Rate Achieved: Maximum Heart Rate Achieved\n",
        "    ex_angina: Exercise Induced Angina\n",
        "        1: Yes\n",
        "        0: No\n",
        "    st_depression: ST depression induced by exercise relative to rest\n",
        "    st_slope: Slope of the peak exercise ST segment\n",
        "        0: downsloping\n",
        "        1: flat\n",
        "        2: upsloping\n",
        "    thal:  blood disorder called 'Thalassemia':\n",
        "        1: fixed defect\n",
        "        2: normal\n",
        "        3: reversable Defect\n",
        "    num_vessels: Number of Major Vessels: Number of major vessels colored by fluoroscopy\n"
      ]
    },
    {
      "cell_type": "markdown",
      "metadata": {
        "id": "qt-Sj0KJbzRx"
      },
      "source": [
        "### Loading and preprocessing data\n",
        "\n"
      ]
    },
    {
      "cell_type": "code",
      "execution_count": null,
      "metadata": {
        "id": "iejVKcFcTwIE"
      },
      "outputs": [],
      "source": [
        "library(tidyverse)\n",
        "library(knitr)"
      ]
    },
    {
      "cell_type": "code",
      "execution_count": null,
      "metadata": {
        "id": "VxBIs-aDYMxd"
      },
      "outputs": [],
      "source": [
        "data_train <- \"https://raw.githubusercontent.com/francji1/01ZLMA/main/data/heart_train.csv\"\n",
        "data_train  <- read.table(data_train, header = T, sep = \",\")\n",
        "head(data_train)"
      ]
    },
    {
      "cell_type": "code",
      "execution_count": null,
      "metadata": {
        "id": "9A3cpB71DbeX"
      },
      "outputs": [],
      "source": [
        "data_test <- \"https://raw.githubusercontent.com/francji1/01ZLMA/main/data/heart_test.csv\"\n",
        "data_test  <- read.table(data_test, header = T, sep = \",\")\n",
        "head(data_test)"
      ]
    },
    {
      "cell_type": "markdown",
      "metadata": {
        "id": "OLW3sGXWvqYw"
      },
      "source": [
        "### Creating an aggregated table"
      ]
    },
    {
      "cell_type": "code",
      "execution_count": null,
      "metadata": {
        "id": "0-jGCOkptI6E"
      },
      "outputs": [],
      "source": [
        "data_table <- data_train %>%\n",
        "   dplyr::select(age, sex, blood_pressure,disease) %>%\n",
        "   mutate(age             = cut(age, breaks=c(-Inf, 44,60, Inf),labels=c(\"30-45\",\"45-60\",\"60-75\")),\n",
        "          blood_pressure  = cut(blood_pressure, breaks=c(-Inf, 120,130,140,Inf),labels=c(\"100-120\",\"121-130\",\"131-140\",\"140-180\"))) %>%\n",
        "  group_by(age,blood_pressure) %>%\n",
        "  summarise(n = n(),\n",
        "         disease_yes = sum(disease),\n",
        "         disease_no = n - sum(disease)\n",
        "        )\n",
        "   data_table"
      ]
    },
    {
      "cell_type": "markdown",
      "metadata": {
        "id": "EgmJdEeF3nVh"
      },
      "source": [
        "## 01 - Graphical data visualization (optionally)\n",
        "\n",
        "Use `data_train` only,  for better work and more illustrative graphs, replace the code names of the factor variables with the descriptions from the assignment."
      ]
    },
    {
      "cell_type": "markdown",
      "metadata": {
        "id": "vMCUrJCh3-Lr"
      },
      "source": [
        "* Select the categorical variables, convert them to categories, and rename coded labels according to the data description.\n",
        "* Plot the discrete variables with histograms, using color to distinguish patients with and without heart disease (target 0/1).\n",
        "* For continuous variables, show two boxplots by response (with vs. without heart disease) and add pairwise scatterplots of the continuous variables, coloring points by response (with/without heart disease).\n",
        "\n"
      ]
    },
    {
      "cell_type": "code",
      "source": [],
      "metadata": {
        "id": "puDxUPEHy8NG"
      },
      "execution_count": null,
      "outputs": []
    },
    {
      "cell_type": "markdown",
      "metadata": {
        "id": "VZVWRKez4CEl"
      },
      "source": [
        "## 02 - Logistic regression on aggregated tabular data\n",
        "\n",
        "Use `data_table`.\n",
        "\n",
        "\n",
        "\n"
      ]
    },
    {
      "cell_type": "markdown",
      "metadata": {
        "id": "zYO0I9eJ614V"
      },
      "source": [
        "* Define the response for a binomial logistic model and fit the **null model** (intercept only). What are the **average odds** of heart disease in the sample, and what is the **probability** of heart disease?\n",
        "\n",
        "* Fit a model where heart disease depends **only on blood pressure**. Is blood pressure statistically significant at the 0.05 level? If yes, by how many times are the **odds** of heart disease higher for patients with blood pressure **140–180** compared to those with **100–120**?\n",
        "\n",
        "* Fit a model where heart disease depends **only on age**. Is age statistically significant at the 0.01 level? If yes, by how many times are the **odds** of heart disease higher for patients aged **60–75** compared to those aged **45–60**?\n",
        "\n",
        "* Assume the odds of heart disease increase **exponentially** with blood pressure and **exponentially** with age. Create corresponding **numeric continuous predictors** as the midpoints of the blood-pressure and age intervals. Fit a model where the odds depend on these numeric values **without interaction**. What is the **odds ratio** for two patients who differ by **10 years of age** but have the same blood pressure?\n",
        "\n",
        "* Test the previous model **against the saturated model**. Does this test make sense here? Add a short comment on the result.\n"
      ]
    },
    {
      "cell_type": "code",
      "source": [],
      "metadata": {
        "id": "nMaaEPlo7lYI"
      },
      "execution_count": null,
      "outputs": []
    },
    {
      "cell_type": "markdown",
      "metadata": {
        "id": "-__6HiYk65CB"
      },
      "source": [
        "## 03 - Poisson regression on aggregated tabular data\n",
        "\n",
        "Use `data_table`.\n"
      ]
    },
    {
      "cell_type": "markdown",
      "metadata": {
        "id": "ZC__j9ZiY-aG"
      },
      "source": [
        "* Reshape the table into the required format and fit a **purely additive log-linear model** for the **group counts**, assuming **mutual independence** among the three grouping predictors (**age**, **blood pressure**, **disease**).\n",
        "\n",
        "* From that model, what is the estimated **odds** of heart disease among all selected patients, and what is the estimated **probability** of heart disease?\n",
        "\n",
        "* Fit a model that includes **all pairwise interactions** among the classification variables and compare it to the previous **no-interaction** model. Is the interaction model **significantly better**?\n",
        "\n",
        "* Using the interaction model, what is the estimated **odds ratio** for heart disease for patients aged **60–75** compared to those aged **45–60**?\n",
        "\n",
        "* Fit the **saturated model** and print the **parameter estimates**. Is this model significantly better than the model with pairwise interactions?\n",
        "\n",
        "* Based on the saturated model, is the relationship between **blood pressure** and **heart disease** the **same across all age groups**, or does it differ?\n",
        "\n",
        "* In which **age category** is the **largest difference** in heart disease between people with **blood pressure < 120** and those with **blood pressure > 140**?\n"
      ]
    },
    {
      "cell_type": "code",
      "source": [],
      "metadata": {
        "id": "IjP5llcp7l3u"
      },
      "execution_count": null,
      "outputs": []
    },
    {
      "cell_type": "markdown",
      "metadata": {
        "id": "FvKc5AMX7IRJ"
      },
      "source": [
        "## 04 - Logistic regression - statistical approach\n",
        "\n",
        "Use `data_train`."
      ]
    },
    {
      "cell_type": "markdown",
      "metadata": {
        "id": "oJjsyaKi7ahB"
      },
      "source": [
        "* Print a **contingency table** for `sex` and `disease`. From that table, **by hand**, compute the **empirical odds ratio** for heart disease (men vs. women) and the **probability** of disease for women and for men. Compare these to a **logistic regression** with `sex` as the only predictor and `disease` as the response. For the odds ratio, also report a **95% confidence interval**, and comment on whether women have **significantly lower odds** of heart disease.\n",
        "\n",
        "* Print a **contingency table** for `chest_pain_type` and `disease`. From that table, **by hand**, compute the **empirical odds ratio** for heart disease comparing **type 0 (asymptomatic)** vs. **all other types**, and compute the **probability** of disease for each type. Compare these to a **logistic regression** with `chest_pain_type` as the only predictor and `disease` as the response. For the odds ratio, also report a **95% confidence interval**, and comment on whether patients with **asymptomatic** chest pain have **significantly lower odds** of heart disease than the other types.\n",
        "\n",
        "* Fit a model using **all available variables** (both categorical and numeric). Use **deviance tests** to **stepwise reduce** the model. Compare the final model to the model you would get using **automatic stepwise selection** (e.g., `step()`).\n",
        "\n",
        "* For your selected model, compute the **odds** of heart disease for **men vs. women**, including **95% confidence intervals**. Do the same for **asymptomatic chest pain** vs. **other types**. How did these results change compared to the simple models, and how would you **explain** the change?\n",
        "\n",
        "* Using your model, compute **predicted probabilities** of heart disease for the **test data** and, for the predictor `blood_pressure`, **plot prediction intervals / confidence bands** for the predictions.\n",
        "\n",
        "* Based on the **training data**, choose a suitable **threshold** for classifying **disease vs. no disease**. On the **test data**, compute **Accuracy** and draw the **ROC curve**.\n",
        "\n",
        "\n"
      ]
    },
    {
      "cell_type": "code",
      "source": [],
      "metadata": {
        "id": "ixmHTRyk7mco"
      },
      "execution_count": null,
      "outputs": []
    },
    {
      "cell_type": "markdown",
      "metadata": {
        "id": "36nAaDOb7lkB"
      },
      "source": [
        "## 05 - Logistic regression - machine learning approach\n",
        "\n",
        "Use  `data_train` and `data_test`."
      ]
    },
    {
      "cell_type": "markdown",
      "metadata": {
        "id": "EkAcASto71Wb"
      },
      "source": [
        "* Build a **pipeline** on the **training data** for logistic regression with **elastic-net regularization** that includes:\n",
        "  * Variable preparation: transformations, one-hot encoding, normalization, etc.\n",
        "  * Hyper-parameter search for the “optimal” regularization settings.\n",
        "  * **k-fold cross-validation**.\n",
        "\n",
        "* Using the pipeline/workflow, choose the hyper-parameter value. If the goal is to **detect patients with heart disease**, which statistic should we focus on to avoid **sending a sick patient home as healthy** (i.e., minimize this error)?\n",
        "\n",
        "* Compute and compare common **binary-classification metrics** on the **training** and **test** sets. Plot the **ROC curve** and compute the **AUC** for both the training and test data. What can we say about the model from **Section 05** compared to the model from **Section 04**?\n"
      ]
    },
    {
      "cell_type": "code",
      "source": [],
      "metadata": {
        "id": "Tl3TkyW47nDA"
      },
      "execution_count": null,
      "outputs": []
    }
  ],
  "metadata": {
    "colab": {
      "private_outputs": true,
      "provenance": [],
      "include_colab_link": true
    },
    "kernelspec": {
      "display_name": "R",
      "name": "ir"
    },
    "language_info": {
      "name": "R"
    }
  },
  "nbformat": 4,
  "nbformat_minor": 0
}